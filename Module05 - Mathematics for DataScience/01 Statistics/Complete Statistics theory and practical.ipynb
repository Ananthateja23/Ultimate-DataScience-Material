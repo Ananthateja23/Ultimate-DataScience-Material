{
 "cells": [
  {
   "cell_type": "code",
   "execution_count": 1,
   "id": "7f64305b-bd42-449e-aa48-03b946c398bc",
   "metadata": {},
   "outputs": [],
   "source": [
    "import numpy as np\n",
    "import pandas as pd"
   ]
  },
  {
   "cell_type": "markdown",
   "id": "e6c8b195-5a58-4e1f-9eb9-74f2fd5ddcd0",
   "metadata": {},
   "source": [
    "```\n",
    "Statistics:\n",
    "-----------\n",
    "\n",
    "(1) It is applicable only on structural data\n",
    "\n",
    "(2) Statistics means measuring and analysing the data\n",
    "\n",
    "(3) perform measure on population data then it is population parameter\n",
    "\n",
    "(4) perform measure on sample data then it is sample statistical measure\n",
    "\n",
    "(5) In real life ==> we have only sample data\n",
    "\n",
    "difference between population and sample:\n",
    "-----------------------------------------\n",
    "\n",
    "==> population means entire data where as sample means a small part of population data\n",
    "\n",
    "Example:\n",
    "--------\n",
    "\n",
    "Let us consider 100 students have a test\n",
    "\n",
    "- If total 100 students attended the test then it is called as population\n",
    "\n",
    "- If only 50 students attended the test then it is called as sample\n",
    "```"
   ]
  },
  {
   "cell_type": "markdown",
   "id": "57f46a7c-a828-4793-ac55-7bb9fcbfabdb",
   "metadata": {},
   "source": [
    "```\n",
    "Descriptive statistics:\n",
    "-----------------------\n",
    "\n",
    "--> Descriptive statistics means describing the data and calculating various measure on data\n",
    "\n",
    "--> If population data is available, then apply descriptive statistics\n",
    "\n",
    "--> If sample data is available then apply descriptive statistics + Inferential statistics\n",
    "\n",
    "Measure of central tendency:\n",
    "----------------------------\n",
    "\n",
    "(1) mean, median applicable on continuous data\n",
    "\n",
    "(2) mode applicable on discrete data\n",
    "\n",
    "\t- mode can be unimode(one), bi-mode(two), multimode(more than two)\n",
    "\n",
    "Example:\n",
    "--------\n",
    "\n",
    "df = pd.DataFrame({\"X\":[1,1,2,5,4,3],\"Y\":[1,1,2,3,4,4],\"Z\":[1,1,2,2,3,3],\"I\":[5,1,3,4,2,np.nan]})\n",
    "\n",
    "df\n",
    "\n",
    "df[\"X\"].mean()\n",
    "\n",
    "df[\"X\"].median()\n",
    "\n",
    "df[\"x\"].mode()---> only on discrete data\n",
    "\n",
    "```"
   ]
  },
  {
   "cell_type": "markdown",
   "id": "22b75a7a-8e57-48bf-9b5a-513a4f7755ab",
   "metadata": {},
   "source": [
    "# Measures of Central Tendency:"
   ]
  },
  {
   "cell_type": "code",
   "execution_count": 2,
   "id": "cb94a2b9-d93b-4888-a11f-c968de1fc73f",
   "metadata": {},
   "outputs": [
    {
     "data": {
      "text/html": [
       "<div>\n",
       "<style scoped>\n",
       "    .dataframe tbody tr th:only-of-type {\n",
       "        vertical-align: middle;\n",
       "    }\n",
       "\n",
       "    .dataframe tbody tr th {\n",
       "        vertical-align: top;\n",
       "    }\n",
       "\n",
       "    .dataframe thead th {\n",
       "        text-align: right;\n",
       "    }\n",
       "</style>\n",
       "<table border=\"1\" class=\"dataframe\">\n",
       "  <thead>\n",
       "    <tr style=\"text-align: right;\">\n",
       "      <th></th>\n",
       "      <th>x</th>\n",
       "    </tr>\n",
       "  </thead>\n",
       "  <tbody>\n",
       "    <tr>\n",
       "      <th>0</th>\n",
       "      <td>1</td>\n",
       "    </tr>\n",
       "    <tr>\n",
       "      <th>1</th>\n",
       "      <td>2</td>\n",
       "    </tr>\n",
       "    <tr>\n",
       "      <th>2</th>\n",
       "      <td>3</td>\n",
       "    </tr>\n",
       "    <tr>\n",
       "      <th>3</th>\n",
       "      <td>4</td>\n",
       "    </tr>\n",
       "    <tr>\n",
       "      <th>4</th>\n",
       "      <td>5</td>\n",
       "    </tr>\n",
       "  </tbody>\n",
       "</table>\n",
       "</div>"
      ],
      "text/plain": [
       "   x\n",
       "0  1\n",
       "1  2\n",
       "2  3\n",
       "3  4\n",
       "4  5"
      ]
     },
     "execution_count": 2,
     "metadata": {},
     "output_type": "execute_result"
    }
   ],
   "source": [
    "df = pd.DataFrame({'x':np.arange(1,6)})\n",
    "df"
   ]
  },
  {
   "cell_type": "code",
   "execution_count": 3,
   "id": "d37df803-dd3e-48f0-8677-0ab89a0dcba6",
   "metadata": {},
   "outputs": [
    {
     "data": {
      "text/plain": [
       "3.0"
      ]
     },
     "execution_count": 3,
     "metadata": {},
     "output_type": "execute_result"
    }
   ],
   "source": [
    "df['x'].mean()"
   ]
  },
  {
   "cell_type": "code",
   "execution_count": 4,
   "id": "07d0bc31-3cc4-4cd0-a369-7705f3a56900",
   "metadata": {},
   "outputs": [
    {
     "data": {
      "text/plain": [
       "3.0"
      ]
     },
     "execution_count": 4,
     "metadata": {},
     "output_type": "execute_result"
    }
   ],
   "source": [
    "df['x'].median()"
   ]
  },
  {
   "cell_type": "code",
   "execution_count": 5,
   "id": "0f8bf1ac-c4b1-4ae9-85e8-1034cac5cc17",
   "metadata": {},
   "outputs": [
    {
     "data": {
      "text/plain": [
       "0    1\n",
       "1    2\n",
       "2    3\n",
       "3    4\n",
       "4    5\n",
       "Name: x, dtype: int32"
      ]
     },
     "execution_count": 5,
     "metadata": {},
     "output_type": "execute_result"
    }
   ],
   "source": [
    "df['x'].mode()"
   ]
  },
  {
   "cell_type": "markdown",
   "id": "115e8539-5c70-4a00-846c-457ba798f229",
   "metadata": {},
   "source": [
    "```\n",
    "Measures of dispersion:\n",
    "-----------------------\n",
    "\n",
    "(1) It tells about distribution of data\n",
    "\n",
    "(2) It applicable to continous variable only\n",
    "\n",
    "(3) Range    : (maximum value)-(minimum value)\n",
    "\n",
    "(4) deviation: data deviated from mean or how data is dispersed from the centre value\n",
    "\n",
    "(5) for any dataset mean deviation will be zero\n",
    "\n",
    "(6) variance or mean square deviation both are same\n",
    "\n",
    "(7) square root of variance is called standard deviation\n",
    "\n",
    "(8) coefficient of variation is a ratio of standard deviation to the mean. The measure of variability of the dataset around its mean.\n",
    "\n",
    "(Q) what is bessel correction or what is the need of using (n-1) instead of n while calculating sample variance\n",
    "\n",
    "df = pd.DataFrame({\"x\":[1,2,3,4,5]})\n",
    "df\n",
    "df['x'].min()\n",
    "df['x'].max()\n",
    "df['x'].max()-df['x'].min()-----> Range\n",
    "df['x-u']=df['x']-df['x'].mean()\n",
    "df['x']\n",
    "df['x-u'].mean()-----> mean deviation\n",
    "df['(x-u)2']=df['x-u']*df['x-u']\n",
    "df\n",
    "df['(x-u)2'].mean()----> mean square deviation\n",
    "df['x'].var(ddof=0)----> variane or mean square deviation\n",
    "for math import sqrt\n",
    "sqrt(df['(x-u)2'].mean())---> standard deviation\n",
    "df['x'].std(ddof=0)-----> standard deviation\n",
    "df['x'].var(ddof=1)----->sample variance\n",
    "df['x'].std(ddof=1)----->sample standard deviation\n",
    "df['x'].std(ddof=0)/df['x'].mean()-----> coefficient of variation\n",
    "```"
   ]
  },
  {
   "cell_type": "markdown",
   "id": "d742978c-c743-449a-a395-491b18bbdd89",
   "metadata": {},
   "source": [
    "# Measure of Dispersion"
   ]
  },
  {
   "cell_type": "code",
   "execution_count": 6,
   "id": "7fe5717c-f3bd-432b-a308-de4ae111da47",
   "metadata": {},
   "outputs": [
    {
     "data": {
      "text/html": [
       "<div>\n",
       "<style scoped>\n",
       "    .dataframe tbody tr th:only-of-type {\n",
       "        vertical-align: middle;\n",
       "    }\n",
       "\n",
       "    .dataframe tbody tr th {\n",
       "        vertical-align: top;\n",
       "    }\n",
       "\n",
       "    .dataframe thead th {\n",
       "        text-align: right;\n",
       "    }\n",
       "</style>\n",
       "<table border=\"1\" class=\"dataframe\">\n",
       "  <thead>\n",
       "    <tr style=\"text-align: right;\">\n",
       "      <th></th>\n",
       "      <th>x</th>\n",
       "    </tr>\n",
       "  </thead>\n",
       "  <tbody>\n",
       "    <tr>\n",
       "      <th>0</th>\n",
       "      <td>1</td>\n",
       "    </tr>\n",
       "    <tr>\n",
       "      <th>1</th>\n",
       "      <td>2</td>\n",
       "    </tr>\n",
       "    <tr>\n",
       "      <th>2</th>\n",
       "      <td>3</td>\n",
       "    </tr>\n",
       "    <tr>\n",
       "      <th>3</th>\n",
       "      <td>4</td>\n",
       "    </tr>\n",
       "    <tr>\n",
       "      <th>4</th>\n",
       "      <td>5</td>\n",
       "    </tr>\n",
       "  </tbody>\n",
       "</table>\n",
       "</div>"
      ],
      "text/plain": [
       "   x\n",
       "0  1\n",
       "1  2\n",
       "2  3\n",
       "3  4\n",
       "4  5"
      ]
     },
     "execution_count": 6,
     "metadata": {},
     "output_type": "execute_result"
    }
   ],
   "source": [
    "df = pd.DataFrame({'x':np.arange(1,6)})\n",
    "df"
   ]
  },
  {
   "cell_type": "code",
   "execution_count": 8,
   "id": "3a2995ca-9f3c-42d3-8d5b-20057c5376a5",
   "metadata": {},
   "outputs": [
    {
     "data": {
      "text/html": [
       "<div>\n",
       "<style scoped>\n",
       "    .dataframe tbody tr th:only-of-type {\n",
       "        vertical-align: middle;\n",
       "    }\n",
       "\n",
       "    .dataframe tbody tr th {\n",
       "        vertical-align: top;\n",
       "    }\n",
       "\n",
       "    .dataframe thead th {\n",
       "        text-align: right;\n",
       "    }\n",
       "</style>\n",
       "<table border=\"1\" class=\"dataframe\">\n",
       "  <thead>\n",
       "    <tr style=\"text-align: right;\">\n",
       "      <th></th>\n",
       "      <th>x</th>\n",
       "      <th>(x-u)</th>\n",
       "    </tr>\n",
       "  </thead>\n",
       "  <tbody>\n",
       "    <tr>\n",
       "      <th>0</th>\n",
       "      <td>1</td>\n",
       "      <td>-2.0</td>\n",
       "    </tr>\n",
       "    <tr>\n",
       "      <th>1</th>\n",
       "      <td>2</td>\n",
       "      <td>-1.0</td>\n",
       "    </tr>\n",
       "    <tr>\n",
       "      <th>2</th>\n",
       "      <td>3</td>\n",
       "      <td>0.0</td>\n",
       "    </tr>\n",
       "    <tr>\n",
       "      <th>3</th>\n",
       "      <td>4</td>\n",
       "      <td>1.0</td>\n",
       "    </tr>\n",
       "    <tr>\n",
       "      <th>4</th>\n",
       "      <td>5</td>\n",
       "      <td>2.0</td>\n",
       "    </tr>\n",
       "  </tbody>\n",
       "</table>\n",
       "</div>"
      ],
      "text/plain": [
       "   x  (x-u)\n",
       "0  1   -2.0\n",
       "1  2   -1.0\n",
       "2  3    0.0\n",
       "3  4    1.0\n",
       "4  5    2.0"
      ]
     },
     "execution_count": 8,
     "metadata": {},
     "output_type": "execute_result"
    }
   ],
   "source": [
    "df['(x-u)'] = df['x']-df['x'].mean()\n",
    "df"
   ]
  },
  {
   "cell_type": "code",
   "execution_count": 9,
   "id": "b56dcd95-537c-4a1d-b914-207f7bdee4fc",
   "metadata": {},
   "outputs": [
    {
     "data": {
      "text/plain": [
       "0.0"
      ]
     },
     "execution_count": 9,
     "metadata": {},
     "output_type": "execute_result"
    }
   ],
   "source": [
    "df['(x-u)'].mean()"
   ]
  },
  {
   "cell_type": "code",
   "execution_count": 10,
   "id": "dfd678f7-165b-4940-8a28-2ff4e19df558",
   "metadata": {},
   "outputs": [
    {
     "data": {
      "text/html": [
       "<div>\n",
       "<style scoped>\n",
       "    .dataframe tbody tr th:only-of-type {\n",
       "        vertical-align: middle;\n",
       "    }\n",
       "\n",
       "    .dataframe tbody tr th {\n",
       "        vertical-align: top;\n",
       "    }\n",
       "\n",
       "    .dataframe thead th {\n",
       "        text-align: right;\n",
       "    }\n",
       "</style>\n",
       "<table border=\"1\" class=\"dataframe\">\n",
       "  <thead>\n",
       "    <tr style=\"text-align: right;\">\n",
       "      <th></th>\n",
       "      <th>x</th>\n",
       "      <th>(x-u)</th>\n",
       "      <th>(x-u)2</th>\n",
       "    </tr>\n",
       "  </thead>\n",
       "  <tbody>\n",
       "    <tr>\n",
       "      <th>0</th>\n",
       "      <td>1</td>\n",
       "      <td>-2.0</td>\n",
       "      <td>4.0</td>\n",
       "    </tr>\n",
       "    <tr>\n",
       "      <th>1</th>\n",
       "      <td>2</td>\n",
       "      <td>-1.0</td>\n",
       "      <td>1.0</td>\n",
       "    </tr>\n",
       "    <tr>\n",
       "      <th>2</th>\n",
       "      <td>3</td>\n",
       "      <td>0.0</td>\n",
       "      <td>0.0</td>\n",
       "    </tr>\n",
       "    <tr>\n",
       "      <th>3</th>\n",
       "      <td>4</td>\n",
       "      <td>1.0</td>\n",
       "      <td>1.0</td>\n",
       "    </tr>\n",
       "    <tr>\n",
       "      <th>4</th>\n",
       "      <td>5</td>\n",
       "      <td>2.0</td>\n",
       "      <td>4.0</td>\n",
       "    </tr>\n",
       "  </tbody>\n",
       "</table>\n",
       "</div>"
      ],
      "text/plain": [
       "   x  (x-u)  (x-u)2\n",
       "0  1   -2.0     4.0\n",
       "1  2   -1.0     1.0\n",
       "2  3    0.0     0.0\n",
       "3  4    1.0     1.0\n",
       "4  5    2.0     4.0"
      ]
     },
     "execution_count": 10,
     "metadata": {},
     "output_type": "execute_result"
    }
   ],
   "source": [
    "df['(x-u)2'] = df['(x-u)']**2\n",
    "df"
   ]
  },
  {
   "cell_type": "code",
   "execution_count": 11,
   "id": "81ff8e0f-7140-4ca3-9757-13bb6de436cd",
   "metadata": {},
   "outputs": [
    {
     "data": {
      "text/plain": [
       "2.0"
      ]
     },
     "execution_count": 11,
     "metadata": {},
     "output_type": "execute_result"
    }
   ],
   "source": [
    "df['(x-u)2'].mean()"
   ]
  },
  {
   "cell_type": "code",
   "execution_count": 12,
   "id": "5dbec273-cc79-421f-8507-f487eaabd5b2",
   "metadata": {},
   "outputs": [
    {
     "data": {
      "text/plain": [
       "1.4142135623730951"
      ]
     },
     "execution_count": 12,
     "metadata": {},
     "output_type": "execute_result"
    }
   ],
   "source": [
    "from math import sqrt\n",
    "rmsd = sqrt(df['(x-u)2'].mean())\n",
    "rmsd"
   ]
  },
  {
   "cell_type": "code",
   "execution_count": 13,
   "id": "423fb847-34a2-44ef-81c5-c4675d3c1a82",
   "metadata": {},
   "outputs": [
    {
     "data": {
      "text/plain": [
       "2.0"
      ]
     },
     "execution_count": 13,
     "metadata": {},
     "output_type": "execute_result"
    }
   ],
   "source": [
    "df['x'].var(ddof=0)"
   ]
  },
  {
   "cell_type": "code",
   "execution_count": 14,
   "id": "7d636394-7343-4bef-86f5-572eaeba76fc",
   "metadata": {},
   "outputs": [
    {
     "data": {
      "text/plain": [
       "1.4142135623730951"
      ]
     },
     "execution_count": 14,
     "metadata": {},
     "output_type": "execute_result"
    }
   ],
   "source": [
    "df['x'].std(ddof=0)"
   ]
  },
  {
   "cell_type": "code",
   "execution_count": 15,
   "id": "8b8f441c-f4b4-4650-a093-e53f085d3586",
   "metadata": {},
   "outputs": [
    {
     "data": {
      "text/plain": [
       "2.5"
      ]
     },
     "execution_count": 15,
     "metadata": {},
     "output_type": "execute_result"
    }
   ],
   "source": [
    "df['x'].var(ddof=1)"
   ]
  },
  {
   "cell_type": "code",
   "execution_count": 16,
   "id": "11e5b66d-4e56-4de4-a758-d841d3a4627d",
   "metadata": {},
   "outputs": [
    {
     "data": {
      "text/plain": [
       "1.5811388300841898"
      ]
     },
     "execution_count": 16,
     "metadata": {},
     "output_type": "execute_result"
    }
   ],
   "source": [
    "df['x'].std(ddof=1)"
   ]
  },
  {
   "cell_type": "code",
   "execution_count": 17,
   "id": "8cb1665c-a67b-4655-8a37-0634c2ed4fb6",
   "metadata": {},
   "outputs": [
    {
     "data": {
      "text/plain": [
       "0.47140452079103173"
      ]
     },
     "execution_count": 17,
     "metadata": {},
     "output_type": "execute_result"
    }
   ],
   "source": [
    "df['x'].std(ddof=0)/df['x'].mean()"
   ]
  },
  {
   "cell_type": "markdown",
   "id": "78a1ac8e-4c8f-48c9-b119-73ddf0523cf0",
   "metadata": {},
   "source": [
    "# Percentile:\n",
    "    It describes the percentage of values that falls at or below to you"
   ]
  },
  {
   "cell_type": "markdown",
   "id": "11aee6ff-4bd0-4a1b-b7e5-82c9656e5206",
   "metadata": {},
   "source": [
    "```\n",
    "df = pd.DataFrame({\"x\":[10,11,12,25,25,27,31,33,34,36,36,43,50,59})\n",
    "df\n",
    "df['x'].quantile(0)\n",
    "Q1=df['x'].quantile(0.25)\n",
    "Q2=d['x'].quantile(0.5)\n",
    "Q3=df['x'].quantile(0.75)\n",
    "df['x'].quantile(1)\n",
    "IQR = Q3-Q1\n",
    "IQR\n",
    "ll = Q1-(1.5*IQR)\n",
    "ll\n",
    "ul = Q3+(1.5*IQR)\n",
    "ul\n",
    "df[(df['x']<ll) | (df['x']>ul)]\n",
    "\n",
    "Note:\n",
    "-----\n",
    "\n",
    "- mean and standard deviation will have an effect with outlier where as median and IQR has no impact with outliers\n",
    "- mean (no outlier)\n",
    "- median (outlier)\n",
    "- standarddeviation (no outlier)\n",
    "- IQR (outlier)\n",
    "```"
   ]
  },
  {
   "cell_type": "markdown",
   "id": "e6ac2fdb-3ff8-4654-aa1f-53e24e21f5b8",
   "metadata": {},
   "source": [
    "```\n",
    "Outlier:\n",
    "--------\n",
    "\n",
    "-- Outliers are datapoints that lies outside the overall distribution of the dataset\n",
    "-- We can check the outlier by boxplot\n",
    "\n",
    "Causes of outliers:\n",
    "-------------------\n",
    "\n",
    "-- It will affects the statistical analysis\n",
    "-- It may cause significantly more impact on mean and standard deviation, less impact on median and IQR\n",
    "\n",
    "Reasons for outliers:\n",
    "---------------------\n",
    "\n",
    "-- Data entry error\n",
    "-- Instrumental error\n",
    "\n",
    "calculate the ouliers: \n",
    "----------------------\n",
    "\n",
    "-- datavalue < lowerlimit(Q1-1.5*IQR)\n",
    "-- datavalue > upperlimit(Q3+1.5*IQR)\n",
    "\n",
    "Extract outliers:\n",
    "-----------------\n",
    "\n",
    "df[(df['x']<lowerlimit)|(df['x']>upperlimit)]\n",
    "len(df[(df['x']<lowerlimit)|(df['x']>upperlimit)])\n",
    "```"
   ]
  },
  {
   "cell_type": "code",
   "execution_count": 19,
   "id": "0a138e1b-f20e-4010-b53a-bc5db6cbe4a8",
   "metadata": {},
   "outputs": [
    {
     "data": {
      "text/html": [
       "<div>\n",
       "<style scoped>\n",
       "    .dataframe tbody tr th:only-of-type {\n",
       "        vertical-align: middle;\n",
       "    }\n",
       "\n",
       "    .dataframe tbody tr th {\n",
       "        vertical-align: top;\n",
       "    }\n",
       "\n",
       "    .dataframe thead th {\n",
       "        text-align: right;\n",
       "    }\n",
       "</style>\n",
       "<table border=\"1\" class=\"dataframe\">\n",
       "  <thead>\n",
       "    <tr style=\"text-align: right;\">\n",
       "      <th></th>\n",
       "      <th>x</th>\n",
       "    </tr>\n",
       "  </thead>\n",
       "  <tbody>\n",
       "    <tr>\n",
       "      <th>0</th>\n",
       "      <td>10</td>\n",
       "    </tr>\n",
       "    <tr>\n",
       "      <th>1</th>\n",
       "      <td>11</td>\n",
       "    </tr>\n",
       "    <tr>\n",
       "      <th>2</th>\n",
       "      <td>12</td>\n",
       "    </tr>\n",
       "    <tr>\n",
       "      <th>3</th>\n",
       "      <td>25</td>\n",
       "    </tr>\n",
       "    <tr>\n",
       "      <th>4</th>\n",
       "      <td>25</td>\n",
       "    </tr>\n",
       "    <tr>\n",
       "      <th>5</th>\n",
       "      <td>27</td>\n",
       "    </tr>\n",
       "    <tr>\n",
       "      <th>6</th>\n",
       "      <td>31</td>\n",
       "    </tr>\n",
       "    <tr>\n",
       "      <th>7</th>\n",
       "      <td>33</td>\n",
       "    </tr>\n",
       "    <tr>\n",
       "      <th>8</th>\n",
       "      <td>34</td>\n",
       "    </tr>\n",
       "    <tr>\n",
       "      <th>9</th>\n",
       "      <td>36</td>\n",
       "    </tr>\n",
       "    <tr>\n",
       "      <th>10</th>\n",
       "      <td>36</td>\n",
       "    </tr>\n",
       "    <tr>\n",
       "      <th>11</th>\n",
       "      <td>43</td>\n",
       "    </tr>\n",
       "    <tr>\n",
       "      <th>12</th>\n",
       "      <td>50</td>\n",
       "    </tr>\n",
       "    <tr>\n",
       "      <th>13</th>\n",
       "      <td>59</td>\n",
       "    </tr>\n",
       "  </tbody>\n",
       "</table>\n",
       "</div>"
      ],
      "text/plain": [
       "     x\n",
       "0   10\n",
       "1   11\n",
       "2   12\n",
       "3   25\n",
       "4   25\n",
       "5   27\n",
       "6   31\n",
       "7   33\n",
       "8   34\n",
       "9   36\n",
       "10  36\n",
       "11  43\n",
       "12  50\n",
       "13  59"
      ]
     },
     "execution_count": 19,
     "metadata": {},
     "output_type": "execute_result"
    }
   ],
   "source": [
    "df1 = pd.DataFrame({\"x\":[10,11,12,25,25,27,31,33,34,36,36,43,50,59]})\n",
    "df1"
   ]
  },
  {
   "cell_type": "code",
   "execution_count": 25,
   "id": "deec5a17-faad-4320-9360-053365b2d0ae",
   "metadata": {},
   "outputs": [
    {
     "data": {
      "text/plain": [
       "10.0"
      ]
     },
     "execution_count": 25,
     "metadata": {},
     "output_type": "execute_result"
    }
   ],
   "source": [
    "df1['x'].quantile(0)"
   ]
  },
  {
   "cell_type": "code",
   "execution_count": 26,
   "id": "14c5b478-c849-4cc5-9f9d-ff3912da9441",
   "metadata": {},
   "outputs": [
    {
     "data": {
      "text/plain": [
       "25.0"
      ]
     },
     "execution_count": 26,
     "metadata": {},
     "output_type": "execute_result"
    }
   ],
   "source": [
    "Q1 = df1['x'].quantile(0.25)\n",
    "Q1"
   ]
  },
  {
   "cell_type": "code",
   "execution_count": 27,
   "id": "81979d82-7dcc-4be0-b72b-2835ef1bea15",
   "metadata": {},
   "outputs": [
    {
     "data": {
      "text/plain": [
       "32.0"
      ]
     },
     "execution_count": 27,
     "metadata": {},
     "output_type": "execute_result"
    }
   ],
   "source": [
    "Q2 = df1['x'].quantile(0.5)\n",
    "Q2"
   ]
  },
  {
   "cell_type": "code",
   "execution_count": 28,
   "id": "3548378b-78aa-43cb-ae77-360e9ca0a7ed",
   "metadata": {},
   "outputs": [
    {
     "data": {
      "text/plain": [
       "36.0"
      ]
     },
     "execution_count": 28,
     "metadata": {},
     "output_type": "execute_result"
    }
   ],
   "source": [
    "Q3 = df1['x'].quantile(0.75)\n",
    "Q3"
   ]
  },
  {
   "cell_type": "code",
   "execution_count": 29,
   "id": "1ebfecbc-2317-4c3a-a773-3473429745a8",
   "metadata": {},
   "outputs": [
    {
     "data": {
      "text/plain": [
       "59.0"
      ]
     },
     "execution_count": 29,
     "metadata": {},
     "output_type": "execute_result"
    }
   ],
   "source": [
    "df1['x'].quantile(1)"
   ]
  },
  {
   "cell_type": "code",
   "execution_count": 30,
   "id": "cee1da43-3f72-4023-901c-e748056556fa",
   "metadata": {},
   "outputs": [
    {
     "data": {
      "text/plain": [
       "11.0"
      ]
     },
     "execution_count": 30,
     "metadata": {},
     "output_type": "execute_result"
    }
   ],
   "source": [
    "IQR = Q3 - Q1\n",
    "IQR"
   ]
  },
  {
   "cell_type": "code",
   "execution_count": 31,
   "id": "3d15770f-9cbf-4aaf-8c73-66bb126930c0",
   "metadata": {},
   "outputs": [
    {
     "data": {
      "text/plain": [
       "8.5"
      ]
     },
     "execution_count": 31,
     "metadata": {},
     "output_type": "execute_result"
    }
   ],
   "source": [
    "ll = Q1-(1.5*IQR)\n",
    "ll"
   ]
  },
  {
   "cell_type": "code",
   "execution_count": 32,
   "id": "e98c8f30-0996-47d0-9e36-6251a7238e46",
   "metadata": {},
   "outputs": [
    {
     "data": {
      "text/plain": [
       "52.5"
      ]
     },
     "execution_count": 32,
     "metadata": {},
     "output_type": "execute_result"
    }
   ],
   "source": [
    "Ul = Q3+(1.5*IQR)\n",
    "Ul"
   ]
  },
  {
   "cell_type": "code",
   "execution_count": 33,
   "id": "fff08908-c967-43f0-87e0-40163273282a",
   "metadata": {},
   "outputs": [
    {
     "data": {
      "text/html": [
       "<div>\n",
       "<style scoped>\n",
       "    .dataframe tbody tr th:only-of-type {\n",
       "        vertical-align: middle;\n",
       "    }\n",
       "\n",
       "    .dataframe tbody tr th {\n",
       "        vertical-align: top;\n",
       "    }\n",
       "\n",
       "    .dataframe thead th {\n",
       "        text-align: right;\n",
       "    }\n",
       "</style>\n",
       "<table border=\"1\" class=\"dataframe\">\n",
       "  <thead>\n",
       "    <tr style=\"text-align: right;\">\n",
       "      <th></th>\n",
       "      <th>x</th>\n",
       "    </tr>\n",
       "  </thead>\n",
       "  <tbody>\n",
       "    <tr>\n",
       "      <th>13</th>\n",
       "      <td>59</td>\n",
       "    </tr>\n",
       "  </tbody>\n",
       "</table>\n",
       "</div>"
      ],
      "text/plain": [
       "     x\n",
       "13  59"
      ]
     },
     "execution_count": 33,
     "metadata": {},
     "output_type": "execute_result"
    }
   ],
   "source": [
    "df1[(df1['x']<ll)|(df1['x']>Ul)]"
   ]
  },
  {
   "cell_type": "code",
   "execution_count": 34,
   "id": "08313f0c-ce2d-492c-b7e0-3e1450a6b2af",
   "metadata": {},
   "outputs": [
    {
     "data": {
      "text/plain": [
       "<Axes: >"
      ]
     },
     "execution_count": 34,
     "metadata": {},
     "output_type": "execute_result"
    },
    {
     "data": {
      "image/png": "[encoded data removed]",
      "text/plain": [
       "<Figure size 640x480 with 1 Axes>"
      ]
     },
     "metadata": {},
     "output_type": "display_data"
    }
   ],
   "source": [
    "import seaborn as sns\n",
    "sns.boxplot(df1['x'])"
   ]
  },
  {
   "cell_type": "code",
   "execution_count": 36,
   "id": "ed88e755-1d0b-4433-8c0d-95aa1cf1a4f9",
   "metadata": {},
   "outputs": [
    {
     "data": {
      "text/plain": [
       "<Axes: xlabel='x'>"
      ]
     },
     "execution_count": 36,
     "metadata": {},
     "output_type": "execute_result"
    },
    {
     "data": {
      "image/png": "[encoded data removed]",
      "text/plain": [
       "<Figure size 640x480 with 1 Axes>"
      ]
     },
     "metadata": {},
     "output_type": "display_data"
    }
   ],
   "source": [
    "sns.boxplot(x=df1['x'])"
   ]
  },
  {
   "cell_type": "markdown",
   "id": "619181a9-de66-4795-afac-e2db45107744",
   "metadata": {},
   "source": [
    "# Measures of Shape"
   ]
  },
  {
   "cell_type": "markdown",
   "id": "e8a97fb4-c07a-449a-af45-1cb3e183b908",
   "metadata": {},
   "source": [
    "```\n",
    "Frequency distribution:\n",
    "-----------------------\n",
    "\n",
    "--Graphical representation of variable with corresponding frequency.\n",
    "\n",
    "(1)Discrete Frequency distribution\n",
    "\n",
    "Example:\n",
    "--------\n",
    "\n",
    "df['gender'].unique()\n",
    "df['gender'].value_counts()\n",
    "sns.countplot(x=df['x'])\n",
    "sns.countplot(x=df['x'],stat='probability')\n",
    "\n",
    "(2)Continuous frequency distribution\n",
    "\n",
    "df['marks'].describe()\n",
    "sns.histplot(x=df['marks'],bins=7,stat='count')\n",
    "sns.histplot(x=df['marks'],bins=7,stat='probability')\n",
    "sns.histplot(x=df['marks'],bins=7,stat='count',cumulative=True)\n",
    "sns.histplot(x=df['marks'],bins=7,stat='probability',cumulative=True)\n",
    "\n",
    "uniform distribution:\n",
    "---------------------\n",
    "\n",
    "- Applicable on continuous variable\n",
    "- each interval have same number of frequency value then it is uniform distribution.\n",
    "- every uniform distribution is a symmetrical distribution by default.\n",
    "\n",
    "Continuous frequency distribution:\n",
    "----------------------------------\n",
    "\n",
    "(1) uniform distribution\n",
    "(2) Nonuniform distribution\t==> symmetrical(Normal) or Nonsymmetrical(skewed)\n",
    "\n",
    "skewness:\n",
    "---------\n",
    "formula: n/(n-1)*(n-2)sigma(x-bar(x))^3/s^3\n",
    "\n",
    "code:df['x'].skew()\n",
    "\n",
    "(1) skewness = 0     ==> perfect normal distribution\n",
    "(2) -1<=skewness<=1  ==> normal distribution\n",
    "(3) skewness < -1    ==> left skewed\n",
    "(4) skewness > 1     ==> right skewed\n",
    "\n",
    "distribution with mean,median:\n",
    "------------------------------\n",
    "\n",
    "(1) mean==median for normal distribution\n",
    "(2) mean>median  for right skewed distirbution\n",
    "(3) mean<median for left skewed distribution\n",
    "               \n",
    "points to remember:\n",
    "-------------------\n",
    "(1) probability of a single value is always zero. Prediction always should be in a interval.\n",
    "(2) probability is also equal to density in statistics.\n",
    "\n",
    "To check normal distribution:\n",
    "-----------------------------\n",
    "               \n",
    "(1) skewness------------------------------->df['columnn'].skew()\n",
    "(2) mean and median------------------------>df['column'].describe()\n",
    "(3) histogram------------------------------>sns.histplot(df['column'],bins=no of bars)\n",
    "(4) distribution curve or density curve---->sns.kdeplot(df['column'])\n",
    "kde---> kernel density estimation curve\n",
    "```"
   ]
  },
  {
   "cell_type": "markdown",
   "id": "c4b76e21-f102-47ef-af10-77ba218fde04",
   "metadata": {},
   "source": [
    "```\n",
    "import pandas as pd\n",
    "import seaborn as sns\n",
    "df = pd.DataFrame({\n",
    "    'ud': [9,9.1,9.15,9.2,9.35,9.34,9.4,9.45,9.55,9.65,9.6,9.7,9.8,9.85,9.9,10],\n",
    "    'x': [0,11,12,21,22,23,31,32,38,39,47,48,49,58,59,70],\n",
    "    'y': [0,11,12,21,22,23,24,28,29,33,34,35,37,44,59,70],\n",
    "    'z': [0,11,12,21,22,23,34,38,49,43,44,45,47,54,59,70]\n",
    "})\n",
    "df\n",
    "df['ud'].describe()---> It shows the max,min values to create class interval. size=(max-min)/(# bins)\n",
    "sns.histplot(df['ud'],bins=4)---> uniform distribution\n",
    "\n",
    "To check the normal distribution:\n",
    "---------------------------------\n",
    "\n",
    "df['x'].skew()\n",
    "df['x'].describe()\n",
    "sns.histplot(df['x'],bins=7)\n",
    "sns.kdeplot(df['x'])\n",
    "\n",
    "df['y'].skew()\n",
    "df['y'].describe()\n",
    "sns.histplot(df['y'],bins=7)\n",
    "sns.kdeplot(df['y'])\n",
    "\n",
    "df['z'].skew()\n",
    "df['z'].describe()\n",
    "sns.histplot(df['z'],bins=7)\n",
    "sns.kdeplot(df['z'])\n",
    "```"
   ]
  },
  {
   "cell_type": "code",
   "execution_count": 37,
   "id": "a193c13e-5c5b-43c0-b88f-2c86a5b9792a",
   "metadata": {},
   "outputs": [
    {
     "data": {
      "text/html": [
       "<div>\n",
       "<style scoped>\n",
       "    .dataframe tbody tr th:only-of-type {\n",
       "        vertical-align: middle;\n",
       "    }\n",
       "\n",
       "    .dataframe tbody tr th {\n",
       "        vertical-align: top;\n",
       "    }\n",
       "\n",
       "    .dataframe thead th {\n",
       "        text-align: right;\n",
       "    }\n",
       "</style>\n",
       "<table border=\"1\" class=\"dataframe\">\n",
       "  <thead>\n",
       "    <tr style=\"text-align: right;\">\n",
       "      <th></th>\n",
       "      <th>ud</th>\n",
       "      <th>x</th>\n",
       "      <th>y</th>\n",
       "      <th>z</th>\n",
       "    </tr>\n",
       "  </thead>\n",
       "  <tbody>\n",
       "    <tr>\n",
       "      <th>0</th>\n",
       "      <td>9.00</td>\n",
       "      <td>0</td>\n",
       "      <td>0</td>\n",
       "      <td>0</td>\n",
       "    </tr>\n",
       "    <tr>\n",
       "      <th>1</th>\n",
       "      <td>9.10</td>\n",
       "      <td>11</td>\n",
       "      <td>11</td>\n",
       "      <td>11</td>\n",
       "    </tr>\n",
       "    <tr>\n",
       "      <th>2</th>\n",
       "      <td>9.15</td>\n",
       "      <td>12</td>\n",
       "      <td>12</td>\n",
       "      <td>12</td>\n",
       "    </tr>\n",
       "    <tr>\n",
       "      <th>3</th>\n",
       "      <td>9.20</td>\n",
       "      <td>21</td>\n",
       "      <td>21</td>\n",
       "      <td>21</td>\n",
       "    </tr>\n",
       "    <tr>\n",
       "      <th>4</th>\n",
       "      <td>9.35</td>\n",
       "      <td>22</td>\n",
       "      <td>22</td>\n",
       "      <td>22</td>\n",
       "    </tr>\n",
       "    <tr>\n",
       "      <th>5</th>\n",
       "      <td>9.34</td>\n",
       "      <td>23</td>\n",
       "      <td>23</td>\n",
       "      <td>23</td>\n",
       "    </tr>\n",
       "    <tr>\n",
       "      <th>6</th>\n",
       "      <td>9.40</td>\n",
       "      <td>31</td>\n",
       "      <td>24</td>\n",
       "      <td>34</td>\n",
       "    </tr>\n",
       "    <tr>\n",
       "      <th>7</th>\n",
       "      <td>9.45</td>\n",
       "      <td>32</td>\n",
       "      <td>28</td>\n",
       "      <td>38</td>\n",
       "    </tr>\n",
       "    <tr>\n",
       "      <th>8</th>\n",
       "      <td>9.55</td>\n",
       "      <td>38</td>\n",
       "      <td>29</td>\n",
       "      <td>49</td>\n",
       "    </tr>\n",
       "    <tr>\n",
       "      <th>9</th>\n",
       "      <td>9.65</td>\n",
       "      <td>39</td>\n",
       "      <td>33</td>\n",
       "      <td>43</td>\n",
       "    </tr>\n",
       "    <tr>\n",
       "      <th>10</th>\n",
       "      <td>9.60</td>\n",
       "      <td>47</td>\n",
       "      <td>34</td>\n",
       "      <td>44</td>\n",
       "    </tr>\n",
       "    <tr>\n",
       "      <th>11</th>\n",
       "      <td>9.70</td>\n",
       "      <td>48</td>\n",
       "      <td>35</td>\n",
       "      <td>45</td>\n",
       "    </tr>\n",
       "    <tr>\n",
       "      <th>12</th>\n",
       "      <td>9.80</td>\n",
       "      <td>49</td>\n",
       "      <td>37</td>\n",
       "      <td>47</td>\n",
       "    </tr>\n",
       "    <tr>\n",
       "      <th>13</th>\n",
       "      <td>9.85</td>\n",
       "      <td>58</td>\n",
       "      <td>44</td>\n",
       "      <td>54</td>\n",
       "    </tr>\n",
       "    <tr>\n",
       "      <th>14</th>\n",
       "      <td>9.90</td>\n",
       "      <td>59</td>\n",
       "      <td>59</td>\n",
       "      <td>59</td>\n",
       "    </tr>\n",
       "    <tr>\n",
       "      <th>15</th>\n",
       "      <td>10.00</td>\n",
       "      <td>70</td>\n",
       "      <td>70</td>\n",
       "      <td>70</td>\n",
       "    </tr>\n",
       "  </tbody>\n",
       "</table>\n",
       "</div>"
      ],
      "text/plain": [
       "       ud   x   y   z\n",
       "0    9.00   0   0   0\n",
       "1    9.10  11  11  11\n",
       "2    9.15  12  12  12\n",
       "3    9.20  21  21  21\n",
       "4    9.35  22  22  22\n",
       "5    9.34  23  23  23\n",
       "6    9.40  31  24  34\n",
       "7    9.45  32  28  38\n",
       "8    9.55  38  29  49\n",
       "9    9.65  39  33  43\n",
       "10   9.60  47  34  44\n",
       "11   9.70  48  35  45\n",
       "12   9.80  49  37  47\n",
       "13   9.85  58  44  54\n",
       "14   9.90  59  59  59\n",
       "15  10.00  70  70  70"
      ]
     },
     "execution_count": 37,
     "metadata": {},
     "output_type": "execute_result"
    }
   ],
   "source": [
    "import pandas as pd\n",
    "import seaborn as sns\n",
    "df2 = pd.DataFrame({\n",
    "    'ud': [9,9.1,9.15,9.2,9.35,9.34,9.4,9.45,9.55,9.65,9.6,9.7,9.8,9.85,9.9,10],\n",
    "    'x': [0,11,12,21,22,23,31,32,38,39,47,48,49,58,59,70],\n",
    "    'y': [0,11,12,21,22,23,24,28,29,33,34,35,37,44,59,70],\n",
    "    'z': [0,11,12,21,22,23,34,38,49,43,44,45,47,54,59,70]\n",
    "})\n",
    "df2"
   ]
  },
  {
   "cell_type": "code",
   "execution_count": 38,
   "id": "2b25ea1d-5819-4350-8315-45379652fe49",
   "metadata": {},
   "outputs": [
    {
     "data": {
      "text/plain": [
       "Index(['ud', 'x', 'y', 'z'], dtype='object')"
      ]
     },
     "execution_count": 38,
     "metadata": {},
     "output_type": "execute_result"
    }
   ],
   "source": [
    "df2.columns"
   ]
  },
  {
   "cell_type": "code",
   "execution_count": 39,
   "id": "a77d63de-9be1-49cc-b248-661a5d2f6888",
   "metadata": {},
   "outputs": [
    {
     "data": {
      "text/plain": [
       "count    16.00000\n",
       "mean      9.50250\n",
       "std       0.30337\n",
       "min       9.00000\n",
       "25%       9.30500\n",
       "50%       9.50000\n",
       "75%       9.72500\n",
       "max      10.00000\n",
       "Name: ud, dtype: float64"
      ]
     },
     "execution_count": 39,
     "metadata": {},
     "output_type": "execute_result"
    }
   ],
   "source": [
    "df2['ud'].describe()"
   ]
  },
  {
   "cell_type": "code",
   "execution_count": 40,
   "id": "d3f22dd1-8853-438f-9897-4b2a779ea4e1",
   "metadata": {},
   "outputs": [
    {
     "data": {
      "text/plain": [
       "-0.017601216085090795"
      ]
     },
     "execution_count": 40,
     "metadata": {},
     "output_type": "execute_result"
    }
   ],
   "source": [
    "df2['ud'].skew()"
   ]
  },
  {
   "cell_type": "code",
   "execution_count": 41,
   "id": "d43c3448-424e-4e7d-b843-feea10d822a7",
   "metadata": {},
   "outputs": [
    {
     "data": {
      "text/plain": [
       "count    16.000000\n",
       "mean     35.000000\n",
       "std      19.541409\n",
       "min       0.000000\n",
       "25%      21.750000\n",
       "50%      35.000000\n",
       "75%      48.250000\n",
       "max      70.000000\n",
       "Name: x, dtype: float64"
      ]
     },
     "execution_count": 41,
     "metadata": {},
     "output_type": "execute_result"
    }
   ],
   "source": [
    "df2['x'].describe()"
   ]
  },
  {
   "cell_type": "code",
   "execution_count": 42,
   "id": "95c3e876-0747-40cc-ad26-5ede8e5321fe",
   "metadata": {},
   "outputs": [
    {
     "data": {
      "text/plain": [
       "0.0"
      ]
     },
     "execution_count": 42,
     "metadata": {},
     "output_type": "execute_result"
    }
   ],
   "source": [
    "df2['x'].skew()"
   ]
  },
  {
   "cell_type": "code",
   "execution_count": 43,
   "id": "7f7076cc-6fd5-4daa-b569-72026832a293",
   "metadata": {},
   "outputs": [
    {
     "name": "stderr",
     "output_type": "stream",
     "text": [
      "C:\\Users\\ANANTH\\anaconda3\\Lib\\site-packages\\seaborn\\_oldcore.py:1119: FutureWarning: use_inf_as_na option is deprecated and will be removed in a future version. Convert inf values to NaN before operating instead.\n",
      "  with pd.option_context('mode.use_inf_as_na', True):\n"
     ]
    },
    {
     "data": {
      "text/plain": [
       "<Axes: xlabel='x', ylabel='Count'>"
      ]
     },
     "execution_count": 43,
     "metadata": {},
     "output_type": "execute_result"
    },
    {
     "data": {
      "image/png": "[encoded data removed]",
      "text/plain": [
       "<Figure size 640x480 with 1 Axes>"
      ]
     },
     "metadata": {},
     "output_type": "display_data"
    }
   ],
   "source": [
    "sns.histplot(df2['x'],bins=7)"
   ]
  },
  {
   "cell_type": "code",
   "execution_count": 44,
   "id": "9ebdc13b-3604-47ca-b515-0e4ced462b7c",
   "metadata": {},
   "outputs": [
    {
     "name": "stderr",
     "output_type": "stream",
     "text": [
      "C:\\Users\\ANANTH\\anaconda3\\Lib\\site-packages\\seaborn\\_oldcore.py:1119: FutureWarning: use_inf_as_na option is deprecated and will be removed in a future version. Convert inf values to NaN before operating instead.\n",
      "  with pd.option_context('mode.use_inf_as_na', True):\n"
     ]
    },
    {
     "data": {
      "text/plain": [
       "<Axes: xlabel='x', ylabel='Density'>"
      ]
     },
     "execution_count": 44,
     "metadata": {},
     "output_type": "execute_result"
    },
    {
     "data": {
      "image/png": "[encoded data removed]",
      "text/plain": [
       "<Figure size 640x480 with 1 Axes>"
      ]
     },
     "metadata": {},
     "output_type": "display_data"
    }
   ],
   "source": [
    "sns.kdeplot(df2['x'])"
   ]
  },
  {
   "cell_type": "code",
   "execution_count": 45,
   "id": "72f4f22c-5259-4d6e-915f-911831db5040",
   "metadata": {},
   "outputs": [
    {
     "data": {
      "text/plain": [
       "0.6978985152470283"
      ]
     },
     "execution_count": 45,
     "metadata": {},
     "output_type": "execute_result"
    }
   ],
   "source": [
    "df2['y'].skew()"
   ]
  },
  {
   "cell_type": "code",
   "execution_count": 46,
   "id": "8c855cec-caee-4cd2-a6b9-0b2be17cefb2",
   "metadata": {},
   "outputs": [
    {
     "data": {
      "text/plain": [
       "count    16.000000\n",
       "mean     30.125000\n",
       "std      17.427469\n",
       "min       0.000000\n",
       "25%      21.750000\n",
       "50%      28.500000\n",
       "75%      35.500000\n",
       "max      70.000000\n",
       "Name: y, dtype: float64"
      ]
     },
     "execution_count": 46,
     "metadata": {},
     "output_type": "execute_result"
    }
   ],
   "source": [
    "df2['y'].describe()"
   ]
  },
  {
   "cell_type": "code",
   "execution_count": 47,
   "id": "b7213abc-28c3-4773-a9e1-161491a83186",
   "metadata": {},
   "outputs": [
    {
     "name": "stderr",
     "output_type": "stream",
     "text": [
      "C:\\Users\\ANANTH\\anaconda3\\Lib\\site-packages\\seaborn\\_oldcore.py:1119: FutureWarning: use_inf_as_na option is deprecated and will be removed in a future version. Convert inf values to NaN before operating instead.\n",
      "  with pd.option_context('mode.use_inf_as_na', True):\n"
     ]
    },
    {
     "data": {
      "text/plain": [
       "<Axes: xlabel='y', ylabel='Count'>"
      ]
     },
     "execution_count": 47,
     "metadata": {},
     "output_type": "execute_result"
    },
    {
     "data": {
      "image/png": "[encoded data removed]",
      "text/plain": [
       "<Figure size 640x480 with 1 Axes>"
      ]
     },
     "metadata": {},
     "output_type": "display_data"
    }
   ],
   "source": [
    "sns.histplot(df2['y'],bins=7)"
   ]
  },
  {
   "cell_type": "code",
   "execution_count": 48,
   "id": "6aef0831-352c-4321-adc9-b64ce52f8575",
   "metadata": {},
   "outputs": [
    {
     "name": "stderr",
     "output_type": "stream",
     "text": [
      "C:\\Users\\ANANTH\\anaconda3\\Lib\\site-packages\\seaborn\\_oldcore.py:1119: FutureWarning: use_inf_as_na option is deprecated and will be removed in a future version. Convert inf values to NaN before operating instead.\n",
      "  with pd.option_context('mode.use_inf_as_na', True):\n"
     ]
    },
    {
     "data": {
      "text/plain": [
       "<Axes: xlabel='y', ylabel='Density'>"
      ]
     },
     "execution_count": 48,
     "metadata": {},
     "output_type": "execute_result"
    },
    {
     "data": {
      "image/png": "[encoded data removed]",
      "text/plain": [
       "<Figure size 640x480 with 1 Axes>"
      ]
     },
     "metadata": {},
     "output_type": "display_data"
    }
   ],
   "source": [
    "sns.kdeplot(df2['y'])"
   ]
  },
  {
   "cell_type": "code",
   "execution_count": 49,
   "id": "567136d9-36bf-4887-813c-d5509886d67d",
   "metadata": {},
   "outputs": [
    {
     "data": {
      "text/plain": [
       "-0.18882851815445098"
      ]
     },
     "execution_count": 49,
     "metadata": {},
     "output_type": "execute_result"
    }
   ],
   "source": [
    "df2['z'].skew()"
   ]
  },
  {
   "cell_type": "code",
   "execution_count": 50,
   "id": "1d961a2f-9038-4a69-9031-66d616a0d5ff",
   "metadata": {},
   "outputs": [
    {
     "data": {
      "text/plain": [
       "count    16.000000\n",
       "mean     35.750000\n",
       "std      19.299396\n",
       "min       0.000000\n",
       "25%      21.750000\n",
       "50%      40.500000\n",
       "75%      47.500000\n",
       "max      70.000000\n",
       "Name: z, dtype: float64"
      ]
     },
     "execution_count": 50,
     "metadata": {},
     "output_type": "execute_result"
    }
   ],
   "source": [
    "df2['z'].describe()"
   ]
  },
  {
   "cell_type": "code",
   "execution_count": 51,
   "id": "24241665-6f99-4306-8986-01fcc7936a06",
   "metadata": {},
   "outputs": [
    {
     "name": "stderr",
     "output_type": "stream",
     "text": [
      "C:\\Users\\ANANTH\\anaconda3\\Lib\\site-packages\\seaborn\\_oldcore.py:1119: FutureWarning: use_inf_as_na option is deprecated and will be removed in a future version. Convert inf values to NaN before operating instead.\n",
      "  with pd.option_context('mode.use_inf_as_na', True):\n"
     ]
    },
    {
     "data": {
      "text/plain": [
       "<Axes: xlabel='z', ylabel='Count'>"
      ]
     },
     "execution_count": 51,
     "metadata": {},
     "output_type": "execute_result"
    },
    {
     "data": {
      "image/png": "[encoded data removed]",
      "text/plain": [
       "<Figure size 640x480 with 1 Axes>"
      ]
     },
     "metadata": {},
     "output_type": "display_data"
    }
   ],
   "source": [
    "sns.histplot(df2['z'],bins=7)"
   ]
  },
  {
   "cell_type": "code",
   "execution_count": 52,
   "id": "46db70f0-cae5-4031-bc1c-7b6083c6001f",
   "metadata": {},
   "outputs": [
    {
     "name": "stderr",
     "output_type": "stream",
     "text": [
      "C:\\Users\\ANANTH\\anaconda3\\Lib\\site-packages\\seaborn\\_oldcore.py:1119: FutureWarning: use_inf_as_na option is deprecated and will be removed in a future version. Convert inf values to NaN before operating instead.\n",
      "  with pd.option_context('mode.use_inf_as_na', True):\n"
     ]
    },
    {
     "data": {
      "text/plain": [
       "<Axes: xlabel='z', ylabel='Density'>"
      ]
     },
     "execution_count": 52,
     "metadata": {},
     "output_type": "execute_result"
    },
    {
     "data": {
      "image/png": "[encoded data removed]",
      "text/plain": [
       "<Figure size 640x480 with 1 Axes>"
      ]
     },
     "metadata": {},
     "output_type": "display_data"
    }
   ],
   "source": [
    "sns.kdeplot(df2['z'])"
   ]
  },
  {
   "cell_type": "markdown",
   "id": "42cefbbb-a619-4187-ac18-39c2386fdd65",
   "metadata": {},
   "source": [
    "```\n",
    "z-score:\n",
    "--------\n",
    "\n",
    "z-score(Z) = (x-mean)/std\n",
    "\n",
    "standardization---> converting all the x value to z-score\n",
    "z-distribution----> distribution of z-score is called z-distribution\n",
    "\n",
    "code(1): (df['x']-df['x'].mean())/(df['x'].std(ddof=0)\n",
    "code(2): from sklearn.preprocessing import StandardScaler\n",
    "         StandardScaler().fit_transform(df[['x']])\n",
    "         pd.DataFrame(StandardScaler().fit_transform(df[['x']]))---> It gives dataframe as input\n",
    "```"
   ]
  },
  {
   "cell_type": "code",
   "execution_count": 53,
   "id": "5baaf35f-5d46-4b87-9866-15d7de27bb98",
   "metadata": {},
   "outputs": [
    {
     "data": {
      "text/html": [
       "<div>\n",
       "<style scoped>\n",
       "    .dataframe tbody tr th:only-of-type {\n",
       "        vertical-align: middle;\n",
       "    }\n",
       "\n",
       "    .dataframe tbody tr th {\n",
       "        vertical-align: top;\n",
       "    }\n",
       "\n",
       "    .dataframe thead th {\n",
       "        text-align: right;\n",
       "    }\n",
       "</style>\n",
       "<table border=\"1\" class=\"dataframe\">\n",
       "  <thead>\n",
       "    <tr style=\"text-align: right;\">\n",
       "      <th></th>\n",
       "      <th>x</th>\n",
       "    </tr>\n",
       "  </thead>\n",
       "  <tbody>\n",
       "    <tr>\n",
       "      <th>0</th>\n",
       "      <td>1</td>\n",
       "    </tr>\n",
       "    <tr>\n",
       "      <th>1</th>\n",
       "      <td>2</td>\n",
       "    </tr>\n",
       "    <tr>\n",
       "      <th>2</th>\n",
       "      <td>3</td>\n",
       "    </tr>\n",
       "    <tr>\n",
       "      <th>3</th>\n",
       "      <td>4</td>\n",
       "    </tr>\n",
       "    <tr>\n",
       "      <th>4</th>\n",
       "      <td>5</td>\n",
       "    </tr>\n",
       "  </tbody>\n",
       "</table>\n",
       "</div>"
      ],
      "text/plain": [
       "   x\n",
       "0  1\n",
       "1  2\n",
       "2  3\n",
       "3  4\n",
       "4  5"
      ]
     },
     "execution_count": 53,
     "metadata": {},
     "output_type": "execute_result"
    }
   ],
   "source": [
    "df = pd.DataFrame({'x':np.arange(1,6)})\n",
    "df"
   ]
  },
  {
   "cell_type": "code",
   "execution_count": 54,
   "id": "bf1b0c6e-cbfb-41f5-80de-6e1011142146",
   "metadata": {},
   "outputs": [
    {
     "data": {
      "text/plain": [
       "0   -1.414214\n",
       "1   -0.707107\n",
       "2    0.000000\n",
       "3    0.707107\n",
       "4    1.414214\n",
       "Name: x, dtype: float64"
      ]
     },
     "execution_count": 54,
     "metadata": {},
     "output_type": "execute_result"
    }
   ],
   "source": [
    "(df['x']-df['x'].mean())/df['x'].std(ddof=0)"
   ]
  },
  {
   "cell_type": "code",
   "execution_count": 55,
   "id": "40fe81c5-e3f7-45d0-9601-28f52feec149",
   "metadata": {},
   "outputs": [
    {
     "data": {
      "text/plain": [
       "array([[-1.41421356],\n",
       "       [-0.70710678],\n",
       "       [ 0.        ],\n",
       "       [ 0.70710678],\n",
       "       [ 1.41421356]])"
      ]
     },
     "execution_count": 55,
     "metadata": {},
     "output_type": "execute_result"
    }
   ],
   "source": [
    "from sklearn.preprocessing import StandardScaler\n",
    "StandardScaler().fit_transform(df[['x']])"
   ]
  },
  {
   "cell_type": "code",
   "execution_count": 56,
   "id": "6feed492-88f8-4d3e-a5e2-6ade4322abb8",
   "metadata": {},
   "outputs": [
    {
     "data": {
      "text/html": [
       "<div>\n",
       "<style scoped>\n",
       "    .dataframe tbody tr th:only-of-type {\n",
       "        vertical-align: middle;\n",
       "    }\n",
       "\n",
       "    .dataframe tbody tr th {\n",
       "        vertical-align: top;\n",
       "    }\n",
       "\n",
       "    .dataframe thead th {\n",
       "        text-align: right;\n",
       "    }\n",
       "</style>\n",
       "<table border=\"1\" class=\"dataframe\">\n",
       "  <thead>\n",
       "    <tr style=\"text-align: right;\">\n",
       "      <th></th>\n",
       "      <th>0</th>\n",
       "    </tr>\n",
       "  </thead>\n",
       "  <tbody>\n",
       "    <tr>\n",
       "      <th>0</th>\n",
       "      <td>-1.414214</td>\n",
       "    </tr>\n",
       "    <tr>\n",
       "      <th>1</th>\n",
       "      <td>-0.707107</td>\n",
       "    </tr>\n",
       "    <tr>\n",
       "      <th>2</th>\n",
       "      <td>0.000000</td>\n",
       "    </tr>\n",
       "    <tr>\n",
       "      <th>3</th>\n",
       "      <td>0.707107</td>\n",
       "    </tr>\n",
       "    <tr>\n",
       "      <th>4</th>\n",
       "      <td>1.414214</td>\n",
       "    </tr>\n",
       "  </tbody>\n",
       "</table>\n",
       "</div>"
      ],
      "text/plain": [
       "          0\n",
       "0 -1.414214\n",
       "1 -0.707107\n",
       "2  0.000000\n",
       "3  0.707107\n",
       "4  1.414214"
      ]
     },
     "execution_count": 56,
     "metadata": {},
     "output_type": "execute_result"
    }
   ],
   "source": [
    "pd.DataFrame(StandardScaler().fit_transform(df[['x']]))"
   ]
  },
  {
   "cell_type": "markdown",
   "id": "9955cf4e-f3e7-4fd9-a74e-45823f02902e",
   "metadata": {},
   "source": [
    "```\n",
    "Probability:\n",
    "------------\n",
    "\n",
    "-- Defines the chance of occurences. range is 0 to 1.\n",
    "-- sum of probabilities is equal to one.\n",
    "    \n",
    "p(req) = (no of records satisfies your req)/(total no of records)\n",
    "\n",
    "points to remember:\n",
    "-------------------\n",
    "\n",
    "(1) probability of single value continuous variable is always zero. Prediction always should be in a interval.\n",
    "(2) probability is also equal to density in statistics.\n",
    "\n",
    "To calculate probability on continuous variable:\n",
    "------------------------------------------------\n",
    "\n",
    "Option(1): \n",
    "----------\n",
    "\n",
    "If entire data value was given, then calculate by applying the formula.\n",
    "\n",
    "P(requirement) = (no of records satisfys the requirement)/(total no of records)\n",
    "\n",
    "Option(2):\n",
    "----------\n",
    "\n",
    "If entire data values are not given, just they mention data is normally distributed then also we can calculate probability by using zscore concept.\n",
    "\n",
    "\n",
    "Steps to calculate the probability:\n",
    "-----------------------------------\n",
    "\n",
    "(1) write down the given information of mean and standard deviation.\n",
    "(2) Calculate z value upto two decimal by using z score formula.\n",
    "(3) open the z table and check the probability corresponding to z score value.\n",
    "\n",
    "Calculating the probability:\n",
    "----------------------------\n",
    "\n",
    "(P1)\n",
    "Given that:\n",
    "data is normal distribution\n",
    "mean = 60\n",
    "std  = 10\n",
    "p(x<49)--->?\n",
    "\n",
    "z(49) = (49-60)/10 = -1.10\n",
    "\n",
    "from scipy import stats\n",
    "stats.norm.cdf(-1.1)---->0.135\n",
    "\n",
    "(P2) The normal distributed data with mean 70 and standard devaition 10 find the area between 70 and 90.\n",
    "\n",
    "Z(70) = (70-70)/10 = 0.00\n",
    "\n",
    "stats.norm.cdf(0.00)---->0.5\n",
    "\n",
    "Z(90) = (90-70)/10 = 2.00\n",
    "\n",
    "stats.norm.cdf(2.00)---->0.9772\n",
    "\n",
    "stats.norm.cdf(2.00)-stats.norm.cdf(0.00)---->0.4772\n",
    "\n",
    "Point to remember:\n",
    "------------------\n",
    "\n",
    "for normal distribution, we have 68-95-99.7% rule.\n",
    "for standard normal distribution, mean=0 and std=1\n",
    "\n",
    "what is z score?\n",
    "\n",
    "==> z = (x - mean) / std\n",
    "\n",
    "what is use of z score?\n",
    "\n",
    "==> calculate the probability\n",
    "\n",
    "what is z distribution?\n",
    "\n",
    "==> distribution of z score is z distribution\n",
    "\n",
    "Bivariant and multivariant:\n",
    "---------------------------\n",
    "\n",
    "Bivariant measures: covariance and correlation\n",
    "------------------\n",
    "df = pd.DataFrame({'x': [1,2,3,4,5], 'y': [3,4,5,2,6]})\n",
    "df\n",
    "\n",
    "covariance: it is applied on two continuous variable of same datapoints.\n",
    "-----------\n",
    "\n",
    "(1) cov(x,y) = (sigma(x-xbar)(y-ybar))/(n-1)\n",
    "(2) Range: (-inf,+inf)\n",
    "(3) cov(x,y) = 0   --> no relation between x and y.\n",
    "(4) cov(x,y) = +ve --> Directly proportional\n",
    "(5) cov(x,y) = -ve --> indireclty proportional\n",
    "(6) sign is only important. it tells about direction and not value(% of relation between variable)\n",
    "(7) population and sample covariance are not same.\n",
    "--df[['x','y']].cov()\n",
    "--df.cov()\n",
    "\n",
    "Correlation:\n",
    "-----------\n",
    "\n",
    "(1) corelation(r) = cov(x,y)/(std dev of x* std dev of y)\n",
    "(2) Range: [-1,1]\n",
    "(3) population and sample correlation both are same.\n",
    "(4) It tells about direction and value(% of relation between two variable)\n",
    "(5) |r| = 1           ---> perfect corelation\n",
    "(6) |r| > 0.8         ---> strong corelation\n",
    "(7) 0.5 <= |r| <= 0.8 ---> moderate corelation\n",
    "(8) |r| < 0.5         ---> weak corelation\n",
    "(9) |r| = 0           ---> No corelation\n",
    "--df.corr()\n",
    "\n",
    "Task: Take the data of 4 column and 5 rows and calculate the covariance and corelation.\n",
    "----\n",
    "\n",
    "```"
   ]
  },
  {
   "cell_type": "code",
   "execution_count": 58,
   "id": "9caa1ca4-1d26-4412-b5d5-b5c4d0c5519c",
   "metadata": {},
   "outputs": [
    {
     "data": {
      "text/html": [
       "<div>\n",
       "<style scoped>\n",
       "    .dataframe tbody tr th:only-of-type {\n",
       "        vertical-align: middle;\n",
       "    }\n",
       "\n",
       "    .dataframe tbody tr th {\n",
       "        vertical-align: top;\n",
       "    }\n",
       "\n",
       "    .dataframe thead th {\n",
       "        text-align: right;\n",
       "    }\n",
       "</style>\n",
       "<table border=\"1\" class=\"dataframe\">\n",
       "  <thead>\n",
       "    <tr style=\"text-align: right;\">\n",
       "      <th></th>\n",
       "      <th>x</th>\n",
       "      <th>y</th>\n",
       "    </tr>\n",
       "  </thead>\n",
       "  <tbody>\n",
       "    <tr>\n",
       "      <th>0</th>\n",
       "      <td>1</td>\n",
       "      <td>3</td>\n",
       "    </tr>\n",
       "    <tr>\n",
       "      <th>1</th>\n",
       "      <td>2</td>\n",
       "      <td>4</td>\n",
       "    </tr>\n",
       "    <tr>\n",
       "      <th>2</th>\n",
       "      <td>3</td>\n",
       "      <td>5</td>\n",
       "    </tr>\n",
       "    <tr>\n",
       "      <th>3</th>\n",
       "      <td>4</td>\n",
       "      <td>2</td>\n",
       "    </tr>\n",
       "    <tr>\n",
       "      <th>4</th>\n",
       "      <td>5</td>\n",
       "      <td>6</td>\n",
       "    </tr>\n",
       "  </tbody>\n",
       "</table>\n",
       "</div>"
      ],
      "text/plain": [
       "   x  y\n",
       "0  1  3\n",
       "1  2  4\n",
       "2  3  5\n",
       "3  4  2\n",
       "4  5  6"
      ]
     },
     "execution_count": 58,
     "metadata": {},
     "output_type": "execute_result"
    }
   ],
   "source": [
    "df = pd.DataFrame({'x': [1,2,3,4,5], 'y': [3,4,5,2,6]})\n",
    "df"
   ]
  },
  {
   "cell_type": "code",
   "execution_count": 59,
   "id": "de966687-c4d4-4214-a8ba-1ba9f613d4f8",
   "metadata": {},
   "outputs": [
    {
     "data": {
      "text/html": [
       "<div>\n",
       "<style scoped>\n",
       "    .dataframe tbody tr th:only-of-type {\n",
       "        vertical-align: middle;\n",
       "    }\n",
       "\n",
       "    .dataframe tbody tr th {\n",
       "        vertical-align: top;\n",
       "    }\n",
       "\n",
       "    .dataframe thead th {\n",
       "        text-align: right;\n",
       "    }\n",
       "</style>\n",
       "<table border=\"1\" class=\"dataframe\">\n",
       "  <thead>\n",
       "    <tr style=\"text-align: right;\">\n",
       "      <th></th>\n",
       "      <th>x</th>\n",
       "      <th>y</th>\n",
       "    </tr>\n",
       "  </thead>\n",
       "  <tbody>\n",
       "    <tr>\n",
       "      <th>x</th>\n",
       "      <td>2.5</td>\n",
       "      <td>1.0</td>\n",
       "    </tr>\n",
       "    <tr>\n",
       "      <th>y</th>\n",
       "      <td>1.0</td>\n",
       "      <td>2.5</td>\n",
       "    </tr>\n",
       "  </tbody>\n",
       "</table>\n",
       "</div>"
      ],
      "text/plain": [
       "     x    y\n",
       "x  2.5  1.0\n",
       "y  1.0  2.5"
      ]
     },
     "execution_count": 59,
     "metadata": {},
     "output_type": "execute_result"
    }
   ],
   "source": [
    "df.cov()"
   ]
  },
  {
   "cell_type": "code",
   "execution_count": 60,
   "id": "33073c53-bc89-48bb-834b-3437532b0fa3",
   "metadata": {},
   "outputs": [
    {
     "data": {
      "text/html": [
       "<div>\n",
       "<style scoped>\n",
       "    .dataframe tbody tr th:only-of-type {\n",
       "        vertical-align: middle;\n",
       "    }\n",
       "\n",
       "    .dataframe tbody tr th {\n",
       "        vertical-align: top;\n",
       "    }\n",
       "\n",
       "    .dataframe thead th {\n",
       "        text-align: right;\n",
       "    }\n",
       "</style>\n",
       "<table border=\"1\" class=\"dataframe\">\n",
       "  <thead>\n",
       "    <tr style=\"text-align: right;\">\n",
       "      <th></th>\n",
       "      <th>x</th>\n",
       "      <th>y</th>\n",
       "    </tr>\n",
       "  </thead>\n",
       "  <tbody>\n",
       "    <tr>\n",
       "      <th>x</th>\n",
       "      <td>2.5</td>\n",
       "      <td>1.0</td>\n",
       "    </tr>\n",
       "    <tr>\n",
       "      <th>y</th>\n",
       "      <td>1.0</td>\n",
       "      <td>2.5</td>\n",
       "    </tr>\n",
       "  </tbody>\n",
       "</table>\n",
       "</div>"
      ],
      "text/plain": [
       "     x    y\n",
       "x  2.5  1.0\n",
       "y  1.0  2.5"
      ]
     },
     "execution_count": 60,
     "metadata": {},
     "output_type": "execute_result"
    }
   ],
   "source": [
    "df[['x','y']].cov()"
   ]
  },
  {
   "cell_type": "code",
   "execution_count": 61,
   "id": "9b05a67d-b328-43c7-befd-9e9fc9011051",
   "metadata": {},
   "outputs": [
    {
     "data": {
      "text/html": [
       "<div>\n",
       "<style scoped>\n",
       "    .dataframe tbody tr th:only-of-type {\n",
       "        vertical-align: middle;\n",
       "    }\n",
       "\n",
       "    .dataframe tbody tr th {\n",
       "        vertical-align: top;\n",
       "    }\n",
       "\n",
       "    .dataframe thead th {\n",
       "        text-align: right;\n",
       "    }\n",
       "</style>\n",
       "<table border=\"1\" class=\"dataframe\">\n",
       "  <thead>\n",
       "    <tr style=\"text-align: right;\">\n",
       "      <th></th>\n",
       "      <th>x</th>\n",
       "      <th>y</th>\n",
       "    </tr>\n",
       "  </thead>\n",
       "  <tbody>\n",
       "    <tr>\n",
       "      <th>x</th>\n",
       "      <td>1.0</td>\n",
       "      <td>0.4</td>\n",
       "    </tr>\n",
       "    <tr>\n",
       "      <th>y</th>\n",
       "      <td>0.4</td>\n",
       "      <td>1.0</td>\n",
       "    </tr>\n",
       "  </tbody>\n",
       "</table>\n",
       "</div>"
      ],
      "text/plain": [
       "     x    y\n",
       "x  1.0  0.4\n",
       "y  0.4  1.0"
      ]
     },
     "execution_count": 61,
     "metadata": {},
     "output_type": "execute_result"
    }
   ],
   "source": [
    "df.corr()"
   ]
  },
  {
   "cell_type": "code",
   "execution_count": 62,
   "id": "90bac6b1-4c1a-47ce-851e-2184f6a23395",
   "metadata": {},
   "outputs": [
    {
     "data": {
      "text/html": [
       "<div>\n",
       "<style scoped>\n",
       "    .dataframe tbody tr th:only-of-type {\n",
       "        vertical-align: middle;\n",
       "    }\n",
       "\n",
       "    .dataframe tbody tr th {\n",
       "        vertical-align: top;\n",
       "    }\n",
       "\n",
       "    .dataframe thead th {\n",
       "        text-align: right;\n",
       "    }\n",
       "</style>\n",
       "<table border=\"1\" class=\"dataframe\">\n",
       "  <thead>\n",
       "    <tr style=\"text-align: right;\">\n",
       "      <th></th>\n",
       "      <th>x</th>\n",
       "      <th>y</th>\n",
       "    </tr>\n",
       "  </thead>\n",
       "  <tbody>\n",
       "    <tr>\n",
       "      <th>x</th>\n",
       "      <td>1.0</td>\n",
       "      <td>0.4</td>\n",
       "    </tr>\n",
       "    <tr>\n",
       "      <th>y</th>\n",
       "      <td>0.4</td>\n",
       "      <td>1.0</td>\n",
       "    </tr>\n",
       "  </tbody>\n",
       "</table>\n",
       "</div>"
      ],
      "text/plain": [
       "     x    y\n",
       "x  1.0  0.4\n",
       "y  0.4  1.0"
      ]
     },
     "execution_count": 62,
     "metadata": {},
     "output_type": "execute_result"
    }
   ],
   "source": [
    "df[['x','y']].corr()"
   ]
  },
  {
   "cell_type": "markdown",
   "id": "9f73c880-70c2-4722-9a99-50b8871e87c8",
   "metadata": {},
   "source": [
    "----"
   ]
  },
  {
   "cell_type": "markdown",
   "id": "9d798510-7898-407b-8e7b-3eef875bda7c",
   "metadata": {},
   "source": [
    "```\n",
    "Inferential Statistics:\n",
    "-----------------------\n",
    "\n",
    "--Inference/estimate the population parameter based on sample data\n",
    "\n",
    "Example: Estimate the population mean based on sample mean\n",
    "\t     Estimate the population variance based on sample variance\n",
    "\n",
    "Real time application: Every where\n",
    "----------------------\n",
    "\n",
    "Analyst/Inspector: Milk Factory(Amul) ---> 500ml packets\n",
    "\n",
    "\t\t   N = 10,00,000 packets(population)\n",
    "\t\t   n = 100       packets(sample)\n",
    "\n",
    "sampling: selecting the sample from population\n",
    "\n",
    "Sampling Techniques: (1) Random sampling     ---> 99% cases\n",
    "                     (2) Non random sampling ---> 1%  cases(cheating)\n",
    "\n",
    "For Analysis: what is the minimum sample size we required --> sample size = 30\n",
    "-------------\n",
    "\n",
    "Inferential statistics will be done by using \"HYPOTHESIS TESTING\".\n",
    "\n",
    "Whether a statement about population parameter should be accepted or rejected.\n",
    "\n",
    "Ex(1): Srk is a good trainer.\n",
    "\n",
    "\tH0 (Null Hypothesis)              : No action/ No difference/ status quo(present situation)\n",
    "\tH1 (Alternate/Research Hypothesis): Action/ difference\n",
    "\n",
    "Ex(2): Dolo 650 fever ==> comparing with new tablet\n",
    "\n",
    "\tH0 : No difference between tablets\n",
    "\tH1 : New tablet is better than Dolo 650\n",
    " \n",
    "Ex(3): Amul Milk 500ml packets (Inspector)\n",
    "\n",
    "\tH0 : mean >= 500 (no action)\n",
    "\tH1 : mean <  500 (action) \n",
    "\n",
    "Ex(4): Amul Milk 500ml packets (Manager)\n",
    "\n",
    "\tH0 : mean == 500 (no action)\n",
    "\tH1 : mean != 500 (action) \n",
    "\n",
    "Ex(5): Pizza Hut pizza delivery (Director)\n",
    "\n",
    "\tH0 : mean <= 30min (no action)\n",
    "\tH1 : mean >  30min (action) \n",
    "\n",
    "Ex(6): Hospital emergenncy response (Director)\n",
    "\n",
    "\tH0 : mean time <= 8min (no action)\n",
    "\tH1 : mean time >  8min (action)\n",
    "\n",
    "Inferential statistics will be done based on statistical tests\n",
    "\n",
    "Statistical tests are divided into two types:\n",
    "\n",
    "(1) Parametric tests    : applying statistical tests on normal distributed data\n",
    "(2) Non parametric tests: applying statistical tests on categorical data.\n",
    "\n",
    "Continuous:\n",
    "-----------\n",
    "\n",
    "(1) check it is normal or skewed distributed.\n",
    "(2) if data is normal --> apply parametric tests\n",
    "(3) if data is skewed --> convert to normal distribution and apply parametric tests.\n",
    "\n",
    "\n",
    "data:\n",
    "-----\n",
    "\n",
    "(1) continuous: \n",
    "\t(1.1) normal:\n",
    "\t\t(1.1.1) 1 sample z test : one column + population standard deviation\n",
    "\t\t(1.1.2) 1 sample t test : one column + population standard deviation (not given)\n",
    "\t\t(1.1.3) Anova test      : more than one column\n",
    "(2) Discrete:\n",
    "\t(2.1) 1proportion test : one column\n",
    "\t(2.2) chisquare test   : more than one column\n",
    "\n",
    "steps involved in statistical tests:\n",
    "------------------------------------\n",
    "\n",
    "(1) Formulate the Null Hypothesis (H0) & Alternate Hypothesis(H1)\n",
    "(2) check the level of significance (alpha = % error) [ default alpha = 0.05]\n",
    "(3) check for normality (check whether the given data is normally distributed or not)\n",
    "    opt(1): skewness value (if -1<= skewness value <=1 --> normal distributed)\n",
    "    opt(2): check the desity curve\n",
    "    opt(3): Apply shapiro Test (p-value >0.05, then data is normal)\n",
    "(4) select the test based on problem statement\n",
    "\t(1) 1 sample z test   \n",
    "\t\t--> only 1 column(continuous) and population std is given\n",
    "\t\t\tz test = (xbar-mean)/(std/sqrt of n)\n",
    "\t(2) 1 sample t test   --> only 1 column(continuous) and population std is not given\n",
    "\t(3) ANOVA test        --> more than 1 column(continuous)\n",
    "\t(4) 1 proportion test --> only 1 column(categorical) \n",
    "\t(5) Chisquare test    --> more than 1column(categorical)\n",
    "(5) (5.1) Apply the test (use the formulae)\n",
    "    (5.2) calculate the test statistic value\n",
    "    (5.3) calculate the p value\n",
    "(6) Based on calculated p-value, either accept the null hypothesis or reject null hypothesis.\n",
    "     pvalue <= alpha, Reject H0 -----> p low null go\n",
    "     pvalue > alpha,  Accept H0 -----> p high null fly\n",
    "\n",
    "case studies:\n",
    "-------------\n",
    "\n",
    "(1) The mean response times for a random sample of 30 pizza deliveries is 32 minutes. The population standard deviation is believed to be 10 minutes. The pizza delivery services director wants to perform a hypothesis test, with alpha = 0.05 level of significance, to determine whether the service goal of 30 minutes or less is being achieved.(Assume data is normally distributed):\n",
    "\n",
    "step1: Formaulate the Null Hypothesis (H0) & Alternate Hypothesis(H1).\n",
    "------\n",
    "            H0 : mean <= 3omin\n",
    "            H1 : mean > 30min\n",
    "step2: check the level of significance (alpha) ==> alpha = 0.05\n",
    "------\n",
    "\n",
    "step3: check for normality ==> normally distributed.\n",
    "------\n",
    "\n",
    "step4: It is continuous variable with 1 column ==> 1 sample z test\n",
    "------\n",
    "\tsample mean = 32 min\n",
    "\tmean        = 30 min\n",
    "\tstd         = 10 min\n",
    "\talpha       = 0.05\n",
    "\tsample(n)   = 30\n",
    "\n",
    "Z test = (xbar-mean)/(std/sqrt of n) = (32-30)/(10/sqrt(30)) = 1.09\n",
    "\n",
    "step5: z = 1.09 ==> p=0.86(from ztable), here p>alpha then accept null hypothesis.\n",
    "-----\n",
    "\n",
    "classification of tests:\n",
    "------------------------\n",
    "\n",
    "Data: continuous or discrete\n",
    "\n",
    "(1) Continuous:\n",
    "\t(1) Normal distributed\n",
    "\t\t(1) single column  : 1 sample z test, 1 sample t test\n",
    "\t\t(2) multiple column: Anova test\n",
    "\t(2) Not normal distributed : convert to normal distribution\n",
    "\n",
    "(2) Discrete:\n",
    "        (1) single column  : 1 proportional test\n",
    "\t    (2) multiple column: Chisquare test\n",
    "\n",
    "1 sample test:\n",
    "--------------\n",
    "\n",
    "syntax: H0: (population parameter) (comparision operator) (value) \n",
    "\t    H1: (population parameter) (opposite of comparision operator) (value)\n",
    "\n",
    "(ex1): H0: population mean >= 50\n",
    "       H1: population mean  < 50\n",
    "(ex2): H0: population mean <= 50\n",
    "       H1: population mean  > 50\n",
    "(ex3): H0: population mean == 50\n",
    "       H1: population mean != 50\n",
    "\n",
    "Anova test:\n",
    "-----------\n",
    "syntax: H0: no difference \n",
    "\t    H1: difference\n",
    "\n",
    "Point to be remember:\n",
    "---------------------\n",
    "\n",
    "Area == desity == probability == percentage (all are same)\n",
    "\n",
    "case study:\n",
    "-----------\n",
    "\n",
    "Q) Assume that a sample of 30 milk carton provides a sample mean of 505ml. The population standard deviation is believed to be 10ml. Perform a hypothesis test, at the 0.03 level of significance, population mean 500 ml and to help determine whether the filling process should continue operating or to be stopped and corrected.(two tail test because the value cannot exceeds and cannot decrease. It has to be exact)\n",
    "\t\tH0: mean == 500\n",
    "\t\tH1: mean != 500\n",
    "Q) The length of 25 samples of a fabric are taken at random. Historic mean and standard deviation are 150cm and 5.5cm respectively. company manager wants to test if the current mean is equal to the historic mean. Assume alpha to be 0.05.\n",
    "\n",
    "pythoncode:\n",
    "-----------\n",
    "\n",
    "df1 = pd.read_excel('fabric.xlsx')\n",
    "df1\n",
    "df1['fabric_length'].skew() --> checks normality\n",
    "df1['fabric_length'].mean() --> sample mean calculation\n",
    "\n",
    "from statsmodels.stats.weightstats import ztest\n",
    "\n",
    "ztest = ztest(df1[\"fabric_length\"], value=150, alternative=\"two-sided\", ddof=0)\n",
    "ztest -->(test statistic, p value)\n",
    "\n",
    "points to be remember:\n",
    "----------------------\n",
    "\n",
    "(1) level of significance: alpha   = % of rejection\n",
    "(2) confidence           : 1-alpha = % of acceptance\n",
    "\n",
    "Q) The mean diameter of the bolt manufactured should be 10mm to be able to fit into the nut. 20 samples are taken at random from production line by a quality inspector. conduct a test to check with 90% confidence that the mean is not different from the specification value.\n",
    "\n",
    "formula for T test: (xbar-mean)/(sample std/sqrt of n)\n",
    "\n",
    "pythoncode:\n",
    "-----------\n",
    "\n",
    "df2 = pd.read_excel('boltdiameter.xlsx')\n",
    "df2\n",
    "df2['Diameter'].skew() --> checks normality\n",
    "df2['Diameter'].mean() --> sample mean calculation\n",
    "\n",
    "from scipy import stats \n",
    "\n",
    "test = stats.ttest_1samp(df2[\"Diameter\"], popmean=10, alternative=\"two-sided\")\n",
    "ttest -->(test statistic, p value, df)\n",
    "\n",
    "point to remember:\n",
    "------------------\n",
    "\n",
    "when sample size (n) > 30:\n",
    "\n",
    "If n > 30   then population standrad deviation and sample standard deviation both are almost same. \n",
    "If n > 1000 then there is no difference in results of ztest and ttest.\n",
    "\n",
    "steps involved in  statistical test by using python:\n",
    "----------------------------------------------------\n",
    "\n",
    "(1) Formulate Ho(Null hypothesis) and H1(Alternate hypothesis)\n",
    "(2) Check the level of significance(alpha value) [default value of alpha=0.05]\n",
    "(3) check the normality ---> normal distributed or not\n",
    "(4) select the test based on problem statement.\n",
    "(5) Import the test and provide the values and check the P value.\n",
    "(6) Based on p value, either accept or reject null hypothesis.\n",
    "\n",
    "Case study:\n",
    "-----------\n",
    "Q) A financial analyst at a financial institute wants to evaluate a recent credit card promotion. After this promotion, 500 cardholders were randomly selected. Half received an ad promoting a full wavier of interest rate on purchase made over the next three months and half received a standard christmas advertisement. Did the ad promoting full interest rate wavier increase purchases.\n",
    "\n",
    "step1:\n",
    "\tH0: Avg purchase made by FIW <= Avg purchase made by SC(standard christmas)\n",
    "\tH1: Avg purchase made by FIW  > Avg purchase made by SC\n",
    "step2:\n",
    "\tlevel of significance(alpha=0.05)\n",
    "step3:\n",
    "\tcheck for normality\n",
    "step4:\n",
    "\tmore than one column(continuous). Choose anova test.\n",
    "\tan|o|va --> analysis|of|variance\n",
    "step5:\n",
    "\tcalculate the p value\n",
    "step6:\n",
    "\tbased on pvalue, accept or reject\n",
    "\n",
    "pythoncode:\n",
    "-----------\n",
    "df3 = pd.read_excel(\"promotion.xlsx\")\n",
    "df3.head()\n",
    "df3.['InterestRateWaiver'].skew(), df3.['StandardPromotion'].skew()\n",
    "from scipy import stats\n",
    "anova_test = stats.f_oneway(df3.['InterestRateWaiver'],df3.['StandardPromotion'])\n",
    "anova_test\n",
    "\n",
    "case study:\n",
    "-----------\n",
    "Q) The people carry out a poll to find the acceptability of new football coach. It was decided that if he support rate for the coach for the entire population was truly less than 90%, the coach would be fired. 2000 people participated and 496 people supported the new coach. conduct a test to check if the new coach should be fired with 95% level of confidence.\n",
    "\n",
    "step1:\n",
    "\tH0: coach not to be fired: no action/ no difference\n",
    "\tH1: coach to be fired    : action\n",
    "step2:\n",
    "\tlevel of significance(alpha=0.05)\n",
    "step3:\n",
    "\tOnly 1 column (categorical) --> 1 proportion test\n",
    "step4:\n",
    "\tbinom_test = stats.binomtest(496,2000,0.95)\n",
    "\tbinom_test--> p=0.0\n",
    "step5:\n",
    "\tHere, P = 0.0\n",
    "\tIt is less than alpha ==> reject null hypothesis\n",
    "case study:\n",
    "-----------\n",
    "Q) Johnnie talkers soft drinks division sales has been planning to launch a new sales incentive program for their executives. The sales executives felt that adults(>40 yrs) won't buy, children will & hence requested sales manager not to launch the program. Analyze the data & determine whether there is evidence at 5% significance level to support the hypothesis.\n",
    "\n",
    "step1:\n",
    "\tH0: proportion of adult == proportion of child\n",
    "\tH1: proportion of adult != proportion of child\n",
    "step2:\n",
    "\tlevel of significance(alpha=0.05)\n",
    "step3:\n",
    "\tmore than 1 column (categorical) --> chi-square test\n",
    "step4:\n",
    "\tbased on pvalue --> either accept or reject null hypothesis\n",
    "python code:\n",
    "------------\n",
    "\n",
    "df5 = pd.read_excel(\"JhonyTalkers.xlsx\")\n",
    "df5.head()\n",
    "df5.info()\n",
    "count = pd.crosstab(df5['person'],df5['drink'],margins=True)\n",
    "count\n",
    "from scipy import stats\n",
    "chisquare_test = stats.chi2_contingency(count)\n",
    "chisquare_test\n",
    "\n",
    "\n",
    "Indian Law:\n",
    "-----------\n",
    "\n",
    "\tH0: person is innocent (no action)\n",
    "\tH1: Person is criminal (action)\n",
    "\n",
    "(1) Actual person is innocent ----> Judge predicted as innocent ----> correct acceptance of H0\n",
    "\n",
    "(2) Actual person is innocent ----> Judge predicted as criminal(wrong prediction) ----> incorrect acceptance of H1 (Type-2 error)\n",
    "\n",
    "(3) Actual person is criminal ----> Judge predicted as innocent(wrong prediction) ----> incorrect acceptance of H0 (Type-1 error)\n",
    "\n",
    "(4) Actual person is criminal ----> Judge predicted as criminal ----> correct acceptance of H1\n",
    "\n",
    "points to be remember:\n",
    "----------------------\n",
    "\n",
    "-- prepare a table on actual value and predict value of H0 and H1.\n",
    "\n",
    "(Q) what is type-I & type-II error?\n",
    "\n",
    "(1) Type-I  error --> incorrect acceptance of H0\n",
    "(2) Type-II error --> incorrect rejection of H0 \n",
    "```"
   ]
  },
  {
   "cell_type": "markdown",
   "id": "2da4ea21-4e38-4df9-b4ba-bc9445176cd9",
   "metadata": {},
   "source": [
    "# 1Sampel Ztest"
   ]
  },
  {
   "cell_type": "code",
   "execution_count": 2,
   "id": "cbc08feb-ee68-4432-a076-0e17666447aa",
   "metadata": {},
   "outputs": [
    {
     "data": {
      "text/html": [
       "<div>\n",
       "<style scoped>\n",
       "    .dataframe tbody tr th:only-of-type {\n",
       "        vertical-align: middle;\n",
       "    }\n",
       "\n",
       "    .dataframe tbody tr th {\n",
       "        vertical-align: top;\n",
       "    }\n",
       "\n",
       "    .dataframe thead th {\n",
       "        text-align: right;\n",
       "    }\n",
       "</style>\n",
       "<table border=\"1\" class=\"dataframe\">\n",
       "  <thead>\n",
       "    <tr style=\"text-align: right;\">\n",
       "      <th></th>\n",
       "      <th>Fabric_length</th>\n",
       "    </tr>\n",
       "  </thead>\n",
       "  <tbody>\n",
       "    <tr>\n",
       "      <th>0</th>\n",
       "      <td>151.2</td>\n",
       "    </tr>\n",
       "    <tr>\n",
       "      <th>1</th>\n",
       "      <td>160.3</td>\n",
       "    </tr>\n",
       "    <tr>\n",
       "      <th>2</th>\n",
       "      <td>147.5</td>\n",
       "    </tr>\n",
       "    <tr>\n",
       "      <th>3</th>\n",
       "      <td>149.2</td>\n",
       "    </tr>\n",
       "    <tr>\n",
       "      <th>4</th>\n",
       "      <td>159.2</td>\n",
       "    </tr>\n",
       "  </tbody>\n",
       "</table>\n",
       "</div>"
      ],
      "text/plain": [
       "   Fabric_length\n",
       "0          151.2\n",
       "1          160.3\n",
       "2          147.5\n",
       "3          149.2\n",
       "4          159.2"
      ]
     },
     "execution_count": 2,
     "metadata": {},
     "output_type": "execute_result"
    }
   ],
   "source": [
    "df1 = pd.read_excel('Datasets\\\\Fabric data.xlsx')\n",
    "df1.head()"
   ]
  },
  {
   "cell_type": "code",
   "execution_count": 3,
   "id": "05480122-67a0-4634-9405-db2a22a38161",
   "metadata": {},
   "outputs": [
    {
     "data": {
      "text/plain": [
       "Index(['Fabric_length'], dtype='object')"
      ]
     },
     "execution_count": 3,
     "metadata": {},
     "output_type": "execute_result"
    }
   ],
   "source": [
    "df1.columns"
   ]
  },
  {
   "cell_type": "code",
   "execution_count": 4,
   "id": "034ea25f-7793-45ac-83c9-6056eb8f78b2",
   "metadata": {},
   "outputs": [
    {
     "data": {
      "text/plain": [
       "0.29650632012590666"
      ]
     },
     "execution_count": 4,
     "metadata": {},
     "output_type": "execute_result"
    }
   ],
   "source": [
    "df1['Fabric_length'].skew()"
   ]
  },
  {
   "cell_type": "code",
   "execution_count": 5,
   "id": "c025af35-ad89-4fd7-8a87-2a5731d017e9",
   "metadata": {},
   "outputs": [
    {
     "data": {
      "text/plain": [
       "155.064"
      ]
     },
     "execution_count": 5,
     "metadata": {},
     "output_type": "execute_result"
    }
   ],
   "source": [
    "df1['Fabric_length'].mean()"
   ]
  },
  {
   "cell_type": "code",
   "execution_count": 6,
   "id": "91273614-a450-442f-82a0-9a0ad240b451",
   "metadata": {},
   "outputs": [
    {
     "data": {
      "text/plain": [
       "(4.581553935379281, 4.615335331740764e-06)"
      ]
     },
     "execution_count": 6,
     "metadata": {},
     "output_type": "execute_result"
    }
   ],
   "source": [
    "from statsmodels.stats.weightstats import ztest\n",
    "ztest(df1['Fabric_length'],value=150,alternative='two-sided',ddof=0)"
   ]
  },
  {
   "cell_type": "markdown",
   "id": "938fa3f6-0dcb-4314-af11-86422a7a5096",
   "metadata": {},
   "source": [
    "# 1Sample ttest "
   ]
  },
  {
   "cell_type": "code",
   "execution_count": 7,
   "id": "a73078a8-6f48-44d4-8f31-96920f06c546",
   "metadata": {},
   "outputs": [
    {
     "data": {
      "text/html": [
       "<div>\n",
       "<style scoped>\n",
       "    .dataframe tbody tr th:only-of-type {\n",
       "        vertical-align: middle;\n",
       "    }\n",
       "\n",
       "    .dataframe tbody tr th {\n",
       "        vertical-align: top;\n",
       "    }\n",
       "\n",
       "    .dataframe thead th {\n",
       "        text-align: right;\n",
       "    }\n",
       "</style>\n",
       "<table border=\"1\" class=\"dataframe\">\n",
       "  <thead>\n",
       "    <tr style=\"text-align: right;\">\n",
       "      <th></th>\n",
       "      <th>Diameter</th>\n",
       "    </tr>\n",
       "  </thead>\n",
       "  <tbody>\n",
       "    <tr>\n",
       "      <th>0</th>\n",
       "      <td>10.22</td>\n",
       "    </tr>\n",
       "    <tr>\n",
       "      <th>1</th>\n",
       "      <td>11.00</td>\n",
       "    </tr>\n",
       "    <tr>\n",
       "      <th>2</th>\n",
       "      <td>10.98</td>\n",
       "    </tr>\n",
       "    <tr>\n",
       "      <th>3</th>\n",
       "      <td>12.26</td>\n",
       "    </tr>\n",
       "    <tr>\n",
       "      <th>4</th>\n",
       "      <td>10.96</td>\n",
       "    </tr>\n",
       "  </tbody>\n",
       "</table>\n",
       "</div>"
      ],
      "text/plain": [
       "   Diameter\n",
       "0     10.22\n",
       "1     11.00\n",
       "2     10.98\n",
       "3     12.26\n",
       "4     10.96"
      ]
     },
     "execution_count": 7,
     "metadata": {},
     "output_type": "execute_result"
    }
   ],
   "source": [
    "df2 = pd.read_excel('Datasets\\\\Bolt diameter.xlsx')\n",
    "df2.head()"
   ]
  },
  {
   "cell_type": "code",
   "execution_count": 8,
   "id": "ff2607cc-a680-4baf-ae43-1f0d521150dd",
   "metadata": {},
   "outputs": [
    {
     "data": {
      "text/plain": [
       "Index(['Diameter'], dtype='object')"
      ]
     },
     "execution_count": 8,
     "metadata": {},
     "output_type": "execute_result"
    }
   ],
   "source": [
    "df2.columns"
   ]
  },
  {
   "cell_type": "code",
   "execution_count": 9,
   "id": "1ae14d10-a30c-4aee-8ac9-e75ec731ec58",
   "metadata": {},
   "outputs": [
    {
     "data": {
      "text/plain": [
       "0.009738124305753312"
      ]
     },
     "execution_count": 9,
     "metadata": {},
     "output_type": "execute_result"
    }
   ],
   "source": [
    "df2['Diameter'].skew()"
   ]
  },
  {
   "cell_type": "code",
   "execution_count": 10,
   "id": "3da3e84d-cbf8-4aeb-be5a-e33c10cfd8b1",
   "metadata": {},
   "outputs": [
    {
     "data": {
      "text/plain": [
       "TtestResult(statistic=4.994230312195523, pvalue=8.05307069702133e-05, df=19)"
      ]
     },
     "execution_count": 10,
     "metadata": {},
     "output_type": "execute_result"
    }
   ],
   "source": [
    "from scipy import stats\n",
    "stats.ttest_1samp(df2['Diameter'], popmean=10, alternative='two-sided')"
   ]
  },
  {
   "cell_type": "markdown",
   "id": "95c9af97-8bf2-40c0-b8c3-f11273ab8e95",
   "metadata": {},
   "source": [
    "# Anova test"
   ]
  },
  {
   "cell_type": "code",
   "execution_count": 11,
   "id": "69bcdc43-cad2-46a2-bc67-0b25da7a5b1c",
   "metadata": {},
   "outputs": [
    {
     "data": {
      "text/html": [
       "<div>\n",
       "<style scoped>\n",
       "    .dataframe tbody tr th:only-of-type {\n",
       "        vertical-align: middle;\n",
       "    }\n",
       "\n",
       "    .dataframe tbody tr th {\n",
       "        vertical-align: top;\n",
       "    }\n",
       "\n",
       "    .dataframe thead th {\n",
       "        text-align: right;\n",
       "    }\n",
       "</style>\n",
       "<table border=\"1\" class=\"dataframe\">\n",
       "  <thead>\n",
       "    <tr style=\"text-align: right;\">\n",
       "      <th></th>\n",
       "      <th>InterestRateWaiver</th>\n",
       "      <th>StandardPromotion</th>\n",
       "    </tr>\n",
       "  </thead>\n",
       "  <tbody>\n",
       "    <tr>\n",
       "      <th>0</th>\n",
       "      <td>1989.10</td>\n",
       "      <td>1272.25</td>\n",
       "    </tr>\n",
       "    <tr>\n",
       "      <th>1</th>\n",
       "      <td>1808.38</td>\n",
       "      <td>1250.38</td>\n",
       "    </tr>\n",
       "    <tr>\n",
       "      <th>2</th>\n",
       "      <td>1153.75</td>\n",
       "      <td>1474.78</td>\n",
       "    </tr>\n",
       "    <tr>\n",
       "      <th>3</th>\n",
       "      <td>1745.64</td>\n",
       "      <td>2064.89</td>\n",
       "    </tr>\n",
       "    <tr>\n",
       "      <th>4</th>\n",
       "      <td>1008.24</td>\n",
       "      <td>2030.87</td>\n",
       "    </tr>\n",
       "  </tbody>\n",
       "</table>\n",
       "</div>"
      ],
      "text/plain": [
       "   InterestRateWaiver  StandardPromotion\n",
       "0             1989.10            1272.25\n",
       "1             1808.38            1250.38\n",
       "2             1153.75            1474.78\n",
       "3             1745.64            2064.89\n",
       "4             1008.24            2030.87"
      ]
     },
     "execution_count": 11,
     "metadata": {},
     "output_type": "execute_result"
    }
   ],
   "source": [
    "df3 = pd.read_excel('Datasets\\\\Promotion.xlsx')\n",
    "df3.head()"
   ]
  },
  {
   "cell_type": "code",
   "execution_count": 12,
   "id": "417795fa-551f-47bb-86e7-0ed371524fa2",
   "metadata": {},
   "outputs": [
    {
     "data": {
      "text/plain": [
       "InterestRateWaiver   -0.186849\n",
       "StandardPromotion     0.155656\n",
       "dtype: float64"
      ]
     },
     "execution_count": 12,
     "metadata": {},
     "output_type": "execute_result"
    }
   ],
   "source": [
    "df3.skew()"
   ]
  },
  {
   "cell_type": "code",
   "execution_count": 13,
   "id": "a99eb9a5-aaa9-42dd-a567-be5f36f63522",
   "metadata": {},
   "outputs": [
    {
     "data": {
      "text/plain": [
       "Index(['InterestRateWaiver', 'StandardPromotion'], dtype='object')"
      ]
     },
     "execution_count": 13,
     "metadata": {},
     "output_type": "execute_result"
    }
   ],
   "source": [
    "df3.columns"
   ]
  },
  {
   "cell_type": "code",
   "execution_count": 14,
   "id": "1d906d22-6cbe-450a-9eb7-3d677b4be66a",
   "metadata": {},
   "outputs": [
    {
     "data": {
      "text/plain": [
       "F_onewayResult(statistic=5.109521918142664, pvalue=0.02422584468584416)"
      ]
     },
     "execution_count": 14,
     "metadata": {},
     "output_type": "execute_result"
    }
   ],
   "source": [
    "from scipy import stats\n",
    "stats.f_oneway(df3['InterestRateWaiver'],df3['StandardPromotion'])"
   ]
  },
  {
   "cell_type": "markdown",
   "id": "9329aa4b-6d02-482b-afd6-acd7b3d1091f",
   "metadata": {},
   "source": [
    "# 1Proportion test"
   ]
  },
  {
   "cell_type": "code",
   "execution_count": 15,
   "id": "098240fd-e730-406f-acc3-af4cc705017d",
   "metadata": {},
   "outputs": [
    {
     "data": {
      "text/plain": [
       "BinomTestResult(k=496, n=2000, alternative='two-sided', statistic=0.248, pvalue=0.0)"
      ]
     },
     "execution_count": 15,
     "metadata": {},
     "output_type": "execute_result"
    }
   ],
   "source": [
    "from scipy import stats\n",
    "stats.binomtest(496,2000,0.95)"
   ]
  },
  {
   "cell_type": "markdown",
   "id": "af1c50e8-bea2-4242-a0e6-6f587576455c",
   "metadata": {},
   "source": [
    "# 1chisquare test"
   ]
  },
  {
   "cell_type": "code",
   "execution_count": 16,
   "id": "9e53ed18-bd65-419b-9b9d-090fb1546980",
   "metadata": {},
   "outputs": [
    {
     "data": {
      "text/html": [
       "<div>\n",
       "<style scoped>\n",
       "    .dataframe tbody tr th:only-of-type {\n",
       "        vertical-align: middle;\n",
       "    }\n",
       "\n",
       "    .dataframe tbody tr th {\n",
       "        vertical-align: top;\n",
       "    }\n",
       "\n",
       "    .dataframe thead th {\n",
       "        text-align: right;\n",
       "    }\n",
       "</style>\n",
       "<table border=\"1\" class=\"dataframe\">\n",
       "  <thead>\n",
       "    <tr style=\"text-align: right;\">\n",
       "      <th></th>\n",
       "      <th>Person</th>\n",
       "      <th>Drinks</th>\n",
       "    </tr>\n",
       "  </thead>\n",
       "  <tbody>\n",
       "    <tr>\n",
       "      <th>0</th>\n",
       "      <td>Adults</td>\n",
       "      <td>Did Not Purchase</td>\n",
       "    </tr>\n",
       "    <tr>\n",
       "      <th>1</th>\n",
       "      <td>Adults</td>\n",
       "      <td>Did Not Purchase</td>\n",
       "    </tr>\n",
       "    <tr>\n",
       "      <th>2</th>\n",
       "      <td>Adults</td>\n",
       "      <td>Did Not Purchase</td>\n",
       "    </tr>\n",
       "    <tr>\n",
       "      <th>3</th>\n",
       "      <td>Adults</td>\n",
       "      <td>Did Not Purchase</td>\n",
       "    </tr>\n",
       "    <tr>\n",
       "      <th>4</th>\n",
       "      <td>Adults</td>\n",
       "      <td>Did Not Purchase</td>\n",
       "    </tr>\n",
       "  </tbody>\n",
       "</table>\n",
       "</div>"
      ],
      "text/plain": [
       "   Person            Drinks\n",
       "0  Adults  Did Not Purchase\n",
       "1  Adults  Did Not Purchase\n",
       "2  Adults  Did Not Purchase\n",
       "3  Adults  Did Not Purchase\n",
       "4  Adults  Did Not Purchase"
      ]
     },
     "execution_count": 16,
     "metadata": {},
     "output_type": "execute_result"
    }
   ],
   "source": [
    "df4 = pd.read_excel('Datasets\\\\JohnyTalkers.xlsx')\n",
    "df4.head()"
   ]
  },
  {
   "cell_type": "code",
   "execution_count": 17,
   "id": "588860d9-2b31-4051-90c4-44f4fbd2c05e",
   "metadata": {},
   "outputs": [
    {
     "data": {
      "text/plain": [
       "Index(['Person', 'Drinks'], dtype='object')"
      ]
     },
     "execution_count": 17,
     "metadata": {},
     "output_type": "execute_result"
    }
   ],
   "source": [
    "df4.columns"
   ]
  },
  {
   "cell_type": "code",
   "execution_count": 18,
   "id": "b8a99e2a-7b06-49f1-bbcd-e47b5ba88d19",
   "metadata": {},
   "outputs": [
    {
     "data": {
      "text/html": [
       "<div>\n",
       "<style scoped>\n",
       "    .dataframe tbody tr th:only-of-type {\n",
       "        vertical-align: middle;\n",
       "    }\n",
       "\n",
       "    .dataframe tbody tr th {\n",
       "        vertical-align: top;\n",
       "    }\n",
       "\n",
       "    .dataframe thead th {\n",
       "        text-align: right;\n",
       "    }\n",
       "</style>\n",
       "<table border=\"1\" class=\"dataframe\">\n",
       "  <thead>\n",
       "    <tr style=\"text-align: right;\">\n",
       "      <th>Drinks</th>\n",
       "      <th>Did Not Purchase</th>\n",
       "      <th>Purchased</th>\n",
       "      <th>All</th>\n",
       "    </tr>\n",
       "    <tr>\n",
       "      <th>Person</th>\n",
       "      <th></th>\n",
       "      <th></th>\n",
       "      <th></th>\n",
       "    </tr>\n",
       "  </thead>\n",
       "  <tbody>\n",
       "    <tr>\n",
       "      <th>Adults</th>\n",
       "      <td>422</td>\n",
       "      <td>58</td>\n",
       "      <td>480</td>\n",
       "    </tr>\n",
       "    <tr>\n",
       "      <th>Children</th>\n",
       "      <td>588</td>\n",
       "      <td>152</td>\n",
       "      <td>740</td>\n",
       "    </tr>\n",
       "    <tr>\n",
       "      <th>All</th>\n",
       "      <td>1010</td>\n",
       "      <td>210</td>\n",
       "      <td>1220</td>\n",
       "    </tr>\n",
       "  </tbody>\n",
       "</table>\n",
       "</div>"
      ],
      "text/plain": [
       "Drinks    Did Not Purchase  Purchased   All\n",
       "Person                                     \n",
       "Adults                 422         58   480\n",
       "Children               588        152   740\n",
       "All                   1010        210  1220"
      ]
     },
     "execution_count": 18,
     "metadata": {},
     "output_type": "execute_result"
    }
   ],
   "source": [
    "cmt = pd.crosstab(df4['Person'],df4['Drinks'],margins=True)\n",
    "cmt"
   ]
  },
  {
   "cell_type": "code",
   "execution_count": 19,
   "id": "8fed5bdf-47a1-4447-b752-c3da81ab99fe",
   "metadata": {},
   "outputs": [
    {
     "ename": "AttributeError",
     "evalue": "module 'scipy.stats' has no attribute 'chi2_contigency'",
     "output_type": "error",
     "traceback": [
      "\u001b[1;31m---------------------------------------------------------------------------\u001b[0m",
      "\u001b[1;31mAttributeError\u001b[0m                            Traceback (most recent call last)",
      "Cell \u001b[1;32mIn[19], line 2\u001b[0m\n\u001b[0;32m      1\u001b[0m \u001b[38;5;28;01mfrom\u001b[39;00m \u001b[38;5;21;01mscipy\u001b[39;00m \u001b[38;5;28;01mimport\u001b[39;00m stats\n\u001b[1;32m----> 2\u001b[0m stats\u001b[38;5;241m.\u001b[39mchi2_contigency(cmt)\n",
      "\u001b[1;31mAttributeError\u001b[0m: module 'scipy.stats' has no attribute 'chi2_contigency'"
     ]
    }
   ],
   "source": [
    "from scipy import stats\n",
    "stats.chi2_contigency(cmt)"
   ]
  },
  {
   "cell_type": "code",
   "execution_count": 20,
   "id": "af1310b9-43c1-481f-9406-5714d311eb1e",
   "metadata": {},
   "outputs": [
    {
     "data": {
      "text/plain": [
       "Chi2ContingencyResult(statistic=14.613224681541515, pvalue=0.005574456386286158, dof=4, expected_freq=array([[ 397.37704918,   82.62295082,  480.        ],\n",
       "       [ 612.62295082,  127.37704918,  740.        ],\n",
       "       [1010.        ,  210.        , 1220.        ]]))"
      ]
     },
     "execution_count": 20,
     "metadata": {},
     "output_type": "execute_result"
    }
   ],
   "source": [
    "stats.chi2_contingency(cmt)"
   ]
  },
  {
   "cell_type": "code",
   "execution_count": null,
   "id": "6659b071-376b-4385-b78b-4f282249953f",
   "metadata": {},
   "outputs": [],
   "source": []
  }
 ],
 "metadata": {
  "kernelspec": {
   "display_name": "Python 3 (ipykernel)",
   "language": "python",
   "name": "python3"
  },
  "language_info": {
   "codemirror_mode": {
    "name": "ipython",
    "version": 3
   },
   "file_extension": ".py",
   "mimetype": "text/x-python",
   "name": "python",
   "nbconvert_exporter": "python",
   "pygments_lexer": "ipython3",
   "version": "3.11.7"
  }
 },
 "nbformat": 4,
 "nbformat_minor": 5
}
