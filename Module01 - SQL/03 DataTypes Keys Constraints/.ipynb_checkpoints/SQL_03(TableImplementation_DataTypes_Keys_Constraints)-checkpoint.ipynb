{
 "cells": [
  {
   "cell_type": "markdown",
   "id": "ccb4604c-25ae-4e71-a317-4024621a25b2",
   "metadata": {},
   "source": [
    "### ***Creating a table:***\n",
    "\n",
    "#### - we use the CREATE TABLE statement to create a table in db\n",
    "#### - CREATE is a DDL Command\n",
    "#### - constraints are set of rules provides to our attributes\n",
    "\n",
    "```\n",
    "command:\n",
    "\n",
    "CREATE TABLE TableName(\n",
    "Column1 DataType1 Constraint1,\n",
    "Column2 DataType2 Constraint2,\n",
    "Column3 DataType3 Constraint3,\n",
    "-- additional columns if needed\n",
    ");\n",
    "\n",
    "Example:\n",
    "\n",
    "CREATE TABLE employee(\n",
    "empid INT PRIMARY KEY,\n",
    "name VARCHAR(50),\n",
    "salary INT\n",
    ");\n",
    "```\n",
    "![](Images/Image01(video6).png)\n",
    "\n",
    "![](Images/Image02(video6).png)\n",
    "\n",
    "![](Images/Image03(video6).png)"
   ]
  },
  {
   "cell_type": "markdown",
   "id": "3366dce6-1d79-47e4-870c-48df4c3ea3ac",
   "metadata": {},
   "source": [
    "### ***Inserting values into table***\n",
    "\n",
    "#### - INSERT is a DML Command\n",
    "#### - If we not provide the columns order for insertion then values will be inserted in a sequential order \n",
    "```\n",
    "command:\n",
    "\n",
    "INSERT INTO tableName(Column1, Column2, Column3,....., ColumnN)\n",
    "VALUES(value1, value2, value3, ....., valueN)\n",
    "\n",
    "Example:\n",
    "\n",
    "INSERT INTO employee(empid, name, salary)\n",
    "VALUES(1, \"Raj\", 1200),(2, \"Rahul\", 1100),(3, \"Riti\", 1100);\n",
    "```\n",
    "![](Images/Image04(video6).png)"
   ]
  },
  {
   "cell_type": "markdown",
   "id": "227b5bb3-8dc2-4b28-823d-2c03ac741713",
   "metadata": {},
   "source": [
    "### ***Seeing values of table***\n",
    "\n",
    "#### - To see all the values in table\n",
    "```\n",
    "command: SELECT\n",
    "```\n",
    "#### - To see specific values of a column:\n",
    "```\n",
    "SELECT empid FROM employee;\n",
    "```\n",
    "#### - To see all the values or the entire table\n",
    "```\n",
    "SELECT * FROM employee;\n",
    "```\n",
    "![](Images/Image05(video6).png)"
   ]
  },
  {
   "cell_type": "markdown",
   "id": "fc597417-0afe-420b-8bc6-4fe06aee3454",
   "metadata": {},
   "source": [
    "### ***Seeing tables***\n",
    "#### - seeing tables in a given Database\n",
    "```\n",
    "command:\n",
    "\n",
    "    SHOW TABLES;\n",
    "```\n",
    "#### - It helps us to see all the tables in a given database\n",
    "![](Images/Image06(video6).png)"
   ]
  },
  {
   "cell_type": "markdown",
   "id": "c3bbc299-67da-4dd8-81db-e73541744632",
   "metadata": {},
   "source": [
    "----"
   ]
  },
  {
   "cell_type": "markdown",
   "id": "57384937-aa1a-4c4d-9ce4-05fbdee09c16",
   "metadata": {},
   "source": [
    "### ***End to End Implementation of table***\n",
    "#### - Lets create a database for Instagram\n",
    "\n",
    "#### Step1: Create a database\n",
    "```\n",
    "command: CREATE DATABASE IF NOT EXISTS instagramDb;\n",
    "```\n",
    "![](Images/Image08(video7).png)"
   ]
  },
  {
   "cell_type": "markdown",
   "id": "2c3a9cf1-cd97-4b06-8e53-19fe78967686",
   "metadata": {},
   "source": [
    "#### Step2: Use the database to create tables\n",
    "```\n",
    "command: USE instagramDb;\n",
    "```\n",
    "![](Images/Image09(video7).png)"
   ]
  },
  {
   "cell_type": "markdown",
   "id": "f8271d12-04bd-4f98-b163-ab26e7fd5ac5",
   "metadata": {},
   "source": [
    "#### Step3: Create tables into the db\n",
    "```\n",
    "CREATE TABLE IF NOT EXISTS users(\n",
    "userId INT PRIMARY KEY,\n",
    "userName VARCHAR(50),\n",
    "email VARCHAR(100)\n",
    ");\n",
    "```\n",
    "![](Images/Image10(video7).png)\n",
    "```\n",
    "CREATE TABLE IF NOT EXISTS posts(\n",
    "postId INT PRIMARY KEY,\n",
    "userId INT,\n",
    "caption VARCHAR(100)\n",
    ");\n",
    "```\n",
    "![](Images/Image11(video7).png)"
   ]
  },
  {
   "cell_type": "markdown",
   "id": "b6d68fdf-3068-4c5d-98f6-7352c496c689",
   "metadata": {},
   "source": [
    "#### Step4: Insert values in the tables\n",
    "```\n",
    "INSERT INTO users(userId, username, email)\n",
    "VALUES\n",
    "(1, \"riti\", \"abc@gmail.com\"),\n",
    "(2, \"raj\", \"xyz@gmail.com\"),\n",
    "(3, \"Rahul\", \"abc2@gmail.com\");\n",
    "```\n",
    "![](Images/Image12(video7).png)\n",
    "```\n",
    "INSERT INTO posts(postId, userId, caption)\n",
    "VALUES\n",
    "(101, 561, \"light\"),\n",
    "(102, 562, \"air\"),\n",
    "(103, 563, \"water\");\n",
    "```\n",
    "![](Images/Image13(video7).png)"
   ]
  },
  {
   "cell_type": "markdown",
   "id": "d7cfcc2b-07ff-4442-96d1-c4b16d0df884",
   "metadata": {},
   "source": [
    "### Step5: To see all the tables in the database\n",
    "```\n",
    "USE instagramDb;\n",
    "SHOW TABLES;\n",
    "```\n",
    "![](Images/Image14(video7).png)"
   ]
  },
  {
   "cell_type": "markdown",
   "id": "5310e067-3595-499c-837d-7fa4b264b121",
   "metadata": {},
   "source": [
    "#### Step6: All the values in a specific table\n",
    "```\n",
    "SELECT * FROM users;\n",
    "```\n",
    "![](Images/Image15(video7).png)\n",
    "```\n",
    "SELECT * FROM posts;\n",
    "```\n",
    "![](Images/Image16(video7).png)"
   ]
  },
  {
   "cell_type": "markdown",
   "id": "f1af1dc9-7456-45c7-95f3-9ae9d841bb31",
   "metadata": {},
   "source": [
    "----"
   ]
  },
  {
   "cell_type": "markdown",
   "id": "22e4651d-0df8-4d9e-b149-8019b9ef8e75",
   "metadata": {},
   "source": [
    "### ***Datatypes in SQL:***\n",
    "#### - Data types are used to specify the type of data that a column can store\n",
    "\n",
    "### ***Numeric:***\n",
    "#### - INTEGER/INT\n",
    "#### - SMALLINT\n",
    "#### - BIGINT\n",
    "#### - DECIMAL\n",
    "#### - FLOAT\n",
    "#### - DOUBLE\n",
    "\n",
    "### ***Character/String:***\n",
    "#### - CHAR(n)\n",
    "#### - VARCHAR(n)\n",
    "#### - TEXT\n",
    "\n",
    "### ***Date & Time:***\n",
    "#### - DATE\n",
    "#### - TIME\n",
    "#### - DATETIME\n",
    "#### - TIMESTAMP\n",
    "\n",
    "### ***Boolean:***\n",
    "#### - BOOLEAN\n",
    "\n",
    "### ***Binary:***\n",
    "#### - BINARY(n)\n",
    "#### - VARBINARY(n)\n",
    "#### - BLOB\n"
   ]
  },
  {
   "cell_type": "markdown",
   "id": "fd80f6ae-246c-40fb-96cf-4b23d1f4186b",
   "metadata": {},
   "source": [
    "### ***Numeric DataTypes:***\n",
    "#### (1) `INT          :` Used  for storing whole numbers without decimal points\n",
    "#### (2) `BIGINT       :` Used for storing large whole numbers\n",
    "#### (3) `FLOAT        :` Used for storing decimal numbers(4bytes)\n",
    "#### (4) `DOUBLE       :` Used for storing decimal numbers(8-bytes)\n",
    "#### (5) `DECIMAL(p,s) :` Used for exact numeric representation. p is the precision and s is the scale\n",
    "\n",
    "#### - By default, all the numeric datatypes can have negative as well as positive values.\n",
    "#### - This restrict the range so if we know there is only +ve values which is stored we use UNSIGNED attribute(0-255)\n",
    "#### - for eg: salary, age can never be in negative\n",
    "```\n",
    "command:\n",
    "\n",
    "CREATE TABLE example1(\n",
    "id INT UNSIGNED\n",
    ");\n",
    "```"
   ]
  },
  {
   "cell_type": "markdown",
   "id": "d3c8f688-0ab4-4df0-bf53-befb567ebdf2",
   "metadata": {},
   "source": [
    "### ***Character Datatypes:***\n",
    "\n",
    "```n: size of string```\n",
    "\n",
    "#### (1) `CHAR(n)    :` Fixed-length character strings can be stored(0-255)\n",
    "#### (2) `VARCHAR(n) :` variable-length character string can be stored(0-255)\n",
    "#### (3) `TEXT       :` variable-length character string with no specific limit\n",
    "```\n",
    "command:\n",
    "\n",
    "CREATE TABLE example1(\n",
    "name VARCHAR(50)\n",
    ");\n",
    "```"
   ]
  },
  {
   "cell_type": "markdown",
   "id": "411c358d-293e-4b17-8b0d-efe93d45634f",
   "metadata": {},
   "source": [
    "### ***Date & Time Datatypes:***\n",
    "\n",
    "#### (1) `DATE               :` Used for storing date values (YYYY-MM-DD)\n",
    "#### (2) `TIME               :` Used for storing time values(hh:mm:ss)\n",
    "#### (3) `DATETIME/TIMESTAMP :` Used for storing date and time values(YYYY-MM-DD hh:mm:ss)\n",
    "```\n",
    "command:\n",
    "\n",
    "CREATE TABLE example1(\n",
    "createdTs TIMESTAMP\n",
    ");\n",
    "```"
   ]
  },
  {
   "cell_type": "markdown",
   "id": "4338a453-95d4-4db0-a759-ba45ba49f25e",
   "metadata": {},
   "source": [
    "### ***Boolean Datatypes:***\n",
    "\n",
    "#### (1) `BOOLEAN :` Used to store a true or false value\n",
    "```\n",
    "command:\n",
    "\n",
    "CREATE TABLE example1(\n",
    "isActive BOOLEAN\n",
    ");\n",
    "```"
   ]
  },
  {
   "cell_type": "markdown",
   "id": "1e57e51f-a2d3-4f3c-add1-bcec94bf3231",
   "metadata": {},
   "source": [
    "### ***Binary Datatypes:***\n",
    "\n",
    "#### (1) `BINARY(n)               :` Used for storing fixed-length binary data\n",
    "#### (2) `VARBINARY(n)            :` Used for storing variable length binary data\n",
    "#### (3) `BLOB(BinaryLargeObject) :` Used for storing large amounts of binary data(variable length)\n",
    "```\n",
    "Command:\n",
    "\n",
    "CREATE TABLE document(\n",
    "data BLOB\n",
    ");\n",
    "```"
   ]
  },
  {
   "cell_type": "markdown",
   "id": "fb37fea4-840a-481e-ba39-cce050debd0e",
   "metadata": {},
   "source": [
    "----"
   ]
  },
  {
   "cell_type": "markdown",
   "id": "548073ea-8e4c-4c62-aec2-bffae7e03b33",
   "metadata": {},
   "source": [
    "### ***Keys in SQL:***\n",
    "\n",
    "### (1) Primary key:\n",
    "#### - A primary key is a unique identifier for each record in the table\n",
    "#### - It ensures that each row can be uniquely identified and accessed within the table\n",
    "#### - It is always ```unique + not null```\n",
    "\n",
    "### (2) Foreign key:\n",
    "#### - A foreign key is a field in a table that refers to primary key of another table\n",
    "#### - It establish relationship between tables"
   ]
  },
  {
   "cell_type": "markdown",
   "id": "fa82847a-d957-417f-804a-c31611eae8d9",
   "metadata": {},
   "source": [
    "----"
   ]
  },
  {
   "cell_type": "markdown",
   "id": "698eaf4a-156c-4b5e-9167-4b7d68343d0b",
   "metadata": {},
   "source": [
    "### ***Constraints in SQL:***\n",
    "#### - Constraints define rules or conditions that must be satisfied by the data in the table\n",
    "#### - Common constraints include uniqueness, nullability, default values etc"
   ]
  },
  {
   "cell_type": "markdown",
   "id": "4d0c57e1-395c-4760-ad2f-8f8fd56dbae1",
   "metadata": {},
   "source": [
    "#### (1) Unique constraint: ensures values in a columns are unique across the table\n",
    "\n",
    "![](Images/Image17(video10).png)\n",
    "\n",
    "![](Images/Image18(video10).png)\n",
    "\n",
    "![](Images/Image19(video10).png)"
   ]
  },
  {
   "cell_type": "markdown",
   "id": "40327827-73c1-4647-aa47-5982b9aefefc",
   "metadata": {},
   "source": [
    "#### (2) Not null constraint: ensures a column cannot have null value\n",
    "\n",
    "![](Images/Image20(video10).png)\n",
    "\n",
    "![](Images/Image21(video10).png)\n",
    "\n",
    "![](Images/Image22(video10).png)"
   ]
  },
  {
   "cell_type": "markdown",
   "id": "e10cb1a4-651c-425a-b376-fa36625dabfb",
   "metadata": {},
   "source": [
    "#### (3) Check constraint: enforces a condition to be true for each row\n",
    "\n",
    "![](Images/Image23(video10).png)\n",
    "\n",
    "![](Images/Image24(video10).png)\n",
    "\n",
    "![](Images/Image25(video10).png)"
   ]
  },
  {
   "cell_type": "markdown",
   "id": "8afa976e-ec34-4362-a166-7a78e9a40861",
   "metadata": {},
   "source": [
    "#### (4) Default constraint: Provides a default value for a column if no value is specified\n",
    "\n",
    "![](Images/Image26(video10).png)\n",
    "\n",
    "![](Images/Image27(video10).png)\n",
    "\n",
    "![](Images/Image28(video10).png)"
   ]
  },
  {
   "cell_type": "markdown",
   "id": "6ea732b5-8b31-4658-89ae-fa999ca958df",
   "metadata": {},
   "source": [
    "#### (5) Primary key: Enforces the uniqueness of values in one or more columns\n",
    "\n",
    "![](Images/Image29(video10).png)\n",
    "\n",
    "![](Images/Image30(video10).png)\n",
    "\n",
    "![](Images/Image31(video10).png)"
   ]
  },
  {
   "cell_type": "markdown",
   "id": "42b4363a-f114-4fed-936d-285f26e1b1a8",
   "metadata": {},
   "source": [
    "#### (6) Foreign key: Enforces a link between two tables by referencing a column in one table that is primary key in another table\n",
    "\n",
    "![](Images/Image32(video10).png)"
   ]
  },
  {
   "cell_type": "code",
   "execution_count": null,
   "id": "b1f6598b-978e-4538-9abc-25130272fd92",
   "metadata": {},
   "outputs": [],
   "source": []
  }
 ],
 "metadata": {
  "kernelspec": {
   "display_name": "Python 3 (ipykernel)",
   "language": "python",
   "name": "python3"
  },
  "language_info": {
   "codemirror_mode": {
    "name": "ipython",
    "version": 3
   },
   "file_extension": ".py",
   "mimetype": "text/x-python",
   "name": "python",
   "nbconvert_exporter": "python",
   "pygments_lexer": "ipython3",
   "version": "3.11.7"
  }
 },
 "nbformat": 4,
 "nbformat_minor": 5
}
