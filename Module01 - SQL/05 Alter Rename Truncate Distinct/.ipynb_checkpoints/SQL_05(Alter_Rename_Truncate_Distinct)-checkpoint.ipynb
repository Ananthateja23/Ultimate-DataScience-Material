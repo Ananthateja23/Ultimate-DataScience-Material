{
 "cells": [
  {
   "cell_type": "markdown",
   "id": "58119c8f-d353-445a-b748-f1672b6a298a",
   "metadata": {},
   "source": [
    "### ***SQL Commands:***\n",
    "\n",
    "#### (1) DQL : SELECT\n",
    "#### (2) DML : INSERT, UPDATE, DELETE\n",
    "#### (3) DDL : CREATE, ALTER, DROP, TRUNCATE, RENAME  \n",
    "\n",
    "### ***ALTER Command:***\n",
    "\n",
    "#### - ALTER is a DDL command used to modify(change) existing database objects, such as tables,indexes or constraints(schema)\n",
    "#### - Let's see all the things ALTER can help us to do.\n",
    "#### - So mostly it is used to modify the schema\n",
    "#### - So we will mostly see how it can help in modification of columns like addition of new column, deletion of column, modification of column and much more\n",
    "\n",
    "### ***ADD a column:***\n",
    "\n",
    "```\n",
    "QUERY:\n",
    "\n",
    "    ALTER TABLE tableName\n",
    "    ADD columnName datatype constraint;\n",
    "```\n",
    "![](Images/Image01(video16).png)\n",
    "![](Images/Image02(video16).png)"
   ]
  },
  {
   "cell_type": "markdown",
   "id": "bfda39c0-2023-4640-bf6c-23582969ebee",
   "metadata": {},
   "source": [
    "### ***DROP a column:***\n",
    "```\n",
    "QUERY:\n",
    "\n",
    "    ALTER TABLE tableName\n",
    "    DROP COLUMN columnName;\n",
    "```\n",
    "![](Images/Image03(video16).png)\n",
    "![](Images/Image04(video16).png)"
   ]
  },
  {
   "cell_type": "markdown",
   "id": "14e15a3f-8697-4866-9ebc-570bed3c1222",
   "metadata": {},
   "source": [
    "### ***Modify the data type of an existing column:***\n",
    "\n",
    "\n",
    "### ***MODIFY clause:***\n",
    "\n",
    "#### - The MODIFY clause is oftenly used within an ALTER TABLE statement in SQL\n",
    "#### - It allows us to change the definition or properties of an existing column in a table\n",
    "\n",
    "```\n",
    "QUERY:\n",
    "\n",
    "    ALTER TABLE tableName\n",
    "    MODIFY columnName newdatatype;\n",
    "```\n",
    "#### - The above command modifies columnName to a new datatype\n",
    "![](Images/Image05(video16).png)"
   ]
  },
  {
   "cell_type": "markdown",
   "id": "9efc2d07-763f-49b9-a12a-de87e859ce76",
   "metadata": {},
   "source": [
    "### ***Change the name of an existing columns:***\n",
    "\n",
    "### ***CHANGE:***\n",
    "\n",
    "#### - The CHANGE command is oftenly used within an ALTER TABLE statement in SQL\n",
    "#### - It helps to change the name or data type of a column within a table\n",
    "```\n",
    "QUERY:\n",
    "\n",
    "    ALTER TABLE tableName\n",
    "    CHANGE oldcolumnName newcolumnName newdatatype;\n",
    "```\n",
    "#### -The above command changes the oldcolumnName to newcolumnName and also its datatype\n",
    "![](Images/Image06(video16).png)\n",
    "![](Images/Image07(video16).png)"
   ]
  },
  {
   "cell_type": "markdown",
   "id": "c6191743-b150-49d4-a546-bb6aaa8edc9e",
   "metadata": {},
   "source": [
    "### ***Rename the name of an existing column:***\n",
    "\n",
    "### ***RENAME:***\n",
    "\n",
    "#### - RENAME command is used to change the name of an existing database object, such as table, column, index or constraint\n",
    "```\n",
    "QUERY:\n",
    "\n",
    "    ALTER TABLE tableName\n",
    "    RENAME COLUMN oldcolumnName TO newcolumnName;\n",
    "```\n",
    "#### - The above command renames the oldcolumnName to newcolumnName\n",
    "![](Images/Image08(video16).png)"
   ]
  },
  {
   "cell_type": "markdown",
   "id": "f3a76f4e-f35d-4b75-9aa1-a900c9857dd7",
   "metadata": {},
   "source": [
    "----"
   ]
  },
  {
   "cell_type": "markdown",
   "id": "93b9bc80-8b39-4b99-b848-32d4787e867c",
   "metadata": {},
   "source": [
    "### ***RENAME Command:***\n",
    "\n",
    "### ***RENAME:***\n",
    "\n",
    "#### - RENAME command is used to change the name of an existing database object, such as table, column, index or constraint\n",
    "```\n",
    "==> We cannot change database name simply due to its security concerns \n",
    "QUERY(Database Renaming):\n",
    "\n",
    "    RENAME DATABASE olddatabasename TO newdatabasename;\n",
    "```\n",
    "```\n",
    "QUERY(Table Renaming):\n",
    "\n",
    "    RENAME TABLE oldTableName TO newTableName;\n",
    "```\n",
    "#### - The above command renames the oldTableName to newTableName\n",
    "![](Images/Image09(video17).png)"
   ]
  },
  {
   "cell_type": "markdown",
   "id": "c25902c4-648e-4c87-8828-5ff18d9e3c73",
   "metadata": {},
   "source": [
    "```\n",
    "QUERY(Column Renaming):\n",
    "\n",
    "    ALTER TABLE tablename\n",
    "    RENAME COLUMN oldcolumnname To newcolumnname;\n",
    "```\n",
    "#### - The above command renames the oldcolumnName to newcolumnName\n",
    "![](Images/Image10(video17).png)\n",
    "![](Images/Image11(video17).png)"
   ]
  },
  {
   "cell_type": "markdown",
   "id": "b18b9edf-4a79-4889-9154-4ef6e35dc200",
   "metadata": {},
   "source": [
    "----"
   ]
  },
  {
   "cell_type": "markdown",
   "id": "2dd0f7b3-5fde-499f-935f-af2b840d35a1",
   "metadata": {},
   "source": [
    "### ***TRUNCATE Command:***\n",
    "\n",
    "#### - This command removes all rows from the given table, leaving the table empty but preserving its structure\n",
    "```\n",
    "QUERY:\n",
    "\n",
    "    TRUNCATE TABLE tableName;\n",
    "```\n",
    "![](Images/Image12(video18).png)\n",
    "![](Images/Image13(video18).png)\n",
    "![](Images/Image14(video18).png)\n",
    "![](Images/Image15(video18).png)"
   ]
  },
  {
   "cell_type": "markdown",
   "id": "021e2ca4-b86b-488d-8b43-17b966829fb7",
   "metadata": {},
   "source": [
    "----"
   ]
  },
  {
   "cell_type": "markdown",
   "id": "574f5410-cee2-478a-bd78-97da31c24d2e",
   "metadata": {},
   "source": [
    "### ***Difference between TRUNCATE, DELETE, DROP:***\n",
    "\n",
    "### ***TRUNCATE:***\n",
    "#### - Used to remove all rows from a table\n",
    "```\n",
    "command:\n",
    "\n",
    "    TRUNCATE TABLE tableName;\n",
    "```\n",
    "\n",
    "### ***DELETE:***\n",
    "#### - Used to remove specific rows from a table based on a condition\n",
    "```\n",
    "command: \n",
    "\n",
    "    DELETE FROM tableName\n",
    "    WHERE condition;\n",
    "```\n",
    "\n",
    "### ***DROP:***\n",
    "#### - Used to completely remove table\n",
    "```\n",
    "command:\n",
    "\n",
    "    DROP TABLE tableName;\n",
    "```"
   ]
  },
  {
   "cell_type": "markdown",
   "id": "8c3f3c10-0c77-422c-99e9-5a87e39293fa",
   "metadata": {},
   "source": [
    "----"
   ]
  },
  {
   "cell_type": "markdown",
   "id": "29734ae5-248b-4efc-a02a-b4d1d7e26e96",
   "metadata": {},
   "source": [
    "### ***Using DISTINCT to retrieve unique values:***\n",
    "\n",
    "#### - DISTINCT keyword is used within the SELECT statement to retrieve unique values from a column or combination of columns\n",
    "#### - To retrieve a list of unique values for col1\n",
    "```\n",
    "QUERY:\n",
    "    SELECT DISTINCT col1\n",
    "    FROM tableName;\n",
    "```\n",
    "#### - To return unique combination of col1 and col2\n",
    "```\n",
    "QUERY:\n",
    "    SELECT DISTINCT col1, col2\n",
    "    FROM tableName;\n",
    "```\n",
    "![](Images/Image16(video20).png)\n",
    "![](Images/Image17(video20).png)\n",
    "![](Images/Image18(video20).png)\n",
    "![](Images/Image19(video20).png)\n",
    "![](Images/Image20(video20).png)"
   ]
  },
  {
   "cell_type": "code",
   "execution_count": null,
   "id": "13082097-ac13-46fd-8dc0-f6e6c29d598a",
   "metadata": {},
   "outputs": [],
   "source": []
  }
 ],
 "metadata": {
  "kernelspec": {
   "display_name": "Python 3 (ipykernel)",
   "language": "python",
   "name": "python3"
  },
  "language_info": {
   "codemirror_mode": {
    "name": "ipython",
    "version": 3
   },
   "file_extension": ".py",
   "mimetype": "text/x-python",
   "name": "python",
   "nbconvert_exporter": "python",
   "pygments_lexer": "ipython3",
   "version": "3.11.7"
  }
 },
 "nbformat": 4,
 "nbformat_minor": 5
}
