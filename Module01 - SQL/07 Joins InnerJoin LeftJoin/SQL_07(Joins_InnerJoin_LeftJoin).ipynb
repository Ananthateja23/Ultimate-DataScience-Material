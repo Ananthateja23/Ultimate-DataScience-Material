{
 "cells": [
  {
   "cell_type": "markdown",
   "id": "15750b5a-4685-45d5-8ffc-33fba85eeeb4",
   "metadata": {},
   "source": [
    "### ***Practice Questions:***\n",
    "\n",
    "### (1) Write a query to find the total number of employees in each city\n",
    "```\n",
    "QUERY:\n",
    "\n",
    "    SELECT city, COUNT(name) AS no_of_emp\n",
    "    FROM employee\n",
    "    GROUP BY city;\n",
    "```\n",
    "![](Images/Image01(video26).png)\n",
    "\n",
    "### (2) Write a query to find the maximum salary of employees in each city in descending order\n",
    "```\n",
    "QUERY:\n",
    "\n",
    "    SELECT city, MAx(salary) AS max_salary\n",
    "    FROM employee\n",
    "    GROUP BY city\n",
    "    ORDER BY max_salary DESC;\n",
    "```\n",
    "![](Images/Image02(video26).png)\n",
    "\n",
    "### (3) Write a query to display the department names alongside total count of employees in each department sorting the results by the total number of employees in descending order\n",
    "```\n",
    "QUERY:\n",
    "\n",
    "    SELECT department, COUNT(id) AS total_employee\n",
    "    FROM employee\n",
    "    GROUP BY department\n",
    "    ORDER BY total_employee DESC;\n",
    "```\n",
    "![](Images/Image03(video26).png)\n",
    "\n",
    "### (4) Write a query to list the departments where the average salary is greater than 1200 also display the department name and the average salary\n",
    "```\n",
    "QUERY:\n",
    "\n",
    "    SELECT department, AVG(salary) AS avg_sal\n",
    "    FROM employee\n",
    "    GROUP BY department\n",
    "    HAVING avg_sal>1200;\n",
    "```\n",
    "![](Images/Image04(video26).png)"
   ]
  },
  {
   "cell_type": "markdown",
   "id": "f161f49c-946c-451d-bcf4-e9bf8cc79fec",
   "metadata": {},
   "source": [
    "----"
   ]
  },
  {
   "cell_type": "markdown",
   "id": "bd02cf78-7e50-4608-a738-61e8ab6cc8c8",
   "metadata": {},
   "source": [
    "### ***The General Order of SQL commands:***\n",
    "\n",
    "#### (1) `SELECT  :` Retrieve from the database\n",
    "#### (2) `FROM    :` Identify the table\n",
    "#### (3) `WHERE   :` Filter rows based on some conditions\n",
    "#### (4) `GROUP BY:` Group rows that have the same values\n",
    "#### (5) `HAVING  :` Filter groups based on some conditions\n",
    "#### (6) `ORDER BY:` sort the result set either ascending or descending order\n",
    "#### (7) `LIMIT   :` Limit the number of rows returned"
   ]
  },
  {
   "cell_type": "markdown",
   "id": "5eed8bef-cca1-4915-b482-eab11505d71c",
   "metadata": {},
   "source": [
    "----"
   ]
  },
  {
   "cell_type": "markdown",
   "id": "95a2539c-6233-4955-8f50-78f091065dd6",
   "metadata": {},
   "source": [
    "### ***Joins in SQL:***\n",
    "\n",
    "#### - Joins are used to combine rows from two or more tables based on a related or shared or common columns between them\n",
    "#### - There are commonly four types of joins including `INNER JOIN`, `LEFT JOIN`, `RIGHT JOIN`, `FULL JOIN`, `SELF JOIN`, `CROSS JOIN`\n",
    "\n",
    "### ***Is Foreign Key important for performing joins?***\n",
    "#### - Joins can be performed based on any columns that establish a relationship between tables, not just FK constraints so its not necessary"
   ]
  },
  {
   "cell_type": "markdown",
   "id": "7bce4a09-93e0-40ba-8477-d1f44c6dda94",
   "metadata": {},
   "source": [
    "----"
   ]
  },
  {
   "cell_type": "markdown",
   "id": "bf2a8e2a-8bb2-40b8-8cb2-6bee4e982127",
   "metadata": {},
   "source": [
    "### ***Inner Join:***\n",
    "\n",
    "#### - It helps us in getting the rows that have matching values in both tables according to the given join condition\n",
    "```\n",
    "QUERY:\n",
    "\n",
    "    SELECT columns\n",
    "    FROM table1\n",
    "    INNER JOIN table2\n",
    "    ON table1.colName = table2.colName;\n",
    "Example:\n",
    "    SELECT customer.id, orders.ordername, customer.name\n",
    "    FROM customer\n",
    "    INNER JOIN orders\n",
    "    ON customer.id = orders.id\n",
    "```\n",
    "![](Images/Image06(video29).png)\n",
    "![](Images/Image07(video29).png)"
   ]
  },
  {
   "cell_type": "markdown",
   "id": "3b9b5e96-8106-4b6f-98ce-bf2edad68719",
   "metadata": {},
   "source": [
    "----"
   ]
  },
  {
   "cell_type": "markdown",
   "id": "a58538cf-0f70-4048-9642-903794e8c18e",
   "metadata": {},
   "source": [
    "### ***Left join/ Left outer join:***\n",
    "\n",
    "#### - It is used to fetch all the records from the left table along with matched records from the right table\n",
    "#### - If there are no matching records in the right table, NULL values are returned for the columns of the right table\n",
    "```\n",
    "QUERY:\n",
    "\n",
    "    SELECT columns\n",
    "    FROM table1\n",
    "    LEFT JOIN table2\n",
    "    ON table1.colName = table2.colName;\n",
    "Example:\n",
    "    SELECT *\n",
    "    FROM customer\n",
    "    LEFT JOIN orders\n",
    "    ON customer.id = orders.id\n",
    "```\n",
    "#### `Left table :` the table specified before the left join keyword\r",
    "#### `right table:` the table specified after the left join keyword\r\n",
    "\n",
    "![](Images/Image09(video30).png)"
   ]
  },
  {
   "cell_type": "code",
   "execution_count": null,
   "id": "d3d50b16-758f-40ed-a0bb-0b709266d930",
   "metadata": {},
   "outputs": [],
   "source": []
  }
 ],
 "metadata": {
  "kernelspec": {
   "display_name": "Python 3 (ipykernel)",
   "language": "python",
   "name": "python3"
  },
  "language_info": {
   "codemirror_mode": {
    "name": "ipython",
    "version": 3
   },
   "file_extension": ".py",
   "mimetype": "text/x-python",
   "name": "python",
   "nbconvert_exporter": "python",
   "pygments_lexer": "ipython3",
   "version": "3.11.7"
  }
 },
 "nbformat": 4,
 "nbformat_minor": 5
}
