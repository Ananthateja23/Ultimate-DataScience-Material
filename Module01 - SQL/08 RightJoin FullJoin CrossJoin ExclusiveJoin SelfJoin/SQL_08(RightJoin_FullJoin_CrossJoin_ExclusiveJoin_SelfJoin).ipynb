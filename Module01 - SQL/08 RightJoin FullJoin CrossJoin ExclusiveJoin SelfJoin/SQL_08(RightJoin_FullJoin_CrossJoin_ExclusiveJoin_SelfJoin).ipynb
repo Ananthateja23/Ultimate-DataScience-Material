{
 "cells": [
  {
   "cell_type": "markdown",
   "id": "4c1fc4ff-bd39-4be7-858b-659681bd5248",
   "metadata": {},
   "source": [
    "### ***Right Join/ Right Outer Join:***\n",
    "\n",
    "\n",
    "#### - It is used to fetch all the records from the right table along with matched records from the left table\n",
    "#### - If there are no matching records in the left table, NULL values are returned for the columns of the left table\n",
    "```\n",
    "QUERY:\n",
    "\n",
    "    SELECT columns\n",
    "    FROM table1\n",
    "    RIGHT JOIN table2\n",
    "    ON table1.colName = table2.colName;\n",
    "```\n",
    "#### - `Left table  :` the table specified before the RIGHT JOIN keyword\n",
    "#### - `Right table :` the table specified after the RIGHT JOIN keyword\n",
    "```\n",
    "Example:\n",
    "\n",
    "    SELECT *\n",
    "    FROM customer\n",
    "    RIGHT JOIN orders\n",
    "    ON customer.id = orders.id;\n",
    "```\n",
    "![](Images/Image01(video31).png)\n",
    "![](Images/Image02(video31).png)\n",
    "![](Images/Image03(video31).png)\n",
    "![](Images/Image04(video31).png)\n",
    "![](Images/Image05(video31).png)\n",
    "![](Images/Image06(video31).png)\n",
    "![](Images/Image08(video31).png)"
   ]
  },
  {
   "cell_type": "markdown",
   "id": "9b917ca3-af1f-4379-a036-b60188ea69c7",
   "metadata": {},
   "source": [
    "----"
   ]
  },
  {
   "cell_type": "markdown",
   "id": "c1aab41b-3579-4b4f-85dc-1b4e16d10829",
   "metadata": {},
   "source": [
    "### ***Full Join/ Full Outer Join: (LJ + RJ)***\n",
    "\n",
    "\n",
    "#### - It returns the matching rows of both left and right table and also includes all rows from both tables even if they don't have matching rows\n",
    "#### - If there is no match, NULL values are returned for the columns of the missing table\n",
    "#### - In MySQL, the syntax for a full join is different compared to other SQL databases like PostgreSQL or SQL Server\n",
    "#### - MySQL does not support the FULL JOIN keyword directly. So we use a combination of LEFT JOIN, RIGHT JOIN and UNION to achieve the result\n",
    "\n",
    "```\n",
    "QUERY:\n",
    "\n",
    "    SELECT columns\n",
    "    FROM table1\n",
    "    LEFT JOIN table2\n",
    "    ON table1.colName = table2.ColName\n",
    "    UNION\n",
    "    SELECT columns\n",
    "    FROM table1\n",
    "    RIGHT JOIN table2\n",
    "    ON table1.colName = table2.colName;\n",
    "```\n",
    "```\n",
    "Example:\n",
    "\n",
    "    SELECT *\n",
    "    FROM customer\n",
    "    LEFT JOIN orders\n",
    "    ON customer.id=orders.id\n",
    "    UNION\n",
    "    SELECT *\n",
    "    FROM customer\n",
    "    RIGHT JOIN orders\n",
    "    ON customer.id=orders.id;\n",
    "```\n",
    "![](Images/Image09(video32).png)\n",
    "![](Images/Image10(video32).png)\n",
    "![](Images/Image11(video32).png)"
   ]
  },
  {
   "cell_type": "markdown",
   "id": "6b9c9540-79ce-4ec2-b08f-b98416d8a369",
   "metadata": {},
   "source": [
    "----"
   ]
  },
  {
   "cell_type": "markdown",
   "id": "49fc6eaa-79b4-4645-b36c-c02c730c5091",
   "metadata": {},
   "source": [
    "### ***Cross Join:(Cartesian Product)***\n",
    "\n",
    "#### - It combines each row of the first table with every row of the second table\n",
    "#### - It results a new table where the number of rows is equal to the product of the number of rows in each table(m*n)\n",
    "```\n",
    "QUERY:\n",
    "\n",
    "    SELECT *\n",
    "    FROM table1\n",
    "    CROSS JOIN table2;\n",
    "```\n",
    "![](Images/Image12(video33).png)\n",
    "![](Images/Image13(video33).png)\n",
    "![](Images/Image14(video33).png)"
   ]
  },
  {
   "cell_type": "markdown",
   "id": "904b3d8b-1879-4afa-a3a6-64b35573bfd6",
   "metadata": {},
   "source": [
    "----"
   ]
  },
  {
   "cell_type": "markdown",
   "id": "9bbe7698-350b-45b6-a177-86b25b041fbf",
   "metadata": {},
   "source": [
    "### ***Exclusive Joins in SQL:***\n",
    "\n",
    "#### - Exclusive joins are used when we want to retrieve data from two tables excluding matched rows. \n",
    "#### - They are part of outer joins or full outer join\n",
    "\n",
    "### ***Types:***\n",
    "\n",
    "#### (1) Left Exclusive JOIN\n",
    "#### (2) Right Exclusive JOIN\n",
    "#### (3) Full Exclusive JOIN"
   ]
  },
  {
   "cell_type": "markdown",
   "id": "d55c7c07-150f-438a-b6de-b9ec4fe6d68a",
   "metadata": {},
   "source": [
    "### ***Left Exclusive JOIN:***\n",
    "\n",
    "#### - When we retrive records from the left table excluding the ones matching in both left and right table\n",
    "```\n",
    "QUERY:\n",
    "\n",
    "    SELECT columns\n",
    "    FROM table1\n",
    "    LEFT JOIN table2\n",
    "    ON table1.colName = table2.colName\n",
    "    WHERE table2.colName IS NULL;\n",
    "```\n",
    "![](Images/Image15(video34).png)\n",
    "![](Images/Image16(video34).png)"
   ]
  },
  {
   "cell_type": "markdown",
   "id": "c0d87c3d-f7e8-4077-ae63-766247cf9c88",
   "metadata": {},
   "source": [
    "### ***Right Exclusive JOIN:***\n",
    "#### - When we retrive records from the right table excluding the ones matching in both left and right table\n",
    "```\n",
    "QUERY:\n",
    "\n",
    "    SELECT columns\n",
    "    FROM table1\n",
    "    RIGHT JOIN table2\n",
    "    ON table1.colName = table2.colName\n",
    "    WHERE table1.colName IS NULL;\n",
    "```\n",
    "![](Images/Image17(video34).png)\n",
    "![](Images/Image18(video34).png)"
   ]
  },
  {
   "cell_type": "markdown",
   "id": "8cae5b87-884b-4578-a249-6056c6ac8c0c",
   "metadata": {},
   "source": [
    "### ***Full Exclusive JOIN:***\n",
    "\n",
    "#### - When we retrive records from the right table and left table excluding the ones matching in both left and right table\n",
    "```\n",
    "QUERY:\n",
    "\n",
    "    SELECT columns\n",
    "    FROM table1\n",
    "    LEFT JOIN table2\n",
    "    ON table1.colName = table2.colName\n",
    "    WHERE table2.colName IS NULL\n",
    "    UNION\n",
    "    SELECT columns\n",
    "    FROM table1\n",
    "    RIGHT JOIN table2\n",
    "    ON table1.colName = table2.colName\n",
    "    WHERE table1.colName IS NULL;\n",
    "```\n",
    "![](Images/Image19(video34).png)\n",
    "![](Images/Image20(video34).png)"
   ]
  },
  {
   "cell_type": "markdown",
   "id": "f45d8dd4-76d0-4ea6-997b-7400244bee78",
   "metadata": {},
   "source": [
    "----"
   ]
  },
  {
   "cell_type": "markdown",
   "id": "bd57e0bd-0a61-4722-ae4f-feec00e9c0cb",
   "metadata": {},
   "source": [
    "### ***Self Join:***\n",
    "\n",
    "#### - A self join in SQL is a type of join where a table is joined with itself\n",
    "#### - It is a type of inner join\n",
    "```\n",
    "QUERY:\n",
    "\n",
    "    SELECT columns\n",
    "    FROM table as t1\n",
    "    JOIN table as t2\n",
    "    ON t1.colName = t2.colName;\n",
    "\n",
    "Here, t1 and t2 are aliases for the table, used to distinguish between the order of the rows\n",
    "```\n",
    "```\n",
    "Example:\n",
    "\n",
    "    SELECT s1.name as mentor_name,s2.name as name\n",
    "    FROM student as s1\n",
    "    JOIN student as s2\n",
    "    WHERE s1.s_id = s2.mentor_id;\n",
    "```\n",
    "![](Images/Image21(video35).png)\n",
    "![](Images/Image22(video35).png)\n",
    "![](Images/Image23(video35).png)\n",
    "![](Images/Image24(video35).png)\n",
    "![](Images/Image25(video35).png)\n",
    "![](Images/Image26(video35).png)\n",
    "![](Images/Image27(video35).png)"
   ]
  },
  {
   "cell_type": "code",
   "execution_count": null,
   "id": "53a50a62-411f-44d5-88c8-bdbc783ca13f",
   "metadata": {},
   "outputs": [],
   "source": []
  }
 ],
 "metadata": {
  "kernelspec": {
   "display_name": "Python 3 (ipykernel)",
   "language": "python",
   "name": "python3"
  },
  "language_info": {
   "codemirror_mode": {
    "name": "ipython",
    "version": 3
   },
   "file_extension": ".py",
   "mimetype": "text/x-python",
   "name": "python",
   "nbconvert_exporter": "python",
   "pygments_lexer": "ipython3",
   "version": "3.11.7"
  }
 },
 "nbformat": 4,
 "nbformat_minor": 5
}
