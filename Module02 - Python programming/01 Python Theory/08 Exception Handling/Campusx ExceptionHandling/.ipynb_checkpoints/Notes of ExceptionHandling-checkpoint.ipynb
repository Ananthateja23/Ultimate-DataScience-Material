{
 "cells": [
  {
   "cell_type": "markdown",
   "id": "92bd2341-90d3-46f0-b67c-b1db421a77b3",
   "metadata": {},
   "source": [
    "```\n",
    "There are two stages where error may happen in a program\n",
    "\n",
    "(1) During compilation ==> Syntax error\n",
    "\n",
    "(2) During execution   ==> Exceptions\n",
    "```"
   ]
  },
  {
   "cell_type": "markdown",
   "id": "d1025446-5771-4da9-bce3-d72893150386",
   "metadata": {},
   "source": [
    "### ***Syntax Error:***"
   ]
  },
  {
   "cell_type": "markdown",
   "id": "266722a3-0c5e-4f3f-b9d8-f5b99d675d9a",
   "metadata": {},
   "source": [
    "```\n",
    "syntax error:\n",
    "-------------\n",
    "\n",
    "==> something in the program is not written according to the program grammar\n",
    "\n",
    "==> error is raised by the interpreter or compiler\n",
    "\n",
    "==> we can solve it by rectifying the program\n",
    "```"
   ]
  },
  {
   "cell_type": "code",
   "execution_count": 1,
   "id": "a391a2b8-c24d-4ffd-9c5d-699b9d886219",
   "metadata": {},
   "outputs": [
    {
     "ename": "SyntaxError",
     "evalue": "Missing parentheses in call to 'print'. Did you mean print(...)? (3923495743.py, line 1)",
     "output_type": "error",
     "traceback": [
      "\u001b[1;36m  Cell \u001b[1;32mIn[1], line 1\u001b[1;36m\u001b[0m\n\u001b[1;33m    print \"hello world\"\u001b[0m\n\u001b[1;37m    ^\u001b[0m\n\u001b[1;31mSyntaxError\u001b[0m\u001b[1;31m:\u001b[0m Missing parentheses in call to 'print'. Did you mean print(...)?\n"
     ]
    }
   ],
   "source": [
    "print \"hello world\""
   ]
  },
  {
   "cell_type": "markdown",
   "id": "b1a25728-2d7d-4026-b2b3-a537c443899b",
   "metadata": {},
   "source": [
    "```\n",
    "some examples of syntax error:\n",
    "------------------------------\n",
    "\n",
    "==> leaving symbols like colons, brackets\n",
    "\n",
    "==> misspelling a keyword\n",
    "\n",
    "==> incorrect indentation\n",
    "\n",
    "==> empty if/else/loops/class/functions\n",
    "```"
   ]
  },
  {
   "cell_type": "code",
   "execution_count": 2,
   "id": "e5f29e9c-408d-4577-87a0-eed05fe968fd",
   "metadata": {},
   "outputs": [
    {
     "ename": "SyntaxError",
     "evalue": "expected ':' (2303851985.py, line 2)",
     "output_type": "error",
     "traceback": [
      "\u001b[1;36m  Cell \u001b[1;32mIn[2], line 2\u001b[1;36m\u001b[0m\n\u001b[1;33m    if a == 3\u001b[0m\n\u001b[1;37m             ^\u001b[0m\n\u001b[1;31mSyntaxError\u001b[0m\u001b[1;31m:\u001b[0m expected ':'\n"
     ]
    }
   ],
   "source": [
    "a = 5\n",
    "if a == 3\n",
    "    print(\"hello\")"
   ]
  },
  {
   "cell_type": "code",
   "execution_count": 3,
   "id": "9e2056f0-c94a-4832-831f-de57a901d27a",
   "metadata": {},
   "outputs": [
    {
     "ename": "SyntaxError",
     "evalue": "invalid syntax (742868737.py, line 2)",
     "output_type": "error",
     "traceback": [
      "\u001b[1;36m  Cell \u001b[1;32mIn[3], line 2\u001b[1;36m\u001b[0m\n\u001b[1;33m    iff a == 3:\u001b[0m\n\u001b[1;37m        ^\u001b[0m\n\u001b[1;31mSyntaxError\u001b[0m\u001b[1;31m:\u001b[0m invalid syntax\n"
     ]
    }
   ],
   "source": [
    "a = 5\n",
    "iff a == 3:\n",
    "    print(\"hello\")"
   ]
  },
  {
   "cell_type": "code",
   "execution_count": 4,
   "id": "f739574f-6361-40be-b824-d7a7c02edfc1",
   "metadata": {},
   "outputs": [
    {
     "ename": "IndentationError",
     "evalue": "expected an indented block after 'if' statement on line 2 (1664869360.py, line 3)",
     "output_type": "error",
     "traceback": [
      "\u001b[1;36m  Cell \u001b[1;32mIn[4], line 3\u001b[1;36m\u001b[0m\n\u001b[1;33m    print(\"hello\")\u001b[0m\n\u001b[1;37m    ^\u001b[0m\n\u001b[1;31mIndentationError\u001b[0m\u001b[1;31m:\u001b[0m expected an indented block after 'if' statement on line 2\n"
     ]
    }
   ],
   "source": [
    "a = 5\n",
    "if a == 3:\n",
    "print(\"hello\")"
   ]
  },
  {
   "cell_type": "markdown",
   "id": "77708f0e-0d09-42fa-bbf7-999011eb6e44",
   "metadata": {},
   "source": [
    "### ***Other types of errors:***"
   ]
  },
  {
   "cell_type": "markdown",
   "id": "3687fb1c-745e-45f5-9cac-447f47b9855d",
   "metadata": {},
   "source": [
    "```\n",
    "(1) IndexError: The IndexError is thrown when trying to access an item at an invalid index\n",
    "```"
   ]
  },
  {
   "cell_type": "code",
   "execution_count": 5,
   "id": "a7def509-744f-4627-a422-fadb640a8c77",
   "metadata": {},
   "outputs": [
    {
     "ename": "IndexError",
     "evalue": "list index out of range",
     "output_type": "error",
     "traceback": [
      "\u001b[1;31m---------------------------------------------------------------------------\u001b[0m",
      "\u001b[1;31mIndexError\u001b[0m                                Traceback (most recent call last)",
      "Cell \u001b[1;32mIn[5], line 2\u001b[0m\n\u001b[0;32m      1\u001b[0m l \u001b[38;5;241m=\u001b[39m [\u001b[38;5;241m10\u001b[39m, \u001b[38;5;241m20\u001b[39m, \u001b[38;5;241m30\u001b[39m]\n\u001b[1;32m----> 2\u001b[0m l[\u001b[38;5;241m100\u001b[39m]\n",
      "\u001b[1;31mIndexError\u001b[0m: list index out of range"
     ]
    }
   ],
   "source": [
    "l = [10, 20, 30]\n",
    "l[100]"
   ]
  },
  {
   "cell_type": "markdown",
   "id": "7c01cc9d-ff9c-4a40-8f12-dbb556d8fbdd",
   "metadata": {},
   "source": [
    "```\n",
    "(2) ModuleNotFoundError: It is thrown when a module could not be found\n",
    "```"
   ]
  },
  {
   "cell_type": "code",
   "execution_count": 6,
   "id": "2e078eb1-d24f-4bdf-8ffd-292007b16d4f",
   "metadata": {},
   "outputs": [
    {
     "ename": "ModuleNotFoundError",
     "evalue": "No module named 'mathi'",
     "output_type": "error",
     "traceback": [
      "\u001b[1;31m---------------------------------------------------------------------------\u001b[0m",
      "\u001b[1;31mModuleNotFoundError\u001b[0m                       Traceback (most recent call last)",
      "Cell \u001b[1;32mIn[6], line 1\u001b[0m\n\u001b[1;32m----> 1\u001b[0m \u001b[38;5;28;01mimport\u001b[39;00m \u001b[38;5;21;01mmathi\u001b[39;00m\n\u001b[0;32m      2\u001b[0m mathi\u001b[38;5;241m.\u001b[39msqrt(\u001b[38;5;241m4\u001b[39m)\n",
      "\u001b[1;31mModuleNotFoundError\u001b[0m: No module named 'mathi'"
     ]
    }
   ],
   "source": [
    "import mathi\n",
    "mathi.sqrt(4)"
   ]
  },
  {
   "cell_type": "markdown",
   "id": "34a8acb2-25bb-4932-b9be-f677a8b76747",
   "metadata": {},
   "source": [
    "```\n",
    "(3) KeyError: It is thrown when a key is not found\n",
    "```"
   ]
  },
  {
   "cell_type": "code",
   "execution_count": 7,
   "id": "046cee1f-be9b-4c4a-b2b7-09735bccb1f3",
   "metadata": {},
   "outputs": [
    {
     "ename": "KeyError",
     "evalue": "'age'",
     "output_type": "error",
     "traceback": [
      "\u001b[1;31m---------------------------------------------------------------------------\u001b[0m",
      "\u001b[1;31mKeyError\u001b[0m                                  Traceback (most recent call last)",
      "Cell \u001b[1;32mIn[7], line 2\u001b[0m\n\u001b[0;32m      1\u001b[0m d \u001b[38;5;241m=\u001b[39m {\u001b[38;5;124m'\u001b[39m\u001b[38;5;124mname\u001b[39m\u001b[38;5;124m'\u001b[39m : \u001b[38;5;124m\"\u001b[39m\u001b[38;5;124mAnanth\u001b[39m\u001b[38;5;124m\"\u001b[39m}\n\u001b[1;32m----> 2\u001b[0m d[\u001b[38;5;124m\"\u001b[39m\u001b[38;5;124mage\u001b[39m\u001b[38;5;124m\"\u001b[39m]\n",
      "\u001b[1;31mKeyError\u001b[0m: 'age'"
     ]
    }
   ],
   "source": [
    "d = {'name' : \"Ananth\"}\n",
    "d[\"age\"]"
   ]
  },
  {
   "cell_type": "markdown",
   "id": "d920fc6a-71f2-4e36-a968-eb90f047a064",
   "metadata": {},
   "source": [
    "```\n",
    "(4) TypeError: It is thrown when a operation or function is applied to an object of an inappropriate type\n",
    "```"
   ]
  },
  {
   "cell_type": "code",
   "execution_count": 8,
   "id": "f938cacd-f1a9-44e6-b79c-abbd27ef7650",
   "metadata": {},
   "outputs": [
    {
     "ename": "TypeError",
     "evalue": "unsupported operand type(s) for +: 'int' and 'str'",
     "output_type": "error",
     "traceback": [
      "\u001b[1;31m---------------------------------------------------------------------------\u001b[0m",
      "\u001b[1;31mTypeError\u001b[0m                                 Traceback (most recent call last)",
      "Cell \u001b[1;32mIn[8], line 1\u001b[0m\n\u001b[1;32m----> 1\u001b[0m \u001b[38;5;241m5\u001b[39m\u001b[38;5;241m+\u001b[39m\u001b[38;5;124m'\u001b[39m\u001b[38;5;124m5\u001b[39m\u001b[38;5;124m'\u001b[39m\n",
      "\u001b[1;31mTypeError\u001b[0m: unsupported operand type(s) for +: 'int' and 'str'"
     ]
    }
   ],
   "source": [
    "5+'5'"
   ]
  },
  {
   "cell_type": "markdown",
   "id": "d540a2a2-4252-428d-8098-b256c8dc4b7c",
   "metadata": {},
   "source": [
    "```\n",
    "(5) ValueError: It is thrown when a function's argument is of an inappropriate type\n",
    "```"
   ]
  },
  {
   "cell_type": "code",
   "execution_count": 9,
   "id": "27dd4e9e-5148-43d3-a58f-0560b3f8ed24",
   "metadata": {},
   "outputs": [
    {
     "ename": "ValueError",
     "evalue": "invalid literal for int() with base 10: 'a'",
     "output_type": "error",
     "traceback": [
      "\u001b[1;31m---------------------------------------------------------------------------\u001b[0m",
      "\u001b[1;31mValueError\u001b[0m                                Traceback (most recent call last)",
      "Cell \u001b[1;32mIn[9], line 1\u001b[0m\n\u001b[1;32m----> 1\u001b[0m \u001b[38;5;28mint\u001b[39m(\u001b[38;5;124m'\u001b[39m\u001b[38;5;124ma\u001b[39m\u001b[38;5;124m'\u001b[39m)\n",
      "\u001b[1;31mValueError\u001b[0m: invalid literal for int() with base 10: 'a'"
     ]
    }
   ],
   "source": [
    "int('a')"
   ]
  },
  {
   "cell_type": "markdown",
   "id": "4dbd2e1b-f5bd-4129-9ddd-ece0681d7d02",
   "metadata": {},
   "source": [
    "```\n",
    "(6) NameError: It is thrown when an object could not be found\n",
    "```"
   ]
  },
  {
   "cell_type": "code",
   "execution_count": 10,
   "id": "0eb55882-e53b-46c3-8ee9-e65ea5e1b014",
   "metadata": {},
   "outputs": [
    {
     "ename": "NameError",
     "evalue": "name 'k' is not defined",
     "output_type": "error",
     "traceback": [
      "\u001b[1;31m---------------------------------------------------------------------------\u001b[0m",
      "\u001b[1;31mNameError\u001b[0m                                 Traceback (most recent call last)",
      "Cell \u001b[1;32mIn[10], line 1\u001b[0m\n\u001b[1;32m----> 1\u001b[0m \u001b[38;5;28mprint\u001b[39m(k)\n",
      "\u001b[1;31mNameError\u001b[0m: name 'k' is not defined"
     ]
    }
   ],
   "source": [
    "print(k)"
   ]
  },
  {
   "cell_type": "markdown",
   "id": "5afbeaef-8d3e-4662-a562-df4d32959125",
   "metadata": {},
   "source": [
    "```\n",
    "(7)  AttributeError:It is thrown when an attribute or method not belongs to class or object\n",
    "```"
   ]
  },
  {
   "cell_type": "code",
   "execution_count": 11,
   "id": "5defd85f-92e0-4940-a1a3-9b70be834e84",
   "metadata": {},
   "outputs": [
    {
     "ename": "AttributeError",
     "evalue": "'list' object has no attribute 'upper'",
     "output_type": "error",
     "traceback": [
      "\u001b[1;31m---------------------------------------------------------------------------\u001b[0m",
      "\u001b[1;31mAttributeError\u001b[0m                            Traceback (most recent call last)",
      "Cell \u001b[1;32mIn[11], line 2\u001b[0m\n\u001b[0;32m      1\u001b[0m L \u001b[38;5;241m=\u001b[39m [\u001b[38;5;241m1\u001b[39m, \u001b[38;5;241m2\u001b[39m, \u001b[38;5;241m3\u001b[39m]\n\u001b[1;32m----> 2\u001b[0m L\u001b[38;5;241m.\u001b[39mupper()\n",
      "\u001b[1;31mAttributeError\u001b[0m: 'list' object has no attribute 'upper'"
     ]
    }
   ],
   "source": [
    "L = [1, 2, 3]\n",
    "L.upper()"
   ]
  },
  {
   "cell_type": "markdown",
   "id": "61ca9c53-a1b8-4c16-ac8b-c817b6f89c57",
   "metadata": {},
   "source": [
    "### ***Exceptions:***"
   ]
  },
  {
   "cell_type": "markdown",
   "id": "6ca7c35e-a4e1-4d6b-9888-bf7c1b9c5727",
   "metadata": {},
   "source": [
    "```\n",
    "Exceptions:\n",
    "-----------\n",
    "\n",
    "==> If things go wrong during the execution of the program(runtime). It generally happens when something unforeseen has happened.\n",
    "\n",
    "==> Exceptions are raised by the python runtime\n",
    "    \n",
    "==> you have to takle is on the fly\n",
    "\n",
    "==> In exceptions, there is no problem at coding side, but we have to dynamically write a piece of code that handles exceptions.\n",
    "\n",
    "Examples: \n",
    "---------\n",
    "\n",
    "==> Memory overflow\n",
    "\n",
    "==> Divide by zero / logical error\n",
    "    \n",
    "==> Database error\n",
    "```"
   ]
  },
  {
   "cell_type": "markdown",
   "id": "591aa2ad-e95b-48ee-8a91-a20a1a0d6134",
   "metadata": {},
   "source": [
    "----"
   ]
  },
  {
   "cell_type": "markdown",
   "id": "f7e4c256-526e-489f-b7ed-b6a88bbeed5a",
   "metadata": {},
   "source": [
    "```\n",
    "questions:\n",
    "----------\n",
    "(1) why is it important to handle exceptions\n",
    "\n",
    "==> There are two reasons for handling the exceptions\n",
    "==> User experience\n",
    "==> Security\n",
    "\n",
    "\n",
    "(2) how to handle exceptions\n",
    "(3) what do we write inside try and except block\n",
    "\n",
    "==> try: inside try, we write a code that might occur exception\n",
    "\n",
    "==> except: inside except, we write a code that tell what should be done after exception\n",
    "```"
   ]
  },
  {
   "cell_type": "code",
   "execution_count": 12,
   "id": "72ef21ba-0459-4e74-a54a-00e4aaed91d4",
   "metadata": {},
   "outputs": [],
   "source": [
    "# create a file\n",
    "with open(\"sample.txt\", \"w\") as f:\n",
    "\tf.write(\"hello\")"
   ]
  },
  {
   "cell_type": "code",
   "execution_count": 13,
   "id": "65eb025e-b5d6-478a-b1d8-b79901cfd6bf",
   "metadata": {},
   "outputs": [
    {
     "name": "stdout",
     "output_type": "stream",
     "text": [
      "hello\n"
     ]
    }
   ],
   "source": [
    "# try-except demo\n",
    "with open(\"sample.txt\", \"r\") as f:\n",
    "\tprint(f.read())"
   ]
  },
  {
   "cell_type": "code",
   "execution_count": 14,
   "id": "955a7c26-2acc-4374-a6d7-4373f033a1bd",
   "metadata": {},
   "outputs": [
    {
     "ename": "FileNotFoundError",
     "evalue": "[Errno 2] No such file or directory: 'sample1.txt'",
     "output_type": "error",
     "traceback": [
      "\u001b[1;31m---------------------------------------------------------------------------\u001b[0m",
      "\u001b[1;31mFileNotFoundError\u001b[0m                         Traceback (most recent call last)",
      "Cell \u001b[1;32mIn[14], line 1\u001b[0m\n\u001b[1;32m----> 1\u001b[0m \u001b[38;5;28;01mwith\u001b[39;00m \u001b[38;5;28mopen\u001b[39m(\u001b[38;5;124m\"\u001b[39m\u001b[38;5;124msample1.txt\u001b[39m\u001b[38;5;124m\"\u001b[39m, \u001b[38;5;124m\"\u001b[39m\u001b[38;5;124mr\u001b[39m\u001b[38;5;124m\"\u001b[39m) \u001b[38;5;28;01mas\u001b[39;00m f:\n\u001b[0;32m      2\u001b[0m \t\u001b[38;5;28mprint\u001b[39m(f\u001b[38;5;241m.\u001b[39mread())\n",
      "File \u001b[1;32m~\\anaconda3\\Lib\\site-packages\\IPython\\core\\interactiveshell.py:310\u001b[0m, in \u001b[0;36m_modified_open\u001b[1;34m(file, *args, **kwargs)\u001b[0m\n\u001b[0;32m    303\u001b[0m \u001b[38;5;28;01mif\u001b[39;00m file \u001b[38;5;129;01min\u001b[39;00m {\u001b[38;5;241m0\u001b[39m, \u001b[38;5;241m1\u001b[39m, \u001b[38;5;241m2\u001b[39m}:\n\u001b[0;32m    304\u001b[0m     \u001b[38;5;28;01mraise\u001b[39;00m \u001b[38;5;167;01mValueError\u001b[39;00m(\n\u001b[0;32m    305\u001b[0m         \u001b[38;5;124mf\u001b[39m\u001b[38;5;124m\"\u001b[39m\u001b[38;5;124mIPython won\u001b[39m\u001b[38;5;124m'\u001b[39m\u001b[38;5;124mt let you open fd=\u001b[39m\u001b[38;5;132;01m{\u001b[39;00mfile\u001b[38;5;132;01m}\u001b[39;00m\u001b[38;5;124m by default \u001b[39m\u001b[38;5;124m\"\u001b[39m\n\u001b[0;32m    306\u001b[0m         \u001b[38;5;124m\"\u001b[39m\u001b[38;5;124mas it is likely to crash IPython. If you know what you are doing, \u001b[39m\u001b[38;5;124m\"\u001b[39m\n\u001b[0;32m    307\u001b[0m         \u001b[38;5;124m\"\u001b[39m\u001b[38;5;124myou can use builtins\u001b[39m\u001b[38;5;124m'\u001b[39m\u001b[38;5;124m open.\u001b[39m\u001b[38;5;124m\"\u001b[39m\n\u001b[0;32m    308\u001b[0m     )\n\u001b[1;32m--> 310\u001b[0m \u001b[38;5;28;01mreturn\u001b[39;00m io_open(file, \u001b[38;5;241m*\u001b[39margs, \u001b[38;5;241m*\u001b[39m\u001b[38;5;241m*\u001b[39mkwargs)\n",
      "\u001b[1;31mFileNotFoundError\u001b[0m: [Errno 2] No such file or directory: 'sample1.txt'"
     ]
    }
   ],
   "source": [
    "with open(\"sample1.txt\", \"r\") as f:\n",
    "\tprint(f.read())"
   ]
  },
  {
   "cell_type": "code",
   "execution_count": 15,
   "id": "98070061-6ddf-4df7-8f12-5257fdcf7390",
   "metadata": {},
   "outputs": [
    {
     "name": "stdout",
     "output_type": "stream",
     "text": [
      "Sorry file not found\n"
     ]
    }
   ],
   "source": [
    "try:\n",
    "    with open(\"sample1.txt\", \"r\") as f:\n",
    "        print(f.read())\n",
    "except:\n",
    "    print(\"Sorry file not found\")"
   ]
  },
  {
   "cell_type": "markdown",
   "id": "91816b10-83fd-4f1b-952c-1926e86721ee",
   "metadata": {},
   "source": [
    "----"
   ]
  },
  {
   "cell_type": "markdown",
   "id": "31bc3ee9-7b82-4350-b276-60d7379d1380",
   "metadata": {},
   "source": [
    "```\n",
    "catching specific exception:\n",
    "----------------------------\n",
    "\n",
    "==> It is not necessary that our program always had a single exception. \n",
    "\n",
    "==> It is not a good practice to tell always same sort of error for every exception that occurred from try block\n",
    "\n",
    "==> Inside our program, we write multiple lines of code those might provide different exception\n",
    "    \n",
    "==> So, we are writing multiple except blocks to handle different sort of exception of its own pace \n",
    "\n",
    "==> Always at the end, we define a generic exception block to handle any unknown exception\n",
    "```"
   ]
  },
  {
   "cell_type": "code",
   "execution_count": 16,
   "id": "6eeb7806-6935-4d98-a37a-5da91d7c51bc",
   "metadata": {},
   "outputs": [
    {
     "name": "stdout",
     "output_type": "stream",
     "text": [
      "some error occurred\n"
     ]
    }
   ],
   "source": [
    "# If file not exist\n",
    "try:\n",
    "\tf = open(\"sample1.txt\", \"r\")\n",
    "\tprint(f.read())\n",
    "\tprint(m)\n",
    "except:\n",
    "\tprint(\"some error occurred\")"
   ]
  },
  {
   "cell_type": "code",
   "execution_count": 17,
   "id": "3da39b72-0218-4f68-be8d-f66f43166f38",
   "metadata": {},
   "outputs": [
    {
     "name": "stdout",
     "output_type": "stream",
     "text": [
      "hello\n",
      "some error occurred\n"
     ]
    }
   ],
   "source": [
    "# If file exist\n",
    "try:\n",
    "\tf = open(\"sample.txt\", \"r\")\n",
    "\tprint(f.read())\n",
    "\tprint(m)\n",
    "except:\n",
    "\n",
    "    print(\"some error occurred\")"
   ]
  },
  {
   "cell_type": "code",
   "execution_count": 18,
   "id": "b02900d8-3c83-475b-a185-56a85a305d4c",
   "metadata": {},
   "outputs": [
    {
     "name": "stdout",
     "output_type": "stream",
     "text": [
      "hello\n",
      "<built-in method with_traceback of NameError object at 0x00000159F2280040>\n"
     ]
    }
   ],
   "source": [
    "# If file exists but variable not defined\n",
    "try:\n",
    "\tf = open(\"sample.txt\", \"r\")\n",
    "\tprint(f.read())\n",
    "\tprint(m)\n",
    "except Exception as e:\n",
    "\tprint(e.with_traceback)"
   ]
  },
  {
   "cell_type": "code",
   "execution_count": 20,
   "id": "b7d4d4d6-14d1-498c-9742-27c1bd7e9d8b",
   "metadata": {},
   "outputs": [
    {
     "name": "stdout",
     "output_type": "stream",
     "text": [
      "File not found\n"
     ]
    }
   ],
   "source": [
    "try:\n",
    "    f = open(\"sample1.txt\", \"r\")\n",
    "    print(f.read())\n",
    "    print(m)\n",
    "except FileNotFoundError:\n",
    "    print(\"File not found\")\n",
    "except NameError:\n",
    "    print(\"variable not defined\")"
   ]
  },
  {
   "cell_type": "code",
   "execution_count": 21,
   "id": "3564ef6c-1c58-49a1-991a-d0a2af289055",
   "metadata": {},
   "outputs": [
    {
     "name": "stdout",
     "output_type": "stream",
     "text": [
      "hello\n",
      "variable not defined\n"
     ]
    }
   ],
   "source": [
    "try:\n",
    "\tf = open(\"sample.txt\", \"r\")\n",
    "\tprint(f.read())\n",
    "\tprint(m)\n",
    "except FileNotFoundError:\n",
    "\tprint(\"File not found\")\n",
    "except NameError:\n",
    "\tprint(\"variable not defined\")"
   ]
  },
  {
   "cell_type": "code",
   "execution_count": 23,
   "id": "bb9f1527-f537-4af3-b36a-f53420504d77",
   "metadata": {},
   "outputs": [
    {
     "name": "stdout",
     "output_type": "stream",
     "text": [
      "hello\n",
      "5\n",
      "can't divide by 0\n"
     ]
    }
   ],
   "source": [
    "try:\n",
    "\tm = 5\n",
    "\tf = open(\"sample.txt\", \"r\")\n",
    "\tprint(f.read())\n",
    "\tprint(m)\n",
    "\tprint(5/0)\n",
    "except FileNotFoundError:\n",
    "\tprint(\"File not found\")\n",
    "except NameError:\n",
    "\tprint(\"variable not defined\")\n",
    "except ZeroDivisionError:\n",
    "\tprint(\"can't divide by 0\")\n",
    "except Exception as e:\n",
    "\tprint(e)"
   ]
  },
  {
   "cell_type": "code",
   "execution_count": 39,
   "id": "84c9ab33-00ed-4d19-9046-c0e7856bde51",
   "metadata": {},
   "outputs": [
    {
     "name": "stdout",
     "output_type": "stream",
     "text": [
      "hello\n",
      "5\n",
      "2.5\n",
      "list index out of range\n"
     ]
    }
   ],
   "source": [
    "try:\n",
    "    m = 5\n",
    "    f = open(\"sample.txt\", \"r\")\n",
    "    print(f.read())\n",
    "    print(m)\n",
    "    print(5/2)\n",
    "    l = [10, 20, 30]\n",
    "    l[30]\n",
    "except FileNotFoundError:\n",
    "\tprint(\"File not found\")\n",
    "except NameError:\n",
    "\tprint(\"variable not defined\")\n",
    "except ZeroDivisionError:\n",
    "\tprint(\"can't divide by 0\")\n",
    "except Exception as e:\n",
    "\tprint(e)"
   ]
  },
  {
   "cell_type": "code",
   "execution_count": 40,
   "id": "26868132-030b-4015-bd26-2be35a225ac1",
   "metadata": {},
   "outputs": [
    {
     "name": "stdout",
     "output_type": "stream",
     "text": [
      "hello\n",
      "5\n",
      "2.5\n",
      "list index out of range\n"
     ]
    }
   ],
   "source": [
    "try:\n",
    "\tm = 5\n",
    "\tf = open(\"sample.txt\", \"r\")\n",
    "\tprint(f.read())\n",
    "\tprint(m)\n",
    "\tprint(5/2)\n",
    "\tL = [1, 2, 3]\n",
    "\tL[100]\n",
    "except Exception as e:\n",
    "\tprint(e)\n",
    "except FileNotFoundError:\n",
    "\tprint(\"File not found\")\n",
    "except NameError:\n",
    "\tprint(\"variable not defined\")\n",
    "except ZeroDivisionError:\n",
    "\tprint(\"can't divide by 0\")\n"
   ]
  },
  {
   "cell_type": "markdown",
   "id": "1ad40448-eac8-4c37-8372-ea236e886713",
   "metadata": {},
   "source": [
    "```\n",
    "==> Always declare the generic exception block at the end of code otherwise it override the specific exception blocks\n",
    "```"
   ]
  },
  {
   "cell_type": "markdown",
   "id": "f2ff3ba5-4bef-4678-9356-864b0ed89502",
   "metadata": {},
   "source": [
    "----"
   ]
  },
  {
   "cell_type": "markdown",
   "id": "3b10709a-e19b-4d28-bd0a-964ba3a1c076",
   "metadata": {},
   "source": [
    "```\n",
    "else:\n",
    "-----\n",
    "\n",
    "==> inside else block, we write code that doesn't throw any error and it was executed when try block executes successfully\n",
    "```"
   ]
  },
  {
   "cell_type": "code",
   "execution_count": 41,
   "id": "804418fb-048c-4a82-b1db-b9d0d3253540",
   "metadata": {},
   "outputs": [
    {
     "name": "stdout",
     "output_type": "stream",
     "text": [
      "hello\n"
     ]
    }
   ],
   "source": [
    "try:\n",
    "\tf = open(\"sample.txt\", \"r\")\n",
    "except FileNotFoundError:\n",
    "\tprint(\"file not found\")\n",
    "except Exception as e:\n",
    "\tprint(e)\n",
    "else:\n",
    "\tprint(f.read())"
   ]
  },
  {
   "cell_type": "markdown",
   "id": "d33024ed-877f-4eaf-ac38-b444eb652ceb",
   "metadata": {},
   "source": [
    "```\n",
    "finally:\n",
    "--------\n",
    "\n",
    "==> Inside finally block, we write code that should execute always whether error occurred or not occured\n",
    "```\n"
   ]
  },
  {
   "cell_type": "code",
   "execution_count": 42,
   "id": "f91be364-afe6-4852-ae21-591f070e1dc4",
   "metadata": {},
   "outputs": [
    {
     "name": "stdout",
     "output_type": "stream",
     "text": [
      "hello\n",
      "It print always\n"
     ]
    }
   ],
   "source": [
    "try:\n",
    "\tf = open(\"sample.txt\", \"r\")\n",
    "except FileNotFoundError:\n",
    "\tprint(\"file not found\")\n",
    "except Exception as e:\n",
    "\tprint(e)\n",
    "else:\n",
    "\tprint(f.read())\n",
    "finally:\n",
    "\tprint(\"It print always\")"
   ]
  },
  {
   "cell_type": "code",
   "execution_count": 43,
   "id": "988a3cc6-a804-41ce-b79c-2601c85d4cc5",
   "metadata": {},
   "outputs": [
    {
     "name": "stdout",
     "output_type": "stream",
     "text": [
      "file not found\n",
      "It print always\n"
     ]
    }
   ],
   "source": [
    "try:\n",
    "\tf = open(\"sample1.txt\", \"r\")\n",
    "except FileNotFoundError:\n",
    "\tprint(\"file not found\")\n",
    "except Exception as e:\n",
    "\tprint(e)\n",
    "else:\n",
    "\tprint(f.read())\n",
    "finally:\n",
    "\tprint(\"It print always\")"
   ]
  },
  {
   "cell_type": "markdown",
   "id": "456d4f15-2eff-410e-ba1e-f168ce13df87",
   "metadata": {},
   "source": [
    "```\n",
    "points to remember:\n",
    "-------------------\n",
    "\n",
    "==> Inside try block, we write code relates to external resources(file, Bluetooth, database, socket)\n",
    "\n",
    "==> Inside finally block, we write code that closes the external resources \n",
    "```"
   ]
  },
  {
   "cell_type": "markdown",
   "id": "5d1fc888-dc61-4ee5-bbe3-7f5019d041a8",
   "metadata": {},
   "source": [
    "----"
   ]
  },
  {
   "cell_type": "markdown",
   "id": "f0d1dd37-171d-48fd-b5af-d1040a0ec031",
   "metadata": {},
   "source": [
    "```\n",
    "Raise Exception:\n",
    "----------------\n",
    "\n",
    "==> In Python Programming, exceptions are raised when errors occur at runtime\n",
    "\n",
    "==> we can also manually raise exceptions using the raise keyword\n",
    "\n",
    "==> we can optionally pass values to the exception to clarify why that exception was raised\n",
    "```"
   ]
  },
  {
   "cell_type": "code",
   "execution_count": 44,
   "id": "da1f0332-95f6-4ed9-b64a-ab63e0a95fd8",
   "metadata": {},
   "outputs": [
    {
     "ename": "NameError",
     "evalue": "",
     "output_type": "error",
     "traceback": [
      "\u001b[1;31m---------------------------------------------------------------------------\u001b[0m",
      "\u001b[1;31mNameError\u001b[0m                                 Traceback (most recent call last)",
      "Cell \u001b[1;32mIn[44], line 1\u001b[0m\n\u001b[1;32m----> 1\u001b[0m \u001b[38;5;28;01mraise\u001b[39;00m \u001b[38;5;167;01mNameError\u001b[39;00m\n",
      "\u001b[1;31mNameError\u001b[0m: "
     ]
    }
   ],
   "source": [
    "raise NameError"
   ]
  },
  {
   "cell_type": "code",
   "execution_count": 45,
   "id": "5bc34ba7-d060-446d-9ff6-8bd06234d5c5",
   "metadata": {},
   "outputs": [
    {
     "ename": "NameError",
     "evalue": "I am trying like this???",
     "output_type": "error",
     "traceback": [
      "\u001b[1;31m---------------------------------------------------------------------------\u001b[0m",
      "\u001b[1;31mNameError\u001b[0m                                 Traceback (most recent call last)",
      "Cell \u001b[1;32mIn[45], line 1\u001b[0m\n\u001b[1;32m----> 1\u001b[0m \u001b[38;5;28;01mraise\u001b[39;00m \u001b[38;5;167;01mNameError\u001b[39;00m(\u001b[38;5;124m\"\u001b[39m\u001b[38;5;124mI am trying like this???\u001b[39m\u001b[38;5;124m\"\u001b[39m)\n",
      "\u001b[1;31mNameError\u001b[0m: I am trying like this???"
     ]
    }
   ],
   "source": [
    "raise NameError(\"I am trying like this???\")"
   ]
  },
  {
   "cell_type": "markdown",
   "id": "992288fb-38f9-4606-9a5c-0120aa7245cd",
   "metadata": {},
   "source": [
    "```\n",
    "what is the benefit of raise???\n",
    "\n",
    "==> is there any benefit of raise an exception whenever at any point of code???\n",
    "\n",
    "==> walkthrough the below piece of bank code and understand the use of raise\n",
    "\n",
    "==> you can raise an error at any point of code and send it to the except block that handles the error\n",
    "```"
   ]
  },
  {
   "cell_type": "code",
   "execution_count": 46,
   "id": "d1999810-b981-4e5e-9344-d95549898a68",
   "metadata": {},
   "outputs": [],
   "source": [
    "class Bank:\n",
    "\tdef __init__(self, balance):\n",
    "\t\tself.balance = balance\n",
    "\t\n",
    "\tdef withdraw(self, amount):\n",
    "\t\tif amount < 0:\n",
    "\t\t\traise Exception(\"Amount cannot be -ve\")\n",
    "\t\tif self.balance < amount:\n",
    "\t\t\traise Exception(\"Amount is unavailable\")\n",
    "\t\tself.balance = self.balance - amount\n",
    "\t"
   ]
  },
  {
   "cell_type": "code",
   "execution_count": 50,
   "id": "6ac3636b-4deb-4670-b34d-07f69f096621",
   "metadata": {},
   "outputs": [
    {
     "name": "stdout",
     "output_type": "stream",
     "text": [
      "5000\n"
     ]
    }
   ],
   "source": [
    "obj1 = Bank(10000)\n",
    "try:\n",
    "\tobj1.withdraw(5000)\n",
    "except Exception as e:\n",
    "\tprint(e)\n",
    "else:\n",
    "\tprint(obj1.balance)"
   ]
  },
  {
   "cell_type": "code",
   "execution_count": 51,
   "id": "ba5a00bb-6356-4bd1-9d1f-54f099aaf51c",
   "metadata": {},
   "outputs": [
    {
     "name": "stdout",
     "output_type": "stream",
     "text": [
      "Amount cannot be -ve\n"
     ]
    }
   ],
   "source": [
    "obj2 = Bank(10000)\n",
    "try:\n",
    "\tobj2.withdraw(-5000)\n",
    "except Exception as e:\n",
    "\tprint(e)\n",
    "else:\n",
    "\tprint(obj2.balance)"
   ]
  },
  {
   "cell_type": "code",
   "execution_count": 52,
   "id": "b94d1ee6-4274-40dc-8e6d-524e415772c5",
   "metadata": {},
   "outputs": [
    {
     "name": "stdout",
     "output_type": "stream",
     "text": [
      "Amount is unavailable\n"
     ]
    }
   ],
   "source": [
    "obj3 = Bank(10000)\n",
    "try:\n",
    "\tobj3.withdraw(15000)\n",
    "except Exception as e:\n",
    "\tprint(e)\n",
    "else:\n",
    "\tprint(obj3.balance)"
   ]
  },
  {
   "cell_type": "markdown",
   "id": "6fd86c1b-d55f-4595-8d04-9fb5a43d6cc4",
   "metadata": {},
   "source": [
    "### ***creating custom exceptions:***"
   ]
  },
  {
   "cell_type": "code",
   "execution_count": 53,
   "id": "3203bfc4-3eed-4610-85b9-b2c56a4d19aa",
   "metadata": {},
   "outputs": [],
   "source": [
    "class MyException(Exception):\n",
    "    def __init__(self, msg):\n",
    "        print(msg)\n",
    "\n",
    "class Bank:\n",
    "\n",
    "    def __init__(self, balance):\n",
    "        self.balance = balance\n",
    "\n",
    "    def withdraw(self, amount):\n",
    "        if amount < 0:\n",
    "            raise MyException(\"Amount can't be -ve\")\n",
    "        if self.balance < amount:\n",
    "            raise MyException(\"Amount is unavailable\")\n",
    "        self.balance -= amount"
   ]
  },
  {
   "cell_type": "code",
   "execution_count": 55,
   "id": "63e3b2f2-6faf-43b4-af20-e00191c69c27",
   "metadata": {},
   "outputs": [
    {
     "name": "stdout",
     "output_type": "stream",
     "text": [
      "Amount is unavailable\n"
     ]
    }
   ],
   "source": [
    "obj1 = Bank(10000)\n",
    "try:\n",
    "\tobj1.withdraw(15000)\n",
    "except Exception as e:\n",
    "\tpass\n",
    "else:\n",
    "\tprint(obj1.balance)"
   ]
  },
  {
   "cell_type": "code",
   "execution_count": 57,
   "id": "ea77c744-a616-409e-9533-e5ce195e1dbb",
   "metadata": {},
   "outputs": [
    {
     "name": "stdout",
     "output_type": "stream",
     "text": [
      "Amount can't be -ve\n"
     ]
    }
   ],
   "source": [
    "obj2 = Bank(10000)\n",
    "try:\n",
    "\tobj2.withdraw(-15000)\n",
    "except Exception as e:\n",
    "\tpass\n",
    "else:\n",
    "\tprint(obj2.balance)"
   ]
  },
  {
   "cell_type": "markdown",
   "id": "262a1152-cede-43ae-a94f-3d0ea4a8b64e",
   "metadata": {},
   "source": [
    "----"
   ]
  },
  {
   "cell_type": "markdown",
   "id": "5c03b066-eacd-4d10-9a04-91dfa3ea4fa0",
   "metadata": {},
   "source": [
    "```\n",
    "Custom exception class:\n",
    "-----------------------\n",
    "\n",
    "==> exception hierarchy in python\n",
    "\n",
    "==> why do we need to create a custom exception class???\n",
    "\n",
    "==> full control, application based error\n",
    "```"
   ]
  },
  {
   "cell_type": "code",
   "execution_count": 59,
   "id": "e6fa2b2d-7fc6-4de7-ab98-61b373a62ab1",
   "metadata": {},
   "outputs": [],
   "source": [
    "# examples\n",
    "\n",
    "class SecurityError(Exception):\n",
    "\n",
    "\tdef __init__(self, message):\n",
    "\t\tself.message = message\n",
    "\n",
    "\tdef logout(self):\n",
    "\t\tprint(\"logout\")\n",
    "\t\n",
    "\n",
    "class Google:\n",
    "\tdef __init__(self, name, email, password, device):\n",
    "\t\tself.name = name\n",
    "\t\tself.email = email\n",
    "\t\tself.password = password\n",
    "\t\tself.device = device\n",
    "\n",
    "\tdef login(self, email, password, device):\n",
    "\t\tif device!= self.device:\n",
    "\t\t\traise SecurityError(\"Brother someone hacked you\")\n",
    "\t\tif email==self.email and password==self.password:\n",
    "\t\t\tprint(\"welcome\")\n",
    "\t\telse:\n",
    "\t\t\tprint(\"login error\")\n",
    "\n",
    "\n",
    "obj = Google(\"ananth\", \"ananth@gmail.com\", \"1234\", \"android\")\n"
   ]
  },
  {
   "cell_type": "code",
   "execution_count": 60,
   "id": "44e230b0-3289-45af-99e1-5a77290efe26",
   "metadata": {},
   "outputs": [
    {
     "name": "stdout",
     "output_type": "stream",
     "text": [
      "welcome\n",
      "ananth\n",
      "database connection closed\n"
     ]
    }
   ],
   "source": [
    "try:\n",
    "\n",
    "\tobj.login(\"ananth@gmail.com\", \"1234\", \"android\")\n",
    "except SecurityError as e:\n",
    "\te.logout()\n",
    "else:\n",
    "\tprint(obj.name)\n",
    "finally:\n",
    "\tprint(\"database connection closed\")\n"
   ]
  },
  {
   "cell_type": "code",
   "execution_count": 63,
   "id": "f9ff65da-8ca8-4344-a44d-2fbad723cdc0",
   "metadata": {},
   "outputs": [
    {
     "name": "stdout",
     "output_type": "stream",
     "text": [
      "logout\n",
      "database connection closed\n"
     ]
    }
   ],
   "source": [
    "try:\n",
    "\tobj.login(\"ananth@gmail.com\", \"1234\", \"windows\")\n",
    "except SecurityError as e:\n",
    "\te.logout()\n",
    "else:\n",
    "\tprint(obj.name)\n",
    "finally:\n",
    "\tprint(\"database connection closed\")"
   ]
  },
  {
   "cell_type": "markdown",
   "id": "c461271c-be8e-4a8e-9cb2-f6f4f406054e",
   "metadata": {},
   "source": [
    "----\n",
    "```\n",
    "what is the benefit of using custom exception class???\n",
    "\n",
    "==> It help us to show an exception message and also used to perform an activity(or) functionalities when an exception was raised\n",
    "```"
   ]
  },
  {
   "cell_type": "code",
   "execution_count": null,
   "id": "35311c41-b3a7-4708-9968-e8f7a1915974",
   "metadata": {},
   "outputs": [],
   "source": []
  }
 ],
 "metadata": {
  "kernelspec": {
   "display_name": "Python 3 (ipykernel)",
   "language": "python",
   "name": "python3"
  },
  "language_info": {
   "codemirror_mode": {
    "name": "ipython",
    "version": 3
   },
   "file_extension": ".py",
   "mimetype": "text/x-python",
   "name": "python",
   "nbconvert_exporter": "python",
   "pygments_lexer": "ipython3",
   "version": "3.11.7"
  }
 },
 "nbformat": 4,
 "nbformat_minor": 5
}
