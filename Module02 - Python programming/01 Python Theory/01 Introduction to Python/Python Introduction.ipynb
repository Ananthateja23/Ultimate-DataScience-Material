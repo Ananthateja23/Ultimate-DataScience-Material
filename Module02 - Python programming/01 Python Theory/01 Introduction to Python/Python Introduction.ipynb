{
 "cells": [
  {
   "cell_type": "markdown",
   "id": "72e3122b-e5dd-4456-bcff-6123fbb034d8",
   "metadata": {},
   "source": [
    "# ***Features of python:***\n",
    "### ***1. Functional programming language***\n",
    "#### - We can write programs in the format of function\n",
    "### ***2. Object Oriented Programming language***\n",
    "#### - We can write programs in the format of oops\n",
    "### ***3. Scripting language***\n",
    "#### - We can write programs in the format of scripts\n",
    "### ***4. Interpreted language***\n",
    "#### - Compiles code line by line, If it detects any error flow of execution gets terminated\n",
    "### ***5. platform Independent***\n",
    "#### - We can develop code in one os and we can execute the same code in different os\n",
    "### ***6. Dynamically typed***\n",
    "#### - no need to declare the type of variable before using them\n",
    "### ***7. High level language***\n",
    "#### - Human Understandable language\n",
    "### ***8. Open source***\n",
    "#### - It is freely available to all the users on internet\n",
    "### ***9. case sensitive language***\n",
    "#### - upper case and lower case characters are treated differently"
   ]
  },
  {
   "cell_type": "markdown",
   "id": "d196b0cf-0698-4e3e-8d6c-952b5f6d9f6a",
   "metadata": {},
   "source": [
    "### ***Semicolon***\n",
    "#### - In python semicolon is used to write multiple lines of code in a single line."
   ]
  },
  {
   "cell_type": "code",
   "execution_count": 1,
   "id": "13bd6e4a-6e51-41ec-a345-a5818f0af276",
   "metadata": {},
   "outputs": [
    {
     "name": "stdout",
     "output_type": "stream",
     "text": [
      "line1\n",
      "10\n"
     ]
    }
   ],
   "source": [
    "print(\"line1\")\n",
    "a = 10\n",
    "print(a)"
   ]
  },
  {
   "cell_type": "code",
   "execution_count": 2,
   "id": "f78a75a6-1bfa-4b98-97ee-c5cf82313827",
   "metadata": {},
   "outputs": [
    {
     "name": "stdout",
     "output_type": "stream",
     "text": [
      "line1\n",
      "10\n"
     ]
    }
   ],
   "source": [
    "print(\"line1\"); a =10; print(a)"
   ]
  },
  {
   "cell_type": "markdown",
   "id": "342bf570-2630-4756-b9ed-9819e17d6bc7",
   "metadata": {},
   "source": [
    "### ***Indentation***\n",
    "#### - It is a space present at the begining of each line of code. \n",
    "#### - All the lines of code should maintain same indentation otherwise an indentation error will occur"
   ]
  },
  {
   "cell_type": "code",
   "execution_count": 4,
   "id": "546be9c2-7516-4153-a511-6bf605a1da2e",
   "metadata": {},
   "outputs": [
    {
     "name": "stdout",
     "output_type": "stream",
     "text": [
      "First print statement\n",
      "Second print statement\n"
     ]
    }
   ],
   "source": [
    "# code with indentation\n",
    "print(\"First print statement\")\n",
    "print(\"Second print statement\")"
   ]
  },
  {
   "cell_type": "code",
   "execution_count": 9,
   "id": "0840a83f-374f-41e5-9052-973ce00004b7",
   "metadata": {},
   "outputs": [
    {
     "name": "stdout",
     "output_type": "stream",
     "text": [
      "First print statement\n",
      "Second print statement\n",
      "First print statement\n",
      "Second print statement\n"
     ]
    }
   ],
   "source": [
    "# code with indentation\n",
    "if True:\n",
    "    print(\"First print statement\")\n",
    "    print(\"Second print statement\")\n",
    "\n",
    "if True:\n",
    "        print(\"First print statement\")\n",
    "        print(\"Second print statement\")"
   ]
  },
  {
   "cell_type": "code",
   "execution_count": 7,
   "id": "04db6cb2-6041-499e-8f8f-63ad51cf6e8f",
   "metadata": {},
   "outputs": [
    {
     "ename": "IndentationError",
     "evalue": "unexpected indent (380577311.py, line 2)",
     "output_type": "error",
     "traceback": [
      "\u001b[1;36m  Cell \u001b[1;32mIn[7], line 2\u001b[1;36m\u001b[0m\n\u001b[1;33m    print(\"First print statement\")\u001b[0m\n\u001b[1;37m    ^\u001b[0m\n\u001b[1;31mIndentationError\u001b[0m\u001b[1;31m:\u001b[0m unexpected indent\n"
     ]
    }
   ],
   "source": [
    "# code without indentation\n",
    "    print(\"First print statement\")\n",
    "    print(\"Second print statement\")"
   ]
  },
  {
   "cell_type": "code",
   "execution_count": 5,
   "id": "71571322-4516-42a5-bdd3-cb01c0c10ac1",
   "metadata": {},
   "outputs": [
    {
     "ename": "IndentationError",
     "evalue": "unexpected indent (2055911424.py, line 3)",
     "output_type": "error",
     "traceback": [
      "\u001b[1;36m  Cell \u001b[1;32mIn[5], line 3\u001b[1;36m\u001b[0m\n\u001b[1;33m    print(\"Second print statement\")\u001b[0m\n\u001b[1;37m    ^\u001b[0m\n\u001b[1;31mIndentationError\u001b[0m\u001b[1;31m:\u001b[0m unexpected indent\n"
     ]
    }
   ],
   "source": [
    "# code without indentation\n",
    "print(\"First print statement\")\n",
    " print(\"Second print statement\")"
   ]
  },
  {
   "cell_type": "markdown",
   "id": "7c1f9d2a-da4f-42f6-97ef-9cbfc797e6e6",
   "metadata": {},
   "source": [
    "### ***Print statement***\n",
    "#### - It prints the output on screen\n",
    "\n",
    "### ***syntax:*** \n",
    "#### print(argument_1, argument_2,....,argument_n, sep=\" \", end=\"\\n\")\n"
   ]
  },
  {
   "cell_type": "code",
   "execution_count": 6,
   "id": "6b567d9b-a0e9-4296-8770-138dd110053b",
   "metadata": {},
   "outputs": [
    {
     "name": "stdout",
     "output_type": "stream",
     "text": [
      "python java c\n",
      "python java c\n",
      "pythonjavac\n",
      "python--java--c\n",
      "python**java**c\n"
     ]
    }
   ],
   "source": [
    "print(\"python\",\"java\",\"c\")\n",
    "print(\"python\",\"java\",\"c\",sep=\" \")\n",
    "print(\"python\",\"java\",\"c\",sep=\"\")\n",
    "print(\"python\",\"java\",\"c\",sep=\"--\")\n",
    "print(\"python\",\"java\",\"c\",sep=\"**\")"
   ]
  },
  {
   "cell_type": "code",
   "execution_count": 10,
   "id": "ca71359e-d775-40e4-a4e5-3eea21743175",
   "metadata": {},
   "outputs": [
    {
     "name": "stdout",
     "output_type": "stream",
     "text": [
      "python\n",
      "Java\n",
      "C++\n"
     ]
    }
   ],
   "source": [
    "print(\"python\")\n",
    "print(\"Java\")\n",
    "print(\"C++\")"
   ]
  },
  {
   "cell_type": "code",
   "execution_count": 3,
   "id": "7dd096e5-234b-4966-a923-52f996085d8d",
   "metadata": {},
   "outputs": [
    {
     "name": "stdout",
     "output_type": "stream",
     "text": [
      "python\n",
      "Java\n",
      "C++\n"
     ]
    }
   ],
   "source": [
    "print(\"python\", end=\"\\n\")\n",
    "print(\"Java\", end=\"\\n\")\n",
    "print(\"C++\", end=\"\\n\") "
   ]
  },
  {
   "cell_type": "code",
   "execution_count": 12,
   "id": "18aff1c9-18ba-4759-a67c-05011311526a",
   "metadata": {},
   "outputs": [
    {
     "name": "stdout",
     "output_type": "stream",
     "text": [
      "python Java C++ "
     ]
    }
   ],
   "source": [
    "print(\"python\", end=\" \")\n",
    "print(\"Java\", end=\" \")\n",
    "print(\"C++\", end=\" \")"
   ]
  },
  {
   "cell_type": "code",
   "execution_count": 11,
   "id": "fde17551-5462-4b53-bfc1-1804fd1c0900",
   "metadata": {},
   "outputs": [
    {
     "name": "stdout",
     "output_type": "stream",
     "text": [
      "python\n",
      "Java\n",
      "C++\n"
     ]
    }
   ],
   "source": [
    "print(\"python\",\"Java\",\"C++\",sep=\"\\n\")"
   ]
  },
  {
   "cell_type": "code",
   "execution_count": 13,
   "id": "f9d2ac47-3a2d-4339-a9d4-066be82fee0c",
   "metadata": {},
   "outputs": [
    {
     "name": "stdout",
     "output_type": "stream",
     "text": [
      "pushpa1 pushpa2\n",
      "pushpa3\n"
     ]
    }
   ],
   "source": [
    "print(\"pushpa1\", \"pushpa2\")\n",
    "print(\"pushpa3\")"
   ]
  },
  {
   "cell_type": "code",
   "execution_count": 15,
   "id": "ffc79347-6b22-4fbd-9027-f1f1adf4241c",
   "metadata": {},
   "outputs": [
    {
     "name": "stdout",
     "output_type": "stream",
     "text": [
      "pushpa1---pushpa2\n",
      "pushpa3\n"
     ]
    }
   ],
   "source": [
    "print(\"pushpa1\", \"pushpa2\", sep=\"---\")\n",
    "print(\"pushpa3\")"
   ]
  },
  {
   "cell_type": "code",
   "execution_count": 4,
   "id": "d83d2e3b-84ce-4143-a6c2-e1b577633d4b",
   "metadata": {},
   "outputs": [
    {
     "name": "stdout",
     "output_type": "stream",
     "text": [
      "pushpa1\n",
      "\n",
      "pushpa2 pushpa3\n"
     ]
    }
   ],
   "source": [
    "print(\"pushpa1\", \"pushpa2\", sep=\"\\n\\n\", end=\" \")\n",
    "print(\"pushpa3\")"
   ]
  },
  {
   "cell_type": "code",
   "execution_count": 14,
   "id": "f00a9202-c684-4ed7-8a30-7a5b504178fd",
   "metadata": {},
   "outputs": [
    {
     "name": "stdout",
     "output_type": "stream",
     "text": [
      "pushpa1---pushpa2***pushpa3\n"
     ]
    }
   ],
   "source": [
    "print(\"pushpa1\", \"pushpa2\", sep=\"---\", end=\"***\")\n",
    "print(\"pushpa3\")"
   ]
  },
  {
   "cell_type": "markdown",
   "id": "1bd2ba36-2565-4c5c-a738-73f4568b665f",
   "metadata": {},
   "source": [
    "### ***Variables***\n",
    "#### - variable is a containers that store value inside of it\n",
    "#### - python variables are not statically typed\n",
    "#### - we dont need to declare the type of variable before using them\n",
    "#### - variables are created the moment first we assign a value to them\n",
    "#### - variable is a name given to memory location. It is a basic unit of storage in program"
   ]
  },
  {
   "cell_type": "markdown",
   "id": "d4bcef9b-4c07-4258-8c23-bf3ea630a646",
   "metadata": {},
   "source": [
    "### ***Rules of Variable***\n",
    "#### - variable name must start with letters and underscore\n",
    "#####  ex: abdef(valid), _abdef(valid), _a_b_d_e_f_(valid), __abdef(valid)\n",
    "#### - variable name cannot start with a number\n",
    "#####   ex: 7abdef(invalid), a5bdef(valid), a2bdef3(valid)\n",
    "#### - variable name should contain only alphanumeric characters and underscore\n",
    "#####   ex: abdef3_(valid), _abdef3(valid), a3_def(valid), a1b2d3e4f5(valid)\n",
    "#### - variable names are case sensitive\n",
    "#####  ex: abdef, ABDEF, Abdef\n",
    "#### - reserved words cannot be used as variable name\n",
    "#####  ex: ['False', 'None', 'True', 'and', 'as', 'assert', 'async', 'await', 'break', 'class', 'continue', 'def', 'del', 'elif', 'else', 'except', 'finally', 'for', 'from', 'global', 'if', 'import', 'in', 'is', 'lambda', 'nonlocal', 'not', 'or', 'pass', 'raise', 'return', 'try', 'while', 'with', 'yield']"
   ]
  },
  {
   "cell_type": "code",
   "execution_count": 17,
   "id": "d83df457-9954-4586-a8e8-e70b5215fa04",
   "metadata": {},
   "outputs": [
    {
     "name": "stdout",
     "output_type": "stream",
     "text": [
      "['False', 'None', 'True', 'and', 'as', 'assert', 'async', 'await', 'break', 'class', 'continue', 'def', 'del', 'elif', 'else', 'except', 'finally', 'for', 'from', 'global', 'if', 'import', 'in', 'is', 'lambda', 'nonlocal', 'not', 'or', 'pass', 'raise', 'return', 'try', 'while', 'with', 'yield']\n"
     ]
    }
   ],
   "source": [
    "import keyword\n",
    "print(keyword.kwlist)"
   ]
  },
  {
   "cell_type": "markdown",
   "id": "b627237c-84b5-4232-a5ff-bde67d101a8d",
   "metadata": {},
   "source": [
    "### ***Note:***\n",
    "#### Id(variable): It returns memory address of an object"
   ]
  },
  {
   "cell_type": "code",
   "execution_count": 7,
   "id": "581a9323-7d54-4839-92c0-a0ac8e0edd17",
   "metadata": {},
   "outputs": [
    {
     "name": "stdout",
     "output_type": "stream",
     "text": [
      "10 140706690548808\n",
      "10 140706690548808\n",
      "Updating num1\n",
      "12 140706690548872\n",
      "10 140706690548808\n",
      "Assigning num2 with 12\n",
      "12 140706690548872\n",
      "12 140706690548872\n"
     ]
    }
   ],
   "source": [
    "num1 = 10\n",
    "num2 = 10\n",
    "print(num1, id(num1))\n",
    "print(num2, id(num2))\n",
    "print(\"Updating num1\")\n",
    "num1 += 2\n",
    "print(num1, id(num1))\n",
    "print(num2, id(num2))\n",
    "print(\"Assigning num2 with 12\")\n",
    "num2 = 12\n",
    "print(num1, id(num1))\n",
    "print(num2, id(num2))"
   ]
  },
  {
   "cell_type": "code",
   "execution_count": 8,
   "id": "3defe9a8-5cec-45e2-bc75-211e2a52565e",
   "metadata": {},
   "outputs": [
    {
     "name": "stdout",
     "output_type": "stream",
     "text": [
      "12 140706690548872\n"
     ]
    }
   ],
   "source": [
    "del num1\n",
    "print(num2, id(num2))"
   ]
  },
  {
   "cell_type": "code",
   "execution_count": 23,
   "id": "e97a1805-2398-4f19-b141-c907d1fe36a5",
   "metadata": {},
   "outputs": [
    {
     "name": "stdout",
     "output_type": "stream",
     "text": [
      "257 2818053037360\n",
      "257 2818053038096\n"
     ]
    }
   ],
   "source": [
    "num1 = 257\n",
    "num2 = 257\n",
    "print(num1, id(num1))\n",
    "print(num2, id(num2))"
   ]
  },
  {
   "cell_type": "code",
   "execution_count": 24,
   "id": "dadf19cb-f53f-476e-9a66-1277cba3a74b",
   "metadata": {},
   "outputs": [
    {
     "name": "stdout",
     "output_type": "stream",
     "text": [
      "10 140711461241928\n",
      "15 140711461242088\n"
     ]
    }
   ],
   "source": [
    "num = 10\n",
    "print(num, id(num))\n",
    "num += 5\n",
    "print(num, id(num))"
   ]
  },
  {
   "cell_type": "code",
   "execution_count": 26,
   "id": "90c50d29-af44-482f-8042-c34d41ae9d88",
   "metadata": {},
   "outputs": [
    {
     "name": "stdout",
     "output_type": "stream",
     "text": [
      "10 140711461241928\n"
     ]
    }
   ],
   "source": [
    "num = 10\n",
    "print(num, id(num))"
   ]
  },
  {
   "cell_type": "code",
   "execution_count": 27,
   "id": "cd391e6a-c202-455d-9961-d4d3288597a5",
   "metadata": {},
   "outputs": [
    {
     "ename": "NameError",
     "evalue": "name 'num' is not defined",
     "output_type": "error",
     "traceback": [
      "\u001b[1;31m---------------------------------------------------------------------------\u001b[0m",
      "\u001b[1;31mNameError\u001b[0m                                 Traceback (most recent call last)",
      "Cell \u001b[1;32mIn[27], line 2\u001b[0m\n\u001b[0;32m      1\u001b[0m \u001b[38;5;28;01mdel\u001b[39;00m num\n\u001b[1;32m----> 2\u001b[0m \u001b[38;5;28mprint\u001b[39m(num, \u001b[38;5;28mid\u001b[39m(num))\n",
      "\u001b[1;31mNameError\u001b[0m: name 'num' is not defined"
     ]
    }
   ],
   "source": [
    "del num\n",
    "print(num, id(num))"
   ]
  },
  {
   "cell_type": "code",
   "execution_count": 10,
   "id": "8b31cfc0-371f-413f-bfef-57f40556c1b2",
   "metadata": {},
   "outputs": [
    {
     "name": "stdout",
     "output_type": "stream",
     "text": [
      "name:  Ram 2533561144304\n",
      "NAME:  Sam 2533561009328\n",
      "Name:  lakshman 2533561148400\n"
     ]
    }
   ],
   "source": [
    "name = \"Ram\"\n",
    "NAME = \"Sam\"\n",
    "Name = \"lakshman\"\n",
    "print(\"name: \", name, id(name))\n",
    "print(\"NAME: \", NAME, id(NAME))\n",
    "print(\"Name: \", Name, id(Name))"
   ]
  },
  {
   "cell_type": "code",
   "execution_count": 12,
   "id": "2be1c8a0-b48f-4090-b68c-1d5279dc1bfb",
   "metadata": {},
   "outputs": [
    {
     "name": "stdout",
     "output_type": "stream",
     "text": [
      "name:  ram 2533561151472\n",
      "name1:  RAM 2533561149808\n"
     ]
    }
   ],
   "source": [
    "name = \"ram\"\n",
    "name1 = \"RAM\"\n",
    "print(\"name: \", name, id(name))\n",
    "print(\"name1: \", name1, id(name1))"
   ]
  },
  {
   "cell_type": "markdown",
   "id": "8a4b65a2-b4ed-430c-bc4d-71d60d04b9f1",
   "metadata": {},
   "source": [
    "### ***Points to remember***\n",
    "#### - If two variable have same value then they share same memory location\n",
    "#### - one memory location can have more than one refference\n",
    "#### - one variable can hold only one value at a time\n",
    "#### - If a memory location has zero reffernce then it moved to garbage collection by python memory managment"
   ]
  },
  {
   "cell_type": "code",
   "execution_count": null,
   "id": "4853cc3c-e619-4973-82ac-7a758ea0597f",
   "metadata": {},
   "outputs": [],
   "source": []
  }
 ],
 "metadata": {
  "kernelspec": {
   "display_name": "Python 3 (ipykernel)",
   "language": "python",
   "name": "python3"
  },
  "language_info": {
   "codemirror_mode": {
    "name": "ipython",
    "version": 3
   },
   "file_extension": ".py",
   "mimetype": "text/x-python",
   "name": "python",
   "nbconvert_exporter": "python",
   "pygments_lexer": "ipython3",
   "version": "3.11.7"
  }
 },
 "nbformat": 4,
 "nbformat_minor": 5
}
