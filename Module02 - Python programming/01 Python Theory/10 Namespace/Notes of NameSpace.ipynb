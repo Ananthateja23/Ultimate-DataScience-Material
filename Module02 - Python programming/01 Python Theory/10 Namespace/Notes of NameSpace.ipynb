{
 "cells": [
  {
   "cell_type": "markdown",
   "id": "480fc6e0-613f-486e-8d28-7e6600065698",
   "metadata": {},
   "source": [
    "```\n",
    "Namespaces:\n",
    "-----------\n",
    "\n",
    "A namespace is a space that holds names(identifiers). Programatically speaking, namespaces are dictionary of identifiers (keys) and their objects (values)\n",
    "\n",
    "There are 4 types of namespaces:\n",
    "\n",
    "==> Builtin Namespace\n",
    "==> Global Namespace\n",
    "==> Enclosing Namespace\n",
    "==> Local Namespace\n",
    "\n",
    "Scope and LEGB Rule:\n",
    "--------------------\n",
    "\n",
    "==> A scope is a textual region of a python program where a namespace is directly accessible\n",
    "\n",
    "==> The interpreter searches for a name from the inside out, looking in the local, enclosing, global and finally the built-in scope. If the interpreter doesn't find the name in any of these locations, then python raises a NameError exception\n",
    "```"
   ]
  },
  {
   "cell_type": "code",
   "execution_count": 1,
   "id": "544d0e52-a9b6-4c44-a28b-92bcfffe795c",
   "metadata": {},
   "outputs": [
    {
     "name": "stdout",
     "output_type": "stream",
     "text": [
      "3\n",
      "2\n"
     ]
    }
   ],
   "source": [
    "# global and local scope\n",
    "\n",
    "# global var\n",
    "a = 2\n",
    "\n",
    "def temp():\n",
    "\t# local var\n",
    "\tb = 3\n",
    "\tprint(b)\n",
    "temp()\n",
    "print(a)"
   ]
  },
  {
   "cell_type": "code",
   "execution_count": 2,
   "id": "eee66b04-377a-4f8c-aeb0-238daf92d086",
   "metadata": {},
   "outputs": [
    {
     "name": "stdout",
     "output_type": "stream",
     "text": [
      "3\n",
      "2\n"
     ]
    }
   ],
   "source": [
    "# global and local ==> same name\n",
    "\n",
    "a = 2\n",
    "\n",
    "def temp():\n",
    "    # local var\n",
    "    a = 3\n",
    "    print(a)\n",
    "\n",
    "temp()\n",
    "print(a)"
   ]
  },
  {
   "cell_type": "code",
   "execution_count": 3,
   "id": "420a7114-7444-4329-a442-77410b408b09",
   "metadata": {},
   "outputs": [
    {
     "name": "stdout",
     "output_type": "stream",
     "text": [
      "2\n",
      "2\n"
     ]
    }
   ],
   "source": [
    "# global and local ==> local doesn't have but global has\n",
    "\n",
    "a = 2\n",
    "\n",
    "def temp():\n",
    "    # local var\n",
    "    print(a)\n",
    "\n",
    "temp()\n",
    "print(a)"
   ]
  },
  {
   "cell_type": "code",
   "execution_count": 4,
   "id": "1939964f-f9dc-49cd-9c7c-73dd52c5ef2d",
   "metadata": {},
   "outputs": [
    {
     "ename": "UnboundLocalError",
     "evalue": "cannot access local variable 'a' where it is not associated with a value",
     "output_type": "error",
     "traceback": [
      "\u001b[1;31m---------------------------------------------------------------------------\u001b[0m",
      "\u001b[1;31mUnboundLocalError\u001b[0m                         Traceback (most recent call last)",
      "Cell \u001b[1;32mIn[4], line 11\u001b[0m\n\u001b[0;32m      8\u001b[0m     a \u001b[38;5;241m+\u001b[39m\u001b[38;5;241m=\u001b[39m \u001b[38;5;241m1\u001b[39m\n\u001b[0;32m      9\u001b[0m     \u001b[38;5;28mprint\u001b[39m(a)\n\u001b[1;32m---> 11\u001b[0m temp()\n\u001b[0;32m     12\u001b[0m \u001b[38;5;28mprint\u001b[39m(a)\n",
      "Cell \u001b[1;32mIn[4], line 8\u001b[0m, in \u001b[0;36mtemp\u001b[1;34m()\u001b[0m\n\u001b[0;32m      6\u001b[0m \u001b[38;5;28;01mdef\u001b[39;00m \u001b[38;5;21mtemp\u001b[39m():\n\u001b[0;32m      7\u001b[0m     \u001b[38;5;66;03m# local var\u001b[39;00m\n\u001b[1;32m----> 8\u001b[0m     a \u001b[38;5;241m+\u001b[39m\u001b[38;5;241m=\u001b[39m \u001b[38;5;241m1\u001b[39m\n\u001b[0;32m      9\u001b[0m     \u001b[38;5;28mprint\u001b[39m(a)\n",
      "\u001b[1;31mUnboundLocalError\u001b[0m: cannot access local variable 'a' where it is not associated with a value"
     ]
    }
   ],
   "source": [
    "# local and gloabl ==> global editing\n",
    "\n",
    "# global var\n",
    "a = 2\n",
    "\n",
    "def temp():\n",
    "    # local var\n",
    "    a += 1\n",
    "    print(a)\n",
    "\n",
    "temp()\n",
    "print(a)"
   ]
  },
  {
   "cell_type": "markdown",
   "id": "8c0e1dd1-f880-4ba9-9bda-b7898847274c",
   "metadata": {},
   "source": [
    "```\n",
    "point to remember:\n",
    "------------------\n",
    "\n",
    "==> we can access and use global variable inside local scope but we can't modify it. if we try to do then it throws UnboundLocalError\n",
    "```"
   ]
  },
  {
   "cell_type": "code",
   "execution_count": 5,
   "id": "3c7012b8-1328-4fcc-8296-2fa68872f2a8",
   "metadata": {},
   "outputs": [
    {
     "name": "stdout",
     "output_type": "stream",
     "text": [
      "3\n",
      "3\n"
     ]
    }
   ],
   "source": [
    "# local and gloabl\n",
    "\n",
    "# global var\n",
    "a = 2\n",
    "\n",
    "def temp():\n",
    "    # local var\n",
    "    global a\n",
    "\n",
    "    a += 1\n",
    "    print(a)\n",
    "\n",
    "temp()\n",
    "print(a)"
   ]
  },
  {
   "cell_type": "markdown",
   "id": "e1f3b678-7cea-4dbb-be8a-f3c55dfb73a0",
   "metadata": {},
   "source": [
    "```\n",
    "point to remember:\n",
    "------------------\n",
    "==> If we try to modify the global var from the local scope. we should tell to interpreter about updation through global declaration inside local scope\n",
    "\n",
    "==> It is not recommendable to modify global var from local space because it would effect the other function which may depend on the global variable and leads to unexpected results\n",
    "```\n"
   ]
  },
  {
   "cell_type": "code",
   "execution_count": 6,
   "id": "87695071-450a-4341-bf91-5bb84a90c6d4",
   "metadata": {},
   "outputs": [
    {
     "name": "stdout",
     "output_type": "stream",
     "text": [
      "1\n",
      "1\n"
     ]
    }
   ],
   "source": [
    "# local and global\n",
    "\n",
    "def temp():\n",
    "    # local var\n",
    "    global a\n",
    "    a = 1\n",
    "    print(a)\n",
    "\n",
    "temp()\n",
    "print(a)"
   ]
  },
  {
   "cell_type": "markdown",
   "id": "5dceb19c-d256-4ae2-b97a-c03c1d01a874",
   "metadata": {},
   "source": [
    "```\n",
    "point to remember:\n",
    "------------------\n",
    "==> If we need, we can create a global var from local scope and add it to global scope. It is not recommendable\n",
    "```"
   ]
  },
  {
   "cell_type": "code",
   "execution_count": 7,
   "id": "7af5a568-9b52-446f-acad-a2f6c709816d",
   "metadata": {},
   "outputs": [
    {
     "name": "stdout",
     "output_type": "stream",
     "text": [
      "5\n",
      "5\n"
     ]
    }
   ],
   "source": [
    "# local and global ==> function parameter is local\n",
    "\n",
    "def temp(z):\n",
    "    # local\n",
    "    print(z)\n",
    "\n",
    "a = 5\n",
    "temp(5)\n",
    "print(a)"
   ]
  },
  {
   "cell_type": "markdown",
   "id": "f75b4bc1-32f2-49ed-bccf-fd0c0dae4b31",
   "metadata": {},
   "source": [
    "----"
   ]
  },
  {
   "cell_type": "markdown",
   "id": "edc4788c-e0d8-448c-a90d-cc49273d8dc3",
   "metadata": {},
   "source": [
    "```\n",
    "point to remember:\n",
    "------------------\n",
    "\n",
    "===> built-in scope, how to see all the built-in scope variable and functions\n",
    "\n",
    "==> while writing our code, python automatically give us some variables and functions to use and work with them. They are called as \"built-in\"\n",
    "```"
   ]
  },
  {
   "cell_type": "code",
   "execution_count": 8,
   "id": "ed80360d-b2df-4811-8ac3-926218e7c8c9",
   "metadata": {},
   "outputs": [
    {
     "name": "stdout",
     "output_type": "stream",
     "text": [
      "['ArithmeticError', 'AssertionError', 'AttributeError', 'BaseException', 'BaseExceptionGroup', 'BlockingIOError', 'BrokenPipeError', 'BufferError', 'BytesWarning', 'ChildProcessError', 'ConnectionAbortedError', 'ConnectionError', 'ConnectionRefusedError', 'ConnectionResetError', 'DeprecationWarning', 'EOFError', 'Ellipsis', 'EncodingWarning', 'EnvironmentError', 'Exception', 'ExceptionGroup', 'False', 'FileExistsError', 'FileNotFoundError', 'FloatingPointError', 'FutureWarning', 'GeneratorExit', 'IOError', 'ImportError', 'ImportWarning', 'IndentationError', 'IndexError', 'InterruptedError', 'IsADirectoryError', 'KeyError', 'KeyboardInterrupt', 'LookupError', 'MemoryError', 'ModuleNotFoundError', 'NameError', 'None', 'NotADirectoryError', 'NotImplemented', 'NotImplementedError', 'OSError', 'OverflowError', 'PendingDeprecationWarning', 'PermissionError', 'ProcessLookupError', 'RecursionError', 'ReferenceError', 'ResourceWarning', 'RuntimeError', 'RuntimeWarning', 'StopAsyncIteration', 'StopIteration', 'SyntaxError', 'SyntaxWarning', 'SystemError', 'SystemExit', 'TabError', 'TimeoutError', 'True', 'TypeError', 'UnboundLocalError', 'UnicodeDecodeError', 'UnicodeEncodeError', 'UnicodeError', 'UnicodeTranslateError', 'UnicodeWarning', 'UserWarning', 'ValueError', 'Warning', 'WindowsError', 'ZeroDivisionError', '__IPYTHON__', '__build_class__', '__debug__', '__doc__', '__import__', '__loader__', '__name__', '__package__', '__spec__', 'abs', 'aiter', 'all', 'anext', 'any', 'ascii', 'bin', 'bool', 'breakpoint', 'bytearray', 'bytes', 'callable', 'chr', 'classmethod', 'compile', 'complex', 'copyright', 'credits', 'delattr', 'dict', 'dir', 'display', 'divmod', 'enumerate', 'eval', 'exec', 'execfile', 'filter', 'float', 'format', 'frozenset', 'get_ipython', 'getattr', 'globals', 'hasattr', 'hash', 'help', 'hex', 'id', 'input', 'int', 'isinstance', 'issubclass', 'iter', 'len', 'license', 'list', 'locals', 'map', 'max', 'memoryview', 'min', 'next', 'object', 'oct', 'open', 'ord', 'pow', 'print', 'property', 'range', 'repr', 'reversed', 'round', 'runfile', 'set', 'setattr', 'slice', 'sorted', 'staticmethod', 'str', 'sum', 'super', 'tuple', 'type', 'vars', 'zip']\n"
     ]
    }
   ],
   "source": [
    "import builtins\n",
    "print(dir(builtins))"
   ]
  },
  {
   "cell_type": "code",
   "execution_count": 9,
   "id": "481a824f-63c4-406b-a7ab-3ce4267162df",
   "metadata": {},
   "outputs": [
    {
     "name": "stdout",
     "output_type": "stream",
     "text": [
      "3\n"
     ]
    },
    {
     "ename": "TypeError",
     "evalue": "max() takes 0 positional arguments but 1 was given",
     "output_type": "error",
     "traceback": [
      "\u001b[1;31m---------------------------------------------------------------------------\u001b[0m",
      "\u001b[1;31mTypeError\u001b[0m                                 Traceback (most recent call last)",
      "Cell \u001b[1;32mIn[9], line 9\u001b[0m\n\u001b[0;32m      6\u001b[0m \u001b[38;5;28;01mdef\u001b[39;00m \u001b[38;5;21mmax\u001b[39m():\n\u001b[0;32m      7\u001b[0m \t\u001b[38;5;28mprint\u001b[39m(\u001b[38;5;124m\"\u001b[39m\u001b[38;5;124mhello\u001b[39m\u001b[38;5;124m\"\u001b[39m)\n\u001b[1;32m----> 9\u001b[0m \u001b[38;5;28mmax\u001b[39m(l)\n",
      "\u001b[1;31mTypeError\u001b[0m: max() takes 0 positional arguments but 1 was given"
     ]
    }
   ],
   "source": [
    "# renaming built-ins\n",
    "\n",
    "l = [1, 2, 3]\n",
    "print(max(l))\n",
    "\n",
    "def max():\n",
    "\tprint(\"hello\")\n",
    "\n",
    "max(l)"
   ]
  },
  {
   "cell_type": "markdown",
   "id": "acc33a68-b5af-4306-85a6-3b9e42fce72c",
   "metadata": {},
   "source": [
    "```\n",
    "point to remember:\n",
    "------------------\n",
    "==> we have to be very careful while giving names to functions, sometimes we unintentionally use the builtin names. They will override the builtins and can't work properly\n",
    "```"
   ]
  },
  {
   "cell_type": "code",
   "execution_count": 10,
   "id": "b681ad04-a0b6-4166-bb78-4dfb9b94f2da",
   "metadata": {},
   "outputs": [
    {
     "name": "stdout",
     "output_type": "stream",
     "text": [
      "outer function\n",
      "inner function\n",
      "outer function\n",
      "main program\n"
     ]
    }
   ],
   "source": [
    "# Enclosing scope (Nonlocal scope)\n",
    "\n",
    "def outer():\n",
    "    # nonlocal scope\n",
    "    print(\"outer function\")\n",
    "    def inner():\n",
    "        # local scope\n",
    "        print(\"inner function\")\n",
    "    inner()\n",
    "    # nonlocal scope\n",
    "    print(\"outer function\")\n",
    "\n",
    "# global scope\n",
    "outer()\n",
    "print(\"main program\")"
   ]
  },
  {
   "cell_type": "code",
   "execution_count": 11,
   "id": "7b36724d-b8f3-49c8-a91d-07dbdc003341",
   "metadata": {},
   "outputs": [
    {
     "name": "stdout",
     "output_type": "stream",
     "text": [
      "outer function\n",
      "4\n",
      "outer function\n",
      "main program\n"
     ]
    }
   ],
   "source": [
    "# Enclosing scope (Nonlocal scope)\n",
    "\n",
    "def outer():\n",
    "    # nonlocal scope\n",
    "    a = 3\n",
    "    print(\"outer function\")\n",
    "    def inner():\n",
    "        # local scope\n",
    "        a = 4\n",
    "        print(a)\n",
    "    inner()\n",
    "    # nonlocal scope\n",
    "    print(\"outer function\")\n",
    "\n",
    "# global scope\n",
    "a = 1\n",
    "outer()\n",
    "print(\"main program\")"
   ]
  },
  {
   "cell_type": "code",
   "execution_count": 12,
   "id": "c4aca174-97e1-4d26-a93e-113f3a476f70",
   "metadata": {},
   "outputs": [
    {
     "name": "stdout",
     "output_type": "stream",
     "text": [
      "outer function\n",
      "3\n",
      "outer function\n",
      "main program\n"
     ]
    }
   ],
   "source": [
    "# Enclosing scope (Nonlocal scope)\n",
    "\n",
    "def outer():\n",
    "    # nonlocal scope\n",
    "    a = 3\n",
    "    print(\"outer function\")\n",
    "    def inner():\n",
    "        # local scope\n",
    "        # a = 4\n",
    "        print(a)\n",
    "    inner()\n",
    "    # nonlocal scope\n",
    "    print(\"outer function\")\n",
    "\n",
    "# global scope\n",
    "a = 1\n",
    "outer()\n",
    "print(\"main program\")"
   ]
  },
  {
   "cell_type": "code",
   "execution_count": 13,
   "id": "5713c3e4-2187-4aec-bfb2-f294b843053c",
   "metadata": {},
   "outputs": [
    {
     "name": "stdout",
     "output_type": "stream",
     "text": [
      "outer function\n",
      "1\n",
      "outer function\n",
      "main program\n"
     ]
    }
   ],
   "source": [
    "# Enclosing scope (Nonlocal scope)\n",
    "\n",
    "def outer():\n",
    "    # nonlocal scope\n",
    "    # a = 3\n",
    "    print(\"outer function\")\n",
    "    def inner():\n",
    "        # local scope\n",
    "        # a = 4\n",
    "        print(a)\n",
    "    inner()\n",
    "    # nonlocal scope\n",
    "    print(\"outer function\")\n",
    "\n",
    "# global scope\n",
    "a = 1\n",
    "outer()\n",
    "print(\"main program\")"
   ]
  },
  {
   "cell_type": "code",
   "execution_count": 15,
   "id": "b6154aff-b962-4168-986b-0a4b8b299710",
   "metadata": {},
   "outputs": [
    {
     "name": "stdout",
     "output_type": "stream",
     "text": [
      "outer function\n"
     ]
    },
    {
     "ename": "NameError",
     "evalue": "name 'b' is not defined",
     "output_type": "error",
     "traceback": [
      "\u001b[1;31m---------------------------------------------------------------------------\u001b[0m",
      "\u001b[1;31mNameError\u001b[0m                                 Traceback (most recent call last)",
      "Cell \u001b[1;32mIn[15], line 17\u001b[0m\n\u001b[0;32m     13\u001b[0m     \u001b[38;5;28mprint\u001b[39m(\u001b[38;5;124m\"\u001b[39m\u001b[38;5;124mouter function\u001b[39m\u001b[38;5;124m\"\u001b[39m)\n\u001b[0;32m     15\u001b[0m \u001b[38;5;66;03m# global scope\u001b[39;00m\n\u001b[0;32m     16\u001b[0m \u001b[38;5;66;03m# b = 1\u001b[39;00m\n\u001b[1;32m---> 17\u001b[0m outer()\n\u001b[0;32m     18\u001b[0m \u001b[38;5;28mprint\u001b[39m(\u001b[38;5;124m\"\u001b[39m\u001b[38;5;124mmain program\u001b[39m\u001b[38;5;124m\"\u001b[39m)\n",
      "Cell \u001b[1;32mIn[15], line 11\u001b[0m, in \u001b[0;36mouter\u001b[1;34m()\u001b[0m\n\u001b[0;32m      7\u001b[0m \u001b[38;5;28;01mdef\u001b[39;00m \u001b[38;5;21minner\u001b[39m():\n\u001b[0;32m      8\u001b[0m     \u001b[38;5;66;03m# local scope\u001b[39;00m\n\u001b[0;32m      9\u001b[0m     \u001b[38;5;66;03m# b = 4\u001b[39;00m\n\u001b[0;32m     10\u001b[0m     \u001b[38;5;28mprint\u001b[39m(b)\n\u001b[1;32m---> 11\u001b[0m inner()\n\u001b[0;32m     12\u001b[0m \u001b[38;5;66;03m# nonlocal scope\u001b[39;00m\n\u001b[0;32m     13\u001b[0m \u001b[38;5;28mprint\u001b[39m(\u001b[38;5;124m\"\u001b[39m\u001b[38;5;124mouter function\u001b[39m\u001b[38;5;124m\"\u001b[39m)\n",
      "Cell \u001b[1;32mIn[15], line 10\u001b[0m, in \u001b[0;36mouter.<locals>.inner\u001b[1;34m()\u001b[0m\n\u001b[0;32m      7\u001b[0m \u001b[38;5;28;01mdef\u001b[39;00m \u001b[38;5;21minner\u001b[39m():\n\u001b[0;32m      8\u001b[0m     \u001b[38;5;66;03m# local scope\u001b[39;00m\n\u001b[0;32m      9\u001b[0m     \u001b[38;5;66;03m# b = 4\u001b[39;00m\n\u001b[1;32m---> 10\u001b[0m     \u001b[38;5;28mprint\u001b[39m(b)\n",
      "\u001b[1;31mNameError\u001b[0m: name 'b' is not defined"
     ]
    }
   ],
   "source": [
    "# Enclosing scope (Nonlocal scope)\n",
    "\n",
    "def outer():\n",
    "    # nonlocal scope\n",
    "    # b = 3\n",
    "    print(\"outer function\")\n",
    "    def inner():\n",
    "        # local scope\n",
    "        # b = 4\n",
    "        print(b)\n",
    "    inner()\n",
    "    # nonlocal scope\n",
    "    print(\"outer function\")\n",
    "\n",
    "# global scope\n",
    "# b = 1\n",
    "outer()\n",
    "print(\"main program\")"
   ]
  },
  {
   "cell_type": "code",
   "execution_count": 16,
   "id": "d74dc5b7-f239-4dc7-a19c-2ba27951b84d",
   "metadata": {},
   "outputs": [
    {
     "name": "stdout",
     "output_type": "stream",
     "text": [
      "outer function 1\n",
      "inner function 2\n",
      "outer function 2\n",
      "main program\n"
     ]
    }
   ],
   "source": [
    "# Enclosing scope (Nonlocal scope)\n",
    "\n",
    "def outer():\n",
    "    # nonlocal scope\n",
    "    a = 1\n",
    "    print(\"outer function\", a)\n",
    "    def inner():\n",
    "        # local scope\n",
    "        nonlocal a\n",
    "        a += 1\n",
    "        print(\"inner function\", a)\n",
    "    inner()\n",
    "    # nonlocal scope\n",
    "    print(\"outer function\", a)\n",
    "\n",
    "# global scope\n",
    "outer()\n",
    "print(\"main program\")"
   ]
  },
  {
   "cell_type": "markdown",
   "id": "9e47a58e-c4cb-48d6-abf9-2b3aa190c9fb",
   "metadata": {},
   "source": [
    "```\n",
    "point to remember:\n",
    "------------------\n",
    "\n",
    "local scope > nonlocal scope > global scope > built-in scope\n",
    "```"
   ]
  },
  {
   "cell_type": "code",
   "execution_count": null,
   "id": "d877a949-00ed-4887-aac2-33920b087ffe",
   "metadata": {},
   "outputs": [],
   "source": []
  }
 ],
 "metadata": {
  "kernelspec": {
   "display_name": "Python 3 (ipykernel)",
   "language": "python",
   "name": "python3"
  },
  "language_info": {
   "codemirror_mode": {
    "name": "ipython",
    "version": 3
   },
   "file_extension": ".py",
   "mimetype": "text/x-python",
   "name": "python",
   "nbconvert_exporter": "python",
   "pygments_lexer": "ipython3",
   "version": "3.11.7"
  }
 },
 "nbformat": 4,
 "nbformat_minor": 5
}
