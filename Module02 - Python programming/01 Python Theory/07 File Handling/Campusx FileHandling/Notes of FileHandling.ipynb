{
 "cells": [
  {
   "cell_type": "markdown",
   "id": "6f713b3c-ec8a-4bc6-b162-7243ee952547",
   "metadata": {},
   "source": [
    "```\n",
    "Types of Data:\n",
    "--------------\n",
    "(1) Text data ==> sequence of Unicode characters\n",
    "(2) Binary data ==> sequence of bytes(i.e binary equivalents)\n",
    "\n",
    "Types of files:\n",
    "---------------\n",
    "(1) Text files ==> All program files are text files\n",
    "(2) Binary files ==> Images, music, video, exe files etc \n",
    "\n",
    "There are 3 steps, one should follow to perform file I/O in most of programming languages\n",
    "\n",
    "==> Open\n",
    "==> read/write\n",
    "==> close\n",
    "\n",
    "```"
   ]
  },
  {
   "cell_type": "markdown",
   "id": "8f7894f2-157c-4392-962b-b3d77d9fc898",
   "metadata": {},
   "source": [
    "### ***Writing inside files:***"
   ]
  },
  {
   "cell_type": "code",
   "execution_count": 2,
   "id": "bfa570b1-e929-4f32-a7bb-5090b0842bef",
   "metadata": {},
   "outputs": [],
   "source": [
    "# if file is not present\n",
    "f = open(\"sample.txt\", \"w\")\n",
    "f.write(\"hello world\")\n",
    "f.close()"
   ]
  },
  {
   "cell_type": "markdown",
   "id": "2842ca0e-b20a-4614-9725-6a47ec0a7fb8",
   "metadata": {},
   "source": [
    "```\n",
    "==> To perform any sort of file I/o operation, the first step is open a file. we can do it through open(\"location+filename\", \"mode\") function.\n",
    "==> It takes two arguments i.e filename and mode\n",
    "==> filename: It lets you tell other about location of file.\n",
    "==> mode : It tells others about the mode that it was opened\n",
    "\n",
    "==> In the above code snippet, first it create's a file handler object. we use the file handler object to write and read text inside the file. once, our work was done, we should close the file.\n",
    "\n",
    "==> what if we do any operation after file was closed. It throws a value error saying that \"I/o operation on closed file\".\n",
    "```"
   ]
  },
  {
   "cell_type": "code",
   "execution_count": 3,
   "id": "b136ab30-e2ca-421d-8e5c-4fc842b46046",
   "metadata": {},
   "outputs": [],
   "source": [
    "# writing multiple strings inside file\n",
    "f = open(\"sample1.txt\", \"w\")\n",
    "f.write(\"Hello World\")\n",
    "f.write(\"\\nhow are you?\")\n",
    "f.close()"
   ]
  },
  {
   "cell_type": "code",
   "execution_count": 4,
   "id": "c2d67315-4a05-4c9e-b2d8-1137f7f3b89e",
   "metadata": {},
   "outputs": [],
   "source": [
    "# If file is already present\n",
    "\n",
    "f = open(\"sample.txt\", \"w\")\n",
    "f.write(\"Tony Stark\")\n",
    "f.close()"
   ]
  },
  {
   "cell_type": "markdown",
   "id": "78e569e9-c0d6-4603-b851-30dded050e5e",
   "metadata": {},
   "source": [
    "```\n",
    "==> whenever, we open an already existing file in write mode. It erases all the content of file and allow us to write the new content into the file.\n",
    "```"
   ]
  },
  {
   "cell_type": "markdown",
   "id": "79bcaa1b-fcc1-4a9a-bd0f-79fcde0217c9",
   "metadata": {},
   "source": [
    "```\n",
    "let's understand how the open function works???\n",
    "-----------------------------------------------\n",
    "\n",
    "==> file are like normal files that are present on our hard drive(rom). At the moment, we execute the open() function, it tells python go to the particular location and load the file into ram.\n",
    "\n",
    "==> inside ram, it loads into the buffer memory. In buffer memory, it reads the file character by character right from the beginning. so that's is called as buffer.(similar to cursor)\n",
    "\n",
    "==> file stays inside buffer memory till all the operation of file gets done. once, file was close. it returns from the buffer memory to its original location.\n",
    "```"
   ]
  },
  {
   "cell_type": "code",
   "execution_count": 5,
   "id": "f98eda1c-67b1-424a-bb21-0d36d8e6cb3f",
   "metadata": {},
   "outputs": [],
   "source": [
    "# problem with \"w\" mode ==> use append \"a\" mode.\n",
    "\n",
    "fo = open(\"sample1.txt\", \"a\")\n",
    "fo.write(\"\\nI am fine\")\n",
    "fo.close()"
   ]
  },
  {
   "cell_type": "markdown",
   "id": "4a6d520d-5049-4820-815e-c9c7d3bd3f44",
   "metadata": {},
   "source": [
    "```\n",
    "==> In append mode, It will not remove and replacing the previously existed content with new content. Instead, It holds the existing content and adds the new content at the end of existing content. \n",
    "```"
   ]
  },
  {
   "cell_type": "code",
   "execution_count": 6,
   "id": "7ab7d5b3-4947-45bb-98b0-19a82fe20ce8",
   "metadata": {},
   "outputs": [
    {
     "ename": "UnsupportedOperation",
     "evalue": "not readable",
     "output_type": "error",
     "traceback": [
      "\u001b[1;31m---------------------------------------------------------------------------\u001b[0m",
      "\u001b[1;31mUnsupportedOperation\u001b[0m                      Traceback (most recent call last)",
      "Cell \u001b[1;32mIn[6], line 5\u001b[0m\n\u001b[0;32m      3\u001b[0m fo \u001b[38;5;241m=\u001b[39m \u001b[38;5;28mopen\u001b[39m(\u001b[38;5;124m\"\u001b[39m\u001b[38;5;124msample.txt\u001b[39m\u001b[38;5;124m\"\u001b[39m, \u001b[38;5;124m\"\u001b[39m\u001b[38;5;124mw\u001b[39m\u001b[38;5;124m\"\u001b[39m)\n\u001b[0;32m      4\u001b[0m l \u001b[38;5;241m=\u001b[39m [\u001b[38;5;124m\"\u001b[39m\u001b[38;5;124mhello\u001b[39m\u001b[38;5;130;01m\\n\u001b[39;00m\u001b[38;5;124m\"\u001b[39m, \u001b[38;5;124m\"\u001b[39m\u001b[38;5;124mhi\u001b[39m\u001b[38;5;130;01m\\n\u001b[39;00m\u001b[38;5;124m\"\u001b[39m, \u001b[38;5;124m\"\u001b[39m\u001b[38;5;124mhow are you\u001b[39m\u001b[38;5;130;01m\\n\u001b[39;00m\u001b[38;5;124m\"\u001b[39m, \u001b[38;5;124m\"\u001b[39m\u001b[38;5;124mI am fine\u001b[39m\u001b[38;5;124m\"\u001b[39m]\n\u001b[1;32m----> 5\u001b[0m fo\u001b[38;5;241m.\u001b[39mwritelines(fo)\n\u001b[0;32m      6\u001b[0m fo\u001b[38;5;241m.\u001b[39mclose()\n",
      "\u001b[1;31mUnsupportedOperation\u001b[0m: not readable"
     ]
    }
   ],
   "source": [
    "# To write multiline strings at a time into the file\n",
    "\n",
    "fo = open(\"sample.txt\", \"w\")\n",
    "l = [\"hello\\n\", \"hi\\n\", \"how are you\\n\", \"I am fine\"]\n",
    "fo.writelines(fo)\n",
    "fo.close()"
   ]
  },
  {
   "cell_type": "code",
   "execution_count": 7,
   "id": "d65eb17d-7a2d-4be3-b993-0d27067cc65e",
   "metadata": {},
   "outputs": [],
   "source": [
    "fo = open(\"sample.txt\", \"w\")\n",
    "l = [\"hello\\n\", \"hi\\n\", \"how are you\\n\", \"I am fine\"]\n",
    "fo.writelines(l)\n",
    "fo.close()"
   ]
  },
  {
   "cell_type": "markdown",
   "id": "9e5c1a91-55b9-492d-bc90-7f81e489d8c1",
   "metadata": {},
   "source": [
    "### ***Reading files:***"
   ]
  },
  {
   "cell_type": "code",
   "execution_count": 8,
   "id": "0ce8d4b5-257a-457b-ad78-32a6c88a4d70",
   "metadata": {},
   "outputs": [
    {
     "name": "stdout",
     "output_type": "stream",
     "text": [
      "hello\n",
      "hi\n",
      "how are you\n",
      "I am fine\n"
     ]
    }
   ],
   "source": [
    "# To read the entire content of file\n",
    "\n",
    "fo = open(\"sample.txt\", \"r\")\n",
    "s  = fo.read()\n",
    "print(s)\n",
    "fo.close()"
   ]
  },
  {
   "cell_type": "code",
   "execution_count": 9,
   "id": "c9252fc6-0cd6-4d81-865e-21e118ac0c5d",
   "metadata": {},
   "outputs": [
    {
     "name": "stdout",
     "output_type": "stream",
     "text": [
      "hello\n",
      "hi\n",
      "h\n"
     ]
    }
   ],
   "source": [
    "# To read the n characters of file\n",
    "\n",
    "fo = open(\"sample.txt\", \"r\")\n",
    "s  = fo.read(10)\n",
    "print(s)\n",
    "fo.close()"
   ]
  },
  {
   "cell_type": "markdown",
   "id": "eb9cc7e8-5f33-4c2f-bb51-6d3ab616045a",
   "metadata": {},
   "source": [
    "----\n",
    "```\n",
    "==> always remember, when we work with text files, either write or read a file. it understand everything in string format. It may be numbers, list, dictionary. It understand all of them as strings.\n",
    "```\n",
    "----"
   ]
  },
  {
   "cell_type": "code",
   "execution_count": 10,
   "id": "e2d967d5-1ad4-49d4-820e-296decf555fe",
   "metadata": {},
   "outputs": [
    {
     "name": "stdout",
     "output_type": "stream",
     "text": [
      "hello\n",
      "hi\n"
     ]
    }
   ],
   "source": [
    "# To read line by line\n",
    "\n",
    "fo = open(\"sample.txt\", \"r\")\n",
    "print(fo.readline(), end=\"\")\n",
    "print(fo.readline(), end=\"\")\n",
    "fo.close()"
   ]
  },
  {
   "cell_type": "markdown",
   "id": "33e01ee9-4352-4a9a-93bf-eaf374d3c8cd",
   "metadata": {},
   "source": [
    "```\n",
    "==> by default, readline makes a newline and print also makes line change.\n",
    "==> use readline when we work with large files\n",
    "==> use read when we work with small files\n",
    "```"
   ]
  },
  {
   "cell_type": "code",
   "execution_count": 11,
   "id": "0488e4ec-4e10-4a76-ae3a-15a2bc7631db",
   "metadata": {},
   "outputs": [
    {
     "name": "stdout",
     "output_type": "stream",
     "text": [
      "hello\n",
      "hi\n",
      "how are you\n",
      "I am fine"
     ]
    }
   ],
   "source": [
    "# read entire content using readline\n",
    "\n",
    "fo = open(\"sample.txt\", \"r\")\n",
    "\n",
    "while True:\n",
    "\n",
    "\tdata = fo.readline()\n",
    "\t\n",
    "\tif data == \"\":\n",
    "\t\tbreak\n",
    "\telse:\n",
    "\t\tprint(data, end=\"\")\n",
    "fo.close()"
   ]
  },
  {
   "cell_type": "markdown",
   "id": "7c563755-9996-4dbd-9782-f51a0e82e12c",
   "metadata": {},
   "source": [
    "```\n",
    "==> suppose, there might be a situation where we don't know the number of lines in a file. then we can use of above code to print it seemlesly.\n",
    "```"
   ]
  },
  {
   "cell_type": "markdown",
   "id": "da3664dc-9b33-4657-b1f6-2e8ff6f5128a",
   "metadata": {},
   "source": [
    "----"
   ]
  },
  {
   "cell_type": "markdown",
   "id": "82264166-f2ce-474f-9a3e-322b51058252",
   "metadata": {},
   "source": [
    "### ***Using context manager(with):***"
   ]
  },
  {
   "cell_type": "markdown",
   "id": "3ee70b1c-49dc-4c2c-9e99-6c152f6dd335",
   "metadata": {},
   "source": [
    "```\n",
    "==> It is a good idea to close the file after uasage as it free up the resources\n",
    "==> If we don't close it, garbage collector would close it\n",
    "==> with keyword closes the file as soon as the usage is over\n",
    "```"
   ]
  },
  {
   "cell_type": "code",
   "execution_count": 12,
   "id": "3b1cd1a4-44a0-4492-8f7a-cf5b4ef9ded5",
   "metadata": {},
   "outputs": [],
   "source": [
    "# using with and write inside file\n",
    "with open(\"sample1.txt\", \"w\") as f:\n",
    "\tf.write(\"selmon bhai\")"
   ]
  },
  {
   "cell_type": "code",
   "execution_count": 13,
   "id": "38a38e24-a926-4806-8bba-b724a97e94a6",
   "metadata": {},
   "outputs": [
    {
     "ename": "ValueError",
     "evalue": "I/O operation on closed file.",
     "output_type": "error",
     "traceback": [
      "\u001b[1;31m---------------------------------------------------------------------------\u001b[0m",
      "\u001b[1;31mValueError\u001b[0m                                Traceback (most recent call last)",
      "Cell \u001b[1;32mIn[13], line 1\u001b[0m\n\u001b[1;32m----> 1\u001b[0m f\u001b[38;5;241m.\u001b[39mwrite(\u001b[38;5;124m\"\u001b[39m\u001b[38;5;124mhello\u001b[39m\u001b[38;5;124m\"\u001b[39m)\n",
      "\u001b[1;31mValueError\u001b[0m: I/O operation on closed file."
     ]
    }
   ],
   "source": [
    "f.write(\"hello\") # throws error"
   ]
  },
  {
   "cell_type": "code",
   "execution_count": 14,
   "id": "df6470c2-d2e7-481d-bac1-3900b33c6974",
   "metadata": {},
   "outputs": [
    {
     "name": "stdout",
     "output_type": "stream",
     "text": [
      "hello\n",
      "hi\n",
      "how are you\n",
      "I am fine\n"
     ]
    }
   ],
   "source": [
    "# To read file using with\n",
    "\n",
    "with open(\"sample.txt\", \"r\") as f:\n",
    "\tprint(f.read())"
   ]
  },
  {
   "cell_type": "code",
   "execution_count": 15,
   "id": "eb12c939-92e1-44e4-9f44-687c36f80764",
   "metadata": {},
   "outputs": [
    {
     "name": "stdout",
     "output_type": "stream",
     "text": [
      "hello\n",
      "hi\n",
      "h\n",
      "ow are you\n"
     ]
    }
   ],
   "source": [
    "#  moving inside file ==> read 10 char then 10 char\n",
    "\n",
    "with open(\"sample.txt\", \"r\") as f:\n",
    "\tprint(f.read(10))\n",
    "\tprint(f.read(10))"
   ]
  },
  {
   "cell_type": "code",
   "execution_count": 16,
   "id": "a63d945d-551d-47a5-8c8a-92cb76cad289",
   "metadata": {},
   "outputs": [],
   "source": [
    "# To load big file in memory\n",
    "\n",
    "L = [\"hello world\" for i in range(1,10001)]\n",
    "with open(\"big.txt\", \"w\") as f:\n",
    "\tf.writelines(L)"
   ]
  },
  {
   "cell_type": "code",
   "execution_count": 17,
   "id": "8634e5e9-ba9d-4071-9b81-996c352bae08",
   "metadata": {},
   "outputs": [
    {
     "name": "stdout",
     "output_type": "stream",
     "text": [
      "ello worldhello worldhello worldhello worldhello worldhello worldhello worldhello worldhello worldhe***o worldhello worldhello worldhello worldhello worldhello worldhello worldhello worldhello worldhello***orldhello worldhello worldhello worldhello worldhello worldhello worldhello worldhello worldhello wo***dhello worldhello worldhello worldhello worldhello worldhello worldhello worldhello worldhello world***llo worldhello worldhello worldhello worldhello worldhello worldhello worldhello worldhello worldhel*** worldhello worldhello worldhello worldhello worldhello worldhello worldhello worldhello worldhello ***rldhello worldhello worldhello worldhello worldhello worldhello worldhello worldhello worldhello wor***hello worldhello worldhello worldhello worldhello worldhello worldhello worldhello worldhello worldh***lo worldhello worldhello worldhello worldhello worldhello worldhello worldhello worldhello worldhell***worldhello worldhello worldhello worldhello worldhello worldhello worldhello worldhello worldhello w***ldhello worldhello worldhello worldhello worldhello worldhello worldhello worldhello worldhello worl***ello worldhello worldhello worldhello worldhello worldhello worldhello worldhello worldhello worldhe***o worldhello worldhello worldhello worldhello worldhello worldhello worldhello worldhello worldhello***orldhello worldhello worldhello worldhello worldhello worldhello worldhello worldhello worldhello wo***dhello worldhello worldhello worldhello worldhello worldhello worldhello worldhello worldhello world***llo worldhello worldhello worldhello worldhello worldhello worldhello worldhello worldhello worldhel*** worldhello worldhello worldhello worldhello worldhello worldhello worldhello worldhello worldhello ***rldhello worldhello worldhello worldhello worldhello worldhello worldhello worldhello worldhello wor***hello worldhello worldhello worldhello worldhello worldhello worldhello worldhello worldhello worldh***lo worldhello worldhello worldhello worldhello worldhello worldhello worldhello worldhello worldhell***worldhello worldhello worldhello worldhello worldhello worldhello worldhello worldhello worldhello w***ldhello worldhello worldhello worldhello worldhello worldhello worldhello worldhello worldhello worl***ello worldhello worldhello worldhello worldhello worldhello worldhello worldhello worldhello worldhe***o worldhello worldhello worldhello worldhello worldhello worldhello worldhello worldhello worldhello***orldhello worldhello worldhello worldhello worldhello worldhello worldhello worldhello worldhello wo***dhello worldhello worldhello worldhello worldhello worldhello worldhello worldhello worldhello world***llo worldhello worldhello worldhello worldhello worldhello worldhello worldhello worldhello worldhel*** worldhello worldhello worldhello worldhello worldhello worldhello worldhello worldhello worldhello ***rldhello worldhello worldhello worldhello worldhello worldhello worldhello worldhello worldhello wor***hello worldhello worldhello worldhello worldhello worldhello worldhello worldhello worldhello worldh***lo worldhello worldhello worldhello worldhello worldhello worldhello worldhello worldhello worldhell***worldhello worldhello worldhello worldhello worldhello worldhello worldhello worldhello worldhello w***ldhello worldhello worldhello worldhello worldhello worldhello worldhello worldhello worldhello worl***ello worldhello worldhello worldhello worldhello worldhello worldhello worldhello worldhello worldhe***o worldhello worldhello worldhello worldhello worldhello worldhello worldhello worldhello worldhello***orldhello worldhello worldhello worldhello worldhello worldhello worldhello worldhello worldhello wo***dhello worldhello worldhello worldhello worldhello worldhello worldhello worldhello worldhello world***llo worldhello worldhello worldhello worldhello worldhello worldhello worldhello worldhello worldhel*** worldhello worldhello worldhello worldhello worldhello worldhello worldhello worldhello worldhello ***rldhello worldhello worldhello worldhello worldhello worldhello worldhello worldhello worldhello wor***hello worldhello worldhello worldhello worldhello worldhello worldhello worldhello worldhello worldh***lo worldhello worldhello worldhello worldhello worldhello worldhello worldhello worldhello worldhell***worldhello worldhello worldhello worldhello worldhello worldhello worldhello worldhello worldhello w***ldhello worldhello worldhello worldhello worldhello worldhello worldhello worldhello worldhello worl***ello worldhello worldhello worldhello worldhello worldhello worldhello worldhello worldhello worldhe***o worldhello worldhello worldhello worldhello worldhello worldhello worldhello worldhello worldhello***orldhello worldhello worldhello worldhello worldhello worldhello worldhello worldhello worldhello wo***dhello worldhello worldhello worldhello worldhello worldhello worldhello worldhello worldhello world***llo worldhello worldhello worldhello worldhello worldhello worldhello worldhello worldhello worldhel*** worldhello worldhello worldhello worldhello worldhello worldhello worldhello worldhello worldhello ***rldhello worldhello worldhello worldhello worldhello worldhello worldhello worldhello worldhello wor***hello worldhello worldhello worldhello worldhello worldhello worldhello worldhello worldhello worldh***lo worldhello worldhello worldhello worldhello worldhello worldhello worldhello worldhello worldhell***worldhello worldhello worldhello worldhello worldhello worldhello worldhello worldhello worldhello w***ldhello worldhello worldhello worldhello worldhello worldhello worldhello worldhello worldhello worl***ello worldhello worldhello worldhello worldhello worldhello worldhello worldhello worldhello worldhe***o worldhello worldhello worldhello worldhello worldhello worldhello worldhello worldhello worldhello***orldhello worldhello worldhello worldhello worldhello worldhello worldhello worldhello worldhello wo***dhello worldhello worldhello worldhello worldhello worldhello worldhello worldhello worldhello world***llo worldhello worldhello worldhello worldhello worldhello worldhello worldhello worldhello worldhel*** worldhello worldhello worldhello worldhello worldhello worldhello worldhello worldhello worldhello ***rldhello worldhello worldhello worldhello worldhello worldhello worldhello worldhello worldhello wor***hello worldhello worldhello worldhello worldhello worldhello worldhello worldhello worldhello worldh***lo worldhello worldhello worldhello worldhello worldhello worldhello worldhello worldhello worldhell***worldhello worldhello worldhello worldhello worldhello worldhello worldhello worldhello worldhello w***ldhello worldhello worldhello worldhello worldhello worldhello worldhello worldhello worldhello worl***ello worldhello worldhello worldhello worldhello worldhello worldhello worldhello worldhello worldhe***o worldhello worldhello worldhello worldhello worldhello worldhello worldhello worldhello worldhello***orldhello worldhello worldhello worldhello worldhello worldhello worldhello worldhello worldhello wo***dhello worldhello worldhello worldhello worldhello worldhello worldhello worldhello worldhello world***llo worldhello worldhello worldhello worldhello worldhello worldhello worldhello worldhello worldhel*** worldhello worldhello worldhello worldhello worldhello worldhello worldhello worldhello worldhello ***rldhello worldhello worldhello worldhello worldhello worldhello worldhello worldhello worldhello wor***hello worldhello worldhello worldhello worldhello worldhello worldhello worldhello worldhello worldh***lo worldhello worldhello worldhello worldhello worldhello worldhello worldhello worldhello worldhell***worldhello worldhello worldhello worldhello worldhello worldhello worldhello worldhello worldhello w***ldhello worldhello worldhello worldhello worldhello worldhello worldhello worldhello worldhello worl***ello worldhello worldhello worldhello worldhello worldhello worldhello worldhello worldhello worldhe***o worldhello worldhello worldhello worldhello worldhello worldhello worldhello worldhello worldhello***orldhello worldhello worldhello worldhello worldhello worldhello worldhello worldhello worldhello wo***dhello worldhello worldhello worldhello worldhello worldhello worldhello worldhello worldhello world***llo worldhello worldhello worldhello worldhello worldhello worldhello worldhello worldhello worldhel*** worldhello worldhello worldhello worldhello worldhello worldhello worldhello worldhello worldhello ***rldhello worldhello worldhello worldhello worldhello worldhello worldhello worldhello worldhello wor***hello worldhello worldhello worldhello worldhello worldhello worldhello worldhello worldhello worldh***lo worldhello worldhello worldhello worldhello worldhello worldhello worldhello worldhello worldhell***worldhello worldhello worldhello worldhello worldhello worldhello worldhello worldhello worldhello w***ldhello worldhello worldhello worldhello worldhello worldhello worldhello worldhello worldhello worl***ello worldhello worldhello worldhello worldhello worldhello worldhello worldhello worldhello worldhe***o worldhello worldhello worldhello worldhello worldhello worldhello worldhello worldhello worldhello***orldhello worldhello worldhello worldhello worldhello worldhello worldhello worldhello worldhello wo***dhello worldhello worldhello worldhello worldhello worldhello worldhello worldhello worldhello world***llo worldhello worldhello worldhello worldhello worldhello worldhello worldhello worldhello worldhel*** worldhello worldhello worldhello worldhello worldhello worldhello worldhello worldhello worldhello ***rldhello worldhello worldhello worldhello worldhello worldhello worldhello worldhello worldhello wor***hello worldhello worldhello worldhello worldhello worldhello worldhello worldhello worldhello worldh***lo worldhello worldhello worldhello worldhello worldhello worldhello worldhello worldhello worldhell***worldhello worldhello worldhello worldhello worldhello worldhello worldhello worldhello worldhello w***ldhello worldhello worldhello worldhello worldhello worldhello worldhello worldhello worldhello worl***ello worldhello worldhello worldhello worldhello worldhello worldhello worldhello worldhello worldhe***o worldhello worldhello worldhello worldhello worldhello worldhello worldhello worldhello worldhello***orldhello worldhello worldhello worldhello worldhello worldhello worldhello worldhello worldhello wo***dhello worldhello worldhello worldhello worldhello worldhello worldhello worldhello worldhello world***llo worldhello worldhello worldhello worldhello worldhello worldhello worldhello worldhello worldhel*** worldhello worldhello worldhello worldhello worldhello worldhello worldhello worldhello worldhello ***rldhello worldhello worldhello worldhello worldhello worldhello worldhello worldhello worldhello wor***hello worldhello worldhello worldhello worldhello worldhello worldhello worldhello worldhello worldh***lo worldhello worldhello worldhello worldhello worldhello worldhello worldhello worldhello worldhell***worldhello worldhello worldhello worldhello worldhello worldhello worldhello worldhello worldhello w***ldhello worldhello worldhello worldhello worldhello worldhello worldhello worldhello worldhello worl***ello worldhello worldhello worldhello worldhello worldhello worldhello worldhello worldhello worldhe***o worldhello worldhello worldhello worldhello worldhello worldhello worldhello worldhello worldhello***orldhello worldhello worldhello worldhello worldhello worldhello worldhello worldhello worldhello wo***dhello worldhello worldhello worldhello worldhello worldhello worldhello worldhello worldhello world***llo worldhello worldhello worldhello worldhello worldhello worldhello worldhello worldhello worldhel*** worldhello worldhello worldhello worldhello worldhello worldhello worldhello worldhello worldhello ***rldhello worldhello worldhello worldhello worldhello worldhello worldhello worldhello worldhello wor***hello worldhello worldhello worldhello worldhello worldhello worldhello worldhello worldhello worldh***lo worldhello worldhello worldhello worldhello worldhello worldhello worldhello worldhello worldhell***worldhello worldhello worldhello worldhello worldhello worldhello worldhello worldhello worldhello w***ldhello worldhello worldhello worldhello worldhello worldhello worldhello worldhello worldhello worl***ello worldhello worldhello worldhello worldhello worldhello worldhello worldhello worldhello worldhe***o worldhello worldhello worldhello worldhello worldhello worldhello worldhello worldhello worldhello***orldhello worldhello worldhello worldhello worldhello worldhello worldhello worldhello worldhello wo***dhello worldhello worldhello worldhello worldhello worldhello worldhello worldhello worldhello world***llo worldhello worldhello worldhello worldhello worldhello worldhello worldhello worldhello worldhel*** worldhello worldhello worldhello worldhello worldhello worldhello worldhello worldhello worldhello ***rldhello worldhello worldhello worldhello worldhello worldhello worldhello worldhello worldhello wor***hello worldhello worldhello worldhello worldhello worldhello worldhello worldhello worldhello worldh***lo worldhello worldhello worldhello worldhello worldhello worldhello worldhello worldhello worldhell***worldhello worldhello worldhello worldhello worldhello worldhello worldhello worldhello worldhello w***ldhello worldhello worldhello worldhello worldhello worldhello worldhello worldhello worldhello worl***ello worldhello worldhello worldhello worldhello worldhello worldhello worldhello worldhello worldhe***o worldhello worldhello worldhello worldhello worldhello worldhello worldhello worldhello worldhello***orldhello worldhello worldhello worldhello worldhello worldhello worldhello worldhello worldhello wo***dhello worldhello worldhello worldhello worldhello worldhello worldhello worldhello worldhello world***llo worldhello worldhello worldhello worldhello worldhello worldhello worldhello worldhello worldhel*** worldhello worldhello worldhello worldhello worldhello worldhello worldhello worldhello worldhello ***rldhello worldhello worldhello worldhello worldhello worldhello worldhello worldhello worldhello wor***hello worldhello worldhello worldhello worldhello worldhello worldhello worldhello worldhello worldh***lo worldhello worldhello worldhello worldhello worldhello worldhello worldhello worldhello worldhell***worldhello worldhello worldhello worldhello worldhello worldhello worldhello worldhello worldhello w***ldhello worldhello worldhello worldhello worldhello worldhello worldhello worldhello worldhello worl***ello worldhello worldhello worldhello worldhello worldhello worldhello worldhello worldhello worldhe***o worldhello worldhello worldhello worldhello worldhello worldhello worldhello worldhello worldhello***orldhello worldhello worldhello worldhello worldhello worldhello worldhello worldhello worldhello wo***dhello worldhello worldhello worldhello worldhello worldhello worldhello worldhello worldhello world***llo worldhello worldhello worldhello worldhello worldhello worldhello worldhello worldhello worldhel*** worldhello worldhello worldhello worldhello worldhello worldhello worldhello worldhello worldhello ***rldhello worldhello worldhello worldhello worldhello worldhello worldhello worldhello worldhello wor***hello worldhello worldhello worldhello worldhello worldhello worldhello worldhello worldhello worldh***lo worldhello worldhello worldhello worldhello worldhello worldhello worldhello worldhello worldhell***worldhello worldhello worldhello worldhello worldhello worldhello worldhello worldhello worldhello w***ldhello worldhello worldhello worldhello worldhello worldhello worldhello worldhello worldhello worl***ello worldhello worldhello worldhello worldhello worldhello worldhello worldhello worldhello worldhe***o worldhello worldhello worldhello worldhello worldhello worldhello worldhello worldhello worldhello***orldhello worldhello worldhello worldhello worldhello worldhello worldhello worldhello worldhello wo***dhello worldhello worldhello worldhello worldhello worldhello worldhello worldhello worldhello world***llo worldhello worldhello worldhello worldhello worldhello worldhello worldhello worldhello worldhel*** worldhello worldhello worldhello worldhello worldhello worldhello worldhello worldhello worldhello ***rldhello worldhello worldhello worldhello worldhello worldhello worldhello worldhello worldhello wor***hello worldhello worldhello worldhello worldhello worldhello worldhello worldhello worldhello worldh***lo worldhello worldhello worldhello worldhello worldhello worldhello worldhello worldhello worldhell***worldhello worldhello worldhello worldhello worldhello worldhello worldhello worldhello worldhello w***ldhello worldhello worldhello worldhello worldhello worldhello worldhello worldhello worldhello worl***ello worldhello worldhello worldhello worldhello worldhello worldhello worldhello worldhello worldhe***o worldhello worldhello worldhello worldhello worldhello worldhello worldhello worldhello worldhello***orldhello worldhello worldhello worldhello worldhello worldhello worldhello worldhello worldhello wo***dhello worldhello worldhello worldhello worldhello worldhello worldhello worldhello worldhello world***llo worldhello worldhello worldhello worldhello worldhello worldhello worldhello worldhello worldhel*** worldhello worldhello worldhello worldhello worldhello worldhello worldhello worldhello worldhello ***rldhello worldhello worldhello worldhello worldhello worldhello worldhello worldhello worldhello wor***hello worldhello worldhello worldhello worldhello worldhello worldhello worldhello worldhello worldh***lo worldhello worldhello worldhello worldhello worldhello worldhello worldhello worldhello worldhell***worldhello worldhello worldhello worldhello worldhello worldhello worldhello worldhello worldhello w***ldhello worldhello worldhello worldhello worldhello worldhello worldhello worldhello worldhello worl***ello worldhello worldhello worldhello worldhello worldhello worldhello worldhello worldhello worldhe***o worldhello worldhello worldhello worldhello worldhello worldhello worldhello worldhello worldhello***orldhello worldhello worldhello worldhello worldhello worldhello worldhello worldhello worldhello wo***dhello worldhello worldhello worldhello worldhello worldhello worldhello worldhello worldhello world***llo worldhello worldhello worldhello worldhello worldhello worldhello worldhello worldhello worldhel*** worldhello worldhello worldhello worldhello worldhello worldhello worldhello worldhello worldhello ***rldhello worldhello worldhello worldhello worldhello worldhello worldhello worldhello worldhello wor***hello worldhello worldhello worldhello worldhello worldhello worldhello worldhello worldhello worldh***lo worldhello worldhello worldhello worldhello worldhello worldhello worldhello worldhello worldhell***worldhello worldhello worldhello worldhello worldhello worldhello worldhello worldhello worldhello w***ldhello worldhello worldhello worldhello worldhello worldhello worldhello worldhello worldhello worl***ello worldhello worldhello worldhello worldhello worldhello worldhello worldhello worldhello worldhe***o worldhello worldhello worldhello worldhello worldhello worldhello worldhello worldhello worldhello***orldhello worldhello worldhello worldhello worldhello worldhello worldhello worldhello worldhello wo***dhello worldhello worldhello worldhello worldhello worldhello worldhello worldhello worldhello world***llo worldhello worldhello worldhello worldhello worldhello worldhello worldhello worldhello worldhel*** worldhello worldhello worldhello worldhello worldhello worldhello worldhello worldhello worldhello ***rldhello worldhello worldhello worldhello worldhello worldhello worldhello worldhello worldhello wor***hello worldhello worldhello worldhello worldhello worldhello worldhello worldhello worldhello worldh***lo worldhello worldhello worldhello worldhello worldhello worldhello worldhello worldhello worldhell***worldhello worldhello worldhello worldhello worldhello worldhello worldhello worldhello worldhello w***ldhello worldhello worldhello worldhello worldhello worldhello worldhello worldhello worldhello worl***ello worldhello worldhello worldhello worldhello worldhello worldhello worldhello worldhello worldhe***o worldhello worldhello worldhello worldhello worldhello worldhello worldhello worldhello worldhello***orldhello worldhello worldhello worldhello worldhello worldhello worldhello worldhello worldhello wo***dhello worldhello worldhello worldhello worldhello worldhello worldhello worldhello worldhello world***llo worldhello worldhello worldhello worldhello worldhello worldhello worldhello worldhello worldhel*** worldhello worldhello worldhello worldhello worldhello worldhello worldhello worldhello worldhello ***rldhello worldhello worldhello worldhello worldhello worldhello worldhello worldhello worldhello wor***hello worldhello worldhello worldhello worldhello worldhello worldhello worldhello worldhello worldh***lo worldhello worldhello worldhello worldhello worldhello worldhello worldhello worldhello worldhell***worldhello worldhello worldhello worldhello worldhello worldhello worldhello worldhello worldhello w***ldhello worldhello worldhello worldhello worldhello worldhello worldhello worldhello worldhello worl***ello worldhello worldhello worldhello worldhello worldhello worldhello worldhello worldhello worldhe***o worldhello worldhello worldhello worldhello worldhello worldhello worldhello worldhello worldhello***orldhello worldhello worldhello worldhello worldhello worldhello worldhello worldhello worldhello wo***dhello worldhello worldhello worldhello worldhello worldhello worldhello worldhello worldhello world***llo worldhello worldhello worldhello worldhello worldhello worldhello worldhello worldhello worldhel*** worldhello worldhello worldhello worldhello worldhello worldhello worldhello worldhello worldhello ***rldhello worldhello worldhello worldhello worldhello worldhello worldhello worldhello worldhello wor***hello worldhello worldhello worldhello worldhello worldhello worldhello worldhello worldhello worldh***lo worldhello worldhello worldhello worldhello worldhello worldhello worldhello worldhello worldhell***worldhello worldhello worldhello worldhello worldhello worldhello worldhello worldhello worldhello w***ldhello worldhello worldhello worldhello worldhello worldhello worldhello worldhello worldhello worl***ello worldhello worldhello worldhello worldhello worldhello worldhello worldhello worldhello worldhe***o worldhello worldhello worldhello worldhello worldhello worldhello worldhello worldhello worldhello***orldhello worldhello worldhello worldhello worldhello worldhello worldhello worldhello worldhello wo***dhello worldhello worldhello worldhello worldhello worldhello worldhello worldhello worldhello world***llo worldhello worldhello worldhello worldhello worldhello worldhello worldhello worldhello worldhel*** worldhello worldhello worldhello worldhello worldhello worldhello worldhello worldhello worldhello ***rldhello worldhello worldhello worldhello worldhello worldhello worldhello worldhello worldhello wor***hello worldhello worldhello worldhello worldhello worldhello worldhello worldhello worldhello worldh***lo worldhello worldhello worldhello worldhello worldhello worldhello worldhello worldhello worldhell***worldhello worldhello worldhello worldhello worldhello worldhello worldhello worldhello worldhello w***ldhello worldhello worldhello worldhello worldhello worldhello worldhello worldhello worldhello worl***ello worldhello worldhello worldhello worldhello worldhello worldhello worldhello worldhello worldhe***o worldhello worldhello worldhello worldhello worldhello worldhello worldhello worldhello worldhello***orldhello worldhello worldhello worldhello worldhello worldhello worldhello worldhello worldhello wo***dhello worldhello worldhello worldhello worldhello worldhello worldhello worldhello worldhello world***llo worldhello worldhello worldhello worldhello worldhello worldhello worldhello worldhello worldhel*** worldhello worldhello worldhello worldhello worldhello worldhello worldhello worldhello worldhello ***rldhello worldhello worldhello worldhello worldhello worldhello worldhello worldhello worldhello wor***hello worldhello worldhello worldhello worldhello worldhello worldhello worldhello worldhello worldh***lo worldhello worldhello worldhello worldhello worldhello worldhello worldhello worldhello worldhell***worldhello worldhello worldhello worldhello worldhello worldhello worldhello worldhello worldhello w***ldhello worldhello worldhello worldhello worldhello worldhello worldhello worldhello worldhello worl***ello worldhello worldhello worldhello worldhello worldhello worldhello worldhello worldhello worldhe***o worldhello worldhello worldhello worldhello worldhello worldhello worldhello worldhello worldhello***orldhello worldhello worldhello worldhello worldhello worldhello worldhello worldhello worldhello wo***dhello worldhello worldhello worldhello worldhello worldhello worldhello worldhello worldhello world***llo worldhello worldhello worldhello worldhello worldhello worldhello worldhello worldhello worldhel*** worldhello worldhello worldhello worldhello worldhello worldhello worldhello worldhello worldhello ***rldhello worldhello worldhello worldhello worldhello worldhello worldhello worldhello worldhello wor***hello worldhello worldhello worldhello worldhello worldhello worldhello worldhello worldhello worldh***lo worldhello worldhello worldhello worldhello worldhello worldhello worldhello worldhello worldhell***worldhello worldhello worldhello worldhello worldhello worldhello worldhello worldhello worldhello w***ldhello worldhello worldhello worldhello worldhello worldhello worldhello worldhello worldhello worl***ello worldhello worldhello worldhello worldhello worldhello worldhello worldhello worldhello worldhe***o worldhello worldhello worldhello worldhello worldhello worldhello worldhello worldhello worldhello***orldhello worldhello worldhello worldhello worldhello worldhello worldhello worldhello worldhello wo***dhello worldhello worldhello worldhello worldhello worldhello worldhello worldhello worldhello world***llo worldhello worldhello worldhello worldhello worldhello worldhello worldhello worldhello worldhel*** worldhello worldhello worldhello worldhello worldhello worldhello worldhello worldhello worldhello ***rldhello worldhello worldhello worldhello worldhello worldhello worldhello worldhello worldhello wor***hello worldhello worldhello worldhello worldhello worldhello worldhello worldhello worldhello worldh***lo worldhello worldhello worldhello worldhello worldhello worldhello worldhello worldhello worldhell***worldhello worldhello worldhello worldhello worldhello worldhello worldhello worldhello worldhello w***ldhello worldhello worldhello worldhello worldhello worldhello worldhello worldhello worldhello worl***ello worldhello worldhello worldhello worldhello worldhello worldhello worldhello worldhello worldhe***o worldhello worldhello worldhello worldhello worldhello worldhello worldhello worldhello worldhello***orldhello worldhello worldhello worldhello worldhello worldhello worldhello worldhello worldhello wo***dhello worldhello worldhello worldhello worldhello worldhello worldhello worldhello worldhello world***llo worldhello worldhello worldhello worldhello worldhello worldhello worldhello worldhello worldhel*** worldhello worldhello worldhello worldhello worldhello worldhello worldhello worldhello worldhello ***rldhello worldhello worldhello worldhello worldhello worldhello worldhello worldhello worldhello wor***hello worldhello worldhello worldhello worldhello worldhello worldhello worldhello worldhello worldh***lo worldhello worldhello worldhello worldhello worldhello worldhello worldhello worldhello worldhell***worldhello worldhello worldhello worldhello worldhello worldhello worldhello worldhello worldhello w***ldhello worldhello worldhello worldhello worldhello worldhello worldhello worldhello worldhello worl***ello worldhello worldhello worldhello worldhello worldhello worldhello worldhello worldhello worldhe***o worldhello worldhello worldhello worldhello worldhello worldhello worldhello worldhello worldhello***orldhello worldhello worldhello worldhello worldhello worldhello worldhello worldhello worldhello wo***dhello worldhello worldhello worldhello worldhello worldhello worldhello worldhello worldhello world***llo worldhello worldhello worldhello worldhello worldhello worldhello worldhello worldhello worldhel*** worldhello worldhello worldhello worldhello worldhello worldhello worldhello worldhello worldhello ***rldhello worldhello worldhello worldhello worldhello worldhello worldhello worldhello worldhello wor***hello worldhello worldhello worldhello worldhello worldhello worldhello worldhello worldhello worldh***lo worldhello worldhello worldhello worldhello worldhello worldhello worldhello worldhello worldhell***worldhello worldhello worldhello worldhello worldhello worldhello worldhello worldhello worldhello w***ldhello worldhello worldhello worldhello worldhello worldhello worldhello worldhello worldhello worl***ello worldhello worldhello worldhello worldhello worldhello worldhello worldhello worldhello worldhe***o worldhello worldhello worldhello worldhello worldhello worldhello worldhello worldhello worldhello***orldhello worldhello worldhello worldhello worldhello worldhello worldhello worldhello worldhello wo***dhello worldhello worldhello worldhello worldhello worldhello worldhello worldhello worldhello world***llo worldhello worldhello worldhello worldhello worldhello worldhello worldhello worldhello worldhel*** worldhello worldhello worldhello worldhello worldhello worldhello worldhello worldhello worldhello ***rldhello worldhello worldhello worldhello worldhello worldhello worldhello worldhello worldhello wor***hello worldhello worldhello worldhello worldhello worldhello worldhello worldhello worldhello worldh***lo worldhello worldhello worldhello worldhello worldhello worldhello worldhello worldhello worldhell***worldhello worldhello worldhello worldhello worldhello worldhello worldhello worldhello worldhello w***ldhello worldhello worldhello worldhello worldhello worldhello worldhello worldhello worldhello worl***ello worldhello worldhello worldhello worldhello worldhello worldhello worldhello worldhello worldhe***o worldhello worldhello worldhello worldhello worldhello worldhello worldhello worldhello worldhello***orldhello worldhello worldhello worldhello worldhello worldhello worldhello worldhello worldhello wo***dhello worldhello worldhello worldhello worldhello worldhello worldhello worldhello worldhello world***llo worldhello worldhello worldhello worldhello worldhello worldhello worldhello worldhello worldhel*** worldhello worldhello worldhello worldhello worldhello worldhello worldhello worldhello worldhello ***rldhello worldhello worldhello worldhello worldhello worldhello worldhello worldhello worldhello wor***hello worldhello worldhello worldhello worldhello worldhello worldhello worldhello worldhello worldh***lo worldhello worldhello worldhello worldhello worldhello worldhello worldhello worldhello worldhell***worldhello worldhello worldhello worldhello worldhello worldhello worldhello worldhello worldhello w***ldhello worldhello worldhello worldhello worldhello worldhello worldhello worldhello worldhello worl***ello worldhello worldhello worldhello worldhello worldhello worldhello worldhello worldhello worldhe***o worldhello worldhello worldhello worldhello worldhello worldhello worldhello worldhello worldhello***orldhello worldhello worldhello worldhello worldhello worldhello worldhello worldhello worldhello wo***dhello worldhello worldhello worldhello worldhello worldhello worldhello worldhello worldhello world***llo worldhello worldhello worldhello worldhello worldhello worldhello worldhello worldhello worldhel*** worldhello worldhello worldhello worldhello worldhello worldhello worldhello worldhello worldhello ***rldhello worldhello worldhello worldhello worldhello worldhello worldhello worldhello worldhello wor***hello worldhello worldhello worldhello worldhello worldhello worldhello worldhello worldhello worldh***lo worldhello worldhello worldhello worldhello worldhello worldhello worldhello worldhello worldhell***worldhello worldhello worldhello worldhello worldhello worldhello worldhello worldhello worldhello w***ldhello worldhello worldhello worldhello worldhello worldhello worldhello worldhello worldhello worl***ello worldhello worldhello worldhello worldhello worldhello worldhello worldhello worldhello worldhe***o worldhello worldhello worldhello worldhello worldhello worldhello worldhello worldhello worldhello***orldhello worldhello worldhello worldhello worldhello worldhello worldhello worldhello worldhello wo***dhello worldhello worldhello worldhello worldhello worldhello worldhello worldhello worldhello world***llo worldhello worldhello worldhello worldhello worldhello worldhello worldhello worldhello worldhel*** worldhello worldhello worldhello worldhello worldhello worldhello worldhello worldhello worldhello ***rldhello worldhello worldhello worldhello worldhello worldhello worldhello worldhello worldhello wor***hello worldhello worldhello worldhello worldhello worldhello worldhello worldhello worldhello worldh***lo worldhello worldhello worldhello worldhello worldhello worldhello worldhello worldhello worldhell***worldhello worldhello worldhello worldhello worldhello worldhello worldhello worldhello worldhello w***ldhello worldhello worldhello worldhello worldhello worldhello worldhello worldhello worldhello worl***ello worldhello worldhello worldhello worldhello worldhello worldhello worldhello worldhello worldhe***o worldhello worldhello worldhello worldhello worldhello worldhello worldhello worldhello worldhello***orldhello worldhello worldhello worldhello worldhello worldhello worldhello worldhello worldhello wo***dhello worldhello worldhello worldhello worldhello worldhello worldhello worldhello worldhello world***llo worldhello worldhello worldhello worldhello worldhello worldhello worldhello worldhello worldhel*** worldhello worldhello worldhello worldhello worldhello worldhello worldhello worldhello worldhello ***rldhello worldhello worldhello worldhello worldhello worldhello worldhello worldhello worldhello wor***hello worldhello worldhello worldhello worldhello worldhello worldhello worldhello worldhello worldh***lo worldhello worldhello worldhello worldhello worldhello worldhello worldhello worldhello worldhell***worldhello worldhello worldhello worldhello worldhello worldhello worldhello worldhello worldhello w***ldhello worldhello worldhello worldhello worldhello worldhello worldhello worldhello worldhello worl***ello worldhello worldhello worldhello worldhello worldhello worldhello worldhello worldhello worldhe***o worldhello worldhello worldhello worldhello worldhello worldhello worldhello worldhello worldhello***orldhello worldhello worldhello worldhello worldhello worldhello worldhello worldhello worldhello wo***dhello worldhello worldhello worldhello worldhello worldhello worldhello worldhello worldhello world***llo worldhello worldhello worldhello worldhello worldhello worldhello worldhello worldhello worldhel*** worldhello worldhello worldhello worldhello worldhello worldhello worldhello worldhello worldhello ***rldhello worldhello worldhello worldhello worldhello worldhello worldhello worldhello worldhello wor***hello worldhello worldhello worldhello worldhello worldhello worldhello worldhello worldhello worldh***lo worldhello worldhello worldhello worldhello worldhello worldhello worldhello worldhello worldhell***worldhello worldhello worldhello worldhello worldhello worldhello worldhello worldhello worldhello w***ldhello worldhello worldhello worldhello worldhello worldhello worldhello worldhello worldhello worl***ello worldhello worldhello worldhello worldhello worldhello worldhello worldhello worldhello worldhe***o worldhello worldhello worldhello worldhello worldhello worldhello worldhello worldhello worldhello***orldhello worldhello worldhello worldhello worldhello worldhello worldhello worldhello worldhello wo***dhello worldhello worldhello worldhello worldhello worldhello worldhello worldhello worldhello world***llo worldhello worldhello worldhello worldhello worldhello worldhello worldhello worldhello worldhel*** worldhello worldhello worldhello worldhello worldhello worldhello worldhello worldhello worldhello ***rldhello worldhello worldhello worldhello worldhello worldhello worldhello worldhello worldhello wor***hello worldhello worldhello worldhello worldhello worldhello worldhello worldhello worldhello worldh***lo worldhello worldhello worldhello worldhello worldhello worldhello worldhello worldhello worldhell***worldhello worldhello worldhello worldhello worldhello worldhello worldhello worldhello worldhello w***ldhello worldhello worldhello worldhello worldhello worldhello worldhello worldhello worldhello worl***ello worldhello worldhello worldhello worldhello worldhello worldhello worldhello worldhello worldhe***o worldhello worldhello worldhello worldhello worldhello worldhello worldhello worldhello worldhello***orldhello worldhello worldhello worldhello worldhello worldhello worldhello worldhello worldhello wo***dhello worldhello worldhello worldhello worldhello worldhello worldhello worldhello worldhello world***"
     ]
    }
   ],
   "source": [
    "with open(\"big.txt\", \"r\") as f:\n",
    "\tchunk_size = 100\n",
    "\twhile len(f.read(chunk_size)) > 0:\n",
    "\t\tprint(f.read(chunk_size), end=\"***\")\n",
    "\t\tf.read(chunk_size)"
   ]
  },
  {
   "cell_type": "markdown",
   "id": "3a9a456f-32f2-47a9-9ef8-ce4365e50b39",
   "metadata": {},
   "source": [
    "```\n",
    "tell() ==> It gives the current index position of the cursor\n",
    "seek() ==> It takes the cursor from the current index position to the given index position \n",
    "```"
   ]
  },
  {
   "cell_type": "code",
   "execution_count": 18,
   "id": "494d06ee-efb0-4c08-b7dc-2b4b7351ce92",
   "metadata": {},
   "outputs": [
    {
     "name": "stdout",
     "output_type": "stream",
     "text": [
      "hello\n",
      "hi\n",
      "h\n",
      "12\n",
      "hello\n",
      "hi\n",
      "h\n",
      "12\n"
     ]
    }
   ],
   "source": [
    "# reading first 10 char and again\n",
    "with open(\"sample.txt\", \"r\") as f:\n",
    "\tprint(f.read(10))\n",
    "\tprint(f.tell())\n",
    "\tf.seek(0)\n",
    "\tprint(f.read(10))\n",
    "\tprint(f.tell())"
   ]
  },
  {
   "cell_type": "code",
   "execution_count": 20,
   "id": "2358904e-6fd0-4347-a570-cb3bba85d2a5",
   "metadata": {},
   "outputs": [],
   "source": [
    "# seek during write\n",
    "\n",
    "with open(\"sample.txt\", \"w\") as f:\n",
    "\tf.write(\"Hello\")\n",
    "\t# f.seek(0)\n",
    "\t# f.write(\"X\")\n",
    "\tf.seek(0)\n",
    "\tf.write(\"Xa\")"
   ]
  },
  {
   "cell_type": "markdown",
   "id": "6feb07b2-8b19-43d3-ac4e-7133e2339264",
   "metadata": {},
   "source": [
    "```\n",
    "Problems of working with text mode:\n",
    "-----------------------------------\n",
    "\n",
    "==> can't work with binary files like images\n",
    "==> not good for other data types like int/float/list/tuple\n",
    "```"
   ]
  },
  {
   "cell_type": "code",
   "execution_count": 21,
   "id": "719ebd8d-3d9f-4e4c-ac7b-61d7fc5bc0ef",
   "metadata": {},
   "outputs": [
    {
     "ename": "UnicodeDecodeError",
     "evalue": "'charmap' codec can't decode byte 0x90 in position 371: character maps to <undefined>",
     "output_type": "error",
     "traceback": [
      "\u001b[1;31m---------------------------------------------------------------------------\u001b[0m",
      "\u001b[1;31mUnicodeDecodeError\u001b[0m                        Traceback (most recent call last)",
      "Cell \u001b[1;32mIn[21], line 4\u001b[0m\n\u001b[0;32m      1\u001b[0m \u001b[38;5;66;03m# working with binary files it throws error\u001b[39;00m\n\u001b[0;32m      3\u001b[0m \u001b[38;5;28;01mwith\u001b[39;00m \u001b[38;5;28mopen\u001b[39m(\u001b[38;5;124m\"\u001b[39m\u001b[38;5;124mHuman.jpg\u001b[39m\u001b[38;5;124m\"\u001b[39m, \u001b[38;5;124m\"\u001b[39m\u001b[38;5;124mr\u001b[39m\u001b[38;5;124m\"\u001b[39m) \u001b[38;5;28;01mas\u001b[39;00m f:\n\u001b[1;32m----> 4\u001b[0m \t\u001b[38;5;28mprint\u001b[39m(f\u001b[38;5;241m.\u001b[39mread())\n",
      "File \u001b[1;32m~\\anaconda3\\Lib\\encodings\\cp1252.py:23\u001b[0m, in \u001b[0;36mIncrementalDecoder.decode\u001b[1;34m(self, input, final)\u001b[0m\n\u001b[0;32m     22\u001b[0m \u001b[38;5;28;01mdef\u001b[39;00m \u001b[38;5;21mdecode\u001b[39m(\u001b[38;5;28mself\u001b[39m, \u001b[38;5;28minput\u001b[39m, final\u001b[38;5;241m=\u001b[39m\u001b[38;5;28;01mFalse\u001b[39;00m):\n\u001b[1;32m---> 23\u001b[0m     \u001b[38;5;28;01mreturn\u001b[39;00m codecs\u001b[38;5;241m.\u001b[39mcharmap_decode(\u001b[38;5;28minput\u001b[39m,\u001b[38;5;28mself\u001b[39m\u001b[38;5;241m.\u001b[39merrors,decoding_table)[\u001b[38;5;241m0\u001b[39m]\n",
      "\u001b[1;31mUnicodeDecodeError\u001b[0m: 'charmap' codec can't decode byte 0x90 in position 371: character maps to <undefined>"
     ]
    }
   ],
   "source": [
    "# working with binary files using text read mode it throws error\n",
    "\n",
    "with open(\"Human.jpg\", \"r\") as f:\n",
    "\tprint(f.read())"
   ]
  },
  {
   "cell_type": "code",
   "execution_count": 1,
   "id": "79ed6945-0177-42c0-947e-c05483088476",
   "metadata": {},
   "outputs": [],
   "source": [
    "# working with binary files using rb & wb mode\n",
    "with open(\"Human.jpg\", \"rb\") as f:\n",
    "    f.read()\n",
    "    #print(f.read())"
   ]
  },
  {
   "cell_type": "code",
   "execution_count": 25,
   "id": "0fa94e23-b630-47ae-9352-67b693cc8ffb",
   "metadata": {},
   "outputs": [],
   "source": [
    "with open(\"Human.jpg\", \"rb\") as f:\n",
    "    with open(\"Human_copy.jpg\", \"wb\") as wf:\n",
    "        wf.write(f.read())"
   ]
  },
  {
   "cell_type": "code",
   "execution_count": 26,
   "id": "ceaa0d68-d5fd-4f81-b361-95b513e989ff",
   "metadata": {},
   "outputs": [
    {
     "ename": "TypeError",
     "evalue": "write() argument must be str, not int",
     "output_type": "error",
     "traceback": [
      "\u001b[1;31m---------------------------------------------------------------------------\u001b[0m",
      "\u001b[1;31mTypeError\u001b[0m                                 Traceback (most recent call last)",
      "Cell \u001b[1;32mIn[26], line 3\u001b[0m\n\u001b[0;32m      1\u001b[0m \u001b[38;5;66;03m# working with other data types\u001b[39;00m\n\u001b[0;32m      2\u001b[0m \u001b[38;5;28;01mwith\u001b[39;00m \u001b[38;5;28mopen\u001b[39m(\u001b[38;5;124m\"\u001b[39m\u001b[38;5;124msample.txt\u001b[39m\u001b[38;5;124m\"\u001b[39m, \u001b[38;5;124m\"\u001b[39m\u001b[38;5;124mw\u001b[39m\u001b[38;5;124m\"\u001b[39m) \u001b[38;5;28;01mas\u001b[39;00m f:\n\u001b[1;32m----> 3\u001b[0m \tf\u001b[38;5;241m.\u001b[39mwrite(\u001b[38;5;241m5\u001b[39m)\n",
      "\u001b[1;31mTypeError\u001b[0m: write() argument must be str, not int"
     ]
    }
   ],
   "source": [
    "# working with other data types\n",
    "with open(\"sample.txt\", \"w\") as f:\n",
    "\tf.write(5)"
   ]
  },
  {
   "cell_type": "code",
   "execution_count": 27,
   "id": "c29bc6b4-4308-4bab-a6e3-94cfd7749d90",
   "metadata": {},
   "outputs": [],
   "source": [
    "with open(\"sample.txt\", \"w\") as f:\n",
    "\tf.write('5')"
   ]
  },
  {
   "cell_type": "code",
   "execution_count": 28,
   "id": "0fc4b220-9b39-4727-9343-72cb14f54f94",
   "metadata": {},
   "outputs": [
    {
     "ename": "TypeError",
     "evalue": "can only concatenate str (not \"int\") to str",
     "output_type": "error",
     "traceback": [
      "\u001b[1;31m---------------------------------------------------------------------------\u001b[0m",
      "\u001b[1;31mTypeError\u001b[0m                                 Traceback (most recent call last)",
      "Cell \u001b[1;32mIn[28], line 2\u001b[0m\n\u001b[0;32m      1\u001b[0m \u001b[38;5;28;01mwith\u001b[39;00m \u001b[38;5;28mopen\u001b[39m(\u001b[38;5;124m\"\u001b[39m\u001b[38;5;124msample.txt\u001b[39m\u001b[38;5;124m\"\u001b[39m, \u001b[38;5;124m\"\u001b[39m\u001b[38;5;124mr\u001b[39m\u001b[38;5;124m\"\u001b[39m) \u001b[38;5;28;01mas\u001b[39;00m f:\n\u001b[1;32m----> 2\u001b[0m \t\u001b[38;5;28mprint\u001b[39m(f\u001b[38;5;241m.\u001b[39mread()\u001b[38;5;241m+\u001b[39m\u001b[38;5;241m5\u001b[39m)\n",
      "\u001b[1;31mTypeError\u001b[0m: can only concatenate str (not \"int\") to str"
     ]
    }
   ],
   "source": [
    "with open(\"sample.txt\", \"r\") as f:\n",
    "\tprint(f.read()+5)"
   ]
  },
  {
   "cell_type": "code",
   "execution_count": 29,
   "id": "71e65d56-7175-4aa7-9089-1a3be0dddf34",
   "metadata": {},
   "outputs": [
    {
     "name": "stdout",
     "output_type": "stream",
     "text": [
      "10\n"
     ]
    }
   ],
   "source": [
    "with open(\"sample.txt\", \"r\") as f:\n",
    "\tprint(int(f.read())+5)"
   ]
  },
  {
   "cell_type": "code",
   "execution_count": 30,
   "id": "ef5dcee0-12dd-430d-8210-459ce64c4265",
   "metadata": {},
   "outputs": [
    {
     "ename": "TypeError",
     "evalue": "write() argument must be str, not dict",
     "output_type": "error",
     "traceback": [
      "\u001b[1;31m---------------------------------------------------------------------------\u001b[0m",
      "\u001b[1;31mTypeError\u001b[0m                                 Traceback (most recent call last)",
      "Cell \u001b[1;32mIn[30], line 10\u001b[0m\n\u001b[0;32m      3\u001b[0m d \u001b[38;5;241m=\u001b[39m {\n\u001b[0;32m      4\u001b[0m \u001b[38;5;124m\"\u001b[39m\u001b[38;5;124mname\u001b[39m\u001b[38;5;124m\"\u001b[39m: \u001b[38;5;124m\"\u001b[39m\u001b[38;5;124mnitish\u001b[39m\u001b[38;5;124m\"\u001b[39m,\n\u001b[0;32m      5\u001b[0m \u001b[38;5;124m\"\u001b[39m\u001b[38;5;124mage\u001b[39m\u001b[38;5;124m\"\u001b[39m: \u001b[38;5;241m33\u001b[39m,\n\u001b[0;32m      6\u001b[0m \u001b[38;5;124m\"\u001b[39m\u001b[38;5;124mgender\u001b[39m\u001b[38;5;124m\"\u001b[39m: \u001b[38;5;124m\"\u001b[39m\u001b[38;5;124mmale\u001b[39m\u001b[38;5;124m\"\u001b[39m\n\u001b[0;32m      7\u001b[0m }\n\u001b[0;32m      9\u001b[0m \u001b[38;5;28;01mwith\u001b[39;00m \u001b[38;5;28mopen\u001b[39m(\u001b[38;5;124m\"\u001b[39m\u001b[38;5;124msample.txt\u001b[39m\u001b[38;5;124m\"\u001b[39m, \u001b[38;5;124m\"\u001b[39m\u001b[38;5;124mw\u001b[39m\u001b[38;5;124m\"\u001b[39m) \u001b[38;5;28;01mas\u001b[39;00m f:\n\u001b[1;32m---> 10\u001b[0m \tf\u001b[38;5;241m.\u001b[39mwrite(d)\n",
      "\u001b[1;31mTypeError\u001b[0m: write() argument must be str, not dict"
     ]
    }
   ],
   "source": [
    "# more complex data\n",
    "\n",
    "d = {\n",
    "\"name\": \"nitish\",\n",
    "\"age\": 33,\n",
    "\"gender\": \"male\"\n",
    "}\n",
    "\n",
    "with open(\"sample.txt\", \"w\") as f:\n",
    "\tf.write(d)"
   ]
  },
  {
   "cell_type": "code",
   "execution_count": 31,
   "id": "0bd655f9-601b-4315-b7c1-bdf3c1d6144a",
   "metadata": {},
   "outputs": [],
   "source": [
    "with open(\"sample.txt\", \"w\") as f:\n",
    "\tf.write(str(d))"
   ]
  },
  {
   "cell_type": "code",
   "execution_count": 32,
   "id": "86426a1c-0f7f-4c45-96b7-4bd23fec602a",
   "metadata": {},
   "outputs": [
    {
     "name": "stdout",
     "output_type": "stream",
     "text": [
      "{'name': 'nitish', 'age': 33, 'gender': 'male'}\n",
      "<class 'str'>\n"
     ]
    }
   ],
   "source": [
    "with open(\"sample.txt\", \"r\") as f:\n",
    "\tprint(f.read())\n",
    "\tprint(type(f.read()))"
   ]
  },
  {
   "cell_type": "code",
   "execution_count": 33,
   "id": "c4f9fb48-8dec-4ca5-8573-0ddaa68f5d93",
   "metadata": {},
   "outputs": [
    {
     "ename": "ValueError",
     "evalue": "dictionary update sequence element #0 has length 1; 2 is required",
     "output_type": "error",
     "traceback": [
      "\u001b[1;31m---------------------------------------------------------------------------\u001b[0m",
      "\u001b[1;31mValueError\u001b[0m                                Traceback (most recent call last)",
      "Cell \u001b[1;32mIn[33], line 2\u001b[0m\n\u001b[0;32m      1\u001b[0m \u001b[38;5;28;01mwith\u001b[39;00m \u001b[38;5;28mopen\u001b[39m(\u001b[38;5;124m\"\u001b[39m\u001b[38;5;124msample.txt\u001b[39m\u001b[38;5;124m\"\u001b[39m, \u001b[38;5;124m\"\u001b[39m\u001b[38;5;124mr\u001b[39m\u001b[38;5;124m\"\u001b[39m) \u001b[38;5;28;01mas\u001b[39;00m f:\n\u001b[1;32m----> 2\u001b[0m \t\u001b[38;5;28mprint\u001b[39m(\u001b[38;5;28mdict\u001b[39m(f\u001b[38;5;241m.\u001b[39mread()))\n",
      "\u001b[1;31mValueError\u001b[0m: dictionary update sequence element #0 has length 1; 2 is required"
     ]
    }
   ],
   "source": [
    "with open(\"sample.txt\", \"r\") as f:\n",
    "\tprint(dict(f.read()))"
   ]
  },
  {
   "cell_type": "markdown",
   "id": "74bb9a56-4930-4a18-9679-d4cc333c0d74",
   "metadata": {},
   "source": [
    "----\n",
    "```\n",
    "==> solution for all above problems is serialization and deserialization\n",
    "\n",
    "what is serialization and deserialization???\n",
    "\n",
    "serialization: converting python data types to json format\n",
    "deserialization: converting json format to python data types\n",
    "\n",
    "\n",
    "what is json?\n",
    "\n",
    "==> json stands for java script object notation. It is a universal text format understand by any program language.\n",
    "```"
   ]
  },
  {
   "cell_type": "code",
   "execution_count": 34,
   "id": "5dea2836-fb28-4e10-a77c-ab8fc265637f",
   "metadata": {},
   "outputs": [],
   "source": [
    "# serialization with json module: list\n",
    "\n",
    "import json\n",
    "\n",
    "l = [10, 20, 30, 40]\n",
    "with open(\"demo.json\", \"w\") as f:\n",
    "\tjson.dump(l, f)"
   ]
  },
  {
   "cell_type": "code",
   "execution_count": 35,
   "id": "026c8e8a-f56c-466e-afd6-bd0e3b238daf",
   "metadata": {},
   "outputs": [
    {
     "name": "stdout",
     "output_type": "stream",
     "text": [
      "[10, 20, 30, 40]\n",
      "<class 'list'>\n"
     ]
    }
   ],
   "source": [
    "# deserialization with json module: list\n",
    "import json\n",
    "with open(\"demo.json\", \"r\") as f:\n",
    "    data = json.load(f)\n",
    "    print(data)\n",
    "    print(type(data))"
   ]
  },
  {
   "cell_type": "code",
   "execution_count": 36,
   "id": "31c04f9e-479b-4c20-bcda-6e897b8d1e17",
   "metadata": {},
   "outputs": [],
   "source": [
    "# serialization with json module: dict\n",
    "import json\n",
    "\n",
    "d = {\n",
    "\"name\": \"nitish\",\n",
    "\"age\": 33,\n",
    "\"gender\": \"male\"\n",
    "}\n",
    "\n",
    "with open(\"demo.json\", \"w\") as f:\n",
    "\tjson.dump(d, f)\n"
   ]
  },
  {
   "cell_type": "code",
   "execution_count": 37,
   "id": "289f3eb8-86a0-46de-9c59-be393e1cd930",
   "metadata": {},
   "outputs": [
    {
     "name": "stdout",
     "output_type": "stream",
     "text": [
      "{'name': 'nitish', 'age': 33, 'gender': 'male'}\n",
      "<class 'dict'>\n"
     ]
    }
   ],
   "source": [
    "# deserialization with json module: dict\n",
    "with open(\"demo.json\", \"r\") as f:\n",
    "\td = json.load(f)\n",
    "\tprint(d)\n",
    "\tprint(type(d))"
   ]
  },
  {
   "cell_type": "code",
   "execution_count": 38,
   "id": "d0f73dc4-53ec-45b1-b274-ea5abe797409",
   "metadata": {},
   "outputs": [],
   "source": [
    "# serialization with json module: tuple\n",
    "\n",
    "import json\n",
    "\n",
    "t = (10, 20, 30, 40)\n",
    "with open(\"demo.json\", \"w\") as f:\n",
    "\tjson.dump(t, f)"
   ]
  },
  {
   "cell_type": "code",
   "execution_count": 39,
   "id": "5ddddb01-d91e-4c4f-8d14-e2f45e4c4391",
   "metadata": {},
   "outputs": [
    {
     "name": "stdout",
     "output_type": "stream",
     "text": [
      "[10, 20, 30, 40]\n",
      "<class 'list'>\n"
     ]
    }
   ],
   "source": [
    "# deserialization with json module: tuple\n",
    "import json\n",
    "with open(\"demo.json\", \"r\") as f:\n",
    "\tdata = json.load(f)\n",
    "\tprint(data)\n",
    "\tprint(type(data))"
   ]
  },
  {
   "cell_type": "code",
   "execution_count": 40,
   "id": "2935de71-5011-47e6-9e55-34cf794fd2e7",
   "metadata": {},
   "outputs": [],
   "source": [
    "# serialization with json module: nested dictionary\n",
    "import json\n",
    "d = {\n",
    "\"name\": \"nitish\",\n",
    "\"marks\": [23, 14, 34, 45, 56]\n",
    "}\n",
    "with open(\"demo.json\", \"w\") as f:\n",
    "\tjson.dump(d, f)\n"
   ]
  },
  {
   "cell_type": "code",
   "execution_count": 41,
   "id": "c6645dff-3284-4bd5-aecf-9a8982362225",
   "metadata": {},
   "outputs": [
    {
     "name": "stdout",
     "output_type": "stream",
     "text": [
      "{'name': 'nitish', 'marks': [23, 14, 34, 45, 56]}\n",
      "<class 'dict'>\n"
     ]
    }
   ],
   "source": [
    "# deserialization with json module: nested dictionary\n",
    "with open(\"demo.json\", \"r\") as f:\n",
    "\tdata = json.load(f)\n",
    "\tprint(data)\n",
    "\tprint(type(data))"
   ]
  },
  {
   "cell_type": "code",
   "execution_count": 42,
   "id": "e074ed75-3890-432c-9cc4-ea920d3eef76",
   "metadata": {},
   "outputs": [],
   "source": [
    "# serializing and deserializing custom objects\n",
    "\n",
    "class Person:\n",
    "\n",
    "\tdef __init__(self, fname, lname, age, gender):\n",
    "\t\tself.fname = fname\n",
    "\t\tself.lname = lname\n",
    "\t\tself.age   = age\n",
    "\t\tself.gender= gender\n",
    "\n",
    "# format to printed in\n",
    "# Nitish singh\n",
    "# age -> 33\n",
    "# gender -> male\n",
    "\n",
    "person = Person(\"Nitish\", \"singh\", 33, \"male\")"
   ]
  },
  {
   "cell_type": "code",
   "execution_count": 43,
   "id": "32235127-1947-428c-ae9f-d2231e47db06",
   "metadata": {},
   "outputs": [
    {
     "ename": "TypeError",
     "evalue": "Object of type Person is not JSON serializable",
     "output_type": "error",
     "traceback": [
      "\u001b[1;31m---------------------------------------------------------------------------\u001b[0m",
      "\u001b[1;31mTypeError\u001b[0m                                 Traceback (most recent call last)",
      "Cell \u001b[1;32mIn[43], line 4\u001b[0m\n\u001b[0;32m      1\u001b[0m \u001b[38;5;28;01mimport\u001b[39;00m \u001b[38;5;21;01mjson\u001b[39;00m\n\u001b[0;32m      3\u001b[0m \u001b[38;5;28;01mwith\u001b[39;00m \u001b[38;5;28mopen\u001b[39m(\u001b[38;5;124m\"\u001b[39m\u001b[38;5;124mdemo.json\u001b[39m\u001b[38;5;124m\"\u001b[39m, \u001b[38;5;124m\"\u001b[39m\u001b[38;5;124mw\u001b[39m\u001b[38;5;124m\"\u001b[39m) \u001b[38;5;28;01mas\u001b[39;00m f:\n\u001b[1;32m----> 4\u001b[0m \tjson\u001b[38;5;241m.\u001b[39mdump(person, f)\n",
      "File \u001b[1;32m~\\anaconda3\\Lib\\json\\__init__.py:179\u001b[0m, in \u001b[0;36mdump\u001b[1;34m(obj, fp, skipkeys, ensure_ascii, check_circular, allow_nan, cls, indent, separators, default, sort_keys, **kw)\u001b[0m\n\u001b[0;32m    173\u001b[0m     iterable \u001b[38;5;241m=\u001b[39m \u001b[38;5;28mcls\u001b[39m(skipkeys\u001b[38;5;241m=\u001b[39mskipkeys, ensure_ascii\u001b[38;5;241m=\u001b[39mensure_ascii,\n\u001b[0;32m    174\u001b[0m         check_circular\u001b[38;5;241m=\u001b[39mcheck_circular, allow_nan\u001b[38;5;241m=\u001b[39mallow_nan, indent\u001b[38;5;241m=\u001b[39mindent,\n\u001b[0;32m    175\u001b[0m         separators\u001b[38;5;241m=\u001b[39mseparators,\n\u001b[0;32m    176\u001b[0m         default\u001b[38;5;241m=\u001b[39mdefault, sort_keys\u001b[38;5;241m=\u001b[39msort_keys, \u001b[38;5;241m*\u001b[39m\u001b[38;5;241m*\u001b[39mkw)\u001b[38;5;241m.\u001b[39miterencode(obj)\n\u001b[0;32m    177\u001b[0m \u001b[38;5;66;03m# could accelerate with writelines in some versions of Python, at\u001b[39;00m\n\u001b[0;32m    178\u001b[0m \u001b[38;5;66;03m# a debuggability cost\u001b[39;00m\n\u001b[1;32m--> 179\u001b[0m \u001b[38;5;28;01mfor\u001b[39;00m chunk \u001b[38;5;129;01min\u001b[39;00m iterable:\n\u001b[0;32m    180\u001b[0m     fp\u001b[38;5;241m.\u001b[39mwrite(chunk)\n",
      "File \u001b[1;32m~\\anaconda3\\Lib\\json\\encoder.py:439\u001b[0m, in \u001b[0;36m_make_iterencode.<locals>._iterencode\u001b[1;34m(o, _current_indent_level)\u001b[0m\n\u001b[0;32m    437\u001b[0m         \u001b[38;5;28;01mraise\u001b[39;00m \u001b[38;5;167;01mValueError\u001b[39;00m(\u001b[38;5;124m\"\u001b[39m\u001b[38;5;124mCircular reference detected\u001b[39m\u001b[38;5;124m\"\u001b[39m)\n\u001b[0;32m    438\u001b[0m     markers[markerid] \u001b[38;5;241m=\u001b[39m o\n\u001b[1;32m--> 439\u001b[0m o \u001b[38;5;241m=\u001b[39m _default(o)\n\u001b[0;32m    440\u001b[0m \u001b[38;5;28;01myield from\u001b[39;00m _iterencode(o, _current_indent_level)\n\u001b[0;32m    441\u001b[0m \u001b[38;5;28;01mif\u001b[39;00m markers \u001b[38;5;129;01mis\u001b[39;00m \u001b[38;5;129;01mnot\u001b[39;00m \u001b[38;5;28;01mNone\u001b[39;00m:\n",
      "File \u001b[1;32m~\\anaconda3\\Lib\\json\\encoder.py:180\u001b[0m, in \u001b[0;36mJSONEncoder.default\u001b[1;34m(self, o)\u001b[0m\n\u001b[0;32m    161\u001b[0m \u001b[38;5;28;01mdef\u001b[39;00m \u001b[38;5;21mdefault\u001b[39m(\u001b[38;5;28mself\u001b[39m, o):\n\u001b[0;32m    162\u001b[0m \u001b[38;5;250m    \u001b[39m\u001b[38;5;124;03m\"\"\"Implement this method in a subclass such that it returns\u001b[39;00m\n\u001b[0;32m    163\u001b[0m \u001b[38;5;124;03m    a serializable object for ``o``, or calls the base implementation\u001b[39;00m\n\u001b[0;32m    164\u001b[0m \u001b[38;5;124;03m    (to raise a ``TypeError``).\u001b[39;00m\n\u001b[1;32m   (...)\u001b[0m\n\u001b[0;32m    178\u001b[0m \n\u001b[0;32m    179\u001b[0m \u001b[38;5;124;03m    \"\"\"\u001b[39;00m\n\u001b[1;32m--> 180\u001b[0m     \u001b[38;5;28;01mraise\u001b[39;00m \u001b[38;5;167;01mTypeError\u001b[39;00m(\u001b[38;5;124mf\u001b[39m\u001b[38;5;124m'\u001b[39m\u001b[38;5;124mObject of type \u001b[39m\u001b[38;5;132;01m{\u001b[39;00mo\u001b[38;5;241m.\u001b[39m\u001b[38;5;18m__class__\u001b[39m\u001b[38;5;241m.\u001b[39m\u001b[38;5;18m__name__\u001b[39m\u001b[38;5;132;01m}\u001b[39;00m\u001b[38;5;124m \u001b[39m\u001b[38;5;124m'\u001b[39m\n\u001b[0;32m    181\u001b[0m                     \u001b[38;5;124mf\u001b[39m\u001b[38;5;124m'\u001b[39m\u001b[38;5;124mis not JSON serializable\u001b[39m\u001b[38;5;124m'\u001b[39m)\n",
      "\u001b[1;31mTypeError\u001b[0m: Object of type Person is not JSON serializable"
     ]
    }
   ],
   "source": [
    "import json\n",
    "\n",
    "with open(\"demo.json\", \"w\") as f:\n",
    "\tjson.dump(person, f)"
   ]
  },
  {
   "cell_type": "code",
   "execution_count": 44,
   "id": "6fdd0575-e15b-4389-b0b2-c061c51429a8",
   "metadata": {},
   "outputs": [],
   "source": [
    "import json\n",
    "\n",
    "def show_object(person):\n",
    "\tif isinstance(person, Person):\n",
    "\t\treturn \"{} {} age->{} gender->{}\".format(person.fname, person.lname, person.age, person.gender)\n",
    "\n",
    "with open(\"demo.json\", \"w\") as f:\n",
    "\tjson.dump(person, f, default=show_object)"
   ]
  },
  {
   "cell_type": "code",
   "execution_count": 45,
   "id": "944a5715-49b5-45b7-a1a8-9468f9514b8a",
   "metadata": {},
   "outputs": [
    {
     "name": "stdout",
     "output_type": "stream",
     "text": [
      "Nitish singh age->33 gender->male\n",
      "<class 'str'>\n"
     ]
    }
   ],
   "source": [
    "with open(\"demo.json\",\"r\") as f:\n",
    "    data = json.load(f)\n",
    "    print(data)\n",
    "    print(type(data))"
   ]
  },
  {
   "cell_type": "code",
   "execution_count": 46,
   "id": "b1a0e889-f8d8-4eef-a0ef-0c79bd87b1de",
   "metadata": {},
   "outputs": [],
   "source": [
    "# As a dict\n",
    "\n",
    "import json\n",
    "\n",
    "def show_object(person):\n",
    "\tif isinstance(person, Person):\n",
    "\t\treturn {\"name\": person.fname+\" \"+person.lname, \"age\": person.age, \"gender\": person.gender}\n",
    "\n",
    "with open(\"demo.json\", \"w\") as f:\n",
    "\tjson.dump(person, f, default=show_object)"
   ]
  },
  {
   "cell_type": "code",
   "execution_count": 47,
   "id": "c62ca868-b9c2-44e7-b39e-f9f576e28eaf",
   "metadata": {},
   "outputs": [
    {
     "name": "stdout",
     "output_type": "stream",
     "text": [
      "{'name': 'Nitish singh', 'age': 33, 'gender': 'male'}\n"
     ]
    }
   ],
   "source": [
    "# deserializing\n",
    "\n",
    "import json\n",
    "with open(\"demo.json\", \"r\") as f:\n",
    "\tprint(json.load(f))"
   ]
  },
  {
   "cell_type": "code",
   "execution_count": 48,
   "id": "d40bc260-a5a4-408b-96ba-4463a3df9c48",
   "metadata": {},
   "outputs": [
    {
     "name": "stdout",
     "output_type": "stream",
     "text": [
      "{'name': 'Nitish singh', 'age': 33, 'gender': 'male'}\n",
      "<class 'dict'>\n"
     ]
    }
   ],
   "source": [
    "import json\n",
    "with open(\"demo.json\", \"r\") as f:\n",
    "\td = json.load(f)\n",
    "\tprint(d)\n",
    "\tprint(type(d))"
   ]
  },
  {
   "cell_type": "markdown",
   "id": "971846e1-6e4a-4b11-a71c-61c755b518eb",
   "metadata": {},
   "source": [
    "----\n",
    "```\n",
    "==> we can't  JSON serialize our custom objects. But we can tell to json how to serialize through \"default\" argument inside dump function.\n",
    "\n",
    "==> It is temporarily helped us to write and read info inside Json file. But It makes object to loose its properties and behaviour\n",
    "\n",
    "==> Is there any way that help us to keep the properties and behaviour of our object and also follow serialization and deserialization????\n",
    "\n",
    "pickling and unpickling:\r\n",
    "------------------------\r\n",
    "\r\n",
    "==> It is process of converting python object hierarchy to a byte str\n",
    "eam\r\n",
    "==> It is inverse opeation of converting byte stream to python object hierarchy\n",
    "```"
   ]
  },
  {
   "cell_type": "code",
   "execution_count": 50,
   "id": "33375743-d5bd-47cf-b6ca-cd7bfa2ec5d4",
   "metadata": {},
   "outputs": [],
   "source": [
    "class Person:\n",
    "\n",
    "\tdef __init__(self, name, age):\n",
    "\t\tself.name = name\n",
    "\t\tself.age  = age\n",
    "\tdef display_info(self):\n",
    "\t\tprint(\"Hello my name is\", self.name, \"and I am \", self.age, \"year's old\")\n",
    "\n",
    "p = Person(\"Nitish\", 33)"
   ]
  },
  {
   "cell_type": "code",
   "execution_count": 51,
   "id": "93f69b06-372b-492a-90a7-ffade83e5f06",
   "metadata": {},
   "outputs": [],
   "source": [
    "# pickle dump\n",
    "import pickle\n",
    "\n",
    "with open(\"person.pkl\", \"wb\") as f:\n",
    "\tpickle.dump(p, f)"
   ]
  },
  {
   "cell_type": "code",
   "execution_count": 52,
   "id": "ae8bcfc5-6302-4790-8526-a6571b4c4ee1",
   "metadata": {},
   "outputs": [
    {
     "name": "stdout",
     "output_type": "stream",
     "text": [
      "Hello my name is Nitish and I am  33 year's old\n"
     ]
    }
   ],
   "source": [
    "# pickle load\n",
    "import pickle\n",
    "\n",
    "with open(\"person.pkl\", \"rb\") as f:\n",
    "\tp=pickle.load(f)\n",
    "p.display_info()"
   ]
  },
  {
   "cell_type": "markdown",
   "id": "5bd7e6b7-febc-4d8d-bce8-c2610314fb0e",
   "metadata": {},
   "source": [
    "<hr>"
   ]
  },
  {
   "cell_type": "markdown",
   "id": "c8966a8f-3634-4600-8d03-6100aff89775",
   "metadata": {},
   "source": [
    "```\n",
    "==> what is difference between pickle and JSON???\n",
    "\n",
    "pickle vs Json:\n",
    "---------------\n",
    "\n",
    "==> pickle: It allows user to store data in binary format\n",
    "\n",
    "==> Json: It allows user to store data in human-readable text format\n",
    "```"
   ]
  },
  {
   "cell_type": "code",
   "execution_count": null,
   "id": "530c60a6-e6be-4864-8161-db7ac948c780",
   "metadata": {},
   "outputs": [],
   "source": []
  }
 ],
 "metadata": {
  "kernelspec": {
   "display_name": "Python 3 (ipykernel)",
   "language": "python",
   "name": "python3"
  },
  "language_info": {
   "codemirror_mode": {
    "name": "ipython",
    "version": 3
   },
   "file_extension": ".py",
   "mimetype": "text/x-python",
   "name": "python",
   "nbconvert_exporter": "python",
   "pygments_lexer": "ipython3",
   "version": "3.11.7"
  }
 },
 "nbformat": 4,
 "nbformat_minor": 5
}
