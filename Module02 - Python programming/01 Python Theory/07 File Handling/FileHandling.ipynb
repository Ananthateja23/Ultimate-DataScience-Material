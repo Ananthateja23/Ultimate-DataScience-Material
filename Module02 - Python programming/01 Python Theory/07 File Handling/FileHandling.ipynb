{
 "cells": [
  {
   "cell_type": "markdown",
   "id": "d0f8a5a4-2d9f-479a-9ea5-34f2e70333f0",
   "metadata": {},
   "source": [
    "### ***Types of data***\n",
    "#### There are two types of data used for I/O:\n",
    "#### - Text data '12345' as a sequence of unicode characters\n",
    "#### - Binary data 12345 as a sequence of bytes of its binary equivalent\n",
    "#### There are 2 file types to deal with\n",
    "#### - Text files : All program files are text files\n",
    "#### - Binary files: Images, videos, audio, exe files\n",
    "\n",
    "### ***How File I/O is done in most programming languages***\n",
    "#### There are 3 steps we need to follow to work with the files\n",
    "#### - open a file\n",
    "#### - read/write\n",
    "#### - close the file"
   ]
  },
  {
   "cell_type": "markdown",
   "id": "57bf1f2f-a4f1-48f7-8c90-f9ebaf5a0a9b",
   "metadata": {},
   "source": [
    "### ***Writing to file***"
   ]
  },
  {
   "cell_type": "code",
   "execution_count": 1,
   "id": "c1c062cd-31e6-4945-8fc2-12c2d273a338",
   "metadata": {},
   "outputs": [],
   "source": [
    "# case1: If the file is not present\n",
    "# open() function returns a file handler object\n",
    "f = open(\"sample.txt\", \"w\")\n",
    "# Using file handler object we can perform the file operation either read or write\n",
    "f.write(\"Hello World\")\n",
    "# we should always close the file after working with them. It is a good programming practice\n",
    "f.close()"
   ]
  },
  {
   "cell_type": "code",
   "execution_count": 2,
   "id": "1456a8d8-fb9a-42fa-b106-7f08026e16a8",
   "metadata": {},
   "outputs": [
    {
     "ename": "ValueError",
     "evalue": "I/O operation on closed file.",
     "output_type": "error",
     "traceback": [
      "\u001b[1;31m---------------------------------------------------------------------------\u001b[0m",
      "\u001b[1;31mValueError\u001b[0m                                Traceback (most recent call last)",
      "Cell \u001b[1;32mIn[2], line 5\u001b[0m\n\u001b[0;32m      3\u001b[0m f\u001b[38;5;241m.\u001b[39mclose()\n\u001b[0;32m      4\u001b[0m \u001b[38;5;66;03m# since file is closed hence this will not work\u001b[39;00m\n\u001b[1;32m----> 5\u001b[0m f\u001b[38;5;241m.\u001b[39mwrite(\u001b[38;5;124m\"\u001b[39m\u001b[38;5;124mhello\u001b[39m\u001b[38;5;124m\"\u001b[39m)\n",
      "\u001b[1;31mValueError\u001b[0m: I/O operation on closed file."
     ]
    }
   ],
   "source": [
    "f = open(\"sample.txt\", \"w\")\n",
    "f.write(\"Hello World\")\n",
    "f.close()\n",
    "# since file is closed hence this will not work\n",
    "f.write(\"hello\")"
   ]
  },
  {
   "cell_type": "code",
   "execution_count": 6,
   "id": "55fcabdc-126b-4f8d-8be6-98369683e076",
   "metadata": {},
   "outputs": [],
   "source": [
    "# write multiline strings\n",
    "\n",
    "f = open(\"sample1.txt\", \"w\")\n",
    "# writing first line\n",
    "f.write(\"Hello World\")\n",
    "# writing second line\n",
    "f.write(\"\\nhow are you?\")\n",
    "f.close()"
   ]
  },
  {
   "cell_type": "markdown",
   "id": "4ec4497a-fd54-41d1-ae7e-c9fdb69dfa53",
   "metadata": {},
   "source": [
    "### If we are trying open a file  in write mode that is already existed, all the content will be erased and new content will be added to the file"
   ]
  },
  {
   "cell_type": "code",
   "execution_count": 7,
   "id": "0a9fcfed-0035-4baa-bc90-7da56af7da0e",
   "metadata": {},
   "outputs": [],
   "source": [
    "# case 2: If the file is already present\n",
    "f = open(\"sample.txt\", \"w\")\n",
    "f.write(\"Prabhas\")\n",
    "f.close()"
   ]
  },
  {
   "cell_type": "markdown",
   "id": "2214d052-0ae5-4ee4-a887-fa2853a2ca4f",
   "metadata": {},
   "source": [
    "### ***how exactly open() works?***\n",
    "#### - Basically file is a simple file located on some directory(harddrive). when open() is excecuted, python will go to the file location and take the file load it on Ram.\n",
    "#### - Inside Ram, file is load into buffer memory where each character of file is executed or processed by buffer\n",
    "#### - file stays in the buffer memory till the completion of file operations\n",
    "#### - Once file is closed. It leave the buffer memory and come back to source location"
   ]
  },
  {
   "cell_type": "code",
   "execution_count": 8,
   "id": "9bee40a4-a8a9-4cfc-987e-4cfed96958a5",
   "metadata": {},
   "outputs": [],
   "source": [
    "# problem with w mode\n",
    "# Introducing append mode\n",
    "f = open(\"sample1.txt\", \"a\")\n",
    "f.write(\"\\nIam fine\")\n",
    "f.close()"
   ]
  },
  {
   "cell_type": "code",
   "execution_count": 9,
   "id": "94e33da0-c2f1-4df4-9ab3-681db5da777f",
   "metadata": {},
   "outputs": [],
   "source": [
    "# write lines:  write multiple lines at a time to the file\n",
    "l = [\"hello\\n\", \"hi\\n\", \"how are you?\\n\", \"Iam fine\"]\n",
    "f = open(\"sample.txt\", \"w\")\n",
    "f.writelines(l)\n",
    "f.close()# we close the file due to its safety and free up memory"
   ]
  },
  {
   "cell_type": "code",
   "execution_count": 10,
   "id": "d1e59d48-3ec2-48d2-bc7a-850697112105",
   "metadata": {},
   "outputs": [],
   "source": [
    "l = [\"hello\\n\", \"hi\\n\", \"how are you?\\n\", \"Iam fine\"]\n",
    "f = open(\"./temp/sample.txt\", \"w\")\n",
    "f.writelines(l)\n",
    "f.close()"
   ]
  },
  {
   "cell_type": "markdown",
   "id": "e5c2f44d-11cd-4782-8934-ba0290392d27",
   "metadata": {},
   "source": [
    "### ***reading from files***\n",
    "#### - read(): It reads all the file content at a time\n",
    "#### - readline(): It reads one line of file at a time "
   ]
  },
  {
   "cell_type": "code",
   "execution_count": 11,
   "id": "2198c1bb-06d4-4ad6-8c5b-8511b950270a",
   "metadata": {},
   "outputs": [
    {
     "name": "stdout",
     "output_type": "stream",
     "text": [
      "hello\n",
      "hi\n",
      "how are you?\n",
      "Iam fine\n"
     ]
    }
   ],
   "source": [
    "f = open(\"sample.txt\", \"r\")\n",
    "content = f.read()\n",
    "print(content)\n",
    "f.close()"
   ]
  },
  {
   "cell_type": "code",
   "execution_count": 12,
   "id": "6d5b466e-a0b0-4cba-b7f3-24d115da1162",
   "metadata": {},
   "outputs": [
    {
     "name": "stdout",
     "output_type": "stream",
     "text": [
      "hello\n",
      "hi\n",
      "h\n"
     ]
    }
   ],
   "source": [
    "# read upto n characters\n",
    "f = open(\"sample.txt\", \"r\")\n",
    "content = f.read(10)\n",
    "print(content)\n",
    "f.close()"
   ]
  },
  {
   "cell_type": "code",
   "execution_count": 13,
   "id": "a8ccb5e1-08ee-4451-a7f1-3ceac627cee6",
   "metadata": {},
   "outputs": [
    {
     "name": "stdout",
     "output_type": "stream",
     "text": [
      "hello\n",
      "hi\n"
     ]
    }
   ],
   "source": [
    "# read line by line\n",
    "f = open(\"sample.txt\", \"r\")\n",
    "print(f.readline(), end=\"\")\n",
    "print(f.readline(), end=\"\")\n",
    "f.close()"
   ]
  },
  {
   "cell_type": "markdown",
   "id": "618ac1cc-ed6f-4bd8-8034-00b45a5b46cb",
   "metadata": {},
   "source": [
    "#### - read: If we are working with small files\n",
    "#### - readline: If we are working with larger files and load smaller chunks to the ram to avoid burden"
   ]
  },
  {
   "cell_type": "code",
   "execution_count": 14,
   "id": "ef164172-1273-48e3-9b2e-f05c4630405a",
   "metadata": {},
   "outputs": [
    {
     "name": "stdout",
     "output_type": "stream",
     "text": [
      "hello\n",
      "hi\n",
      "how are you?\n",
      "Iam fine"
     ]
    }
   ],
   "source": [
    "# reading entire using readline\n",
    "f = open(\"sample.txt\", \"r\")\n",
    "while True:\n",
    "    data = f.readline()\n",
    "    if data == \"\":\n",
    "        break\n",
    "    else:\n",
    "        print(data, end=\"\")\n",
    "f.close()"
   ]
  },
  {
   "cell_type": "markdown",
   "id": "412007ae-1953-4766-8cd2-6046c9e55c3c",
   "metadata": {},
   "source": [
    "### ***Using context manager(with)***\n",
    "#### - It is a good idea to close the file after usage as it free up the resources\n",
    "#### - If we dont close the file, garbage collector would close it\n",
    "#### - with keyword closes the file as soon as the usage is over"
   ]
  },
  {
   "cell_type": "code",
   "execution_count": 15,
   "id": "627836f9-d87a-4194-8aac-c0524c7bdc61",
   "metadata": {},
   "outputs": [],
   "source": [
    "# writing the file using with\n",
    "with open(\"sample1.txt\",\"w\") as f:\n",
    "    f.write(\"Prabhas\")"
   ]
  },
  {
   "cell_type": "code",
   "execution_count": 16,
   "id": "8cb36f39-cae6-4875-8660-74f8f395cf44",
   "metadata": {},
   "outputs": [
    {
     "ename": "ValueError",
     "evalue": "I/O operation on closed file.",
     "output_type": "error",
     "traceback": [
      "\u001b[1;31m---------------------------------------------------------------------------\u001b[0m",
      "\u001b[1;31mValueError\u001b[0m                                Traceback (most recent call last)",
      "Cell \u001b[1;32mIn[16], line 1\u001b[0m\n\u001b[1;32m----> 1\u001b[0m f\u001b[38;5;241m.\u001b[39mwrite(\u001b[38;5;124m\"\u001b[39m\u001b[38;5;124mhello\u001b[39m\u001b[38;5;124m\"\u001b[39m)\n",
      "\u001b[1;31mValueError\u001b[0m: I/O operation on closed file."
     ]
    }
   ],
   "source": [
    "f.write(\"hello\")"
   ]
  },
  {
   "cell_type": "code",
   "execution_count": 17,
   "id": "1b590cf6-6582-494f-82e2-001be407d9a1",
   "metadata": {},
   "outputs": [
    {
     "name": "stdout",
     "output_type": "stream",
     "text": [
      "hello\n",
      "hi\n",
      "how are you?\n",
      "Iam fine\n"
     ]
    }
   ],
   "source": [
    "# reading the file\n",
    "with open(\"sample.txt\", \"r\") as f:\n",
    "    print(f.read())"
   ]
  },
  {
   "cell_type": "code",
   "execution_count": 18,
   "id": "d11f0e5a-65c7-4d6b-ab8b-11450799d9a9",
   "metadata": {},
   "outputs": [
    {
     "name": "stdout",
     "output_type": "stream",
     "text": [
      "hello\n",
      "hi\n",
      "h\n",
      "ow are you\n"
     ]
    }
   ],
   "source": [
    "# moving within a file -> 10 char then 10 char\n",
    "with open(\"sample.txt\", \"r\") as f:\n",
    "    print(f.read(10))\n",
    "    print(f.read(10))"
   ]
  },
  {
   "cell_type": "code",
   "execution_count": 19,
   "id": "5f3b3353-fd81-409b-a08f-2e6cf0941efd",
   "metadata": {},
   "outputs": [],
   "source": [
    "# benefit ==> how to load a big file in memory\n",
    "big_L = [\"Hello World\" for i in range(1000)]\n",
    "\n",
    "with open(\"big.txt\", \"w\") as f:\n",
    "    f.writelines(big_L)"
   ]
  },
  {
   "cell_type": "code",
   "execution_count": 20,
   "id": "f31b06fb-e821-4f49-a22c-0346f263b9de",
   "metadata": {},
   "outputs": [
    {
     "name": "stdout",
     "output_type": "stream",
     "text": [
      "ello WorldHello WorldHello WorldHello WorldHello WorldHello WorldHello WorldHello WorldHello WorldHe o WorldHello WorldHello WorldHello WorldHello WorldHello WorldHello WorldHello WorldHello WorldHello orldHello WorldHello WorldHello WorldHello WorldHello WorldHello WorldHello WorldHello WorldHello Wo dHello WorldHello WorldHello WorldHello WorldHello WorldHello WorldHello WorldHello WorldHello World llo WorldHello WorldHello WorldHello WorldHello WorldHello WorldHello WorldHello WorldHello WorldHel  WorldHello WorldHello WorldHello WorldHello WorldHello WorldHello WorldHello WorldHello WorldHello  rldHello WorldHello WorldHello WorldHello WorldHello WorldHello WorldHello WorldHello WorldHello Wor Hello WorldHello WorldHello WorldHello WorldHello WorldHello WorldHello WorldHello WorldHello WorldH lo WorldHello WorldHello WorldHello WorldHello WorldHello WorldHello WorldHello WorldHello WorldHell WorldHello WorldHello WorldHello WorldHello WorldHello WorldHello WorldHello WorldHello WorldHello W ldHello WorldHello WorldHello WorldHello WorldHello WorldHello WorldHello WorldHello WorldHello Worl ello WorldHello WorldHello WorldHello WorldHello WorldHello WorldHello WorldHello WorldHello WorldHe o WorldHello WorldHello WorldHello WorldHello WorldHello WorldHello WorldHello WorldHello WorldHello orldHello WorldHello WorldHello WorldHello WorldHello WorldHello WorldHello WorldHello WorldHello Wo dHello WorldHello WorldHello WorldHello WorldHello WorldHello WorldHello WorldHello WorldHello World llo WorldHello WorldHello WorldHello WorldHello WorldHello WorldHello WorldHello WorldHello WorldHel  WorldHello WorldHello WorldHello WorldHello WorldHello WorldHello WorldHello WorldHello WorldHello  rldHello WorldHello WorldHello WorldHello WorldHello WorldHello WorldHello WorldHello WorldHello Wor Hello WorldHello WorldHello WorldHello WorldHello WorldHello WorldHello WorldHello WorldHello WorldH lo WorldHello WorldHello WorldHello WorldHello WorldHello WorldHello WorldHello WorldHello WorldHell WorldHello WorldHello WorldHello WorldHello WorldHello WorldHello WorldHello WorldHello WorldHello W ldHello WorldHello WorldHello WorldHello WorldHello WorldHello WorldHello WorldHello WorldHello Worl ello WorldHello WorldHello WorldHello WorldHello WorldHello WorldHello WorldHello WorldHello WorldHe o WorldHello WorldHello WorldHello WorldHello WorldHello WorldHello WorldHello WorldHello WorldHello orldHello WorldHello WorldHello WorldHello WorldHello WorldHello WorldHello WorldHello WorldHello Wo dHello WorldHello WorldHello WorldHello WorldHello WorldHello WorldHello WorldHello WorldHello World llo WorldHello WorldHello WorldHello WorldHello WorldHello WorldHello WorldHello WorldHello WorldHel  WorldHello WorldHello WorldHello WorldHello WorldHello WorldHello WorldHello WorldHello WorldHello  rldHello WorldHello WorldHello WorldHello WorldHello WorldHello WorldHello WorldHello WorldHello Wor Hello WorldHello WorldHello WorldHello WorldHello WorldHello WorldHello WorldHello WorldHello WorldH lo WorldHello WorldHello WorldHello WorldHello WorldHello WorldHello WorldHello WorldHello WorldHell WorldHello WorldHello WorldHello WorldHello WorldHello WorldHello WorldHello WorldHello WorldHello W ldHello WorldHello WorldHello WorldHello WorldHello WorldHello WorldHello WorldHello WorldHello Worl ello WorldHello WorldHello WorldHello WorldHello WorldHello WorldHello WorldHello WorldHello WorldHe o WorldHello WorldHello WorldHello WorldHello WorldHello WorldHello WorldHello WorldHello WorldHello orldHello WorldHello WorldHello WorldHello WorldHello WorldHello WorldHello WorldHello WorldHello Wo dHello WorldHello WorldHello WorldHello WorldHello WorldHello WorldHello WorldHello WorldHello World "
     ]
    }
   ],
   "source": [
    "with open(\"big.txt\", \"r\") as f:\n",
    "    chunck_size = 100\n",
    "    while len(f.read(chunck_size)) > 0:\n",
    "        print(f.read(chunck_size), end=\" \")\n",
    "        f.read(chunck_size)"
   ]
  },
  {
   "cell_type": "code",
   "execution_count": 21,
   "id": "91042213-7632-447a-afaf-32989615ba4b",
   "metadata": {},
   "outputs": [
    {
     "name": "stdout",
     "output_type": "stream",
     "text": [
      "dHello Wor***orldHello ***o WorldHel***ello World***ldHello Wo***WorldHello***lo WorldHe***Hello Worl***rldHello W*** WorldHell***llo WorldH***dHello Wor***orldHello ***o WorldHel***ello World***ldHello Wo***WorldHello***lo WorldHe***Hello Worl***rldHello W*** WorldHell***llo WorldH***dHello Wor***orldHello ***o WorldHel***ello World***ldHello Wo***WorldHello***lo WorldHe***Hello Worl***rldHello W*** WorldHell***llo WorldH***dHello Wor***orldHello ***o WorldHel***ello World***ldHello Wo***WorldHello***lo WorldHe***Hello Worl***rldHello W*** WorldHell***llo WorldH***dHello Wor***orldHello ***o WorldHel***ello World***ldHello Wo***WorldHello***lo WorldHe***Hello Worl***rldHello W*** WorldHell***llo WorldH***dHello Wor***orldHello ***o WorldHel***ello World***ldHello Wo***WorldHello***lo WorldHe***Hello Worl***rldHello W*** WorldHell***llo WorldH***dHello Wor***orldHello ***o WorldHel***ello World***ldHello Wo***WorldHello***lo WorldHe***Hello Worl***rldHello W*** WorldHell***llo WorldH***dHello Wor***orldHello ***o WorldHel***ello World***ldHello Wo***WorldHello***lo WorldHe***Hello Worl***rldHello W*** WorldHell***llo WorldH***dHello Wor***orldHello ***o WorldHel***ello World***ldHello Wo***WorldHello***lo WorldHe***Hello Worl***rldHello W*** WorldHell***llo WorldH***dHello Wor***orldHello ***o WorldHel***ello World***ldHello Wo***WorldHello***lo WorldHe***Hello Worl***rldHello W*** WorldHell***llo WorldH***dHello Wor***orldHello ***o WorldHel***ello World***ldHello Wo***WorldHello***lo WorldHe***Hello Worl***rldHello W*** WorldHell***llo WorldH***dHello Wor***orldHello ***o WorldHel***ello World***ldHello Wo***WorldHello***lo WorldHe***Hello Worl***rldHello W*** WorldHell***llo WorldH***dHello Wor***orldHello ***o WorldHel***ello World***ldHello Wo***WorldHello***lo WorldHe***Hello Worl***rldHello W*** WorldHell***llo WorldH***dHello Wor***orldHello ***o WorldHel***ello World***ldHello Wo***WorldHello***lo WorldHe***Hello Worl***rldHello W*** WorldHell***llo WorldH***dHello Wor***orldHello ***o WorldHel***ello World***ldHello Wo***WorldHello***lo WorldHe***Hello Worl***rldHello W*** WorldHell***llo WorldH***dHello Wor***orldHello ***o WorldHel***ello World***ldHello Wo***WorldHello***lo WorldHe***Hello Worl***rldHello W*** WorldHell***llo WorldH***dHello Wor***orldHello ***o WorldHel***ello World***ldHello Wo***WorldHello***lo WorldHe***Hello Worl***rldHello W*** WorldHell***llo WorldH***dHello Wor***orldHello ***o WorldHel***ello World***ldHello Wo***WorldHello***lo WorldHe***Hello Worl***rldHello W*** WorldHell***llo WorldH***dHello Wor***orldHello ***o WorldHel***ello World***ldHello Wo***WorldHello***lo WorldHe***Hello Worl***rldHello W*** WorldHell***llo WorldH***dHello Wor***orldHello ***o WorldHel***ello World***ldHello Wo***WorldHello***lo WorldHe***Hello Worl***rldHello W*** WorldHell***llo WorldH***dHello Wor***orldHello ***o WorldHel***ello World***ldHello Wo***WorldHello***lo WorldHe***Hello Worl***rldHello W*** WorldHell***llo WorldH***dHello Wor***orldHello ***o WorldHel***ello World***ldHello Wo***WorldHello***lo WorldHe***Hello Worl***rldHello W*** WorldHell***llo WorldH***dHello Wor***orldHello ***o WorldHel***ello World***ldHello Wo***WorldHello***lo WorldHe***Hello Worl***rldHello W*** WorldHell***llo WorldH***dHello Wor***orldHello ***o WorldHel***ello World***ldHello Wo***WorldHello***lo WorldHe***Hello Worl***rldHello W*** WorldHell***llo WorldH***dHello Wor***orldHello ***o WorldHel***ello World***ldHello Wo***WorldHello***lo WorldHe***Hello Worl***rldHello W*** WorldHell***llo WorldH***dHello Wor***orldHello ***o WorldHel***ello World***ldHello Wo***WorldHello***lo WorldHe***Hello Worl***rldHello W*** WorldHell***llo WorldH***dHello Wor***orldHello ***o WorldHel***ello World***ldHello Wo***WorldHello***lo WorldHe***Hello Worl***rldHello W*** WorldHell***llo WorldH***dHello Wor***orldHello ***o WorldHel***ello World***ldHello Wo***WorldHello***lo WorldHe***Hello Worl***rldHello W*** WorldHell***llo WorldH***dHello Wor***orldHello ***o WorldHel***ello World***ldHello Wo***WorldHello***lo WorldHe***Hello Worl***rldHello W*** WorldHell***llo WorldH***dHello Wor***orldHello ***o WorldHel***ello World***ldHello Wo***WorldHello***lo WorldHe***Hello Worl***rldHello W*** WorldHell***llo WorldH***dHello Wor***orldHello ***o WorldHel***ello World***ldHello Wo***WorldHello***lo WorldHe***Hello Worl***rldHello W*** WorldHell***llo WorldH***dHello Wor***orldHello ***o WorldHel***ello World***ldHello Wo***WorldHello***lo WorldHe***Hello Worl***rldHello W*** WorldHell***llo WorldH***dHello Wor***orldHello ***o WorldHel***ello World***ldHello Wo***WorldHello***lo WorldHe***Hello Worl***rldHello W*** WorldHell***llo WorldH***dHello Wor***orldHello ***o WorldHel***ello World***"
     ]
    }
   ],
   "source": [
    "with open(\"big.txt\", \"r\") as f:\n",
    "    chunck_size = 10\n",
    "    while len(f.read(chunck_size)) > 0:\n",
    "        print(f.read(chunck_size), end=\"***\")\n",
    "        f.read(chunck_size)"
   ]
  },
  {
   "cell_type": "markdown",
   "id": "41b0a428-dff0-4639-a3fc-4f9f525f537b",
   "metadata": {},
   "source": [
    "#### - seek(index_position): It grabs and take the cursor to given index position\n",
    "#### - tell(): It returns the current index position of cursor"
   ]
  },
  {
   "cell_type": "code",
   "execution_count": 22,
   "id": "ae617887-dc33-4dbc-ad1b-3bd05fc40020",
   "metadata": {},
   "outputs": [
    {
     "name": "stdout",
     "output_type": "stream",
     "text": [
      "hello\n",
      "hi\n",
      "h\n",
      "12\n",
      "hello\n",
      "hi\n",
      "h\n",
      "12\n"
     ]
    }
   ],
   "source": [
    "with open(\"sample.txt\", \"r\") as f:\n",
    "    print(f.read(10))\n",
    "    print(f.tell())\n",
    "    f.seek(0)\n",
    "    print(f.read(10))\n",
    "    print(f.tell())"
   ]
  },
  {
   "cell_type": "code",
   "execution_count": 23,
   "id": "9b8d71b3-ea3f-4c7e-8cac-1f684dafb019",
   "metadata": {},
   "outputs": [
    {
     "name": "stdout",
     "output_type": "stream",
     "text": [
      "hello\n",
      "hi\n",
      "h\n",
      "12\n",
      "are you?\n",
      "I\n",
      "26\n"
     ]
    }
   ],
   "source": [
    "with open(\"sample.txt\", \"r\") as f:\n",
    "    print(f.read(10))\n",
    "    print(f.tell())\n",
    "    f.seek(15)\n",
    "    print(f.read(10))\n",
    "    print(f.tell())"
   ]
  },
  {
   "cell_type": "code",
   "execution_count": 24,
   "id": "00b14a5b-4d0c-49a0-841d-192417d649f7",
   "metadata": {},
   "outputs": [],
   "source": [
    "# seek during write\n",
    "with open(\"sample.txt\", \"w\") as f:\n",
    "    f.write(\"Hello\")\n",
    "    f.seek(0)\n",
    "    f.write(\"X\")"
   ]
  },
  {
   "cell_type": "code",
   "execution_count": 25,
   "id": "e96d83e9-4d07-4893-814c-31cb82fecf3e",
   "metadata": {},
   "outputs": [],
   "source": [
    "with open(\"sample.txt\", \"w\") as f:\n",
    "    f.write(\"Hello\")\n",
    "    f.seek(0)\n",
    "    f.write(\"Xa\")"
   ]
  },
  {
   "cell_type": "markdown",
   "id": "7a71502f-a0d0-44ab-996a-66326b477acf",
   "metadata": {},
   "source": [
    "### ***Problems with working in text mode***\n",
    "#### - can't work with binary files such as images\n",
    "#### - not good for other data types such as int, float, list, tuples"
   ]
  },
  {
   "cell_type": "code",
   "execution_count": 26,
   "id": "cc3a37a7-0cd4-487d-a4d7-76d6d3978a39",
   "metadata": {},
   "outputs": [
    {
     "ename": "UnicodeDecodeError",
     "evalue": "'charmap' codec can't decode byte 0x8f in position 57: character maps to <undefined>",
     "output_type": "error",
     "traceback": [
      "\u001b[1;31m---------------------------------------------------------------------------\u001b[0m",
      "\u001b[1;31mUnicodeDecodeError\u001b[0m                        Traceback (most recent call last)",
      "Cell \u001b[1;32mIn[26], line 3\u001b[0m\n\u001b[0;32m      1\u001b[0m \u001b[38;5;66;03m# working with binary files\u001b[39;00m\n\u001b[0;32m      2\u001b[0m \u001b[38;5;28;01mwith\u001b[39;00m \u001b[38;5;28mopen\u001b[39m(\u001b[38;5;124m\"\u001b[39m\u001b[38;5;124mscreenshot.png\u001b[39m\u001b[38;5;124m\"\u001b[39m, \u001b[38;5;124m\"\u001b[39m\u001b[38;5;124mr\u001b[39m\u001b[38;5;124m\"\u001b[39m) \u001b[38;5;28;01mas\u001b[39;00m f:\n\u001b[1;32m----> 3\u001b[0m     f\u001b[38;5;241m.\u001b[39mread()\n",
      "File \u001b[1;32m~\\anaconda3\\Lib\\encodings\\cp1252.py:23\u001b[0m, in \u001b[0;36mIncrementalDecoder.decode\u001b[1;34m(self, input, final)\u001b[0m\n\u001b[0;32m     22\u001b[0m \u001b[38;5;28;01mdef\u001b[39;00m \u001b[38;5;21mdecode\u001b[39m(\u001b[38;5;28mself\u001b[39m, \u001b[38;5;28minput\u001b[39m, final\u001b[38;5;241m=\u001b[39m\u001b[38;5;28;01mFalse\u001b[39;00m):\n\u001b[1;32m---> 23\u001b[0m     \u001b[38;5;28;01mreturn\u001b[39;00m codecs\u001b[38;5;241m.\u001b[39mcharmap_decode(\u001b[38;5;28minput\u001b[39m,\u001b[38;5;28mself\u001b[39m\u001b[38;5;241m.\u001b[39merrors,decoding_table)[\u001b[38;5;241m0\u001b[39m]\n",
      "\u001b[1;31mUnicodeDecodeError\u001b[0m: 'charmap' codec can't decode byte 0x8f in position 57: character maps to <undefined>"
     ]
    }
   ],
   "source": [
    "# working with binary files\n",
    "with open(\"screenshot.png\", \"r\") as f:\n",
    "    f.read()"
   ]
  },
  {
   "cell_type": "code",
   "execution_count": 27,
   "id": "5f6152e7-2fb5-4bd2-b6d2-330b4f19c682",
   "metadata": {},
   "outputs": [],
   "source": [
    "# working with binary files\n",
    "with open(\"screenshot.png\", \"rb\") as f:\n",
    "    with open(\"screenshot_copy.png\", \"wb\") as wf:\n",
    "        wf.write(f.read())"
   ]
  },
  {
   "cell_type": "code",
   "execution_count": 28,
   "id": "737418be-8dd6-4da2-b3f9-08cd08e92dcd",
   "metadata": {},
   "outputs": [
    {
     "ename": "TypeError",
     "evalue": "write() argument must be str, not int",
     "output_type": "error",
     "traceback": [
      "\u001b[1;31m---------------------------------------------------------------------------\u001b[0m",
      "\u001b[1;31mTypeError\u001b[0m                                 Traceback (most recent call last)",
      "Cell \u001b[1;32mIn[28], line 3\u001b[0m\n\u001b[0;32m      1\u001b[0m \u001b[38;5;66;03m# working with other data types\u001b[39;00m\n\u001b[0;32m      2\u001b[0m \u001b[38;5;28;01mwith\u001b[39;00m \u001b[38;5;28mopen\u001b[39m(\u001b[38;5;124m\"\u001b[39m\u001b[38;5;124msample.txt\u001b[39m\u001b[38;5;124m\"\u001b[39m, \u001b[38;5;124m\"\u001b[39m\u001b[38;5;124mw\u001b[39m\u001b[38;5;124m\"\u001b[39m) \u001b[38;5;28;01mas\u001b[39;00m f:\n\u001b[1;32m----> 3\u001b[0m     f\u001b[38;5;241m.\u001b[39mwrite(\u001b[38;5;241m5\u001b[39m)\n",
      "\u001b[1;31mTypeError\u001b[0m: write() argument must be str, not int"
     ]
    }
   ],
   "source": [
    "# working with other data types\n",
    "with open(\"sample.txt\", \"w\") as f:\n",
    "    f.write(5)"
   ]
  },
  {
   "cell_type": "code",
   "execution_count": 29,
   "id": "e06f3a6d-82de-4911-b45c-776268c8106e",
   "metadata": {},
   "outputs": [],
   "source": [
    "with open(\"sample.txt\", \"w\") as f:\n",
    "    f.write(\"5\")"
   ]
  },
  {
   "cell_type": "code",
   "execution_count": 30,
   "id": "007b3e6b-658f-4171-9137-c77b2b13a745",
   "metadata": {},
   "outputs": [
    {
     "ename": "TypeError",
     "evalue": "can only concatenate str (not \"int\") to str",
     "output_type": "error",
     "traceback": [
      "\u001b[1;31m---------------------------------------------------------------------------\u001b[0m",
      "\u001b[1;31mTypeError\u001b[0m                                 Traceback (most recent call last)",
      "Cell \u001b[1;32mIn[30], line 2\u001b[0m\n\u001b[0;32m      1\u001b[0m \u001b[38;5;28;01mwith\u001b[39;00m \u001b[38;5;28mopen\u001b[39m(\u001b[38;5;124m\"\u001b[39m\u001b[38;5;124msample.txt\u001b[39m\u001b[38;5;124m\"\u001b[39m, \u001b[38;5;124m\"\u001b[39m\u001b[38;5;124mr\u001b[39m\u001b[38;5;124m\"\u001b[39m) \u001b[38;5;28;01mas\u001b[39;00m f:\n\u001b[1;32m----> 2\u001b[0m     \u001b[38;5;28mprint\u001b[39m(f\u001b[38;5;241m.\u001b[39mread()\u001b[38;5;241m+\u001b[39m\u001b[38;5;241m5\u001b[39m)\n",
      "\u001b[1;31mTypeError\u001b[0m: can only concatenate str (not \"int\") to str"
     ]
    }
   ],
   "source": [
    "with open(\"sample.txt\", \"r\") as f:\n",
    "    print(f.read()+5)"
   ]
  },
  {
   "cell_type": "code",
   "execution_count": 31,
   "id": "95e5a19b-8151-4132-a30b-7ef2a9c4c9b2",
   "metadata": {},
   "outputs": [
    {
     "name": "stdout",
     "output_type": "stream",
     "text": [
      "10\n"
     ]
    }
   ],
   "source": [
    "with open(\"sample.txt\", \"r\") as f:\n",
    "    print(int(f.read())+5)"
   ]
  },
  {
   "cell_type": "code",
   "execution_count": 32,
   "id": "462e5f21-da0c-4c4e-8af7-75893c39474d",
   "metadata": {},
   "outputs": [
    {
     "ename": "TypeError",
     "evalue": "write() argument must be str, not dict",
     "output_type": "error",
     "traceback": [
      "\u001b[1;31m---------------------------------------------------------------------------\u001b[0m",
      "\u001b[1;31mTypeError\u001b[0m                                 Traceback (most recent call last)",
      "Cell \u001b[1;32mIn[32], line 8\u001b[0m\n\u001b[0;32m      2\u001b[0m d \u001b[38;5;241m=\u001b[39m {\n\u001b[0;32m      3\u001b[0m     \u001b[38;5;124m\"\u001b[39m\u001b[38;5;124mname\u001b[39m\u001b[38;5;124m\"\u001b[39m: \u001b[38;5;124m\"\u001b[39m\u001b[38;5;124mabc\u001b[39m\u001b[38;5;124m\"\u001b[39m,\n\u001b[0;32m      4\u001b[0m     \u001b[38;5;124m\"\u001b[39m\u001b[38;5;124mage\u001b[39m\u001b[38;5;124m\"\u001b[39m : \u001b[38;5;241m25\u001b[39m,\n\u001b[0;32m      5\u001b[0m     \u001b[38;5;124m\"\u001b[39m\u001b[38;5;124mgender\u001b[39m\u001b[38;5;124m\"\u001b[39m: \u001b[38;5;124m\"\u001b[39m\u001b[38;5;124mmale\u001b[39m\u001b[38;5;124m\"\u001b[39m\n\u001b[0;32m      6\u001b[0m }\n\u001b[0;32m      7\u001b[0m \u001b[38;5;28;01mwith\u001b[39;00m \u001b[38;5;28mopen\u001b[39m(\u001b[38;5;124m\"\u001b[39m\u001b[38;5;124msample.txt\u001b[39m\u001b[38;5;124m\"\u001b[39m, \u001b[38;5;124m\"\u001b[39m\u001b[38;5;124mw\u001b[39m\u001b[38;5;124m\"\u001b[39m) \u001b[38;5;28;01mas\u001b[39;00m f:\n\u001b[1;32m----> 8\u001b[0m     f\u001b[38;5;241m.\u001b[39mwrite(d)\n",
      "\u001b[1;31mTypeError\u001b[0m: write() argument must be str, not dict"
     ]
    }
   ],
   "source": [
    "# more complex data\n",
    "d = {\n",
    "    \"name\": \"abc\",\n",
    "    \"age\" : 25,\n",
    "    \"gender\": \"male\"\n",
    "}\n",
    "with open(\"sample.txt\", \"w\") as f:\n",
    "    f.write(d)"
   ]
  },
  {
   "cell_type": "code",
   "execution_count": 33,
   "id": "ca7f2c63-f4da-4714-ba95-236ebb258627",
   "metadata": {},
   "outputs": [],
   "source": [
    "with open(\"sample.txt\", \"w\") as f:\n",
    "    f.write(str(d))"
   ]
  },
  {
   "cell_type": "code",
   "execution_count": 34,
   "id": "39561627-cc62-454c-8087-69cfffa81e89",
   "metadata": {},
   "outputs": [
    {
     "name": "stdout",
     "output_type": "stream",
     "text": [
      "{'name': 'abc', 'age': 25, 'gender': 'male'}\n",
      "<class 'str'>\n"
     ]
    }
   ],
   "source": [
    "with open(\"sample.txt\", \"r\") as f:\n",
    "    print(f.read())\n",
    "    print(type(f.read()))"
   ]
  },
  {
   "cell_type": "code",
   "execution_count": 35,
   "id": "3cc1206b-55cb-484d-ad6c-7917585aeec7",
   "metadata": {},
   "outputs": [
    {
     "ename": "ValueError",
     "evalue": "dictionary update sequence element #0 has length 1; 2 is required",
     "output_type": "error",
     "traceback": [
      "\u001b[1;31m---------------------------------------------------------------------------\u001b[0m",
      "\u001b[1;31mValueError\u001b[0m                                Traceback (most recent call last)",
      "Cell \u001b[1;32mIn[35], line 2\u001b[0m\n\u001b[0;32m      1\u001b[0m \u001b[38;5;28;01mwith\u001b[39;00m \u001b[38;5;28mopen\u001b[39m(\u001b[38;5;124m\"\u001b[39m\u001b[38;5;124msample.txt\u001b[39m\u001b[38;5;124m\"\u001b[39m, \u001b[38;5;124m\"\u001b[39m\u001b[38;5;124mr\u001b[39m\u001b[38;5;124m\"\u001b[39m) \u001b[38;5;28;01mas\u001b[39;00m f:\n\u001b[1;32m----> 2\u001b[0m     \u001b[38;5;28mprint\u001b[39m(\u001b[38;5;28mdict\u001b[39m(f\u001b[38;5;241m.\u001b[39mread()))\n",
      "\u001b[1;31mValueError\u001b[0m: dictionary update sequence element #0 has length 1; 2 is required"
     ]
    }
   ],
   "source": [
    "with open(\"sample.txt\", \"r\") as f:\n",
    "    print(dict(f.read()))"
   ]
  },
  {
   "cell_type": "markdown",
   "id": "13c04d2d-0894-4631-a0c9-1886c92faa99",
   "metadata": {},
   "source": [
    "### ***Serialization and Deserialization***\n",
    "#### - Serialization: It is a process of converting python data types to json format\n",
    "#### - Deserialization: It is a process of converting json to python data types\n",
    "\n",
    "### ***what is JSON***\n",
    "#### - JSON stands for java script on notation. It is a  Universal data format can be understand by every programming language\n",
    "#### - Now-a-days every api was using json format"
   ]
  },
  {
   "cell_type": "code",
   "execution_count": 36,
   "id": "682395a5-2fbf-481c-91c8-b96e9076d273",
   "metadata": {},
   "outputs": [],
   "source": [
    "# serialization using json\n",
    "# list\n",
    "import json\n",
    "l = [1, 2, 3, 4]\n",
    "with open(\"demo.json\", \"w\") as f:\n",
    "    json.dump(l, f)"
   ]
  },
  {
   "cell_type": "code",
   "execution_count": 37,
   "id": "bd0a40f1-caea-4ed5-9a1c-7e07554c713f",
   "metadata": {},
   "outputs": [],
   "source": [
    "# dict\n",
    "d = {\n",
    "    \"name\": \"abc\",\n",
    "    \"age\" : 25,\n",
    "    \"gender\": \"male\"\n",
    "}\n",
    "with open(\"demo.json\", \"w\") as f:\n",
    "    json.dump(d, f)"
   ]
  },
  {
   "cell_type": "code",
   "execution_count": 38,
   "id": "d34e9817-d2e6-4d8b-887c-74ff2e27067b",
   "metadata": {},
   "outputs": [],
   "source": [
    "# dict\n",
    "d = {\n",
    "    \"name\": \"abc\",\n",
    "    \"age\" : 25,\n",
    "    \"gender\": \"male\"\n",
    "}\n",
    "with open(\"demo.json\", \"w\") as f:\n",
    "    json.dump(d, f, indent=4)"
   ]
  },
  {
   "cell_type": "code",
   "execution_count": 39,
   "id": "de042a12-6914-49a6-82a5-b8cc7c86ffd8",
   "metadata": {},
   "outputs": [
    {
     "name": "stdout",
     "output_type": "stream",
     "text": [
      "{'name': 'abc', 'age': 25, 'gender': 'male'}\n",
      "<class 'dict'>\n"
     ]
    }
   ],
   "source": [
    "# deserialization\n",
    "import json\n",
    "with open(\"demo.json\", \"r\") as f:\n",
    "    d = json.load(f)\n",
    "    print(d)\n",
    "    print(type(d))"
   ]
  },
  {
   "cell_type": "code",
   "execution_count": 40,
   "id": "50a2fe7a-8143-47f2-bfa6-83dc50705c34",
   "metadata": {},
   "outputs": [],
   "source": [
    "# serialize and deserialize tuple\n",
    "import json\n",
    "\n",
    "t = (1, 2, 3, 4, 5)\n",
    "\n",
    "with open(\"demo.json\", \"w\") as f:\n",
    "    json.dump(t, f)"
   ]
  },
  {
   "cell_type": "code",
   "execution_count": 41,
   "id": "25d7f315-29c9-4c96-bfcc-c5e6575da070",
   "metadata": {},
   "outputs": [
    {
     "name": "stdout",
     "output_type": "stream",
     "text": [
      "[1, 2, 3, 4, 5]\n",
      "<class 'list'>\n"
     ]
    }
   ],
   "source": [
    "import json\n",
    "with open(\"demo.json\", \"r\") as f:\n",
    "    t = json.load(f)\n",
    "    print(t)\n",
    "    print(type(t))"
   ]
  },
  {
   "cell_type": "code",
   "execution_count": 42,
   "id": "37554a83-c42f-45ef-ad5f-9fe336b7a5ef",
   "metadata": {},
   "outputs": [],
   "source": [
    "# serialize and deserialize nested dictionary\n",
    "import json\n",
    "\n",
    "d = {\n",
    "    \"student\": \"abc\",\n",
    "    \"marks\": [23, 14, 34, 45, 56]\n",
    "}\n",
    "\n",
    "with open(\"demo.json\", \"w\") as f:\n",
    "    json.dump(d, f)"
   ]
  },
  {
   "cell_type": "code",
   "execution_count": 43,
   "id": "15cf8fac-18c9-4213-b9f7-32564b3b4a53",
   "metadata": {},
   "outputs": [],
   "source": [
    "import json\n",
    "\n",
    "d = {\n",
    "    \"student\": \"abc\",\n",
    "    \"marks\": [23, 14, 34, 45, 56]\n",
    "}\n",
    "\n",
    "with open(\"demo.json\", \"w\") as f:\n",
    "    json.dump(d, f, indent=4)"
   ]
  },
  {
   "cell_type": "code",
   "execution_count": 44,
   "id": "a4b7d1e4-cbc7-4707-b21b-840b83d665b6",
   "metadata": {},
   "outputs": [
    {
     "name": "stdout",
     "output_type": "stream",
     "text": [
      "{'student': 'abc', 'marks': [23, 14, 34, 45, 56]}\n",
      "<class 'dict'>\n"
     ]
    }
   ],
   "source": [
    "import json\n",
    "with open(\"demo.json\", \"r\") as f:\n",
    "    d = json.load(f)\n",
    "    print(d)\n",
    "    print(type(d))"
   ]
  },
  {
   "cell_type": "code",
   "execution_count": 45,
   "id": "28d59684-1da4-47e4-bda3-7887b15b0d60",
   "metadata": {},
   "outputs": [],
   "source": [
    "# serialize and deserialize custom objects\n",
    "class Person:\n",
    "    def __init__(self, fname, lname, age, gender):\n",
    "        self.fname = fname\n",
    "        self.lname = lname\n",
    "        self.age   = age\n",
    "        self.gender= gender\n",
    "\n",
    "# format to printed in\n",
    "# abc def age-> 25 gender -> male"
   ]
  },
  {
   "cell_type": "code",
   "execution_count": 46,
   "id": "ac55bdfe-6e95-48de-ba8c-d7f3287daf62",
   "metadata": {},
   "outputs": [],
   "source": [
    "person = Person(\"abc\", \"def\", 25, \"male\")"
   ]
  },
  {
   "cell_type": "code",
   "execution_count": 47,
   "id": "f253a4fe-e3c2-4f83-81cb-c715576c2da8",
   "metadata": {},
   "outputs": [],
   "source": [
    "# As a string\n",
    "import json\n",
    "\n",
    "def show_object(person):\n",
    "    if isinstance(person, Person):\n",
    "        return \"{} {} age -> {} gender -> {}\".format(person.fname, person.lname, person.age, person.gender)\n",
    "with open(\"demo.json\", \"w\") as f:\n",
    "    json.dump(person, f, default=show_object)"
   ]
  },
  {
   "cell_type": "code",
   "execution_count": 48,
   "id": "69b19964-293e-48ee-bad0-50a9209e7637",
   "metadata": {},
   "outputs": [],
   "source": [
    "# As a dict\n",
    "import json\n",
    "\n",
    "def show_object(person):\n",
    "    if isinstance(person, Person):\n",
    "        return {\"name\": person.fname+\" \"+ person.lname, \"age\": person.age, \"gender\": person.gender}\n",
    "with open(\"demo.json\", \"w\") as f:\n",
    "    json.dump(person, f, default=show_object)"
   ]
  },
  {
   "cell_type": "code",
   "execution_count": 49,
   "id": "84288f09-7ffe-4f71-a3ab-ec8f98d51843",
   "metadata": {},
   "outputs": [],
   "source": [
    "# As a dict\n",
    "import json\n",
    "\n",
    "def show_object(person):\n",
    "    if isinstance(person, Person):\n",
    "        return {\"name\": person.fname+\" \"+ person.lname, \"age\": person.age, \"gender\": person.gender}\n",
    "with open(\"demo.json\", \"w\") as f:\n",
    "    json.dump(person, f, default=show_object, indent=4)"
   ]
  },
  {
   "cell_type": "code",
   "execution_count": 50,
   "id": "91584a2d-31ac-4b6c-8947-b73cfc721aff",
   "metadata": {},
   "outputs": [
    {
     "name": "stdout",
     "output_type": "stream",
     "text": [
      "{'name': 'abc def', 'age': 25, 'gender': 'male'}\n",
      "<class 'dict'>\n"
     ]
    }
   ],
   "source": [
    "import json\n",
    "with open(\"demo.json\", \"r\") as f:\n",
    "    d = json.load(f)\n",
    "    print(d)\n",
    "    print(type(d))"
   ]
  },
  {
   "cell_type": "markdown",
   "id": "2feca748-0a04-4d83-92f6-3b68143536f7",
   "metadata": {},
   "source": [
    "### ***pickling***\n",
    "#### - pickling is the process whereby a python object hierarchy is converted into a byte stream\n",
    "#### - Unpickling is the inverse operation, whereby a byte stream(from a binary like file or byte-like object) is converted back into an object hierarchy"
   ]
  },
  {
   "cell_type": "code",
   "execution_count": 51,
   "id": "3392fd45-5813-4c39-b192-d3a5fd7dfac6",
   "metadata": {},
   "outputs": [],
   "source": [
    "class Person:\n",
    "    def __init__(self, name, age):\n",
    "        self.name = name\n",
    "        self.age = age\n",
    "\n",
    "    def display_info(self):\n",
    "        print(\"Hi my name is\", self.name, \"and Iam \", self.age, \"years old\")"
   ]
  },
  {
   "cell_type": "code",
   "execution_count": 52,
   "id": "b971a3fa-4f3b-4494-99ad-1ba1b72f1e74",
   "metadata": {},
   "outputs": [],
   "source": [
    "p = Person(\"abc\", 25)"
   ]
  },
  {
   "cell_type": "code",
   "execution_count": 53,
   "id": "d9e3ceb5-c753-47f7-bc41-d2f4cb60b9f0",
   "metadata": {},
   "outputs": [],
   "source": [
    "# pickle dump\n",
    "import pickle\n",
    "with open(\"person.pkl\", \"wb\") as f:\n",
    "    pickle.dump(p, f)"
   ]
  },
  {
   "cell_type": "code",
   "execution_count": 54,
   "id": "32ce7457-4a35-4a35-a3c6-e449f4e37630",
   "metadata": {},
   "outputs": [
    {
     "name": "stdout",
     "output_type": "stream",
     "text": [
      "Hi my name is abc and Iam  25 years old\n"
     ]
    }
   ],
   "source": [
    "# pickle load\n",
    "import pickle\n",
    "with open(\"person.pkl\", \"rb\") as f:\n",
    "    p = pickle.load(f)\n",
    "    \n",
    "p.display_info()"
   ]
  },
  {
   "cell_type": "markdown",
   "id": "c5f72754-a0f4-4ec1-93c6-95d1863faf5e",
   "metadata": {},
   "source": [
    "### ***pickle vs json***\n",
    "#### - pickle lets the user to store data in binary format\n",
    "#### - json lets the user to store data in a human readable text format"
   ]
  },
  {
   "cell_type": "code",
   "execution_count": null,
   "id": "bdcecbeb-ec3e-49a6-8c76-424f012c4390",
   "metadata": {},
   "outputs": [],
   "source": []
  }
 ],
 "metadata": {
  "kernelspec": {
   "display_name": "Python 3 (ipykernel)",
   "language": "python",
   "name": "python3"
  },
  "language_info": {
   "codemirror_mode": {
    "name": "ipython",
    "version": 3
   },
   "file_extension": ".py",
   "mimetype": "text/x-python",
   "name": "python",
   "nbconvert_exporter": "python",
   "pygments_lexer": "ipython3",
   "version": "3.11.7"
  }
 },
 "nbformat": 4,
 "nbformat_minor": 5
}
