{
 "cells": [
  {
   "cell_type": "markdown",
   "id": "053e4be6-b69e-40b9-bdf7-7b8caacd246d",
   "metadata": {},
   "source": [
    "### ***Function***\n",
    "#### - Function is a block of organized and reused code that is executed when function is called\n",
    "#### - Function call is given after function declaration\n",
    "#### - Function is declared by using \"def\" keyword\n",
    "```python\n",
    "def function_name(parm1, parm2, ..., parmN):\n",
    "    # block of code\n",
    "    return \"some data type\"\n",
    "\n",
    "function_name(arg1, arg2, ..., argN)\n",
    "```\n",
    "\n",
    "\n",
    "\n",
    "### ***return***\n",
    "#### - return is a keyword that is used to return values to the function call\n",
    "#### - We can return multiple value to function call using return keyword\n",
    "#### - It takes control from functional space to main space"
   ]
  },
  {
   "cell_type": "code",
   "execution_count": null,
   "id": "a528d1a7-b045-4d4d-9d32-77d6ad5adeb5",
   "metadata": {},
   "outputs": [],
   "source": [
    "#    syntax: \n",
    "# function definition\n",
    "def function_name(parameters):\n",
    "    # block of code\n",
    "    return None\n",
    "\n",
    "# function call\n",
    "function_name(arguments)\n",
    "# parameters: variables present at function definition\n",
    "# Arguments : Actual values pass into function call"
   ]
  },
  {
   "cell_type": "markdown",
   "id": "fe0d4c13-d39a-4e8e-b502-ff3e048d2195",
   "metadata": {},
   "source": [
    "### ***Parameters***\n",
    "\n",
    "#### - Parameters are the variables that are defined in a function’s definition. \n",
    "#### - They act as placeholders for the values that the function will receive when it is called.\n",
    "\n",
    "### ***Where to use:***\n",
    "\n",
    "#### - Use parameters in the function definition to specify the data the function expects to receive."
   ]
  },
  {
   "cell_type": "markdown",
   "id": "88a0a6b3-f767-4d3a-8935-7366fb39f612",
   "metadata": {},
   "source": [
    "### ***Arguments***\n",
    "\n",
    "#### - Arguments are the actual values that are passed to the function when it is called. \n",
    "#### - They fill in the placeholders defined by the parameters.\n",
    "\n",
    "### ***Where to use:***\n",
    "\n",
    "#### - Use arguments when calling a function to provide the actual data the function should process."
   ]
  },
  {
   "cell_type": "code",
   "execution_count": 9,
   "id": "83163903-2c3c-4ea6-b61a-120a850fe0df",
   "metadata": {},
   "outputs": [
    {
     "name": "stdout",
     "output_type": "stream",
     "text": [
      "This is sample function\n"
     ]
    }
   ],
   "source": [
    "def samplefun():\n",
    "    print(\"This is sample function\")\n",
    "samplefun()"
   ]
  },
  {
   "cell_type": "code",
   "execution_count": 10,
   "id": "1ae25c07-1357-4852-841b-965234fcefd4",
   "metadata": {},
   "outputs": [
    {
     "data": {
      "text/plain": [
       "<function __main__.samplefun()>"
      ]
     },
     "execution_count": 10,
     "metadata": {},
     "output_type": "execute_result"
    }
   ],
   "source": [
    "samplefun"
   ]
  },
  {
   "cell_type": "code",
   "execution_count": 11,
   "id": "e7dc9992-7e9f-4b93-914e-c643df65b9a4",
   "metadata": {},
   "outputs": [
    {
     "data": {
      "text/plain": [
       "1603181868864"
      ]
     },
     "execution_count": 11,
     "metadata": {},
     "output_type": "execute_result"
    }
   ],
   "source": [
    "id(samplefun)"
   ]
  },
  {
   "cell_type": "code",
   "execution_count": 12,
   "id": "509dcedd-e091-4168-b8fe-b7e35b937b6b",
   "metadata": {},
   "outputs": [
    {
     "data": {
      "text/plain": [
       "function"
      ]
     },
     "execution_count": 12,
     "metadata": {},
     "output_type": "execute_result"
    }
   ],
   "source": [
    "type(samplefun)"
   ]
  },
  {
   "cell_type": "code",
   "execution_count": 13,
   "id": "d6234c1c-3cf0-4afa-a8ab-e6a8a7222143",
   "metadata": {},
   "outputs": [
    {
     "name": "stdout",
     "output_type": "stream",
     "text": [
      "This is sample function\n",
      "None\n"
     ]
    }
   ],
   "source": [
    "print(samplefun())"
   ]
  },
  {
   "cell_type": "code",
   "execution_count": 18,
   "id": "99c9413e-57da-4a54-846e-538ae9ef63a9",
   "metadata": {},
   "outputs": [
    {
     "name": "stdout",
     "output_type": "stream",
     "text": [
      "This is sample function\n",
      "return_value         : None\n",
      "type of return_value : <class 'NoneType'>\n"
     ]
    }
   ],
   "source": [
    "def samplefun():\n",
    "    print(\"This is sample function\")\n",
    "    return None\n",
    "return_value = samplefun()\n",
    "print(f\"return_value         : {return_value}\")\n",
    "print(f\"type of return_value : {type(return_value)}\")"
   ]
  },
  {
   "cell_type": "code",
   "execution_count": 19,
   "id": "5749ce9b-2ebf-4187-9fe5-5f0e332cf553",
   "metadata": {},
   "outputs": [
    {
     "data": {
      "text/plain": [
       "1603181866784"
      ]
     },
     "execution_count": 19,
     "metadata": {},
     "output_type": "execute_result"
    }
   ],
   "source": [
    "id(samplefun)"
   ]
  },
  {
   "cell_type": "code",
   "execution_count": 17,
   "id": "bae42cf9-bde4-4198-bab5-ad2abb37de86",
   "metadata": {},
   "outputs": [
    {
     "name": "stdout",
     "output_type": "stream",
     "text": [
      "return_value         : (10, 2.5, True, (2+3j))\n",
      "type of return_value : <class 'tuple'>\n"
     ]
    }
   ],
   "source": [
    "def checkvalues():\n",
    "    x = 10\n",
    "    y = 2.5\n",
    "    z = True\n",
    "    a = 2+3j\n",
    "    return x,y,z,a\n",
    "return_value = checkvalues()\n",
    "print(f\"return_value         : {return_value}\")\n",
    "print(f\"type of return_value : {type(return_value)}\")"
   ]
  },
  {
   "cell_type": "markdown",
   "id": "cb5f6989-58c5-4c51-b1bd-8eef72f43931",
   "metadata": {},
   "source": [
    "### ***point to remember***\n",
    "#### whenever the function return multiple values, It will be sent to function call in tuple form "
   ]
  },
  {
   "cell_type": "code",
   "execution_count": 20,
   "id": "b2166ebc-f67a-4667-ba34-3bfb0128115e",
   "metadata": {},
   "outputs": [
    {
     "name": "stdout",
     "output_type": "stream",
     "text": [
      "Entered Name : Virat\n",
      "ViratVirat\n",
      "<class 'str'>\n"
     ]
    }
   ],
   "source": [
    "# passing the arguments to the functions \n",
    "def f_name(name):\n",
    "    print(\"Entered Name : {}\".format(name))\n",
    "    return name*2\n",
    "ret_val = f_name(\"Virat\")\n",
    "print(ret_val)\n",
    "print(type(ret_val))"
   ]
  },
  {
   "cell_type": "code",
   "execution_count": 21,
   "id": "81e5827a-3b8a-4e67-9fcc-399c9423a594",
   "metadata": {},
   "outputs": [
    {
     "name": "stdout",
     "output_type": "stream",
     "text": [
      "Entered Name : 10\n",
      "20\n",
      "<class 'int'>\n"
     ]
    }
   ],
   "source": [
    "def f_name(name):\n",
    "    print(\"Entered Name : {}\".format(name))\n",
    "    return name*2\n",
    "ret_val = f_name(10)\n",
    "print(ret_val)\n",
    "print(type(ret_val))"
   ]
  },
  {
   "cell_type": "code",
   "execution_count": 22,
   "id": "7b320ec1-494b-45a7-9ea4-b86dcb17f9dc",
   "metadata": {},
   "outputs": [
    {
     "name": "stdout",
     "output_type": "stream",
     "text": [
      "Entered Name : [1, 2, 3]\n",
      "[1, 2, 3, 1, 2, 3]\n",
      "<class 'list'>\n"
     ]
    }
   ],
   "source": [
    "def f_name(name):\n",
    "    print(\"Entered Name : {}\".format(name))\n",
    "    return name*2\n",
    "ret_val = f_name([1, 2, 3])\n",
    "print(ret_val)\n",
    "print(type(ret_val))"
   ]
  },
  {
   "cell_type": "markdown",
   "id": "119a6165-03b8-410d-aff8-acfc06421578",
   "metadata": {},
   "source": [
    "### ***point to remember***\n",
    "#### - We can pass any datatype value as argument to function"
   ]
  },
  {
   "cell_type": "code",
   "execution_count": 23,
   "id": "836925a4-76f2-49df-bd16-2a27e5e1489a",
   "metadata": {},
   "outputs": [
    {
     "name": "stdout",
     "output_type": "stream",
     "text": [
      "Entered Num : 50\n",
      "abc\n",
      "5050505050\n",
      "505\n"
     ]
    },
    {
     "ename": "TypeError",
     "evalue": "unsupported operand type(s) for -: 'int' and 'str'",
     "output_type": "error",
     "traceback": [
      "\u001b[1;31m---------------------------------------------------------------------------\u001b[0m",
      "\u001b[1;31mTypeError\u001b[0m                                 Traceback (most recent call last)",
      "Cell \u001b[1;32mIn[23], line 8\u001b[0m\n\u001b[0;32m      6\u001b[0m     \u001b[38;5;28mprint\u001b[39m(num\u001b[38;5;241m+\u001b[39m\u001b[38;5;124m\"\u001b[39m\u001b[38;5;124m5\u001b[39m\u001b[38;5;124m\"\u001b[39m)\n\u001b[0;32m      7\u001b[0m     \u001b[38;5;28;01mreturn\u001b[39;00m a\u001b[38;5;241m-\u001b[39mnum\n\u001b[1;32m----> 8\u001b[0m ret_val \u001b[38;5;241m=\u001b[39m sub_calculator(\u001b[38;5;124m\"\u001b[39m\u001b[38;5;124m50\u001b[39m\u001b[38;5;124m\"\u001b[39m)\n\u001b[0;32m      9\u001b[0m \u001b[38;5;28mprint\u001b[39m(ret_val)\n\u001b[0;32m     10\u001b[0m \u001b[38;5;28mprint\u001b[39m(\u001b[38;5;28mtype\u001b[39m(ret_val))\n",
      "Cell \u001b[1;32mIn[23], line 7\u001b[0m, in \u001b[0;36msub_calculator\u001b[1;34m(num)\u001b[0m\n\u001b[0;32m      5\u001b[0m \u001b[38;5;28mprint\u001b[39m(num\u001b[38;5;241m*\u001b[39m\u001b[38;5;241m5\u001b[39m)\n\u001b[0;32m      6\u001b[0m \u001b[38;5;28mprint\u001b[39m(num\u001b[38;5;241m+\u001b[39m\u001b[38;5;124m\"\u001b[39m\u001b[38;5;124m5\u001b[39m\u001b[38;5;124m\"\u001b[39m)\n\u001b[1;32m----> 7\u001b[0m \u001b[38;5;28;01mreturn\u001b[39;00m a\u001b[38;5;241m-\u001b[39mnum\n",
      "\u001b[1;31mTypeError\u001b[0m: unsupported operand type(s) for -: 'int' and 'str'"
     ]
    }
   ],
   "source": [
    "def sub_calculator(num):\n",
    "    print(\"Entered Num : {}\".format(num))\n",
    "    a = 100\n",
    "    print(\"abc\")\n",
    "    print(num*5)\n",
    "    print(num+\"5\")\n",
    "    return a-num\n",
    "ret_val = sub_calculator(\"50\")\n",
    "print(ret_val)\n",
    "print(type(ret_val))"
   ]
  },
  {
   "cell_type": "markdown",
   "id": "ea669521-e589-4e6f-8216-2297631061d5",
   "metadata": {},
   "source": [
    "### ***point to remember***\n",
    "#### - We can observe that if an error is present inside the function, \n",
    "#### - It will first execute all the lines of code up to the error and then throw the error"
   ]
  },
  {
   "cell_type": "markdown",
   "id": "1087f3a0-28ad-48cc-ae44-d2e0528d6f98",
   "metadata": {},
   "source": [
    "### ***Types of arguments***\n",
    "\n",
    "#### 1. Positional arguments\n",
    "#### 2. Keyword arguments\n",
    "#### 3. Default arguments\n",
    "#### 4. Variable length non keyword argument\n",
    "#### 5. Variable length keyword argument"
   ]
  },
  {
   "cell_type": "markdown",
   "id": "cc69daf7-d7eb-47ae-b2b9-96af1d9bf6db",
   "metadata": {},
   "source": [
    "### ***Positional arguments***\n",
    "#### - In positional arguments, we pass values to the function call without variable name\n",
    "#### - while passing values we need to follow order\n",
    "#### - number of arguments in function call and function declaration both has to be same"
   ]
  },
  {
   "cell_type": "code",
   "execution_count": 24,
   "id": "37877b2a-6929-4bdd-85c1-04ff7034dbaf",
   "metadata": {},
   "outputs": [],
   "source": [
    "def Details(name, age, gender):\n",
    "    print(f\"Name   : {name}\")\n",
    "    print(f\"Age    : {age}\")\n",
    "    print(f\"Gender : {gender}\")"
   ]
  },
  {
   "cell_type": "code",
   "execution_count": 25,
   "id": "551b8084-524b-4ff7-b1f8-8308f0f1ab5a",
   "metadata": {},
   "outputs": [
    {
     "name": "stdout",
     "output_type": "stream",
     "text": [
      "Name   : sam\n",
      "Age    : 25\n",
      "Gender : female\n"
     ]
    }
   ],
   "source": [
    "Details(\"sam\", 25, \"female\")"
   ]
  },
  {
   "cell_type": "code",
   "execution_count": 26,
   "id": "01801750-00ca-4b45-95c9-1e72b31b30ee",
   "metadata": {},
   "outputs": [
    {
     "name": "stdout",
     "output_type": "stream",
     "text": [
      "Name   : female\n",
      "Age    : sam\n",
      "Gender : 25\n"
     ]
    }
   ],
   "source": [
    "Details(\"female\", \"sam\", 25)"
   ]
  },
  {
   "cell_type": "markdown",
   "id": "1038eb28-58bc-4dad-9e50-51f2d0e33d7f",
   "metadata": {},
   "source": [
    "### ***keyword arguments***\n",
    "#### - In keyword arguments, we pass values in function call with specific variable name\n",
    "#### - number of arguments in function call and function declaration both has to be same"
   ]
  },
  {
   "cell_type": "code",
   "execution_count": 27,
   "id": "545175b5-1962-4cc5-a59b-8cf84f7baccb",
   "metadata": {},
   "outputs": [],
   "source": [
    "def Details(name, age, gender):\n",
    "    print(f\"Name   : {name}\")\n",
    "    print(f\"Age    : {age}\")\n",
    "    print(f\"Gender : {gender}\")"
   ]
  },
  {
   "cell_type": "code",
   "execution_count": 28,
   "id": "d97d96eb-3a79-4b91-9123-a81c7283a808",
   "metadata": {},
   "outputs": [
    {
     "name": "stdout",
     "output_type": "stream",
     "text": [
      "Name   : sam\n",
      "Age    : 25\n",
      "Gender : female\n"
     ]
    }
   ],
   "source": [
    "Details(gender=\"female\", name=\"sam\", age=\"25\")"
   ]
  },
  {
   "cell_type": "markdown",
   "id": "f96365b3-9150-4238-a81a-4dee087a4a24",
   "metadata": {},
   "source": [
    "### ***Default Arguments***\n",
    "#### - It takes default values when there is no value passed in function call\n",
    "#### - number of arguments in function call and function declaration no need to be same"
   ]
  },
  {
   "cell_type": "code",
   "execution_count": 29,
   "id": "6f0c2e76-0e49-4efc-8081-15da0853c3a0",
   "metadata": {},
   "outputs": [],
   "source": [
    "def sample(a=0, b=0, c=0):\n",
    "    print(f\"a : {a}\")\n",
    "    print(f\"b : {b}\")\n",
    "    print(f\"c : {c}\")"
   ]
  },
  {
   "cell_type": "code",
   "execution_count": 30,
   "id": "b13673a4-8d51-42ac-b864-5686093fecec",
   "metadata": {},
   "outputs": [
    {
     "name": "stdout",
     "output_type": "stream",
     "text": [
      "a : 0\n",
      "b : 0\n",
      "c : 0\n"
     ]
    }
   ],
   "source": [
    "sample()"
   ]
  },
  {
   "cell_type": "code",
   "execution_count": 31,
   "id": "1654fdbd-7505-487d-b252-80c8eaa4a1ee",
   "metadata": {},
   "outputs": [
    {
     "name": "stdout",
     "output_type": "stream",
     "text": [
      "a : 10\n",
      "b : 0\n",
      "c : 0\n"
     ]
    }
   ],
   "source": [
    "sample(10)"
   ]
  },
  {
   "cell_type": "code",
   "execution_count": 32,
   "id": "f427f228-f980-4043-8f16-f5e582559c46",
   "metadata": {},
   "outputs": [
    {
     "name": "stdout",
     "output_type": "stream",
     "text": [
      "a : 10\n",
      "b : 20\n",
      "c : 0\n"
     ]
    }
   ],
   "source": [
    "sample(10, 20)"
   ]
  },
  {
   "cell_type": "code",
   "execution_count": 33,
   "id": "46b3d701-89d9-4085-9afa-63d3089adafe",
   "metadata": {},
   "outputs": [
    {
     "name": "stdout",
     "output_type": "stream",
     "text": [
      "a : 10\n",
      "b : 20\n",
      "c : 30\n"
     ]
    }
   ],
   "source": [
    "sample(10, 20, 30)"
   ]
  },
  {
   "cell_type": "code",
   "execution_count": 34,
   "id": "fe98d23b-c146-4921-b692-3eebf634abc1",
   "metadata": {},
   "outputs": [
    {
     "ename": "TypeError",
     "evalue": "sample() takes from 0 to 3 positional arguments but 4 were given",
     "output_type": "error",
     "traceback": [
      "\u001b[1;31m---------------------------------------------------------------------------\u001b[0m",
      "\u001b[1;31mTypeError\u001b[0m                                 Traceback (most recent call last)",
      "Cell \u001b[1;32mIn[34], line 1\u001b[0m\n\u001b[1;32m----> 1\u001b[0m sample(\u001b[38;5;241m10\u001b[39m, \u001b[38;5;241m20\u001b[39m, \u001b[38;5;241m30\u001b[39m, \u001b[38;5;241m40\u001b[39m)\n",
      "\u001b[1;31mTypeError\u001b[0m: sample() takes from 0 to 3 positional arguments but 4 were given"
     ]
    }
   ],
   "source": [
    "sample(10, 20, 30, 40)"
   ]
  },
  {
   "cell_type": "markdown",
   "id": "a2526abc-3cc9-4704-89de-a1a0ad8d055c",
   "metadata": {},
   "source": [
    "### Variable length non keyword argument\n",
    "#### - It allows a function to accept any number of arguments and arguments is stored in form of tuple\n",
    "#### - variable name is prefixed with star\n",
    "```python\n",
    "syntax: *args\n",
    "```"
   ]
  },
  {
   "cell_type": "code",
   "execution_count": 35,
   "id": "c0fef144-a6a7-4159-b4d4-e0d49659b680",
   "metadata": {},
   "outputs": [],
   "source": [
    "def fun(*args):\n",
    "    print(f\"arg: {args}\")"
   ]
  },
  {
   "cell_type": "code",
   "execution_count": 36,
   "id": "88dce1cb-fe19-4190-ab18-60b64cba2b98",
   "metadata": {},
   "outputs": [
    {
     "name": "stdout",
     "output_type": "stream",
     "text": [
      "arg: ()\n"
     ]
    }
   ],
   "source": [
    "fun()"
   ]
  },
  {
   "cell_type": "code",
   "execution_count": 37,
   "id": "b3b3d7c7-fd3c-4a65-86a0-fde435a5e313",
   "metadata": {},
   "outputs": [
    {
     "name": "stdout",
     "output_type": "stream",
     "text": [
      "arg: (11,)\n"
     ]
    }
   ],
   "source": [
    "fun(11)"
   ]
  },
  {
   "cell_type": "code",
   "execution_count": 38,
   "id": "d0480f61-6198-4f0f-aa10-89a4d1528b7b",
   "metadata": {},
   "outputs": [
    {
     "name": "stdout",
     "output_type": "stream",
     "text": [
      "arg: (11, 12)\n"
     ]
    }
   ],
   "source": [
    "fun(11, 12)"
   ]
  },
  {
   "cell_type": "code",
   "execution_count": 39,
   "id": "e53f3355-3255-429c-8c91-cffe9310902a",
   "metadata": {},
   "outputs": [
    {
     "name": "stdout",
     "output_type": "stream",
     "text": [
      "arg: (11, 12, 13)\n"
     ]
    }
   ],
   "source": [
    "fun(11, 12, 13)"
   ]
  },
  {
   "cell_type": "markdown",
   "id": "11bff028-4b0d-404c-95f0-1cc040996eb6",
   "metadata": {},
   "source": [
    "### ***Variable length keyword argument***\n",
    "#### - It allows a function to accept any number of keyword arguments and keyword arguments is stored in form of dictionary\n",
    "#### - variable name is prefixed with double star\n",
    "```python\n",
    "syntax: **kwargs\n",
    "```"
   ]
  },
  {
   "cell_type": "code",
   "execution_count": 40,
   "id": "56342631-727d-435f-b440-95028e7a1c89",
   "metadata": {},
   "outputs": [],
   "source": [
    "def sample(**kwargs):\n",
    "    print(f\"kwargs:{kwargs}\")"
   ]
  },
  {
   "cell_type": "code",
   "execution_count": 41,
   "id": "65bd1fb4-bab9-4d14-9add-bf3c89bff361",
   "metadata": {},
   "outputs": [
    {
     "name": "stdout",
     "output_type": "stream",
     "text": [
      "kwargs:{}\n"
     ]
    }
   ],
   "source": [
    "sample()"
   ]
  },
  {
   "cell_type": "code",
   "execution_count": 42,
   "id": "125faf7d-5076-445e-bc76-95f9bbc00cb9",
   "metadata": {},
   "outputs": [
    {
     "name": "stdout",
     "output_type": "stream",
     "text": [
      "kwargs:{'a': 10}\n"
     ]
    }
   ],
   "source": [
    "sample(a=10)"
   ]
  },
  {
   "cell_type": "code",
   "execution_count": 43,
   "id": "ef676570-8970-4814-be75-37bc65bb3252",
   "metadata": {},
   "outputs": [
    {
     "name": "stdout",
     "output_type": "stream",
     "text": [
      "kwargs:{'a': 10, 'b': 20}\n"
     ]
    }
   ],
   "source": [
    "sample(a=10, b=20)"
   ]
  },
  {
   "cell_type": "code",
   "execution_count": 44,
   "id": "fe4fda3d-1635-460b-8f1b-9a8965786572",
   "metadata": {},
   "outputs": [
    {
     "name": "stdout",
     "output_type": "stream",
     "text": [
      "kwargs:{'a': 10, 'b': 20, 'c': 30}\n"
     ]
    }
   ],
   "source": [
    "sample(a=10, b=20, c=30)"
   ]
  },
  {
   "cell_type": "markdown",
   "id": "a4849a1b-4cc6-4b6c-af16-8092a40357c3",
   "metadata": {},
   "source": [
    "### ***points to remember***\n",
    "#### 1. positional argument follows keyword argument : PA ==> KA\n",
    "#### 2. one value for one argument : 1value ==> 1arg\n",
    "#### 3. non default argument follows default argument : ND ==> DA\n",
    "#### 4. variable length non keyword argument follows variable length keyword arguments : VNK ==> VK"
   ]
  },
  {
   "cell_type": "code",
   "execution_count": 2,
   "id": "6119607f-c0b3-4e61-9fbe-40274825fa97",
   "metadata": {},
   "outputs": [
    {
     "name": "stdout",
     "output_type": "stream",
     "text": [
      "a : 10\n",
      "b : 20\n",
      "c : 30\n",
      "d : 40\n",
      "e : 50\n",
      "f : 60\n",
      "args : (70, 70, 90, 80)\n",
      "kwargs : {'x': 100, 'y': 200, 'z': 300}\n"
     ]
    }
   ],
   "source": [
    "def knowledge_fun(a,b,c,d,e=0,f=0,*args,**kwargs):\n",
    "    print(f\"a : {a}\")\n",
    "    print(f\"b : {b}\")\n",
    "    print(f\"c : {c}\")\n",
    "    print(f\"d : {d}\")\n",
    "    print(f\"e : {e}\")\n",
    "    print(f\"f : {f}\")\n",
    "    print(f\"args : {args}\")\n",
    "    print(f\"kwargs : {kwargs}\")\n",
    "\n",
    "knowledge_fun(10, 20, 30, 40, 50, 60, 70, 70, 90, 80, x=100, y=200, z=300)"
   ]
  },
  {
   "cell_type": "markdown",
   "id": "996989b4-4d05-4901-9f28-1921a38f783a",
   "metadata": {},
   "source": [
    "### ***passing variables to the function***"
   ]
  },
  {
   "cell_type": "code",
   "execution_count": 45,
   "id": "2f55a4a4-993b-4a30-9eb8-8592d95536bd",
   "metadata": {},
   "outputs": [
    {
     "name": "stdout",
     "output_type": "stream",
     "text": [
      "100\n",
      "140727485583240\n",
      "Inside Function\n",
      "100\n",
      "<class 'int'>\n",
      "140727485583240\n",
      "Returning From Function\n",
      "100\n",
      "140727485583240\n"
     ]
    }
   ],
   "source": [
    "def myFunc(a): # a = b \n",
    "    print(\"Inside Function\")\n",
    "    print(a)\n",
    "    print(type(a))\n",
    "    print(id(a))\n",
    "    print(\"Returning From Function\")\n",
    "    return a\n",
    "b = 100\n",
    "print(b)\n",
    "print(id(b))\n",
    "c = myFunc(b) # c = a\n",
    "print(c)\n",
    "print(id(c))"
   ]
  },
  {
   "cell_type": "code",
   "execution_count": 46,
   "id": "8787da74-2948-46eb-870c-49513d773c1d",
   "metadata": {},
   "outputs": [
    {
     "name": "stdout",
     "output_type": "stream",
     "text": [
      "b: 100, id: 140727485583240\n",
      "Inside Function\n",
      "a: 100, id: 140727485583240\n",
      "a: 220, id: 140727485587080\n",
      "Returning From Function\n",
      "c: 220, id: 140727485587080\n",
      "b: 100, id: 140727485583240\n"
     ]
    }
   ],
   "source": [
    "def myFunc(a): # a = b \n",
    "    print(\"Inside Function\")\n",
    "    print(\"a: {}, id: {}\".format(a,id(a)))\n",
    "    a += 120\n",
    "    print(\"a: {}, id: {}\".format(a,id(a)))\n",
    "    print(\"Returning From Function\")\n",
    "    return a\n",
    "b = 100\n",
    "print(\"b: {}, id: {}\".format(b,id(b)))\n",
    "c = myFunc(b) # c = a\n",
    "print(\"c: {}, id: {}\".format(c,id(c)))\n",
    "print(\"b: {}, id: {}\".format(b,id(b)))"
   ]
  },
  {
   "cell_type": "code",
   "execution_count": 47,
   "id": "f7b11af6-42cd-4073-b19b-c3dd3c8b4b6f",
   "metadata": {},
   "outputs": [
    {
     "name": "stdout",
     "output_type": "stream",
     "text": [
      "b: [10, 20, 30, 40], id: 1603199584896\n",
      "Inside Function\n",
      "a: [10, 20, 30, 40], id: 1603199584896\n",
      "a: [10, 20, 2000000, 40], id: 1603199584896\n",
      "Returning From Function\n",
      "c: [10, 20, 2000000, 40], id: 1603199584896\n",
      "b: [10, 20, 2000000, 40], id: 1603199584896\n"
     ]
    }
   ],
   "source": [
    "def myFunc(a): # a = b \n",
    "    print(\"Inside Function\")\n",
    "    print(\"a: {}, id: {}\".format(a,id(a)))\n",
    "    a[2] = 2000000\n",
    "    print(\"a: {}, id: {}\".format(a,id(a)))\n",
    "    print(\"Returning From Function\")\n",
    "    return a\n",
    "b = [10, 20, 30,40]\n",
    "print(\"b: {}, id: {}\".format(b,id(b)))\n",
    "c = myFunc(b) # c = a\n",
    "print(\"c: {}, id: {}\".format(c,id(c)))\n",
    "print(\"b: {}, id: {}\".format(b,id(b)))"
   ]
  },
  {
   "cell_type": "code",
   "execution_count": 48,
   "id": "bc22f062-445a-4ae9-b049-ef606684202f",
   "metadata": {},
   "outputs": [
    {
     "name": "stdout",
     "output_type": "stream",
     "text": [
      "100\n",
      "140727485583240\n",
      "150\n",
      "140727485584840\n"
     ]
    }
   ],
   "source": [
    "a = 100 \n",
    "print(a)\n",
    "print(id(a))\n",
    "a += 50 \n",
    "print(a)\n",
    "print(id(a))"
   ]
  },
  {
   "cell_type": "code",
   "execution_count": 49,
   "id": "843d7e6d-0dc6-41c3-9a9b-4622f6e8d4b6",
   "metadata": {},
   "outputs": [
    {
     "name": "stdout",
     "output_type": "stream",
     "text": [
      "Before calling function: 200\n",
      "Before variable update in function: 200\n",
      "Inside Function: 100\n",
      "After calling function, Outside the function: 200\n"
     ]
    }
   ],
   "source": [
    "def myfun(a):\n",
    "    print(\"Before variable update in function: {}\".format(a))\n",
    "    a = 100 \n",
    "    print(\"Inside Function: {}\".format(a))\n",
    "a = 200 \n",
    "print(\"Before calling function: {}\".format(a))\n",
    "myfun(a)\n",
    "print(\"After calling function, Outside the function: {}\".format(a))"
   ]
  },
  {
   "cell_type": "code",
   "execution_count": 50,
   "id": "12692020-209a-4057-ac05-659fbf6ecff1",
   "metadata": {},
   "outputs": [
    {
     "name": "stdout",
     "output_type": "stream",
     "text": [
      "Before calling function: 200\n",
      "Before variable update in function: 200\n",
      "Inside Function: 100\n"
     ]
    },
    {
     "ename": "NameError",
     "evalue": "name '_c' is not defined",
     "output_type": "error",
     "traceback": [
      "\u001b[1;31m---------------------------------------------------------------------------\u001b[0m",
      "\u001b[1;31mNameError\u001b[0m                                 Traceback (most recent call last)",
      "Cell \u001b[1;32mIn[50], line 8\u001b[0m\n\u001b[0;32m      6\u001b[0m \u001b[38;5;28mprint\u001b[39m(\u001b[38;5;124m\"\u001b[39m\u001b[38;5;124mBefore calling function: \u001b[39m\u001b[38;5;132;01m{}\u001b[39;00m\u001b[38;5;124m\"\u001b[39m\u001b[38;5;241m.\u001b[39mformat(b))\n\u001b[0;32m      7\u001b[0m myfun(b)\n\u001b[1;32m----> 8\u001b[0m \u001b[38;5;28mprint\u001b[39m(\u001b[38;5;124m\"\u001b[39m\u001b[38;5;124mAfter calling function, Outside the function: \u001b[39m\u001b[38;5;132;01m{}\u001b[39;00m\u001b[38;5;124m\"\u001b[39m\u001b[38;5;241m.\u001b[39mformat(_c))\n",
      "\u001b[1;31mNameError\u001b[0m: name '_c' is not defined"
     ]
    }
   ],
   "source": [
    "def myfun(_c):\n",
    "  print(\"Before variable update in function: {}\".format(_c))\n",
    "  _c = 100 \n",
    "  print(\"Inside Function: {}\".format(_c))\n",
    "b = 200 \n",
    "print(\"Before calling function: {}\".format(b))\n",
    "myfun(b)\n",
    "print(\"After calling function, Outside the function: {}\".format(_c))"
   ]
  },
  {
   "cell_type": "code",
   "execution_count": 51,
   "id": "d46a727f-27d5-4175-86da-ddfa90edb6ec",
   "metadata": {},
   "outputs": [
    {
     "name": "stdout",
     "output_type": "stream",
     "text": [
      "1603198444144\n",
      "ID Inside function: 1603198443728\n",
      "ID Outside function: 1603198444144\n"
     ]
    }
   ],
   "source": [
    "def myfunc(a):\n",
    "    print(id(a))\n",
    "    a = 2457\n",
    "    print(\"ID Inside function: {}\".format(id(a)))\n",
    "a = 2457\n",
    "myfunc(a)\n",
    "print(\"ID Outside function: {}\".format(id(a)))"
   ]
  },
  {
   "cell_type": "code",
   "execution_count": 52,
   "id": "1f2b9351-c656-4de8-87d6-5cc3de85f66b",
   "metadata": {},
   "outputs": [
    {
     "name": "stdout",
     "output_type": "stream",
     "text": [
      "1603198444112\n",
      "1603198442704\n"
     ]
    }
   ],
   "source": [
    "a = 2457\n",
    "b = 2457 \n",
    "print(id(a))\n",
    "print(id(b))"
   ]
  },
  {
   "cell_type": "code",
   "execution_count": 53,
   "id": "8a25288d-79ca-45a0-a6d2-97662af56443",
   "metadata": {},
   "outputs": [
    {
     "name": "stdout",
     "output_type": "stream",
     "text": [
      "1603198442512\n",
      "1603198442512\n"
     ]
    }
   ],
   "source": [
    "def func():\n",
    "    a = 248900000\n",
    "    b = 248900000\n",
    "    print(id(a))\n",
    "    print(id(b))\n",
    "func()"
   ]
  },
  {
   "cell_type": "code",
   "execution_count": 54,
   "id": "01ade4a4-e74b-415b-b201-dde555c4d83b",
   "metadata": {},
   "outputs": [
    {
     "name": "stdout",
     "output_type": "stream",
     "text": [
      "(10, 20, 30)\n",
      "(100, 20, 30)\n"
     ]
    }
   ],
   "source": [
    "def func(a):\n",
    "    a = list(a)\n",
    "    a[0] = 100  # scope of this variable a is limited to this particular function, outside the function if you call\n",
    "    return tuple(a) \n",
    "b = (10,20,30)\n",
    "c = func(b)\n",
    "print(b)\n",
    "print(c)"
   ]
  },
  {
   "cell_type": "code",
   "execution_count": 55,
   "id": "a929fbe9-7475-4ce6-bdf7-35dd0dc964f5",
   "metadata": {},
   "outputs": [
    {
     "name": "stdout",
     "output_type": "stream",
     "text": [
      "1603199813632\n",
      "1603199813632\n",
      "[100, 2, 3]\n",
      "[100, 2, 3]\n"
     ]
    }
   ],
   "source": [
    "def myfunc():\n",
    "    a = [1,2,3]\n",
    "    b = a\n",
    "    print(id(a))\n",
    "    print(id(b))\n",
    "    b[0] = 100 \n",
    "    print(b)\n",
    "    print(a)\n",
    "myfunc()"
   ]
  },
  {
   "cell_type": "markdown",
   "id": "0bfa86eb-ebf3-49eb-99d6-762ba82bd515",
   "metadata": {},
   "source": [
    "### ***Point to remember***\n",
    "#### - If we pass mutable data type as argument, changes done inside the function will reflect outside the function\n",
    "#### - If we pass immutable data type as argument, changes done inside the function will not reflect outside the function"
   ]
  },
  {
   "cell_type": "markdown",
   "id": "337f6e4f-6085-4a17-b14f-d4146f9013a2",
   "metadata": {},
   "source": [
    "### ***Global variable***\n",
    "#### - global variables are declared in global space or main space\n",
    "#### - global variables can be accessed both in local space as well as global space"
   ]
  },
  {
   "cell_type": "code",
   "execution_count": 57,
   "id": "a1d059d4-3ad5-4dfc-9580-105200c8c0b5",
   "metadata": {},
   "outputs": [
    {
     "name": "stdout",
     "output_type": "stream",
     "text": [
      "Access Global Variable -b Inside Function:  100\n",
      "Access Global Variable - b Outside Function:  100\n",
      "Accessing b:  100\n"
     ]
    }
   ],
   "source": [
    "# global variable \n",
    "b = 100 # global variable \n",
    "def func_b():\n",
    "    print(\"Access Global Variable -b Inside Function: \", b)\n",
    "func_b()\n",
    "print(\"Access Global Variable - b Outside Function: \", b)\n",
    "def func_new():\n",
    "    print(\"Accessing b: \", b)\n",
    "func_new()"
   ]
  },
  {
   "cell_type": "markdown",
   "id": "84634af0-d830-4780-85a1-18b08c8a6827",
   "metadata": {},
   "source": [
    "### ***local variable***\n",
    "#### - local variables are declared in local space or functional space\n",
    "#### - local variables can be accessed only in local space\n",
    "#### - local variable can be used in global space by declaring local variable as global by using global keyword\n",
    "#### - global declaration has to be done before assigning the value"
   ]
  },
  {
   "cell_type": "code",
   "execution_count": 59,
   "id": "8222b400-dfaf-46fd-abce-fe7cc282cc8c",
   "metadata": {},
   "outputs": [
    {
     "name": "stdout",
     "output_type": "stream",
     "text": [
      "Local Variable - num:  100\n"
     ]
    },
    {
     "ename": "NameError",
     "evalue": "name 'num' is not defined",
     "output_type": "error",
     "traceback": [
      "\u001b[1;31m---------------------------------------------------------------------------\u001b[0m",
      "\u001b[1;31mNameError\u001b[0m                                 Traceback (most recent call last)",
      "Cell \u001b[1;32mIn[59], line 7\u001b[0m\n\u001b[0;32m      5\u001b[0m     \u001b[38;5;28mprint\u001b[39m(\u001b[38;5;124m\"\u001b[39m\u001b[38;5;124mLocal Variable - num: \u001b[39m\u001b[38;5;124m\"\u001b[39m, num)\n\u001b[0;32m      6\u001b[0m func_a()\n\u001b[1;32m----> 7\u001b[0m \u001b[38;5;28mprint\u001b[39m(\u001b[38;5;124m\"\u001b[39m\u001b[38;5;124mAccess Local Variable - num from outside the function: \u001b[39m\u001b[38;5;124m\"\u001b[39m, num)\n",
      "\u001b[1;31mNameError\u001b[0m: name 'num' is not defined"
     ]
    }
   ],
   "source": [
    "# Global variables vs Local Variables \n",
    "def func_a():\n",
    "    # local_variable \n",
    "    num = 100 \n",
    "    print(\"Local Variable - num: \", num)\n",
    "func_a()\n",
    "print(\"Access Local Variable - num from outside the function: \", num)"
   ]
  },
  {
   "cell_type": "code",
   "execution_count": 60,
   "id": "bbbfa7ba-7c17-4b8c-8974-9e2826d1f3e8",
   "metadata": {},
   "outputs": [
    {
     "name": "stdout",
     "output_type": "stream",
     "text": [
      "Global Variable c :  1000\n",
      "What will get printed:  200\n",
      "Global Variable c:  1000\n"
     ]
    }
   ],
   "source": [
    "# global variable vs local variable \n",
    "def func_c():\n",
    "    c = 200 # treated as local variable \n",
    "    print(\"What will get printed: \",c)\n",
    "c = 1000 \n",
    "print(\"Global Variable c : \", c)\n",
    "func_c()\n",
    "print(\"Global Variable c: \", c)"
   ]
  },
  {
   "cell_type": "code",
   "execution_count": 61,
   "id": "b3ede6ec-4bfa-42aa-82ea-41402eb5588c",
   "metadata": {},
   "outputs": [
    {
     "name": "stdout",
     "output_type": "stream",
     "text": [
      "Initializing d: --> 1000\n",
      "Modifying d: --> 1500\n"
     ]
    },
    {
     "ename": "UnboundLocalError",
     "evalue": "cannot access local variable 'd' where it is not associated with a value",
     "output_type": "error",
     "traceback": [
      "\u001b[1;31m---------------------------------------------------------------------------\u001b[0m",
      "\u001b[1;31mUnboundLocalError\u001b[0m                         Traceback (most recent call last)",
      "Cell \u001b[1;32mIn[61], line 11\u001b[0m\n\u001b[0;32m      9\u001b[0m d \u001b[38;5;241m+\u001b[39m\u001b[38;5;241m=\u001b[39m \u001b[38;5;241m500\u001b[39m\n\u001b[0;32m     10\u001b[0m \u001b[38;5;28mprint\u001b[39m(\u001b[38;5;124m\"\u001b[39m\u001b[38;5;124mModifying d: -->\u001b[39m\u001b[38;5;124m\"\u001b[39m, d)\n\u001b[1;32m---> 11\u001b[0m func_d()\n\u001b[0;32m     12\u001b[0m \u001b[38;5;28mprint\u001b[39m(\u001b[38;5;124m\"\u001b[39m\u001b[38;5;124mOutside function, d changed to : \u001b[39m\u001b[38;5;124m\"\u001b[39m, d)\n",
      "Cell \u001b[1;32mIn[61], line 3\u001b[0m, in \u001b[0;36mfunc_d\u001b[1;34m()\u001b[0m\n\u001b[0;32m      2\u001b[0m \u001b[38;5;28;01mdef\u001b[39;00m \u001b[38;5;21mfunc_d\u001b[39m():\n\u001b[1;32m----> 3\u001b[0m     \u001b[38;5;28mprint\u001b[39m(\u001b[38;5;124m\"\u001b[39m\u001b[38;5;124mGlobal Variable d : \u001b[39m\u001b[38;5;124m\"\u001b[39m, d)\n\u001b[0;32m      4\u001b[0m     d \u001b[38;5;241m+\u001b[39m\u001b[38;5;241m=\u001b[39m \u001b[38;5;241m500\u001b[39m\n\u001b[0;32m      5\u001b[0m     \u001b[38;5;28mprint\u001b[39m(\u001b[38;5;124m\"\u001b[39m\u001b[38;5;124mChanging d inside the function: \u001b[39m\u001b[38;5;124m\"\u001b[39m,d)\n",
      "\u001b[1;31mUnboundLocalError\u001b[0m: cannot access local variable 'd' where it is not associated with a value"
     ]
    }
   ],
   "source": [
    "# purpose of \"global\" keyword\n",
    "def func_d():\n",
    "    print(\"Global Variable d : \", d)\n",
    "    d += 500\n",
    "    print(\"Changing d inside the function: \",d)\n",
    "\n",
    "d = 1000\n",
    "print(\"Initializing d: -->\", d)\n",
    "d += 500\n",
    "print(\"Modifying d: -->\", d)\n",
    "func_d()\n",
    "print(\"Outside function, d changed to : \", d)"
   ]
  },
  {
   "cell_type": "code",
   "execution_count": 62,
   "id": "e3dbaf38-b1de-4a6a-b326-f51661e9b61c",
   "metadata": {},
   "outputs": [
    {
     "name": "stdout",
     "output_type": "stream",
     "text": [
      "Initializing d: --> 1000\n",
      "Modifying d: --> 1500\n",
      "Global Variable d :  1500\n",
      "Changing d inside the function:  2000\n",
      "Outside function, d changed to :  1500\n"
     ]
    }
   ],
   "source": [
    "# purpose of \"global\" keyword\n",
    "def func_d(d):\n",
    "    print(\"Global Variable d : \", d)\n",
    "    d += 500\n",
    "    print(\"Changing d inside the function: \",d)\n",
    "\n",
    "d = 1000\n",
    "print(\"Initializing d: -->\", d)\n",
    "d += 500\n",
    "print(\"Modifying d: -->\", d)\n",
    "func_d(d)\n",
    "print(\"Outside function, d changed to : \", d)"
   ]
  },
  {
   "cell_type": "code",
   "execution_count": 63,
   "id": "d37fec82-1069-4e4f-8c1c-611a754ffabd",
   "metadata": {},
   "outputs": [
    {
     "name": "stdout",
     "output_type": "stream",
     "text": [
      "Initializing d: --> 1000\n",
      "Modifying d: --> 1500\n",
      "Global Variable d :  1500\n",
      "Changing d inside the function:  2000\n",
      "Outside function, d changed to :  2000\n"
     ]
    }
   ],
   "source": [
    "# purpose of \"global\" keyword\n",
    "def func_d():\n",
    "    global d\n",
    "    print(\"Global Variable d : \", d)\n",
    "    d += 500\n",
    "    print(\"Changing d inside the function: \",d)\n",
    "\n",
    "d = 1000\n",
    "print(\"Initializing d: -->\", d)\n",
    "d += 500\n",
    "print(\"Modifying d: -->\", d)\n",
    "func_d()\n",
    "print(\"Outside function, d changed to : \", d)"
   ]
  },
  {
   "cell_type": "code",
   "execution_count": 65,
   "id": "a8460609-52d8-4759-afcd-463659c1a7a9",
   "metadata": {},
   "outputs": [
    {
     "name": "stdout",
     "output_type": "stream",
     "text": [
      "Initializing d: --> 1000\n",
      "Modifying d: --> 1500\n",
      "Local Variable d :  1500\n",
      "Changing d inside the function:  2000\n",
      "Outside function, d changed to :  1500\n"
     ]
    }
   ],
   "source": [
    "def func_d():\n",
    "    d = 1500\n",
    "    print(\"Local Variable d : \", d)\n",
    "    d += 500\n",
    "    print(\"Changing d inside the function: \",d)\n",
    "    \n",
    "d = 1000\n",
    "print(\"Initializing d: -->\", d)\n",
    "d += 500\n",
    "print(\"Modifying d: -->\", d)\n",
    "func_d()\n",
    "print(\"Outside function, d changed to : \", d)"
   ]
  },
  {
   "cell_type": "code",
   "execution_count": 66,
   "id": "72e68953-4114-476d-b23b-4a16fde82208",
   "metadata": {},
   "outputs": [
    {
     "name": "stdout",
     "output_type": "stream",
     "text": [
      "Initializing d: --> 1000\n",
      "Modifying d: --> 1500\n",
      "Changing d inside the function:  1500\n",
      "Creating a new variable e:  2000\n",
      "Outside function, d changed to :  1500\n"
     ]
    }
   ],
   "source": [
    "def func_d():\n",
    "    e = d + 500\n",
    "    print(\"Changing d inside the function: \",d)\n",
    "    print(\"Creating a new variable e: \", e)\n",
    "\n",
    "d = 1000\n",
    "print(\"Initializing d: -->\", d)\n",
    "d += 500\n",
    "print(\"Modifying d: -->\", d)\n",
    "func_d()\n",
    "print(\"Outside function, d changed to : \", d)"
   ]
  },
  {
   "cell_type": "markdown",
   "id": "aa99ddca-865e-4eaa-a304-8baa28af4081",
   "metadata": {},
   "source": [
    "### ***point to remember***\n",
    "#### - global variables can be used inside local space but we don't have authority to modify them\n",
    "#### - To use outside variable inside of function we can follow below approaches\n",
    "    - passing variable into function\n",
    "    - declaring a local variable similar to outside variable inside of function\n",
    "    - global variable declaration inside function"
   ]
  },
  {
   "cell_type": "markdown",
   "id": "812ed9d2-c7e2-409c-bcec-5d4ce92a3a6e",
   "metadata": {},
   "source": [
    "### ***Nested function***\n",
    "#### - It is a function that is defined inside another function. \n",
    "#### - The outer function can call the inner function. \n",
    "#### - The inner function can access the variables and parameters of the outer function\n",
    "\n",
    "### ***Nonlocal variables***\n",
    "#### - nonlocal variables are declared in nested functions\n",
    "#### - nonlocal variables are not bound to local space or global space"
   ]
  },
  {
   "cell_type": "code",
   "execution_count": 67,
   "id": "beba0424-2578-4ea1-9077-f36a017f062d",
   "metadata": {},
   "outputs": [
    {
     "name": "stdout",
     "output_type": "stream",
     "text": [
      "Accessing outer func variables: x -> 1000, y ->2000\n"
     ]
    }
   ],
   "source": [
    "# nested functions \n",
    "def func_outer():\n",
    "  # code block - outer func \n",
    "  x = 1000 \n",
    "  y = 2000\n",
    "  def func_inner():\n",
    "    print(\"Accessing outer func variables: x -> {}, y ->{}\".format(x,y))\n",
    "  func_inner()\n",
    "func_outer()"
   ]
  },
  {
   "cell_type": "code",
   "execution_count": 71,
   "id": "74381c10-e154-4318-a2f1-7cc2ea978706",
   "metadata": {},
   "outputs": [
    {
     "ename": "UnboundLocalError",
     "evalue": "cannot access local variable 'x' where it is not associated with a value",
     "output_type": "error",
     "traceback": [
      "\u001b[1;31m---------------------------------------------------------------------------\u001b[0m",
      "\u001b[1;31mUnboundLocalError\u001b[0m                         Traceback (most recent call last)",
      "Cell \u001b[1;32mIn[71], line 10\u001b[0m\n\u001b[0;32m      8\u001b[0m     \u001b[38;5;28mprint\u001b[39m(\u001b[38;5;124m\"\u001b[39m\u001b[38;5;124mAccessing outer func variables: x -> \u001b[39m\u001b[38;5;132;01m{}\u001b[39;00m\u001b[38;5;124m, y ->\u001b[39m\u001b[38;5;132;01m{}\u001b[39;00m\u001b[38;5;124m\"\u001b[39m\u001b[38;5;241m.\u001b[39mformat(x,y))\n\u001b[0;32m      9\u001b[0m   func_inner()\n\u001b[1;32m---> 10\u001b[0m func_outer()\n",
      "Cell \u001b[1;32mIn[71], line 9\u001b[0m, in \u001b[0;36mfunc_outer\u001b[1;34m()\u001b[0m\n\u001b[0;32m      7\u001b[0m   x \u001b[38;5;241m+\u001b[39m\u001b[38;5;241m=\u001b[39m \u001b[38;5;241m10000\u001b[39m\n\u001b[0;32m      8\u001b[0m   \u001b[38;5;28mprint\u001b[39m(\u001b[38;5;124m\"\u001b[39m\u001b[38;5;124mAccessing outer func variables: x -> \u001b[39m\u001b[38;5;132;01m{}\u001b[39;00m\u001b[38;5;124m, y ->\u001b[39m\u001b[38;5;132;01m{}\u001b[39;00m\u001b[38;5;124m\"\u001b[39m\u001b[38;5;241m.\u001b[39mformat(x,y))\n\u001b[1;32m----> 9\u001b[0m func_inner()\n",
      "Cell \u001b[1;32mIn[71], line 7\u001b[0m, in \u001b[0;36mfunc_outer.<locals>.func_inner\u001b[1;34m()\u001b[0m\n\u001b[0;32m      6\u001b[0m \u001b[38;5;28;01mdef\u001b[39;00m \u001b[38;5;21mfunc_inner\u001b[39m():\n\u001b[1;32m----> 7\u001b[0m   x \u001b[38;5;241m+\u001b[39m\u001b[38;5;241m=\u001b[39m \u001b[38;5;241m10000\u001b[39m\n\u001b[0;32m      8\u001b[0m   \u001b[38;5;28mprint\u001b[39m(\u001b[38;5;124m\"\u001b[39m\u001b[38;5;124mAccessing outer func variables: x -> \u001b[39m\u001b[38;5;132;01m{}\u001b[39;00m\u001b[38;5;124m, y ->\u001b[39m\u001b[38;5;132;01m{}\u001b[39;00m\u001b[38;5;124m\"\u001b[39m\u001b[38;5;241m.\u001b[39mformat(x,y))\n",
      "\u001b[1;31mUnboundLocalError\u001b[0m: cannot access local variable 'x' where it is not associated with a value"
     ]
    }
   ],
   "source": [
    "# nested functions \n",
    "def func_outer():\n",
    "  # code block - outer func \n",
    "  x = 1000 \n",
    "  y = 2000\n",
    "  def func_inner():\n",
    "    x += 10000\n",
    "    print(\"Accessing outer func variables: x -> {}, y ->{}\".format(x,y))\n",
    "  func_inner()\n",
    "func_outer()"
   ]
  },
  {
   "cell_type": "code",
   "execution_count": 72,
   "id": "19112a9e-d62a-49dc-a4ec-87a908595100",
   "metadata": {},
   "outputs": [
    {
     "name": "stdout",
     "output_type": "stream",
     "text": [
      "Inner func: x -> 15000, y ->2000\n",
      "Outer Func: x--> 1000\n",
      "x outside the outer/main function : x -> 15000\n"
     ]
    }
   ],
   "source": [
    "def func_outer():\n",
    "    # code block - outer func \n",
    "    x = 1000 \n",
    "    y = 2000\n",
    "    def func_inner():\n",
    "        global x\n",
    "        x = 5000\n",
    "        x += 10000\n",
    "        print(\"Inner func: x -> {}, y ->{}\".format(x,y))\n",
    "    func_inner()\n",
    "    print(\"Outer Func: x-->\", x)\n",
    "func_outer()\n",
    "print(\"x outside the outer/main function : x ->\", x)"
   ]
  },
  {
   "cell_type": "code",
   "execution_count": 73,
   "id": "2d697ef4-d1b0-4200-b46d-78acc5c7f60f",
   "metadata": {},
   "outputs": [
    {
     "name": "stdout",
     "output_type": "stream",
     "text": [
      "Inner func: x -> 15000, y ->2000\n",
      "Outer Func: x--> 15000\n",
      "x outside the outer/main function : x -> 15000\n"
     ]
    }
   ],
   "source": [
    "def func_outer():\n",
    "    # code block - outer func \n",
    "    global x\n",
    "    x = 1000 \n",
    "    y = 2000\n",
    "    def func_inner():\n",
    "        global x\n",
    "        x = 5000\n",
    "        x += 10000\n",
    "        print(\"Inner func: x -> {}, y ->{}\".format(x,y))\n",
    "    func_inner()\n",
    "    print(\"Outer Func: x-->\", x)\n",
    "func_outer()\n",
    "print(\"x outside the outer/main function : x ->\", x)"
   ]
  },
  {
   "cell_type": "code",
   "execution_count": 74,
   "id": "27617b00-8ff3-4ded-9ca0-6713a9182959",
   "metadata": {},
   "outputs": [
    {
     "name": "stdout",
     "output_type": "stream",
     "text": [
      "500\n",
      "outer func, rohit:  92\n",
      "92\n"
     ]
    }
   ],
   "source": [
    "def outer():\n",
    "  v = 500 # local variable \n",
    "  def inner():\n",
    "    global rohit \n",
    "    rohit = 92\n",
    "    print(v) # you can access the outer function local variable from inner function\n",
    "  inner()\n",
    "  print(\"outer func, rohit: \", rohit)\n",
    "outer()\n",
    "print(rohit)"
   ]
  },
  {
   "cell_type": "code",
   "execution_count": 3,
   "id": "628c6bf7-02ac-4ecd-ad9b-6a4efb8dd5ea",
   "metadata": {},
   "outputs": [
    {
     "ename": "NameError",
     "evalue": "name 'func_inner' is not defined",
     "output_type": "error",
     "traceback": [
      "\u001b[1;31m---------------------------------------------------------------------------\u001b[0m",
      "\u001b[1;31mNameError\u001b[0m                                 Traceback (most recent call last)",
      "Cell \u001b[1;32mIn[3], line 14\u001b[0m\n\u001b[0;32m     11\u001b[0m     func_inner()\n\u001b[0;32m     12\u001b[0m     \u001b[38;5;28mprint\u001b[39m(\u001b[38;5;124m\"\u001b[39m\u001b[38;5;124mOuter Func: x-->\u001b[39m\u001b[38;5;124m\"\u001b[39m, x)\n\u001b[1;32m---> 14\u001b[0m func_inner()\n",
      "\u001b[1;31mNameError\u001b[0m: name 'func_inner' is not defined"
     ]
    }
   ],
   "source": [
    "def func_outer():\n",
    "    # code block - outer func \n",
    "    global x\n",
    "    x = 1000 \n",
    "    y = 2000\n",
    "    def func_inner():\n",
    "        global x\n",
    "        x = 5000\n",
    "        x += 10000\n",
    "        print(\"Inner func: x -> {}, y ->{}\".format(x,y))\n",
    "    func_inner()\n",
    "    print(\"Outer Func: x-->\", x)\n",
    "\n",
    "func_inner() # We cannot call an inner function from the main space"
   ]
  },
  {
   "cell_type": "code",
   "execution_count": 76,
   "id": "f38c11e6-5b0c-462c-acb7-69c0bfdf7d18",
   "metadata": {},
   "outputs": [
    {
     "name": "stdout",
     "output_type": "stream",
     "text": [
      "Inner func: v1 -> 11000\n",
      "Outer Func: v1--> 1000\n"
     ]
    },
    {
     "ename": "NameError",
     "evalue": "name 'v1' is not defined",
     "output_type": "error",
     "traceback": [
      "\u001b[1;31m---------------------------------------------------------------------------\u001b[0m",
      "\u001b[1;31mNameError\u001b[0m                                 Traceback (most recent call last)",
      "Cell \u001b[1;32mIn[76], line 10\u001b[0m\n\u001b[0;32m      8\u001b[0m  \u001b[38;5;28mprint\u001b[39m(\u001b[38;5;124m\"\u001b[39m\u001b[38;5;124mOuter Func: v1-->\u001b[39m\u001b[38;5;124m\"\u001b[39m, v1) \u001b[38;5;66;03m# v1 -> 11000 \u001b[39;00m\n\u001b[0;32m      9\u001b[0m func_outer()\n\u001b[1;32m---> 10\u001b[0m \u001b[38;5;28mprint\u001b[39m(\u001b[38;5;124m\"\u001b[39m\u001b[38;5;124mv1 outside the outer/main function : v1 ->\u001b[39m\u001b[38;5;124m\"\u001b[39m, v1)\n",
      "\u001b[1;31mNameError\u001b[0m: name 'v1' is not defined"
     ]
    }
   ],
   "source": [
    " def func_outer():\n",
    "  # code block - outer func \n",
    "  v1 = 1000 # local variable \n",
    "  def func_inner(v1):\n",
    "    v1 += 10000\n",
    "    print(\"Inner func: v1 -> {}\".format(v1))\n",
    "  func_inner(v1)\n",
    "  print(\"Outer Func: v1-->\", v1) # v1 -> 11000 \n",
    "func_outer()\n",
    "print(\"v1 outside the outer/main function : v1 ->\", v1)"
   ]
  },
  {
   "cell_type": "code",
   "execution_count": 77,
   "id": "3011d948-fc48-44a3-ac37-e8381b91f40f",
   "metadata": {},
   "outputs": [
    {
     "name": "stdout",
     "output_type": "stream",
     "text": [
      "Inner func: v1 -> 2000\n",
      "Outer Func: v1--> 2000\n"
     ]
    },
    {
     "ename": "NameError",
     "evalue": "name 'v1' is not defined",
     "output_type": "error",
     "traceback": [
      "\u001b[1;31m---------------------------------------------------------------------------\u001b[0m",
      "\u001b[1;31mNameError\u001b[0m                                 Traceback (most recent call last)",
      "Cell \u001b[1;32mIn[77], line 12\u001b[0m\n\u001b[0;32m     10\u001b[0m   \u001b[38;5;28mprint\u001b[39m(\u001b[38;5;124m\"\u001b[39m\u001b[38;5;124mOuter Func: v1-->\u001b[39m\u001b[38;5;124m\"\u001b[39m, v1) \u001b[38;5;66;03m# v1 -> 2000 \u001b[39;00m\n\u001b[0;32m     11\u001b[0m func_outer()\n\u001b[1;32m---> 12\u001b[0m \u001b[38;5;28mprint\u001b[39m(\u001b[38;5;124m\"\u001b[39m\u001b[38;5;124min main code: v1-->\u001b[39m\u001b[38;5;124m\"\u001b[39m,v1)\n",
      "\u001b[1;31mNameError\u001b[0m: name 'v1' is not defined"
     ]
    }
   ],
   "source": [
    "# use of \"nonlocal\" keyword comes into picture \n",
    "def func_outer():\n",
    "  # code block - outer func \n",
    "  v1 = 1000 # local variable to outer function \n",
    "  def func_inner():\n",
    "    nonlocal v1 # local variable to inner function \n",
    "    v1 += 1000\n",
    "    print(\"Inner func: v1 -> {}\".format(v1))\n",
    "  func_inner()\n",
    "  print(\"Outer Func: v1-->\", v1) # v1 -> 2000 \n",
    "func_outer()\n",
    "print(\"in main code: v1-->\",v1)"
   ]
  },
  {
   "cell_type": "code",
   "execution_count": 78,
   "id": "35eea947-ccac-43e1-a52f-e532cb0998e9",
   "metadata": {},
   "outputs": [
    {
     "name": "stdout",
     "output_type": "stream",
     "text": [
      "Inner func: v1 -> 2000\n",
      "Outer Func: v1--> 1000\n"
     ]
    },
    {
     "ename": "NameError",
     "evalue": "name 'v1' is not defined",
     "output_type": "error",
     "traceback": [
      "\u001b[1;31m---------------------------------------------------------------------------\u001b[0m",
      "\u001b[1;31mNameError\u001b[0m                                 Traceback (most recent call last)",
      "Cell \u001b[1;32mIn[78], line 13\u001b[0m\n\u001b[0;32m     11\u001b[0m   \u001b[38;5;28mprint\u001b[39m(\u001b[38;5;124m\"\u001b[39m\u001b[38;5;124mOuter Func: v1-->\u001b[39m\u001b[38;5;124m\"\u001b[39m, v1) \n\u001b[0;32m     12\u001b[0m func_outer()\n\u001b[1;32m---> 13\u001b[0m \u001b[38;5;28mprint\u001b[39m(\u001b[38;5;124m\"\u001b[39m\u001b[38;5;124min main code: v1-->\u001b[39m\u001b[38;5;124m\"\u001b[39m,v1)\n",
      "\u001b[1;31mNameError\u001b[0m: name 'v1' is not defined"
     ]
    }
   ],
   "source": [
    "# use of \"nonlocal\" keyword comes into picture \n",
    "def func_outer():\n",
    "  # code block - outer func \n",
    "  v1 = 1000 # local variable to outer function \n",
    "  def func_inner():\n",
    "    # local variable to inner function \n",
    "    v1 = 1000\n",
    "    v1 += 1000\n",
    "    print(\"Inner func: v1 -> {}\".format(v1))\n",
    "  func_inner()\n",
    "  print(\"Outer Func: v1-->\", v1) \n",
    "func_outer()\n",
    "print(\"in main code: v1-->\",v1)"
   ]
  },
  {
   "cell_type": "code",
   "execution_count": 79,
   "id": "53ef25f8-77fa-4a85-b991-57ea442b290a",
   "metadata": {},
   "outputs": [
    {
     "name": "stdout",
     "output_type": "stream",
     "text": [
      "Inner func: v1 -> 6000\n",
      "Outer Func: v1--> 1000\n",
      "in main code: v1--> 6000\n"
     ]
    }
   ],
   "source": [
    "# use of \"nonlocal\" keyword comes into picture \n",
    "def func_outer():\n",
    "  # code block - outer func \n",
    "  v1 = 1000 # local variable to outer function \n",
    "  def func_inner():\n",
    "    # local variable to inner function \n",
    "    global v1\n",
    "    v1 = 5000\n",
    "    v1 += 1000\n",
    "    print(\"Inner func: v1 -> {}\".format(v1))\n",
    "  func_inner()\n",
    "  print(\"Outer Func: v1-->\", v1) \n",
    "func_outer()\n",
    "print(\"in main code: v1-->\",v1)"
   ]
  },
  {
   "cell_type": "code",
   "execution_count": 80,
   "id": "1a06ecfc-0368-48c8-9efa-73d2ff32ba23",
   "metadata": {},
   "outputs": [
    {
     "name": "stdout",
     "output_type": "stream",
     "text": [
      "Inner func: v2 -> 2000\n",
      "Outer Func: v2--> 2000\n"
     ]
    },
    {
     "ename": "NameError",
     "evalue": "name 'v2' is not defined",
     "output_type": "error",
     "traceback": [
      "\u001b[1;31m---------------------------------------------------------------------------\u001b[0m",
      "\u001b[1;31mNameError\u001b[0m                                 Traceback (most recent call last)",
      "Cell \u001b[1;32mIn[80], line 12\u001b[0m\n\u001b[0;32m     10\u001b[0m   \u001b[38;5;28mprint\u001b[39m(\u001b[38;5;124m\"\u001b[39m\u001b[38;5;124mOuter Func: v2-->\u001b[39m\u001b[38;5;124m\"\u001b[39m, v2) \u001b[38;5;66;03m# v1 -> 2000 \u001b[39;00m\n\u001b[0;32m     11\u001b[0m func_outer()\n\u001b[1;32m---> 12\u001b[0m \u001b[38;5;28mprint\u001b[39m(\u001b[38;5;124m\"\u001b[39m\u001b[38;5;124mmain code: v1-->\u001b[39m\u001b[38;5;124m\"\u001b[39m, v2)\n",
      "\u001b[1;31mNameError\u001b[0m: name 'v2' is not defined"
     ]
    }
   ],
   "source": [
    "def func_outer():\n",
    "  # code block - outer func \n",
    "  v2 = 1000 # local variable to outer function \n",
    "  def func_inner():   \n",
    "    # local variable to inner function \n",
    "    nonlocal v2\n",
    "    v2 += 1000\n",
    "    print(\"Inner func: v2 -> {}\".format(v2))\n",
    "  func_inner()\n",
    "  print(\"Outer Func: v2-->\", v2) # v1 -> 2000 \n",
    "func_outer()\n",
    "print(\"main code: v1-->\", v2)"
   ]
  },
  {
   "cell_type": "code",
   "execution_count": 81,
   "id": "599c267b-9ae8-4010-9c3a-ed2f08a00ffd",
   "metadata": {},
   "outputs": [
    {
     "ename": "SyntaxError",
     "evalue": "no binding for nonlocal 'v3' found (787429914.py, line 6)",
     "output_type": "error",
     "traceback": [
      "\u001b[1;36m  Cell \u001b[1;32mIn[81], line 6\u001b[1;36m\u001b[0m\n\u001b[1;33m    nonlocal v3\u001b[0m\n\u001b[1;37m    ^\u001b[0m\n\u001b[1;31mSyntaxError\u001b[0m\u001b[1;31m:\u001b[0m no binding for nonlocal 'v3' found\n"
     ]
    }
   ],
   "source": [
    " def func_outer():\n",
    "  # code block - outer func \n",
    "  v2 = 1000 # local variable to outer function \n",
    "  def func_inner():   \n",
    "    # local variable to inner function \n",
    "    nonlocal v3\n",
    "    v2 += 1000\n",
    "    print(\"Inner func: v2 -> {}\".format(v2))\n",
    "  func_inner()\n",
    "  print(\"Outer Func: v2-->\", v2) # v1 -> 2000 \n",
    "func_outer()\n",
    "print(\"main code: v1-->\", v2)"
   ]
  },
  {
   "cell_type": "code",
   "execution_count": 82,
   "id": "e815124b-1ad3-4ac0-8ddc-1c020de4d2c5",
   "metadata": {},
   "outputs": [
    {
     "name": "stdout",
     "output_type": "stream",
     "text": [
      "Inner func: v2 -> 5000\n",
      "Func inside inner: --> 5000\n",
      "Outer Func: v2--> 1000\n"
     ]
    }
   ],
   "source": [
    "def func_outer():\n",
    "  # code block - outer func \n",
    "  v2 = 1000 # local variable to outer function \n",
    "  def func_inner():   \n",
    "    # local variable to inner function \n",
    "    v2 = 5000 # local variable to inner function \n",
    "    print(\"Inner func: v2 -> {}\".format(v2))\n",
    "    def func_insideInner():\n",
    "      nonlocal v2 \n",
    "      print(\"Func inside inner: -->\",v2)\n",
    "    func_insideInner()\n",
    "  func_inner()\n",
    "  print(\"Outer Func: v2-->\", v2) # v1 -> 2000 \n",
    "func_outer()"
   ]
  },
  {
   "cell_type": "code",
   "execution_count": 83,
   "id": "312b5570-923e-4136-8a23-cf25fd48c767",
   "metadata": {},
   "outputs": [
    {
     "name": "stdout",
     "output_type": "stream",
     "text": [
      "Inner func: v2 -> 5000\n",
      "Func inside inner: --> 5000\n"
     ]
    },
    {
     "ename": "NameError",
     "evalue": "name 'func_insideInner' is not defined",
     "output_type": "error",
     "traceback": [
      "\u001b[1;31m---------------------------------------------------------------------------\u001b[0m",
      "\u001b[1;31mNameError\u001b[0m                                 Traceback (most recent call last)",
      "Cell \u001b[1;32mIn[83], line 15\u001b[0m\n\u001b[0;32m     13\u001b[0m  func_insideInner()\n\u001b[0;32m     14\u001b[0m  \u001b[38;5;28mprint\u001b[39m(\u001b[38;5;124m\"\u001b[39m\u001b[38;5;124mOuter Func: v2-->\u001b[39m\u001b[38;5;124m\"\u001b[39m, v2) \u001b[38;5;66;03m# v1 -> 2000 \u001b[39;00m\n\u001b[1;32m---> 15\u001b[0m func_outer()\n",
      "Cell \u001b[1;32mIn[83], line 13\u001b[0m, in \u001b[0;36mfunc_outer\u001b[1;34m()\u001b[0m\n\u001b[0;32m     11\u001b[0m   func_insideInner()\n\u001b[0;32m     12\u001b[0m func_inner()\n\u001b[1;32m---> 13\u001b[0m func_insideInner()\n\u001b[0;32m     14\u001b[0m \u001b[38;5;28mprint\u001b[39m(\u001b[38;5;124m\"\u001b[39m\u001b[38;5;124mOuter Func: v2-->\u001b[39m\u001b[38;5;124m\"\u001b[39m, v2)\n",
      "\u001b[1;31mNameError\u001b[0m: name 'func_insideInner' is not defined"
     ]
    }
   ],
   "source": [
    " def func_outer():\n",
    "  # code block - outer func \n",
    "  v2 = 1000 # local variable to outer function \n",
    "  def func_inner():   \n",
    "    # local variable to inner function \n",
    "    v2 = 5000 # local variable to inner function \n",
    "    print(\"Inner func: v2 -> {}\".format(v2))\n",
    "    def func_insideInner():\n",
    "      nonlocal v2 \n",
    "      print(\"Func inside inner: -->\",v2)\n",
    "    func_insideInner()\n",
    "  func_inner()\n",
    "  func_insideInner()\n",
    "  print(\"Outer Func: v2-->\", v2) # v1 -> 2000 \n",
    "func_outer()"
   ]
  },
  {
   "cell_type": "code",
   "execution_count": 90,
   "id": "1563bbe5-7331-4d59-9171-83985b4bf19d",
   "metadata": {},
   "outputs": [],
   "source": [
    "# Higher order function\n",
    "def calculator(a, b, arg):\n",
    "    return arg(a,b)\n",
    "\n",
    "def add(a,b):\n",
    "    return a+b\n",
    "\n",
    "def sub(a,b):\n",
    "    return a-b"
   ]
  },
  {
   "cell_type": "code",
   "execution_count": 91,
   "id": "eb384f80-b688-44e4-91a4-dbadcc553f4e",
   "metadata": {},
   "outputs": [
    {
     "name": "stdout",
     "output_type": "stream",
     "text": [
      "addition    :  30\n"
     ]
    }
   ],
   "source": [
    "add_value = calculator(10, 20, add)\n",
    "print(\"addition    : \", add_value)"
   ]
  },
  {
   "cell_type": "code",
   "execution_count": 92,
   "id": "9b672c15-f3f5-49cd-8a06-86f1389f61f1",
   "metadata": {},
   "outputs": [],
   "source": [
    "# Higher order function\n",
    "def calculator(a, b, *arg):\n",
    "    return arg[0](a,b), arg[1](a,b)\n",
    "\n",
    "def add(a,b):\n",
    "    return a+b\n",
    "\n",
    "def sub(a,b):\n",
    "    return a-b"
   ]
  },
  {
   "cell_type": "code",
   "execution_count": 93,
   "id": "48c24f5a-f513-4d6e-97e9-dbd2813f7958",
   "metadata": {},
   "outputs": [
    {
     "name": "stdout",
     "output_type": "stream",
     "text": [
      "addition    :  30\n",
      "subtraction :  -10\n"
     ]
    }
   ],
   "source": [
    "add_value, sub_value = calculator(10, 20, add, sub)\n",
    "print(\"addition    : \", add_value)\n",
    "print(\"subtraction : \", sub_value)"
   ]
  },
  {
   "cell_type": "code",
   "execution_count": null,
   "id": "bc214c5a-9428-4681-92b2-3694d2c87f24",
   "metadata": {},
   "outputs": [],
   "source": []
  }
 ],
 "metadata": {
  "kernelspec": {
   "display_name": "Python 3 (ipykernel)",
   "language": "python",
   "name": "python3"
  },
  "language_info": {
   "codemirror_mode": {
    "name": "ipython",
    "version": 3
   },
   "file_extension": ".py",
   "mimetype": "text/x-python",
   "name": "python",
   "nbconvert_exporter": "python",
   "pygments_lexer": "ipython3",
   "version": "3.11.7"
  }
 },
 "nbformat": 4,
 "nbformat_minor": 5
}
