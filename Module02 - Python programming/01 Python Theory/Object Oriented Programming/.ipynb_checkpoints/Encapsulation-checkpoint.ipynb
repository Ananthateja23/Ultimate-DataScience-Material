{
 "cells": [
  {
   "cell_type": "markdown",
   "id": "e118c5f3-8376-48e3-9196-0bdb47dc1b3b",
   "metadata": {},
   "source": [
    "### ***Write OOP classes to handle the following scenarios***\n",
    "#### - A user can create and view 2D coordinates\n",
    "#### - A user can find out the distance between 2 coordinates\n",
    "#### - A user can find the distance of a coordinates from origin\n",
    "#### - A user can check if a point lies on a given line\n",
    "#### - A user can find the distance between a given 2D point and a given line"
   ]
  },
  {
   "cell_type": "code",
   "execution_count": 1,
   "id": "dcdb6ee2-e441-4697-aec3-b4e43c0d704e",
   "metadata": {},
   "outputs": [],
   "source": [
    "class Point:\n",
    "    def __init__(self, x, y):\n",
    "        self.x_cod = x\n",
    "        self.y_cod = y"
   ]
  },
  {
   "cell_type": "code",
   "execution_count": 2,
   "id": "2df9fd9e-50a8-4c89-8d55-9173e1a2e3e5",
   "metadata": {},
   "outputs": [
    {
     "data": {
      "text/plain": [
       "<__main__.Point at 0x2d577322dd0>"
      ]
     },
     "execution_count": 2,
     "metadata": {},
     "output_type": "execute_result"
    }
   ],
   "source": [
    "p1 = Point(0, 0)\n",
    "p1"
   ]
  },
  {
   "cell_type": "code",
   "execution_count": 3,
   "id": "4d943ae2-721e-4099-b6e9-8b11f6b8f63c",
   "metadata": {},
   "outputs": [],
   "source": [
    "class Point:\n",
    "    def __init__(self, x, y):\n",
    "        self.x_cod = x\n",
    "        self.y_cod = y\n",
    "    def __str__(self):\n",
    "        return \"<{},{}>\".format(self.x_cod, self.y_cod)"
   ]
  },
  {
   "cell_type": "code",
   "execution_count": 4,
   "id": "7c7bb1d8-1d72-4fce-b883-7e7f5170b307",
   "metadata": {},
   "outputs": [
    {
     "name": "stdout",
     "output_type": "stream",
     "text": [
      "<0,0>\n",
      "<-2,-1>\n"
     ]
    }
   ],
   "source": [
    "p1 = Point(0, 0)\n",
    "p2 = Point(-2, -1)\n",
    "print(p1)\n",
    "print(p2)"
   ]
  },
  {
   "cell_type": "code",
   "execution_count": 5,
   "id": "4d01d882-93e9-4834-9e73-deb1bf9b26d4",
   "metadata": {},
   "outputs": [],
   "source": [
    "class Point:\n",
    "    def __init__(self, x, y):\n",
    "        self.x_cod = x\n",
    "        self.y_cod = y\n",
    "    def __str__(self):\n",
    "        return \"<{},{}>\".format(self.x_cod, self.y_cod)\n",
    "    def euclidean_distance(self, other):\n",
    "        x_part = (self.x_cod - other.x_cod)**2\n",
    "        y_part = (self.y_cod - other.y_cod)**2\n",
    "        result = (x_part + y_part)**0.5\n",
    "        return result"
   ]
  },
  {
   "cell_type": "code",
   "execution_count": 6,
   "id": "7d842e32-d65f-4057-8fd8-d00a943326a8",
   "metadata": {},
   "outputs": [
    {
     "data": {
      "text/plain": [
       "1.4142135623730951"
      ]
     },
     "execution_count": 6,
     "metadata": {},
     "output_type": "execute_result"
    }
   ],
   "source": [
    "p1 = Point(0, 0)\n",
    "p2 = Point(1, 1)\n",
    "p1.euclidean_distance(p2)"
   ]
  },
  {
   "cell_type": "code",
   "execution_count": 7,
   "id": "5787cdaa-4936-4065-967f-f2563b6d812f",
   "metadata": {},
   "outputs": [
    {
     "data": {
      "text/plain": [
       "14.142135623730951"
      ]
     },
     "execution_count": 7,
     "metadata": {},
     "output_type": "execute_result"
    }
   ],
   "source": [
    "p1 = Point(0, 0)\n",
    "p2 = Point(10, 10)\n",
    "p1.euclidean_distance(p2)"
   ]
  },
  {
   "cell_type": "code",
   "execution_count": 8,
   "id": "6c979160-0700-41e0-98ef-2fdadae21849",
   "metadata": {},
   "outputs": [],
   "source": [
    "class Point:\n",
    "    def __init__(self, x, y):\n",
    "        self.x_cod = x\n",
    "        self.y_cod = y\n",
    "    def __str__(self):\n",
    "        return \"<{},{}>\".format(self.x_cod, self.y_cod)\n",
    "    def euclidean_distance(self, other):\n",
    "        x_part = (self.x_cod - other.x_cod)**2\n",
    "        y_part = (self.y_cod - other.y_cod)**2\n",
    "        result = (x_part + y_part)**0.5\n",
    "        return result\n",
    "    def distance_from_origin(self):\n",
    "        # return (self.x_cod**2 + self.y_cod**2)**0.5\n",
    "        return self.euclidean_distance(Point(0,0))"
   ]
  },
  {
   "cell_type": "code",
   "execution_count": 9,
   "id": "c71c4bca-c97a-486d-a7da-eab42e6a6f6e",
   "metadata": {},
   "outputs": [
    {
     "data": {
      "text/plain": [
       "14.142135623730951"
      ]
     },
     "execution_count": 9,
     "metadata": {},
     "output_type": "execute_result"
    }
   ],
   "source": [
    "p1 = Point(10, 10)\n",
    "p1.distance_from_origin()"
   ]
  },
  {
   "cell_type": "code",
   "execution_count": 10,
   "id": "82630f1c-8a22-4b75-a418-0d74ffe19f49",
   "metadata": {},
   "outputs": [],
   "source": [
    "class Line:\n",
    "    def __init__(self, A, B, C):\n",
    "        self.A = A\n",
    "        self.B = B\n",
    "        self.C = C\n",
    "    def __str__(self):\n",
    "        return \"{}x + {}y + {} = 0\".format(self.A, self.B, self.C)"
   ]
  },
  {
   "cell_type": "code",
   "execution_count": 11,
   "id": "b18c798b-d9ee-41c9-ae91-94544bf217b0",
   "metadata": {},
   "outputs": [
    {
     "name": "stdout",
     "output_type": "stream",
     "text": [
      "3x + 4y + 5 = 0\n"
     ]
    }
   ],
   "source": [
    "l1 = Line(3, 4, 5)\n",
    "print(l1)"
   ]
  },
  {
   "cell_type": "code",
   "execution_count": 12,
   "id": "c14855e9-ac4f-413a-954f-1f8fc2b3ed60",
   "metadata": {},
   "outputs": [],
   "source": [
    "class Point:\n",
    "    def __init__(self, x, y):\n",
    "        self.x_cod = x\n",
    "        self.y_cod = y\n",
    "    def __str__(self):\n",
    "        return \"<{},{}>\".format(self.x_cod, self.y_cod)\n",
    "    def euclidean_distance(self, other):\n",
    "        x_part = (self.x_cod - other.x_cod)**2\n",
    "        y_part = (self.y_cod - other.y_cod)**2\n",
    "        result = (x_part + y_part)**0.5\n",
    "        return result\n",
    "    def distance_from_origin(self):\n",
    "        # return (self.x_cod**2 + self.y_cod**2)**0.5\n",
    "        return self.euclidean_distance(Point(0,0))\n",
    "\n",
    "class Line:\n",
    "    def __init__(self, A, B, C):\n",
    "        self.A = A\n",
    "        self.B = B\n",
    "        self.C = C\n",
    "    def __str__(self):\n",
    "        return \"{}x + {}y + {} = 0\".format(self.A, self.B, self.C)\n",
    "    def point_on_line(line, point):\n",
    "        result_of_sub = line.A*point.x_cod + line.B*point.y_cod + line.C\n",
    "        if result_of_sub == 0:\n",
    "            return \"point lies on the line\"\n",
    "        else:\n",
    "            return \"point not lies on the line\""
   ]
  },
  {
   "cell_type": "code",
   "execution_count": 13,
   "id": "c1ab87d8-86fa-42c8-b324-a43dc491e975",
   "metadata": {},
   "outputs": [
    {
     "name": "stdout",
     "output_type": "stream",
     "text": [
      "<1,1>\n",
      "1x + 1y + -2 = 0\n"
     ]
    }
   ],
   "source": [
    "p1 = Point(1, 1)\n",
    "l1 = Line(1, 1, -2)\n",
    "print(p1)\n",
    "print(l1)"
   ]
  },
  {
   "cell_type": "code",
   "execution_count": 14,
   "id": "bc3e1042-c546-4f64-bc4d-e073a0a68160",
   "metadata": {},
   "outputs": [
    {
     "data": {
      "text/plain": [
       "'point lies on the line'"
      ]
     },
     "execution_count": 14,
     "metadata": {},
     "output_type": "execute_result"
    }
   ],
   "source": [
    "l1.point_on_line(p1)"
   ]
  },
  {
   "cell_type": "code",
   "execution_count": 15,
   "id": "5b5fabf3-9b9a-4654-a1ad-e6aab2f5c729",
   "metadata": {},
   "outputs": [
    {
     "name": "stdout",
     "output_type": "stream",
     "text": [
      "<1,2>\n",
      "1x + 1y + -2 = 0\n"
     ]
    }
   ],
   "source": [
    "p2 = Point(1, 2)\n",
    "l2 = Line(1, 1, -2)\n",
    "print(p2)\n",
    "print(l2)"
   ]
  },
  {
   "cell_type": "code",
   "execution_count": 16,
   "id": "766400ad-96a8-4aa4-aa01-90ae92a3810d",
   "metadata": {},
   "outputs": [
    {
     "data": {
      "text/plain": [
       "'point not lies on the line'"
      ]
     },
     "execution_count": 16,
     "metadata": {},
     "output_type": "execute_result"
    }
   ],
   "source": [
    "l2.point_on_line(p2)"
   ]
  },
  {
   "cell_type": "code",
   "execution_count": 17,
   "id": "ae48551c-7429-4d66-bc70-6657ff5cdf61",
   "metadata": {},
   "outputs": [],
   "source": [
    "class Point:\n",
    "    def __init__(self, x, y):\n",
    "        self.x_cod = x\n",
    "        self.y_cod = y\n",
    "    def __str__(self):\n",
    "        return \"<{},{}>\".format(self.x_cod, self.y_cod)\n",
    "    def euclidean_distance(self, other):\n",
    "        x_part = (self.x_cod - other.x_cod)**2\n",
    "        y_part = (self.y_cod - other.y_cod)**2\n",
    "        result = (x_part + y_part)**0.5\n",
    "        return result\n",
    "    def distance_from_origin(self):\n",
    "        # return (self.x_cod**2 + self.y_cod**2)**0.5\n",
    "        return self.euclidean_distance(Point(0,0))\n",
    "\n",
    "class Line:\n",
    "    def __init__(self, A, B, C):\n",
    "        self.A = A\n",
    "        self.B = B\n",
    "        self.C = C\n",
    "    def __str__(self):\n",
    "        return \"{}x + {}y + {} = 0\".format(self.A, self.B, self.C)\n",
    "    def point_on_line(line, point):\n",
    "        result_of_sub = line.A*point.x_cod + line.B*point.y_cod + line.C\n",
    "        if result_of_sub == 0:\n",
    "            return \"point lies on the line\"\n",
    "        else:\n",
    "            return \"point not lies on the line\"\n",
    "    def shortest_distance(line, point):\n",
    "        distance = abs(line.A*point.x_cod + line.B*point.y_cod + line.C) / (line.A**2+line.B**2)**0.5\n",
    "        return distance"
   ]
  },
  {
   "cell_type": "code",
   "execution_count": 18,
   "id": "e092d13f-aea3-4302-88ea-4b32f17ebe73",
   "metadata": {},
   "outputs": [
    {
     "name": "stdout",
     "output_type": "stream",
     "text": [
      "<1,1>\n",
      "1x + 1y + -2 = 0\n"
     ]
    }
   ],
   "source": [
    "p1 = Point(1, 1)\n",
    "l1 = Line(1, 1, -2)\n",
    "print(p1)\n",
    "print(l1)"
   ]
  },
  {
   "cell_type": "code",
   "execution_count": 19,
   "id": "86f9cc92-8d94-4ed1-9a56-ab9697e3ab1e",
   "metadata": {},
   "outputs": [
    {
     "data": {
      "text/plain": [
       "0.0"
      ]
     },
     "execution_count": 19,
     "metadata": {},
     "output_type": "execute_result"
    }
   ],
   "source": [
    "l1.shortest_distance(p1)"
   ]
  },
  {
   "cell_type": "code",
   "execution_count": 20,
   "id": "cc6da685-893c-4348-8466-de30a80343b4",
   "metadata": {},
   "outputs": [
    {
     "name": "stdout",
     "output_type": "stream",
     "text": [
      "<1,10>\n",
      "1x + 1y + -2 = 0\n"
     ]
    }
   ],
   "source": [
    "p1 = Point(1, 10)\n",
    "l1 = Line(1, 1, -2)\n",
    "print(p1)\n",
    "print(l1)"
   ]
  },
  {
   "cell_type": "code",
   "execution_count": 21,
   "id": "aa6d648a-eebe-47cb-bb81-7ef9dec73d2b",
   "metadata": {},
   "outputs": [
    {
     "data": {
      "text/plain": [
       "6.363961030678928"
      ]
     },
     "execution_count": 21,
     "metadata": {},
     "output_type": "execute_result"
    }
   ],
   "source": [
    "l1.shortest_distance(p1)"
   ]
  },
  {
   "cell_type": "markdown",
   "id": "6804fbcb-da83-48fe-ad93-150305537efa",
   "metadata": {},
   "source": [
    "### ***How Object access attributes***"
   ]
  },
  {
   "cell_type": "code",
   "execution_count": 22,
   "id": "112f847f-1808-482f-bc44-cd4bba079b59",
   "metadata": {},
   "outputs": [],
   "source": [
    "class Person:\n",
    "    def __init__(self,  name_input, country_input):\n",
    "        self.name = name_input\n",
    "        self.country = country_input\n",
    "    def greet(self):\n",
    "        if self.country == \"india\":\n",
    "            print(\"Namaste\", self.name)\n",
    "        else:\n",
    "            print(\"Hello\", self.name)"
   ]
  },
  {
   "cell_type": "code",
   "execution_count": 23,
   "id": "a75f97ca-4738-4dce-9b22-1f3fb3411011",
   "metadata": {},
   "outputs": [],
   "source": [
    "# how to acces attributes\n",
    "p = Person(\"nitish\", \"india\")"
   ]
  },
  {
   "cell_type": "code",
   "execution_count": 24,
   "id": "cda02437-df8a-4243-9b98-f290e65756f1",
   "metadata": {},
   "outputs": [
    {
     "data": {
      "text/plain": [
       "'nitish'"
      ]
     },
     "execution_count": 24,
     "metadata": {},
     "output_type": "execute_result"
    }
   ],
   "source": [
    "p.name"
   ]
  },
  {
   "cell_type": "code",
   "execution_count": 25,
   "id": "edd503dc-80b6-465b-a1f0-04aa632c3750",
   "metadata": {},
   "outputs": [
    {
     "data": {
      "text/plain": [
       "'india'"
      ]
     },
     "execution_count": 25,
     "metadata": {},
     "output_type": "execute_result"
    }
   ],
   "source": [
    "p.country"
   ]
  },
  {
   "cell_type": "code",
   "execution_count": 26,
   "id": "718e746a-f693-4bf4-a072-8ce97f921cbe",
   "metadata": {},
   "outputs": [
    {
     "name": "stdout",
     "output_type": "stream",
     "text": [
      "Namaste nitish\n"
     ]
    }
   ],
   "source": [
    "# how to access methods\n",
    "p.greet()"
   ]
  },
  {
   "cell_type": "code",
   "execution_count": 27,
   "id": "7bb4c4fe-d013-4c6e-a440-48860ee4594f",
   "metadata": {},
   "outputs": [
    {
     "ename": "AttributeError",
     "evalue": "'Person' object has no attribute 'gender'",
     "output_type": "error",
     "traceback": [
      "\u001b[1;31m---------------------------------------------------------------------------\u001b[0m",
      "\u001b[1;31mAttributeError\u001b[0m                            Traceback (most recent call last)",
      "Cell \u001b[1;32mIn[27], line 2\u001b[0m\n\u001b[0;32m      1\u001b[0m \u001b[38;5;66;03m# what if it try to access non-existent attributes\u001b[39;00m\n\u001b[1;32m----> 2\u001b[0m p\u001b[38;5;241m.\u001b[39mgender\n",
      "\u001b[1;31mAttributeError\u001b[0m: 'Person' object has no attribute 'gender'"
     ]
    }
   ],
   "source": [
    "# what if it try to access non-existent attributes\n",
    "p.gender"
   ]
  },
  {
   "cell_type": "code",
   "execution_count": 28,
   "id": "bc4d5582-93b1-4d4b-a61d-d322fc8ea52f",
   "metadata": {},
   "outputs": [],
   "source": [
    "# Attributes creation from outside of the class\n",
    "p.gender = \"male\""
   ]
  },
  {
   "cell_type": "code",
   "execution_count": 29,
   "id": "06409093-d2e6-4036-af60-52446b4b47ec",
   "metadata": {},
   "outputs": [
    {
     "data": {
      "text/plain": [
       "'male'"
      ]
     },
     "execution_count": 29,
     "metadata": {},
     "output_type": "execute_result"
    }
   ],
   "source": [
    "p.gender"
   ]
  },
  {
   "cell_type": "markdown",
   "id": "20f4f78c-faee-4327-bac6-1bd00f74d364",
   "metadata": {},
   "source": [
    "### ***Reference variable***\n",
    "#### - Reference variables hold the objects\n",
    "#### - we can create objects without reference variable as well\n",
    "#### - An object can have multiple reference variables\n",
    "#### - Assigning a new reference variable to an existing object does not create a new object"
   ]
  },
  {
   "cell_type": "code",
   "execution_count": 30,
   "id": "f92a0470-8a3d-4edb-9e9e-4fbcc853404c",
   "metadata": {},
   "outputs": [],
   "source": [
    "# object without reference\n",
    "class Person:\n",
    "    def __init__(self):\n",
    "        self.name = \"nitish\"\n",
    "        self.gender = \"male\"\n",
    "\n",
    "# Person()\n",
    "p = Person()\n",
    "q = p"
   ]
  },
  {
   "cell_type": "code",
   "execution_count": 31,
   "id": "b0bfdfd4-7e41-4810-bf74-d49e7a4f0715",
   "metadata": {},
   "outputs": [
    {
     "name": "stdout",
     "output_type": "stream",
     "text": [
      "3115851210960\n",
      "3115851210960\n"
     ]
    }
   ],
   "source": [
    "# multiple ref\n",
    "print(id(p))\n",
    "print(id(q))"
   ]
  },
  {
   "cell_type": "code",
   "execution_count": 32,
   "id": "f309b8d0-33f3-4761-af0f-f113db7ff4b6",
   "metadata": {},
   "outputs": [
    {
     "name": "stdout",
     "output_type": "stream",
     "text": [
      "nitish\n",
      "nitish\n"
     ]
    }
   ],
   "source": [
    "# change attribute value with the help of 2nd object\n",
    "print(p.name)\n",
    "print(q.name)"
   ]
  },
  {
   "cell_type": "code",
   "execution_count": 33,
   "id": "72b74784-cf76-4b9b-8c4e-c12f93dabbb0",
   "metadata": {},
   "outputs": [
    {
     "name": "stdout",
     "output_type": "stream",
     "text": [
      "Ananth\n",
      "Ananth\n"
     ]
    }
   ],
   "source": [
    "q.name = \"Ananth\"\n",
    "print(q.name)\n",
    "print(p.name)"
   ]
  },
  {
   "cell_type": "markdown",
   "id": "3232635c-e71b-4102-a435-dc5cd77b65a2",
   "metadata": {},
   "source": [
    "### ***Pass by reference***"
   ]
  },
  {
   "cell_type": "code",
   "execution_count": 34,
   "id": "0907c09e-ce01-401a-8642-0c2ff64b26e2",
   "metadata": {},
   "outputs": [
    {
     "name": "stdout",
     "output_type": "stream",
     "text": [
      "Hi my name is nitish and Iam a male\n",
      "samantha\n",
      "female\n"
     ]
    }
   ],
   "source": [
    "class Person:\n",
    "    def __init__(self, name, gender):\n",
    "        self.name = name\n",
    "        self.gender = gender\n",
    "\n",
    "# function: becoz outside the class\n",
    "def greet(person):\n",
    "    print(\"Hi my name is\", person.name, \"and Iam a\", person.gender)\n",
    "    p1 = Person(\"samantha\", \"female\")\n",
    "    return p1\n",
    "\n",
    "p = Person(\"nitish\", \"male\")\n",
    "x = greet(p)\n",
    "print(x.name)\n",
    "print(x.gender)"
   ]
  },
  {
   "cell_type": "code",
   "execution_count": 35,
   "id": "bf99336c-04c2-4b4d-b84c-1c8beff752b8",
   "metadata": {},
   "outputs": [
    {
     "ename": "NameError",
     "evalue": "name 'P1' is not defined",
     "output_type": "error",
     "traceback": [
      "\u001b[1;31m---------------------------------------------------------------------------\u001b[0m",
      "\u001b[1;31mNameError\u001b[0m                                 Traceback (most recent call last)",
      "Cell \u001b[1;32mIn[35], line 1\u001b[0m\n\u001b[1;32m----> 1\u001b[0m P1\u001b[38;5;241m.\u001b[39mname\n",
      "\u001b[1;31mNameError\u001b[0m: name 'P1' is not defined"
     ]
    }
   ],
   "source": [
    "P1.name"
   ]
  },
  {
   "cell_type": "code",
   "execution_count": 36,
   "id": "7059d0ec-3e14-41ec-816e-61019ec411d7",
   "metadata": {},
   "outputs": [
    {
     "ename": "NameError",
     "evalue": "name 'P1' is not defined",
     "output_type": "error",
     "traceback": [
      "\u001b[1;31m---------------------------------------------------------------------------\u001b[0m",
      "\u001b[1;31mNameError\u001b[0m                                 Traceback (most recent call last)",
      "Cell \u001b[1;32mIn[36], line 1\u001b[0m\n\u001b[1;32m----> 1\u001b[0m P1\u001b[38;5;241m.\u001b[39mgender\n",
      "\u001b[1;31mNameError\u001b[0m: name 'P1' is not defined"
     ]
    }
   ],
   "source": [
    "P1.gender"
   ]
  },
  {
   "cell_type": "code",
   "execution_count": 37,
   "id": "2bac5f91-a92c-44aa-a075-3958560eea39",
   "metadata": {},
   "outputs": [
    {
     "name": "stdout",
     "output_type": "stream",
     "text": [
      "3115868275024\n",
      "3115868275024\n",
      "Hi my name is nitish and Iam a male\n"
     ]
    }
   ],
   "source": [
    "class Person:\n",
    "    def __init__(self, name, gender):\n",
    "        self.name = name\n",
    "        self.gender = gender\n",
    "\n",
    "# function: becoz outside the class\n",
    "def greet(person):\n",
    "    print(id(person))\n",
    "    print(\"Hi my name is\", person.name, \"and Iam a\", person.gender)\n",
    "\n",
    "p = Person(\"nitish\", \"male\")\n",
    "print(id(p))\n",
    "greet(p)"
   ]
  },
  {
   "cell_type": "code",
   "execution_count": 44,
   "id": "cdea572b-8bda-4ab3-86cc-b35081fc22c5",
   "metadata": {},
   "outputs": [
    {
     "name": "stdout",
     "output_type": "stream",
     "text": [
      "1996550221520\n",
      "1996550221520\n",
      "samantha\n",
      "samantha\n"
     ]
    }
   ],
   "source": [
    "class Person:\n",
    "    def __init__(self, name, gender):\n",
    "        self.name = name\n",
    "        self.gender = gender\n",
    "\n",
    "# function: becoz outside the class\n",
    "def greet(person):\n",
    "    print(id(person))\n",
    "    person.name = \"samantha\"\n",
    "    print(person.name)\n",
    "\n",
    "p = Person(\"nitish\", \"male\")\n",
    "print(id(p))\n",
    "greet(p)\n",
    "print(p.name)"
   ]
  },
  {
   "cell_type": "code",
   "execution_count": 38,
   "id": "45c83280-35d1-4f29-85ff-fd7c9a5a75b7",
   "metadata": {},
   "outputs": [
    {
     "name": "stdout",
     "output_type": "stream",
     "text": [
      "3115868532624\n",
      "3115868532624\n"
     ]
    }
   ],
   "source": [
    "# objects are mutable\n",
    "class Person:\n",
    "    def __init__(self, name, gender):\n",
    "        self.name = name\n",
    "        self.gender = gender\n",
    "\n",
    "# function: becoz outside the class\n",
    "def greet(person):\n",
    "    person.name = \"samantha\"\n",
    "    return person\n",
    "\n",
    "p = Person(\"nitish\", \"male\")\n",
    "print(id(p))\n",
    "p1 = greet(p)\n",
    "print(id(p1))"
   ]
  },
  {
   "cell_type": "markdown",
   "id": "7ed56015-2c66-411b-85b0-4f8f34560b3b",
   "metadata": {},
   "source": [
    "### ***what is Instance variable?***\n",
    "#### - It is a variable that is created inside constructor of a class\n",
    "#### -  Its value is different for different objects or not same for all objects\n",
    "### ***what we have to understand:***\n",
    "#### - It is a special kind of variable and its value depend on the object \n",
    "#### - each object of class has different instance variable value"
   ]
  },
  {
   "cell_type": "code",
   "execution_count": 43,
   "id": "da6e412b-e0f5-4aa2-be35-ec118b4d8a06",
   "metadata": {},
   "outputs": [],
   "source": [
    "# instance variable\n",
    "\n",
    "class  Person:\n",
    "    def __init__(self, name_input, country_input):\n",
    "        self.name = name_input\n",
    "        self.country = country_input\n",
    "\n",
    "p1 = Person(\"nitish\", \"india\")\n",
    "p2 = Person(\"steve\", \"australia\")"
   ]
  },
  {
   "cell_type": "code",
   "execution_count": 44,
   "id": "c954dc3f-26dc-4c90-be93-ac220d547c73",
   "metadata": {},
   "outputs": [
    {
     "name": "stdout",
     "output_type": "stream",
     "text": [
      "p1.name: nitish\n",
      "p2.name: steve\n"
     ]
    }
   ],
   "source": [
    "print(\"p1.name: {}\".format(p1.name))\n",
    "print(\"p2.name: {}\".format(p2.name))"
   ]
  },
  {
   "cell_type": "markdown",
   "id": "d67d99e9-3360-4f26-89b1-04ffce7e331a",
   "metadata": {},
   "source": [
    "### ***case1***\n",
    "#### - junior developer make changes attributes of class"
   ]
  },
  {
   "cell_type": "code",
   "execution_count": 45,
   "id": "41ebeb08-17e0-4f5b-8931-f001d1b94a09",
   "metadata": {},
   "outputs": [],
   "source": [
    "class Atm:\n",
    "    # constructor(special function) ==> superpower\n",
    "    def __init__(self):\n",
    "        self.pin = \"\"\n",
    "        self.balance = 0\n",
    "        print(\"Inside constructor\")\n",
    "        #self.menu()\n",
    "    def menu(self):\n",
    "        user_input = input(\n",
    "            \"\"\"\n",
    "            Hi how can I help you?\n",
    "            1. Press 1 to create pin\n",
    "            2. Press 2 to change pin\n",
    "            3. Press 3 to check balance\n",
    "            4. Press 4 to withdraw\n",
    "            5. Anything else to exit\n",
    "            \"\"\"\n",
    "        )\n",
    "        if user_input == \"1\":\n",
    "            # create pin\n",
    "            self.create_pin()\n",
    "        elif user_input == \"2\":\n",
    "            # change pin\n",
    "            self.change_pin()\n",
    "        elif user_input == \"3\":\n",
    "            # check balance\n",
    "            self.check_balance()\n",
    "        elif user_input == \"4\":\n",
    "            # withdraw\n",
    "            self.withdraw()\n",
    "        else:\n",
    "            # exit\n",
    "            exit()\n",
    "    def create_pin(self):\n",
    "        user_pin = input(\"Enter your pin : \")\n",
    "        self.pin = user_pin\n",
    "        \n",
    "        user_balance = int(input(\"Enter your balance : \"))\n",
    "        self.balance = user_balance\n",
    "        \n",
    "        print(\"pin created successfully!!!\")\n",
    "    \n",
    "        \n",
    "    def change_pin(self):\n",
    "        old_pin = input(\"Enter old pin : \")\n",
    "        if old_pin == self.pin:\n",
    "            # let him change the pin\n",
    "            new_pin = input(\"Enter new pin : \")\n",
    "            self.pin = new_pin\n",
    "            print(\"Pin changed successfully\")\n",
    "            \n",
    "        else:\n",
    "            print(\"Please Enter valid pin\")\n",
    "            \n",
    "    def check_balance(self):\n",
    "        user_pin = input(\"enter your pin\")\n",
    "        if user_pin == self.pin:\n",
    "            print(\"your balance is\", self.balance)\n",
    "        else:\n",
    "            print(\"Please Enter valid pin\")\n",
    "    def withdraw(self):\n",
    "        user_pin = input(\"enter your pin\")\n",
    "        if user_pin == self.pin:\n",
    "            user_amount = int(input(\"enter amount to deduct : \"))\n",
    "            if self.balance >= user_amount:\n",
    "                self.balance -= user_amount\n",
    "                print(\"Amount debited successfully\", user_amount)\n",
    "            else:\n",
    "                print(\"Amount is Insufficient to withdraw\")\n",
    "        else:\n",
    "            print(\"Please Enter valid pin\")"
   ]
  },
  {
   "cell_type": "code",
   "execution_count": 46,
   "id": "bdc69f4f-faa2-461b-b033-027176bef042",
   "metadata": {},
   "outputs": [
    {
     "name": "stdout",
     "output_type": "stream",
     "text": [
      "Inside constructor\n"
     ]
    }
   ],
   "source": [
    "obj = Atm()"
   ]
  },
  {
   "cell_type": "code",
   "execution_count": 47,
   "id": "3ab52230-4333-4767-9b30-03432c97e169",
   "metadata": {},
   "outputs": [
    {
     "name": "stdin",
     "output_type": "stream",
     "text": [
      "Enter your pin :  1234\n",
      "Enter your balance :  10000\n"
     ]
    },
    {
     "name": "stdout",
     "output_type": "stream",
     "text": [
      "pin created successfully!!!\n"
     ]
    }
   ],
   "source": [
    "obj.create_pin()\n",
    "obj.balance = \"hehehe\""
   ]
  },
  {
   "cell_type": "code",
   "execution_count": 48,
   "id": "cb967623-0447-4cc6-a122-27e5fad927c9",
   "metadata": {},
   "outputs": [
    {
     "name": "stdin",
     "output_type": "stream",
     "text": [
      "enter your pin 1234\n",
      "enter amount to deduct :  5000\n"
     ]
    },
    {
     "ename": "TypeError",
     "evalue": "'>=' not supported between instances of 'str' and 'int'",
     "output_type": "error",
     "traceback": [
      "\u001b[1;31m---------------------------------------------------------------------------\u001b[0m",
      "\u001b[1;31mTypeError\u001b[0m                                 Traceback (most recent call last)",
      "Cell \u001b[1;32mIn[48], line 1\u001b[0m\n\u001b[1;32m----> 1\u001b[0m obj\u001b[38;5;241m.\u001b[39mwithdraw()\n",
      "Cell \u001b[1;32mIn[45], line 65\u001b[0m, in \u001b[0;36mAtm.withdraw\u001b[1;34m(self)\u001b[0m\n\u001b[0;32m     63\u001b[0m \u001b[38;5;28;01mif\u001b[39;00m user_pin \u001b[38;5;241m==\u001b[39m \u001b[38;5;28mself\u001b[39m\u001b[38;5;241m.\u001b[39mpin:\n\u001b[0;32m     64\u001b[0m     user_amount \u001b[38;5;241m=\u001b[39m \u001b[38;5;28mint\u001b[39m(\u001b[38;5;28minput\u001b[39m(\u001b[38;5;124m\"\u001b[39m\u001b[38;5;124menter amount to deduct : \u001b[39m\u001b[38;5;124m\"\u001b[39m))\n\u001b[1;32m---> 65\u001b[0m     \u001b[38;5;28;01mif\u001b[39;00m \u001b[38;5;28mself\u001b[39m\u001b[38;5;241m.\u001b[39mbalance \u001b[38;5;241m>\u001b[39m\u001b[38;5;241m=\u001b[39m user_amount:\n\u001b[0;32m     66\u001b[0m         \u001b[38;5;28mself\u001b[39m\u001b[38;5;241m.\u001b[39mbalance \u001b[38;5;241m-\u001b[39m\u001b[38;5;241m=\u001b[39m user_amount\n\u001b[0;32m     67\u001b[0m         \u001b[38;5;28mprint\u001b[39m(\u001b[38;5;124m\"\u001b[39m\u001b[38;5;124mAmount debited successfully\u001b[39m\u001b[38;5;124m\"\u001b[39m, user_amount)\n",
      "\u001b[1;31mTypeError\u001b[0m: '>=' not supported between instances of 'str' and 'int'"
     ]
    }
   ],
   "source": [
    "obj.withdraw()"
   ]
  },
  {
   "cell_type": "markdown",
   "id": "19f09d1c-c9d4-4c18-8fe4-7a4d3beb506d",
   "metadata": {},
   "source": [
    "### ***case2***\n",
    "#### - senior developer finds out reason and makes attributes as private \n",
    "#### - junior developer cannot make change of attributes of class\n",
    "\n",
    "### ***what is private variable?***\r",
    "#### - variable is created with double underscore before it\n",
    "#### - It cannot be accessed outside of the class\n",
    "#### - once we make private variable, It change its form to _classname__variable\n",
    "#### - So, others cannot access it outside of class\n",
    "#### - But, If there was a scenario we have to access the private variable\n",
    "#### - Now, we have to use the methods of class(getter and setter) to access it outside of class and also to update it from outside of class\r\n"
   ]
  },
  {
   "cell_type": "code",
   "execution_count": 49,
   "id": "c4186582-6d20-4a8c-9027-e62388ce3153",
   "metadata": {},
   "outputs": [],
   "source": [
    "# Introducing private variables \n",
    "class Atm:\n",
    "    # constructor(special function) ==> superpower\n",
    "    def __init__(self):\n",
    "        self.pin = \"\"\n",
    "        self.__balance = 0\n",
    "        print(\"Inside constructor\")\n",
    "        #self.menu()\n",
    "    def menu(self):\n",
    "        user_input = input(\n",
    "            \"\"\"\n",
    "            Hi how can I help you?\n",
    "            1. Press 1 to create pin\n",
    "            2. Press 2 to change pin\n",
    "            3. Press 3 to check balance\n",
    "            4. Press 4 to withdraw\n",
    "            5. Anything else to exit\n",
    "            \"\"\"\n",
    "        )\n",
    "        if user_input == \"1\":\n",
    "            # create pin\n",
    "            self.create_pin()\n",
    "        elif user_input == \"2\":\n",
    "            # change pin\n",
    "            self.change_pin()\n",
    "        elif user_input == \"3\":\n",
    "            # check balance\n",
    "            self.check_balance()\n",
    "        elif user_input == \"4\":\n",
    "            # withdraw\n",
    "            self.withdraw()\n",
    "        else:\n",
    "            # exit\n",
    "            exit()\n",
    "    def create_pin(self):\n",
    "        user_pin = input(\"Enter your pin : \")\n",
    "        self.pin = user_pin\n",
    "        \n",
    "        user_balance = int(input(\"Enter your balance : \"))\n",
    "        self.__balance = user_balance\n",
    "        \n",
    "        print(\"pin created successfully!!!\")\n",
    "    \n",
    "        \n",
    "    def change_pin(self):\n",
    "        old_pin = input(\"Enter old pin : \")\n",
    "        if old_pin == self.pin:\n",
    "            # let him change the pin\n",
    "            new_pin = input(\"Enter new pin : \")\n",
    "            self.pin = new_pin\n",
    "            print(\"Pin changed successfully\")\n",
    "            \n",
    "        else:\n",
    "            print(\"Please Enter valid pin\")\n",
    "            \n",
    "    def check_balance(self):\n",
    "        user_pin = input(\"enter your pin\")\n",
    "        if user_pin == self.pin:\n",
    "            print(\"your balance is\", self.__balance)\n",
    "        else:\n",
    "            print(\"Please Enter valid pin\")\n",
    "    def withdraw(self):\n",
    "        user_pin = input(\"enter your pin\")\n",
    "        if user_pin == self.pin:\n",
    "            user_amount = int(input(\"enter amount to deduct : \"))\n",
    "            if self.__balance >= user_amount:\n",
    "                self.__balance -= user_amount\n",
    "                print(\"Amount debited successfully\", user_amount)\n",
    "            else:\n",
    "                print(\"Amount is Insufficient to withdraw\")\n",
    "        else:\n",
    "            print(\"Please Enter valid pin\")\n",
    "        "
   ]
  },
  {
   "cell_type": "code",
   "execution_count": 50,
   "id": "e3d602c6-98f0-4e4d-9d2e-c6cad3c6ddc3",
   "metadata": {},
   "outputs": [
    {
     "name": "stdout",
     "output_type": "stream",
     "text": [
      "Inside constructor\n"
     ]
    }
   ],
   "source": [
    "obj = Atm()"
   ]
  },
  {
   "cell_type": "code",
   "execution_count": 51,
   "id": "9ece3f5f-d7d9-4d7e-8265-37a77f54af78",
   "metadata": {},
   "outputs": [
    {
     "name": "stdin",
     "output_type": "stream",
     "text": [
      "Enter your pin :  1234\n",
      "Enter your balance :  10000\n"
     ]
    },
    {
     "name": "stdout",
     "output_type": "stream",
     "text": [
      "pin created successfully!!!\n"
     ]
    }
   ],
   "source": [
    "obj.create_pin()\n",
    "obj.__balance = \"hehehe\""
   ]
  },
  {
   "cell_type": "code",
   "execution_count": 52,
   "id": "5b45eac1-0286-447b-9b2b-c7ee58a4f7c2",
   "metadata": {},
   "outputs": [
    {
     "name": "stdin",
     "output_type": "stream",
     "text": [
      "enter your pin 1234\n",
      "enter amount to deduct :  5000\n"
     ]
    },
    {
     "name": "stdout",
     "output_type": "stream",
     "text": [
      "Amount debited successfully 5000\n"
     ]
    }
   ],
   "source": [
    "obj.withdraw()"
   ]
  },
  {
   "cell_type": "markdown",
   "id": "7c5a2d27-7f76-49d7-b320-21657acd5a52",
   "metadata": {},
   "source": [
    "### ***points noticed***\n",
    "#### - If we make the variables as private variable inside class, immediately changes it form `__variablename` to `_classname__varaibalename`\n",
    "#### - If we try to update the private variable value from oustide of class. It instead of updating it create a new variable inside class i.e `__variablename`"
   ]
  },
  {
   "cell_type": "markdown",
   "id": "97f959a3-204d-4f3e-ae9c-64a0dc08f44f",
   "metadata": {},
   "source": [
    "### ***case3***\n",
    "#### - senior developer finds out reason and makes attributes as private \n",
    "#### - junior developer cannot make change of attributes of class\n",
    "#### - Junior developer finds reason for not change of attribute and make change of attribute using `_classname__objectname = value`\n",
    "### ***why private attribute value can be changed?***\n",
    "#### - python is not truely private because it was developed for adults"
   ]
  },
  {
   "cell_type": "code",
   "execution_count": 53,
   "id": "53c3c0ac-b967-4be6-9cce-0f8d43fc0320",
   "metadata": {},
   "outputs": [],
   "source": [
    "# Introducing private variables \n",
    "class Atm:\n",
    "    # constructor(special function) ==> superpower\n",
    "    def __init__(self):\n",
    "        self.pin = \"\"\n",
    "        self.__balance = 0\n",
    "        print(\"Inside constructor\")\n",
    "        #self.menu()\n",
    "    def menu(self):\n",
    "        user_input = input(\n",
    "            \"\"\"\n",
    "            Hi how can I help you?\n",
    "            1. Press 1 to create pin\n",
    "            2. Press 2 to change pin\n",
    "            3. Press 3 to check balance\n",
    "            4. Press 4 to withdraw\n",
    "            5. Anything else to exit\n",
    "            \"\"\"\n",
    "        )\n",
    "        if user_input == \"1\":\n",
    "            # create pin\n",
    "            self.create_pin()\n",
    "        elif user_input == \"2\":\n",
    "            # change pin\n",
    "            self.change_pin()\n",
    "        elif user_input == \"3\":\n",
    "            # check balance\n",
    "            self.check_balance()\n",
    "        elif user_input == \"4\":\n",
    "            # withdraw\n",
    "            self.withdraw()\n",
    "        else:\n",
    "            # exit\n",
    "            exit()\n",
    "    def create_pin(self):\n",
    "        user_pin = input(\"Enter your pin : \")\n",
    "        self.pin = user_pin\n",
    "        \n",
    "        user_balance = int(input(\"Enter your balance : \"))\n",
    "        self.__balance = user_balance\n",
    "        \n",
    "        print(\"pin created successfully!!!\")\n",
    "    \n",
    "        \n",
    "    def change_pin(self):\n",
    "        old_pin = input(\"Enter old pin : \")\n",
    "        if old_pin == self.pin:\n",
    "            # let him change the pin\n",
    "            new_pin = input(\"Enter new pin : \")\n",
    "            self.pin = new_pin\n",
    "            print(\"Pin changed successfully\")\n",
    "            \n",
    "        else:\n",
    "            print(\"Please Enter valid pin\")\n",
    "            \n",
    "    def check_balance(self):\n",
    "        user_pin = input(\"enter your pin\")\n",
    "        if user_pin == self.pin:\n",
    "            print(\"your balance is\", self.__balance)\n",
    "        else:\n",
    "            print(\"Please Enter valid pin\")\n",
    "    def withdraw(self):\n",
    "        user_pin = input(\"enter your pin\")\n",
    "        if user_pin == self.pin:\n",
    "            user_amount = int(input(\"enter amount to deduct : \"))\n",
    "            if self.__balance >= user_amount:\n",
    "                self.__balance -= user_amount\n",
    "                print(\"Amount debited successfully\", user_amount)\n",
    "            else:\n",
    "                print(\"Amount is Insufficient to withdraw\")\n",
    "        else:\n",
    "            print(\"Please Enter valid pin\")\n",
    "        "
   ]
  },
  {
   "cell_type": "code",
   "execution_count": 54,
   "id": "873d3f7e-8020-4f37-9327-d8cac35a1b62",
   "metadata": {},
   "outputs": [
    {
     "name": "stdout",
     "output_type": "stream",
     "text": [
      "Inside constructor\n"
     ]
    }
   ],
   "source": [
    "obj = Atm()"
   ]
  },
  {
   "cell_type": "code",
   "execution_count": 55,
   "id": "51c465be-b59b-47f8-9915-517bfb3253da",
   "metadata": {},
   "outputs": [
    {
     "name": "stdin",
     "output_type": "stream",
     "text": [
      "Enter your pin :  1234\n",
      "Enter your balance :  10000\n"
     ]
    },
    {
     "name": "stdout",
     "output_type": "stream",
     "text": [
      "pin created successfully!!!\n"
     ]
    }
   ],
   "source": [
    "obj.create_pin()\n",
    "obj._Atm__balance = \"hehehe\""
   ]
  },
  {
   "cell_type": "code",
   "execution_count": 56,
   "id": "c38fbca2-aef2-4eeb-84df-94123ebcb458",
   "metadata": {},
   "outputs": [
    {
     "name": "stdin",
     "output_type": "stream",
     "text": [
      "enter your pin 1234\n",
      "enter amount to deduct :  5000\n"
     ]
    },
    {
     "ename": "TypeError",
     "evalue": "'>=' not supported between instances of 'str' and 'int'",
     "output_type": "error",
     "traceback": [
      "\u001b[1;31m---------------------------------------------------------------------------\u001b[0m",
      "\u001b[1;31mTypeError\u001b[0m                                 Traceback (most recent call last)",
      "Cell \u001b[1;32mIn[56], line 1\u001b[0m\n\u001b[1;32m----> 1\u001b[0m obj\u001b[38;5;241m.\u001b[39mwithdraw()\n",
      "Cell \u001b[1;32mIn[53], line 66\u001b[0m, in \u001b[0;36mAtm.withdraw\u001b[1;34m(self)\u001b[0m\n\u001b[0;32m     64\u001b[0m \u001b[38;5;28;01mif\u001b[39;00m user_pin \u001b[38;5;241m==\u001b[39m \u001b[38;5;28mself\u001b[39m\u001b[38;5;241m.\u001b[39mpin:\n\u001b[0;32m     65\u001b[0m     user_amount \u001b[38;5;241m=\u001b[39m \u001b[38;5;28mint\u001b[39m(\u001b[38;5;28minput\u001b[39m(\u001b[38;5;124m\"\u001b[39m\u001b[38;5;124menter amount to deduct : \u001b[39m\u001b[38;5;124m\"\u001b[39m))\n\u001b[1;32m---> 66\u001b[0m     \u001b[38;5;28;01mif\u001b[39;00m \u001b[38;5;28mself\u001b[39m\u001b[38;5;241m.\u001b[39m__balance \u001b[38;5;241m>\u001b[39m\u001b[38;5;241m=\u001b[39m user_amount:\n\u001b[0;32m     67\u001b[0m         \u001b[38;5;28mself\u001b[39m\u001b[38;5;241m.\u001b[39m__balance \u001b[38;5;241m-\u001b[39m\u001b[38;5;241m=\u001b[39m user_amount\n\u001b[0;32m     68\u001b[0m         \u001b[38;5;28mprint\u001b[39m(\u001b[38;5;124m\"\u001b[39m\u001b[38;5;124mAmount debited successfully\u001b[39m\u001b[38;5;124m\"\u001b[39m, user_amount)\n",
      "\u001b[1;31mTypeError\u001b[0m: '>=' not supported between instances of 'str' and 'int'"
     ]
    }
   ],
   "source": [
    "obj.withdraw()"
   ]
  },
  {
   "cell_type": "markdown",
   "id": "ebce29d7-c7d8-447d-b15d-6bd866316f97",
   "metadata": {},
   "source": [
    "### ***case4***\n",
    "#### - senior develop wants to make attributes as private and also has to provide protected access of attribute\n",
    "#### - we use getter method and setter method"
   ]
  },
  {
   "cell_type": "code",
   "execution_count": 57,
   "id": "cc9219de-4a30-42ab-b665-409a36ff2ae3",
   "metadata": {},
   "outputs": [],
   "source": [
    "# Introducing private variables \n",
    "class Atm:\n",
    "    # constructor(special function) ==> superpower\n",
    "    def __init__(self):\n",
    "        self.pin = \"\"\n",
    "        self.__balance = 0\n",
    "        print(\"Inside constructor\")\n",
    "        #self.menu()\n",
    "\n",
    "    def get_balance(self):\n",
    "        return self.__balance\n",
    "\n",
    "    def set_balance(self, new_value):\n",
    "        self.__balance = new_value\n",
    "        \n",
    "    def menu(self):\n",
    "        user_input = input(\n",
    "            \"\"\"\n",
    "            Hi how can I help you?\n",
    "            1. Press 1 to create pin\n",
    "            2. Press 2 to change pin\n",
    "            3. Press 3 to check balance\n",
    "            4. Press 4 to withdraw\n",
    "            5. Anything else to exit\n",
    "            \"\"\"\n",
    "        )\n",
    "        if user_input == \"1\":\n",
    "            # create pin\n",
    "            self.create_pin()\n",
    "        elif user_input == \"2\":\n",
    "            # change pin\n",
    "            self.change_pin()\n",
    "        elif user_input == \"3\":\n",
    "            # check balance\n",
    "            self.check_balance()\n",
    "        elif user_input == \"4\":\n",
    "            # withdraw\n",
    "            self.withdraw()\n",
    "        else:\n",
    "            # exit\n",
    "            exit()\n",
    "    def create_pin(self):\n",
    "        user_pin = input(\"Enter your pin : \")\n",
    "        self.pin = user_pin\n",
    "        \n",
    "        user_balance = int(input(\"Enter your balance : \"))\n",
    "        self.__balance = user_balance\n",
    "        \n",
    "        print(\"pin created successfully!!!\")\n",
    "    \n",
    "        \n",
    "    def change_pin(self):\n",
    "        old_pin = input(\"Enter old pin : \")\n",
    "        if old_pin == self.pin:\n",
    "            # let him change the pin\n",
    "            new_pin = input(\"Enter new pin : \")\n",
    "            self.pin = new_pin\n",
    "            print(\"Pin changed successfully\")\n",
    "            \n",
    "        else:\n",
    "            print(\"Please Enter valid pin\")\n",
    "            \n",
    "    def check_balance(self):\n",
    "        user_pin = input(\"enter your pin\")\n",
    "        if user_pin == self.pin:\n",
    "            print(\"your balance is\", self.__balance)\n",
    "        else:\n",
    "            print(\"Please Enter valid pin\")\n",
    "    def withdraw(self):\n",
    "        user_pin = input(\"enter your pin\")\n",
    "        if user_pin == self.pin:\n",
    "            user_amount = int(input(\"enter amount to deduct : \"))\n",
    "            if self.__balance >= user_amount:\n",
    "                self.__balance -= user_amount\n",
    "                print(\"Amount debited successfully\", user_amount)\n",
    "            else:\n",
    "                print(\"Amount is Insufficient to withdraw\")\n",
    "        else:\n",
    "            print(\"Please Enter valid pin\")\n",
    "        "
   ]
  },
  {
   "cell_type": "markdown",
   "id": "bbafe612-1d9b-4c6c-a3d8-852f1321771c",
   "metadata": {},
   "source": [
    "### ***points noticed***\n",
    "#### - In some cases, there is a need to return private variable to outside class and also need to change the value of private variable present inside the class from outside of class\n",
    "#### - Here, we had a concept of getter and setter appear infornt of us\n",
    "#### getter: to return private variable to outside class\n",
    "#### setter: to change the value of private variable inside the class from outside of class"
   ]
  },
  {
   "cell_type": "code",
   "execution_count": 58,
   "id": "fa1ab42d-f86b-4302-9049-74f0d0e016b5",
   "metadata": {},
   "outputs": [
    {
     "name": "stdout",
     "output_type": "stream",
     "text": [
      "Inside constructor\n"
     ]
    }
   ],
   "source": [
    "obj = Atm()"
   ]
  },
  {
   "cell_type": "code",
   "execution_count": 59,
   "id": "da8d7d8e-5357-4042-80eb-8ef166ebbd0c",
   "metadata": {},
   "outputs": [
    {
     "data": {
      "text/plain": [
       "0"
      ]
     },
     "execution_count": 59,
     "metadata": {},
     "output_type": "execute_result"
    }
   ],
   "source": [
    "obj.get_balance()"
   ]
  },
  {
   "cell_type": "code",
   "execution_count": 60,
   "id": "5d18276b-6746-4816-88c4-cde6e52df79e",
   "metadata": {},
   "outputs": [],
   "source": [
    "obj.set_balance(1000)"
   ]
  },
  {
   "cell_type": "code",
   "execution_count": 61,
   "id": "d14fc946-121e-4932-abe6-43dba30bb8af",
   "metadata": {},
   "outputs": [
    {
     "data": {
      "text/plain": [
       "1000"
      ]
     },
     "execution_count": 61,
     "metadata": {},
     "output_type": "execute_result"
    }
   ],
   "source": [
    "obj.get_balance()"
   ]
  },
  {
   "cell_type": "markdown",
   "id": "12782842-39a8-44a5-b623-2c6aa0984c36",
   "metadata": {},
   "source": [
    "### ***case5***\n",
    "#### - private variable was updated to incorrect format"
   ]
  },
  {
   "cell_type": "code",
   "execution_count": 62,
   "id": "984abfa6-7210-4a60-8009-fdd30f0a43f2",
   "metadata": {},
   "outputs": [],
   "source": [
    "# Introducing private variables \n",
    "class Atm:\n",
    "    # constructor(special function) ==> superpower\n",
    "    def __init__(self):\n",
    "        self.pin = \"\"\n",
    "        self.__balance = 0\n",
    "        print(\"Inside constructor\")\n",
    "        #self.menu()\n",
    "\n",
    "    def get_balance(self):\n",
    "        return self.__balance\n",
    "\n",
    "    def set_balance(self, new_value):\n",
    "        self.__balance = new_value\n",
    "        \n",
    "    def menu(self):\n",
    "        user_input = input(\n",
    "            \"\"\"\n",
    "            Hi how can I help you?\n",
    "            1. Press 1 to create pin\n",
    "            2. Press 2 to change pin\n",
    "            3. Press 3 to check balance\n",
    "            4. Press 4 to withdraw\n",
    "            5. Anything else to exit\n",
    "            \"\"\"\n",
    "        )\n",
    "        if user_input == \"1\":\n",
    "            # create pin\n",
    "            self.create_pin()\n",
    "        elif user_input == \"2\":\n",
    "            # change pin\n",
    "            self.change_pin()\n",
    "        elif user_input == \"3\":\n",
    "            # check balance\n",
    "            self.check_balance()\n",
    "        elif user_input == \"4\":\n",
    "            # withdraw\n",
    "            self.withdraw()\n",
    "        else:\n",
    "            # exit\n",
    "            exit()\n",
    "    def create_pin(self):\n",
    "        user_pin = input(\"Enter your pin : \")\n",
    "        self.pin = user_pin\n",
    "        \n",
    "        user_balance = int(input(\"Enter your balance : \"))\n",
    "        self.__balance = user_balance\n",
    "        \n",
    "        print(\"pin created successfully!!!\")\n",
    "    \n",
    "        \n",
    "    def change_pin(self):\n",
    "        old_pin = input(\"Enter old pin : \")\n",
    "        if old_pin == self.pin:\n",
    "            # let him change the pin\n",
    "            new_pin = input(\"Enter new pin : \")\n",
    "            self.pin = new_pin\n",
    "            print(\"Pin changed successfully\")\n",
    "            \n",
    "        else:\n",
    "            print(\"Please Enter valid pin\")\n",
    "            \n",
    "    def check_balance(self):\n",
    "        user_pin = input(\"enter your pin\")\n",
    "        if user_pin == self.pin:\n",
    "            print(\"your balance is\", self.__balance)\n",
    "        else:\n",
    "            print(\"Please Enter valid pin\")\n",
    "    def withdraw(self):\n",
    "        user_pin = input(\"enter your pin\")\n",
    "        if user_pin == self.pin:\n",
    "            user_amount = int(input(\"enter amount to deduct : \"))\n",
    "            if self.__balance >= user_amount:\n",
    "                self.__balance -= user_amount\n",
    "                print(\"Amount debited successfully\", user_amount)\n",
    "            else:\n",
    "                print(\"Amount is Insufficient to withdraw\")\n",
    "        else:\n",
    "            print(\"Please Enter valid pin\")"
   ]
  },
  {
   "cell_type": "code",
   "execution_count": 63,
   "id": "88e1240f-8034-444d-a4fc-6168614ee0c8",
   "metadata": {},
   "outputs": [
    {
     "name": "stdout",
     "output_type": "stream",
     "text": [
      "Inside constructor\n"
     ]
    }
   ],
   "source": [
    "obj = Atm()"
   ]
  },
  {
   "cell_type": "code",
   "execution_count": 64,
   "id": "0226e6d2-2e20-40e9-a784-a83c73211009",
   "metadata": {},
   "outputs": [
    {
     "name": "stdin",
     "output_type": "stream",
     "text": [
      "Enter your pin :  1234\n",
      "Enter your balance :  10000\n"
     ]
    },
    {
     "name": "stdout",
     "output_type": "stream",
     "text": [
      "pin created successfully!!!\n"
     ]
    }
   ],
   "source": [
    "obj.create_pin()"
   ]
  },
  {
   "cell_type": "code",
   "execution_count": 65,
   "id": "c3676e5d-dbb7-4128-9e9c-b12e8af2b22a",
   "metadata": {},
   "outputs": [
    {
     "data": {
      "text/plain": [
       "10000"
      ]
     },
     "execution_count": 65,
     "metadata": {},
     "output_type": "execute_result"
    }
   ],
   "source": [
    "obj.get_balance()"
   ]
  },
  {
   "cell_type": "code",
   "execution_count": 66,
   "id": "ba1ce4ce-eb6c-4bf1-88e3-d555b804ec2c",
   "metadata": {},
   "outputs": [],
   "source": [
    "obj.set_balance(\"hehehe\")"
   ]
  },
  {
   "cell_type": "code",
   "execution_count": 67,
   "id": "0ebd9182-e640-49bf-b4ab-cafd0713a16f",
   "metadata": {},
   "outputs": [
    {
     "name": "stdin",
     "output_type": "stream",
     "text": [
      "enter your pin 1234\n",
      "enter amount to deduct :  500\n"
     ]
    },
    {
     "ename": "TypeError",
     "evalue": "'>=' not supported between instances of 'str' and 'int'",
     "output_type": "error",
     "traceback": [
      "\u001b[1;31m---------------------------------------------------------------------------\u001b[0m",
      "\u001b[1;31mTypeError\u001b[0m                                 Traceback (most recent call last)",
      "Cell \u001b[1;32mIn[67], line 1\u001b[0m\n\u001b[1;32m----> 1\u001b[0m obj\u001b[38;5;241m.\u001b[39mwithdraw()\n",
      "Cell \u001b[1;32mIn[62], line 73\u001b[0m, in \u001b[0;36mAtm.withdraw\u001b[1;34m(self)\u001b[0m\n\u001b[0;32m     71\u001b[0m \u001b[38;5;28;01mif\u001b[39;00m user_pin \u001b[38;5;241m==\u001b[39m \u001b[38;5;28mself\u001b[39m\u001b[38;5;241m.\u001b[39mpin:\n\u001b[0;32m     72\u001b[0m     user_amount \u001b[38;5;241m=\u001b[39m \u001b[38;5;28mint\u001b[39m(\u001b[38;5;28minput\u001b[39m(\u001b[38;5;124m\"\u001b[39m\u001b[38;5;124menter amount to deduct : \u001b[39m\u001b[38;5;124m\"\u001b[39m))\n\u001b[1;32m---> 73\u001b[0m     \u001b[38;5;28;01mif\u001b[39;00m \u001b[38;5;28mself\u001b[39m\u001b[38;5;241m.\u001b[39m__balance \u001b[38;5;241m>\u001b[39m\u001b[38;5;241m=\u001b[39m user_amount:\n\u001b[0;32m     74\u001b[0m         \u001b[38;5;28mself\u001b[39m\u001b[38;5;241m.\u001b[39m__balance \u001b[38;5;241m-\u001b[39m\u001b[38;5;241m=\u001b[39m user_amount\n\u001b[0;32m     75\u001b[0m         \u001b[38;5;28mprint\u001b[39m(\u001b[38;5;124m\"\u001b[39m\u001b[38;5;124mAmount debited successfully\u001b[39m\u001b[38;5;124m\"\u001b[39m, user_amount)\n",
      "\u001b[1;31mTypeError\u001b[0m: '>=' not supported between instances of 'str' and 'int'"
     ]
    }
   ],
   "source": [
    "obj.withdraw()"
   ]
  },
  {
   "cell_type": "markdown",
   "id": "893f90ba-01bb-46d7-818f-e27bf88ed7b0",
   "metadata": {},
   "source": [
    "### ***case6***\n",
    "#### - private variable was updated to correct format"
   ]
  },
  {
   "cell_type": "code",
   "execution_count": 68,
   "id": "71f26502-304f-4aa1-bb5e-56ff4164f5d8",
   "metadata": {},
   "outputs": [],
   "source": [
    "# Introducing private variables \n",
    "class Atm:\n",
    "    # constructor(special function) ==> superpower\n",
    "    def __init__(self):\n",
    "        self.pin = \"\"\n",
    "        self.__balance = 0\n",
    "        print(\"Inside constructor\")\n",
    "        #self.menu()\n",
    "\n",
    "    def get_balance(self):\n",
    "        return self.__balance\n",
    "\n",
    "    def set_balance(self, new_value):\n",
    "        if type(new_value) == int:\n",
    "            self.__balance = new_value\n",
    "        else:\n",
    "            print(\"I will kill you. Enter correclty\")\n",
    "        \n",
    "    def menu(self):\n",
    "        user_input = input(\n",
    "            \"\"\"\n",
    "            Hi how can I help you?\n",
    "            1. Press 1 to create pin\n",
    "            2. Press 2 to change pin\n",
    "            3. Press 3 to check balance\n",
    "            4. Press 4 to withdraw\n",
    "            5. Anything else to exit\n",
    "            \"\"\"\n",
    "        )\n",
    "        if user_input == \"1\":\n",
    "            # create pin\n",
    "            self.create_pin()\n",
    "        elif user_input == \"2\":\n",
    "            # change pin\n",
    "            self.change_pin()\n",
    "        elif user_input == \"3\":\n",
    "            # check balance\n",
    "            self.check_balance()\n",
    "        elif user_input == \"4\":\n",
    "            # withdraw\n",
    "            self.withdraw()\n",
    "        else:\n",
    "            # exit\n",
    "            exit()\n",
    "    def create_pin(self):\n",
    "        user_pin = input(\"Enter your pin : \")\n",
    "        self.pin = user_pin\n",
    "        \n",
    "        user_balance = int(input(\"Enter your balance : \"))\n",
    "        self.__balance = user_balance\n",
    "        \n",
    "        print(\"pin created successfully!!!\")\n",
    "    \n",
    "        \n",
    "    def change_pin(self):\n",
    "        old_pin = input(\"Enter old pin : \")\n",
    "        if old_pin == self.pin:\n",
    "            # let him change the pin\n",
    "            new_pin = input(\"Enter new pin : \")\n",
    "            self.pin = new_pin\n",
    "            print(\"Pin changed successfully\")\n",
    "            \n",
    "        else:\n",
    "            print(\"Please Enter valid pin\")\n",
    "            \n",
    "    def check_balance(self):\n",
    "        user_pin = input(\"enter your pin\")\n",
    "        if user_pin == self.pin:\n",
    "            print(\"your balance is\", self.__balance)\n",
    "        else:\n",
    "            print(\"Please Enter valid pin\")\n",
    "    def withdraw(self):\n",
    "        user_pin = input(\"enter your pin\")\n",
    "        if user_pin == self.pin:\n",
    "            user_amount = int(input(\"enter amount to deduct : \"))\n",
    "            if self.__balance >= user_amount:\n",
    "                self.__balance -= user_amount\n",
    "                print(\"Amount debited successfully\", user_amount)\n",
    "            else:\n",
    "                print(\"Amount is Insufficient to withdraw\")\n",
    "        else:\n",
    "            print(\"Please Enter valid pin\")"
   ]
  },
  {
   "cell_type": "code",
   "execution_count": 69,
   "id": "7c06a787-d9e6-46fe-88ed-6c4fea22b71d",
   "metadata": {},
   "outputs": [
    {
     "name": "stdout",
     "output_type": "stream",
     "text": [
      "Inside constructor\n"
     ]
    }
   ],
   "source": [
    "obj = Atm()"
   ]
  },
  {
   "cell_type": "code",
   "execution_count": 70,
   "id": "1bff246d-7cbf-4230-9f79-017fb088b04d",
   "metadata": {},
   "outputs": [
    {
     "name": "stdin",
     "output_type": "stream",
     "text": [
      "Enter your pin :  1234\n",
      "Enter your balance :  10000\n"
     ]
    },
    {
     "name": "stdout",
     "output_type": "stream",
     "text": [
      "pin created successfully!!!\n"
     ]
    }
   ],
   "source": [
    "obj.create_pin()"
   ]
  },
  {
   "cell_type": "code",
   "execution_count": 71,
   "id": "b4a47b96-2907-4619-89d2-afe0135e7696",
   "metadata": {},
   "outputs": [
    {
     "data": {
      "text/plain": [
       "10000"
      ]
     },
     "execution_count": 71,
     "metadata": {},
     "output_type": "execute_result"
    }
   ],
   "source": [
    "obj.get_balance()"
   ]
  },
  {
   "cell_type": "code",
   "execution_count": 72,
   "id": "bc9e4af7-dbd1-4bf5-8767-e0b28df22507",
   "metadata": {},
   "outputs": [
    {
     "name": "stdout",
     "output_type": "stream",
     "text": [
      "I will kill you. Enter correclty\n"
     ]
    }
   ],
   "source": [
    "obj.set_balance(\"hehehe\")"
   ]
  },
  {
   "cell_type": "code",
   "execution_count": 73,
   "id": "15089815-ab9b-4533-9fe6-b9ec4a184148",
   "metadata": {},
   "outputs": [],
   "source": [
    "obj.set_balance(10)"
   ]
  },
  {
   "cell_type": "code",
   "execution_count": 74,
   "id": "7c26ccaa-d9ad-442d-abee-385f589b2145",
   "metadata": {},
   "outputs": [
    {
     "data": {
      "text/plain": [
       "10"
      ]
     },
     "execution_count": 74,
     "metadata": {},
     "output_type": "execute_result"
    }
   ],
   "source": [
    "obj.get_balance()"
   ]
  },
  {
   "cell_type": "markdown",
   "id": "f111c401-5ddd-4db9-b3c3-55ce3cba344f",
   "metadata": {},
   "source": [
    "### ***Collection of objects***"
   ]
  },
  {
   "cell_type": "code",
   "execution_count": 75,
   "id": "8c4c55b9-bbba-4810-9532-6ea9fbe9b214",
   "metadata": {},
   "outputs": [
    {
     "name": "stdout",
     "output_type": "stream",
     "text": [
      "[<__main__.Person object at 0x000002D57840FD90>, <__main__.Person object at 0x000002D5784F1B90>, <__main__.Person object at 0x000002D5784F0610>]\n"
     ]
    }
   ],
   "source": [
    "class Person:\n",
    "    def __init__(self, name, gender):\n",
    "        self.name = name\n",
    "        self.gender = gender\n",
    "\n",
    "p1 = Person(\"samantha\", \"female\")\n",
    "p2 = Person(\"thamana\", \"female\")\n",
    "p3 = Person(\"kiara\", \"female\")\n",
    "# list of objects\n",
    "l = [p1, p2, p3]\n",
    "print(l)"
   ]
  },
  {
   "cell_type": "code",
   "execution_count": 76,
   "id": "24278ab4-09a3-464f-b3e6-f5a19c4a35a1",
   "metadata": {},
   "outputs": [
    {
     "name": "stdout",
     "output_type": "stream",
     "text": [
      "<__main__.Person object at 0x000002D57840FD90>\n",
      "<__main__.Person object at 0x000002D5784F1B90>\n",
      "<__main__.Person object at 0x000002D5784F0610>\n"
     ]
    }
   ],
   "source": [
    "for i in l:\n",
    "    print(i)"
   ]
  },
  {
   "cell_type": "code",
   "execution_count": 77,
   "id": "e9c24269-1d71-4db3-bf44-4ebe420f8c38",
   "metadata": {},
   "outputs": [
    {
     "name": "stdout",
     "output_type": "stream",
     "text": [
      "female samantha\n",
      "female thamana\n",
      "female kiara\n"
     ]
    }
   ],
   "source": [
    "for i in l:\n",
    "    print(i.gender, i.name)"
   ]
  },
  {
   "cell_type": "code",
   "execution_count": 78,
   "id": "1af13563-8322-4461-9b81-76d13afa6ebd",
   "metadata": {},
   "outputs": [
    {
     "name": "stdout",
     "output_type": "stream",
     "text": [
      "{'p1': <__main__.Person object at 0x000002D57840FD90>, 'p2': <__main__.Person object at 0x000002D5784F1B90>, 'p3': <__main__.Person object at 0x000002D5784F0610>}\n"
     ]
    }
   ],
   "source": [
    "# dictionary of objects\n",
    "d = {\"p1\": p1, \"p2\": p2, \"p3\": p3}\n",
    "print(d)"
   ]
  },
  {
   "cell_type": "code",
   "execution_count": 79,
   "id": "1d1d7ed1-8578-4aa6-b405-a004dbaf5e9a",
   "metadata": {},
   "outputs": [
    {
     "name": "stdout",
     "output_type": "stream",
     "text": [
      "p1 <__main__.Person object at 0x000002D57840FD90>\n",
      "p2 <__main__.Person object at 0x000002D5784F1B90>\n",
      "p3 <__main__.Person object at 0x000002D5784F0610>\n"
     ]
    }
   ],
   "source": [
    "for i in d:\n",
    "    print(i, d[i])"
   ]
  },
  {
   "cell_type": "code",
   "execution_count": 80,
   "id": "4817f638-540f-4b6f-9129-d88d9e9f4426",
   "metadata": {},
   "outputs": [
    {
     "name": "stdout",
     "output_type": "stream",
     "text": [
      "female samantha\n",
      "female thamana\n",
      "female kiara\n"
     ]
    }
   ],
   "source": [
    "for i in d:\n",
    "    print(d[i].gender, d[i].name)"
   ]
  },
  {
   "cell_type": "markdown",
   "id": "23e25600-9a27-44ce-be1f-289a32e20a09",
   "metadata": {},
   "source": [
    "### ***Instance variable vs static variable***"
   ]
  },
  {
   "cell_type": "markdown",
   "id": "2314a472-a5b2-41d5-a89b-e74f0616a4cd",
   "metadata": {},
   "source": [
    "### ***static variable***\n",
    "#### - It is variable that creates inside of class and outside of all the methods of class\n",
    "#### - It value remain same for all the objects of class"
   ]
  },
  {
   "cell_type": "code",
   "execution_count": 81,
   "id": "8cc3bb55-3eee-4a36-9e18-020dea0181c2",
   "metadata": {},
   "outputs": [],
   "source": [
    "# Introducing private variables \n",
    "class Atm:\n",
    "    # constructor(special function) ==> superpower\n",
    "    def __init__(self):\n",
    "        self.pin = \"\"\n",
    "        self.__balance = 0\n",
    "        print(\"Inside constructor\")\n",
    "        self.cid = 0\n",
    "        self.cid +=1\n",
    "        #self.menu()\n",
    "\n",
    "    def get_balance(self):\n",
    "        return self.__balance\n",
    "\n",
    "    def set_balance(self, new_value):\n",
    "        if type(new_value) == int:\n",
    "            self.__balance = new_value\n",
    "        else:\n",
    "            print(\"I will kill you. Enter correclty\")\n",
    "        \n",
    "    def menu(self):\n",
    "        user_input = input(\n",
    "            \"\"\"\n",
    "            Hi how can I help you?\n",
    "            1. Press 1 to create pin\n",
    "            2. Press 2 to change pin\n",
    "            3. Press 3 to check balance\n",
    "            4. Press 4 to withdraw\n",
    "            5. Anything else to exit\n",
    "            \"\"\"\n",
    "        )\n",
    "        if user_input == \"1\":\n",
    "            # create pin\n",
    "            self.create_pin()\n",
    "        elif user_input == \"2\":\n",
    "            # change pin\n",
    "            self.change_pin()\n",
    "        elif user_input == \"3\":\n",
    "            # check balance\n",
    "            self.check_balance()\n",
    "        elif user_input == \"4\":\n",
    "            # withdraw\n",
    "            self.withdraw()\n",
    "        else:\n",
    "            # exit\n",
    "            exit()\n",
    "    def create_pin(self):\n",
    "        user_pin = input(\"Enter your pin : \")\n",
    "        self.pin = user_pin\n",
    "        \n",
    "        user_balance = int(input(\"Enter your balance : \"))\n",
    "        self.__balance = user_balance\n",
    "        \n",
    "        print(\"pin created successfully!!!\")\n",
    "    \n",
    "        \n",
    "    def change_pin(self):\n",
    "        old_pin = input(\"Enter old pin : \")\n",
    "        if old_pin == self.pin:\n",
    "            # let him change the pin\n",
    "            new_pin = input(\"Enter new pin : \")\n",
    "            self.pin = new_pin\n",
    "            print(\"Pin changed successfully\")\n",
    "            \n",
    "        else:\n",
    "            print(\"Please Enter valid pin\")\n",
    "            \n",
    "    def check_balance(self):\n",
    "        user_pin = input(\"enter your pin\")\n",
    "        if user_pin == self.pin:\n",
    "            print(\"your balance is\", self.__balance)\n",
    "        else:\n",
    "            print(\"Please Enter valid pin\")\n",
    "    def withdraw(self):\n",
    "        user_pin = input(\"enter your pin\")\n",
    "        if user_pin == self.pin:\n",
    "            user_amount = int(input(\"enter amount to deduct : \"))\n",
    "            if self.__balance >= user_amount:\n",
    "                self.__balance -= user_amount\n",
    "                print(\"Amount debited successfully\", user_amount)\n",
    "            else:\n",
    "                print(\"Amount is Insufficient to withdraw\")\n",
    "        else:\n",
    "            print(\"Please Enter valid pin\")"
   ]
  },
  {
   "cell_type": "code",
   "execution_count": 82,
   "id": "bc25eb9d-66ba-410e-ab28-a75b844bb268",
   "metadata": {},
   "outputs": [
    {
     "name": "stdout",
     "output_type": "stream",
     "text": [
      "Inside constructor\n"
     ]
    }
   ],
   "source": [
    "c1 = Atm()"
   ]
  },
  {
   "cell_type": "code",
   "execution_count": 83,
   "id": "638d182c-2cf3-4b0b-9fa3-68e15799ff2e",
   "metadata": {},
   "outputs": [
    {
     "name": "stdout",
     "output_type": "stream",
     "text": [
      "Inside constructor\n"
     ]
    }
   ],
   "source": [
    "c2 = Atm()"
   ]
  },
  {
   "cell_type": "code",
   "execution_count": 84,
   "id": "f4e2c8a9-e37e-46c0-bda6-7ca545c910d6",
   "metadata": {},
   "outputs": [
    {
     "name": "stdout",
     "output_type": "stream",
     "text": [
      "Inside constructor\n"
     ]
    }
   ],
   "source": [
    "c3 = Atm()"
   ]
  },
  {
   "cell_type": "code",
   "execution_count": 85,
   "id": "dbddcb5d-0f8b-4857-997e-44b3c7a22e0e",
   "metadata": {},
   "outputs": [
    {
     "data": {
      "text/plain": [
       "1"
      ]
     },
     "execution_count": 85,
     "metadata": {},
     "output_type": "execute_result"
    }
   ],
   "source": [
    "c1.cid"
   ]
  },
  {
   "cell_type": "code",
   "execution_count": 86,
   "id": "7a574d7b-5d59-4605-b485-0032c24ad2bb",
   "metadata": {},
   "outputs": [
    {
     "data": {
      "text/plain": [
       "1"
      ]
     },
     "execution_count": 86,
     "metadata": {},
     "output_type": "execute_result"
    }
   ],
   "source": [
    "c2.cid"
   ]
  },
  {
   "cell_type": "code",
   "execution_count": 87,
   "id": "cdd67868-bd63-44cf-848c-31e4fcbaa786",
   "metadata": {},
   "outputs": [
    {
     "data": {
      "text/plain": [
       "1"
      ]
     },
     "execution_count": 87,
     "metadata": {},
     "output_type": "execute_result"
    }
   ],
   "source": [
    "c3.cid"
   ]
  },
  {
   "cell_type": "code",
   "execution_count": 88,
   "id": "c783a23b-1d8c-48ec-8f11-fe91d69b10db",
   "metadata": {},
   "outputs": [],
   "source": [
    "# Introducing private variables \n",
    "class Atm:\n",
    "\n",
    "    counter = 1\n",
    "    # constructor(special function) ==> superpower\n",
    "    def __init__(self):\n",
    "        self.pin = \"\"\n",
    "        self.__balance = 0\n",
    "        print(\"Inside constructor\")\n",
    "        self.cid = Atm.counter\n",
    "        Atm.counter = Atm.counter + 1\n",
    "        #self.menu()\n",
    "\n",
    "    def get_balance(self):\n",
    "        return self.__balance\n",
    "\n",
    "    def set_balance(self, new_value):\n",
    "        if type(new_value) == int:\n",
    "            self.__balance = new_value\n",
    "        else:\n",
    "            print(\"I will kill you. Enter correclty\")\n",
    "        \n",
    "    def menu(self):\n",
    "        user_input = input(\n",
    "            \"\"\"\n",
    "            Hi how can I help you?\n",
    "            1. Press 1 to create pin\n",
    "            2. Press 2 to change pin\n",
    "            3. Press 3 to check balance\n",
    "            4. Press 4 to withdraw\n",
    "            5. Anything else to exit\n",
    "            \"\"\"\n",
    "        )\n",
    "        if user_input == \"1\":\n",
    "            # create pin\n",
    "            self.create_pin()\n",
    "        elif user_input == \"2\":\n",
    "            # change pin\n",
    "            self.change_pin()\n",
    "        elif user_input == \"3\":\n",
    "            # check balance\n",
    "            self.check_balance()\n",
    "        elif user_input == \"4\":\n",
    "            # withdraw\n",
    "            self.withdraw()\n",
    "        else:\n",
    "            # exit\n",
    "            exit()\n",
    "    def create_pin(self):\n",
    "        user_pin = input(\"Enter your pin : \")\n",
    "        self.pin = user_pin\n",
    "        \n",
    "        user_balance = int(input(\"Enter your balance : \"))\n",
    "        self.__balance = user_balance\n",
    "        \n",
    "        print(\"pin created successfully!!!\")\n",
    "    \n",
    "        \n",
    "    def change_pin(self):\n",
    "        old_pin = input(\"Enter old pin : \")\n",
    "        if old_pin == self.pin:\n",
    "            # let him change the pin\n",
    "            new_pin = input(\"Enter new pin : \")\n",
    "            self.pin = new_pin\n",
    "            print(\"Pin changed successfully\")\n",
    "            \n",
    "        else:\n",
    "            print(\"Please Enter valid pin\")\n",
    "            \n",
    "    def check_balance(self):\n",
    "        user_pin = input(\"enter your pin\")\n",
    "        if user_pin == self.pin:\n",
    "            print(\"your balance is\", self.__balance)\n",
    "        else:\n",
    "            print(\"Please Enter valid pin\")\n",
    "    def withdraw(self):\n",
    "        user_pin = input(\"enter your pin\")\n",
    "        if user_pin == self.pin:\n",
    "            user_amount = int(input(\"enter amount to deduct : \"))\n",
    "            if self.__balance >= user_amount:\n",
    "                self.__balance -= user_amount\n",
    "                print(\"Amount debited successfully\", user_amount)\n",
    "            else:\n",
    "                print(\"Amount is Insufficient to withdraw\")\n",
    "        else:\n",
    "            print(\"Please Enter valid pin\")"
   ]
  },
  {
   "cell_type": "code",
   "execution_count": 89,
   "id": "3bc6f700-389b-4b59-853a-24a0884b51a0",
   "metadata": {},
   "outputs": [
    {
     "name": "stdout",
     "output_type": "stream",
     "text": [
      "Inside constructor\n"
     ]
    }
   ],
   "source": [
    "c1 = Atm()"
   ]
  },
  {
   "cell_type": "code",
   "execution_count": 90,
   "id": "b5abfe7c-210c-46cf-ac9d-0e93fce46a45",
   "metadata": {},
   "outputs": [
    {
     "name": "stdout",
     "output_type": "stream",
     "text": [
      "Inside constructor\n"
     ]
    }
   ],
   "source": [
    "c2 = Atm()"
   ]
  },
  {
   "cell_type": "code",
   "execution_count": 91,
   "id": "8180b6f9-3e68-46dc-b4a1-91c695a5208d",
   "metadata": {},
   "outputs": [
    {
     "name": "stdout",
     "output_type": "stream",
     "text": [
      "Inside constructor\n"
     ]
    }
   ],
   "source": [
    "c3 = Atm()"
   ]
  },
  {
   "cell_type": "code",
   "execution_count": 92,
   "id": "b6d8a9ed-4308-469b-bf83-34eba17caba8",
   "metadata": {},
   "outputs": [
    {
     "data": {
      "text/plain": [
       "1"
      ]
     },
     "execution_count": 92,
     "metadata": {},
     "output_type": "execute_result"
    }
   ],
   "source": [
    "c1.cid"
   ]
  },
  {
   "cell_type": "code",
   "execution_count": 93,
   "id": "8985034b-50e3-4573-add2-d718848e2e58",
   "metadata": {},
   "outputs": [
    {
     "data": {
      "text/plain": [
       "2"
      ]
     },
     "execution_count": 93,
     "metadata": {},
     "output_type": "execute_result"
    }
   ],
   "source": [
    "c2.cid"
   ]
  },
  {
   "cell_type": "code",
   "execution_count": 94,
   "id": "eb352bf5-c48f-477d-9b58-20c5fcfaad2d",
   "metadata": {},
   "outputs": [
    {
     "data": {
      "text/plain": [
       "3"
      ]
     },
     "execution_count": 94,
     "metadata": {},
     "output_type": "execute_result"
    }
   ],
   "source": [
    "c3.cid"
   ]
  },
  {
   "cell_type": "code",
   "execution_count": 95,
   "id": "4f1c6d63-aa0a-4f96-aea8-bfafbcd28549",
   "metadata": {},
   "outputs": [
    {
     "data": {
      "text/plain": [
       "4"
      ]
     },
     "execution_count": 95,
     "metadata": {},
     "output_type": "execute_result"
    }
   ],
   "source": [
    "Atm.counter"
   ]
  },
  {
   "cell_type": "code",
   "execution_count": 96,
   "id": "7a2f9127-128b-40fe-9d3a-44dc4b6b4749",
   "metadata": {},
   "outputs": [
    {
     "data": {
      "text/plain": [
       "4"
      ]
     },
     "execution_count": 96,
     "metadata": {},
     "output_type": "execute_result"
    }
   ],
   "source": [
    "Atm.counter"
   ]
  },
  {
   "cell_type": "code",
   "execution_count": 97,
   "id": "8b6cbaea-7bb0-4bf0-a4b8-2e3dab8c0241",
   "metadata": {},
   "outputs": [
    {
     "name": "stdout",
     "output_type": "stream",
     "text": [
      "Inside constructor\n"
     ]
    }
   ],
   "source": [
    "c4 = Atm()"
   ]
  },
  {
   "cell_type": "code",
   "execution_count": 98,
   "id": "82283816-6f38-4b13-ad96-1227e05f962e",
   "metadata": {},
   "outputs": [
    {
     "data": {
      "text/plain": [
       "4"
      ]
     },
     "execution_count": 98,
     "metadata": {},
     "output_type": "execute_result"
    }
   ],
   "source": [
    "c4.cid"
   ]
  },
  {
   "cell_type": "code",
   "execution_count": 99,
   "id": "e59edce8-526e-4e71-9179-93acdba174ff",
   "metadata": {},
   "outputs": [
    {
     "data": {
      "text/plain": [
       "5"
      ]
     },
     "execution_count": 99,
     "metadata": {},
     "output_type": "execute_result"
    }
   ],
   "source": [
    "Atm.counter"
   ]
  },
  {
   "cell_type": "code",
   "execution_count": null,
   "id": "fc50739d-c161-4a5c-8546-94fd47df7149",
   "metadata": {},
   "outputs": [],
   "source": []
  }
 ],
 "metadata": {
  "kernelspec": {
   "display_name": "Python 3 (ipykernel)",
   "language": "python",
   "name": "python3"
  },
  "language_info": {
   "codemirror_mode": {
    "name": "ipython",
    "version": 3
   },
   "file_extension": ".py",
   "mimetype": "text/x-python",
   "name": "python",
   "nbconvert_exporter": "python",
   "pygments_lexer": "ipython3",
   "version": "3.11.7"
  }
 },
 "nbformat": 4,
 "nbformat_minor": 5
}
