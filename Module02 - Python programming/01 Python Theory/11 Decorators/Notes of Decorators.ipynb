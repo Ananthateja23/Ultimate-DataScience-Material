{
 "cells": [
  {
   "cell_type": "markdown",
   "id": "f82062df-2602-4047-8f6f-13942a8c2975",
   "metadata": {},
   "source": [
    "### ***Decorators:***"
   ]
  },
  {
   "cell_type": "markdown",
   "id": "6a74edbe-9ac8-4c6a-ae77-e3109dd1f94d",
   "metadata": {},
   "source": [
    "```\n",
    "Decorators:\n",
    "-----------\n",
    "\n",
    "==> A decorator in python is a function that receives another function as input and adds some functionality(decoration) to it and returns it.\n",
    "\n",
    "==> This can happen only because python functions are 1st class citizens\n",
    "\n",
    "what are first class citizens???\n",
    "\n",
    "==> Those are objects in any programming language that we can perform every operation over them(store, delete, rename, input to a function, output from a function)\n",
    "\n",
    "\n",
    "==> There are 2 types of decorators available in python\n",
    "\n",
    "(1) Built in decorators ==> @staticmethod, @classmethod, @abstractmethod, @property etc..\n",
    "\n",
    "(2) User defined decorators that we programmers can create according to our needs\n",
    "```"
   ]
  },
  {
   "cell_type": "code",
   "execution_count": 1,
   "id": "545f3b11-f236-4570-82c4-fe2932aead35",
   "metadata": {},
   "outputs": [
    {
     "name": "stdout",
     "output_type": "stream",
     "text": [
      "hello\n"
     ]
    }
   ],
   "source": [
    "# python functions are first class citizens\n",
    "\n",
    "def func():\n",
    "    print(\"hello\")\n",
    "\n",
    "a = func\n",
    "a()"
   ]
  },
  {
   "cell_type": "code",
   "execution_count": 2,
   "id": "76c75307-ecf2-44ff-ac49-7e82e3826e61",
   "metadata": {},
   "outputs": [
    {
     "ename": "NameError",
     "evalue": "name 'func' is not defined",
     "output_type": "error",
     "traceback": [
      "\u001b[1;31m---------------------------------------------------------------------------\u001b[0m",
      "\u001b[1;31mNameError\u001b[0m                                 Traceback (most recent call last)",
      "Cell \u001b[1;32mIn[2], line 2\u001b[0m\n\u001b[0;32m      1\u001b[0m \u001b[38;5;28;01mdel\u001b[39;00m func\n\u001b[1;32m----> 2\u001b[0m func()\n",
      "\u001b[1;31mNameError\u001b[0m: name 'func' is not defined"
     ]
    }
   ],
   "source": [
    "del func\n",
    "func()"
   ]
  },
  {
   "cell_type": "code",
   "execution_count": 3,
   "id": "2892eaa6-2583-4d4f-b997-b4bc370cdb98",
   "metadata": {},
   "outputs": [
    {
     "name": "stdout",
     "output_type": "stream",
     "text": [
      "4\n"
     ]
    }
   ],
   "source": [
    "def modify(func, num):\n",
    "    return func(num)\n",
    "\n",
    "def square(num):\n",
    "    return num**2\n",
    "\n",
    "print(modify(square, 2))"
   ]
  },
  {
   "cell_type": "code",
   "execution_count": 5,
   "id": "e75d6004-ccfa-471e-9492-12e3410ce83a",
   "metadata": {},
   "outputs": [
    {
     "name": "stdout",
     "output_type": "stream",
     "text": [
      "********************\n",
      "hello\n",
      "********************\n"
     ]
    }
   ],
   "source": [
    "# simple example of decorator\n",
    "\n",
    "# decorator function\n",
    "def my_decorator(func):\n",
    "    def wrapper():\n",
    "        print(\"*\"*20)\n",
    "        func()\n",
    "        print(\"*\"*20)\n",
    "    return wrapper\n",
    "\n",
    "# decorated function\n",
    "def hello():\n",
    "    print(\"hello\")\n",
    "\n",
    "a = my_decorator(hello)\n",
    "a()"
   ]
  },
  {
   "cell_type": "code",
   "execution_count": 6,
   "id": "96ea890c-c87f-4faf-8822-6ffd53135dbd",
   "metadata": {},
   "outputs": [
    {
     "name": "stdout",
     "output_type": "stream",
     "text": [
      "********************\n",
      "hello\n",
      "********************\n",
      "********************\n",
      "hello Tony\n",
      "********************\n"
     ]
    }
   ],
   "source": [
    "# decorator function\n",
    "def my_decorator(func):\n",
    "    def wrapper():\n",
    "        print(\"*\"*20)\n",
    "        func()\n",
    "        print(\"*\"*20)\n",
    "    return wrapper\n",
    "\n",
    "# decorated function\n",
    "def hello():\n",
    "    print(\"hello\")\n",
    "\n",
    "# decorated function\n",
    "def display():\n",
    "    print(\"hello Tony\")\n",
    "\n",
    "a = my_decorator(hello)\n",
    "a()\n",
    "\n",
    "b = my_decorator(display)\n",
    "b()"
   ]
  },
  {
   "cell_type": "code",
   "execution_count": 7,
   "id": "c03fee1b-b1bc-458a-a08f-e6e10cc8713c",
   "metadata": {},
   "outputs": [
    {
     "name": "stdout",
     "output_type": "stream",
     "text": [
      "5\n"
     ]
    }
   ],
   "source": [
    "# simple explanation of closure\n",
    "\n",
    "def outer():\n",
    "    a = 5\n",
    "    def inner():\n",
    "        print(a)\n",
    "    return inner\n",
    "\n",
    "b = outer()\n",
    "b()"
   ]
  },
  {
   "cell_type": "markdown",
   "id": "132c8c83-0dd4-4a7d-bc84-d44629931e82",
   "metadata": {},
   "source": [
    "```\n",
    "closure: \n",
    "--------\n",
    "==> inner function can able to access the variable of outer function after its execution(death) it is called closure\n",
    "```"
   ]
  },
  {
   "cell_type": "code",
   "execution_count": 8,
   "id": "397480df-f685-476d-89c0-defc2a7d3f95",
   "metadata": {},
   "outputs": [
    {
     "name": "stdout",
     "output_type": "stream",
     "text": [
      "********************\n",
      "hello\n",
      "********************\n",
      "********************\n",
      "hello Tony\n",
      "********************\n"
     ]
    }
   ],
   "source": [
    "# better syntax\n",
    "# decorator function\n",
    "def my_decorator(func):\n",
    "    def wrapper():\n",
    "        print(\"*\"*20)\n",
    "        func()\n",
    "        print(\"*\"*20)\n",
    "    return wrapper\n",
    "\n",
    "# decorated function\n",
    "@my_decorator\n",
    "def hello():\n",
    "    print(\"hello\")\n",
    "\n",
    "# decorated function\n",
    "@my_decorator\n",
    "def display():\n",
    "    print(\"hello Tony\")\n",
    "\n",
    "# a = my_decorator(hello)\n",
    "# a()\n",
    "hello()\n",
    "# b = my_decorator(display)\n",
    "# b()\n",
    "display()"
   ]
  },
  {
   "cell_type": "code",
   "execution_count": 9,
   "id": "2997cc8b-33e7-4801-9bb3-77e48f142883",
   "metadata": {},
   "outputs": [
    {
     "name": "stdout",
     "output_type": "stream",
     "text": [
      "hello\n"
     ]
    },
    {
     "ename": "TypeError",
     "evalue": "'float' object is not callable",
     "output_type": "error",
     "traceback": [
      "\u001b[1;31m---------------------------------------------------------------------------\u001b[0m",
      "\u001b[1;31mTypeError\u001b[0m                                 Traceback (most recent call last)",
      "Cell \u001b[1;32mIn[9], line 22\u001b[0m\n\u001b[0;32m     19\u001b[0m     \u001b[38;5;28mprint\u001b[39m(\u001b[38;5;124m\"\u001b[39m\u001b[38;5;124mdisplay something\u001b[39m\u001b[38;5;124m\"\u001b[39m)\n\u001b[0;32m     20\u001b[0m     time\u001b[38;5;241m.\u001b[39msleep(\u001b[38;5;241m4\u001b[39m)\n\u001b[1;32m---> 22\u001b[0m hello()\n\u001b[0;32m     23\u001b[0m display()\n",
      "Cell \u001b[1;32mIn[9], line 9\u001b[0m, in \u001b[0;36mtimer.<locals>.wrapper\u001b[1;34m()\u001b[0m\n\u001b[0;32m      7\u001b[0m start \u001b[38;5;241m=\u001b[39m time\u001b[38;5;241m.\u001b[39mtime()\n\u001b[0;32m      8\u001b[0m func()\n\u001b[1;32m----> 9\u001b[0m \u001b[38;5;28mprint\u001b[39m(\u001b[38;5;124m\"\u001b[39m\u001b[38;5;124mTime taken by\u001b[39m\u001b[38;5;124m\"\u001b[39m, func\u001b[38;5;241m.\u001b[39m\u001b[38;5;18m__name__\u001b[39m, time\u001b[38;5;241m.\u001b[39mtime()\u001b[38;5;241m-\u001b[39mstart(), \u001b[38;5;124m\"\u001b[39m\u001b[38;5;124msecs\u001b[39m\u001b[38;5;124m\"\u001b[39m)\n",
      "\u001b[1;31mTypeError\u001b[0m: 'float' object is not callable"
     ]
    }
   ],
   "source": [
    "# meaningful example ==> decorator of function execution time calculator\n",
    "\n",
    "import time\n",
    "\n",
    "def timer(func):\n",
    "    def wrapper():\n",
    "        start = time.time()\n",
    "        func()\n",
    "        print(\"Time taken by\", func.__name__, time.time()-start(), \"secs\")\n",
    "    return wrapper\n",
    "\n",
    "@timer\n",
    "def hello():\n",
    "    print(\"hello\")\n",
    "    time.sleep(2)\n",
    "\n",
    "@timer\n",
    "def display():\n",
    "    print(\"display something\")\n",
    "    time.sleep(4)\n",
    "\n",
    "hello()\n",
    "display()"
   ]
  },
  {
   "cell_type": "code",
   "execution_count": 10,
   "id": "6188e64c-7ecb-43e8-b2fd-37eef5350030",
   "metadata": {},
   "outputs": [
    {
     "name": "stdout",
     "output_type": "stream",
     "text": [
      "hello\n",
      "Time taken by hello 2.0013813972473145 secs\n",
      "display something\n",
      "Time taken by display 4.000421762466431 secs\n"
     ]
    }
   ],
   "source": [
    "import time\n",
    "\n",
    "def timer(func):\n",
    "    def wrapper():\n",
    "        start = time.time()\n",
    "        func()\n",
    "        print(\"Time taken by\", func.__name__, time.time()-start, \"secs\")\n",
    "    return wrapper\n",
    "\n",
    "@timer\n",
    "def hello():\n",
    "    print(\"hello\")\n",
    "    time.sleep(2)\n",
    "\n",
    "@timer\n",
    "def display():\n",
    "    print(\"display something\")\n",
    "    time.sleep(4)\n",
    "\n",
    "hello()\n",
    "display()"
   ]
  },
  {
   "cell_type": "code",
   "execution_count": 12,
   "id": "fdf72193-40dd-4330-8a4b-5a7c059204be",
   "metadata": {},
   "outputs": [
    {
     "name": "stdout",
     "output_type": "stream",
     "text": [
      "hello\n",
      "Time taken by hello 2.0025107860565186 secs\n"
     ]
    },
    {
     "ename": "TypeError",
     "evalue": "timer.<locals>.wrapper() takes 0 positional arguments but 1 was given",
     "output_type": "error",
     "traceback": [
      "\u001b[1;31m---------------------------------------------------------------------------\u001b[0m",
      "\u001b[1;31mTypeError\u001b[0m                                 Traceback (most recent call last)",
      "Cell \u001b[1;32mIn[12], line 22\u001b[0m\n\u001b[0;32m     19\u001b[0m     \u001b[38;5;28mprint\u001b[39m(num\u001b[38;5;241m*\u001b[39m\u001b[38;5;241m*\u001b[39m\u001b[38;5;241m2\u001b[39m)\n\u001b[0;32m     21\u001b[0m hello()\n\u001b[1;32m---> 22\u001b[0m square(\u001b[38;5;241m4\u001b[39m)\n",
      "\u001b[1;31mTypeError\u001b[0m: timer.<locals>.wrapper() takes 0 positional arguments but 1 was given"
     ]
    }
   ],
   "source": [
    "# problem with decorator\n",
    "import time\n",
    "\n",
    "def timer(func):\n",
    "    def wrapper():\n",
    "        start = time.time()\n",
    "        func()\n",
    "        print(\"Time taken by\", func.__name__, time.time()-start, \"secs\")\n",
    "    return wrapper\n",
    "\n",
    "@timer\n",
    "def hello():\n",
    "    print(\"hello\")\n",
    "    time.sleep(2)\n",
    "\n",
    "@timer\n",
    "def square(num):\n",
    "    time.sleep(1)\n",
    "    print(num**2)\n",
    "\n",
    "hello()\n",
    "square(4)"
   ]
  },
  {
   "cell_type": "code",
   "execution_count": 13,
   "id": "5399da58-3c3d-4f36-a6f5-b2f348d27b38",
   "metadata": {},
   "outputs": [
    {
     "name": "stdout",
     "output_type": "stream",
     "text": [
      "hello\n",
      "Time taken by hello 2.0005056858062744 secs\n",
      "16\n",
      "Time taken by square 1.0012247562408447 secs\n"
     ]
    }
   ],
   "source": [
    "# problem with decorator\n",
    "import time\n",
    "\n",
    "def timer(func):\n",
    "    def wrapper(*args):\n",
    "        start = time.time()\n",
    "        func(*args)\n",
    "        print(\"Time taken by\", func.__name__, time.time()-start, \"secs\")\n",
    "    return wrapper\n",
    "\n",
    "@timer\n",
    "def hello():\n",
    "    print(\"hello\")\n",
    "    time.sleep(2)\n",
    "\n",
    "@timer\n",
    "def square(num):\n",
    "    time.sleep(1)\n",
    "    print(num**2)\n",
    "\n",
    "hello()\n",
    "square(4)"
   ]
  },
  {
   "cell_type": "code",
   "execution_count": 15,
   "id": "79554b60-3895-47f7-a669-2a6de32ac828",
   "metadata": {},
   "outputs": [
    {
     "name": "stdout",
     "output_type": "stream",
     "text": [
      "hello\n",
      "Time taken by hello 2.0012264251708984 secs\n",
      "16\n",
      "Time taken by square 1.0012054443359375 secs\n",
      "8\n",
      "Time taken by power 0.0 secs\n"
     ]
    }
   ],
   "source": [
    "# problem with decorator\n",
    "import time\n",
    "\n",
    "def timer(func):\n",
    "    def wrapper(*args):\n",
    "        start = time.time()\n",
    "        func(*args)\n",
    "        print(\"Time taken by\", func.__name__, time.time()-start, \"secs\")\n",
    "    return wrapper\n",
    "\n",
    "@timer\n",
    "def hello():\n",
    "    print(\"hello\")\n",
    "    time.sleep(2)\n",
    "\n",
    "@timer\n",
    "def square(num):\n",
    "    time.sleep(1)\n",
    "    print(num**2)\n",
    "\n",
    "@timer\n",
    "def power(a, b):\n",
    "    print(a**b)\n",
    "\n",
    "hello()\n",
    "square(4)\n",
    "power(2, 3)"
   ]
  },
  {
   "cell_type": "code",
   "execution_count": 25,
   "id": "f147aa50-c720-4618-af4f-3bd25d2dd8d2",
   "metadata": {},
   "outputs": [],
   "source": [
    "# create a decorator that checks the parameters data types of input function\n",
    "\n",
    "def sanity_checker(data_type):\n",
    "    def outer_wrapper(func):\n",
    "        def inner_wrapper(*args):\n",
    "            if type(*args) == data_type:\n",
    "                func(*args)\n",
    "            else:\n",
    "                raise TypeError(\"This data type will not work\")\n",
    "        return inner_wrapper\n",
    "    return outer_wrapper\n",
    "\n",
    "@sanity_checker(int)\n",
    "def square(num):\n",
    "    print(num**2)\n",
    "\n",
    "@sanity_checker(str)\n",
    "def greet(name):\n",
    "    print(\"hello\", name)"
   ]
  },
  {
   "cell_type": "code",
   "execution_count": 26,
   "id": "4bb58495-50f3-45d8-ac5c-692bc88a76b5",
   "metadata": {},
   "outputs": [
    {
     "ename": "TypeError",
     "evalue": "This data type will not work",
     "output_type": "error",
     "traceback": [
      "\u001b[1;31m---------------------------------------------------------------------------\u001b[0m",
      "\u001b[1;31mTypeError\u001b[0m                                 Traceback (most recent call last)",
      "Cell \u001b[1;32mIn[26], line 1\u001b[0m\n\u001b[1;32m----> 1\u001b[0m square(\u001b[38;5;124m\"\u001b[39m\u001b[38;5;124mhehe\u001b[39m\u001b[38;5;124m\"\u001b[39m)\n",
      "Cell \u001b[1;32mIn[25], line 9\u001b[0m, in \u001b[0;36msanity_checker.<locals>.outer_wrapper.<locals>.inner_wrapper\u001b[1;34m(*args)\u001b[0m\n\u001b[0;32m      7\u001b[0m     func(\u001b[38;5;241m*\u001b[39margs)\n\u001b[0;32m      8\u001b[0m \u001b[38;5;28;01melse\u001b[39;00m:\n\u001b[1;32m----> 9\u001b[0m     \u001b[38;5;28;01mraise\u001b[39;00m \u001b[38;5;167;01mTypeError\u001b[39;00m(\u001b[38;5;124m\"\u001b[39m\u001b[38;5;124mThis data type will not work\u001b[39m\u001b[38;5;124m\"\u001b[39m)\n",
      "\u001b[1;31mTypeError\u001b[0m: This data type will not work"
     ]
    }
   ],
   "source": [
    "square(\"hehe\")"
   ]
  },
  {
   "cell_type": "code",
   "execution_count": 27,
   "id": "9c9cc813-ab67-45f0-94bb-ba5aadf348b5",
   "metadata": {},
   "outputs": [
    {
     "name": "stdout",
     "output_type": "stream",
     "text": [
      "16\n"
     ]
    }
   ],
   "source": [
    "square(4)"
   ]
  },
  {
   "cell_type": "code",
   "execution_count": 28,
   "id": "f2dbe671-e027-433d-ba35-0cdfaef05e9e",
   "metadata": {},
   "outputs": [
    {
     "ename": "TypeError",
     "evalue": "This data type will not work",
     "output_type": "error",
     "traceback": [
      "\u001b[1;31m---------------------------------------------------------------------------\u001b[0m",
      "\u001b[1;31mTypeError\u001b[0m                                 Traceback (most recent call last)",
      "Cell \u001b[1;32mIn[28], line 1\u001b[0m\n\u001b[1;32m----> 1\u001b[0m square(\u001b[38;5;241m4.5\u001b[39m)\n",
      "Cell \u001b[1;32mIn[25], line 9\u001b[0m, in \u001b[0;36msanity_checker.<locals>.outer_wrapper.<locals>.inner_wrapper\u001b[1;34m(*args)\u001b[0m\n\u001b[0;32m      7\u001b[0m     func(\u001b[38;5;241m*\u001b[39margs)\n\u001b[0;32m      8\u001b[0m \u001b[38;5;28;01melse\u001b[39;00m:\n\u001b[1;32m----> 9\u001b[0m     \u001b[38;5;28;01mraise\u001b[39;00m \u001b[38;5;167;01mTypeError\u001b[39;00m(\u001b[38;5;124m\"\u001b[39m\u001b[38;5;124mThis data type will not work\u001b[39m\u001b[38;5;124m\"\u001b[39m)\n",
      "\u001b[1;31mTypeError\u001b[0m: This data type will not work"
     ]
    }
   ],
   "source": [
    "square(4.5)"
   ]
  },
  {
   "cell_type": "code",
   "execution_count": 29,
   "id": "46c9688a-3808-47dc-97e7-0844f90967cc",
   "metadata": {},
   "outputs": [
    {
     "ename": "TypeError",
     "evalue": "This data type will not work",
     "output_type": "error",
     "traceback": [
      "\u001b[1;31m---------------------------------------------------------------------------\u001b[0m",
      "\u001b[1;31mTypeError\u001b[0m                                 Traceback (most recent call last)",
      "Cell \u001b[1;32mIn[29], line 1\u001b[0m\n\u001b[1;32m----> 1\u001b[0m greet(\u001b[38;5;241m5\u001b[39m)\n",
      "Cell \u001b[1;32mIn[25], line 9\u001b[0m, in \u001b[0;36msanity_checker.<locals>.outer_wrapper.<locals>.inner_wrapper\u001b[1;34m(*args)\u001b[0m\n\u001b[0;32m      7\u001b[0m     func(\u001b[38;5;241m*\u001b[39margs)\n\u001b[0;32m      8\u001b[0m \u001b[38;5;28;01melse\u001b[39;00m:\n\u001b[1;32m----> 9\u001b[0m     \u001b[38;5;28;01mraise\u001b[39;00m \u001b[38;5;167;01mTypeError\u001b[39;00m(\u001b[38;5;124m\"\u001b[39m\u001b[38;5;124mThis data type will not work\u001b[39m\u001b[38;5;124m\"\u001b[39m)\n",
      "\u001b[1;31mTypeError\u001b[0m: This data type will not work"
     ]
    }
   ],
   "source": [
    "greet(5)"
   ]
  },
  {
   "cell_type": "code",
   "execution_count": 30,
   "id": "d8d365cb-4b0f-4e47-b88f-efe380860cae",
   "metadata": {},
   "outputs": [
    {
     "name": "stdout",
     "output_type": "stream",
     "text": [
      "hello Ananth\n"
     ]
    }
   ],
   "source": [
    "greet(\"Ananth\")"
   ]
  },
  {
   "cell_type": "code",
   "execution_count": null,
   "id": "ab661358-de66-439e-9292-d5b620523369",
   "metadata": {},
   "outputs": [],
   "source": []
  }
 ],
 "metadata": {
  "kernelspec": {
   "display_name": "Python 3 (ipykernel)",
   "language": "python",
   "name": "python3"
  },
  "language_info": {
   "codemirror_mode": {
    "name": "ipython",
    "version": 3
   },
   "file_extension": ".py",
   "mimetype": "text/x-python",
   "name": "python",
   "nbconvert_exporter": "python",
   "pygments_lexer": "ipython3",
   "version": "3.11.7"
  }
 },
 "nbformat": 4,
 "nbformat_minor": 5
}
