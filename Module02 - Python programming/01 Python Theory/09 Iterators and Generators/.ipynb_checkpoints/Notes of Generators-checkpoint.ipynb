{
 "cells": [
  {
   "cell_type": "markdown",
   "id": "1fec0a57-baa4-4708-b925-32017029e46a",
   "metadata": {},
   "source": [
    "```\n",
    "Breakdown:\n",
    "----------\n",
    "\n",
    "==> what is the work of generators???\n",
    "\n",
    "==> syntax of generators???\n",
    "\n",
    "==> difference between normal function and generator???\n",
    "\n",
    "==> practical example\n",
    "```"
   ]
  },
  {
   "cell_type": "markdown",
   "id": "ee230953-b098-4419-bb50-b3c37a0320a8",
   "metadata": {},
   "source": [
    "### ***Generator:***"
   ]
  },
  {
   "cell_type": "markdown",
   "id": "4ee6cbea-6ef3-4177-851e-4eb96edb5d5c",
   "metadata": {},
   "source": [
    "```\n",
    "Generators:\n",
    "-----------\n",
    "\n",
    "==> python generators are simple way of creating iterators\n",
    "\n",
    "==> If you remember, to make a simple range function we had to write this much code. It looks clutter for python. So it came up with an alternate that works same as iterator\n",
    "```"
   ]
  },
  {
   "cell_type": "code",
   "execution_count": 6,
   "id": "bbe97540-b26a-42c6-8502-59a2fc4751b6",
   "metadata": {},
   "outputs": [],
   "source": [
    "#iterable\n",
    "class my_range:\n",
    "\n",
    "    def __init__(self, start, end):\n",
    "        self.start = start\n",
    "        self.end = end\n",
    "    def __iter__(self):\n",
    "        return my_range_iterator(self)\n",
    "\n",
    "#iterator\n",
    "class my_range_iterator:\n",
    "\t\n",
    "    def __init__(self, iterable_obj):\n",
    "        self.iterable = iterable_obj\n",
    "    \n",
    "    def __iter__(self):\n",
    "        return self\n",
    "\n",
    "    def __next__(self):\n",
    "        if self.iterable.start >= self.iterable.end:\n",
    "            raise StopIteration\n",
    "        current = self.iterable.start \n",
    "        self.iterable.start += 1\n",
    "        return current"
   ]
  },
  {
   "cell_type": "markdown",
   "id": "d1329089-66bb-4846-8ebb-c1ddc7139e56",
   "metadata": {},
   "source": [
    "```\n",
    "==> Instead of writing a large piece of code. how can we write a function that works and execute same as iterator and also provide the same output\n",
    "\n",
    "==> how is it different from the normal function???\n",
    "```"
   ]
  },
  {
   "cell_type": "markdown",
   "id": "0985460c-96b8-40d8-bcd0-06e74201df6b",
   "metadata": {},
   "source": [
    "### ***Why Iterators???***"
   ]
  },
  {
   "cell_type": "code",
   "execution_count": 8,
   "id": "78e32459-f519-45f3-88d0-08d228389223",
   "metadata": {},
   "outputs": [
    {
     "name": "stdout",
     "output_type": "stream",
     "text": [
      "Memory size of list :  800984\n",
      "Memory size of range:  48\n"
     ]
    }
   ],
   "source": [
    "# iterable\n",
    "num_list = [x for x in range(1, 100001)]\n",
    "# iterator\n",
    "x = range(1, 100001)\n",
    "\n",
    "import sys\n",
    "print(\"Memory size of list : \", sys.getsizeof(num_list))\n",
    "print(\"Memory size of range: \", sys.getsizeof(x))"
   ]
  },
  {
   "cell_type": "markdown",
   "id": "3aace726-3a92-46de-bad2-0220e473f844",
   "metadata": {},
   "source": [
    "```\n",
    "simple example of python generator:\n",
    "-----------------------------------\n",
    "\n",
    "==> python generator is a function, but there is a small difference in it\n",
    "\n",
    "==> generator is a function and it don't contain return statement instead it had yield statement\n",
    "\n",
    "==> generator is a function and it in return gives generator object\n",
    "\n",
    "==> use of generator object is that through calling next function over generator object again and again we can print all the yield statements inside function\n",
    "\n",
    "==> we can also print the yield statements through loops\n",
    "```"
   ]
  },
  {
   "cell_type": "code",
   "execution_count": 9,
   "id": "14ae496f-eba2-4fc8-833a-bfd0642f5fd8",
   "metadata": {},
   "outputs": [
    {
     "name": "stdout",
     "output_type": "stream",
     "text": [
      "<generator object gen_demo at 0x0000020116DEE6C0>\n"
     ]
    }
   ],
   "source": [
    "def gen_demo():\n",
    "\n",
    "    yield \"fist statement\"\n",
    "\n",
    "    yield \"second statement\"\n",
    "\n",
    "    yield \"third statement\"\n",
    "\n",
    "gen = gen_demo()\n",
    "print(gen)"
   ]
  },
  {
   "cell_type": "code",
   "execution_count": 10,
   "id": "2ac1ecb3-f1c7-4751-bb10-54f1727ebf18",
   "metadata": {},
   "outputs": [
    {
     "name": "stdout",
     "output_type": "stream",
     "text": [
      "fist statement\n",
      "second statement\n",
      "third statement\n"
     ]
    }
   ],
   "source": [
    "print(next(gen))\n",
    "print(next(gen))\n",
    "print(next(gen))"
   ]
  },
  {
   "cell_type": "code",
   "execution_count": 11,
   "id": "fbf473b0-46e2-4e00-ac36-ab1ce566938a",
   "metadata": {},
   "outputs": [
    {
     "ename": "StopIteration",
     "evalue": "",
     "output_type": "error",
     "traceback": [
      "\u001b[1;31m---------------------------------------------------------------------------\u001b[0m",
      "\u001b[1;31mStopIteration\u001b[0m                             Traceback (most recent call last)",
      "Cell \u001b[1;32mIn[11], line 1\u001b[0m\n\u001b[1;32m----> 1\u001b[0m \u001b[38;5;28mprint\u001b[39m(\u001b[38;5;28mnext\u001b[39m(gen))\n",
      "\u001b[1;31mStopIteration\u001b[0m: "
     ]
    }
   ],
   "source": [
    "print(next(gen))"
   ]
  },
  {
   "cell_type": "code",
   "execution_count": 14,
   "id": "c6b4a96c-9cd0-4c49-bc48-cbd0b51fb475",
   "metadata": {},
   "outputs": [],
   "source": [
    "gen = gen_demo()"
   ]
  },
  {
   "cell_type": "code",
   "execution_count": 15,
   "id": "3d473558-4349-4d6a-9e96-3d8f16bc62c9",
   "metadata": {},
   "outputs": [
    {
     "name": "stdout",
     "output_type": "stream",
     "text": [
      "fist statement\n",
      "second statement\n",
      "third statement\n"
     ]
    }
   ],
   "source": [
    "for statement in gen:\n",
    "    print(statement)"
   ]
  },
  {
   "cell_type": "markdown",
   "id": "b026eb4b-28fc-4dca-988e-6bc95faf66fb",
   "metadata": {},
   "source": [
    "```\n",
    "what is the difference between normal function and Generator???\n",
    "\n",
    "==> a normal function after running once, it came out from the memory\n",
    "\n",
    "==> generator is a special function and it temporarily pause the execution and it remember its state, values of variable\n",
    "    \n",
    "==> If we call the second time, it remember the state of first time and work ahead from there\n",
    "```"
   ]
  },
  {
   "cell_type": "code",
   "execution_count": 16,
   "id": "3eaf2a8b-f4e1-4319-983e-06f92736a9a8",
   "metadata": {},
   "outputs": [
    {
     "name": "stdout",
     "output_type": "stream",
     "text": [
      "<generator object square at 0x00000201182890E0>\n"
     ]
    }
   ],
   "source": [
    "# example of generator\n",
    "def square(num):\n",
    "\n",
    "    for i in range(1, num+1):\n",
    "        yield i**2\n",
    "\n",
    "gen = square(10)\n",
    "print(gen)"
   ]
  },
  {
   "cell_type": "code",
   "execution_count": 17,
   "id": "93e1dc1b-aeec-4736-8488-040a69e60bc4",
   "metadata": {},
   "outputs": [
    {
     "name": "stdout",
     "output_type": "stream",
     "text": [
      "1\n",
      "4\n",
      "9\n"
     ]
    }
   ],
   "source": [
    "print(next(gen))\n",
    "print(next(gen))\n",
    "print(next(gen))"
   ]
  },
  {
   "cell_type": "code",
   "execution_count": 18,
   "id": "fa93b0be-c341-43c6-9e78-15bf729bec15",
   "metadata": {},
   "outputs": [
    {
     "name": "stdout",
     "output_type": "stream",
     "text": [
      "16\n",
      "25\n",
      "36\n",
      "49\n",
      "64\n",
      "81\n",
      "100\n"
     ]
    }
   ],
   "source": [
    "for num in gen:\n",
    "    print(num)"
   ]
  },
  {
   "cell_type": "code",
   "execution_count": 19,
   "id": "4898e33b-2d96-4da8-9b6c-bc2960b329fb",
   "metadata": {},
   "outputs": [
    {
     "name": "stdout",
     "output_type": "stream",
     "text": [
      "1\n",
      "2\n",
      "3\n",
      "4\n",
      "5\n",
      "6\n",
      "7\n",
      "8\n",
      "9\n",
      "10\n"
     ]
    }
   ],
   "source": [
    "# range function using generator\n",
    "def my_range(start, end):\n",
    "\n",
    "    for i in range(start, end):\n",
    "        yield i\n",
    "\n",
    "gen = my_range(1, 11)\n",
    "\n",
    "for num in gen:\n",
    "    print(num)"
   ]
  },
  {
   "cell_type": "code",
   "execution_count": 20,
   "id": "af2a5738-938e-424a-a872-b3050be191d8",
   "metadata": {},
   "outputs": [
    {
     "name": "stdout",
     "output_type": "stream",
     "text": [
      "15\n",
      "16\n",
      "17\n",
      "18\n",
      "19\n",
      "20\n",
      "21\n",
      "22\n",
      "23\n",
      "24\n",
      "25\n"
     ]
    }
   ],
   "source": [
    "for i in my_range(15, 26):\n",
    "    print(i)"
   ]
  },
  {
   "cell_type": "markdown",
   "id": "dcf29eb1-f37e-4558-b099-fac8cd3faeff",
   "metadata": {},
   "source": [
    "### ***Generator expression:***"
   ]
  },
  {
   "cell_type": "markdown",
   "id": "a4c23dda-1603-4e9a-b380-94a5476f87b0",
   "metadata": {},
   "source": [
    "```\n",
    "==> If you know that your logic is simple and can able to write it in single line then use generator expression\n",
    "```"
   ]
  },
  {
   "cell_type": "code",
   "execution_count": 22,
   "id": "3bf01aab-ff34-40c2-a2cb-ca40bd47ed7d",
   "metadata": {},
   "outputs": [
    {
     "name": "stdout",
     "output_type": "stream",
     "text": [
      "<class 'list'>\n"
     ]
    }
   ],
   "source": [
    "nums = [i**2 for i in range(1,101)]\n",
    "print(type(nums))"
   ]
  },
  {
   "cell_type": "code",
   "execution_count": 23,
   "id": "2755e6b8-7dfe-4051-9915-f5892151b27c",
   "metadata": {},
   "outputs": [
    {
     "name": "stdout",
     "output_type": "stream",
     "text": [
      "<class 'generator'>\n"
     ]
    }
   ],
   "source": [
    "gen = (i**2 for i in range(1,101))\n",
    "print(type(gen))"
   ]
  },
  {
   "cell_type": "markdown",
   "id": "2c99a801-09ba-4337-98b0-510a25eb5d77",
   "metadata": {},
   "source": [
    "### ***Practical Example:***\n",
    "```python\n",
    "import os\n",
    "import cv2\n",
    "\n",
    "def image_data_reader(folder_path):\n",
    "\t\n",
    "\tfor file in os.listdir(folder_path):\n",
    "\t\tf_array = cv2.imread(os.parh.join(folder_path, file))\n",
    "\t\tyield f_array\n",
    "\n",
    "gen = image_data_reader(\"path\")\n",
    "\n",
    "print(next(gen))\n",
    "print(next(gen))\n",
    "print(next(gen)\n",
    "```"
   ]
  },
  {
   "cell_type": "markdown",
   "id": "fdb1bbc0-b961-4559-8d43-1c72bc132081",
   "metadata": {},
   "source": [
    "### ***Benifits of Generator:***"
   ]
  },
  {
   "cell_type": "markdown",
   "id": "150bc937-4e34-4069-9778-31b1d66f4b88",
   "metadata": {},
   "source": [
    "```\n",
    "==> 1.ease of implemetation\n",
    "```"
   ]
  },
  {
   "cell_type": "code",
   "execution_count": 25,
   "id": "2aceee67-7969-4945-9a2c-3348939d2d8e",
   "metadata": {},
   "outputs": [
    {
     "name": "stdout",
     "output_type": "stream",
     "text": [
      "15\n",
      "16\n",
      "17\n",
      "18\n",
      "19\n",
      "20\n"
     ]
    }
   ],
   "source": [
    "def my_range(start, end):\n",
    "    for i in range(start, end):\n",
    "        yield i\n",
    "\n",
    "gen = my_range(15, 21)\n",
    "for num in gen:\n",
    "    print(num)"
   ]
  },
  {
   "cell_type": "markdown",
   "id": "6d7c8be1-3703-4dae-ac0e-8a715ef46cbb",
   "metadata": {},
   "source": [
    "```\n",
    "==> 2. memory effecient\n",
    "```"
   ]
  },
  {
   "cell_type": "code",
   "execution_count": 26,
   "id": "bd646d82-15cd-415f-b693-8e28151a87f4",
   "metadata": {},
   "outputs": [
    {
     "name": "stdout",
     "output_type": "stream",
     "text": [
      "Memory size of num_list :  800984\n",
      "Memory size of range    :  48\n"
     ]
    }
   ],
   "source": [
    "# iterable\n",
    "num_list = [x for x in range(1, 100001)]\n",
    "# iterator\n",
    "x = range(1, 100001)\n",
    "\n",
    "import sys\n",
    "print(\"Memory size of num_list : \", sys.getsizeof(num_list))\n",
    "print(\"Memory size of range    : \", sys.getsizeof(x))"
   ]
  },
  {
   "cell_type": "markdown",
   "id": "40430013-15f2-4b41-849f-d4ad42df95ed",
   "metadata": {},
   "source": [
    "```\n",
    "==> 3. Representing infinite streams\n",
    "```"
   ]
  },
  {
   "cell_type": "code",
   "execution_count": 27,
   "id": "d6879050-a61c-4afb-ac94-0837dad22f3c",
   "metadata": {},
   "outputs": [],
   "source": [
    "def all_even():\n",
    "    num = 0\n",
    "    while True:\n",
    "        yield num\n",
    "        num += 2\n",
    "        \n",
    "even_num_gen = all_even()"
   ]
  },
  {
   "cell_type": "code",
   "execution_count": 28,
   "id": "07eae3f7-5461-4133-b450-24a4479dce79",
   "metadata": {},
   "outputs": [
    {
     "name": "stdout",
     "output_type": "stream",
     "text": [
      "0\n",
      "2\n"
     ]
    }
   ],
   "source": [
    "print(next(even_num_gen))\n",
    "print(next(even_num_gen))"
   ]
  },
  {
   "cell_type": "markdown",
   "id": "18b0a302-0b6b-4c59-9756-6e14a45ba696",
   "metadata": {},
   "source": [
    "```\n",
    "==> 4. Chaining generator\n",
    "```"
   ]
  },
  {
   "cell_type": "code",
   "execution_count": 29,
   "id": "79b08994-0e43-4fdc-937a-1d9d219a63ea",
   "metadata": {},
   "outputs": [
    {
     "ename": "TypeError",
     "evalue": "'generator' object cannot be interpreted as an integer",
     "output_type": "error",
     "traceback": [
      "\u001b[1;31m---------------------------------------------------------------------------\u001b[0m",
      "\u001b[1;31mTypeError\u001b[0m                                 Traceback (most recent call last)",
      "Cell \u001b[1;32mIn[29], line 11\u001b[0m\n\u001b[0;32m      8\u001b[0m     \u001b[38;5;28;01mfor\u001b[39;00m num \u001b[38;5;129;01min\u001b[39;00m \u001b[38;5;28mrange\u001b[39m(nums):\n\u001b[0;32m      9\u001b[0m         \u001b[38;5;28;01myield\u001b[39;00m num\u001b[38;5;241m*\u001b[39m\u001b[38;5;241m*\u001b[39m\u001b[38;5;241m2\u001b[39m\n\u001b[1;32m---> 11\u001b[0m \u001b[38;5;28mprint\u001b[39m(\u001b[38;5;28msum\u001b[39m(square(fibonacci_numbers(\u001b[38;5;241m10\u001b[39m))))\n",
      "Cell \u001b[1;32mIn[29], line 8\u001b[0m, in \u001b[0;36msquare\u001b[1;34m(nums)\u001b[0m\n\u001b[0;32m      7\u001b[0m \u001b[38;5;28;01mdef\u001b[39;00m \u001b[38;5;21msquare\u001b[39m(nums):\n\u001b[1;32m----> 8\u001b[0m     \u001b[38;5;28;01mfor\u001b[39;00m num \u001b[38;5;129;01min\u001b[39;00m \u001b[38;5;28mrange\u001b[39m(nums):\n\u001b[0;32m      9\u001b[0m         \u001b[38;5;28;01myield\u001b[39;00m num\u001b[38;5;241m*\u001b[39m\u001b[38;5;241m*\u001b[39m\u001b[38;5;241m2\u001b[39m\n",
      "\u001b[1;31mTypeError\u001b[0m: 'generator' object cannot be interpreted as an integer"
     ]
    }
   ],
   "source": [
    "def fibonacci_numbers(nums):\n",
    "    x, y = 0, 1\n",
    "    for _ in range(nums):\n",
    "        x, y = y, x+y\n",
    "        yield x\n",
    "\n",
    "def square(nums):\n",
    "    for num in range(nums):\n",
    "        yield num**2\n",
    "\n",
    "print(sum(square(fibonacci_numbers(10))))"
   ]
  },
  {
   "cell_type": "code",
   "execution_count": 30,
   "id": "b84b1c4b-41d2-4c70-ba2f-6f1de3fc3a4c",
   "metadata": {},
   "outputs": [
    {
     "name": "stdout",
     "output_type": "stream",
     "text": [
      "4895\n"
     ]
    }
   ],
   "source": [
    "def fibonacci_numbers(nums):\n",
    "    x, y = 0, 1\n",
    "    for _ in range(nums):\n",
    "        x, y = y, x+y\n",
    "        yield x\n",
    "\n",
    "def square(nums):\n",
    "    for num in nums:\n",
    "        yield num**2\n",
    "\n",
    "print(sum(square(fibonacci_numbers(10))))"
   ]
  },
  {
   "cell_type": "code",
   "execution_count": null,
   "id": "f48c6a7b-d510-4d46-9810-70197b5e0274",
   "metadata": {},
   "outputs": [],
   "source": []
  }
 ],
 "metadata": {
  "kernelspec": {
   "display_name": "Python 3 (ipykernel)",
   "language": "python",
   "name": "python3"
  },
  "language_info": {
   "codemirror_mode": {
    "name": "ipython",
    "version": 3
   },
   "file_extension": ".py",
   "mimetype": "text/x-python",
   "name": "python",
   "nbconvert_exporter": "python",
   "pygments_lexer": "ipython3",
   "version": "3.11.7"
  }
 },
 "nbformat": 4,
 "nbformat_minor": 5
}
