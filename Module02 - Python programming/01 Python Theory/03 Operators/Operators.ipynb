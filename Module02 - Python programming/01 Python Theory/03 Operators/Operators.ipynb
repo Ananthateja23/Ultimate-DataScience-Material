{
 "cells": [
  {
   "cell_type": "markdown",
   "id": "1284c4cd-d3bb-4f0a-bf86-a3a43be29273",
   "metadata": {},
   "source": [
    "### ***Operators***\n",
    "#### Operator is a symbol that is used to perform an operation with operands.\n",
    "### ***Types of Operators***\n",
    "#### 1. Arithmetic Operator\n",
    "#### 2. Comparision Operator\n",
    "#### 3. Assigment Operator\n",
    "#### 4. Bitwise Operator\n",
    "#### 5. Logical Operator\n",
    "#### 6. Membership Operator\n",
    "#### 7. Identity Operator"
   ]
  },
  {
   "cell_type": "markdown",
   "id": "fc6a1c42-61ca-483f-9d0e-79f67e247e61",
   "metadata": {},
   "source": [
    "### ***Arithmetic Operator***\n",
    "#### +  : Addition\n",
    "#### -  : Subtraction\n",
    "#### *  : Multiplication\n",
    "#### /  : True division\n",
    "#### // : floor division\n",
    "#### %  : Modular division\n",
    "#### ** : Exponentation"
   ]
  },
  {
   "cell_type": "code",
   "execution_count": 1,
   "id": "c9d8c49f-813d-4928-b3ca-78ec0c8429dd",
   "metadata": {},
   "outputs": [
    {
     "name": "stdout",
     "output_type": "stream",
     "text": [
      "Addition         : 15\n",
      "Subtraction      : 5\n",
      "Multiplication   : 50\n",
      "True Division    : 2.0\n",
      "Floor Division   : 2\n",
      "Modular Division : 0\n",
      "Exponentation    : 100000\n"
     ]
    }
   ],
   "source": [
    "a = 10\n",
    "b = 5\n",
    "print(\"Addition         :\", a+b)\n",
    "print(\"Subtraction      :\", a-b)\n",
    "print(\"Multiplication   :\", a*b)\n",
    "print(\"True Division    :\", a/b)\n",
    "print(\"Floor Division   :\", a//b)\n",
    "print(\"Modular Division :\", a%b)\n",
    "print(\"Exponentation    :\", a**b)"
   ]
  },
  {
   "cell_type": "code",
   "execution_count": 2,
   "id": "1d8dd119-4782-4f60-86b6-f5e5b9de171f",
   "metadata": {},
   "outputs": [
    {
     "data": {
      "text/plain": [
       "3"
      ]
     },
     "execution_count": 2,
     "metadata": {},
     "output_type": "execute_result"
    }
   ],
   "source": [
    "7//2"
   ]
  },
  {
   "cell_type": "code",
   "execution_count": 3,
   "id": "83f5e174-89f6-4c5f-849f-fa15933f6e87",
   "metadata": {},
   "outputs": [
    {
     "data": {
      "text/plain": [
       "-4"
      ]
     },
     "execution_count": 3,
     "metadata": {},
     "output_type": "execute_result"
    }
   ],
   "source": [
    "-7//2"
   ]
  },
  {
   "cell_type": "code",
   "execution_count": 4,
   "id": "4827b186-569b-405b-95fb-1f4d8d69cc71",
   "metadata": {},
   "outputs": [
    {
     "data": {
      "text/plain": [
       "5.0"
      ]
     },
     "execution_count": 4,
     "metadata": {},
     "output_type": "execute_result"
    }
   ],
   "source": [
    "12.5%7.5"
   ]
  },
  {
   "cell_type": "code",
   "execution_count": 5,
   "id": "b51619ef-e270-4150-a4f5-ae208c2f0d73",
   "metadata": {},
   "outputs": [
    {
     "data": {
      "text/plain": [
       "5.5"
      ]
     },
     "execution_count": 5,
     "metadata": {},
     "output_type": "execute_result"
    }
   ],
   "source": [
    "20.5%7.5"
   ]
  },
  {
   "cell_type": "code",
   "execution_count": 6,
   "id": "78d158e8-9d2d-48f1-a1ea-7ab8bfd52609",
   "metadata": {},
   "outputs": [
    {
     "data": {
      "text/plain": [
       "3"
      ]
     },
     "execution_count": 6,
     "metadata": {},
     "output_type": "execute_result"
    }
   ],
   "source": [
    "-7%5"
   ]
  },
  {
   "cell_type": "code",
   "execution_count": 7,
   "id": "c5cca630-9c5e-4f2b-99f5-d756586685b4",
   "metadata": {},
   "outputs": [
    {
     "data": {
      "text/plain": [
       "3"
      ]
     },
     "execution_count": 7,
     "metadata": {},
     "output_type": "execute_result"
    }
   ],
   "source": [
    "-21%8"
   ]
  },
  {
   "cell_type": "code",
   "execution_count": 8,
   "id": "53eca6b6-5760-4a63-9cc6-b1244ed02ad9",
   "metadata": {},
   "outputs": [
    {
     "data": {
      "text/plain": [
       "1"
      ]
     },
     "execution_count": 8,
     "metadata": {},
     "output_type": "execute_result"
    }
   ],
   "source": [
    "-27%7"
   ]
  },
  {
   "cell_type": "code",
   "execution_count": 9,
   "id": "6095c1b1-7c5b-4641-b702-0fe6957b1e97",
   "metadata": {},
   "outputs": [
    {
     "data": {
      "text/plain": [
       "2.5"
      ]
     },
     "execution_count": 9,
     "metadata": {},
     "output_type": "execute_result"
    }
   ],
   "source": [
    "5/2"
   ]
  },
  {
   "cell_type": "code",
   "execution_count": 10,
   "id": "cdadd23e-361d-4118-ad69-b7b1c3d632ae",
   "metadata": {},
   "outputs": [
    {
     "data": {
      "text/plain": [
       "5.0"
      ]
     },
     "execution_count": 10,
     "metadata": {},
     "output_type": "execute_result"
    }
   ],
   "source": [
    "10/2"
   ]
  },
  {
   "cell_type": "code",
   "execution_count": 11,
   "id": "61375176-81d1-43e9-a920-bc7e73fc429a",
   "metadata": {},
   "outputs": [
    {
     "data": {
      "text/plain": [
       "12.3"
      ]
     },
     "execution_count": 11,
     "metadata": {},
     "output_type": "execute_result"
    }
   ],
   "source": [
    "123/10"
   ]
  },
  {
   "cell_type": "code",
   "execution_count": 12,
   "id": "518eddcc-e242-4bf6-8507-b2b4cc760621",
   "metadata": {},
   "outputs": [
    {
     "data": {
      "text/plain": [
       "2"
      ]
     },
     "execution_count": 12,
     "metadata": {},
     "output_type": "execute_result"
    }
   ],
   "source": [
    "5//2"
   ]
  },
  {
   "cell_type": "code",
   "execution_count": 13,
   "id": "9d01e971-e356-4d84-bac7-010bade56db6",
   "metadata": {},
   "outputs": [
    {
     "data": {
      "text/plain": [
       "5"
      ]
     },
     "execution_count": 13,
     "metadata": {},
     "output_type": "execute_result"
    }
   ],
   "source": [
    "10//2"
   ]
  },
  {
   "cell_type": "code",
   "execution_count": 14,
   "id": "4b5f0db8-7639-4dc8-9a10-1668e3178996",
   "metadata": {},
   "outputs": [
    {
     "data": {
      "text/plain": [
       "12"
      ]
     },
     "execution_count": 14,
     "metadata": {},
     "output_type": "execute_result"
    }
   ],
   "source": [
    "123//10"
   ]
  },
  {
   "cell_type": "code",
   "execution_count": 15,
   "id": "549336e7-0997-4ec3-ba63-083cffd91b06",
   "metadata": {},
   "outputs": [
    {
     "data": {
      "text/plain": [
       "13"
      ]
     },
     "execution_count": 15,
     "metadata": {},
     "output_type": "execute_result"
    }
   ],
   "source": [
    "132//10"
   ]
  },
  {
   "cell_type": "code",
   "execution_count": 16,
   "id": "0a69b7ff-21b4-4e97-bafd-505a3543e0e6",
   "metadata": {},
   "outputs": [
    {
     "data": {
      "text/plain": [
       "13.0"
      ]
     },
     "execution_count": 16,
     "metadata": {},
     "output_type": "execute_result"
    }
   ],
   "source": [
    "132.0//10"
   ]
  },
  {
   "cell_type": "code",
   "execution_count": 17,
   "id": "f1b12878-5d03-4607-9260-a18457139529",
   "metadata": {},
   "outputs": [
    {
     "data": {
      "text/plain": [
       "2"
      ]
     },
     "execution_count": 17,
     "metadata": {},
     "output_type": "execute_result"
    }
   ],
   "source": [
    "5//2"
   ]
  },
  {
   "cell_type": "code",
   "execution_count": 18,
   "id": "d266aeef-3528-4b62-9e5a-1ed6e1fff7ef",
   "metadata": {},
   "outputs": [
    {
     "data": {
      "text/plain": [
       "2.0"
      ]
     },
     "execution_count": 18,
     "metadata": {},
     "output_type": "execute_result"
    }
   ],
   "source": [
    "5.0//2"
   ]
  },
  {
   "cell_type": "code",
   "execution_count": 19,
   "id": "c5514755-fab7-4856-a769-b7c78d9c766e",
   "metadata": {},
   "outputs": [
    {
     "data": {
      "text/plain": [
       "-3"
      ]
     },
     "execution_count": 19,
     "metadata": {},
     "output_type": "execute_result"
    }
   ],
   "source": [
    "-5//2"
   ]
  },
  {
   "cell_type": "code",
   "execution_count": 20,
   "id": "1700e124-eb6c-475c-b8ac-756a46f71535",
   "metadata": {},
   "outputs": [
    {
     "data": {
      "text/plain": [
       "12"
      ]
     },
     "execution_count": 20,
     "metadata": {},
     "output_type": "execute_result"
    }
   ],
   "source": [
    "123//10"
   ]
  },
  {
   "cell_type": "code",
   "execution_count": 21,
   "id": "9f84c84f-0503-4334-bf3c-a8e67f2cb1f1",
   "metadata": {},
   "outputs": [
    {
     "data": {
      "text/plain": [
       "-13"
      ]
     },
     "execution_count": 21,
     "metadata": {},
     "output_type": "execute_result"
    }
   ],
   "source": [
    "-123//10"
   ]
  },
  {
   "cell_type": "code",
   "execution_count": 22,
   "id": "e1774d79-425a-4ea5-87f2-26e7dc932ae8",
   "metadata": {},
   "outputs": [
    {
     "data": {
      "text/plain": [
       "2"
      ]
     },
     "execution_count": 22,
     "metadata": {},
     "output_type": "execute_result"
    }
   ],
   "source": [
    "132%10"
   ]
  },
  {
   "cell_type": "code",
   "execution_count": 23,
   "id": "b68520c4-c6f1-47da-bdef-0b18777e095f",
   "metadata": {},
   "outputs": [
    {
     "data": {
      "text/plain": [
       "1"
      ]
     },
     "execution_count": 23,
     "metadata": {},
     "output_type": "execute_result"
    }
   ],
   "source": [
    "13%3"
   ]
  },
  {
   "cell_type": "code",
   "execution_count": 24,
   "id": "f78f3d10-23de-48d0-8bf1-4f5c2e40f20b",
   "metadata": {},
   "outputs": [
    {
     "data": {
      "text/plain": [
       "4"
      ]
     },
     "execution_count": 24,
     "metadata": {},
     "output_type": "execute_result"
    }
   ],
   "source": [
    "1234%10"
   ]
  },
  {
   "cell_type": "code",
   "execution_count": 25,
   "id": "1a4d901c-d847-4ca1-8a49-e79a8131551b",
   "metadata": {},
   "outputs": [
    {
     "data": {
      "text/plain": [
       "1"
      ]
     },
     "execution_count": 25,
     "metadata": {},
     "output_type": "execute_result"
    }
   ],
   "source": [
    "5%2"
   ]
  },
  {
   "cell_type": "code",
   "execution_count": 26,
   "id": "99f3c7c2-8c60-4669-90c0-d5e36995cde3",
   "metadata": {},
   "outputs": [
    {
     "data": {
      "text/plain": [
       "2"
      ]
     },
     "execution_count": 26,
     "metadata": {},
     "output_type": "execute_result"
    }
   ],
   "source": [
    "2%5"
   ]
  },
  {
   "cell_type": "code",
   "execution_count": 27,
   "id": "a0f62c5b-45e5-4981-8bdd-9a90f79088a5",
   "metadata": {},
   "outputs": [
    {
     "data": {
      "text/plain": [
       "1"
      ]
     },
     "execution_count": 27,
     "metadata": {},
     "output_type": "execute_result"
    }
   ],
   "source": [
    "5%2"
   ]
  },
  {
   "cell_type": "code",
   "execution_count": 28,
   "id": "b3897ea1-35fc-4435-a572-f4092be9d8de",
   "metadata": {},
   "outputs": [
    {
     "data": {
      "text/plain": [
       "1"
      ]
     },
     "execution_count": 28,
     "metadata": {},
     "output_type": "execute_result"
    }
   ],
   "source": [
    "-5%2"
   ]
  },
  {
   "cell_type": "code",
   "execution_count": 29,
   "id": "79658ad6-0955-46ae-99bf-9dea75d31e4b",
   "metadata": {},
   "outputs": [
    {
     "data": {
      "text/plain": [
       "3"
      ]
     },
     "execution_count": 29,
     "metadata": {},
     "output_type": "execute_result"
    }
   ],
   "source": [
    "123%10"
   ]
  },
  {
   "cell_type": "code",
   "execution_count": 30,
   "id": "a70a1069-733a-4f07-a70a-2ab0a0cc80f9",
   "metadata": {},
   "outputs": [
    {
     "data": {
      "text/plain": [
       "7"
      ]
     },
     "execution_count": 30,
     "metadata": {},
     "output_type": "execute_result"
    }
   ],
   "source": [
    "-123%10"
   ]
  },
  {
   "cell_type": "code",
   "execution_count": 31,
   "id": "4980fda8-a928-401b-a81d-d85791541705",
   "metadata": {},
   "outputs": [
    {
     "data": {
      "text/plain": [
       "3"
      ]
     },
     "execution_count": 31,
     "metadata": {},
     "output_type": "execute_result"
    }
   ],
   "source": [
    "-5%4"
   ]
  },
  {
   "cell_type": "code",
   "execution_count": 32,
   "id": "38b6a034-211f-4946-b2e6-33ed60c62745",
   "metadata": {},
   "outputs": [
    {
     "data": {
      "text/plain": [
       "81"
      ]
     },
     "execution_count": 32,
     "metadata": {},
     "output_type": "execute_result"
    }
   ],
   "source": [
    "3**2**2"
   ]
  },
  {
   "cell_type": "code",
   "execution_count": 33,
   "id": "a2642d6e-6181-4706-b1b7-0316589cf965",
   "metadata": {},
   "outputs": [
    {
     "data": {
      "text/plain": [
       "512"
      ]
     },
     "execution_count": 33,
     "metadata": {},
     "output_type": "execute_result"
    }
   ],
   "source": [
    "2**3**2"
   ]
  },
  {
   "cell_type": "code",
   "execution_count": 34,
   "id": "21ffe60f-1e55-4808-8688-9abc2443a4cf",
   "metadata": {},
   "outputs": [
    {
     "data": {
      "text/plain": [
       "6561"
      ]
     },
     "execution_count": 34,
     "metadata": {},
     "output_type": "execute_result"
    }
   ],
   "source": [
    "3**2**3"
   ]
  },
  {
   "cell_type": "markdown",
   "id": "d99334ee-331d-43a0-ad01-91e7589eff3f",
   "metadata": {},
   "source": [
    "### ***Comparision Operator***\n",
    "#### It allows to compare the operands and it returns a boolean value\n",
    "#### <  : less than\n",
    "#### <= : less than or equal to\n",
    "#### >  : greater than\n",
    "#### >= : greater than or equal to\n",
    "#### == : equal to\n",
    "#### != :  not equal to\n",
    "### ***Note***\n",
    "#### - We can apply comparision operator only with string, list, tuple"
   ]
  },
  {
   "cell_type": "code",
   "execution_count": 35,
   "id": "c5d9e3b0-2638-4319-8151-6b522d34e6a6",
   "metadata": {},
   "outputs": [
    {
     "name": "stdout",
     "output_type": "stream",
     "text": [
      "<   : False\n",
      "<=  : False\n",
      ">   : True\n",
      ">=  : True\n",
      "==  : False\n",
      "!=  : True\n"
     ]
    }
   ],
   "source": [
    "a = 8\n",
    "b = 5\n",
    "print(\"<   :\", a<b)\n",
    "print(\"<=  :\", a<=b)\n",
    "print(\">   :\", a>b)\n",
    "print(\">=  :\", a>=b)\n",
    "print(\"==  :\", a==b)\n",
    "print(\"!=  :\", a!=b)"
   ]
  },
  {
   "cell_type": "code",
   "execution_count": 36,
   "id": "efcb8891-2541-4efe-8d86-1cf07e9d666e",
   "metadata": {},
   "outputs": [
    {
     "name": "stdout",
     "output_type": "stream",
     "text": [
      "<   : False\n",
      "<=  : True\n",
      ">   : False\n",
      ">=  : True\n",
      "==  : True\n",
      "!=  : False\n"
     ]
    }
   ],
   "source": [
    "a = 5\n",
    "b = 5\n",
    "print(\"<   :\", a<b)\n",
    "print(\"<=  :\", a<=b)\n",
    "print(\">   :\", a>b)\n",
    "print(\">=  :\", a>=b)\n",
    "print(\"==  :\", a==b)\n",
    "print(\"!=  :\", a!=b)"
   ]
  },
  {
   "cell_type": "code",
   "execution_count": 37,
   "id": "56f67fb2-cb27-4073-b14d-22bf5827e320",
   "metadata": {},
   "outputs": [
    {
     "name": "stdout",
     "output_type": "stream",
     "text": [
      "True\n",
      "True\n",
      "True\n",
      "True\n",
      "True\n",
      "True\n"
     ]
    }
   ],
   "source": [
    "print(0==0.0)\n",
    "print(1==1.0)\n",
    "print(True==1)\n",
    "print(True==1.0)\n",
    "print(False==0)\n",
    "print(False==0.0)"
   ]
  },
  {
   "cell_type": "markdown",
   "id": "c8d01a1c-8bee-4d32-8ea8-3806bb26d9c3",
   "metadata": {},
   "source": [
    "### ***Assignment Operator***\n",
    "#### It allow us to assign a value of right hand side expression to left hand side variable\n",
    "#### += : perform addition then do asssignment\n",
    "#### -= : perform subtraction then do asssignment\n",
    "#### *= : perform multiplication then do asssignment\n",
    "#### /= : perform true division then do asssignment\n",
    "#### //= : perform floor division then do asssignment\n",
    "#### %= : perform modular division then do asssignment\n",
    "#### **= : perform exponentation then do asssignment"
   ]
  },
  {
   "cell_type": "code",
   "execution_count": 38,
   "id": "d1966237-2bb2-41da-96c4-557b811b5ec8",
   "metadata": {},
   "outputs": [
    {
     "name": "stdout",
     "output_type": "stream",
     "text": [
      "x :  10\n",
      "y :  20\n",
      "z :  30\n"
     ]
    }
   ],
   "source": [
    "x, y, z = 10, 20, 30\n",
    "print(\"x : \", x)\n",
    "print(\"y : \", y)\n",
    "print(\"z : \", z)"
   ]
  },
  {
   "cell_type": "code",
   "execution_count": 45,
   "id": "cd32357a-31c7-4c7c-b09d-8cdb3ab426ce",
   "metadata": {},
   "outputs": [
    {
     "name": "stdout",
     "output_type": "stream",
     "text": [
      "x :  10\n",
      "y :  10\n",
      "z :  10\n"
     ]
    }
   ],
   "source": [
    "x = y = z = 10\n",
    "print(\"x : \", x)\n",
    "print(\"y : \", y)\n",
    "print(\"z : \", z)"
   ]
  },
  {
   "cell_type": "code",
   "execution_count": 46,
   "id": "0d697826-f0b8-401a-840d-2ee0c7ad21df",
   "metadata": {},
   "outputs": [
    {
     "name": "stdout",
     "output_type": "stream",
     "text": [
      "30\n"
     ]
    }
   ],
   "source": [
    "x = 10\n",
    "x += 20\n",
    "print(x)"
   ]
  },
  {
   "cell_type": "code",
   "execution_count": 47,
   "id": "d002f9cb-b1ba-4cd0-9b88-eca2075a66ef",
   "metadata": {},
   "outputs": [
    {
     "name": "stdout",
     "output_type": "stream",
     "text": [
      "25\n"
     ]
    }
   ],
   "source": [
    "x -= 5\n",
    "print(x)"
   ]
  },
  {
   "cell_type": "code",
   "execution_count": 48,
   "id": "3474b172-a273-4b5c-90dd-13fae801d4cb",
   "metadata": {},
   "outputs": [
    {
     "name": "stdout",
     "output_type": "stream",
     "text": [
      "45\n"
     ]
    }
   ],
   "source": [
    "x += 20\n",
    "print(x)"
   ]
  },
  {
   "cell_type": "code",
   "execution_count": 50,
   "id": "b0a7840d-6c6e-47a7-ae5b-568e85b47970",
   "metadata": {},
   "outputs": [
    {
     "name": "stdout",
     "output_type": "stream",
     "text": [
      "22\n"
     ]
    }
   ],
   "source": [
    "x //= 2\n",
    "print(x)"
   ]
  },
  {
   "cell_type": "code",
   "execution_count": 51,
   "id": "6f8038da-5612-41a6-8cfa-4e8c0b03eb5a",
   "metadata": {},
   "outputs": [
    {
     "name": "stdout",
     "output_type": "stream",
     "text": [
      "11.0\n"
     ]
    }
   ],
   "source": [
    "x /= 2\n",
    "print(x)"
   ]
  },
  {
   "cell_type": "code",
   "execution_count": 52,
   "id": "25610c53-6d51-40d6-a9ef-4e6501831f8b",
   "metadata": {},
   "outputs": [
    {
     "name": "stdout",
     "output_type": "stream",
     "text": [
      "2.0\n"
     ]
    }
   ],
   "source": [
    "x %= 3\n",
    "print(x)"
   ]
  },
  {
   "cell_type": "markdown",
   "id": "c52df75f-8b71-4955-9b03-fd1c2e80a20b",
   "metadata": {},
   "source": [
    "### ***Bitwise Operator***\n",
    "```\n",
    "It performs a bit level operation between the operands\n",
    "\n",
    "1. Bitwsise and(&): \n",
    "    It returns true if both the inputs are 1 otherwise false\n",
    "\n",
    "2. Bitwise or(|):\n",
    "    It returns true if atleast one of the input is 1 otherwise false\n",
    "\n",
    "3. Bitwise xor(^)\n",
    "    It returns true if both the inputs are not same otherwise false\n",
    "\n",
    "4. >> : right shift ==> value//(2**k)\n",
    "5. << : left shift  ==> value*(2**k)\n",
    "6. ~n : negation    ==> -(n+1)\n",
    "```"
   ]
  },
  {
   "cell_type": "code",
   "execution_count": 53,
   "id": "2ac99c30-aa01-474d-ac21-99e5b8fe9eb0",
   "metadata": {},
   "outputs": [
    {
     "data": {
      "text/plain": [
       "'0b1100'"
      ]
     },
     "execution_count": 53,
     "metadata": {},
     "output_type": "execute_result"
    }
   ],
   "source": [
    "bin(12)"
   ]
  },
  {
   "cell_type": "code",
   "execution_count": 54,
   "id": "bd5c0292-c80f-4b6e-bf6c-62b49fa89cf3",
   "metadata": {},
   "outputs": [
    {
     "data": {
      "text/plain": [
       "'0b1011'"
      ]
     },
     "execution_count": 54,
     "metadata": {},
     "output_type": "execute_result"
    }
   ],
   "source": [
    "bin(11)"
   ]
  },
  {
   "cell_type": "code",
   "execution_count": 55,
   "id": "8656f30d-f55b-4e69-a4c5-65ee7b39b751",
   "metadata": {},
   "outputs": [
    {
     "data": {
      "text/plain": [
       "8"
      ]
     },
     "execution_count": 55,
     "metadata": {},
     "output_type": "execute_result"
    }
   ],
   "source": [
    "12 & 11"
   ]
  },
  {
   "cell_type": "code",
   "execution_count": 56,
   "id": "700cce1f-53ad-4180-a6a2-b2b430bd5218",
   "metadata": {},
   "outputs": [
    {
     "data": {
      "text/plain": [
       "15"
      ]
     },
     "execution_count": 56,
     "metadata": {},
     "output_type": "execute_result"
    }
   ],
   "source": [
    "12 | 11"
   ]
  },
  {
   "cell_type": "code",
   "execution_count": 57,
   "id": "70d663ec-3eff-4d9b-b723-afad86cf421b",
   "metadata": {},
   "outputs": [
    {
     "data": {
      "text/plain": [
       "7"
      ]
     },
     "execution_count": 57,
     "metadata": {},
     "output_type": "execute_result"
    }
   ],
   "source": [
    "12 ^ 11"
   ]
  },
  {
   "cell_type": "code",
   "execution_count": 58,
   "id": "193842b2-54a2-4cc9-95df-ad09bdaee195",
   "metadata": {},
   "outputs": [
    {
     "data": {
      "text/plain": [
       "'0b1110'"
      ]
     },
     "execution_count": 58,
     "metadata": {},
     "output_type": "execute_result"
    }
   ],
   "source": [
    "bin(14)"
   ]
  },
  {
   "cell_type": "code",
   "execution_count": 59,
   "id": "54790d14-f9d6-47ac-912e-0466763086b1",
   "metadata": {},
   "outputs": [
    {
     "data": {
      "text/plain": [
       "'0b10101'"
      ]
     },
     "execution_count": 59,
     "metadata": {},
     "output_type": "execute_result"
    }
   ],
   "source": [
    "bin(21)"
   ]
  },
  {
   "cell_type": "code",
   "execution_count": 60,
   "id": "22ff93cf-fc54-45ce-bde2-d0ff897252cc",
   "metadata": {},
   "outputs": [
    {
     "data": {
      "text/plain": [
       "4"
      ]
     },
     "execution_count": 60,
     "metadata": {},
     "output_type": "execute_result"
    }
   ],
   "source": [
    "14 & 21"
   ]
  },
  {
   "cell_type": "code",
   "execution_count": 61,
   "id": "478ace39-f75d-4e44-b584-20fbfd1c4ea4",
   "metadata": {},
   "outputs": [
    {
     "data": {
      "text/plain": [
       "31"
      ]
     },
     "execution_count": 61,
     "metadata": {},
     "output_type": "execute_result"
    }
   ],
   "source": [
    "14 | 21"
   ]
  },
  {
   "cell_type": "code",
   "execution_count": 62,
   "id": "007f5e97-9d04-45af-b411-e113ecfa1613",
   "metadata": {},
   "outputs": [
    {
     "data": {
      "text/plain": [
       "27"
      ]
     },
     "execution_count": 62,
     "metadata": {},
     "output_type": "execute_result"
    }
   ],
   "source": [
    "14 ^ 21"
   ]
  },
  {
   "cell_type": "code",
   "execution_count": 63,
   "id": "e1c2f587-74e2-4a95-9371-bf5247678e31",
   "metadata": {},
   "outputs": [
    {
     "data": {
      "text/plain": [
       "-14"
      ]
     },
     "execution_count": 63,
     "metadata": {},
     "output_type": "execute_result"
    }
   ],
   "source": [
    "~13"
   ]
  },
  {
   "cell_type": "code",
   "execution_count": 64,
   "id": "fde840ce-826c-4be3-9b5c-fe1555ce30a6",
   "metadata": {},
   "outputs": [
    {
     "data": {
      "text/plain": [
       "13"
      ]
     },
     "execution_count": 64,
     "metadata": {},
     "output_type": "execute_result"
    }
   ],
   "source": [
    "~-14"
   ]
  },
  {
   "cell_type": "code",
   "execution_count": 65,
   "id": "3616fa3a-71da-4468-a663-baf9d355f32f",
   "metadata": {},
   "outputs": [
    {
     "name": "stdout",
     "output_type": "stream",
     "text": [
      "40\n",
      "2\n"
     ]
    }
   ],
   "source": [
    "print(10<<2)\n",
    "print(10>>2)"
   ]
  },
  {
   "cell_type": "code",
   "execution_count": 1,
   "id": "8da81e57-129d-43fc-9692-8890c0cfe3a9",
   "metadata": {},
   "outputs": [
    {
     "ename": "ValueError",
     "evalue": "negative shift count",
     "output_type": "error",
     "traceback": [
      "\u001b[1;31m---------------------------------------------------------------------------\u001b[0m",
      "\u001b[1;31mValueError\u001b[0m                                Traceback (most recent call last)",
      "Cell \u001b[1;32mIn[1], line 1\u001b[0m\n\u001b[1;32m----> 1\u001b[0m \u001b[38;5;28mprint\u001b[39m(\u001b[38;5;241m10\u001b[39m\u001b[38;5;241m<<\u001b[39m\u001b[38;5;241m-\u001b[39m\u001b[38;5;241m2\u001b[39m)\n",
      "\u001b[1;31mValueError\u001b[0m: negative shift count"
     ]
    }
   ],
   "source": [
    "print(10<<-2)"
   ]
  },
  {
   "cell_type": "code",
   "execution_count": 2,
   "id": "2bead47c-f4a7-4cbc-b0e9-1eb6cb9c4a2b",
   "metadata": {},
   "outputs": [
    {
     "ename": "ValueError",
     "evalue": "negative shift count",
     "output_type": "error",
     "traceback": [
      "\u001b[1;31m---------------------------------------------------------------------------\u001b[0m",
      "\u001b[1;31mValueError\u001b[0m                                Traceback (most recent call last)",
      "Cell \u001b[1;32mIn[2], line 1\u001b[0m\n\u001b[1;32m----> 1\u001b[0m \u001b[38;5;28mprint\u001b[39m(\u001b[38;5;241m10\u001b[39m\u001b[38;5;241m>>\u001b[39m\u001b[38;5;241m-\u001b[39m\u001b[38;5;241m2\u001b[39m)\n",
      "\u001b[1;31mValueError\u001b[0m: negative shift count"
     ]
    }
   ],
   "source": [
    "print(10>>-2)"
   ]
  },
  {
   "cell_type": "markdown",
   "id": "85883416-e1d7-4992-b33c-c5a0f4f2fb50",
   "metadata": {},
   "source": [
    "### ***Point to remember***\n",
    "#### - Never provide shift value as negative integer"
   ]
  },
  {
   "cell_type": "code",
   "execution_count": 66,
   "id": "981ccac4-5b21-43ab-8423-ac4608cc0631",
   "metadata": {},
   "outputs": [
    {
     "name": "stdout",
     "output_type": "stream",
     "text": [
      "240\n",
      "480\n",
      "960\n",
      "1920\n"
     ]
    }
   ],
   "source": [
    "print(120<<1)\n",
    "print(120<<2)\n",
    "print(120<<3)\n",
    "print(120<<4)"
   ]
  },
  {
   "cell_type": "code",
   "execution_count": 67,
   "id": "823fc54e-be7e-4d56-b75a-2d428d1518e6",
   "metadata": {},
   "outputs": [
    {
     "name": "stdout",
     "output_type": "stream",
     "text": [
      "-240\n",
      "-480\n",
      "-960\n",
      "-1920\n"
     ]
    }
   ],
   "source": [
    "print(-120<<1)\n",
    "print(-120<<2)\n",
    "print(-120<<3)\n",
    "print(-120<<4)"
   ]
  },
  {
   "cell_type": "code",
   "execution_count": 68,
   "id": "de2221ab-d6c3-4937-8046-17b8242c3986",
   "metadata": {},
   "outputs": [
    {
     "name": "stdout",
     "output_type": "stream",
     "text": [
      "60\n",
      "30\n",
      "15\n",
      "7\n"
     ]
    }
   ],
   "source": [
    "print(120>>1)\n",
    "print(120>>2)\n",
    "print(120>>3)\n",
    "print(120>>4)"
   ]
  },
  {
   "cell_type": "code",
   "execution_count": 69,
   "id": "cbc16dea-6d2c-47c9-91ee-28afad72d753",
   "metadata": {},
   "outputs": [
    {
     "name": "stdout",
     "output_type": "stream",
     "text": [
      "-60\n",
      "-30\n",
      "-15\n",
      "-8\n"
     ]
    }
   ],
   "source": [
    "print(-120>>1)\n",
    "print(-120>>2)\n",
    "print(-120>>3)\n",
    "print(-120>>4)"
   ]
  },
  {
   "cell_type": "markdown",
   "id": "b0769441-39ea-41c8-b6dd-375feab891ad",
   "metadata": {},
   "source": [
    "### ***Logical Operator***\n",
    "```\n",
    "Suppose, We need to perform more than one comparision operation in a single line, then we use logical operator\n",
    "\n",
    "1. logical and(and):\n",
    "\n",
    "    ==> In case of And, If the first condition is false control skip the remaining condition\n",
    "\n",
    "2. logical or(or):\n",
    "\n",
    "    ==> In case of Or, If the first condition is true control skip the remaining condition\n",
    "\n",
    "3. logical not(not):\n",
    "\n",
    "    ==> In case of not, It always return boolean value opposite to given input variable boolean value\n",
    "\n",
    "```"
   ]
  },
  {
   "cell_type": "code",
   "execution_count": 4,
   "id": "0d83e2c0-792b-42be-a842-d06a1730b065",
   "metadata": {},
   "outputs": [
    {
     "name": "stdout",
     "output_type": "stream",
     "text": [
      "x>4 and y<12 :  True\n",
      "x>4 and y<10 :  False\n",
      "x>6 and y<10 :  False\n",
      "x>6 and y<12 :  False\n",
      "x>4 or y<12  :  True\n",
      "x>4 or y<10  :  True\n",
      "x>6 or y<10  :  False\n",
      "x>6 or y<12  :  True\n"
     ]
    }
   ],
   "source": [
    "x = 5\n",
    "y = 10\n",
    "print(\"x>4 and y<12 : \", x>4 and y<12)\n",
    "print(\"x>4 and y<10 : \", x>4 and y<10)\n",
    "print(\"x>6 and y<10 : \", x>6 and y<10)\n",
    "print(\"x>6 and y<12 : \", x>6 and y<12)\n",
    "print(\"x>4 or y<12  : \", x>4 or y<12)\n",
    "print(\"x>4 or y<10  : \", x>4 or y<10)\n",
    "print(\"x>6 or y<10  : \", x>6 or y<10)\n",
    "print(\"x>6 or y<12  : \", x>6 or y<12)"
   ]
  },
  {
   "cell_type": "code",
   "execution_count": 71,
   "id": "76604afa-b54e-410f-8641-56565c8e161b",
   "metadata": {},
   "outputs": [
    {
     "name": "stdout",
     "output_type": "stream",
     "text": [
      "12\n"
     ]
    }
   ],
   "source": [
    "a = 8 \n",
    "b = 5 \n",
    "c = 12 \n",
    "print(a and b and c)"
   ]
  },
  {
   "cell_type": "code",
   "execution_count": 73,
   "id": "4dcbfbd0-0c96-4d18-94da-7d140b85d8a5",
   "metadata": {},
   "outputs": [
    {
     "name": "stdout",
     "output_type": "stream",
     "text": [
      "0\n"
     ]
    }
   ],
   "source": [
    "a = 8 \n",
    "b = 5 \n",
    "c = 0\n",
    "print(a and b and c)"
   ]
  },
  {
   "cell_type": "code",
   "execution_count": 74,
   "id": "f76a1b6d-96b5-4d13-a90b-9318fa8d008d",
   "metadata": {},
   "outputs": [
    {
     "name": "stdout",
     "output_type": "stream",
     "text": [
      "0\n"
     ]
    }
   ],
   "source": [
    "a = 8 \n",
    "b = 0 \n",
    "c = 12 \n",
    "print(a and b and c)"
   ]
  },
  {
   "cell_type": "code",
   "execution_count": 75,
   "id": "699c81e7-7194-4909-9c26-a64ca6f737f5",
   "metadata": {},
   "outputs": [
    {
     "name": "stdout",
     "output_type": "stream",
     "text": [
      "0\n"
     ]
    }
   ],
   "source": [
    "a = 0 \n",
    "b = 5 \n",
    "c = 12 \n",
    "print(a and b and c)"
   ]
  },
  {
   "cell_type": "code",
   "execution_count": 76,
   "id": "18b7d478-f63b-4b91-8153-714827b29e63",
   "metadata": {},
   "outputs": [
    {
     "name": "stdout",
     "output_type": "stream",
     "text": [
      "8\n"
     ]
    }
   ],
   "source": [
    "a = 8 \n",
    "b = 5 \n",
    "c = 12 \n",
    "print(a or b or c)"
   ]
  },
  {
   "cell_type": "code",
   "execution_count": 79,
   "id": "272258d3-b859-4805-8366-21cec3f1b1b0",
   "metadata": {},
   "outputs": [
    {
     "name": "stdout",
     "output_type": "stream",
     "text": [
      "5\n"
     ]
    }
   ],
   "source": [
    "a = 0 \n",
    "b = 5 \n",
    "c = 12 \n",
    "print(a or b or c)"
   ]
  },
  {
   "cell_type": "code",
   "execution_count": 80,
   "id": "4263da0c-863f-4bbe-9c94-05cb80c55e47",
   "metadata": {},
   "outputs": [
    {
     "name": "stdout",
     "output_type": "stream",
     "text": [
      "12\n"
     ]
    }
   ],
   "source": [
    "a = 0 \n",
    "b = 0 \n",
    "c = 12 \n",
    "print(a or b or c)"
   ]
  },
  {
   "cell_type": "code",
   "execution_count": 81,
   "id": "90d384dd-346a-44a7-88ca-3fa7e953c428",
   "metadata": {},
   "outputs": [
    {
     "name": "stdout",
     "output_type": "stream",
     "text": [
      "0\n"
     ]
    }
   ],
   "source": [
    "a = 0 \n",
    "b = 0 \n",
    "c = 0 \n",
    "print(a or b or c)"
   ]
  },
  {
   "cell_type": "code",
   "execution_count": 82,
   "id": "fbb66d58-7f82-4c4c-b6de-ac14d97be092",
   "metadata": {},
   "outputs": [
    {
     "name": "stdout",
     "output_type": "stream",
     "text": [
      "-1\n"
     ]
    }
   ],
   "source": [
    "a = -1\n",
    "b = -2 \n",
    "c = -3 \n",
    "print(a or b or c)"
   ]
  },
  {
   "cell_type": "code",
   "execution_count": 83,
   "id": "3ece97d9-2925-44b1-86bf-34c05150ae44",
   "metadata": {},
   "outputs": [
    {
     "name": "stdout",
     "output_type": "stream",
     "text": [
      "-3\n"
     ]
    }
   ],
   "source": [
    "print(a and b and c)"
   ]
  },
  {
   "cell_type": "code",
   "execution_count": 85,
   "id": "7f71e0d5-3fdf-4650-9663-cdef04363846",
   "metadata": {},
   "outputs": [
    {
     "data": {
      "text/plain": [
       "False"
      ]
     },
     "execution_count": 85,
     "metadata": {},
     "output_type": "execute_result"
    }
   ],
   "source": [
    "not(a or b or c)"
   ]
  },
  {
   "cell_type": "code",
   "execution_count": 86,
   "id": "ab11e073-a28f-4272-a569-3febe9d8c163",
   "metadata": {},
   "outputs": [
    {
     "name": "stdout",
     "output_type": "stream",
     "text": [
      "5\n",
      "10\n",
      "True\n",
      "False\n"
     ]
    }
   ],
   "source": [
    "a = 10\n",
    "b = 5\n",
    "c = 12\n",
    "d = 0\n",
    "print(a and c and b)\n",
    "print(d or a or c)\n",
    "print(not(a and d and b))\n",
    "print(not(d or d or a))"
   ]
  },
  {
   "cell_type": "markdown",
   "id": "f2790b8b-aec3-44af-96de-7ff7da0a9811",
   "metadata": {},
   "source": [
    "### ***Membership Operator***\n",
    "```\n",
    "==> It allows us to check elements in collection data type\n",
    "\n",
    "==> in     : It returns true, if an element is present in collection data type otherwise false\n",
    "\n",
    "==> not in : It returns true, if an element is not present in collection data type otherwise false\n",
    "```"
   ]
  },
  {
   "cell_type": "code",
   "execution_count": 89,
   "id": "5a5499e4-c7d9-473e-add7-7e468045375b",
   "metadata": {},
   "outputs": [
    {
     "name": "stdout",
     "output_type": "stream",
     "text": [
      "'P' in s:  True\n",
      "'p' in s: False\n",
      "'1' in s: True\n",
      "'P' not in s: False\n",
      "'p' not in s: True\n",
      "'1' not in s: False\n",
      "'#' in s: False\n",
      "'#' not in s: True\n",
      "'TH' in s: True\n",
      "'TO' in s: False\n"
     ]
    }
   ],
   "source": [
    "s = \"PYTHON@123\"\n",
    "print(\"'P' in s: \",'P' in s)\n",
    "print(\"'p' in s:\",'p' in s)\n",
    "print(\"'1' in s:\",'1' in s)\n",
    "print(\"'P' not in s:\",'P' not in s)\n",
    "print(\"'p' not in s:\",'p' not in s)\n",
    "print(\"'1' not in s:\",'1' not in s)\n",
    "print(\"'#' in s:\", '#' in s)\n",
    "print(\"'#' not in s:\",'#' not in s)\n",
    "print(\"'TH' in s:\",'TH' in s)\n",
    "print(\"'TO' in s:\",'TO' in s)"
   ]
  },
  {
   "cell_type": "code",
   "execution_count": 6,
   "id": "b20c2be2-0a87-40a0-8ad7-20e4c46139b2",
   "metadata": {},
   "outputs": [
    {
     "name": "stdout",
     "output_type": "stream",
     "text": [
      "11 in l      :  True\n",
      "'ab' in l    :  False\n",
      "'ab' in l[2] :  True\n"
     ]
    }
   ],
   "source": [
    "l = [11, 12, 'abc', True, 13]\n",
    "print(\"11 in l      : \", 11 in l)\n",
    "print(\"'ab' in l    : \", 'ab' in l)\n",
    "print(\"'ab' in l[2] : \", 'ab' in l[2])"
   ]
  },
  {
   "cell_type": "code",
   "execution_count": 91,
   "id": "a06b0ff0-cb10-4991-a318-44d3e8228dec",
   "metadata": {},
   "outputs": [
    {
     "ename": "TypeError",
     "evalue": "argument of type 'int' is not iterable",
     "output_type": "error",
     "traceback": [
      "\u001b[1;31m---------------------------------------------------------------------------\u001b[0m",
      "\u001b[1;31mTypeError\u001b[0m                                 Traceback (most recent call last)",
      "Cell \u001b[1;32mIn[91], line 1\u001b[0m\n\u001b[1;32m----> 1\u001b[0m \u001b[38;5;28mprint\u001b[39m(\u001b[38;5;124m\"\u001b[39m\u001b[38;5;124m11 in l[0]\u001b[39m\u001b[38;5;124m\"\u001b[39m, \u001b[38;5;241m11\u001b[39m \u001b[38;5;129;01min\u001b[39;00m l[\u001b[38;5;241m0\u001b[39m])\n",
      "\u001b[1;31mTypeError\u001b[0m: argument of type 'int' is not iterable"
     ]
    }
   ],
   "source": [
    "print(\"11 in l[0]\", 11 in l[0])"
   ]
  },
  {
   "cell_type": "code",
   "execution_count": 94,
   "id": "41431f86-c1a0-435c-b8a5-7dcc593f14dd",
   "metadata": {},
   "outputs": [
    {
     "name": "stdout",
     "output_type": "stream",
     "text": [
      "11 in l     :  True\n",
      "11 in l[-2] :  False\n"
     ]
    }
   ],
   "source": [
    "l = (11, 12, 'abc', True, [22, 33, 44], 13)\n",
    "print(\"11 in l     : \", 11 in l)\n",
    "print(\"11 in l[-2] : \", 11 in l[-2])"
   ]
  },
  {
   "cell_type": "code",
   "execution_count": 95,
   "id": "f37c208d-a527-4a2d-bfa5-229fcc95ed21",
   "metadata": {},
   "outputs": [
    {
     "name": "stdout",
     "output_type": "stream",
     "text": [
      "True\n"
     ]
    }
   ],
   "source": [
    "l = {11, 12, 'abc', True, 13}\n",
    "print(1 in l)"
   ]
  },
  {
   "cell_type": "code",
   "execution_count": 7,
   "id": "df4ba240-2d6d-4dfe-9bed-6cc73c420a32",
   "metadata": {},
   "outputs": [
    {
     "name": "stdout",
     "output_type": "stream",
     "text": [
      "'a' in d :  True\n",
      "10 in d  :  False\n"
     ]
    }
   ],
   "source": [
    "d = {'a': 10, 'b': 20, 'ab': 25, 'c': 35}\n",
    "print(\"'a' in d : \",'a' in d)\n",
    "print(\"10 in d  : \",10 in d)"
   ]
  },
  {
   "cell_type": "code",
   "execution_count": 98,
   "id": "93e0f2b8-d0a9-479f-a2a1-f097ef86ddd0",
   "metadata": {},
   "outputs": [
    {
     "name": "stdout",
     "output_type": "stream",
     "text": [
      "10 in d.values() :  True\n"
     ]
    }
   ],
   "source": [
    "print(\"10 in d.values() : \", 10 in d.values())"
   ]
  },
  {
   "cell_type": "markdown",
   "id": "764145f7-8c78-4f0e-8913-6699cb9817e8",
   "metadata": {},
   "source": [
    "### ***Identity Operator***\n",
    "```\n",
    "==> It checks both variable points to same memory address or not\n",
    "\n",
    "==> is     : It returns true, if refference of both the variables points to same memory address otherwise false\n",
    "\n",
    "==> is not : It returns true, if refference of both the variables not points to same memory address otherwise false\n",
    "\n",
    "==> small integers and small strings values of variables returns true if both the variables have same value\n",
    "```"
   ]
  },
  {
   "cell_type": "code",
   "execution_count": 120,
   "id": "8278447f-e58b-478b-8519-6148bc006a08",
   "metadata": {},
   "outputs": [
    {
     "name": "stdout",
     "output_type": "stream",
     "text": [
      "140704490308680\n",
      "140704490308680\n",
      "True\n",
      "False\n"
     ]
    }
   ],
   "source": [
    "a = 10\n",
    "b = 10\n",
    "print(id(a))\n",
    "print(id(b))\n",
    "print(a is b)\n",
    "print(a is not b)"
   ]
  },
  {
   "cell_type": "code",
   "execution_count": 119,
   "id": "f7a4a43a-23f4-444d-9d9d-f2cf1cb2498a",
   "metadata": {},
   "outputs": [
    {
     "name": "stdout",
     "output_type": "stream",
     "text": [
      "140704490308680\n",
      "140704490309000\n",
      "False\n",
      "True\n"
     ]
    }
   ],
   "source": [
    "a = 10\n",
    "b = 20\n",
    "print(id(a))\n",
    "print(id(b))\n",
    "print(a is b)\n",
    "print(a is not b)"
   ]
  },
  {
   "cell_type": "code",
   "execution_count": 118,
   "id": "8696eac0-3cc4-4306-bf29-0e67ce3b755f",
   "metadata": {},
   "outputs": [
    {
     "name": "stdout",
     "output_type": "stream",
     "text": [
      "1794821185008\n",
      "1794803645904\n",
      "False\n",
      "True\n"
     ]
    }
   ],
   "source": [
    "a = 3.5\n",
    "b = 3.05\n",
    "print(id(a))\n",
    "print(id(b))\n",
    "print(a is b)\n",
    "print(a is not b)"
   ]
  },
  {
   "cell_type": "code",
   "execution_count": 117,
   "id": "ca6fc4ac-2c0d-4822-93d6-7d4bd55c27b4",
   "metadata": {},
   "outputs": [
    {
     "name": "stdout",
     "output_type": "stream",
     "text": [
      "140704488835648\n",
      "140704488835680\n",
      "False\n",
      "True\n"
     ]
    }
   ],
   "source": [
    "a = True\n",
    "b = False\n",
    "print(id(a))\n",
    "print(id(b))\n",
    "print(a is b)\n",
    "print(a is not b)"
   ]
  },
  {
   "cell_type": "code",
   "execution_count": 116,
   "id": "b67490fb-23fa-4a52-aea6-bf70d31d47b9",
   "metadata": {},
   "outputs": [
    {
     "name": "stdout",
     "output_type": "stream",
     "text": [
      "1794803644560\n",
      "1794803645904\n",
      "False\n",
      "True\n"
     ]
    }
   ],
   "source": [
    "a = 3.5\n",
    "b = 3.05\n",
    "print(id(a))\n",
    "print(id(b))\n",
    "print(a is b)\n",
    "print(a is not b)"
   ]
  },
  {
   "cell_type": "code",
   "execution_count": 115,
   "id": "c233a9cb-f33f-4c6a-ad3f-84ed4fdb0dcb",
   "metadata": {},
   "outputs": [
    {
     "name": "stdout",
     "output_type": "stream",
     "text": [
      "140704489105200\n",
      "140704489105200\n",
      "True\n",
      "False\n"
     ]
    }
   ],
   "source": [
    "a = 'abc'\n",
    "b = 'abc'\n",
    "print(id(a))\n",
    "print(id(b))\n",
    "print(a is b)\n",
    "print(a is not b)"
   ]
  },
  {
   "cell_type": "code",
   "execution_count": 114,
   "id": "745e7524-5b06-466e-b1a4-5482f0580702",
   "metadata": {},
   "outputs": [
    {
     "name": "stdout",
     "output_type": "stream",
     "text": [
      "140704489105200\n",
      "1794822367536\n",
      "False\n",
      "True\n"
     ]
    }
   ],
   "source": [
    "a = 'abc'\n",
    "b = 'abcd'\n",
    "print(id(a))\n",
    "print(id(b))\n",
    "print(a is b)\n",
    "print(a is not b)"
   ]
  },
  {
   "cell_type": "code",
   "execution_count": 113,
   "id": "9ae6273a-bad0-4381-ba86-214953ca1418",
   "metadata": {},
   "outputs": [
    {
     "name": "stdout",
     "output_type": "stream",
     "text": [
      "1794822359616\n",
      "1794822360512\n",
      "False\n",
      "True\n"
     ]
    }
   ],
   "source": [
    "a = [11, 12, 13]\n",
    "b = [11, 12, 13]\n",
    "print(id(a))\n",
    "print(id(b))\n",
    "print(a is b)\n",
    "print(a is not b)"
   ]
  },
  {
   "cell_type": "code",
   "execution_count": 112,
   "id": "fb63d1e9-63cd-4ef1-9a96-500be89809c7",
   "metadata": {},
   "outputs": [
    {
     "name": "stdout",
     "output_type": "stream",
     "text": [
      "1794822428736\n",
      "1794822320320\n",
      "False\n",
      "True\n"
     ]
    }
   ],
   "source": [
    "a = (11, 12, 13)\n",
    "b = (11, 12, 13)\n",
    "print(id(a))\n",
    "print(id(b))\n",
    "print(a is b)\n",
    "print(a is not b)"
   ]
  },
  {
   "cell_type": "code",
   "execution_count": 111,
   "id": "e2e99f59-3029-4f72-a18e-ccecdd239046",
   "metadata": {},
   "outputs": [
    {
     "name": "stdout",
     "output_type": "stream",
     "text": [
      "1794821950592\n",
      "1794821952160\n",
      "False\n",
      "True\n"
     ]
    }
   ],
   "source": [
    "a = {11, 12, 13}\n",
    "b = {11, 12, 13}\n",
    "print(id(a))\n",
    "print(id(b))\n",
    "print(a is b)\n",
    "print(a is not b)"
   ]
  },
  {
   "cell_type": "code",
   "execution_count": 110,
   "id": "657961af-c1c6-4094-8026-4ff19c4857e0",
   "metadata": {},
   "outputs": [
    {
     "name": "stdout",
     "output_type": "stream",
     "text": [
      "1794822006720\n",
      "1794822006848\n",
      "False\n",
      "True\n"
     ]
    }
   ],
   "source": [
    "a = {'a': 10, 'b': 20}\n",
    "b = {'a': 10, 'b': 20}\n",
    "print(id(a))\n",
    "print(id(b))\n",
    "print(a is b)\n",
    "print(a is not b)"
   ]
  },
  {
   "cell_type": "markdown",
   "id": "442659ff-8413-42da-8ded-964da6c95527",
   "metadata": {},
   "source": [
    "### ***Operator Precedence***\n",
    "#### every expression evaluation in python has to follow operator precedence to solve it in step by step manner\n",
    "#### 1. Paranthesis   ==> () [] {} ==> left to right\n",
    "#### 2. Exponentation ==> **       ==> right to left\n",
    "#### 3. Unary operator==> +x, -x, ~x ==> right to left\n",
    "#### 4. Multiplication, division ==> *, /, //, % ==> left to right\n",
    "#### 5. Addition, subtraction  ==> +, - ==> left to right\n",
    "#### 6. Bitwise operator ==> <<, >>, &, ^, | ==> left to right\n",
    "#### 7. Membership operator , Identity operator, comparision operator==> in, not in, is, is not, (==, !=, <=, >=, <, >) ==> left to right\n",
    "#### 8. logical operator ==>  not() ==> right to left\n",
    "#### 9. logical operator ==> and, or ==> left to right"
   ]
  },
  {
   "cell_type": "markdown",
   "id": "55c45166-5fd1-4869-9a29-a5d7b37b7f1b",
   "metadata": {},
   "source": [
    "![](OperatorPrecedence.png)"
   ]
  },
  {
   "cell_type": "code",
   "execution_count": 122,
   "id": "5d520cae-0978-4e42-8703-362e28091f3e",
   "metadata": {},
   "outputs": [
    {
     "data": {
      "text/plain": [
       "43.0"
      ]
     },
     "execution_count": 122,
     "metadata": {},
     "output_type": "execute_result"
    }
   ],
   "source": [
    "10+18*2-9/3"
   ]
  },
  {
   "cell_type": "code",
   "execution_count": 123,
   "id": "ea29f6af-f9d1-4028-8937-f2aaf7da485c",
   "metadata": {},
   "outputs": [
    {
     "data": {
      "text/plain": [
       "2"
      ]
     },
     "execution_count": 123,
     "metadata": {},
     "output_type": "execute_result"
    }
   ],
   "source": [
    "10//4"
   ]
  },
  {
   "cell_type": "code",
   "execution_count": 124,
   "id": "f6b22c6b-9efa-41a4-9b29-6d4fec01e840",
   "metadata": {},
   "outputs": [
    {
     "data": {
      "text/plain": [
       "2.0"
      ]
     },
     "execution_count": 124,
     "metadata": {},
     "output_type": "execute_result"
    }
   ],
   "source": [
    "10//4.0"
   ]
  },
  {
   "cell_type": "code",
   "execution_count": 125,
   "id": "1647f46d-fb28-4933-8b25-619d7967537c",
   "metadata": {},
   "outputs": [
    {
     "data": {
      "text/plain": [
       "2.0"
      ]
     },
     "execution_count": 125,
     "metadata": {},
     "output_type": "execute_result"
    }
   ],
   "source": [
    "10.5//4"
   ]
  },
  {
   "cell_type": "code",
   "execution_count": 126,
   "id": "312bfc03-2120-4ba2-949b-70423458df78",
   "metadata": {},
   "outputs": [
    {
     "data": {
      "text/plain": [
       "68"
      ]
     },
     "execution_count": 126,
     "metadata": {},
     "output_type": "execute_result"
    }
   ],
   "source": [
    "4^2<<3+48//24"
   ]
  },
  {
   "cell_type": "code",
   "execution_count": 127,
   "id": "90d935e2-ff4f-49b1-8c45-4d5967d64fbb",
   "metadata": {},
   "outputs": [
    {
     "data": {
      "text/plain": [
       "-2"
      ]
     },
     "execution_count": 127,
     "metadata": {},
     "output_type": "execute_result"
    }
   ],
   "source": [
    "-5//2//2"
   ]
  },
  {
   "cell_type": "code",
   "execution_count": 128,
   "id": "a9e46307-42b8-492e-9a13-54e6742b18f1",
   "metadata": {},
   "outputs": [
    {
     "data": {
      "text/plain": [
       "True"
      ]
     },
     "execution_count": 128,
     "metadata": {},
     "output_type": "execute_result"
    }
   ],
   "source": [
    "10>7==7<12"
   ]
  },
  {
   "cell_type": "code",
   "execution_count": 129,
   "id": "796da19c-065b-4596-aae8-40ca104e74b6",
   "metadata": {},
   "outputs": [
    {
     "data": {
      "text/plain": [
       "False"
      ]
     },
     "execution_count": 129,
     "metadata": {},
     "output_type": "execute_result"
    }
   ],
   "source": [
    "10>7==8<12"
   ]
  },
  {
   "cell_type": "code",
   "execution_count": 130,
   "id": "a522aaa9-3b2e-4411-b6e4-27ec7f961b76",
   "metadata": {},
   "outputs": [
    {
     "data": {
      "text/plain": [
       "True"
      ]
     },
     "execution_count": 130,
     "metadata": {},
     "output_type": "execute_result"
    }
   ],
   "source": [
    "(10>7)==(8<12)"
   ]
  },
  {
   "cell_type": "code",
   "execution_count": 131,
   "id": "25a6ba43-66d9-42cd-a8e6-524f861d9006",
   "metadata": {},
   "outputs": [
    {
     "data": {
      "text/plain": [
       "False"
      ]
     },
     "execution_count": 131,
     "metadata": {},
     "output_type": "execute_result"
    }
   ],
   "source": [
    "(10>7)==8<12"
   ]
  },
  {
   "cell_type": "code",
   "execution_count": 132,
   "id": "6c6efc1f-164c-4ef5-92fc-c0d2d8554593",
   "metadata": {},
   "outputs": [
    {
     "data": {
      "text/plain": [
       "True"
      ]
     },
     "execution_count": 132,
     "metadata": {},
     "output_type": "execute_result"
    }
   ],
   "source": [
    "10>(7==8)<12"
   ]
  },
  {
   "cell_type": "code",
   "execution_count": 133,
   "id": "10579e7d-7a4e-46d2-93e4-07eb25feb82e",
   "metadata": {},
   "outputs": [
    {
     "data": {
      "text/plain": [
       "False"
      ]
     },
     "execution_count": 133,
     "metadata": {},
     "output_type": "execute_result"
    }
   ],
   "source": [
    "10>(7==8)<-1"
   ]
  },
  {
   "cell_type": "code",
   "execution_count": 134,
   "id": "cee1d013-5d93-4457-bd39-16b06fff4bf2",
   "metadata": {},
   "outputs": [
    {
     "data": {
      "text/plain": [
       "False"
      ]
     },
     "execution_count": 134,
     "metadata": {},
     "output_type": "execute_result"
    }
   ],
   "source": [
    "10>7==(8<12)"
   ]
  },
  {
   "cell_type": "code",
   "execution_count": 135,
   "id": "2a44c536-b964-4271-b44c-53c71fe22137",
   "metadata": {},
   "outputs": [
    {
     "data": {
      "text/plain": [
       "True"
      ]
     },
     "execution_count": 135,
     "metadata": {},
     "output_type": "execute_result"
    }
   ],
   "source": [
    "10>1==(8<12)"
   ]
  },
  {
   "cell_type": "code",
   "execution_count": 136,
   "id": "d5529f21-792c-4031-a2da-4c1e2bc21de2",
   "metadata": {},
   "outputs": [
    {
     "data": {
      "text/plain": [
       "True"
      ]
     },
     "execution_count": 136,
     "metadata": {},
     "output_type": "execute_result"
    }
   ],
   "source": [
    "bool(8)"
   ]
  },
  {
   "cell_type": "code",
   "execution_count": 137,
   "id": "16826c35-41c2-446d-8195-ca8cc4fafb76",
   "metadata": {},
   "outputs": [
    {
     "data": {
      "text/plain": [
       "False"
      ]
     },
     "execution_count": 137,
     "metadata": {},
     "output_type": "execute_result"
    }
   ],
   "source": [
    "8 == True"
   ]
  },
  {
   "cell_type": "markdown",
   "id": "e80ca3a8-ec66-4a7e-bb4d-5590a43856d2",
   "metadata": {},
   "source": [
    "### ***Unicode Representation***\n",
    "#### - Python uses unicode representation to represent strings\n",
    "#### - Universal character encoding standard"
   ]
  },
  {
   "cell_type": "code",
   "execution_count": 139,
   "id": "543cb8a8-1afc-4721-9c5e-5a9f2ac2d336",
   "metadata": {},
   "outputs": [
    {
     "name": "stdout",
     "output_type": "stream",
     "text": [
      "character :  0\n",
      "unicode value :  48\n",
      "character :  9\n",
      "unicode value :  57\n",
      "character :  a\n",
      "unicode value :  97\n",
      "character :  z\n",
      "unicode value :  122\n",
      "character :  A\n",
      "unicode value :  65\n",
      "character :  Z\n",
      "unicode value :  90\n"
     ]
    }
   ],
   "source": [
    "alnum = \"09azAZ\"\n",
    "for c in alnum:\n",
    "    print(\"character : \", c)\n",
    "    print(\"unicode value : \", ord(c))"
   ]
  },
  {
   "cell_type": "code",
   "execution_count": null,
   "id": "b88e4d76-f827-401b-8ae1-04c575292a35",
   "metadata": {},
   "outputs": [],
   "source": []
  }
 ],
 "metadata": {
  "kernelspec": {
   "display_name": "Python 3 (ipykernel)",
   "language": "python",
   "name": "python3"
  },
  "language_info": {
   "codemirror_mode": {
    "name": "ipython",
    "version": 3
   },
   "file_extension": ".py",
   "mimetype": "text/x-python",
   "name": "python",
   "nbconvert_exporter": "python",
   "pygments_lexer": "ipython3",
   "version": "3.11.7"
  }
 },
 "nbformat": 4,
 "nbformat_minor": 5
}
