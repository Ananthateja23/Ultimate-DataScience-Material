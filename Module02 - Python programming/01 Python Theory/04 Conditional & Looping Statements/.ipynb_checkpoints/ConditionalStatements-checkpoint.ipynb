{
 "cells": [
  {
   "cell_type": "markdown",
   "id": "f0ec7dad-5712-49c5-8b1b-c7d538c4541d",
   "metadata": {},
   "source": [
    "### ***ConditionalStatements***\n",
    "```\n",
    "It allow us to make decisions based on the conditions\n",
    "\n",
    "    1. If\n",
    "\n",
    "    2. If-else\n",
    "\n",
    "    3. elif\n",
    "```"
   ]
  },
  {
   "cell_type": "markdown",
   "id": "bd2907c2-8899-47bf-80b9-2829aba1ba5c",
   "metadata": {},
   "source": [
    "### ***If***\n",
    "```\n",
    "==> Control enters inside of if block if given condition is true\n",
    "==> For if block, else block is not mandatory\n",
    "```"
   ]
  },
  {
   "cell_type": "code",
   "execution_count": 1,
   "id": "d514891c-3910-40c6-aaac-87b7b3e10ab1",
   "metadata": {},
   "outputs": [
    {
     "name": "stdout",
     "output_type": "stream",
     "text": [
      "Inside if block\n",
      "outside if block\n"
     ]
    }
   ],
   "source": [
    "if True:\n",
    "    print(\"Inside if block\")\n",
    "print(\"outside if block\")"
   ]
  },
  {
   "cell_type": "markdown",
   "id": "ad196706-4324-4961-bb2d-3f3e557c4ec2",
   "metadata": {},
   "source": [
    "### ***if-else***\n",
    "```\n",
    "==> If given condition is false then control goes inside else block\n",
    "==> For else block if block is mandatory\n",
    "```"
   ]
  },
  {
   "cell_type": "code",
   "execution_count": 2,
   "id": "75aa9174-c148-4e20-9f39-08a9261c548f",
   "metadata": {},
   "outputs": [
    {
     "name": "stdout",
     "output_type": "stream",
     "text": [
      "Inside else block\n",
      "Outside if-else block\n"
     ]
    }
   ],
   "source": [
    "if False:\n",
    "    print(\"Inside if block\")\n",
    "else:\n",
    "    print(\"Inside else block\")\n",
    "print(\"Outside if-else block\")"
   ]
  },
  {
   "cell_type": "markdown",
   "id": "c77f3b47-2dd5-4c7b-952a-4e4f7fbafdbf",
   "metadata": {},
   "source": [
    "### ***elif***\n",
    "```\n",
    "==> If all the previous coditions are false then control moves inside elif block\n",
    "==> For elif block if block is mandatory and else block is not mandatory\n",
    "==> For if block we can define or write multiple elif blocks\n",
    "```"
   ]
  },
  {
   "cell_type": "code",
   "execution_count": 4,
   "id": "e9254c7a-9b64-40f3-a08d-f71a74adcef4",
   "metadata": {},
   "outputs": [
    {
     "name": "stdout",
     "output_type": "stream",
     "text": [
      "Inside if block\n",
      "outside conditional statements\n"
     ]
    }
   ],
   "source": [
    "if True:\n",
    "    print(\"Inside if block\")\n",
    "elif True:\n",
    "    print(\"Inside elif block1\")\n",
    "elif True:\n",
    "    print(\"Inside elif block2\")\n",
    "elif True:\n",
    "    print(\"Inside elif block3\")\n",
    "else:\n",
    "    print(\"Inside else block\")\n",
    "print(\"outside conditional statements\")"
   ]
  },
  {
   "cell_type": "code",
   "execution_count": 5,
   "id": "45668db1-7812-4588-9cc2-2302676f9862",
   "metadata": {},
   "outputs": [
    {
     "name": "stdout",
     "output_type": "stream",
     "text": [
      "Inside elif block1\n",
      "outside conditional statements\n"
     ]
    }
   ],
   "source": [
    "if False:\n",
    "    print(\"Inside if block\")\n",
    "elif True:\n",
    "    print(\"Inside elif block1\")\n",
    "elif True:\n",
    "    print(\"Inside elif block2\")\n",
    "elif True:\n",
    "    print(\"Inside elif block3\")\n",
    "else:\n",
    "    print(\"Inside else block\")\n",
    "print(\"outside conditional statements\")"
   ]
  },
  {
   "cell_type": "code",
   "execution_count": 6,
   "id": "887d2a95-9889-40f7-ba7f-87ac58b3c396",
   "metadata": {},
   "outputs": [
    {
     "name": "stdout",
     "output_type": "stream",
     "text": [
      "Inside elif block2\n",
      "outside conditional statements\n"
     ]
    }
   ],
   "source": [
    "if False:\n",
    "    print(\"Inside if block\")\n",
    "elif False:\n",
    "    print(\"Inside elif block1\")\n",
    "elif True:\n",
    "    print(\"Inside elif block2\")\n",
    "elif True:\n",
    "    print(\"Inside elif block3\")\n",
    "else:\n",
    "    print(\"Inside else block\")\n",
    "print(\"outside conditional statements\")"
   ]
  },
  {
   "cell_type": "code",
   "execution_count": 7,
   "id": "2b8f164b-9d44-4e5a-9098-0eb00c20bb53",
   "metadata": {},
   "outputs": [
    {
     "name": "stdout",
     "output_type": "stream",
     "text": [
      "Inside elif block3\n",
      "outside conditional statements\n"
     ]
    }
   ],
   "source": [
    "if False:\n",
    "    print(\"Inside if block\")\n",
    "elif False:\n",
    "    print(\"Inside elif block1\")\n",
    "elif False:\n",
    "    print(\"Inside elif block2\")\n",
    "elif True:\n",
    "    print(\"Inside elif block3\")\n",
    "else:\n",
    "    print(\"Inside else block\")\n",
    "print(\"outside conditional statements\")"
   ]
  },
  {
   "cell_type": "code",
   "execution_count": 8,
   "id": "4d9cac11-b7e3-4742-869f-b9c3ba3ea518",
   "metadata": {},
   "outputs": [
    {
     "name": "stdout",
     "output_type": "stream",
     "text": [
      "Inside else block\n",
      "outside conditional statements\n"
     ]
    }
   ],
   "source": [
    "if False:\n",
    "    print(\"Inside if block\")\n",
    "elif False:\n",
    "    print(\"Inside elif block1\")\n",
    "elif False:\n",
    "    print(\"Inside elif block2\")\n",
    "elif False:\n",
    "    print(\"Inside elif block3\")\n",
    "else:\n",
    "    print(\"Inside else block\")\n",
    "print(\"outside conditional statements\")"
   ]
  },
  {
   "cell_type": "markdown",
   "id": "9b7ad7f1-5747-4843-b78f-9498f8076cdd",
   "metadata": {},
   "source": [
    "### ***Programs of conditional statements***"
   ]
  },
  {
   "cell_type": "markdown",
   "id": "6b0eaec2-c19b-47f4-b2f0-94b68ab76b2a",
   "metadata": {},
   "source": [
    "#### WAP to check given number is even or not even"
   ]
  },
  {
   "cell_type": "code",
   "execution_count": 9,
   "id": "1db1622d-2519-4388-a0cc-ffcf63ac6bf2",
   "metadata": {},
   "outputs": [
    {
     "name": "stdin",
     "output_type": "stream",
     "text": [
      "Enter the value of num :  5\n"
     ]
    },
    {
     "name": "stdout",
     "output_type": "stream",
     "text": [
      "Not Even number: 5\n"
     ]
    }
   ],
   "source": [
    "num = int(input(\"Enter the value of num : \"))\n",
    "if num%2 == 0:\n",
    "    print(f\"Even number: {num}\")\n",
    "else:\n",
    "    print(f\"Not Even number: {num}\")"
   ]
  },
  {
   "cell_type": "code",
   "execution_count": 11,
   "id": "03059e17-b04f-4f53-b515-be962cceb68f",
   "metadata": {},
   "outputs": [
    {
     "name": "stdin",
     "output_type": "stream",
     "text": [
      "Enter the value of num :  10\n"
     ]
    },
    {
     "name": "stdout",
     "output_type": "stream",
     "text": [
      "Even number: 10\n"
     ]
    }
   ],
   "source": [
    "num = int(input(\"Enter the value of num : \"))\n",
    "if num%2 == 0 :\n",
    "    print(f\"Even number: {num}\")\n",
    "else:\n",
    "    print(f\"Not Even number: {num}\")"
   ]
  },
  {
   "cell_type": "markdown",
   "id": "792dfa6b-e6ee-4480-ae41-c8857b2a3144",
   "metadata": {},
   "source": [
    "### WAP to print highest among two number"
   ]
  },
  {
   "cell_type": "code",
   "execution_count": 14,
   "id": "91eae96b-74a1-475d-8898-34196caf8b52",
   "metadata": {},
   "outputs": [
    {
     "name": "stdin",
     "output_type": "stream",
     "text": [
      "Enter the value of num1 :  10\n",
      "Enter the value of num2 :  5\n"
     ]
    },
    {
     "name": "stdout",
     "output_type": "stream",
     "text": [
      "10 is greater than 5\n"
     ]
    }
   ],
   "source": [
    "num1 = int(input(\"Enter the value of num1 : \"))\n",
    "num2 = int(input(\"Enter the value of num2 : \"))\n",
    "if num1 > num2:\n",
    "    print(f\"{num1} is greater than {num2}\")\n",
    "else:\n",
    "    print(f\"{num1} is not greater than {num2}\")"
   ]
  },
  {
   "cell_type": "code",
   "execution_count": 15,
   "id": "346e2139-6152-4178-833e-195a65eeb5f9",
   "metadata": {},
   "outputs": [
    {
     "name": "stdin",
     "output_type": "stream",
     "text": [
      "Enter the value of num1 :  10\n",
      "Enter the value of num2 :  15\n"
     ]
    },
    {
     "name": "stdout",
     "output_type": "stream",
     "text": [
      "10 is not greater than 15\n"
     ]
    }
   ],
   "source": [
    "num1 = int(input(\"Enter the value of num1 : \"))\n",
    "num2 = int(input(\"Enter the value of num2 : \"))\n",
    "if num1 > num2:\n",
    "    print(f\"{num1} is greater than {num2}\")\n",
    "else:\n",
    "    print(f\"{num1} is not greater than {num2}\")"
   ]
  },
  {
   "cell_type": "markdown",
   "id": "5e8231e8-e0a7-4337-a530-7f94931eaf1a",
   "metadata": {},
   "source": [
    "### WAP to print highest among four numbers"
   ]
  },
  {
   "cell_type": "code",
   "execution_count": 19,
   "id": "2731dc50-9112-48d6-b3d2-ab128b84a401",
   "metadata": {},
   "outputs": [
    {
     "name": "stdout",
     "output_type": "stream",
     "text": [
      "40 is highest number among 10,20,30,40\n"
     ]
    }
   ],
   "source": [
    "a, b, c, d = 10, 20, 30, 40\n",
    "\n",
    "if a>b:\n",
    "    if a>c:\n",
    "        if a>d:\n",
    "            print(f\"{a} is highest number among {a},{b},{c},{d}\")\n",
    "        else:\n",
    "            print(f\"{d} is highest number among {a},{b},{c},{d}\")\n",
    "    else:\n",
    "        if c>d:\n",
    "            print(f\"{c} is highest number among {a},{b},{c},{d}\")\n",
    "        else:\n",
    "            print(f\"{d} is highest number among {a},{b},{c},{d}\")\n",
    "else:\n",
    "    if b>c:\n",
    "        if b>d:\n",
    "            print(f\"{b} is highest number among {a},{b},{c},{d}\")\n",
    "        else:\n",
    "            print(f\"{d} is highest number among {a},{b},{c},{d}\")\n",
    "    else:\n",
    "        if c>d:\n",
    "            print(f\"{c} is highest number among {a},{b},{c},{d}\")\n",
    "        else:\n",
    "            print(f\"{d} is highest number among {a},{b},{c},{d}\")"
   ]
  },
  {
   "cell_type": "markdown",
   "id": "194f7985-668c-4f96-8b7d-049c614b9f4f",
   "metadata": {},
   "source": [
    "### WAP to print highest among four numbers using elif statements"
   ]
  },
  {
   "cell_type": "code",
   "execution_count": 20,
   "id": "c547abe8-ff68-4efc-b747-84683d444ff9",
   "metadata": {},
   "outputs": [
    {
     "name": "stdout",
     "output_type": "stream",
     "text": [
      "40 is highest number among 10,20,30,40\n"
     ]
    }
   ],
   "source": [
    "a,b,c,d = 10,20,30,40\n",
    "\n",
    "if a>b and a>c and a>d:\n",
    "    print(f\"{a} is highest number among {a},{b},{c},{d}\")\n",
    "elif b>c and b>d:\n",
    "    print(f\"{b} is highest number among {a},{b},{c},{d}\")\n",
    "elif c>d:\n",
    "    print(f\"{c} is highest number among {a},{b},{c},{d}\")\n",
    "else:\n",
    "    print(f\"{d} is highest number among {a},{b},{c},{d}\")"
   ]
  },
  {
   "cell_type": "markdown",
   "id": "469f16c3-7435-4915-8716-4d6917cdf0f1",
   "metadata": {},
   "source": [
    "### WAP to find the pattern for value%3 give \"fizz\", value%5 gives \"buzz\", (value%3and value%5) gives \"fizzbuzz\" "
   ]
  },
  {
   "cell_type": "code",
   "execution_count": 21,
   "id": "71537cf0-2175-4aee-ae79-f9a43dbf1238",
   "metadata": {},
   "outputs": [
    {
     "name": "stdin",
     "output_type": "stream",
     "text": [
      "Enter the value of num :  10\n"
     ]
    },
    {
     "name": "stdout",
     "output_type": "stream",
     "text": [
      "Buzz\n"
     ]
    }
   ],
   "source": [
    "num = int(input(\"Enter the value of num : \"))\n",
    "if (num%3==0) and (num%5!=0):\n",
    "    print(\"Fizz\")\n",
    "elif (num%5==0) and (num%3!=0):\n",
    "    print(\"Buzz\")\n",
    "elif (num%3==0) and (num%5==0):\n",
    "    print(\"Fizz buzz\")\n",
    "else:\n",
    "    print(\"enter valid number\")"
   ]
  },
  {
   "cell_type": "code",
   "execution_count": 22,
   "id": "58ff3543-cb56-435a-9473-b574e1710f4f",
   "metadata": {},
   "outputs": [
    {
     "name": "stdin",
     "output_type": "stream",
     "text": [
      "Enter the value of num :  15\n"
     ]
    },
    {
     "name": "stdout",
     "output_type": "stream",
     "text": [
      "Fizz buzz\n"
     ]
    }
   ],
   "source": [
    "num = int(input(\"Enter the value of num : \"))\n",
    "if (num%3==0) and (num%5!=0):\n",
    "    print(\"Fizz\")\n",
    "elif (num%5==0) and (num%3!=0):\n",
    "    print(\"Buzz\")\n",
    "elif (num%3==0) and (num%5==0):\n",
    "    print(\"Fizz buzz\")\n",
    "else:\n",
    "    print(\"enter valid number\")"
   ]
  },
  {
   "cell_type": "code",
   "execution_count": 23,
   "id": "7734ca79-4862-41b4-8a4d-e5e142f64119",
   "metadata": {},
   "outputs": [
    {
     "name": "stdin",
     "output_type": "stream",
     "text": [
      "Enter the value of num :  18\n"
     ]
    },
    {
     "name": "stdout",
     "output_type": "stream",
     "text": [
      "Fizz\n"
     ]
    }
   ],
   "source": [
    "num = int(input(\"Enter the value of num : \"))\n",
    "if (num%3==0) and (num%5!=0):\n",
    "    print(\"Fizz\")\n",
    "elif (num%5==0) and (num%3!=0):\n",
    "    print(\"Buzz\")\n",
    "elif (num%3==0) and (num%5==0):\n",
    "    print(\"Fizz buzz\")\n",
    "else:\n",
    "    print(\"enter valid number\")"
   ]
  },
  {
   "cell_type": "code",
   "execution_count": null,
   "id": "2648e3b4-d3cc-4327-b124-9e86ade1700a",
   "metadata": {},
   "outputs": [],
   "source": []
  }
 ],
 "metadata": {
  "kernelspec": {
   "display_name": "Python 3 (ipykernel)",
   "language": "python",
   "name": "python3"
  },
  "language_info": {
   "codemirror_mode": {
    "name": "ipython",
    "version": 3
   },
   "file_extension": ".py",
   "mimetype": "text/x-python",
   "name": "python",
   "nbconvert_exporter": "python",
   "pygments_lexer": "ipython3",
   "version": "3.11.7"
  }
 },
 "nbformat": 4,
 "nbformat_minor": 5
}
