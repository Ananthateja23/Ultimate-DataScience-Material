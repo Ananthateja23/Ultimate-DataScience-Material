{
 "cells": [
  {
   "cell_type": "markdown",
   "id": "3d4d7e74-40f1-4ab9-bf2e-20185cea2ff9",
   "metadata": {},
   "source": [
    "### ***Dictionary***\n",
    "\n",
    "#### 1. Initialize a dictionary\n",
    "#### 2. Create a dictionary with items\n",
    "#### 3. dict.fromkeys\n",
    "#### 4. Dictionary is mutable(keys and values - what can be added)\n",
    "#### 5. keys, values, items\n",
    "#### 6. Accessing items in Dictionary(get method)\n",
    "#### 7. modifying a dictionary\n",
    "#### 8. update method\n",
    "#### 9. deleting items in dictionary\n",
    "#### 10. clear\n",
    "#### 11. pop\n",
    "#### 12. popitem"
   ]
  },
  {
   "cell_type": "markdown",
   "id": "647ea720-18d2-476a-8355-f542151d968c",
   "metadata": {},
   "source": [
    "### ***Initialize a dictionary***"
   ]
  },
  {
   "cell_type": "code",
   "execution_count": 1,
   "id": "52d2ad4b-047f-459d-bdb2-099a0d813f87",
   "metadata": {},
   "outputs": [
    {
     "name": "stdout",
     "output_type": "stream",
     "text": [
      "{}\n",
      "<class 'dict'>\n"
     ]
    }
   ],
   "source": [
    "d = {}\n",
    "print(d)\n",
    "print(type(d))"
   ]
  },
  {
   "cell_type": "code",
   "execution_count": 2,
   "id": "305d4868-5256-4c8f-bbb8-c23673939ff7",
   "metadata": {},
   "outputs": [
    {
     "name": "stdout",
     "output_type": "stream",
     "text": [
      "<class 'set'>\n",
      "{1, 2, 3}\n"
     ]
    }
   ],
   "source": [
    "d = {1,2,3}\n",
    "print(type(d))\n",
    "print(d)"
   ]
  },
  {
   "cell_type": "code",
   "execution_count": 3,
   "id": "606df2e0-9754-45cf-a68f-010db54228c8",
   "metadata": {},
   "outputs": [
    {
     "name": "stdout",
     "output_type": "stream",
     "text": [
      "{'A': 2, 'B': 3}\n",
      "<class 'dict'>\n"
     ]
    }
   ],
   "source": [
    "d = {'A':2, 'B': 3} # key-value format \n",
    "print(d)\n",
    "print(type(d))"
   ]
  },
  {
   "cell_type": "code",
   "execution_count": 4,
   "id": "2a252a12-419e-4649-b68d-be4145b1d85f",
   "metadata": {},
   "outputs": [
    {
     "name": "stdout",
     "output_type": "stream",
     "text": [
      "{}\n",
      "<class 'dict'>\n"
     ]
    }
   ],
   "source": [
    "d1 = dict()\n",
    "print(d1)\n",
    "print(type(d1))"
   ]
  },
  {
   "cell_type": "code",
   "execution_count": 5,
   "id": "3963c771-8d52-4ab2-889b-4b73793d257a",
   "metadata": {},
   "outputs": [
    {
     "name": "stdout",
     "output_type": "stream",
     "text": [
      "{}\n",
      "<class 'dict'>\n"
     ]
    }
   ],
   "source": [
    "d2 = dict([])\n",
    "print(d2)\n",
    "print(type(d2))"
   ]
  },
  {
   "cell_type": "code",
   "execution_count": 6,
   "id": "317808f9-c862-4aef-a872-3386d4b6cf7a",
   "metadata": {},
   "outputs": [
    {
     "name": "stdout",
     "output_type": "stream",
     "text": [
      "{'A': 1, 'B': 2, 'C': 3}\n",
      "{1: [1, 2, 3], 'ABC': 20, 2: 12, 'a': (12, 20)}\n"
     ]
    }
   ],
   "source": [
    "# dictionary is ordered \n",
    "d = {\"A\": 1, \"B\": 2, \"C\": 3}\n",
    "d2 = {1: [1,2,3], \"ABC\": 20, 2: 12, \"a\": (12,20)}\n",
    "print(d)\n",
    "print(d2)"
   ]
  },
  {
   "cell_type": "code",
   "execution_count": 8,
   "id": "0cf19f98-9c3c-4e50-a6b5-9f96738a4142",
   "metadata": {},
   "outputs": [
    {
     "name": "stdout",
     "output_type": "stream",
     "text": [
      "Keys:  A\n",
      "Values:  1\n",
      "Keys:  B\n",
      "Values:  2\n",
      "Keys:  C\n",
      "Values:  3\n"
     ]
    }
   ],
   "source": [
    "d = {\"A\": 1, \"B\": 2, \"C\": 3}\n",
    "\n",
    "for k in d:\n",
    "    print(\"Keys: \", k)\n",
    "    print(\"Values: \", d[k])"
   ]
  },
  {
   "cell_type": "code",
   "execution_count": 9,
   "id": "cd1dc7e3-dcf4-47e2-8905-ff562ef578f0",
   "metadata": {},
   "outputs": [
    {
     "name": "stdout",
     "output_type": "stream",
     "text": [
      "1\n"
     ]
    }
   ],
   "source": [
    "print(d['A'])"
   ]
  },
  {
   "cell_type": "code",
   "execution_count": 10,
   "id": "aa7cc4bf-84ba-4acd-b559-69675594f27a",
   "metadata": {},
   "outputs": [
    {
     "ename": "KeyError",
     "evalue": "0",
     "output_type": "error",
     "traceback": [
      "\u001b[1;31m---------------------------------------------------------------------------\u001b[0m",
      "\u001b[1;31mKeyError\u001b[0m                                  Traceback (most recent call last)",
      "Cell \u001b[1;32mIn[10], line 1\u001b[0m\n\u001b[1;32m----> 1\u001b[0m \u001b[38;5;28mprint\u001b[39m(d[\u001b[38;5;241m0\u001b[39m])\n",
      "\u001b[1;31mKeyError\u001b[0m: 0"
     ]
    }
   ],
   "source": [
    "print(d[0])"
   ]
  },
  {
   "cell_type": "code",
   "execution_count": 11,
   "id": "ecd71f1b-9dc3-4aee-beff-4bde542c0169",
   "metadata": {},
   "outputs": [
    {
     "data": {
      "text/plain": [
       "2"
      ]
     },
     "execution_count": 11,
     "metadata": {},
     "output_type": "execute_result"
    }
   ],
   "source": [
    "# to access an element in a dictionary \n",
    "# dictionary_name[key]\n",
    "d['B']"
   ]
  },
  {
   "cell_type": "code",
   "execution_count": 12,
   "id": "9c72745c-79c3-4003-b985-e6c767926ba2",
   "metadata": {},
   "outputs": [
    {
     "name": "stdout",
     "output_type": "stream",
     "text": [
      "{False, 1, 2, 'abc', 1.5, 2.4, 'bca'}\n"
     ]
    }
   ],
   "source": [
    "s = {1,1.5,\"abc\",2,2.4,\"bca\",False}\n",
    "print(s)"
   ]
  },
  {
   "cell_type": "code",
   "execution_count": 13,
   "id": "5f34b2ec-f4ba-4b8b-81cd-03e1c1b4f55b",
   "metadata": {},
   "outputs": [
    {
     "name": "stdout",
     "output_type": "stream",
     "text": [
      "{1: 'B', 0: 'BZ'}\n"
     ]
    }
   ],
   "source": [
    "# duplicates are not allowed \n",
    "# 1,1.0,True are treated same \n",
    "# 0,0.0, False are treated same\n",
    "d = {1: 'A', 1.0: \"F\", True: 'B', 0: 'Z', 0.0: 'FZ', False: 'BZ'}\n",
    "print(d)"
   ]
  },
  {
   "cell_type": "code",
   "execution_count": 14,
   "id": "4873d9aa-ea5b-40b5-b8c9-d3b2e4db0ff7",
   "metadata": {},
   "outputs": [
    {
     "name": "stdout",
     "output_type": "stream",
     "text": [
      "{'1': 'A', 1.0: 'B'}\n"
     ]
    }
   ],
   "source": [
    "d = {\"1\": \"A\", 1.0: \"BZ\", True: \"B\"}\n",
    "print(d)"
   ]
  },
  {
   "cell_type": "code",
   "execution_count": 15,
   "id": "309693b8-42c0-4186-8aa4-128273c4423f",
   "metadata": {},
   "outputs": [
    {
     "name": "stdout",
     "output_type": "stream",
     "text": [
      "{'Venky': 12}\n",
      "{'Venky': 12}\n"
     ]
    }
   ],
   "source": [
    "a = \"Venky\"\n",
    "d = {a: 12}\n",
    "print(d)\n",
    "a = \"RBR\"\n",
    "print(d)"
   ]
  },
  {
   "cell_type": "code",
   "execution_count": 16,
   "id": "99e003e5-7166-459e-ac3a-b398a1bf423a",
   "metadata": {},
   "outputs": [
    {
     "name": "stdout",
     "output_type": "stream",
     "text": [
      "{'A': 12, 'B': 12, 'C': 12}\n"
     ]
    }
   ],
   "source": [
    "# duplicate values are allowed\n",
    "d = {'A': 12, 'B': 12, 'C': 12}\n",
    "print(d)"
   ]
  },
  {
   "cell_type": "code",
   "execution_count": 17,
   "id": "9c9424c3-d063-45d2-9f9d-430cb884be22",
   "metadata": {},
   "outputs": [
    {
     "data": {
      "text/plain": [
       "True"
      ]
     },
     "execution_count": 17,
     "metadata": {},
     "output_type": "execute_result"
    }
   ],
   "source": [
    "1==1.0"
   ]
  },
  {
   "cell_type": "code",
   "execution_count": 18,
   "id": "5694ee36-d43a-4114-ad70-856f6ab3d4f5",
   "metadata": {},
   "outputs": [
    {
     "name": "stdout",
     "output_type": "stream",
     "text": [
      "{'a': 10, 'b': 12, 'c': 50, 'd': [12, 30]}\n",
      "<class 'dict'>\n"
     ]
    }
   ],
   "source": [
    "# dict method \n",
    "d1 = dict(a=10, b=12, c=50, d=[12,30])\n",
    "print(d1)\n",
    "print(type(d1))"
   ]
  },
  {
   "cell_type": "code",
   "execution_count": 19,
   "id": "722a79a1-5755-48e9-b3ff-fcbb67b3f4a8",
   "metadata": {},
   "outputs": [
    {
     "ename": "TypeError",
     "evalue": "dict expected at most 1 argument, got 4",
     "output_type": "error",
     "traceback": [
      "\u001b[1;31m---------------------------------------------------------------------------\u001b[0m",
      "\u001b[1;31mTypeError\u001b[0m                                 Traceback (most recent call last)",
      "Cell \u001b[1;32mIn[19], line 1\u001b[0m\n\u001b[1;32m----> 1\u001b[0m d1 \u001b[38;5;241m=\u001b[39m \u001b[38;5;28mdict\u001b[39m(\u001b[38;5;241m10\u001b[39m,\u001b[38;5;241m12\u001b[39m,\u001b[38;5;241m50\u001b[39m,[\u001b[38;5;241m12\u001b[39m,\u001b[38;5;241m24\u001b[39m])\n\u001b[0;32m      2\u001b[0m \u001b[38;5;28mprint\u001b[39m(d1)\n",
      "\u001b[1;31mTypeError\u001b[0m: dict expected at most 1 argument, got 4"
     ]
    }
   ],
   "source": [
    "d1 = dict(10,12,50,[12,24])\n",
    "print(d1)"
   ]
  },
  {
   "cell_type": "code",
   "execution_count": 20,
   "id": "0ebfea3b-afbd-4718-a702-a67dc2980f94",
   "metadata": {},
   "outputs": [
    {
     "name": "stdout",
     "output_type": "stream",
     "text": [
      "2577557433152\n",
      "2577557433152\n"
     ]
    }
   ],
   "source": [
    "# copy a dictionary \n",
    "d1 = {'A': 12, 'B': 20, 'C': 30}\n",
    "d2 = d1 # dictionary is mutable \n",
    "print(id(d2))\n",
    "print(id(d1))"
   ]
  },
  {
   "cell_type": "code",
   "execution_count": 21,
   "id": "1cd863d6-07bf-448b-a3e0-d852afb8abc6",
   "metadata": {},
   "outputs": [
    {
     "name": "stdout",
     "output_type": "stream",
     "text": [
      "{'A': 12, 'B': 20, 'C': 30}\n",
      "{'A': 100, 'B': 20, 'C': 30}\n",
      "{'A': 100, 'B': 20, 'C': 30}\n"
     ]
    }
   ],
   "source": [
    "print(d1)\n",
    "d1['A'] = 100\n",
    "print(d2)\n",
    "print(d1)"
   ]
  },
  {
   "cell_type": "code",
   "execution_count": 22,
   "id": "f728aa3f-1bc2-47ac-983f-0d38473979f7",
   "metadata": {},
   "outputs": [
    {
     "name": "stdout",
     "output_type": "stream",
     "text": [
      "{'A': 100, 'B': 20, 'C': 30}\n",
      "{'A': 1000, 'B': 20, 'C': 30}\n",
      "{'A': 100, 'B': 20, 'C': 30}\n"
     ]
    }
   ],
   "source": [
    "print(d1)\n",
    "d3 = d1.copy()\n",
    "d1['A'] = 1000 \n",
    "print(d1)\n",
    "print(d3)"
   ]
  },
  {
   "cell_type": "code",
   "execution_count": 23,
   "id": "f1a32f16-d8f1-4d54-831a-9deae2cf86a5",
   "metadata": {},
   "outputs": [
    {
     "name": "stdout",
     "output_type": "stream",
     "text": [
      "{'A': [10, 20, 30], 'B': 20, 'C': 30}\n",
      "{'A': [10, 20, 30], 'B': 20, 'C': 30}\n",
      "{'A': [10, 100, 30], 'B': 20, 'C': 30}\n",
      "{'A': [10, 100, 30], 'B': 20, 'C': 30}\n"
     ]
    }
   ],
   "source": [
    "d1 = {'A': [10,20,30], 'B': 20, 'C': 30}\n",
    "d2 = d1.copy()\n",
    "print(d1)\n",
    "print(d2)\n",
    "d1['A'][1] = 100 \n",
    "print(d1)\n",
    "print(d2) \n",
    "# to overcome this, u go to deepcopy "
   ]
  },
  {
   "cell_type": "code",
   "execution_count": 24,
   "id": "567e9948-fc37-46f9-ac4f-f9a6eda4bdfa",
   "metadata": {},
   "outputs": [
    {
     "name": "stdout",
     "output_type": "stream",
     "text": [
      "{'A': [10, 20, 30], 'B': 20, 'C': 30}\n",
      "{'A': [10, 20, 30], 'B': 20, 'C': 30}\n",
      "{'A': [10, 100, 30], 'B': 20, 'C': 30}\n",
      "{'A': [10, 20, 30], 'B': 20, 'C': 30}\n"
     ]
    }
   ],
   "source": [
    "import copy \n",
    "d1 = {'A': [10,20,30], 'B': 20, 'C': 30}\n",
    "d2 = copy.deepcopy(d1)\n",
    "print(d1)\n",
    "print(d2)\n",
    "d1['A'][1] = 100 \n",
    "print(d1)\n",
    "print(d2)"
   ]
  },
  {
   "cell_type": "code",
   "execution_count": 25,
   "id": "a3115b64-dd49-4a66-830a-6181e8547901",
   "metadata": {},
   "outputs": [
    {
     "name": "stdout",
     "output_type": "stream",
     "text": [
      "{'a': 10, 'b': 20, 'c': 30}\n",
      "{'a': 10, 'b': 20, 'c': 30}\n",
      "{'a': 100, 'b': 20, 'c': 30}\n",
      "{'a': 10, 'b': 20, 'c': 30}\n"
     ]
    }
   ],
   "source": [
    "d = {'a': 10, 'b': 20, 'c': 30}\n",
    "d_2 = dict(d)\n",
    "print(d)\n",
    "print(d_2)\n",
    "d['a'] = 100 \n",
    "print(d)\n",
    "print(d_2)"
   ]
  },
  {
   "cell_type": "code",
   "execution_count": 26,
   "id": "c801bf43-eb23-456f-a9b5-8dc87b9bc098",
   "metadata": {},
   "outputs": [
    {
     "name": "stdout",
     "output_type": "stream",
     "text": [
      "{'a': [100, 200, 300], 'b': 20, 'c': 30}\n",
      "{'a': [100, 200, 300], 'b': 20, 'c': 30}\n",
      "{'a': [100, 1000, 300], 'b': 20, 'c': 30}\n",
      "{'a': [100, 1000, 300], 'b': 20, 'c': 30}\n"
     ]
    }
   ],
   "source": [
    "d = {'a': [100,200,300], 'b': 20, 'c': 30}\n",
    "d_2 = dict(d) # similar to d.copy() method \n",
    "print(d)\n",
    "print(d_2)\n",
    "d['a'][1] = 1000 \n",
    "print(d)\n",
    "print(d_2)"
   ]
  },
  {
   "cell_type": "code",
   "execution_count": 27,
   "id": "5baccc5f-9484-4ab1-9b3b-9a0e4f380c5a",
   "metadata": {},
   "outputs": [
    {
     "name": "stdout",
     "output_type": "stream",
     "text": [
      "d\n",
      "{'a': 1, 'b': 2}\n",
      "2577557471360\n",
      "d2\n",
      "{'a': 1, 'b': 2}\n",
      "2577557471360\n",
      "d3\n",
      "{'a': 1, 'b': 2}\n",
      "2577574382720\n",
      "d4\n",
      "{'a': 1, 'b': 2}\n",
      "2577557475072\n"
     ]
    }
   ],
   "source": [
    "d = {\"a\": 1, \"b\": 2}\n",
    "print(\"d\")\n",
    "print(d)\n",
    "print(id(d))\n",
    "d2 = d \n",
    "print(\"d2\")\n",
    "print(d2)\n",
    "print(id(d2))\n",
    "d3 = d.copy()\n",
    "print(\"d3\")\n",
    "print(d3)\n",
    "print(id(d3))\n",
    "d4 = dict(d)\n",
    "print(\"d4\")\n",
    "print(d4)\n",
    "print(id(d4))"
   ]
  },
  {
   "cell_type": "code",
   "execution_count": 28,
   "id": "56ea036e-188d-4284-a531-88168499ef8f",
   "metadata": {},
   "outputs": [
    {
     "name": "stdout",
     "output_type": "stream",
     "text": [
      "{'a': 1, 'b': 2}\n",
      "{'a': 1, 'b': 1000}\n",
      "{'a': 1, 'b': 1000}\n",
      "{'a': 1, 'b': 2}\n",
      "{'a': 1, 'b': 2}\n"
     ]
    }
   ],
   "source": [
    "print(d)\n",
    "d['b'] = 1000 \n",
    "print(d)\n",
    "print(d2)\n",
    "print(d3)\n",
    "print(d4)"
   ]
  },
  {
   "cell_type": "markdown",
   "id": "2e43c14e-86e0-483b-a083-25325464b720",
   "metadata": {},
   "source": [
    "### ***creating dictionary using iterables - list, tuples***"
   ]
  },
  {
   "cell_type": "code",
   "execution_count": 29,
   "id": "b077f14b-fbda-4b82-9737-4d66023c17c2",
   "metadata": {},
   "outputs": [
    {
     "name": "stdout",
     "output_type": "stream",
     "text": [
      "{'a': 2, 'b': 4, 'c': 10}\n"
     ]
    }
   ],
   "source": [
    "# creating dictionary using iterables - list, tuples\n",
    "d = dict([(\"a\",2), (\"b\", 4), (\"c\", 10)])\n",
    "print(d)"
   ]
  },
  {
   "cell_type": "code",
   "execution_count": 30,
   "id": "e8a62b96-70a4-49a2-9a98-8b43c5390191",
   "metadata": {},
   "outputs": [
    {
     "ename": "ValueError",
     "evalue": "dictionary update sequence element #3 has length 3; 2 is required",
     "output_type": "error",
     "traceback": [
      "\u001b[1;31m---------------------------------------------------------------------------\u001b[0m",
      "\u001b[1;31mValueError\u001b[0m                                Traceback (most recent call last)",
      "Cell \u001b[1;32mIn[30], line 1\u001b[0m\n\u001b[1;32m----> 1\u001b[0m d \u001b[38;5;241m=\u001b[39m \u001b[38;5;28mdict\u001b[39m([(\u001b[38;5;124m\"\u001b[39m\u001b[38;5;124ma\u001b[39m\u001b[38;5;124m\"\u001b[39m,\u001b[38;5;241m2\u001b[39m), (\u001b[38;5;124m\"\u001b[39m\u001b[38;5;124mb\u001b[39m\u001b[38;5;124m\"\u001b[39m, \u001b[38;5;241m4\u001b[39m), (\u001b[38;5;124m\"\u001b[39m\u001b[38;5;124mc\u001b[39m\u001b[38;5;124m\"\u001b[39m, \u001b[38;5;241m10\u001b[39m), (\u001b[38;5;124m\"\u001b[39m\u001b[38;5;124md\u001b[39m\u001b[38;5;124m\"\u001b[39m, \u001b[38;5;241m100\u001b[39m, \u001b[38;5;241m2\u001b[39m)])\n\u001b[0;32m      2\u001b[0m \u001b[38;5;28mprint\u001b[39m(d)\n",
      "\u001b[1;31mValueError\u001b[0m: dictionary update sequence element #3 has length 3; 2 is required"
     ]
    }
   ],
   "source": [
    "d = dict([(\"a\",2), (\"b\", 4), (\"c\", 10), (\"d\", 100, 2)])\n",
    "print(d)"
   ]
  },
  {
   "cell_type": "code",
   "execution_count": 31,
   "id": "9166e912-8d8e-467a-97a1-c457d2d6eeb6",
   "metadata": {},
   "outputs": [
    {
     "name": "stdout",
     "output_type": "stream",
     "text": [
      "{'a': 2, 'b': 4, 'c': 10, 100: 'd'}\n"
     ]
    }
   ],
   "source": [
    "d = dict([(\"a\",2), (\"b\", 4), (\"c\", 10), (100,\"d\")])\n",
    "print(d)"
   ]
  },
  {
   "cell_type": "code",
   "execution_count": 32,
   "id": "3e5f4196-a203-4c9f-a0e2-faf6c6aaed66",
   "metadata": {},
   "outputs": [
    {
     "name": "stdout",
     "output_type": "stream",
     "text": [
      "{'a': 2, 'b': 4, 'c': 10, 100: 'd'}\n"
     ]
    }
   ],
   "source": [
    "d = dict(((\"a\",2), (\"b\", 4), (\"c\", 10), (100,\"d\")))\n",
    "print(d)"
   ]
  },
  {
   "cell_type": "code",
   "execution_count": 33,
   "id": "014a58ab-f7d2-4f1d-9d70-4e17fdb476df",
   "metadata": {},
   "outputs": [
    {
     "ename": "TypeError",
     "evalue": "dict expected at most 1 argument, got 4",
     "output_type": "error",
     "traceback": [
      "\u001b[1;31m---------------------------------------------------------------------------\u001b[0m",
      "\u001b[1;31mTypeError\u001b[0m                                 Traceback (most recent call last)",
      "Cell \u001b[1;32mIn[33], line 1\u001b[0m\n\u001b[1;32m----> 1\u001b[0m d \u001b[38;5;241m=\u001b[39m \u001b[38;5;28mdict\u001b[39m((\u001b[38;5;124m\"\u001b[39m\u001b[38;5;124ma\u001b[39m\u001b[38;5;124m\"\u001b[39m,\u001b[38;5;241m2\u001b[39m), (\u001b[38;5;124m\"\u001b[39m\u001b[38;5;124mb\u001b[39m\u001b[38;5;124m\"\u001b[39m, \u001b[38;5;241m4\u001b[39m), (\u001b[38;5;124m\"\u001b[39m\u001b[38;5;124mc\u001b[39m\u001b[38;5;124m\"\u001b[39m, \u001b[38;5;241m10\u001b[39m), (\u001b[38;5;241m100\u001b[39m,\u001b[38;5;124m\"\u001b[39m\u001b[38;5;124md\u001b[39m\u001b[38;5;124m\"\u001b[39m))\n\u001b[0;32m      2\u001b[0m \u001b[38;5;28mprint\u001b[39m(d)\n",
      "\u001b[1;31mTypeError\u001b[0m: dict expected at most 1 argument, got 4"
     ]
    }
   ],
   "source": [
    "d = dict((\"a\",2), (\"b\", 4), (\"c\", 10), (100,\"d\"))\n",
    "print(d)"
   ]
  },
  {
   "cell_type": "code",
   "execution_count": 34,
   "id": "5d0bced9-f147-49a0-b92f-b7c92ada9209",
   "metadata": {},
   "outputs": [
    {
     "name": "stdout",
     "output_type": "stream",
     "text": [
      "{'a': [1, 2, 3], 'b': 4, 'c': 10, 100: 'd'}\n"
     ]
    }
   ],
   "source": [
    "d = dict([(\"a\",[1,2,3]), (\"b\", 4), (\"c\", 10), (100,\"d\")])\n",
    "print(d)"
   ]
  },
  {
   "cell_type": "code",
   "execution_count": 35,
   "id": "0e4479fc-ccc8-45f8-9341-7311cfd5846e",
   "metadata": {},
   "outputs": [
    {
     "name": "stdout",
     "output_type": "stream",
     "text": [
      "{'a': [1, 2, 3], 'b': 4, 'c': 10, 100: 'd', 'virat': 120}\n"
     ]
    }
   ],
   "source": [
    "d = dict([(\"a\",[1,2,3]), (\"b\", 4), (\"c\", 10), (100,\"d\")], virat=120)\n",
    "print(d)"
   ]
  },
  {
   "cell_type": "code",
   "execution_count": 36,
   "id": "9d1cfca0-d37e-4a76-9915-7ced7752d691",
   "metadata": {},
   "outputs": [
    {
     "name": "stdout",
     "output_type": "stream",
     "text": [
      "{'ABC': 120}\n",
      "{120: 'ABC'}\n"
     ]
    }
   ],
   "source": [
    "virat = \"ABC\"\n",
    "d = dict([(virat, 120)])\n",
    "print(d)\n",
    "d2 = dict([(120, virat)])\n",
    "print(d2)"
   ]
  },
  {
   "cell_type": "code",
   "execution_count": 37,
   "id": "7849f464-d96c-4b04-a9f2-1ff90324f081",
   "metadata": {},
   "outputs": [
    {
     "name": "stdout",
     "output_type": "stream",
     "text": [
      "{'a': [1, 2, 3], 'b': 4, 'c': 10, 100: 'd', 'virat': 120, 'rohit': 100}\n"
     ]
    }
   ],
   "source": [
    "d = dict([(\"a\",[1,2,3]), (\"b\", 4), (\"c\", 10), (100,\"d\")], virat=120, rohit=100)\n",
    "print(d)"
   ]
  },
  {
   "cell_type": "markdown",
   "id": "ac0ba97f-faef-4884-9486-ca66e0c9c70c",
   "metadata": {},
   "source": [
    "### ***Creating dictionary fromkeys method***"
   ]
  },
  {
   "cell_type": "code",
   "execution_count": 38,
   "id": "8d89b8aa-d1b9-43c2-a807-756c404daf89",
   "metadata": {},
   "outputs": [
    {
     "name": "stdout",
     "output_type": "stream",
     "text": [
      "{'venky': None, 'viky': None, 'abi': None, 'sai': None, 'vasanth': None}\n"
     ]
    }
   ],
   "source": [
    "students = ['venky', 'viky', 'abi', 'sai', 'vasanth']\n",
    "d = dict.fromkeys(students) # default value is None\n",
    "print(d)"
   ]
  },
  {
   "cell_type": "code",
   "execution_count": 39,
   "id": "afc23d2d-0766-4a66-82c5-54f8d0cdf70f",
   "metadata": {},
   "outputs": [
    {
     "name": "stdout",
     "output_type": "stream",
     "text": [
      "{'venky': 0, 'viky': 0, 'abi': 0, 'sai': 0, 'vasanth': 0}\n"
     ]
    }
   ],
   "source": [
    "students = ['venky', 'viky', 'abi', 'sai', 'vasanth']\n",
    "d = dict.fromkeys(students, 0)\n",
    "print(d)"
   ]
  },
  {
   "cell_type": "code",
   "execution_count": 40,
   "id": "7d5990de-cb1b-4bcb-a267-ea86d89f3c26",
   "metadata": {},
   "outputs": [
    {
     "name": "stdout",
     "output_type": "stream",
     "text": [
      "{'venky': 0, 'viky': 0, 'abi': 0, 'sai': 0, 'vasanth': 0}\n"
     ]
    }
   ],
   "source": [
    "students = ('venky', 'viky', 'abi', 'sai', 'vasanth')\n",
    "d = dict.fromkeys(students, 0)\n",
    "print(d)"
   ]
  },
  {
   "cell_type": "code",
   "execution_count": 41,
   "id": "a53a0d9e-a131-43cd-bf7d-4b57d359ca30",
   "metadata": {},
   "outputs": [
    {
     "name": "stdout",
     "output_type": "stream",
     "text": [
      "{'venky': [1, 2, 3], 'viky': [1, 2, 3], 'abi': [1, 2, 3], 'sai': [1, 2, 3], 'vasanth': [1, 2, 3]}\n"
     ]
    }
   ],
   "source": [
    "students = ('venky', 'viky', 'abi', 'sai', 'vasanth')\n",
    "d = dict.fromkeys(students, [1,2,3])\n",
    "print(d)"
   ]
  },
  {
   "cell_type": "code",
   "execution_count": 42,
   "id": "15a709a1-fa70-4619-98d7-90ad5ce5df01",
   "metadata": {},
   "outputs": [
    {
     "name": "stdout",
     "output_type": "stream",
     "text": [
      "{'a': [12, 20, 30], 'b': (20, 30, 40), 'c': {40, 12, 30}, 'd': {10: 20, 20: 30, 30: 40}}\n"
     ]
    }
   ],
   "source": [
    "# keys and values in dictionary \n",
    "d = {'a': [12,20,30], 'b': (20,30,40), 'c': {12,30,40}, 'd': {10:20,20:30,30:40}} # dictionary inside dictionary \n",
    "print(d)"
   ]
  },
  {
   "cell_type": "code",
   "execution_count": 43,
   "id": "59f4504a-c109-4178-91cd-e7764a023501",
   "metadata": {},
   "outputs": [
    {
     "name": "stdout",
     "output_type": "stream",
     "text": [
      "{(12, 30, 40): 'b'}\n"
     ]
    }
   ],
   "source": [
    "d = {(12,30,40): 'b'} # tuple as a key\n",
    "print(d)"
   ]
  },
  {
   "cell_type": "code",
   "execution_count": 44,
   "id": "7f16b9b0-129a-4735-a257-a04ee1c57f00",
   "metadata": {},
   "outputs": [
    {
     "ename": "TypeError",
     "evalue": "unhashable type: 'list'",
     "output_type": "error",
     "traceback": [
      "\u001b[1;31m---------------------------------------------------------------------------\u001b[0m",
      "\u001b[1;31mTypeError\u001b[0m                                 Traceback (most recent call last)",
      "Cell \u001b[1;32mIn[44], line 1\u001b[0m\n\u001b[1;32m----> 1\u001b[0m d \u001b[38;5;241m=\u001b[39m {(\u001b[38;5;241m12\u001b[39m,\u001b[38;5;241m30\u001b[39m,\u001b[38;5;241m40\u001b[39m): \u001b[38;5;124m'\u001b[39m\u001b[38;5;124mb\u001b[39m\u001b[38;5;124m'\u001b[39m, [\u001b[38;5;241m12\u001b[39m,\u001b[38;5;241m30\u001b[39m,\u001b[38;5;241m40\u001b[39m]: \u001b[38;5;124m'\u001b[39m\u001b[38;5;124mc\u001b[39m\u001b[38;5;124m'\u001b[39m} \u001b[38;5;66;03m# list as a key is not possible \u001b[39;00m\n\u001b[0;32m      2\u001b[0m \u001b[38;5;28mprint\u001b[39m(d)\n",
      "\u001b[1;31mTypeError\u001b[0m: unhashable type: 'list'"
     ]
    }
   ],
   "source": [
    "d = {(12,30,40): 'b', [12,30,40]: 'c'} # list as a key is not possible \n",
    "print(d)"
   ]
  },
  {
   "cell_type": "code",
   "execution_count": 45,
   "id": "30f80f5c-8ce2-45fa-99e7-9879f4a381e4",
   "metadata": {},
   "outputs": [
    {
     "ename": "TypeError",
     "evalue": "unhashable type: 'list'",
     "output_type": "error",
     "traceback": [
      "\u001b[1;31m---------------------------------------------------------------------------\u001b[0m",
      "\u001b[1;31mTypeError\u001b[0m                                 Traceback (most recent call last)",
      "Cell \u001b[1;32mIn[45], line 2\u001b[0m\n\u001b[0;32m      1\u001b[0m \u001b[38;5;66;03m# list, set, dictionaries - are mutable (so it cannot be passed as a key to a dictionary)\u001b[39;00m\n\u001b[1;32m----> 2\u001b[0m d \u001b[38;5;241m=\u001b[39m {(\u001b[38;5;241m12\u001b[39m,\u001b[38;5;241m30\u001b[39m,[\u001b[38;5;241m12\u001b[39m,\u001b[38;5;241m30\u001b[39m]): \u001b[38;5;124m\"\u001b[39m\u001b[38;5;124mA\u001b[39m\u001b[38;5;124m\"\u001b[39m}\n\u001b[0;32m      3\u001b[0m \u001b[38;5;28mprint\u001b[39m(d)\n",
      "\u001b[1;31mTypeError\u001b[0m: unhashable type: 'list'"
     ]
    }
   ],
   "source": [
    "# list, set, dictionaries - are mutable (so it cannot be passed as a key to a dictionary)\n",
    "d = {(12,30,[12,30]): \"A\"}\n",
    "print(d)"
   ]
  },
  {
   "cell_type": "code",
   "execution_count": 46,
   "id": "010a7dbb-9597-4e8f-859e-806d1945948c",
   "metadata": {},
   "outputs": [
    {
     "name": "stdout",
     "output_type": "stream",
     "text": [
      "3\n"
     ]
    }
   ],
   "source": [
    "d = {\"a\": 12, \"b\": 13, \"c\": 100}\n",
    "print(len(d))"
   ]
  },
  {
   "cell_type": "code",
   "execution_count": 47,
   "id": "50f03c08-fef0-49cd-8dad-131899f7a0ab",
   "metadata": {},
   "outputs": [
    {
     "name": "stdout",
     "output_type": "stream",
     "text": [
      "{'a': 12, 'b': 13, 'c': 100, 1: '2', '1': 'ABC', False: 'True'}\n",
      "6\n"
     ]
    }
   ],
   "source": [
    "d = {\"a\": 12, \"b\": 13, \"c\": 100, 1:\"A\", \"1\": \"ABC\", 1.0:\"2\", False: \"True\"}\n",
    "print(d)\n",
    "print(len(d))"
   ]
  },
  {
   "cell_type": "markdown",
   "id": "c1013241-bf4b-4131-8ea2-b417bb641770",
   "metadata": {},
   "source": [
    "### ***keys, values, items***"
   ]
  },
  {
   "cell_type": "code",
   "execution_count": 48,
   "id": "487bf55b-9360-4c62-9465-8235850142ff",
   "metadata": {},
   "outputs": [
    {
     "name": "stdout",
     "output_type": "stream",
     "text": [
      "dict_keys(['Virat', 'Rohit', 'Sachin'])\n",
      "dict_values([55.4, 46.9, 60.9])\n",
      "dict_items([('Virat', 55.4), ('Rohit', 46.9), ('Sachin', 60.9)])\n"
     ]
    }
   ],
   "source": [
    "# keys, values, items \n",
    "d = {\"Virat\": 55.4, \"Rohit\": 46.9, \"Sachin\": 60.9}\n",
    "print(d.keys())\n",
    "print(d.values())\n",
    "print(d.items())"
   ]
  },
  {
   "cell_type": "code",
   "execution_count": 49,
   "id": "4069d485-1335-4d73-9330-5404b9ba92f7",
   "metadata": {},
   "outputs": [
    {
     "name": "stdout",
     "output_type": "stream",
     "text": [
      "Keys: --> Virat\n",
      "Keys: --> Rohit\n",
      "Keys: --> Sachin\n"
     ]
    }
   ],
   "source": [
    "for k in d.keys(): \n",
    "    print(\"Keys: -->\", k)"
   ]
  },
  {
   "cell_type": "code",
   "execution_count": 50,
   "id": "34347c6d-627d-42a6-bd5f-b1e94f9fddbb",
   "metadata": {},
   "outputs": [
    {
     "name": "stdout",
     "output_type": "stream",
     "text": [
      "Values: --> 55.4\n",
      "Values: --> 46.9\n",
      "Values: --> 60.9\n"
     ]
    }
   ],
   "source": [
    "for k in d.values(): \n",
    "    print(\"Values: -->\", k)"
   ]
  },
  {
   "cell_type": "code",
   "execution_count": 51,
   "id": "5640ee4b-4442-48f5-9c38-9bf22239d8a3",
   "metadata": {},
   "outputs": [
    {
     "name": "stdout",
     "output_type": "stream",
     "text": [
      "Items: --> ('Virat', 55.4)\n",
      "Items: --> ('Rohit', 46.9)\n",
      "Items: --> ('Sachin', 60.9)\n"
     ]
    }
   ],
   "source": [
    "for k in d.items(): \n",
    "    print(\"Items: -->\", k)"
   ]
  },
  {
   "cell_type": "code",
   "execution_count": 53,
   "id": "2b222d32-50b2-4a63-ae56-d714919b4e6e",
   "metadata": {},
   "outputs": [
    {
     "name": "stdout",
     "output_type": "stream",
     "text": [
      "Key: --> Virat ; Values--> 55.4\n",
      "Key: --> Rohit ; Values--> 46.9\n",
      "Key: --> Sachin ; Values--> 60.9\n"
     ]
    }
   ],
   "source": [
    "for k, v in d.items(): \n",
    "    print(\"Key: -->\", k, \"; Values-->\", v)"
   ]
  },
  {
   "cell_type": "markdown",
   "id": "d9a60eb6-915f-4054-acf2-a25ce6c5b81b",
   "metadata": {},
   "source": [
    "### ***Accessing in a dictionary***"
   ]
  },
  {
   "cell_type": "code",
   "execution_count": 54,
   "id": "b591052d-389a-4082-93fe-57aa014299c2",
   "metadata": {},
   "outputs": [
    {
     "data": {
      "text/plain": [
       "55.4"
      ]
     },
     "execution_count": 54,
     "metadata": {},
     "output_type": "execute_result"
    }
   ],
   "source": [
    "d = {\"Virat\": 55.4, \"Rohit\": 46.9, \"Sachin\": 60.9}\n",
    "d['Virat']"
   ]
  },
  {
   "cell_type": "code",
   "execution_count": 55,
   "id": "e432c4e4-6a45-4125-8e9c-3b5ecd3d2170",
   "metadata": {},
   "outputs": [
    {
     "ename": "KeyError",
     "evalue": "'Sky'",
     "output_type": "error",
     "traceback": [
      "\u001b[1;31m---------------------------------------------------------------------------\u001b[0m",
      "\u001b[1;31mKeyError\u001b[0m                                  Traceback (most recent call last)",
      "Cell \u001b[1;32mIn[55], line 1\u001b[0m\n\u001b[1;32m----> 1\u001b[0m d[\u001b[38;5;124m'\u001b[39m\u001b[38;5;124mSky\u001b[39m\u001b[38;5;124m'\u001b[39m]\n",
      "\u001b[1;31mKeyError\u001b[0m: 'Sky'"
     ]
    }
   ],
   "source": [
    "d['Sky']"
   ]
  },
  {
   "cell_type": "markdown",
   "id": "8e58e1ff-24b6-4339-b5be-24feb51b5d37",
   "metadata": {},
   "source": [
    "### **get(key)**\n",
    "#### - It is used to returns the value of given key\n",
    "#### - If key is not in dictionary it returns default value\n",
    "#### - If default value is not given it returns None keyword"
   ]
  },
  {
   "cell_type": "code",
   "execution_count": 56,
   "id": "ef1f63b1-82e5-47ed-9782-801e93819d33",
   "metadata": {},
   "outputs": [
    {
     "data": {
      "text/plain": [
       "55.4"
      ]
     },
     "execution_count": 56,
     "metadata": {},
     "output_type": "execute_result"
    }
   ],
   "source": [
    "# get() method \n",
    "d = {\"Virat\": 55.4, \"Rohit\": 46.9, \"Sachin\": 60.9}\n",
    "d.get(\"Virat\")"
   ]
  },
  {
   "cell_type": "code",
   "execution_count": 57,
   "id": "69944d64-6386-480c-b2ef-641e12b32951",
   "metadata": {},
   "outputs": [
    {
     "name": "stdout",
     "output_type": "stream",
     "text": [
      "None\n",
      "55.4\n"
     ]
    }
   ],
   "source": [
    "a = d.get(\"Sky\")\n",
    "b = d.get(\"Virat\")\n",
    "print(a)\n",
    "print(b)"
   ]
  },
  {
   "cell_type": "code",
   "execution_count": 58,
   "id": "bef890eb-bc0b-4956-9fd8-91057edbe021",
   "metadata": {},
   "outputs": [
    {
     "data": {
      "text/plain": [
       "-1"
      ]
     },
     "execution_count": 58,
     "metadata": {},
     "output_type": "execute_result"
    }
   ],
   "source": [
    "d.get(\"Sky\", -1) # get(key, default_val)"
   ]
  },
  {
   "cell_type": "code",
   "execution_count": 59,
   "id": "3717df3b-fc9c-4f26-9669-7b275b087c0c",
   "metadata": {},
   "outputs": [
    {
     "data": {
      "text/plain": [
       "'Key Not Found'"
      ]
     },
     "execution_count": 59,
     "metadata": {},
     "output_type": "execute_result"
    }
   ],
   "source": [
    "d.get(\"Sky\", \"Key Not Found\") # get(key, default_val)"
   ]
  },
  {
   "cell_type": "markdown",
   "id": "9240c206-c451-4d9e-b69f-9f9fe65a9d7e",
   "metadata": {},
   "source": [
    "### ***Modifying dictionary***\n",
    "#### syntax: d[key]=value\n"
   ]
  },
  {
   "cell_type": "code",
   "execution_count": 2,
   "id": "084e7a3b-1bc1-4486-9e21-58d73aa87869",
   "metadata": {},
   "outputs": [
    {
     "name": "stdout",
     "output_type": "stream",
     "text": [
      "{'Virat': [100, 56, 78], 'Rohit': 46.9, 'Sachin': 60.9}\n"
     ]
    }
   ],
   "source": [
    "d = {\"Virat\": 55.4, \"Rohit\": 46.9, \"Sachin\": 60.9}\n",
    "d['Virat'] = [100,56,78] # keys in dictionary needs to be unique \n",
    "print(d)"
   ]
  },
  {
   "cell_type": "code",
   "execution_count": 3,
   "id": "e49f1388-3ad5-49df-9ed2-13c1b8347a61",
   "metadata": {},
   "outputs": [
    {
     "data": {
      "text/plain": [
       "True"
      ]
     },
     "execution_count": 3,
     "metadata": {},
     "output_type": "execute_result"
    }
   ],
   "source": [
    "# in operator \n",
    "'Virat' in d"
   ]
  },
  {
   "cell_type": "code",
   "execution_count": 4,
   "id": "05258dd9-7738-44cf-b2e3-a0978d4143dd",
   "metadata": {},
   "outputs": [
    {
     "data": {
      "text/plain": [
       "False"
      ]
     },
     "execution_count": 4,
     "metadata": {},
     "output_type": "execute_result"
    }
   ],
   "source": [
    "'Virat' not in d"
   ]
  },
  {
   "cell_type": "code",
   "execution_count": 5,
   "id": "c5334322-2516-4a2b-a900-ae2e1aadb9c3",
   "metadata": {},
   "outputs": [
    {
     "data": {
      "text/plain": [
       "True"
      ]
     },
     "execution_count": 5,
     "metadata": {},
     "output_type": "execute_result"
    }
   ],
   "source": [
    "'Sky' not in d"
   ]
  },
  {
   "cell_type": "code",
   "execution_count": 6,
   "id": "eec011e8-f0fc-4bc7-a441-5055a2e40aef",
   "metadata": {},
   "outputs": [
    {
     "data": {
      "text/plain": [
       "False"
      ]
     },
     "execution_count": 6,
     "metadata": {},
     "output_type": "execute_result"
    }
   ],
   "source": [
    "\"Sky\" in d"
   ]
  },
  {
   "cell_type": "code",
   "execution_count": 7,
   "id": "8c3f7a65-fe1c-4b11-b420-62a4c1f799fd",
   "metadata": {},
   "outputs": [
    {
     "data": {
      "text/plain": [
       "False"
      ]
     },
     "execution_count": 7,
     "metadata": {},
     "output_type": "execute_result"
    }
   ],
   "source": [
    "\"Sky\" in d.values()"
   ]
  },
  {
   "cell_type": "markdown",
   "id": "03df19b2-91b9-4cd9-a3ee-010df4eef98a",
   "metadata": {},
   "source": [
    "### ***Update(iterable)***\n",
    "#### we can add multiple items to dictionary.\n",
    "#### syntax: dict.update(iterables)"
   ]
  },
  {
   "cell_type": "code",
   "execution_count": 79,
   "id": "155c35dd-222c-446c-8fbc-af324b288076",
   "metadata": {},
   "outputs": [
    {
     "name": "stdout",
     "output_type": "stream",
     "text": [
      "{'name': 'New_buddy', 'age': 25, 'profession': 'DataScientist', 'Education': 'BE', 'Salary': 100000}\n"
     ]
    }
   ],
   "source": [
    "my_dict = {\n",
    "    'name': 'New_buddy',\n",
    "    'age':25,\n",
    "    'profession':'DataScientist'\n",
    "}\n",
    "#other_dict = ['Education', 'BE'],['Salary', 100000]\n",
    "other_dict = [['Education', 'BE'],['Salary', 100000]]\n",
    "#other_dict = [('Education', 'BE'),('Salary', 100000)]\n",
    "#other_dict = ('Education', 'BE'),('Salary', 100000)\n",
    "#other_dict = (('Education', 'BE'),('Salary', 100000))\n",
    "#other_dict = (['Education', 'BE'],['Salary', 100000])\n",
    "\n",
    "my_dict.update(other_dict)\n",
    "print(my_dict)"
   ]
  },
  {
   "cell_type": "code",
   "execution_count": 67,
   "id": "24c8f1bb-5b08-4191-a674-514ac9dbe98c",
   "metadata": {},
   "outputs": [
    {
     "name": "stdout",
     "output_type": "stream",
     "text": [
      "{'name': 'Venky', 'age': 26, 'profession': 'teaching'}\n"
     ]
    }
   ],
   "source": [
    "my_dict = {\"name\": \"Venky\", \"age\": 26, \"profession\": \"teaching\"}\n",
    "print(my_dict)"
   ]
  },
  {
   "cell_type": "code",
   "execution_count": 68,
   "id": "7f65e4a1-d5eb-4ff5-bf89-0802db2db5e0",
   "metadata": {},
   "outputs": [
    {
     "name": "stdout",
     "output_type": "stream",
     "text": [
      "{'name': 'Viky', 'age': 30, 'profession': 'teaching'}\n"
     ]
    }
   ],
   "source": [
    "my_dict.update(name = \"Viky\", age = 30)\n",
    "print(my_dict)"
   ]
  },
  {
   "cell_type": "code",
   "execution_count": 70,
   "id": "3a5dc1bc-fa7a-4b04-a8df-5e20ef0541ab",
   "metadata": {},
   "outputs": [
    {
     "data": {
      "text/plain": [
       "{'name': 'Venky',\n",
       " 'age': 26,\n",
       " 'profession': 'teaching',\n",
       " 'salary': 1000,\n",
       " 'education': 'Mtech'}"
      ]
     },
     "execution_count": 70,
     "metadata": {},
     "output_type": "execute_result"
    }
   ],
   "source": [
    "my_dict = {\"name\": \"Venky\", \"age\": 26, \"profession\": \"teaching\"}\n",
    "other_dict = {\"salary\": 1000, \"education\": \"Mtech\"}\n",
    "my_dict.update(other_dict)\n",
    "my_dict"
   ]
  },
  {
   "cell_type": "code",
   "execution_count": 71,
   "id": "df17d81e-cbfd-48e9-8953-e5e3ebf5bd3c",
   "metadata": {},
   "outputs": [
    {
     "name": "stdout",
     "output_type": "stream",
     "text": [
      "{'a': [12, 20]}\n"
     ]
    }
   ],
   "source": [
    "d = {\"a\": [12]}\n",
    "d[\"a\"].append(20)\n",
    "print(d)"
   ]
  },
  {
   "cell_type": "code",
   "execution_count": 72,
   "id": "2e99d2bb-a9cf-4fbd-897f-e2aaf0981fa8",
   "metadata": {},
   "outputs": [
    {
     "name": "stdout",
     "output_type": "stream",
     "text": [
      "{'a': 2}\n"
     ]
    }
   ],
   "source": [
    "d = {\"a\": 1, \"a\": 2}\n",
    "print(d)"
   ]
  },
  {
   "cell_type": "code",
   "execution_count": 73,
   "id": "c8ef3f96-a932-4f00-9043-f9585292e6db",
   "metadata": {},
   "outputs": [
    {
     "data": {
      "text/plain": [
       "tuple"
      ]
     },
     "execution_count": 73,
     "metadata": {},
     "output_type": "execute_result"
    }
   ],
   "source": [
    "my_dict = {\"name\": \"Viky\", \"age\": 30, \"profession\": \"teaching\"}\n",
    "\n",
    "other_dict = [\"salary\", 10000], [\"education\", \"btech\"]\n",
    "my_dict.update(other_dict)\n",
    "type(other_dict)"
   ]
  },
  {
   "cell_type": "code",
   "execution_count": 74,
   "id": "dacdaa4a-937c-4892-8357-9710c9975779",
   "metadata": {},
   "outputs": [
    {
     "data": {
      "text/plain": [
       "{'name': 'Viky',\n",
       " 'age': 30,\n",
       " 'profession': 'teaching',\n",
       " 'salary': 10000,\n",
       " 'education': 'btech'}"
      ]
     },
     "execution_count": 74,
     "metadata": {},
     "output_type": "execute_result"
    }
   ],
   "source": [
    "my_dict"
   ]
  },
  {
   "cell_type": "code",
   "execution_count": 75,
   "id": "4bea3514-b83c-4ac6-b73b-8972b98f816d",
   "metadata": {},
   "outputs": [
    {
     "data": {
      "text/plain": [
       "{'name': 'Viky', 'age': 30, 'profession': 'teaching', 'education': 'btech'}"
      ]
     },
     "execution_count": 75,
     "metadata": {},
     "output_type": "execute_result"
    }
   ],
   "source": [
    "del my_dict['salary']\n",
    "my_dict"
   ]
  },
  {
   "cell_type": "code",
   "execution_count": 76,
   "id": "96b43bba-ca46-4b1a-b138-d60b25d5b7d5",
   "metadata": {},
   "outputs": [
    {
     "ename": "NameError",
     "evalue": "name 'my_dict' is not defined",
     "output_type": "error",
     "traceback": [
      "\u001b[1;31m---------------------------------------------------------------------------\u001b[0m",
      "\u001b[1;31mNameError\u001b[0m                                 Traceback (most recent call last)",
      "Cell \u001b[1;32mIn[76], line 2\u001b[0m\n\u001b[0;32m      1\u001b[0m \u001b[38;5;28;01mdel\u001b[39;00m my_dict\n\u001b[1;32m----> 2\u001b[0m my_dict\n",
      "\u001b[1;31mNameError\u001b[0m: name 'my_dict' is not defined"
     ]
    }
   ],
   "source": [
    "del my_dict\n",
    "my_dict"
   ]
  },
  {
   "cell_type": "code",
   "execution_count": 77,
   "id": "45dcd585-95d4-47a9-a9c9-ee3f8755c373",
   "metadata": {},
   "outputs": [
    {
     "name": "stdout",
     "output_type": "stream",
     "text": [
      "{'name': 'Viky', 'age': 30, 'profession': 'teaching', 'salary': 10000, 'education': 'btech'}\n"
     ]
    }
   ],
   "source": [
    "my_dict = {\"name\": \"Viky\", \"age\": 30, \"profession\": \"teaching\"}\n",
    "other_dict = [\"salary\", 10000], [\"education\", \"btech\"]\n",
    "my_dict.update(other_dict)\n",
    "print(my_dict)"
   ]
  },
  {
   "cell_type": "code",
   "execution_count": 78,
   "id": "581d57c7-2272-47eb-8dcf-15c0b1546071",
   "metadata": {},
   "outputs": [
    {
     "data": {
      "text/plain": [
       "{}"
      ]
     },
     "execution_count": 78,
     "metadata": {},
     "output_type": "execute_result"
    }
   ],
   "source": [
    "my_dict.clear()\n",
    "my_dict"
   ]
  },
  {
   "cell_type": "markdown",
   "id": "a1d0d864-f0ae-474b-9fff-0988a219f3d6",
   "metadata": {},
   "source": [
    "### ***pop***\n",
    "#### - It takes key as an argument and returns value of the given key\n",
    "#### - If given key is not in dictionary then it returns default value provided\n",
    "#### - If default value is not given then it throws key error"
   ]
  },
  {
   "cell_type": "code",
   "execution_count": 80,
   "id": "798cf7a6-d54b-49d6-ac74-feef7d7f5880",
   "metadata": {},
   "outputs": [
    {
     "ename": "TypeError",
     "evalue": "pop expected at least 1 argument, got 0",
     "output_type": "error",
     "traceback": [
      "\u001b[1;31m---------------------------------------------------------------------------\u001b[0m",
      "\u001b[1;31mTypeError\u001b[0m                                 Traceback (most recent call last)",
      "Cell \u001b[1;32mIn[80], line 3\u001b[0m\n\u001b[0;32m      1\u001b[0m \u001b[38;5;66;03m# pop method\u001b[39;00m\n\u001b[0;32m      2\u001b[0m d \u001b[38;5;241m=\u001b[39m {\u001b[38;5;124m\"\u001b[39m\u001b[38;5;124mVenky\u001b[39m\u001b[38;5;124m\"\u001b[39m: \u001b[38;5;241m100\u001b[39m, \u001b[38;5;124m\"\u001b[39m\u001b[38;5;124mViky\u001b[39m\u001b[38;5;124m\"\u001b[39m: \u001b[38;5;241m200\u001b[39m, \u001b[38;5;124m\"\u001b[39m\u001b[38;5;124mSendhil\u001b[39m\u001b[38;5;124m\"\u001b[39m: \u001b[38;5;241m300\u001b[39m, \u001b[38;5;124m\"\u001b[39m\u001b[38;5;124mMani\u001b[39m\u001b[38;5;124m\"\u001b[39m: \u001b[38;5;241m400\u001b[39m}\n\u001b[1;32m----> 3\u001b[0m d\u001b[38;5;241m.\u001b[39mpop()\n",
      "\u001b[1;31mTypeError\u001b[0m: pop expected at least 1 argument, got 0"
     ]
    }
   ],
   "source": [
    "# pop method\n",
    "d = {\"Venky\": 100, \"Viky\": 200, \"Sendhil\": 300, \"Mani\": 400}\n",
    "d.pop()"
   ]
  },
  {
   "cell_type": "code",
   "execution_count": 81,
   "id": "aa6f6ec6-a3f4-4080-8b0f-9feeb6651797",
   "metadata": {},
   "outputs": [
    {
     "name": "stdout",
     "output_type": "stream",
     "text": [
      "300\n",
      "<class 'int'>\n",
      "{'Venky': 100, 'Viky': 200, 'Mani': 400}\n"
     ]
    }
   ],
   "source": [
    "v = d.pop(\"Sendhil\")\n",
    "print(v)\n",
    "print(type(v))\n",
    "print(d)"
   ]
  },
  {
   "cell_type": "code",
   "execution_count": 82,
   "id": "49ad80bd-d6a2-46de-a4aa-8b26c498efdb",
   "metadata": {},
   "outputs": [
    {
     "name": "stdout",
     "output_type": "stream",
     "text": [
      "{'Venky': 100, 'Viky': 200, 'Mani': 400}\n"
     ]
    }
   ],
   "source": [
    "print(d)"
   ]
  },
  {
   "cell_type": "code",
   "execution_count": 83,
   "id": "31931a54-fd02-44b7-ac6e-b1a1cf6c3fc6",
   "metadata": {},
   "outputs": [
    {
     "ename": "KeyError",
     "evalue": "'Virat'",
     "output_type": "error",
     "traceback": [
      "\u001b[1;31m---------------------------------------------------------------------------\u001b[0m",
      "\u001b[1;31mKeyError\u001b[0m                                  Traceback (most recent call last)",
      "Cell \u001b[1;32mIn[83], line 1\u001b[0m\n\u001b[1;32m----> 1\u001b[0m d\u001b[38;5;241m.\u001b[39mpop(\u001b[38;5;124m\"\u001b[39m\u001b[38;5;124mVirat\u001b[39m\u001b[38;5;124m\"\u001b[39m)\n",
      "\u001b[1;31mKeyError\u001b[0m: 'Virat'"
     ]
    }
   ],
   "source": [
    "d.pop(\"Virat\")"
   ]
  },
  {
   "cell_type": "code",
   "execution_count": 84,
   "id": "fe483250-9215-433a-89cd-7e9edf2874bb",
   "metadata": {},
   "outputs": [
    {
     "name": "stdout",
     "output_type": "stream",
     "text": [
      "10\n",
      "{'Venky': 100, 'Viky': 200, 'Mani': 400}\n"
     ]
    }
   ],
   "source": [
    "v = d.pop(\"Virat\", 10)\n",
    "print(v)\n",
    "print(d)"
   ]
  },
  {
   "cell_type": "code",
   "execution_count": 85,
   "id": "9af9521f-3485-48d2-a527-f3828f49a49e",
   "metadata": {},
   "outputs": [
    {
     "name": "stdout",
     "output_type": "stream",
     "text": [
      "100\n",
      "{'Viky': 200, 'Mani': 400}\n"
     ]
    }
   ],
   "source": [
    "v = d.pop(\"Venky\", 10)\n",
    "print(v)\n",
    "print(d)"
   ]
  },
  {
   "cell_type": "markdown",
   "id": "3af46f00-099d-4b6c-b1e3-a4e257d67b54",
   "metadata": {},
   "source": [
    "### ***popitem***\n",
    "#### - It removes and return last key value pair in the form of tuple\n",
    "#### - It will not accept any argument"
   ]
  },
  {
   "cell_type": "code",
   "execution_count": 86,
   "id": "bcb7e238-bb5d-4d33-b7e9-643dc2a90807",
   "metadata": {},
   "outputs": [
    {
     "name": "stdout",
     "output_type": "stream",
     "text": [
      "('Mani', 400)\n",
      "<class 'tuple'>\n",
      "{'Venky': 100, 'Viky': 200, 'Sendhil': 300}\n"
     ]
    }
   ],
   "source": [
    "# popitem()\n",
    "d = {\"Venky\": 100, \"Viky\": 200, \"Sendhil\": 300, \"Mani\": 400}\n",
    "v = d.popitem() # returns a tuple of last key_value pair\n",
    "print(v)\n",
    "print(type(v))\n",
    "print(d)"
   ]
  },
  {
   "cell_type": "code",
   "execution_count": 87,
   "id": "f59da757-d2cb-40f7-a39b-57a61c5773b6",
   "metadata": {},
   "outputs": [
    {
     "data": {
      "text/plain": [
       "{'Venky': 100, 'Viky': 200, 'Sendhil': 300}"
      ]
     },
     "execution_count": 87,
     "metadata": {},
     "output_type": "execute_result"
    }
   ],
   "source": [
    "d"
   ]
  },
  {
   "cell_type": "code",
   "execution_count": 88,
   "id": "3a7bd656-5a74-439a-a04a-06bc1041bf4b",
   "metadata": {},
   "outputs": [
    {
     "ename": "TypeError",
     "evalue": "dict.popitem() takes no arguments (1 given)",
     "output_type": "error",
     "traceback": [
      "\u001b[1;31m---------------------------------------------------------------------------\u001b[0m",
      "\u001b[1;31mTypeError\u001b[0m                                 Traceback (most recent call last)",
      "Cell \u001b[1;32mIn[88], line 1\u001b[0m\n\u001b[1;32m----> 1\u001b[0m d\u001b[38;5;241m.\u001b[39mpopitem(\u001b[38;5;124m\"\u001b[39m\u001b[38;5;124mVenky\u001b[39m\u001b[38;5;124m\"\u001b[39m)\n",
      "\u001b[1;31mTypeError\u001b[0m: dict.popitem() takes no arguments (1 given)"
     ]
    }
   ],
   "source": [
    "d.popitem(\"Venky\")"
   ]
  },
  {
   "cell_type": "code",
   "execution_count": null,
   "id": "faf7e2f8-234f-426a-8e1f-5b738a620717",
   "metadata": {},
   "outputs": [],
   "source": []
  }
 ],
 "metadata": {
  "kernelspec": {
   "display_name": "Python 3 (ipykernel)",
   "language": "python",
   "name": "python3"
  },
  "language_info": {
   "codemirror_mode": {
    "name": "ipython",
    "version": 3
   },
   "file_extension": ".py",
   "mimetype": "text/x-python",
   "name": "python",
   "nbconvert_exporter": "python",
   "pygments_lexer": "ipython3",
   "version": "3.11.7"
  }
 },
 "nbformat": 4,
 "nbformat_minor": 5
}
