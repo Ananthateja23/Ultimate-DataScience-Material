{
 "cells": [
  {
   "cell_type": "markdown",
   "id": "aa37c3f0-7e14-4159-b43e-56bbae9ddb40",
   "metadata": {},
   "source": [
    "### ***String Operations***\n",
    "#### 1. Concatenate Operator (+)\n",
    "#### 2. Repetition Opearator (*)\n",
    "#### 3. String Comparision Operator (==, !=, >=, <=, >, <)\n",
    "#### 4. Membership Operator (in, not in)\n",
    "#### 5. Escape Sequence Operator (\\\\, \\n, \\b, \\ooo, \\xhh)\n",
    "#### 6. String Formatting Operator (%s, %d, %f)"
   ]
  },
  {
   "cell_type": "code",
   "execution_count": 5,
   "id": "30f223fd-8077-44a5-8f6a-681809d7b8ba",
   "metadata": {},
   "outputs": [
    {
     "name": "stdout",
     "output_type": "stream",
     "text": [
      "HelloWorld\n",
      "Hello World\n",
      "Hello World\n",
      "Hello World\n"
     ]
    }
   ],
   "source": [
    "# concatenate operator\n",
    "\n",
    "print(\"Hello\"+\"World\")\n",
    "print(\"Hello \"+\"World\")\n",
    "print(\"Hello\"+\" World\")\n",
    "print(\"Hello\"+\" \"+\"World\")"
   ]
  },
  {
   "cell_type": "code",
   "execution_count": 8,
   "id": "b32318bb-3315-4fcf-9259-340d5debac4e",
   "metadata": {},
   "outputs": [
    {
     "name": "stdout",
     "output_type": "stream",
     "text": [
      "\"learnPython\"*-1 : \n",
      "\"learnPython\"*0  : \n",
      "\"learnPython\"*1  : learnPython\n",
      "\"learnPython\"*2  : learnPythonlearnPython\n"
     ]
    }
   ],
   "source": [
    "# Repetition operator\n",
    "\n",
    "print('\"learnPython\"*-1 :', \"learnPython\"*-1)\n",
    "print('\"learnPython\"*0  :', \"learnPython\"*0)\n",
    "print('\"learnPython\"*1  :', \"learnPython\"*1)\n",
    "print('\"learnPython\"*2  :', \"learnPython\"*2)"
   ]
  },
  {
   "cell_type": "code",
   "execution_count": 9,
   "id": "1762881f-328a-4a6d-9fd7-3b710a48e712",
   "metadata": {},
   "outputs": [
    {
     "name": "stdout",
     "output_type": "stream",
     "text": [
      "True\n",
      "False\n"
     ]
    }
   ],
   "source": [
    "# String comparision operator\n",
    "\n",
    "print(\"Python\"==\"Python\")\n",
    "print(\"Python\"==\"python\")"
   ]
  },
  {
   "cell_type": "code",
   "execution_count": 10,
   "id": "32166048-a38a-4381-9fbc-9eb6a5903bb0",
   "metadata": {},
   "outputs": [
    {
     "name": "stdout",
     "output_type": "stream",
     "text": [
      "False\n",
      "True\n"
     ]
    }
   ],
   "source": [
    "print(\"Python\"!=\"Python\")\n",
    "print(\"Python\"!=\"python\")"
   ]
  },
  {
   "cell_type": "code",
   "execution_count": 11,
   "id": "b7b68302-ced0-4d7f-b805-8564cc38408a",
   "metadata": {},
   "outputs": [
    {
     "name": "stdout",
     "output_type": "stream",
     "text": [
      "True\n",
      "True\n"
     ]
    }
   ],
   "source": [
    "print(\"Python\"<=\"Python\")\n",
    "print(\"Python\"<=\"python\")"
   ]
  },
  {
   "cell_type": "code",
   "execution_count": 12,
   "id": "3614f35f-4195-45df-9bc8-8cb98988b306",
   "metadata": {},
   "outputs": [
    {
     "name": "stdout",
     "output_type": "stream",
     "text": [
      "False\n",
      "True\n"
     ]
    }
   ],
   "source": [
    "print(\"Python\"<\"Python\")\n",
    "print(\"Python\"<\"python\")"
   ]
  },
  {
   "cell_type": "code",
   "execution_count": 13,
   "id": "8638ae57-cbff-4842-8a7e-3c35cd8a0b1e",
   "metadata": {},
   "outputs": [
    {
     "name": "stdout",
     "output_type": "stream",
     "text": [
      "True\n",
      "False\n"
     ]
    }
   ],
   "source": [
    "print(\"Python\">=\"Python\")\n",
    "print(\"Python\">=\"python\")"
   ]
  },
  {
   "cell_type": "code",
   "execution_count": 14,
   "id": "da6509bd-689a-470b-be95-27469c38c648",
   "metadata": {},
   "outputs": [
    {
     "name": "stdout",
     "output_type": "stream",
     "text": [
      "False\n",
      "False\n"
     ]
    }
   ],
   "source": [
    "print(\"Python\">\"Python\")\n",
    "print(\"Python\">\"python\")"
   ]
  },
  {
   "cell_type": "code",
   "execution_count": 1,
   "id": "8b60136f-75f5-4a35-ba8d-e4be2623af4d",
   "metadata": {},
   "outputs": [
    {
     "name": "stdout",
     "output_type": "stream",
     "text": [
      "False\n",
      "False\n",
      "True\n",
      "False\n"
     ]
    }
   ],
   "source": [
    "print(\"Pythond\"==\"Pythona\")\n",
    "print(\"Pythond\"<\"Pythonad\")\n",
    "print(\"Python\"<\"PythonA\")\n",
    "print(\"Python\">\"PythonA\")"
   ]
  },
  {
   "cell_type": "code",
   "execution_count": 17,
   "id": "9eb69ef3-e7d8-4222-8272-128970249e39",
   "metadata": {},
   "outputs": [
    {
     "name": "stdout",
     "output_type": "stream",
     "text": [
      "True\n",
      "False\n",
      "True\n",
      "True\n"
     ]
    }
   ],
   "source": [
    "# membership operator\n",
    "\n",
    "# in, not in\n",
    "\n",
    "print(\"py\" in \"python\")\n",
    "print(\"py\" not in \"python\")\n",
    "print(\"ton\" not in \"python\")\n",
    "print(\"to\" not in \"python\")"
   ]
  },
  {
   "cell_type": "code",
   "execution_count": 18,
   "id": "8b04f28d-147b-4c7e-9dfe-5bb51e1bf2b7",
   "metadata": {},
   "outputs": [
    {
     "ename": "SyntaxError",
     "evalue": "invalid syntax. Perhaps you forgot a comma? (2669167003.py, line 3)",
     "output_type": "error",
     "traceback": [
      "\u001b[1;36m  Cell \u001b[1;32mIn[18], line 3\u001b[1;36m\u001b[0m\n\u001b[1;33m    print(\"Today's learning concept \"Detailed information of strings\"\")\u001b[0m\n\u001b[1;37m          ^\u001b[0m\n\u001b[1;31mSyntaxError\u001b[0m\u001b[1;31m:\u001b[0m invalid syntax. Perhaps you forgot a comma?\n"
     ]
    }
   ],
   "source": [
    "# Escape Sequence Operator (\\, \\n, \\b, \\ooo, \\xhh)\n",
    "\n",
    "print(\"Today's learning concept \"Detailed information of strings\"\")"
   ]
  },
  {
   "cell_type": "code",
   "execution_count": 19,
   "id": "a2da3704-179f-4b1c-ba1f-a6c6cf9694e2",
   "metadata": {},
   "outputs": [
    {
     "name": "stdout",
     "output_type": "stream",
     "text": [
      "Today's learning concept \"Detailed information of strings\"\n"
     ]
    }
   ],
   "source": [
    "print(\"Today's learning concept \\\"Detailed information of strings\\\"\")"
   ]
  },
  {
   "cell_type": "code",
   "execution_count": 3,
   "id": "0cb914c1-ab20-4a5f-a74b-4ef7beb72dbd",
   "metadata": {},
   "outputs": [
    {
     "name": "stdout",
     "output_type": "stream",
     "text": [
      "Hurrah! we won today's match \n"
     ]
    }
   ],
   "source": [
    "print(\"Hurrah! we won today's match \")"
   ]
  },
  {
   "cell_type": "code",
   "execution_count": 20,
   "id": "b30db269-cb81-4288-b925-01c21079f483",
   "metadata": {},
   "outputs": [
    {
     "name": "stdout",
     "output_type": "stream",
     "text": [
      "Today's learning concept \"Detailed information of strings\"\n"
     ]
    }
   ],
   "source": [
    "print('Today\\'s learning concept \"Detailed information of strings\"')"
   ]
  },
  {
   "cell_type": "code",
   "execution_count": 22,
   "id": "fc2c9e1a-ae07-4f18-b39c-5fe59fad3f4b",
   "metadata": {},
   "outputs": [
    {
     "name": "stdout",
     "output_type": "stream",
     "text": [
      "Topic 1: String operations\n",
      "Topic 2: String Slicing\n",
      "Topic 3: String Formatting\n",
      "Topic 4: String Methods\n"
     ]
    }
   ],
   "source": [
    "# \\n : new line\n",
    "\n",
    "print(\"Topic 1: String operations\\nTopic 2: String Slicing\\nTopic 3: String Formatting\\nTopic 4: String Methods\")"
   ]
  },
  {
   "cell_type": "code",
   "execution_count": 23,
   "id": "e98f6df6-37af-409a-886f-82d837233f64",
   "metadata": {},
   "outputs": [
    {
     "name": "stdout",
     "output_type": "stream",
     "text": [
      "String\n",
      "Operations\n"
     ]
    }
   ],
   "source": [
    "print(\"String\\nOperations\")"
   ]
  },
  {
   "cell_type": "code",
   "execution_count": 24,
   "id": "9a1f5bb9-bc41-494f-a267-ce94efadcaaf",
   "metadata": {},
   "outputs": [
    {
     "name": "stdout",
     "output_type": "stream",
     "text": [
      "learn python\n",
      "learn pytho\n",
      "learnpython\n",
      "learpython\n"
     ]
    }
   ],
   "source": [
    "# \\b - backspace\n",
    "\n",
    "print(\"learn python \\b\")\n",
    "print(\"learn python\\b\")\n",
    "print(\"learn \\bpython\")\n",
    "print(\"learn\\bpython\")"
   ]
  },
  {
   "cell_type": "code",
   "execution_count": 25,
   "id": "e41cd00f-8e95-4ca0-b328-a4c7ec0dba52",
   "metadata": {},
   "outputs": [
    {
     "name": "stdout",
     "output_type": "stream",
     "text": [
      "lear pyton\n"
     ]
    }
   ],
   "source": [
    "print(\"learn\\b pyth\\bon \\b\")"
   ]
  },
  {
   "cell_type": "code",
   "execution_count": 26,
   "id": "66eecae9-f18b-4b47-9e82-f403de0e62a7",
   "metadata": {},
   "outputs": [
    {
     "name": "stdout",
     "output_type": "stream",
     "text": [
      "a\n",
      "ab\n",
      "a2\n",
      "a789456123159753468\n",
      "a2akertsdfgbvwryuiop\n"
     ]
    }
   ],
   "source": [
    "# \\ooo\n",
    "\n",
    "print('\\141')\n",
    "print('\\141\\142')\n",
    "print('\\1412')\n",
    "print('\\141789456123159753468')\n",
    "print('\\1412akertsdfgbvwryuiop')"
   ]
  },
  {
   "cell_type": "code",
   "execution_count": 27,
   "id": "02905302-2af9-4d0c-9c67-48161909e883",
   "metadata": {},
   "outputs": [
    {
     "name": "stdout",
     "output_type": "stream",
     "text": [
      "a\n"
     ]
    }
   ],
   "source": [
    "# \\xhh\n",
    "\n",
    "print('\\x61')"
   ]
  },
  {
   "cell_type": "code",
   "execution_count": 29,
   "id": "d1000bbf-15d4-40c2-8c1b-b7b2dd196de5",
   "metadata": {},
   "outputs": [
    {
     "data": {
      "text/plain": [
       "97"
      ]
     },
     "execution_count": 29,
     "metadata": {},
     "output_type": "execute_result"
    }
   ],
   "source": [
    "ord('\\x61')"
   ]
  },
  {
   "cell_type": "code",
   "execution_count": 30,
   "id": "2fc85b2b-7856-4a68-8384-c2962a4b3735",
   "metadata": {},
   "outputs": [
    {
     "ename": "TypeError",
     "evalue": "'str' object cannot be interpreted as an integer",
     "output_type": "error",
     "traceback": [
      "\u001b[1;31m---------------------------------------------------------------------------\u001b[0m",
      "\u001b[1;31mTypeError\u001b[0m                                 Traceback (most recent call last)",
      "Cell \u001b[1;32mIn[30], line 1\u001b[0m\n\u001b[1;32m----> 1\u001b[0m \u001b[38;5;28mchr\u001b[39m(\u001b[38;5;124m'\u001b[39m\u001b[38;5;130;01m\\x61\u001b[39;00m\u001b[38;5;124m'\u001b[39m)\n",
      "\u001b[1;31mTypeError\u001b[0m: 'str' object cannot be interpreted as an integer"
     ]
    }
   ],
   "source": [
    "chr('\\x61')"
   ]
  },
  {
   "cell_type": "code",
   "execution_count": 31,
   "id": "c4829752-5f8e-4e7d-a73e-d41c87979a9b",
   "metadata": {},
   "outputs": [
    {
     "data": {
      "text/plain": [
       "97"
      ]
     },
     "execution_count": 31,
     "metadata": {},
     "output_type": "execute_result"
    }
   ],
   "source": [
    "ord('a')"
   ]
  },
  {
   "cell_type": "code",
   "execution_count": 32,
   "id": "e5c47001-d5e2-46c6-94f3-270a9ea75894",
   "metadata": {},
   "outputs": [
    {
     "data": {
      "text/plain": [
       "'a'"
      ]
     },
     "execution_count": 32,
     "metadata": {},
     "output_type": "execute_result"
    }
   ],
   "source": [
    "chr(97)"
   ]
  },
  {
   "cell_type": "code",
   "execution_count": 33,
   "id": "70da31f6-d8df-43eb-9369-d80bc19dbe8b",
   "metadata": {},
   "outputs": [
    {
     "name": "stdout",
     "output_type": "stream",
     "text": [
      "java is learning today\n",
      "python is learning today\n"
     ]
    }
   ],
   "source": [
    "# string formatting operator\n",
    "\n",
    "subject = \"python\"\n",
    "print(\"java is learning today\")\n",
    "print(\"%s is learning today\"%subject)"
   ]
  },
  {
   "cell_type": "code",
   "execution_count": 34,
   "id": "dfbf38c2-5d38-4178-95d7-26df63f59215",
   "metadata": {},
   "outputs": [
    {
     "name": "stdout",
     "output_type": "stream",
     "text": [
      "My name is sam. Iam from Russia\n",
      "My name is ramu. Iam from India\n"
     ]
    }
   ],
   "source": [
    "name    = \"ramu\"\n",
    "country = \"India\"\n",
    "print(\"My name is sam. Iam from Russia\")\n",
    "print(\"My name is %s. Iam from %s\"%(name, country))"
   ]
  },
  {
   "cell_type": "code",
   "execution_count": 35,
   "id": "fcddc722-8746-4a83-bcc2-1b4e0fdf4c91",
   "metadata": {},
   "outputs": [
    {
     "name": "stdout",
     "output_type": "stream",
     "text": [
      "My name is India. Iam from ramu\n"
     ]
    }
   ],
   "source": [
    "print(\"My name is %s. Iam from %s\"%(country, name))"
   ]
  },
  {
   "cell_type": "markdown",
   "id": "d9cce81d-97f4-4c49-8984-f422a234193e",
   "metadata": {},
   "source": [
    "### ***Note:***\n",
    "#### while doing string formatting, we should take care order of arguments %(var1, var2)"
   ]
  },
  {
   "cell_type": "code",
   "execution_count": 36,
   "id": "c79f2c63-5899-48b9-b7b5-729d73b2419b",
   "metadata": {},
   "outputs": [
    {
     "name": "stdout",
     "output_type": "stream",
     "text": [
      "Iam charlie and my mobile number is 7894561230\n"
     ]
    }
   ],
   "source": [
    "name = \"charlie\"\n",
    "mnum = 7894561230\n",
    "print(\"Iam %s and my mobile number is %d\"%(name, mnum))"
   ]
  },
  {
   "cell_type": "code",
   "execution_count": 37,
   "id": "4e764226-be3c-46d4-a3f5-854490085ff7",
   "metadata": {},
   "outputs": [
    {
     "ename": "TypeError",
     "evalue": "%d format: a real number is required, not str",
     "output_type": "error",
     "traceback": [
      "\u001b[1;31m---------------------------------------------------------------------------\u001b[0m",
      "\u001b[1;31mTypeError\u001b[0m                                 Traceback (most recent call last)",
      "Cell \u001b[1;32mIn[37], line 1\u001b[0m\n\u001b[1;32m----> 1\u001b[0m \u001b[38;5;28mprint\u001b[39m(\u001b[38;5;124m\"\u001b[39m\u001b[38;5;124mIam \u001b[39m\u001b[38;5;132;01m%s\u001b[39;00m\u001b[38;5;124m and my mobile number is \u001b[39m\u001b[38;5;132;01m%d\u001b[39;00m\u001b[38;5;124m\"\u001b[39m\u001b[38;5;241m%\u001b[39m(mnum, name))\n",
      "\u001b[1;31mTypeError\u001b[0m: %d format: a real number is required, not str"
     ]
    }
   ],
   "source": [
    "print(\"Iam %s and my mobile number is %d\"%(mnum, name))"
   ]
  },
  {
   "cell_type": "code",
   "execution_count": 38,
   "id": "a68343e6-fdea-41d8-86e4-e326995a4151",
   "metadata": {},
   "outputs": [
    {
     "name": "stdout",
     "output_type": "stream",
     "text": [
      "score is 23.500000\n",
      "score1 is 23.000000\n",
      "score2 is 23.852963\n"
     ]
    }
   ],
   "source": [
    "score  = 23.5\n",
    "score1 = 23\n",
    "score2 = 23.852963147\n",
    "print(\"score is %f\"%score)\n",
    "print(\"score1 is %f\"%score1)\n",
    "print(\"score2 is %f\"%score2)"
   ]
  },
  {
   "cell_type": "code",
   "execution_count": 39,
   "id": "33e92282-c181-4ef8-8a02-59a35b534cc5",
   "metadata": {},
   "outputs": [
    {
     "name": "stdout",
     "output_type": "stream",
     "text": [
      "score is 23\n",
      "score1 is 23\n",
      "score2 is 23\n"
     ]
    }
   ],
   "source": [
    "print(\"score is %d\"%score)\n",
    "print(\"score1 is %d\"%score1)\n",
    "print(\"score2 is %d\"%score2)"
   ]
  },
  {
   "cell_type": "code",
   "execution_count": 40,
   "id": "9b2905d7-88c6-4902-8311-32b2690cec7e",
   "metadata": {},
   "outputs": [
    {
     "name": "stdout",
     "output_type": "stream",
     "text": [
      "score is 23.5\n",
      "score1 is 23\n",
      "score2 is 23.852963147\n"
     ]
    }
   ],
   "source": [
    "print(\"score is %s\"%score)\n",
    "print(\"score1 is %s\"%score1)\n",
    "print(\"score2 is %s\"%score2)"
   ]
  },
  {
   "cell_type": "markdown",
   "id": "46f531d9-0d32-45ab-ba39-b3c48ee259fd",
   "metadata": {},
   "source": [
    "### ***Point to remember***\n",
    "#### - %s accepts strings, float,integer\n",
    "#### - %d accepts float, integer\n",
    "#### - %f accepts float, integer"
   ]
  },
  {
   "cell_type": "markdown",
   "id": "cbf83088-c356-4a99-9aa6-e47f3eda4665",
   "metadata": {},
   "source": [
    "### ***StringSlicing***\n",
    "#### - It returns a sequence of values from a collection data types i.e string, list, tuple\n",
    "```\n",
    "syntax:\n",
    "\n",
    "    variable[start : end : step]\n",
    "\n",
    "1. start, end, step ==> all are integers\n",
    "\n",
    "2. start ==> 0 (default)\n",
    "\n",
    "3. end   ==> length of string (default)\n",
    "\n",
    "4. step  ==> 1 (default)\n",
    "```\n",
    "\n"
   ]
  },
  {
   "cell_type": "code",
   "execution_count": 41,
   "id": "5d51fe5f-b665-4ee4-b81d-e9534866917b",
   "metadata": {},
   "outputs": [
    {
     "name": "stdout",
     "output_type": "stream",
     "text": [
      "DataScience Learner\n",
      "19\n"
     ]
    }
   ],
   "source": [
    "name = \"DataScience Learner\"\n",
    "print(name)\n",
    "print(len(name))"
   ]
  },
  {
   "cell_type": "code",
   "execution_count": 42,
   "id": "559ee08f-e84a-4f41-810a-ce9b012fa8c5",
   "metadata": {},
   "outputs": [
    {
     "name": "stdout",
     "output_type": "stream",
     "text": [
      "c\n",
      "cie\n",
      "cien\n",
      "cienc\n",
      "cience\n"
     ]
    }
   ],
   "source": [
    "print(name[5])\n",
    "print(name[5:8])\n",
    "print(name[5:9])\n",
    "print(name[5:10])\n",
    "print(name[5:11])"
   ]
  },
  {
   "cell_type": "code",
   "execution_count": 43,
   "id": "58b74774-7e3a-44b5-8934-091767242292",
   "metadata": {},
   "outputs": [
    {
     "name": "stdout",
     "output_type": "stream",
     "text": [
      "e Learner\n",
      "eLanr\n",
      "een\n",
      "e Learner\n"
     ]
    }
   ],
   "source": [
    "print(name[10:19])\n",
    "print(name[10:19:2])\n",
    "print(name[10:19:3])\n",
    "print(name[10:24])"
   ]
  },
  {
   "cell_type": "code",
   "execution_count": 45,
   "id": "5c4dad8f-b858-4a8c-8ca4-b93844a7f79e",
   "metadata": {},
   "outputs": [
    {
     "name": "stdout",
     "output_type": "stream",
     "text": [
      "taScience Learner\n",
      "DataScience Lea\n"
     ]
    }
   ],
   "source": [
    "print(name[2:])\n",
    "print(name[:15])"
   ]
  },
  {
   "cell_type": "code",
   "execution_count": 46,
   "id": "2db0daa7-c8b6-403f-a6d5-f224971d7a66",
   "metadata": {},
   "outputs": [
    {
     "name": "stdout",
     "output_type": "stream",
     "text": [
      "\n"
     ]
    }
   ],
   "source": [
    "print(name[15:10])"
   ]
  },
  {
   "cell_type": "code",
   "execution_count": 47,
   "id": "d4022661-3cf5-44de-bbe3-685dc85bfaeb",
   "metadata": {},
   "outputs": [
    {
     "name": "stdout",
     "output_type": "stream",
     "text": [
      "raeL \n"
     ]
    }
   ],
   "source": [
    "print(name[15:10:-1])"
   ]
  },
  {
   "cell_type": "code",
   "execution_count": 48,
   "id": "e099e56c-2cb7-4c30-b8d4-e156eda24fda",
   "metadata": {},
   "outputs": [
    {
     "name": "stdout",
     "output_type": "stream",
     "text": [
      "rnaL\n"
     ]
    }
   ],
   "source": [
    "print(name[18:10:-2])"
   ]
  },
  {
   "cell_type": "code",
   "execution_count": 49,
   "id": "e5b17418-2172-4f7d-a7d6-42203dab3e62",
   "metadata": {},
   "outputs": [
    {
     "name": "stdout",
     "output_type": "stream",
     "text": [
      "cience Learner\n"
     ]
    }
   ],
   "source": [
    "print(name[5: len(name)+10])"
   ]
  },
  {
   "cell_type": "code",
   "execution_count": 50,
   "id": "ebd8e229-b926-483d-b810-e17fb28e6252",
   "metadata": {},
   "outputs": [
    {
     "name": "stdout",
     "output_type": "stream",
     "text": [
      "c\n"
     ]
    }
   ],
   "source": [
    "print(name[5:18:200])"
   ]
  },
  {
   "cell_type": "code",
   "execution_count": 52,
   "id": "1847cc6c-a5e8-44e1-a054-ece2e6e2ce7b",
   "metadata": {},
   "outputs": [
    {
     "name": "stdout",
     "output_type": "stream",
     "text": [
      "DataSc\n",
      "\n",
      "\n",
      "icSata\n"
     ]
    }
   ],
   "source": [
    "print(name[-19:-13])\n",
    "print(name[-19:-13:-1])\n",
    "print(name[-13:-19])\n",
    "print(name[-13:-19:-1])"
   ]
  },
  {
   "cell_type": "code",
   "execution_count": 53,
   "id": "22baddeb-39c2-459d-a3a9-b601b4ba1fba",
   "metadata": {},
   "outputs": [
    {
     "name": "stdout",
     "output_type": "stream",
     "text": [
      "renraeL ecneicSataD\n",
      "rnaLeniStD\n"
     ]
    }
   ],
   "source": [
    "print(name[::-1])\n",
    "print(name[::-2])"
   ]
  },
  {
   "cell_type": "code",
   "execution_count": 54,
   "id": "9c59feca-d51d-4310-b91d-90bb0cca154b",
   "metadata": {},
   "outputs": [
    {
     "name": "stdout",
     "output_type": "stream",
     "text": [
      "DataScience Learner\n"
     ]
    }
   ],
   "source": [
    "print(name[::-1][::-1])"
   ]
  },
  {
   "cell_type": "code",
   "execution_count": 57,
   "id": "5d6374a1-8007-47ba-99fd-984bc541c8c2",
   "metadata": {},
   "outputs": [
    {
     "name": "stdout",
     "output_type": "stream",
     "text": [
      "\n",
      "\n"
     ]
    }
   ],
   "source": [
    "print(name[11:-11])\n",
    "print(name[-11:11:-1])"
   ]
  },
  {
   "cell_type": "code",
   "execution_count": 58,
   "id": "44adbce5-d207-4667-a526-f21c0f2c1092",
   "metadata": {},
   "outputs": [
    {
     "name": "stdout",
     "output_type": "stream",
     "text": [
      "Madam\n",
      "madaM\n",
      "False\n"
     ]
    }
   ],
   "source": [
    "var = \"Madam\"\n",
    "var2= \"MadaM\"\n",
    "print(var)\n",
    "print(var[::-1])\n",
    "print(var==var[::-1])"
   ]
  },
  {
   "cell_type": "code",
   "execution_count": 59,
   "id": "82e234b5-5d9c-4a5b-991f-c7db904115ff",
   "metadata": {},
   "outputs": [
    {
     "name": "stdout",
     "output_type": "stream",
     "text": [
      "MadaM\n",
      "MadaM\n",
      "True\n"
     ]
    }
   ],
   "source": [
    "print(var2)\n",
    "print(var2[::-1])\n",
    "print(var2==var2[::-1])"
   ]
  },
  {
   "cell_type": "code",
   "execution_count": 61,
   "id": "a22c7a10-10b2-4449-8ea4-30192d51aee4",
   "metadata": {},
   "outputs": [
    {
     "ename": "ValueError",
     "evalue": "slice step cannot be zero",
     "output_type": "error",
     "traceback": [
      "\u001b[1;31m---------------------------------------------------------------------------\u001b[0m",
      "\u001b[1;31mValueError\u001b[0m                                Traceback (most recent call last)",
      "Cell \u001b[1;32mIn[61], line 1\u001b[0m\n\u001b[1;32m----> 1\u001b[0m \u001b[38;5;28mprint\u001b[39m(name[\u001b[38;5;241m15\u001b[39m:\u001b[38;5;241m10\u001b[39m:\u001b[38;5;241m0\u001b[39m])\n",
      "\u001b[1;31mValueError\u001b[0m: slice step cannot be zero"
     ]
    }
   ],
   "source": [
    "print(name[15:10:0])"
   ]
  },
  {
   "cell_type": "markdown",
   "id": "9247456a-86dd-4ffe-8deb-1f581a4cf593",
   "metadata": {},
   "source": [
    "### ***String Formatting***\n",
    "#### 1. % operator\n",
    "#### 2. string.format()\n",
    "#### 3. fstring"
   ]
  },
  {
   "cell_type": "code",
   "execution_count": 62,
   "id": "cdc0718f-b395-4e3e-a65e-48cc0a0a5e07",
   "metadata": {},
   "outputs": [
    {
     "name": "stdout",
     "output_type": "stream",
     "text": [
      "My name is Suresh and I'm 26 years old\n"
     ]
    }
   ],
   "source": [
    "name = \"Suresh\"\n",
    "age  = 26 \n",
    "print(\"My name is %s and I'm %d years old\"%(name, age)) # % operator"
   ]
  },
  {
   "cell_type": "code",
   "execution_count": 63,
   "id": "71ac2490-98f9-4a4e-945f-7fd44f1a75b0",
   "metadata": {},
   "outputs": [
    {
     "name": "stdout",
     "output_type": "stream",
     "text": [
      "My name is Suresh and I'm 26 years old.\n"
     ]
    }
   ],
   "source": [
    "# default arguments \n",
    "print(\"My name is {} and I'm {} years old.\".format(name, age))"
   ]
  },
  {
   "cell_type": "code",
   "execution_count": 64,
   "id": "a57efd6b-1f1f-4a59-9c4f-c73859ac6c11",
   "metadata": {},
   "outputs": [
    {
     "name": "stdout",
     "output_type": "stream",
     "text": [
      "My name is 26 and I'm Suresh years old.\n",
      "My name is 26 and I'm 26 years old.\n",
      "My name is Suresh and I'm Suresh years old.\n",
      "My name is Suresh and I'm 29 years old.\n"
     ]
    }
   ],
   "source": [
    "# positional arguments \n",
    "print(\"My name is {1} and I'm {0} years old.\".format(name, age))\n",
    "print(\"My name is {1} and I'm {1} years old.\".format(name, age))\n",
    "print(\"My name is {0} and I'm {0} years old.\".format(name, age))\n",
    "print(\"My name is {0} and I'm {2} years old.\".format(name, age, \"29\"))"
   ]
  },
  {
   "cell_type": "code",
   "execution_count": 66,
   "id": "47b12f94-f9e2-49b6-97a0-516686fdc0f1",
   "metadata": {},
   "outputs": [
    {
     "name": "stdout",
     "output_type": "stream",
     "text": [
      "My name is Suresh and I'm 26 years old.\n"
     ]
    }
   ],
   "source": [
    "# keyword arguments\n",
    "print(\"My name is {name} and I'm {age} years old.\".format(age=26, name=\"Suresh\"))"
   ]
  },
  {
   "cell_type": "code",
   "execution_count": 67,
   "id": "e9883d70-0963-4311-9940-b0be812ea04e",
   "metadata": {},
   "outputs": [
    {
     "name": "stdout",
     "output_type": "stream",
     "text": [
      "My name is Suresh and I'm 26 years old.\n",
      "My name is Suresh and I'm 26 years old.\n",
      "My name is Raju and I'm 26 years old.\n"
     ]
    }
   ],
   "source": [
    "# mixed arguments\n",
    "print(\"My name is {} and I'm {age} years old.\".format(\"Suresh\", age=26))\n",
    "print(\"My name is {0} and I'm {age} years old.\".format(\"Suresh\", age=26))\n",
    "print(\"My name is {1} and I'm {age} years old.\".format(\"Suresh\", \"Raju\", age=26))"
   ]
  },
  {
   "cell_type": "code",
   "execution_count": 68,
   "id": "41296cfa-4e41-4099-a906-4aa7bbc85ea3",
   "metadata": {},
   "outputs": [
    {
     "ename": "SyntaxError",
     "evalue": "positional argument follows keyword argument (3714952757.py, line 1)",
     "output_type": "error",
     "traceback": [
      "\u001b[1;36m  Cell \u001b[1;32mIn[68], line 1\u001b[1;36m\u001b[0m\n\u001b[1;33m    print(\"My name is {1} and I'm {age} years old.\".format(age=26, \"Suresh\"))\u001b[0m\n\u001b[1;37m                                                                           ^\u001b[0m\n\u001b[1;31mSyntaxError\u001b[0m\u001b[1;31m:\u001b[0m positional argument follows keyword argument\n"
     ]
    }
   ],
   "source": [
    "print(\"My name is {1} and I'm {age} years old.\".format(age=26, \"Suresh\"))"
   ]
  },
  {
   "cell_type": "code",
   "execution_count": 69,
   "id": "c8652a34-6912-472d-9634-4bbecdf01acb",
   "metadata": {},
   "outputs": [
    {
     "name": "stdout",
     "output_type": "stream",
     "text": [
      "Class ends around 9 AM\n"
     ]
    }
   ],
   "source": [
    "# integer arguments \n",
    "print(\"Class ends around {:d} AM\".format(9))"
   ]
  },
  {
   "cell_type": "code",
   "execution_count": 70,
   "id": "78967d6b-2c39-4d6b-847f-9ec6508f8061",
   "metadata": {},
   "outputs": [
    {
     "ename": "ValueError",
     "evalue": "Unknown format code 'd' for object of type 'float'",
     "output_type": "error",
     "traceback": [
      "\u001b[1;31m---------------------------------------------------------------------------\u001b[0m",
      "\u001b[1;31mValueError\u001b[0m                                Traceback (most recent call last)",
      "Cell \u001b[1;32mIn[70], line 1\u001b[0m\n\u001b[1;32m----> 1\u001b[0m \u001b[38;5;28mprint\u001b[39m(\u001b[38;5;124m\"\u001b[39m\u001b[38;5;124mClass ends around \u001b[39m\u001b[38;5;132;01m{:d}\u001b[39;00m\u001b[38;5;124m AM\u001b[39m\u001b[38;5;124m\"\u001b[39m\u001b[38;5;241m.\u001b[39mformat(\u001b[38;5;241m9.30\u001b[39m))\n",
      "\u001b[1;31mValueError\u001b[0m: Unknown format code 'd' for object of type 'float'"
     ]
    }
   ],
   "source": [
    "print(\"Class ends around {:d} AM\".format(9.30))"
   ]
  },
  {
   "cell_type": "code",
   "execution_count": 71,
   "id": "d51735d2-a047-4e89-9c3f-e9e3364ee43d",
   "metadata": {},
   "outputs": [
    {
     "ename": "ValueError",
     "evalue": "Unknown format code 'd' for object of type 'str'",
     "output_type": "error",
     "traceback": [
      "\u001b[1;31m---------------------------------------------------------------------------\u001b[0m",
      "\u001b[1;31mValueError\u001b[0m                                Traceback (most recent call last)",
      "Cell \u001b[1;32mIn[71], line 1\u001b[0m\n\u001b[1;32m----> 1\u001b[0m \u001b[38;5;28mprint\u001b[39m(\u001b[38;5;124m\"\u001b[39m\u001b[38;5;124mClass ends around \u001b[39m\u001b[38;5;132;01m{:d}\u001b[39;00m\u001b[38;5;124m AM\u001b[39m\u001b[38;5;124m\"\u001b[39m\u001b[38;5;241m.\u001b[39mformat(\u001b[38;5;124m\"\u001b[39m\u001b[38;5;124m9\u001b[39m\u001b[38;5;124m\"\u001b[39m))\n",
      "\u001b[1;31mValueError\u001b[0m: Unknown format code 'd' for object of type 'str'"
     ]
    }
   ],
   "source": [
    "print(\"Class ends around {:d} AM\".format(\"9\"))"
   ]
  },
  {
   "cell_type": "code",
   "execution_count": 4,
   "id": "bfcca096-cf2e-4cda-86d5-14036abe2a5b",
   "metadata": {},
   "outputs": [
    {
     "name": "stdout",
     "output_type": "stream",
     "text": [
      "25.000000\n"
     ]
    }
   ],
   "source": [
    "print(\"{:f}\".format(25))"
   ]
  },
  {
   "cell_type": "code",
   "execution_count": 5,
   "id": "5e369a81-88e3-4600-80d4-d4d32585846c",
   "metadata": {},
   "outputs": [
    {
     "ename": "ValueError",
     "evalue": "Unknown format code 'f' for object of type 'str'",
     "output_type": "error",
     "traceback": [
      "\u001b[1;31m---------------------------------------------------------------------------\u001b[0m",
      "\u001b[1;31mValueError\u001b[0m                                Traceback (most recent call last)",
      "Cell \u001b[1;32mIn[5], line 1\u001b[0m\n\u001b[1;32m----> 1\u001b[0m \u001b[38;5;28mprint\u001b[39m(\u001b[38;5;124m\"\u001b[39m\u001b[38;5;132;01m{:f}\u001b[39;00m\u001b[38;5;124m\"\u001b[39m\u001b[38;5;241m.\u001b[39mformat(\u001b[38;5;124m'\u001b[39m\u001b[38;5;124m25\u001b[39m\u001b[38;5;124m'\u001b[39m))\n",
      "\u001b[1;31mValueError\u001b[0m: Unknown format code 'f' for object of type 'str'"
     ]
    }
   ],
   "source": [
    "print(\"{:f}\".format('25'))"
   ]
  },
  {
   "cell_type": "code",
   "execution_count": 72,
   "id": "e7479962-2fcf-45a8-8bd8-d1b67e2bf01c",
   "metadata": {},
   "outputs": [
    {
     "name": "stdout",
     "output_type": "stream",
     "text": [
      "Float value is given by 120.456898 \n",
      "Float round off to 2 digits: 120.46 \n",
      "Float round off to 2 digits: 120.457 \n"
     ]
    }
   ],
   "source": [
    "# float arguments \n",
    "print(\"Float value is given by {:f} \".format(120.4568976))\n",
    "print(\"Float round off to 2 digits: {:.2f} \".format(120.4568976))\n",
    "print(\"Float round off to 2 digits: {:.3f} \".format(120.4568976))"
   ]
  },
  {
   "cell_type": "code",
   "execution_count": 6,
   "id": "913478cb-b8ec-420a-8ef1-a96cd9d1fb8b",
   "metadata": {},
   "outputs": [
    {
     "name": "stdout",
     "output_type": "stream",
     "text": [
      "Learning padding for decimal number      12897\n",
      "Learning padding for float number   10.568\n",
      "Learning padding for decimal number 0000012897\n",
      "Learning padding for float number 0010.568\n",
      "Learning padding for decimal number 0000012897\n",
      "Learning padding for float number 000010.568\n"
     ]
    }
   ],
   "source": [
    "# padding\n",
    "print(\"Learning padding for decimal number {:10d}\".format(12897))\n",
    "print(\"Learning padding for float number {:8.3f}\".format(10.5678))\n",
    "print(\"Learning padding for decimal number {:010d}\".format(12897))\n",
    "print(\"Learning padding for float number {:08.3f}\".format(10.5678))\n",
    "print(\"Learning padding for decimal number {:010d}\".format(12897))\n",
    "print(\"Learning padding for float number {:010.3f}\".format(10.5678))"
   ]
  },
  {
   "cell_type": "code",
   "execution_count": 75,
   "id": "45586e30-29c3-45a9-adb2-dc2bcb471521",
   "metadata": {},
   "outputs": [
    {
     "name": "stdout",
     "output_type": "stream",
     "text": [
      "Left Alignment Integer: 12   \n",
      "Right Alignment Integer:    12\n",
      "Center Alignment Integer:  12  \n"
     ]
    }
   ],
   "source": [
    " # integer with left alignment \n",
    "print(\"Left Alignment Integer: {:<5d}\".format(12))\n",
    "print(\"Right Alignment Integer: {:>5d}\".format(12))\n",
    "print(\"Center Alignment Integer: {:^5d}\".format(12))"
   ]
  },
  {
   "cell_type": "code",
   "execution_count": 76,
   "id": "50d9602b-babf-4320-ae54-7c4059657b41",
   "metadata": {},
   "outputs": [
    {
     "name": "stdout",
     "output_type": "stream",
     "text": [
      "Left Alignment Integer: 12000\n",
      "Right Alignment Integer: 00012\n",
      "Center Alignment Integer: 01200\n",
      "Center Alignment Integer: 001200\n",
      "Center Alignment Integer: 0012000\n"
     ]
    }
   ],
   "source": [
    "print(\"Left Alignment Integer: {:<05d}\".format(12))\n",
    "print(\"Right Alignment Integer: {:>05d}\".format(12))\n",
    "print(\"Center Alignment Integer: {:^05d}\".format(12))\n",
    "print(\"Center Alignment Integer: {:^06d}\".format(12))\n",
    "print(\"Center Alignment Integer: {:^07d}\".format(12))"
   ]
  },
  {
   "cell_type": "code",
   "execution_count": 77,
   "id": "1a47891e-da0c-46a1-80d1-d0d1d206b267",
   "metadata": {},
   "outputs": [
    {
     "name": "stdout",
     "output_type": "stream",
     "text": [
      "Left Alignment Integer: Venkatesh***********\n",
      "Right Alignment Integer: ###########Venkatesh\n",
      "Center Alignment Integer: 00000Venkatesh000000\n"
     ]
    }
   ],
   "source": [
    "# strings \n",
    "print(\"Left Alignment Integer: {:*<20}\".format(\"Venkatesh\"))\n",
    "print(\"Right Alignment Integer: {:#>20}\".format(\"Venkatesh\"))\n",
    "print(\"Center Alignment Integer: {:0^20}\".format(\"Venkatesh\"))"
   ]
  },
  {
   "cell_type": "code",
   "execution_count": 78,
   "id": "0706540f-9b11-46cf-beb1-f24085b6ca71",
   "metadata": {},
   "outputs": [
    {
     "name": "stdout",
     "output_type": "stream",
     "text": [
      "Truncated String: Pyt\n",
      "Truncated String: Py\n",
      "Truncated String with RA: ********Py\n",
      "Truncated String with LA: Py********\n",
      "Truncated String with LA: ****Py****\n"
     ]
    }
   ],
   "source": [
    "# truncating the strings \n",
    "print(\"Truncated String: {:.3}\".format(\"Python\"))\n",
    "print(\"Truncated String: {:.2}\".format(\"Python\"))\n",
    "print(\"Truncated String with RA: {:*>10.2}\".format(\"Python\"))\n",
    "print(\"Truncated String with LA: {:*<10.2}\".format(\"Python\"))\n",
    "print(\"Truncated String with LA: {:*^10.2}\".format(\"Python\"))"
   ]
  },
  {
   "cell_type": "code",
   "execution_count": 79,
   "id": "989090d6-35ff-4ed4-bddf-dcc8e3117761",
   "metadata": {},
   "outputs": [
    {
     "name": "stdout",
     "output_type": "stream",
     "text": [
      "Binary Value: 1100, Oct Value: 14, Hex Value: c\n",
      "Binary Value: 1100, Oct Value: 16, Hex Value: f\n"
     ]
    }
   ],
   "source": [
    "print(\"Binary Value: {0:b}, Oct Value: {0:o}, Hex Value: {0:x}\".format(12))\n",
    "print(\"Binary Value: {:b}, Oct Value: {:o}, Hex Value: {:x}\".format(12, 14, 15))"
   ]
  },
  {
   "cell_type": "code",
   "execution_count": 80,
   "id": "299f2749-20d8-4b94-815c-51c36c719ef3",
   "metadata": {},
   "outputs": [
    {
     "data": {
      "text/plain": [
       "1001000"
      ]
     },
     "execution_count": 80,
     "metadata": {},
     "output_type": "execute_result"
    }
   ],
   "source": [
    "1_000_000+1_000"
   ]
  },
  {
   "cell_type": "code",
   "execution_count": 81,
   "id": "3cc45368-06ee-4484-84d6-27e00be1ab61",
   "metadata": {},
   "outputs": [
    {
     "data": {
      "text/plain": [
       "(1, 0, 1, 0)"
      ]
     },
     "execution_count": 81,
     "metadata": {},
     "output_type": "execute_result"
    }
   ],
   "source": [
    "1,000,000+1,000"
   ]
  },
  {
   "cell_type": "code",
   "execution_count": 82,
   "id": "ea560a25-67f0-405a-8e9e-9cf33d002e02",
   "metadata": {},
   "outputs": [
    {
     "data": {
      "text/plain": [
       "(1, 1, 0)"
      ]
     },
     "execution_count": 82,
     "metadata": {},
     "output_type": "execute_result"
    }
   ],
   "source": [
    "1,000+1,000"
   ]
  },
  {
   "cell_type": "code",
   "execution_count": 83,
   "id": "615fcef3-58e6-40bd-9db1-bbd8bd017ea0",
   "metadata": {},
   "outputs": [
    {
     "name": "stdout",
     "output_type": "stream",
     "text": [
      "Hello Virat and your age is 35 now\n",
      "Hello Virat and your age is 35 now\n"
     ]
    }
   ],
   "source": [
    "name = \"Virat\"\n",
    "age = 35 \n",
    "print(f\"Hello {name} and your age is {age} now\")\n",
    "print(F\"Hello {name} and your age is {age} now\")"
   ]
  },
  {
   "cell_type": "code",
   "execution_count": 85,
   "id": "696e277c-faae-476d-ace2-2bbee49adb0b",
   "metadata": {},
   "outputs": [
    {
     "name": "stdout",
     "output_type": "stream",
     "text": [
      "Name: Virat\n",
      "Age: 36 \n",
      "Playing Cricket\n"
     ]
    }
   ],
   "source": [
    "print(f\"\"\"Name: Virat\n",
    "Age: 36 \n",
    "Playing Cricket\"\"\")"
   ]
  },
  {
   "cell_type": "code",
   "execution_count": 86,
   "id": "7bd48c13-fc99-455c-9a2d-eaeb8290a9bf",
   "metadata": {},
   "outputs": [
    {
     "name": "stdout",
     "output_type": "stream",
     "text": [
      "Printing Braces {}\n"
     ]
    }
   ],
   "source": [
    "print(f\"Printing Braces {{}}\")"
   ]
  },
  {
   "cell_type": "code",
   "execution_count": 87,
   "id": "2766ae8e-e2fa-47c8-a392-0d91facb2703",
   "metadata": {},
   "outputs": [
    {
     "name": "stdout",
     "output_type": "stream",
     "text": [
      "Float Value is given by :  12.68\n"
     ]
    }
   ],
   "source": [
    "float_val = 12.678 \n",
    "print(f\"Float Value is given by : {float_val: .2f}\")"
   ]
  },
  {
   "cell_type": "code",
   "execution_count": 88,
   "id": "6580b61d-1dfc-48fc-a571-33fc79f1e555",
   "metadata": {},
   "outputs": [
    {
     "data": {
      "text/plain": [
       "(1, 5, 178)"
      ]
     },
     "execution_count": 88,
     "metadata": {},
     "output_type": "execute_result"
    }
   ],
   "source": [
    "1,000+5,178"
   ]
  },
  {
   "cell_type": "code",
   "execution_count": 89,
   "id": "94c42221-14b1-43ff-a69b-7c2978584ed6",
   "metadata": {},
   "outputs": [
    {
     "data": {
      "text/plain": [
       "(1, 2, 3)"
      ]
     },
     "execution_count": 89,
     "metadata": {},
     "output_type": "execute_result"
    }
   ],
   "source": [
    "1,2,3"
   ]
  },
  {
   "cell_type": "markdown",
   "id": "a7f2b15a-dc68-4feb-b1ed-159a06ae2088",
   "metadata": {},
   "source": [
    "### ***String Methods***"
   ]
  },
  {
   "cell_type": "markdown",
   "id": "81ee9c60-0912-4ccc-811b-8e317212de08",
   "metadata": {},
   "source": [
    "### ***strip***\n",
    "#### syntax: strip(arg)\n",
    "#### - By default, It removes the spaces present at the beginning and end of the string\n",
    "#### - If we provide substring as argument, then it removes the matched characters present at the beginning and end of the string\n",
    "#### - rstrip ==> It removes the matched characters of a substring on the right side of a string\n",
    "#### - lstrip ==> It removes the matched characters of a substring on the left side of a string"
   ]
  },
  {
   "cell_type": "code",
   "execution_count": 90,
   "id": "fd955492-65fe-4ea4-a844-a25d4a1d9514",
   "metadata": {},
   "outputs": [
    {
     "data": {
      "text/plain": [
       "'Rohit Sharma'"
      ]
     },
     "execution_count": 90,
     "metadata": {},
     "output_type": "execute_result"
    }
   ],
   "source": [
    "name = \"Rohit Sharma\"\n",
    "name.strip()"
   ]
  },
  {
   "cell_type": "code",
   "execution_count": 92,
   "id": "74c2b053-c079-468a-8dca-be1064c3208d",
   "metadata": {},
   "outputs": [
    {
     "data": {
      "text/plain": [
       "'Rohit Sharma'"
      ]
     },
     "execution_count": 92,
     "metadata": {},
     "output_type": "execute_result"
    }
   ],
   "source": [
    "name = \"  Rohit Sharma\"\n",
    "name.strip()"
   ]
  },
  {
   "cell_type": "code",
   "execution_count": 93,
   "id": "8f5a1665-cebb-4c08-9435-5c88ec01341b",
   "metadata": {},
   "outputs": [
    {
     "data": {
      "text/plain": [
       "'Rohit Sharma'"
      ]
     },
     "execution_count": 93,
     "metadata": {},
     "output_type": "execute_result"
    }
   ],
   "source": [
    "name = \"  Rohit Sharma \"\n",
    "name.strip()"
   ]
  },
  {
   "cell_type": "code",
   "execution_count": 94,
   "id": "00a72549-c173-48fe-b956-942fe8fbaa98",
   "metadata": {},
   "outputs": [
    {
     "data": {
      "text/plain": [
       "'a..Rohit Sharma..b'"
      ]
     },
     "execution_count": 94,
     "metadata": {},
     "output_type": "execute_result"
    }
   ],
   "source": [
    "name = \".a..Rohit Sharma..b.\"\n",
    "name.strip(\".\")"
   ]
  },
  {
   "cell_type": "code",
   "execution_count": 96,
   "id": "50608ab9-22f3-4cc8-9b86-43efcc0474d4",
   "metadata": {},
   "outputs": [
    {
     "data": {
      "text/plain": [
       "'ohit Sharma..b'"
      ]
     },
     "execution_count": 96,
     "metadata": {},
     "output_type": "execute_result"
    }
   ],
   "source": [
    "name = \".a..Rohit Sharma..b.\"\n",
    "name.strip(\".Ra\")"
   ]
  },
  {
   "cell_type": "code",
   "execution_count": 97,
   "id": "90b92716-5232-4ab6-9405-a4b339823c88",
   "metadata": {},
   "outputs": [
    {
     "data": {
      "text/plain": [
       "'Rohit Sh'"
      ]
     },
     "execution_count": 97,
     "metadata": {},
     "output_type": "execute_result"
    }
   ],
   "source": [
    "name = \".a..Rohit Sharma..b.\"\n",
    "name.strip(\".rabm\")"
   ]
  },
  {
   "cell_type": "code",
   "execution_count": 98,
   "id": "912cfca1-779c-4560-a329-30fe2be24037",
   "metadata": {},
   "outputs": [
    {
     "data": {
      "text/plain": [
       "'ohit Sharma..b.'"
      ]
     },
     "execution_count": 98,
     "metadata": {},
     "output_type": "execute_result"
    }
   ],
   "source": [
    "name = \".a..Rohit Sharma..b.\"\n",
    "name.lstrip(\".Rabm\")"
   ]
  },
  {
   "cell_type": "code",
   "execution_count": 99,
   "id": "537875d8-794e-40a8-b05a-e8065d36054c",
   "metadata": {},
   "outputs": [
    {
     "data": {
      "text/plain": [
       "'.a..Rohit Sharma..b. '"
      ]
     },
     "execution_count": 99,
     "metadata": {},
     "output_type": "execute_result"
    }
   ],
   "source": [
    "name = \" .a..Rohit Sharma..b. \"\n",
    "name.lstrip()"
   ]
  },
  {
   "cell_type": "code",
   "execution_count": 100,
   "id": "978f4439-a806-42cb-84c0-bba020a6eccd",
   "metadata": {},
   "outputs": [
    {
     "data": {
      "text/plain": [
       "'.a..Rohit Sh'"
      ]
     },
     "execution_count": 100,
     "metadata": {},
     "output_type": "execute_result"
    }
   ],
   "source": [
    "name = \".a..Rohit Sharma..b.\"\n",
    "name.rstrip(\".rabm\")"
   ]
  },
  {
   "cell_type": "code",
   "execution_count": 101,
   "id": "f3e7198f-4d40-4ce8-af77-b193caa202db",
   "metadata": {},
   "outputs": [
    {
     "data": {
      "text/plain": [
       "' .a..Rohit Sharma..b.'"
      ]
     },
     "execution_count": 101,
     "metadata": {},
     "output_type": "execute_result"
    }
   ],
   "source": [
    "name = \" .a..Rohit Sharma..b. \"\n",
    "name.rstrip()"
   ]
  },
  {
   "cell_type": "markdown",
   "id": "285ed4b1-40d5-4c16-9612-4f7a3e81e0fc",
   "metadata": {},
   "source": [
    "### ***split***\n",
    "#### syntax:  split(arg, max split)\n",
    "#### - It converts the given string into a list of substrings. By default, It will take space as a delimiter\n",
    "#### - We can controls the splitting of the string with the max split argument\n",
    "#### - rsplit ==> It splits the given string from the right side and converts to a list of substrings"
   ]
  },
  {
   "cell_type": "code",
   "execution_count": 102,
   "id": "f8b37737-77e6-4e0f-89ac-db53a658a67a",
   "metadata": {},
   "outputs": [
    {
     "data": {
      "text/plain": [
       "['All', 'the', 'best', 'for', 'your', 'ongoing', 'Exams']"
      ]
     },
     "execution_count": 102,
     "metadata": {},
     "output_type": "execute_result"
    }
   ],
   "source": [
    "message = \"All the best for your ongoing Exams\"\n",
    "message.split()"
   ]
  },
  {
   "cell_type": "code",
   "execution_count": 103,
   "id": "297fee0b-644e-4182-b636-d16706645a4a",
   "metadata": {},
   "outputs": [
    {
     "data": {
      "text/plain": [
       "['Rohit,',\n",
       " 'Virat,',\n",
       " 'Pant,',\n",
       " 'and',\n",
       " 'Surya',\n",
       " 'were',\n",
       " 'the',\n",
       " \"India's\",\n",
       " 'best',\n",
       " 'batters']"
      ]
     },
     "execution_count": 103,
     "metadata": {},
     "output_type": "execute_result"
    }
   ],
   "source": [
    "message = \"Rohit, Virat, Pant, and Surya were the India's best batters\"\n",
    "message.split()"
   ]
  },
  {
   "cell_type": "code",
   "execution_count": 104,
   "id": "481d3210-6cba-47eb-9a0d-342bb4da47b0",
   "metadata": {},
   "outputs": [
    {
     "name": "stdout",
     "output_type": "stream",
     "text": [
      "Rohit, \n",
      ", Pant, and Surya were the India's best batters\n"
     ]
    }
   ],
   "source": [
    "message = \"Rohit, Virat, Pant, and Surya were the India's best batters\"\n",
    "m = message.split(\"Virat\")\n",
    "for l in m:\n",
    "    print(l)"
   ]
  },
  {
   "cell_type": "code",
   "execution_count": 105,
   "id": "0d8059f1-0400-4eee-b4c9-e60c3341203e",
   "metadata": {},
   "outputs": [
    {
     "data": {
      "text/plain": [
       "['Rohit', 'Virat', 'Pant', \"and Surya were the India's best batters\"]"
      ]
     },
     "execution_count": 105,
     "metadata": {},
     "output_type": "execute_result"
    }
   ],
   "source": [
    "message = \"Rohit, Virat, Pant, and Surya were the India's best batters\"\n",
    "message.split(', ')"
   ]
  },
  {
   "cell_type": "code",
   "execution_count": 106,
   "id": "030e8c75-28f2-481f-ade0-1f658d26a43b",
   "metadata": {},
   "outputs": [
    {
     "data": {
      "text/plain": [
       "['All', 'the', 'best', 'for your ongoing Exams']"
      ]
     },
     "execution_count": 106,
     "metadata": {},
     "output_type": "execute_result"
    }
   ],
   "source": [
    "message = \"All the best for your ongoing Exams\"\n",
    "message.split(\" \", maxsplit=3)"
   ]
  },
  {
   "cell_type": "code",
   "execution_count": 107,
   "id": "1d37c87c-3a71-4c36-bd3d-5e3dc70fe6b2",
   "metadata": {},
   "outputs": [
    {
     "data": {
      "text/plain": [
       "['All', 'the', 'best', 'for', 'your', 'ongoing', 'Exams']"
      ]
     },
     "execution_count": 107,
     "metadata": {},
     "output_type": "execute_result"
    }
   ],
   "source": [
    "message = \"All the best for your ongoing Exams\"\n",
    "message.rsplit()"
   ]
  },
  {
   "cell_type": "code",
   "execution_count": 108,
   "id": "d17ff504-4741-460f-bdeb-038453629270",
   "metadata": {},
   "outputs": [
    {
     "data": {
      "text/plain": [
       "['All the best for your', 'ongoing', 'Exams']"
      ]
     },
     "execution_count": 108,
     "metadata": {},
     "output_type": "execute_result"
    }
   ],
   "source": [
    "message = \"All the best for your ongoing Exams\"\n",
    "message.rsplit(\" \", maxsplit=2)"
   ]
  },
  {
   "cell_type": "code",
   "execution_count": 109,
   "id": "7980fdb9-c974-4734-b227-58e3ba059eaa",
   "metadata": {},
   "outputs": [
    {
     "name": "stdout",
     "output_type": "stream",
     "text": [
      "Rohit, \n",
      ", Pant, and Surya were the India's best batters\n"
     ]
    }
   ],
   "source": [
    "message = \"Rohit, Virat, Pant, and Surya were the India's best batters\"\n",
    "m = message.rsplit(\"Virat\")\n",
    "for l in m:\n",
    "    print(l)"
   ]
  },
  {
   "cell_type": "code",
   "execution_count": 110,
   "id": "9f6de6ef-d40a-4b38-bfe2-8260439b6f14",
   "metadata": {},
   "outputs": [
    {
     "name": "stdout",
     "output_type": "stream",
     "text": [
      "['All', 'the', 'best for your ongoing Exams']\n",
      "['All the best for your', 'ongoing', 'Exams']\n"
     ]
    }
   ],
   "source": [
    "message = \"All the best for your ongoing Exams\"\n",
    "print(message.split(maxsplit=2))\n",
    "print(message.rsplit(maxsplit=2))"
   ]
  },
  {
   "cell_type": "markdown",
   "id": "ce53a0d9-56e2-40e5-adfe-5724ccb71dda",
   "metadata": {},
   "source": [
    "### ***join***\n",
    "#### - synatx: \"arg\".join(iterable)\n",
    "#### - It converts the given iterable of substrings into a string by placing the argument between substrings"
   ]
  },
  {
   "cell_type": "code",
   "execution_count": 114,
   "id": "b2321ac5-5413-4063-916b-736e187ff75d",
   "metadata": {},
   "outputs": [
    {
     "name": "stdout",
     "output_type": "stream",
     "text": [
      "Python-is-going-good\n"
     ]
    }
   ],
   "source": [
    "l = [\"Python\", \"is\", \"going\", \"good\"]\n",
    "s = \"-\".join(l) # Python is going good\n",
    "print(s)"
   ]
  },
  {
   "cell_type": "code",
   "execution_count": 113,
   "id": "da49c8d5-46e9-4628-a568-83b211b3e86d",
   "metadata": {},
   "outputs": [
    {
     "data": {
      "text/plain": [
       "'Ivsnvsdvsivsavs-vsPvsavskvsivssvstvsavsn'"
      ]
     },
     "execution_count": 113,
     "metadata": {},
     "output_type": "execute_result"
    }
   ],
   "source": [
    "match_day = \"India-Pakistan\"\n",
    "\"vs\".join(match_day)"
   ]
  },
  {
   "cell_type": "code",
   "execution_count": 112,
   "id": "47a3ac43-3e5a-4751-8733-997182ad71c4",
   "metadata": {},
   "outputs": [
    {
     "data": {
      "text/plain": [
       "'IIndiaWinnIndiaWindIndiaWiniIndiaWinaIndiaWin-IndiaWinPIndiaWinaIndiaWinkIndiaWiniIndiaWinsIndiaWintIndiaWinaIndiaWinn'"
      ]
     },
     "execution_count": 112,
     "metadata": {},
     "output_type": "execute_result"
    }
   ],
   "source": [
    "match_day = \"India-Pakistan\"\n",
    "\"IndiaWin\".join(match_day)"
   ]
  },
  {
   "cell_type": "code",
   "execution_count": 116,
   "id": "92f0db41-6f46-487f-aa36-66bcae963c5c",
   "metadata": {},
   "outputs": [
    {
     "ename": "TypeError",
     "evalue": "sequence item 0: expected str instance, int found",
     "output_type": "error",
     "traceback": [
      "\u001b[1;31m---------------------------------------------------------------------------\u001b[0m",
      "\u001b[1;31mTypeError\u001b[0m                                 Traceback (most recent call last)",
      "Cell \u001b[1;32mIn[116], line 2\u001b[0m\n\u001b[0;32m      1\u001b[0m l \u001b[38;5;241m=\u001b[39m [\u001b[38;5;241m1\u001b[39m,\u001b[38;5;241m2\u001b[39m,\u001b[38;5;241m3\u001b[39m]\n\u001b[1;32m----> 2\u001b[0m \u001b[38;5;124m\"\u001b[39m\u001b[38;5;124m \u001b[39m\u001b[38;5;124m\"\u001b[39m\u001b[38;5;241m.\u001b[39mjoin(l)\n",
      "\u001b[1;31mTypeError\u001b[0m: sequence item 0: expected str instance, int found"
     ]
    }
   ],
   "source": [
    "l = [1,2,3]\n",
    "\" \".join(l)"
   ]
  },
  {
   "cell_type": "code",
   "execution_count": 117,
   "id": "746c63c0-ae6a-40ca-9e67-ca76b10aa86c",
   "metadata": {},
   "outputs": [
    {
     "ename": "TypeError",
     "evalue": "str.join() takes exactly one argument (0 given)",
     "output_type": "error",
     "traceback": [
      "\u001b[1;31m---------------------------------------------------------------------------\u001b[0m",
      "\u001b[1;31mTypeError\u001b[0m                                 Traceback (most recent call last)",
      "Cell \u001b[1;32mIn[117], line 2\u001b[0m\n\u001b[0;32m      1\u001b[0m l \u001b[38;5;241m=\u001b[39m [\u001b[38;5;241m1\u001b[39m,\u001b[38;5;241m2\u001b[39m,\u001b[38;5;241m3\u001b[39m]\n\u001b[1;32m----> 2\u001b[0m \u001b[38;5;124m\"\u001b[39m\u001b[38;5;124m \u001b[39m\u001b[38;5;124m\"\u001b[39m\u001b[38;5;241m.\u001b[39mjoin()\n",
      "\u001b[1;31mTypeError\u001b[0m: str.join() takes exactly one argument (0 given)"
     ]
    }
   ],
   "source": [
    "l = [1,2,3]\n",
    "\" \".join()"
   ]
  },
  {
   "cell_type": "markdown",
   "id": "b6eceab2-1c05-44b6-b648-e8d69455f61b",
   "metadata": {},
   "source": [
    "### ***replace***\n",
    "#### syntax: replace(old_substring, new_substring, count_value)\n",
    "#### - It replaces the old substring with the new substring and returns string object\n",
    "#### - We can control the replacement of new_substring through the count_value"
   ]
  },
  {
   "cell_type": "code",
   "execution_count": 118,
   "id": "7327d57a-86e4-458d-8d70-8ae8e2129633",
   "metadata": {},
   "outputs": [
    {
     "data": {
      "text/plain": [
       "'Virat, Rohit, Sky, Pant, Rinku, Hardik, Jadeja, Bumrah'"
      ]
     },
     "execution_count": 118,
     "metadata": {},
     "output_type": "execute_result"
    }
   ],
   "source": [
    "ind_players = \"Virat, Rohit, Sky, Pant, Dube, Hardik, Jadeja, Bumrah\"\n",
    "ind_players.replace('Dube', \"Rinku\")"
   ]
  },
  {
   "cell_type": "code",
   "execution_count": 119,
   "id": "b7e9a7e8-69f2-4edd-a411-6a558686c552",
   "metadata": {},
   "outputs": [
    {
     "data": {
      "text/plain": [
       "'Virat, Rohit, Sky, Pant, Shivam Rinku, Hardik, Jadeja, Bumrah, Shubham Rinku'"
      ]
     },
     "execution_count": 119,
     "metadata": {},
     "output_type": "execute_result"
    }
   ],
   "source": [
    "ind_players = \"Virat, Rohit, Sky, Pant, Shivam Dube, Hardik, Jadeja, Bumrah, Shubham Dube\"\n",
    "ind_players.replace('Dube', \"Rinku\")"
   ]
  },
  {
   "cell_type": "code",
   "execution_count": 120,
   "id": "9f381e5f-2f5e-4393-ac4e-ce90b1008f94",
   "metadata": {},
   "outputs": [
    {
     "data": {
      "text/plain": [
       "'Virat, Rohit, Sky, Pant, XYZ, Hardik, Jadeja, Bumrah, XYZ'"
      ]
     },
     "execution_count": 120,
     "metadata": {},
     "output_type": "execute_result"
    }
   ],
   "source": [
    "ind_players = \"Virat, Rohit, Sky, Pant, Dube, Hardik, Jadeja, Bumrah, Dube\"\n",
    "ind_players.replace('Dube', \"XYZ\")"
   ]
  },
  {
   "cell_type": "code",
   "execution_count": 121,
   "id": "65b3c680-82b7-4e29-a92d-29a3de3d5ccb",
   "metadata": {},
   "outputs": [
    {
     "data": {
      "text/plain": [
       "'Virat, Rohit, Sky, Pant, Shivam Rinku, Rinku, Dube, Dube, Hardik, Jadeja, Bumrah, Shubham Dube'"
      ]
     },
     "execution_count": 121,
     "metadata": {},
     "output_type": "execute_result"
    }
   ],
   "source": [
    "ind_players = \"Virat, Rohit, Sky, Pant, Shivam Dube, Dube, Dube, Dube, Hardik, Jadeja, Bumrah, Shubham Dube\"\n",
    "ind_players.replace('Dube', \"Rinku\", 2)"
   ]
  },
  {
   "cell_type": "code",
   "execution_count": 122,
   "id": "e7a96e30-ccd3-47ad-a9a7-227fb0f0a55e",
   "metadata": {},
   "outputs": [
    {
     "data": {
      "text/plain": [
       "'Vir***t, Rohit, Sky, P***nt, Shiv***m Dube, Dube, Dube, Dube, Hardik, Jadeja, Bumrah, Shubham Dube'"
      ]
     },
     "execution_count": 122,
     "metadata": {},
     "output_type": "execute_result"
    }
   ],
   "source": [
    "ind_players = \"Virat, Rohit, Sky, Pant, Shivam Dube, Dube, Dube, Dube, Hardik, Jadeja, Bumrah, Shubham Dube\"\n",
    "ind_players.replace('a', \"***\", 3)"
   ]
  },
  {
   "cell_type": "markdown",
   "id": "1a7d6b8b-b239-474a-8224-a7eb890f08ae",
   "metadata": {},
   "source": [
    "### ***count***\n",
    "#### syntax: count(arg, start_index, end_index)\n",
    "#### - It returns the number of times substring occurred in a string"
   ]
  },
  {
   "cell_type": "code",
   "execution_count": 124,
   "id": "bc7ba0ce-e03b-4f68-8618-7f994841941f",
   "metadata": {},
   "outputs": [
    {
     "data": {
      "text/plain": [
       "3"
      ]
     },
     "execution_count": 124,
     "metadata": {},
     "output_type": "execute_result"
    }
   ],
   "source": [
    "statement = \"Virat is the best player of our generation and Virat scored 50 centuries in ODI. Virat is 35 years old\"\n",
    "statement.count(\"Virat\")"
   ]
  },
  {
   "cell_type": "code",
   "execution_count": 125,
   "id": "edcebb1c-587d-40f6-9972-850d3fbba104",
   "metadata": {},
   "outputs": [
    {
     "data": {
      "text/plain": [
       "8"
      ]
     },
     "execution_count": 125,
     "metadata": {},
     "output_type": "execute_result"
    }
   ],
   "source": [
    "statement.count(\"i\")"
   ]
  },
  {
   "cell_type": "code",
   "execution_count": 126,
   "id": "5e862304-1f8e-4dc1-a74d-74e65217889d",
   "metadata": {},
   "outputs": [
    {
     "data": {
      "text/plain": [
       "0"
      ]
     },
     "execution_count": 126,
     "metadata": {},
     "output_type": "execute_result"
    }
   ],
   "source": [
    "statement.count(\"Virat\", 2, 30)"
   ]
  },
  {
   "cell_type": "code",
   "execution_count": 127,
   "id": "3a345302-9593-4322-a39a-6860c3af924e",
   "metadata": {},
   "outputs": [
    {
     "data": {
      "text/plain": [
       "1"
      ]
     },
     "execution_count": 127,
     "metadata": {},
     "output_type": "execute_result"
    }
   ],
   "source": [
    "name = \"Virat Kohli\"\n",
    "name.count(\"i\",1,10)"
   ]
  },
  {
   "cell_type": "code",
   "execution_count": 128,
   "id": "2826d968-511e-42b6-8056-3a044d5694b0",
   "metadata": {},
   "outputs": [],
   "source": [
    "s = \"ENGINEERING\""
   ]
  },
  {
   "cell_type": "code",
   "execution_count": 129,
   "id": "6b53237b-9b03-45df-977e-8aaa86e5c1ef",
   "metadata": {},
   "outputs": [
    {
     "name": "stdout",
     "output_type": "stream",
     "text": [
      "E  :  3\n",
      "R  :  1\n",
      "I  :  2\n",
      "Z  :  0\n",
      "EE :  1\n"
     ]
    }
   ],
   "source": [
    "print(\"E  : \", s.count('E'))\n",
    "print(\"R  : \", s.count('R'))\n",
    "print(\"I  : \", s.count('I'))\n",
    "print(\"Z  : \", s.count('Z'))\n",
    "print(\"EE : \", s.count('EE'))"
   ]
  },
  {
   "cell_type": "markdown",
   "id": "517fc44c-e987-4161-89b1-948c40b0f4c4",
   "metadata": {},
   "source": [
    "### ***index***\n",
    "#### syntax: index(substring, start_index, end_index)\n",
    "#### - It returns the index position of the first occurrence of a given substring\n",
    "#### - If a substring is not available, it throws a value error"
   ]
  },
  {
   "cell_type": "code",
   "execution_count": 130,
   "id": "4e49173a-b042-4171-b1ee-31abb346b50c",
   "metadata": {},
   "outputs": [
    {
     "data": {
      "text/plain": [
       "3"
      ]
     },
     "execution_count": 130,
     "metadata": {},
     "output_type": "execute_result"
    }
   ],
   "source": [
    "statement = \"Python Course - Python\"\n",
    "statement.index(\"ho\")"
   ]
  },
  {
   "cell_type": "code",
   "execution_count": 131,
   "id": "74bff9c5-b35f-4319-842d-bf71ed9da2f0",
   "metadata": {},
   "outputs": [
    {
     "ename": "ValueError",
     "evalue": "substring not found",
     "output_type": "error",
     "traceback": [
      "\u001b[1;31m---------------------------------------------------------------------------\u001b[0m",
      "\u001b[1;31mValueError\u001b[0m                                Traceback (most recent call last)",
      "Cell \u001b[1;32mIn[131], line 1\u001b[0m\n\u001b[1;32m----> 1\u001b[0m statement\u001b[38;5;241m.\u001b[39mindex(\u001b[38;5;124m\"\u001b[39m\u001b[38;5;124moh\u001b[39m\u001b[38;5;124m\"\u001b[39m)\n",
      "\u001b[1;31mValueError\u001b[0m: substring not found"
     ]
    }
   ],
   "source": [
    "statement.index(\"oh\")"
   ]
  },
  {
   "cell_type": "markdown",
   "id": "1d69e48b-5b1a-41ff-a238-9270f1ed8204",
   "metadata": {},
   "source": [
    "### ***rindex***\n",
    "#### syntax: rindex(substring, start_index, end_index)\n",
    "#### - It returns the index position of the last occurrence of a given substring\n",
    "#### - If a substring is not available, it throws a value error"
   ]
  },
  {
   "cell_type": "code",
   "execution_count": 132,
   "id": "007c0c33-4e2c-49fa-b431-714081d59470",
   "metadata": {},
   "outputs": [
    {
     "data": {
      "text/plain": [
       "19"
      ]
     },
     "execution_count": 132,
     "metadata": {},
     "output_type": "execute_result"
    }
   ],
   "source": [
    "statement = \"Python Course - Python\"\n",
    "statement.rindex(\"ho\")"
   ]
  },
  {
   "cell_type": "code",
   "execution_count": 133,
   "id": "0274a81d-9027-4378-be39-8a56bf9ceeec",
   "metadata": {},
   "outputs": [
    {
     "ename": "ValueError",
     "evalue": "substring not found",
     "output_type": "error",
     "traceback": [
      "\u001b[1;31m---------------------------------------------------------------------------\u001b[0m",
      "\u001b[1;31mValueError\u001b[0m                                Traceback (most recent call last)",
      "Cell \u001b[1;32mIn[133], line 2\u001b[0m\n\u001b[0;32m      1\u001b[0m statement \u001b[38;5;241m=\u001b[39m \u001b[38;5;124m\"\u001b[39m\u001b[38;5;124mPython Course - Python\u001b[39m\u001b[38;5;124m\"\u001b[39m\n\u001b[1;32m----> 2\u001b[0m statement\u001b[38;5;241m.\u001b[39mrindex(\u001b[38;5;124m\"\u001b[39m\u001b[38;5;124moh\u001b[39m\u001b[38;5;124m\"\u001b[39m)\n",
      "\u001b[1;31mValueError\u001b[0m: substring not found"
     ]
    }
   ],
   "source": [
    "statement = \"Python Course - Python\"\n",
    "statement.rindex(\"oh\")"
   ]
  },
  {
   "cell_type": "markdown",
   "id": "c44d1fe2-7505-414a-af73-f5e51731d3b2",
   "metadata": {},
   "source": [
    "### ***find***\n",
    "#### syntax: find(substring, start_index, end_index)\n",
    "#### - It returns the index position of the first occurrence of a given substring\n",
    "#### - If a substring is not available, it returns -1"
   ]
  },
  {
   "cell_type": "code",
   "execution_count": 135,
   "id": "61dd8fdd-cdda-4455-95f3-58523d009735",
   "metadata": {},
   "outputs": [
    {
     "data": {
      "text/plain": [
       "3"
      ]
     },
     "execution_count": 135,
     "metadata": {},
     "output_type": "execute_result"
    }
   ],
   "source": [
    "statement = \"Python Course - Python\"\n",
    "statement.find(\"ho\")"
   ]
  },
  {
   "cell_type": "code",
   "execution_count": 136,
   "id": "5e83af47-62a0-4dee-8495-51d8c8042b16",
   "metadata": {},
   "outputs": [
    {
     "data": {
      "text/plain": [
       "-1"
      ]
     },
     "execution_count": 136,
     "metadata": {},
     "output_type": "execute_result"
    }
   ],
   "source": [
    "statement = \"Python Course - Python\"\n",
    "statement.find(\"oh\")"
   ]
  },
  {
   "cell_type": "markdown",
   "id": "f547f58c-ddc4-4c2e-afdf-787455fbd190",
   "metadata": {},
   "source": [
    "### ***rfind***\n",
    "#### syntax: rfind(substring, start_index, end_index)\n",
    "#### - It returns the index position of the last occurrence of a given substring\n",
    "#### - If a substring is not available, it returns -1"
   ]
  },
  {
   "cell_type": "code",
   "execution_count": 137,
   "id": "59332de1-0480-4b69-8930-3e023bd3ef36",
   "metadata": {},
   "outputs": [
    {
     "data": {
      "text/plain": [
       "19"
      ]
     },
     "execution_count": 137,
     "metadata": {},
     "output_type": "execute_result"
    }
   ],
   "source": [
    "statement = \"Python Course - Python\"\n",
    "statement.rfind(\"ho\")"
   ]
  },
  {
   "cell_type": "code",
   "execution_count": 138,
   "id": "80fa45ba-d168-450f-a9e8-ed515f2062ae",
   "metadata": {},
   "outputs": [
    {
     "data": {
      "text/plain": [
       "-1"
      ]
     },
     "execution_count": 138,
     "metadata": {},
     "output_type": "execute_result"
    }
   ],
   "source": [
    "statement = \"Python Course - Python\"\n",
    "statement.rfind(\"oh\")"
   ]
  },
  {
   "cell_type": "code",
   "execution_count": 139,
   "id": "8674cfb1-29d1-4f76-be06-9fa48e428a23",
   "metadata": {},
   "outputs": [
    {
     "name": "stdout",
     "output_type": "stream",
     "text": [
      "3\n",
      "3\n"
     ]
    }
   ],
   "source": [
    "statement = \"Python Course\"\n",
    "print(statement.find(\"ho\"))\n",
    "print(statement.rfind(\"ho\"))"
   ]
  },
  {
   "cell_type": "markdown",
   "id": "0432947c-954a-470c-8c4c-1887d377ce48",
   "metadata": {},
   "source": [
    "### ***Case Conversion Methods***\n",
    "#### - upper ==> It converts lowercase characters to uppercase characters\n",
    "#### - lower ==> It converts uppercase characters to lowercase characters\n",
    "#### - swap case ==> It converts lowercase characters to uppercase characters and uppercase characters to lowercase characters\n",
    "#### - title  ==> It converts the first letter of each word in a string into uppercase\n",
    "#### - capitalize ==> It converts the first character of a string into uppercase and the rest into lowercase"
   ]
  },
  {
   "cell_type": "code",
   "execution_count": 154,
   "id": "0266d023-eaae-457d-90a1-d9ddefd0a3a2",
   "metadata": {},
   "outputs": [
    {
     "name": "stdout",
     "output_type": "stream",
     "text": [
      "s : python\n",
      "x : PYTHON\n"
     ]
    }
   ],
   "source": [
    "s = 'python'\n",
    "x = s.upper()\n",
    "print(\"s :\", s)\n",
    "print(\"x :\", x)"
   ]
  },
  {
   "cell_type": "code",
   "execution_count": 153,
   "id": "cc03d2c1-c0fa-4c8f-9122-32f50af7bfde",
   "metadata": {},
   "outputs": [
    {
     "name": "stdout",
     "output_type": "stream",
     "text": [
      "s : Python@123\n",
      "x : PYTHON@123\n"
     ]
    }
   ],
   "source": [
    "s = 'Python@123'\n",
    "x = s.upper()\n",
    "print(\"s :\", s)\n",
    "print(\"x :\", x)"
   ]
  },
  {
   "cell_type": "code",
   "execution_count": 152,
   "id": "bb0aeff1-7b62-496e-af70-e59a68c96a06",
   "metadata": {},
   "outputs": [
    {
     "name": "stdout",
     "output_type": "stream",
     "text": [
      "s : PYTHON@123\n",
      "x : python@123\n"
     ]
    }
   ],
   "source": [
    "s = 'PYTHON@123'\n",
    "x = s.lower()\n",
    "print(\"s :\", s)\n",
    "print(\"x :\", x)"
   ]
  },
  {
   "cell_type": "code",
   "execution_count": 151,
   "id": "90fbd233-a6f1-4f44-a7cd-2b61ed6a7b21",
   "metadata": {},
   "outputs": [
    {
     "name": "stdout",
     "output_type": "stream",
     "text": [
      "s : PYThon@123\n",
      "x : pytHON@123\n"
     ]
    }
   ],
   "source": [
    "s = 'PYThon@123'\n",
    "x = s.swapcase()\n",
    "print(\"s :\", s)\n",
    "print(\"x :\", x)"
   ]
  },
  {
   "cell_type": "code",
   "execution_count": 156,
   "id": "a4a0e885-8e3b-4245-8751-631c0a93fe15",
   "metadata": {},
   "outputs": [
    {
     "name": "stdout",
     "output_type": "stream",
     "text": [
      "s : python is easy IF YOU LEARN\n",
      "x : Python Is Easy If You Learn\n"
     ]
    }
   ],
   "source": [
    "s = \"python is easy IF YOU LEARN\"\n",
    "x = s.title()\n",
    "print(\"s :\", s)\n",
    "print(\"x :\", x)"
   ]
  },
  {
   "cell_type": "code",
   "execution_count": 158,
   "id": "76ed6b09-e3ed-493f-bf60-a2a3785dea17",
   "metadata": {},
   "outputs": [
    {
     "name": "stdout",
     "output_type": "stream",
     "text": [
      "s : python is easy IF YOU LEARN\n",
      "x : Python is easy if you learn\n"
     ]
    }
   ],
   "source": [
    "s = \"python is easy IF YOU LEARN\"\n",
    "x = s.capitalize()\n",
    "print(\"s :\", s)\n",
    "print(\"x :\", x)"
   ]
  },
  {
   "cell_type": "code",
   "execution_count": 159,
   "id": "3b80a3b7-e853-4efc-9a6a-037e7b5ac381",
   "metadata": {},
   "outputs": [
    {
     "name": "stdout",
     "output_type": "stream",
     "text": [
      "s : 23python is easy IF YOU LEARN\n",
      "x : 23python is easy if you learn\n"
     ]
    }
   ],
   "source": [
    "s = \"23python is easy IF YOU LEARN\"\n",
    "x = s.capitalize()\n",
    "print(\"s :\", s)\n",
    "print(\"x :\", x)"
   ]
  },
  {
   "cell_type": "code",
   "execution_count": null,
   "id": "97b12382-5d55-454c-afc0-19d73ac97dda",
   "metadata": {},
   "outputs": [],
   "source": []
  }
 ],
 "metadata": {
  "kernelspec": {
   "display_name": "Python 3 (ipykernel)",
   "language": "python",
   "name": "python3"
  },
  "language_info": {
   "codemirror_mode": {
    "name": "ipython",
    "version": 3
   },
   "file_extension": ".py",
   "mimetype": "text/x-python",
   "name": "python",
   "nbconvert_exporter": "python",
   "pygments_lexer": "ipython3",
   "version": "3.11.7"
  }
 },
 "nbformat": 4,
 "nbformat_minor": 5
}
