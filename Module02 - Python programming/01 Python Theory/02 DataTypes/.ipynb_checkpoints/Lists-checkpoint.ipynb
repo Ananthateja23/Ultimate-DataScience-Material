{
 "cells": [
  {
   "cell_type": "markdown",
   "id": "f7f97eda-0e18-4e63-9b37-d49eb9749ef3",
   "metadata": {},
   "source": [
    "### ***List***\n",
    "#### 1. Initialize a list\n",
    "#### 2. Accessing elements of a list & Slicing a list\n",
    "#### 3. Adding elements to the list\n",
    "#### 4. Taking user input of list\n",
    "#### 5. Updating list items (single and multiple items)\n",
    "#### 6. remove, del, clear, pop\n",
    "#### 7. List Comprehensions"
   ]
  },
  {
   "cell_type": "markdown",
   "id": "597bce68-ebfa-46d3-802d-f3b668b58418",
   "metadata": {},
   "source": [
    "#### ***Initialize a list***"
   ]
  },
  {
   "cell_type": "code",
   "execution_count": 1,
   "id": "bc4cd035-4f25-45f3-a81b-00a614ffa11e",
   "metadata": {},
   "outputs": [
    {
     "name": "stdout",
     "output_type": "stream",
     "text": [
      "[]\n"
     ]
    }
   ],
   "source": [
    "l = []\n",
    "print(l)"
   ]
  },
  {
   "cell_type": "code",
   "execution_count": 2,
   "id": "ccb7e353-89f3-4fb2-bee1-27c782cde150",
   "metadata": {},
   "outputs": [
    {
     "name": "stdout",
     "output_type": "stream",
     "text": [
      "[]\n"
     ]
    }
   ],
   "source": [
    "l = list()\n",
    "print(l)"
   ]
  },
  {
   "cell_type": "code",
   "execution_count": 3,
   "id": "3c22a9ec-2831-4356-8ce4-bc1e69002ba4",
   "metadata": {},
   "outputs": [
    {
     "name": "stdout",
     "output_type": "stream",
     "text": [
      "[' ']\n",
      "1\n"
     ]
    }
   ],
   "source": [
    "l = list(\" \")\n",
    "print(l)\n",
    "print(len(l))"
   ]
  },
  {
   "cell_type": "code",
   "execution_count": 4,
   "id": "5d1a57dc-ddc3-4b56-99ab-78214cf790fa",
   "metadata": {},
   "outputs": [
    {
     "name": "stdout",
     "output_type": "stream",
     "text": [
      "[]\n",
      "0\n"
     ]
    }
   ],
   "source": [
    "l = list(\"\")\n",
    "print(l)\n",
    "print(len(l))"
   ]
  },
  {
   "cell_type": "code",
   "execution_count": 5,
   "id": "2305f0c4-25c1-420a-86a8-dfa156477e52",
   "metadata": {},
   "outputs": [
    {
     "name": "stdout",
     "output_type": "stream",
     "text": [
      "[]\n"
     ]
    }
   ],
   "source": [
    "t = tuple()\n",
    "l = list(t)\n",
    "print(l)"
   ]
  },
  {
   "cell_type": "code",
   "execution_count": 6,
   "id": "6d010efb-9611-4b89-8431-9737f6cf0821",
   "metadata": {},
   "outputs": [
    {
     "name": "stdout",
     "output_type": "stream",
     "text": [
      "['v', 'i', 'r', 'a', 't', ' ', 'k', 'o', 'h', 'l', 'i']\n"
     ]
    }
   ],
   "source": [
    "name = \"virat kohli\"\n",
    "l = list(name)\n",
    "print(l)"
   ]
  },
  {
   "cell_type": "markdown",
   "id": "e7da7331-5bff-4b6b-82cf-9bad37fd3713",
   "metadata": {},
   "source": [
    "#### ***Accessing list elements***\n",
    "##### syntax : variable[index]"
   ]
  },
  {
   "cell_type": "code",
   "execution_count": 7,
   "id": "95925ae6-eab5-4607-a765-4db03421bf5a",
   "metadata": {},
   "outputs": [
    {
     "name": "stdout",
     "output_type": "stream",
     "text": [
      "b\n",
      "c\n"
     ]
    }
   ],
   "source": [
    "l = [1, 2, 3, \"a\", \"b\", \"c\", \"rcb\", \"gate\", \"da\"]\n",
    "print(l[4])\n",
    "print(l[-4])"
   ]
  },
  {
   "cell_type": "code",
   "execution_count": 8,
   "id": "ccc7c2b5-4059-4151-bd59-7754d55e7849",
   "metadata": {},
   "outputs": [
    {
     "name": "stdout",
     "output_type": "stream",
     "text": [
      "4\n",
      "4\n"
     ]
    }
   ],
   "source": [
    "l = [[1, 2, 3, [4, 5]], [23, [12, 34], 9], 30, 21]\n",
    "print(l[0][3][0])\n",
    "print(l[0][3][-2])"
   ]
  },
  {
   "cell_type": "code",
   "execution_count": 9,
   "id": "8478c058-8297-4513-ac1a-4ba36554f5b4",
   "metadata": {},
   "outputs": [
    {
     "name": "stdout",
     "output_type": "stream",
     "text": [
      "[1, 2, 3, [4, 5]]\n",
      "[1, 2, 3, [4, 5]]\n",
      "[4, 5]\n",
      "[4, 5]\n",
      "[4, 5]\n",
      "[4, 5]\n"
     ]
    }
   ],
   "source": [
    "print(l[0])\n",
    "print(l[-4])\n",
    "print(l[0][3])\n",
    "print(l[0][-1])\n",
    "print(l[-4][3])\n",
    "print(l[-4][-1])"
   ]
  },
  {
   "cell_type": "markdown",
   "id": "373298a0-b3c1-45cd-9034-0560cb9d7e56",
   "metadata": {},
   "source": [
    "#### ***Slicing a list***"
   ]
  },
  {
   "cell_type": "code",
   "execution_count": 10,
   "id": "0b9dbaf5-a810-4759-adb5-63091c3f9578",
   "metadata": {},
   "outputs": [
    {
     "name": "stdout",
     "output_type": "stream",
     "text": [
      "10\n"
     ]
    }
   ],
   "source": [
    "l = [\"sachin\", \"sehwag\", \"gauti\", \"virat\", \"yuvi\", \"raina\", \"dhoni\", \"yousuf\", \"zaheer\", \"bumrah\"]\n",
    "print(len(l))"
   ]
  },
  {
   "cell_type": "code",
   "execution_count": 11,
   "id": "f20584ae-9361-4344-abeb-eb98f8eebcc8",
   "metadata": {},
   "outputs": [
    {
     "data": {
      "text/plain": [
       "[]"
      ]
     },
     "execution_count": 11,
     "metadata": {},
     "output_type": "execute_result"
    }
   ],
   "source": [
    "l[-4:2]"
   ]
  },
  {
   "cell_type": "code",
   "execution_count": 12,
   "id": "dcaf8248-ba9b-4992-9117-dd14e6e015b1",
   "metadata": {},
   "outputs": [
    {
     "name": "stdout",
     "output_type": "stream",
     "text": [
      "['g', 'h']\n",
      "[]\n"
     ]
    }
   ],
   "source": [
    "alpha = ['a', 'b', 'c', 'd', 'e', 'f', 'g', 'h', 'i', 'j']\n",
    "print(alpha[-4:8])\n",
    "print(alpha[-4:-8])"
   ]
  },
  {
   "cell_type": "code",
   "execution_count": 13,
   "id": "5570e1d9-3d7e-4805-a68f-aa3ca66743a2",
   "metadata": {},
   "outputs": [
    {
     "data": {
      "text/plain": [
       "['dhoni', 'virat']"
      ]
     },
     "execution_count": 13,
     "metadata": {},
     "output_type": "execute_result"
    }
   ],
   "source": [
    "l[6:1:-3]"
   ]
  },
  {
   "cell_type": "code",
   "execution_count": 14,
   "id": "8aa3c6ed-b1ff-48ee-8438-aa5f51662273",
   "metadata": {},
   "outputs": [
    {
     "data": {
      "text/plain": [
       "['dhoni', 'raina', 'yuvi', 'virat']"
      ]
     },
     "execution_count": 14,
     "metadata": {},
     "output_type": "execute_result"
    }
   ],
   "source": [
    "l[6:2:-1]"
   ]
  },
  {
   "cell_type": "code",
   "execution_count": 15,
   "id": "7ddaaa2d-4b1d-4820-9c31-6e7ef7ca25ba",
   "metadata": {},
   "outputs": [
    {
     "data": {
      "text/plain": [
       "['bumrah',\n",
       " 'zaheer',\n",
       " 'yousuf',\n",
       " 'dhoni',\n",
       " 'raina',\n",
       " 'yuvi',\n",
       " 'virat',\n",
       " 'gauti',\n",
       " 'sehwag',\n",
       " 'sachin']"
      ]
     },
     "execution_count": 15,
     "metadata": {},
     "output_type": "execute_result"
    }
   ],
   "source": [
    "l[::-1]"
   ]
  },
  {
   "cell_type": "code",
   "execution_count": 16,
   "id": "87ab5235-9759-4b96-8738-edaf40ccce2d",
   "metadata": {},
   "outputs": [
    {
     "data": {
      "text/plain": [
       "['sachin',\n",
       " 'sehwag',\n",
       " 'gauti',\n",
       " 'virat',\n",
       " 'yuvi',\n",
       " 'raina',\n",
       " 'dhoni',\n",
       " 'yousuf',\n",
       " 'zaheer',\n",
       " 'bumrah']"
      ]
     },
     "execution_count": 16,
     "metadata": {},
     "output_type": "execute_result"
    }
   ],
   "source": [
    "l[::]"
   ]
  },
  {
   "cell_type": "code",
   "execution_count": 17,
   "id": "d4019c2c-64d4-4238-b7c8-956b7c876d84",
   "metadata": {},
   "outputs": [
    {
     "data": {
      "text/plain": [
       "['sehwag', 'gauti', 'virat', 'yuvi', 'raina', 'dhoni']"
      ]
     },
     "execution_count": 17,
     "metadata": {},
     "output_type": "execute_result"
    }
   ],
   "source": [
    "l[1:7]"
   ]
  },
  {
   "cell_type": "code",
   "execution_count": 18,
   "id": "7c6a564a-12f4-4aa2-8931-c8f3386493dd",
   "metadata": {},
   "outputs": [
    {
     "data": {
      "text/plain": [
       "['sehwag', 'virat', 'raina', 'yousuf']"
      ]
     },
     "execution_count": 18,
     "metadata": {},
     "output_type": "execute_result"
    }
   ],
   "source": [
    "l[1:8:2]"
   ]
  },
  {
   "cell_type": "markdown",
   "id": "9854330c-8f60-4e2e-981e-51712ef6f366",
   "metadata": {},
   "source": [
    "# Adding elements to the list"
   ]
  },
  {
   "cell_type": "markdown",
   "id": "7b9cf275-6917-42b8-b9be-1d4655f90cdf",
   "metadata": {},
   "source": [
    "### ***append***\n",
    "#### syntax: append(element)\n",
    "#### - This method is used to add one element at a time\n",
    "#### - Value is added at the end of the list"
   ]
  },
  {
   "cell_type": "code",
   "execution_count": 19,
   "id": "3675e283-f31f-492b-8b1d-7548a5611313",
   "metadata": {},
   "outputs": [
    {
     "name": "stdout",
     "output_type": "stream",
     "text": [
      "['Hayden', 'Vijay', 'Raina']\n"
     ]
    }
   ],
   "source": [
    "csk = [\"Hayden\", \"Vijay\", \"Raina\"]\n",
    "print(csk)"
   ]
  },
  {
   "cell_type": "code",
   "execution_count": 20,
   "id": "dfad2de9-f032-43a6-ab7e-e2377bf5597a",
   "metadata": {},
   "outputs": [
    {
     "name": "stdout",
     "output_type": "stream",
     "text": [
      "['Hayden', 'Vijay', 'Raina']\n",
      "['Hayden', 'Vijay', 'Raina', 'Dhoni']\n"
     ]
    }
   ],
   "source": [
    "print(csk)\n",
    "csk.append(\"Dhoni\")\n",
    "print(csk)"
   ]
  },
  {
   "cell_type": "code",
   "execution_count": 21,
   "id": "88dbebb3-cd9b-496b-bab3-b0509cea3fdf",
   "metadata": {},
   "outputs": [
    {
     "name": "stdout",
     "output_type": "stream",
     "text": [
      "['Hayden', 'Vijay', 'Raina', 'Dhoni']\n",
      "['Hayden', 'Vijay', 'Raina', 'Dhoni', 'Jadeja']\n"
     ]
    }
   ],
   "source": [
    "print(csk)\n",
    "csk.append(\"Jadeja\")\n",
    "print(csk)"
   ]
  },
  {
   "cell_type": "code",
   "execution_count": 23,
   "id": "c2b51dd6-ff81-4681-af80-80529316eca6",
   "metadata": {},
   "outputs": [
    {
     "name": "stdout",
     "output_type": "stream",
     "text": [
      "[1, 2, 3, 4]\n",
      "1982861794496\n",
      "[1, 2, 3, 4, 5]\n",
      "1982861794496\n",
      "[1, 2, 3, 4, 5, 'Venky']\n",
      "1982861794496\n"
     ]
    }
   ],
   "source": [
    "l = [1,2,3,4]\n",
    "print(l)\n",
    "print(id(l))\n",
    "l.append(5)\n",
    "print(l)\n",
    "print(id(l))\n",
    "l.append(\"Venky\")\n",
    "print(l)\n",
    "print(id(l))"
   ]
  },
  {
   "cell_type": "code",
   "execution_count": 24,
   "id": "9ff9870b-2742-44eb-b017-ab481525e7a7",
   "metadata": {},
   "outputs": [
    {
     "name": "stdout",
     "output_type": "stream",
     "text": [
      "[1, 2, 3, 4, 5, 'Venky']\n"
     ]
    }
   ],
   "source": [
    "print(l)"
   ]
  },
  {
   "cell_type": "code",
   "execution_count": 25,
   "id": "974d37e7-2593-42fd-b54d-28b5cc2cb6f1",
   "metadata": {},
   "outputs": [
    {
     "ename": "TypeError",
     "evalue": "list.append() takes exactly one argument (2 given)",
     "output_type": "error",
     "traceback": [
      "\u001b[1;31m---------------------------------------------------------------------------\u001b[0m",
      "\u001b[1;31mTypeError\u001b[0m                                 Traceback (most recent call last)",
      "Cell \u001b[1;32mIn[25], line 1\u001b[0m\n\u001b[1;32m----> 1\u001b[0m l\u001b[38;5;241m.\u001b[39mappend(\u001b[38;5;124m\"\u001b[39m\u001b[38;5;124mrbr\u001b[39m\u001b[38;5;124m\"\u001b[39m, \u001b[38;5;124m\"\u001b[39m\u001b[38;5;124mjay\u001b[39m\u001b[38;5;124m\"\u001b[39m)\n",
      "\u001b[1;31mTypeError\u001b[0m: list.append() takes exactly one argument (2 given)"
     ]
    }
   ],
   "source": [
    "l.append(\"rbr\", \"jay\")"
   ]
  },
  {
   "cell_type": "code",
   "execution_count": 26,
   "id": "070046de-3a08-4c07-9ee0-1639c892c792",
   "metadata": {},
   "outputs": [
    {
     "name": "stdout",
     "output_type": "stream",
     "text": [
      "[1, 2, 3, 4, 5, 'Venky', ['rbr', 'jay']]\n"
     ]
    }
   ],
   "source": [
    "l.append([\"rbr\", \"jay\"])\n",
    "print(l)"
   ]
  },
  {
   "cell_type": "code",
   "execution_count": 27,
   "id": "2af30c40-ed0e-47ca-b216-742640130b4e",
   "metadata": {},
   "outputs": [
    {
     "name": "stdout",
     "output_type": "stream",
     "text": [
      "[1, 2, 3, ('venky', 'ev')]\n"
     ]
    }
   ],
   "source": [
    "a = [1,2,3]\n",
    "a.append(('venky',\"ev\"))\n",
    "print(a)"
   ]
  },
  {
   "cell_type": "code",
   "execution_count": 28,
   "id": "c18be832-9103-40ed-a149-73f96df9d162",
   "metadata": {},
   "outputs": [
    {
     "name": "stdout",
     "output_type": "stream",
     "text": [
      "None\n"
     ]
    }
   ],
   "source": [
    "l = l.append([\"Hari\", \"Sriniwas\"])\n",
    "print(l)"
   ]
  },
  {
   "cell_type": "code",
   "execution_count": 29,
   "id": "ba6af80e-e57c-43ad-97c9-0de8d362c8b2",
   "metadata": {},
   "outputs": [
    {
     "name": "stdout",
     "output_type": "stream",
     "text": [
      "[1, 2, 3, 4, 5]\n",
      "1982878843712\n",
      "140728312630032\n",
      "None\n",
      "[1, 2, 3, 4, 5, 6]\n",
      "1982878843712\n",
      "<class 'list'>\n",
      "None\n",
      "140728312630032\n",
      "<class 'NoneType'>\n"
     ]
    }
   ],
   "source": [
    "numbers = [1,2,3,4,5]\n",
    "print(numbers)\n",
    "print(id(numbers))\n",
    "k = numbers.append(6)\n",
    "print(id(k))\n",
    "print(k)\n",
    "print(numbers)\n",
    "print(id(numbers))\n",
    "print(type(numbers))\n",
    "numbers = numbers.append(7)\n",
    "print(numbers)\n",
    "print(id(numbers))\n",
    "print(type(numbers))"
   ]
  },
  {
   "cell_type": "code",
   "execution_count": 30,
   "id": "b05dd60f-a359-4006-aeb5-71531e43628c",
   "metadata": {},
   "outputs": [
    {
     "name": "stdout",
     "output_type": "stream",
     "text": [
      "[1, 2, 3, 4]\n"
     ]
    }
   ],
   "source": [
    "l = [1,2,3]\n",
    "l.append(4)\n",
    "print(l)"
   ]
  },
  {
   "cell_type": "code",
   "execution_count": 31,
   "id": "6cc4c3eb-558d-44cc-89a9-a10baa9dce9c",
   "metadata": {},
   "outputs": [
    {
     "name": "stdout",
     "output_type": "stream",
     "text": [
      "[1, 2, 3, 4, [5, 6]]\n"
     ]
    }
   ],
   "source": [
    "l.append([5,6])\n",
    "print(l)"
   ]
  },
  {
   "cell_type": "code",
   "execution_count": 33,
   "id": "d1a85992-b7c2-433f-a212-3cd15982eb72",
   "metadata": {},
   "outputs": [
    {
     "name": "stdout",
     "output_type": "stream",
     "text": [
      "['Rohit', 'Jasiwal', 'PANT', 'SKY']\n"
     ]
    }
   ],
   "source": [
    "indian_batting = [\"Rohit\", \"Virat\", \"PANT\",\"SKY\"]\n",
    "indian_batting[1] = \"Jasiwal\"\n",
    "print(indian_batting)"
   ]
  },
  {
   "cell_type": "markdown",
   "id": "c5e95a06-9293-437b-b9d8-f8b0eb7b00a6",
   "metadata": {},
   "source": [
    "### ***insert***\n",
    "#### syntax: insert(index, element)\n",
    "#### - This method is used to add one element at particular index position\n",
    "#### - If index value is more than length of list, element is added either beginning or end based on the positive index or negative index"
   ]
  },
  {
   "cell_type": "code",
   "execution_count": 32,
   "id": "cd4c52f8-fa75-4f70-95c2-a8baede3414c",
   "metadata": {},
   "outputs": [
    {
     "name": "stdout",
     "output_type": "stream",
     "text": [
      "['Rohit', 'Jaiswal', 'Virat', 'PANT', 'SKY']\n"
     ]
    }
   ],
   "source": [
    "indian_batting = [\"Rohit\", \"Virat\", \"PANT\",\"SKY\"]\n",
    "indian_batting.insert(1, \"Jaiswal\")\n",
    "print(indian_batting)"
   ]
  },
  {
   "cell_type": "code",
   "execution_count": 34,
   "id": "79c9f4d3-02c6-4ba5-9637-36460220f50f",
   "metadata": {},
   "outputs": [
    {
     "name": "stdout",
     "output_type": "stream",
     "text": [
      "['Rohit', 'Jaiswal', 'Dhoni', 'Virat', 'PANT', 'SKY']\n"
     ]
    }
   ],
   "source": [
    "indian_batting = [\"Rohit\", \"Virat\", \"PANT\",\"SKY\"]\n",
    "indian_batting.insert(1, \"Jaiswal\") # ro, ja, vi, pa, sky\n",
    "indian_batting.insert(2, \"Dhoni\") # ro, ja, dhoni, vi, pa, sky\n",
    "print(indian_batting)"
   ]
  },
  {
   "cell_type": "code",
   "execution_count": 35,
   "id": "bf21d9ba-4a4a-4aa9-817b-004a9d626912",
   "metadata": {},
   "outputs": [
    {
     "name": "stdout",
     "output_type": "stream",
     "text": [
      "None\n",
      "['Rohit', 'Jaiswal', 'Virat', 'PANT', 'SKY']\n"
     ]
    }
   ],
   "source": [
    "indian_batting = [\"Rohit\", \"Virat\", \"PANT\",\"SKY\"]\n",
    "ind_bat = indian_batting.insert(1, \"Jaiswal\")\n",
    "print(ind_bat)\n",
    "print(indian_batting)"
   ]
  },
  {
   "cell_type": "code",
   "execution_count": 36,
   "id": "3ce3e800-f29f-4327-9ffb-cad3ebe96fa7",
   "metadata": {},
   "outputs": [
    {
     "name": "stdout",
     "output_type": "stream",
     "text": [
      "[1, 2, 3, 4, 5]\n",
      "1982878964992\n",
      "[1, 2, 10, 3, 4, 5]\n",
      "1982878964992\n"
     ]
    }
   ],
   "source": [
    "l = [1,2,3,4,5]\n",
    "print(l)\n",
    "print(id(l))\n",
    "l.insert(2,10)\n",
    "print(l)\n",
    "print(id(l))"
   ]
  },
  {
   "cell_type": "code",
   "execution_count": 37,
   "id": "2620ef56-c80d-49de-85ec-bd638c207ea5",
   "metadata": {},
   "outputs": [
    {
     "name": "stdout",
     "output_type": "stream",
     "text": [
      "[1, 2, 3, 'a']\n"
     ]
    }
   ],
   "source": [
    "l = [1,2,3]\n",
    "l.insert(10, 'a')\n",
    "print(l)"
   ]
  },
  {
   "cell_type": "code",
   "execution_count": 38,
   "id": "c9959dc8-4bd8-4a56-8903-04945afe9d74",
   "metadata": {},
   "outputs": [
    {
     "name": "stdout",
     "output_type": "stream",
     "text": [
      "['a', 1, 2, 3]\n"
     ]
    }
   ],
   "source": [
    "l = [1,2,3]\n",
    "l.insert(-10, 'a')\n",
    "print(l)"
   ]
  },
  {
   "cell_type": "code",
   "execution_count": 39,
   "id": "6bf8b31d-58cb-4b5f-bcdb-43c302cc597b",
   "metadata": {},
   "outputs": [
    {
     "name": "stdout",
     "output_type": "stream",
     "text": [
      "[1, 2, 'cab', 3, 4, 5, 6]\n"
     ]
    }
   ],
   "source": [
    "l = [1,2,3,4,5,6]\n",
    "l.insert(2, \"cab\")\n",
    "print(l)"
   ]
  },
  {
   "cell_type": "code",
   "execution_count": 40,
   "id": "962fb73a-d9b9-4a55-9806-3fa122a5c9c3",
   "metadata": {},
   "outputs": [
    {
     "name": "stdout",
     "output_type": "stream",
     "text": [
      "[1, 2, 3, 4, 'cab', 5, 6]\n"
     ]
    }
   ],
   "source": [
    "l = [1,2,3,4,5,6]\n",
    "l.insert(-2, \"cab\")\n",
    "print(l)"
   ]
  },
  {
   "cell_type": "code",
   "execution_count": 41,
   "id": "8c50c75c-e4bc-477d-a003-05567805fff1",
   "metadata": {},
   "outputs": [
    {
     "name": "stdout",
     "output_type": "stream",
     "text": [
      "[1, 2, 'a', 3, 4, 5, 6]\n"
     ]
    }
   ],
   "source": [
    "l = [1,2,3,4,5,6]\n",
    "l.insert(2, \"a\")\n",
    "print(l)"
   ]
  },
  {
   "cell_type": "code",
   "execution_count": 42,
   "id": "cda50c19-84ff-4289-9f05-7bdb3a8328b2",
   "metadata": {},
   "outputs": [
    {
     "name": "stdout",
     "output_type": "stream",
     "text": [
      "[1, 2, 3, 4, 'a', 5, 6]\n"
     ]
    }
   ],
   "source": [
    "l = [1,2,3,4,5,6]\n",
    "l.insert(-2, \"a\")\n",
    "print(l)"
   ]
  },
  {
   "cell_type": "code",
   "execution_count": 43,
   "id": "c487d594-6423-4013-bfcf-3b284f8e8a89",
   "metadata": {},
   "outputs": [
    {
     "name": "stdout",
     "output_type": "stream",
     "text": [
      "[1, 2, [10, 20, 30], 3, 4, 5]\n"
     ]
    }
   ],
   "source": [
    "l = [1,2,3,4,5]\n",
    "l.insert(2, [10, 20, 30])\n",
    "print(l)"
   ]
  },
  {
   "cell_type": "markdown",
   "id": "e3a5314a-c04b-44ba-871e-aec2d94feb1f",
   "metadata": {},
   "source": [
    "### ***extend***\n",
    "#### syntax: extend(iterable)\n",
    "#### - This method is used to add mutiple values to list at a time\n",
    "#### - It takes only one argument which is of collection data type"
   ]
  },
  {
   "cell_type": "code",
   "execution_count": 44,
   "id": "cefe1a8a-698c-4e34-8f0e-98f38fe8a8c3",
   "metadata": {},
   "outputs": [
    {
     "name": "stdout",
     "output_type": "stream",
     "text": [
      "['Linear Algebra', 'Calculus', 'Python', 'DSA', 'ML']\n"
     ]
    }
   ],
   "source": [
    "subjects = [\"Linear Algebra\", \"Calculus\", \"Python\", \"DSA\", \"ML\"]\n",
    "print(subjects)"
   ]
  },
  {
   "cell_type": "code",
   "execution_count": 45,
   "id": "b01bc430-4b12-4cb4-ae9e-264a21b5e97a",
   "metadata": {},
   "outputs": [
    {
     "name": "stdout",
     "output_type": "stream",
     "text": [
      "['Linear Algebra', 'Calculus', 'Python', 'DSA', 'ML', ['Probability', 'Statistics', 'DBMS']]\n"
     ]
    }
   ],
   "source": [
    "new_subjects = [\"Probability\", \"Statistics\", \"DBMS\"]\n",
    "subjects.append(new_subjects)\n",
    "print(subjects)"
   ]
  },
  {
   "cell_type": "code",
   "execution_count": 46,
   "id": "13de52d4-796f-4837-b608-d467752fd89c",
   "metadata": {},
   "outputs": [
    {
     "name": "stdout",
     "output_type": "stream",
     "text": [
      "['Linear Algebra', 'Calculus', 'Python', 'DSA', 'ML']\n",
      "['Linear Algebra', 'Calculus', 'Python', 'DSA', 'ML', 'Probability', 'Statistics', 'DBMS']\n"
     ]
    }
   ],
   "source": [
    "subjects = [\"Linear Algebra\", \"Calculus\", \"Python\", \"DSA\", \"ML\"]\n",
    "print(subjects)\n",
    "new_subjects = [\"Probability\", \"Statistics\", \"DBMS\"]\n",
    "subjects.extend(new_subjects)\n",
    "print(subjects)"
   ]
  },
  {
   "cell_type": "code",
   "execution_count": 47,
   "id": "8c22f8f5-a97a-457e-a6a6-bade366a69a2",
   "metadata": {},
   "outputs": [
    {
     "name": "stdout",
     "output_type": "stream",
     "text": [
      "['a', 'b', 'c', 'def']\n",
      "['a', 'b', 'c', 'def', 'g', 'h', 'i']\n"
     ]
    }
   ],
   "source": [
    "alpha = [\"a\",\"b\",\"c\"]\n",
    "alpha.append(\"def\")\n",
    "print(alpha)\n",
    "alpha.extend(\"ghi\")\n",
    "print(alpha)"
   ]
  },
  {
   "cell_type": "code",
   "execution_count": 48,
   "id": "eb20a666-2487-43d5-8ebf-58799e18f6b5",
   "metadata": {},
   "outputs": [
    {
     "name": "stdout",
     "output_type": "stream",
     "text": [
      "['a', 'b', 'c', 'def']\n",
      "['a', 'b', 'c', 'def', 'g', 'h', 'i', ' ', 'k', 'l', 'm', ' ', 'n', 'o', 'p']\n"
     ]
    }
   ],
   "source": [
    "alpha = [\"a\",\"b\",\"c\"]\n",
    "alpha.append(\"def\")\n",
    "print(alpha)\n",
    "alpha.extend(\"ghi klm nop\")\n",
    "print(alpha)"
   ]
  },
  {
   "cell_type": "code",
   "execution_count": 49,
   "id": "3bfafdea-d1c1-476a-9744-5dd5a1491c7f",
   "metadata": {},
   "outputs": [
    {
     "name": "stdout",
     "output_type": "stream",
     "text": [
      "[1, 2, 3, 2, 3, 4]\n",
      "[2, 3, 4]\n",
      "None\n"
     ]
    }
   ],
   "source": [
    "a = [1, 2, 3]\n",
    "b = [2, 3, 4]\n",
    "c = a.extend(b)\n",
    "print(a)\n",
    "print(b)\n",
    "print(c)"
   ]
  },
  {
   "cell_type": "code",
   "execution_count": 50,
   "id": "e2c548b9-71c4-4836-9b2b-e0959575d5d3",
   "metadata": {},
   "outputs": [
    {
     "name": "stdout",
     "output_type": "stream",
     "text": [
      "['a', 'b', 'c', 10]\n",
      "['a', 'b', 'c', 10, 10, 20, 30]\n"
     ]
    }
   ],
   "source": [
    "alpha = [\"a\",\"b\",\"c\"]\n",
    "alpha.append(10)\n",
    "print(alpha)\n",
    "alpha.extend((10,20,30))\n",
    "print(alpha)"
   ]
  },
  {
   "cell_type": "code",
   "execution_count": 1,
   "id": "c616fc2e-a405-40a6-abb3-ad99983240c6",
   "metadata": {},
   "outputs": [
    {
     "name": "stdout",
     "output_type": "stream",
     "text": [
      "[1, 2, 3, 4, 10, 20, 30, (100, 200)]\n"
     ]
    }
   ],
   "source": [
    "l = [1, 2, 3, 4]\n",
    "l.extend([10,20,30,(100,200)])\n",
    "print(l)"
   ]
  },
  {
   "cell_type": "code",
   "execution_count": 51,
   "id": "ae9b198e-6761-4b11-b042-4e9b9df9404b",
   "metadata": {},
   "outputs": [
    {
     "name": "stdout",
     "output_type": "stream",
     "text": [
      "['a', 'b', 'c', 10]\n",
      "['a', 'b', 'c', 10, 10, 20, 30]\n"
     ]
    }
   ],
   "source": [
    "alpha = [\"a\",\"b\",\"c\"]\n",
    "alpha.append(10)\n",
    "print(alpha)\n",
    "alpha.extend({10,20,30})\n",
    "print(alpha)"
   ]
  },
  {
   "cell_type": "code",
   "execution_count": 52,
   "id": "2225f5b4-79f5-4bcc-8eef-579a47d671c1",
   "metadata": {},
   "outputs": [
    {
     "name": "stdout",
     "output_type": "stream",
     "text": [
      "c\n",
      "1\n",
      "2\n",
      "a\n"
     ]
    }
   ],
   "source": [
    "s = {1,\"a\",2,\"c\"}\n",
    "for element in s:\n",
    "    print(element)"
   ]
  },
  {
   "cell_type": "markdown",
   "id": "4e2ecabe-4fa2-4037-8fee-90c0c14fc2fb",
   "metadata": {},
   "source": [
    "### ***Taking user input to list***"
   ]
  },
  {
   "cell_type": "code",
   "execution_count": 53,
   "id": "8e128638-c15a-428c-b23f-7f99fcfd59b1",
   "metadata": {},
   "outputs": [
    {
     "name": "stdin",
     "output_type": "stream",
     "text": [
      "Enter the input:  1 2 3 4\n"
     ]
    },
    {
     "name": "stdout",
     "output_type": "stream",
     "text": [
      "['1', '2', '3', '4']\n",
      "4\n",
      "<class 'list'>\n"
     ]
    }
   ],
   "source": [
    "input_user = input(\"Enter the input: \").split()\n",
    "print(input_user)\n",
    "print(len(input_user))\n",
    "print(type(input_user))"
   ]
  },
  {
   "cell_type": "code",
   "execution_count": 54,
   "id": "89750635-87e0-4ad4-a3a3-310a290385b0",
   "metadata": {},
   "outputs": [
    {
     "name": "stdin",
     "output_type": "stream",
     "text": [
      "Enter the size of the list :  5\n",
      "Enter the element 10\n",
      "Enter the element 20\n",
      "Enter the element 199\n",
      "Enter the element 200\n",
      "Enter the element 1\n"
     ]
    },
    {
     "name": "stdout",
     "output_type": "stream",
     "text": [
      "[10, 20, 199, 200, 1]\n"
     ]
    }
   ],
   "source": [
    "n = int(input(\"Enter the size of the list : \"))\n",
    "new_list = []\n",
    "for i in range(n):\n",
    "    new_list.append(int(input(\"Enter the element\")))\n",
    "print(new_list)"
   ]
  },
  {
   "cell_type": "markdown",
   "id": "5f7021b7-198b-4ee2-af0d-ab8a84b95423",
   "metadata": {},
   "source": [
    "### ***Updating list items***\n"
   ]
  },
  {
   "cell_type": "markdown",
   "id": "97c4b9b0-8608-46dc-a8f0-70f8dc91bb91",
   "metadata": {},
   "source": [
    "#### syntax: variable[index] = value\n",
    "#### syntax: variable[start_index : end_index] = list of values"
   ]
  },
  {
   "cell_type": "code",
   "execution_count": 55,
   "id": "fdca4b03-ea12-44ba-9628-84e614098f1b",
   "metadata": {},
   "outputs": [
    {
     "name": "stdout",
     "output_type": "stream",
     "text": [
      "['Rohit', 'Jaiswal', 'Virat', 'Pant', 'Sky', 'Dube', 'Hardik', 'Jaddu']\n",
      "['Rohit', 'Jaiswal', 'Virat', 'Pant', 'Sky', 'Rinku', 'Hardik', 'Jaddu']\n"
     ]
    }
   ],
   "source": [
    "players = [\"Rohit\", \"Jaiswal\", \"Virat\", \"Pant\", \"Sky\", \"Dube\", \"Hardik\", \"Jaddu\"]\n",
    "print(players)\n",
    "players[5] = \"Rinku\"\n",
    "print(players)"
   ]
  },
  {
   "cell_type": "code",
   "execution_count": 56,
   "id": "124726ff-29d6-4e0d-8bdf-076c513ff3d9",
   "metadata": {},
   "outputs": [
    {
     "name": "stdout",
     "output_type": "stream",
     "text": [
      "['Rohit', 'Jaiswal', 'Virat', 'Pant', 'Sky', 'Dube', 'Hardik', 'Jaddu']\n",
      "['Rohit', 'Jaiswal', 'Virat', 'Pant', 'Sky', 'R', 'i', 'n', 'k', 'u']\n"
     ]
    }
   ],
   "source": [
    "players = [\"Rohit\", \"Jaiswal\", \"Virat\", \"Pant\", \"Sky\", \"Dube\", \"Hardik\", \"Jaddu\"]\n",
    "print(players)\n",
    "players[5:] = \"Rinku\"\n",
    "print(players)"
   ]
  },
  {
   "cell_type": "code",
   "execution_count": 58,
   "id": "5a6e183d-1be4-4467-872c-29ba0fc6698d",
   "metadata": {},
   "outputs": [
    {
     "name": "stdout",
     "output_type": "stream",
     "text": [
      "['Rohit', 'Jaiswal', 'Virat', 'Pant', 'Sky', 'Dube', 'Hardik', 'Jaddu']\n",
      "['Rohit', 'Jaiswal', 'Virat', 'Pant', 'Sky', 'Rinku']\n"
     ]
    }
   ],
   "source": [
    "players = [\"Rohit\", \"Jaiswal\", \"Virat\", \"Pant\", \"Sky\", \"Dube\", \"Hardik\", \"Jaddu\"]\n",
    "print(players)\n",
    "players[5:] = [\"Rinku\"]\n",
    "print(players)"
   ]
  },
  {
   "cell_type": "code",
   "execution_count": 59,
   "id": "35884383-3ec3-49f0-a58d-d07be30970bb",
   "metadata": {},
   "outputs": [
    {
     "name": "stdout",
     "output_type": "stream",
     "text": [
      "['Rohit', 'Jaiswal', 'Virat', 'Pant', 'Sky', 'Dube', 'Hardik', 'Jaddu']\n",
      "['Rohit', 'Jaiswal', 'Virat', 'Pant', 'Sky', 'Rinku', 'Tewatia', 'Ashuthosh', 'Shashank']\n"
     ]
    }
   ],
   "source": [
    "players = [\"Rohit\", \"Jaiswal\", \"Virat\", \"Pant\", \"Sky\", \"Dube\", \"Hardik\", \"Jaddu\"]\n",
    "print(players)\n",
    "players[5:] = [\"Rinku\", \"Tewatia\", \"Ashuthosh\", \"Shashank\"]\n",
    "print(players)"
   ]
  },
  {
   "cell_type": "code",
   "execution_count": 60,
   "id": "aa435408-f6eb-4464-a953-4aceb4f731f7",
   "metadata": {},
   "outputs": [
    {
     "name": "stdout",
     "output_type": "stream",
     "text": [
      "['Rohit', 'Jaiswal', 'Virat', 'Pant', 'Sky', 'Dube', 'Hardik', 'Jaddu']\n",
      "['Rohit', 'Jaiswal', 'Virat', 'Pant', 'Sky', 'Rinku', 'Tewatia', 'Ashuthosh', 'Shashank', 'Jaddu']\n"
     ]
    }
   ],
   "source": [
    "players = [\"Rohit\", \"Jaiswal\", \"Virat\", \"Pant\", \"Sky\", \"Dube\", \"Hardik\", \"Jaddu\"]\n",
    "print(players)\n",
    "players[5:7] = [\"Rinku\", \"Tewatia\", \"Ashuthosh\", \"Shashank\"]\n",
    "print(players)"
   ]
  },
  {
   "cell_type": "code",
   "execution_count": 61,
   "id": "228eaa08-3b0d-4a20-8a12-a594a0399b44",
   "metadata": {},
   "outputs": [
    {
     "name": "stdout",
     "output_type": "stream",
     "text": [
      "['Rohit', 'Jaiswal', 'Virat', 'Pant', 'Sky', 'Dube', 'Hardik', 'Jaddu']\n",
      "[]\n",
      "['Rohit', 'Jaiswal', 'Virat', 'Pant', 'Sky', 'Rinku', 'Tewatia', 'Dube', 'Hardik', 'Jaddu']\n"
     ]
    }
   ],
   "source": [
    "players = [\"Rohit\", \"Jaiswal\", \"Virat\", \"Pant\", \"Sky\", \"Dube\", \"Hardik\", \"Jaddu\"]\n",
    "print(players)\n",
    "print(players[5:2])\n",
    "players[5:2] = [\"Rinku\", \"Tewatia\"]\n",
    "print(players)"
   ]
  },
  {
   "cell_type": "markdown",
   "id": "870e8bcf-6730-4bca-a6bc-37cd46a975f9",
   "metadata": {},
   "source": [
    "### ***remove***\n",
    "#### syntax: remove(value)\n",
    "#### - It takes values as argument. If value is repeated more than once then it remove the first occurrence of value in list\n",
    "#### - If value is not present in list, then it throw value error"
   ]
  },
  {
   "cell_type": "code",
   "execution_count": 62,
   "id": "472ff6d2-4cf4-4f7c-bd8a-9f5859ed95a1",
   "metadata": {},
   "outputs": [
    {
     "name": "stdout",
     "output_type": "stream",
     "text": [
      "[1, 2, 3, 4, 5]\n",
      "[1, 2, 4, 5]\n"
     ]
    }
   ],
   "source": [
    "l = [1,2,3,4,5]\n",
    "print(l)\n",
    "l.remove(3)\n",
    "print(l)"
   ]
  },
  {
   "cell_type": "code",
   "execution_count": 63,
   "id": "a1f7c007-b929-4d90-9b78-20736b5b9757",
   "metadata": {},
   "outputs": [
    {
     "name": "stdout",
     "output_type": "stream",
     "text": [
      "[1, 2, 3, 4, 5]\n"
     ]
    },
    {
     "ename": "ValueError",
     "evalue": "list.remove(x): x not in list",
     "output_type": "error",
     "traceback": [
      "\u001b[1;31m---------------------------------------------------------------------------\u001b[0m",
      "\u001b[1;31mValueError\u001b[0m                                Traceback (most recent call last)",
      "Cell \u001b[1;32mIn[63], line 3\u001b[0m\n\u001b[0;32m      1\u001b[0m l \u001b[38;5;241m=\u001b[39m [\u001b[38;5;241m1\u001b[39m,\u001b[38;5;241m2\u001b[39m,\u001b[38;5;241m3\u001b[39m,\u001b[38;5;241m4\u001b[39m,\u001b[38;5;241m5\u001b[39m]\n\u001b[0;32m      2\u001b[0m \u001b[38;5;28mprint\u001b[39m(l)\n\u001b[1;32m----> 3\u001b[0m l\u001b[38;5;241m.\u001b[39mremove(\u001b[38;5;241m6\u001b[39m)\n\u001b[0;32m      4\u001b[0m \u001b[38;5;28mprint\u001b[39m(l)\n",
      "\u001b[1;31mValueError\u001b[0m: list.remove(x): x not in list"
     ]
    }
   ],
   "source": [
    "l = [1,2,3,4,5]\n",
    "print(l)\n",
    "l.remove(6)\n",
    "print(l)"
   ]
  },
  {
   "cell_type": "code",
   "execution_count": 64,
   "id": "fb43633c-dd64-4672-bba2-5ff2b7588109",
   "metadata": {},
   "outputs": [
    {
     "name": "stdout",
     "output_type": "stream",
     "text": [
      "[1, 2, 3, 6, 4, 3, 5, 3]\n",
      "[1, 2, 6, 4, 3, 5, 3]\n"
     ]
    }
   ],
   "source": [
    "l = [1,2,3,6,4,3,5,3]\n",
    "print(l)\n",
    "l.remove(3)\n",
    "print(l)"
   ]
  },
  {
   "cell_type": "code",
   "execution_count": 65,
   "id": "d3d3c747-3a97-4555-aac5-ef0576ecc445",
   "metadata": {},
   "outputs": [
    {
     "name": "stdout",
     "output_type": "stream",
     "text": [
      "[1, 2, 3, 6, 4, 3, 5, 3]\n",
      "None\n",
      "[1, 2, 6, 4, 3, 5, 3]\n"
     ]
    }
   ],
   "source": [
    "l = [1,2,3,6,4,3,5,3]\n",
    "print(l)\n",
    "a = l.remove(3)\n",
    "print(a)\n",
    "print(l)"
   ]
  },
  {
   "cell_type": "markdown",
   "id": "004f6de5-710b-49e2-bf6d-574fe8153980",
   "metadata": {},
   "source": [
    "### ***pop***\n",
    "#### syntax: pop(index)\n",
    "#### - It takes index as argument and it returns the removed value\n",
    "#### - If index is not given by default it take index as -1 and return the last element of list"
   ]
  },
  {
   "cell_type": "code",
   "execution_count": 72,
   "id": "28c5ac67-656f-4a81-b9f5-7764db5a1d4a",
   "metadata": {},
   "outputs": [
    {
     "name": "stdout",
     "output_type": "stream",
     "text": [
      "[1, 2, 3, 4, 5]\n",
      "[1, 2, 3, 5]\n",
      "4\n"
     ]
    }
   ],
   "source": [
    "l = [1,2,3,4,5]\n",
    "print(l)\n",
    "a = l.pop(3)\n",
    "print(l)\n",
    "print(a)"
   ]
  },
  {
   "cell_type": "code",
   "execution_count": 73,
   "id": "0af717a4-98f7-41cf-9176-7a992f03ba8d",
   "metadata": {},
   "outputs": [
    {
     "name": "stdout",
     "output_type": "stream",
     "text": [
      "[1, 2, 3, 4, 5]\n",
      "[1, 2, 3, 4]\n",
      "5\n"
     ]
    }
   ],
   "source": [
    "l = [1,2,3,4,5]\n",
    "print(l)\n",
    "a = l.pop()\n",
    "print(l)\n",
    "print(a)"
   ]
  },
  {
   "cell_type": "code",
   "execution_count": 74,
   "id": "5f5eb4b0-bad6-4aeb-a5f9-a2edb3d12adc",
   "metadata": {},
   "outputs": [
    {
     "name": "stdout",
     "output_type": "stream",
     "text": [
      "[1, 2, 3, 4, 5]\n"
     ]
    },
    {
     "ename": "IndexError",
     "evalue": "pop index out of range",
     "output_type": "error",
     "traceback": [
      "\u001b[1;31m---------------------------------------------------------------------------\u001b[0m",
      "\u001b[1;31mIndexError\u001b[0m                                Traceback (most recent call last)",
      "Cell \u001b[1;32mIn[74], line 3\u001b[0m\n\u001b[0;32m      1\u001b[0m l \u001b[38;5;241m=\u001b[39m [\u001b[38;5;241m1\u001b[39m,\u001b[38;5;241m2\u001b[39m,\u001b[38;5;241m3\u001b[39m,\u001b[38;5;241m4\u001b[39m,\u001b[38;5;241m5\u001b[39m]\n\u001b[0;32m      2\u001b[0m \u001b[38;5;28mprint\u001b[39m(l)\n\u001b[1;32m----> 3\u001b[0m a \u001b[38;5;241m=\u001b[39m l\u001b[38;5;241m.\u001b[39mpop(\u001b[38;5;241m10\u001b[39m)\n\u001b[0;32m      4\u001b[0m \u001b[38;5;28mprint\u001b[39m(l)\n\u001b[0;32m      5\u001b[0m \u001b[38;5;28mprint\u001b[39m(a)\n",
      "\u001b[1;31mIndexError\u001b[0m: pop index out of range"
     ]
    }
   ],
   "source": [
    "l = [1,2,3,4,5]\n",
    "print(l)\n",
    "a = l.pop(10)\n",
    "print(l)\n",
    "print(a)"
   ]
  },
  {
   "cell_type": "markdown",
   "id": "c6e99f23-6ed6-4655-951d-c923c3fbcf03",
   "metadata": {},
   "source": [
    "### ***clear***\n",
    "#### - It uses to empty the list from non empty state"
   ]
  },
  {
   "cell_type": "code",
   "execution_count": 71,
   "id": "0946de11-faa5-472b-a432-dfb5fc04304e",
   "metadata": {},
   "outputs": [
    {
     "name": "stdout",
     "output_type": "stream",
     "text": [
      "[1, 2, 3, 4, 5]\n",
      "[]\n"
     ]
    }
   ],
   "source": [
    "l = [1,2,3,4,5]\n",
    "print(l)\n",
    "l.clear()\n",
    "print(l)"
   ]
  },
  {
   "cell_type": "markdown",
   "id": "81f75dd0-0701-4c50-ad0a-ca31abe804ab",
   "metadata": {},
   "source": [
    "### ***del***\n",
    "#### - It uses to delete an element or mulitple elements from the list at a time"
   ]
  },
  {
   "cell_type": "code",
   "execution_count": 66,
   "id": "f973adbe-444a-431e-9a41-00bb56ebf774",
   "metadata": {},
   "outputs": [
    {
     "name": "stdout",
     "output_type": "stream",
     "text": [
      "[1, 2, 3, 4, 5]\n",
      "[1, 2, 3, 5]\n"
     ]
    }
   ],
   "source": [
    "l = [1,2,3,4,5]\n",
    "print(l)\n",
    "del l[3]\n",
    "print(l)"
   ]
  },
  {
   "cell_type": "code",
   "execution_count": 67,
   "id": "3dee3463-cb1a-49d3-92da-e82b2522acc5",
   "metadata": {},
   "outputs": [
    {
     "name": "stdout",
     "output_type": "stream",
     "text": [
      "[1, 2, 3, 4, 5]\n",
      "[1, 2, 3]\n"
     ]
    }
   ],
   "source": [
    "l = [1,2,3,4,5]\n",
    "print(l)\n",
    "del l[3:]\n",
    "print(l)"
   ]
  },
  {
   "cell_type": "code",
   "execution_count": 68,
   "id": "281fd084-d68c-4ce2-ae53-5250b145870c",
   "metadata": {},
   "outputs": [
    {
     "name": "stdout",
     "output_type": "stream",
     "text": [
      "[1, 2, 3, 4, 5]\n",
      "[1, 5]\n"
     ]
    }
   ],
   "source": [
    "l = [1,2,3,4,5]\n",
    "print(l)\n",
    "del l[1:4]\n",
    "print(l)"
   ]
  },
  {
   "cell_type": "code",
   "execution_count": 69,
   "id": "de9d847a-1596-4954-9fce-b00002aa1596",
   "metadata": {},
   "outputs": [
    {
     "name": "stdout",
     "output_type": "stream",
     "text": [
      "[1, 2, 3, 4, 5]\n",
      "[]\n"
     ]
    }
   ],
   "source": [
    "l = [1,2,3,4,5]\n",
    "print(l)\n",
    "del l[:]\n",
    "print(l)"
   ]
  },
  {
   "cell_type": "code",
   "execution_count": 70,
   "id": "00e8eb12-4d35-46e3-a74c-ea2341570ebe",
   "metadata": {},
   "outputs": [
    {
     "name": "stdout",
     "output_type": "stream",
     "text": [
      "[1, 2, 3, 4, 5]\n"
     ]
    },
    {
     "ename": "NameError",
     "evalue": "name 'l' is not defined",
     "output_type": "error",
     "traceback": [
      "\u001b[1;31m---------------------------------------------------------------------------\u001b[0m",
      "\u001b[1;31mNameError\u001b[0m                                 Traceback (most recent call last)",
      "Cell \u001b[1;32mIn[70], line 4\u001b[0m\n\u001b[0;32m      2\u001b[0m \u001b[38;5;28mprint\u001b[39m(l)\n\u001b[0;32m      3\u001b[0m \u001b[38;5;28;01mdel\u001b[39;00m l \u001b[38;5;66;03m# delete the entire list \u001b[39;00m\n\u001b[1;32m----> 4\u001b[0m \u001b[38;5;28mprint\u001b[39m(l)\n",
      "\u001b[1;31mNameError\u001b[0m: name 'l' is not defined"
     ]
    }
   ],
   "source": [
    "l = [1,2,3,4,5]\n",
    "print(l)\n",
    "del l # delete the entire list \n",
    "print(l)"
   ]
  },
  {
   "cell_type": "markdown",
   "id": "40341c8c-f215-4863-8384-3197aaa1f218",
   "metadata": {},
   "source": [
    "### ***Comprehensions***\n",
    "#### - It is a single statement where we write and represent mulitple line of code in single line of code\n",
    "```\n",
    "syntax:\n",
    "\n",
    "    1. [var for_loop]\n",
    "\n",
    "    2. [var for_loop if_condition]\n",
    "\n",
    "    3. [var if_else for_loop]\n",
    "```"
   ]
  },
  {
   "cell_type": "code",
   "execution_count": 75,
   "id": "198efc0e-307a-474b-bd1e-2e672647713b",
   "metadata": {},
   "outputs": [
    {
     "name": "stdout",
     "output_type": "stream",
     "text": [
      "[1, 2, 3, 4, 5, 6, 7, 8, 9, 10, 11, 12, 13, 14, 15, 16, 17, 18, 19, 20, 21, 22, 23, 24, 25, 26, 27, 28, 29, 30, 31, 32, 33, 34, 35, 36, 37, 38, 39, 40, 41, 42, 43, 44, 45, 46, 47, 48, 49, 50, 51, 52, 53, 54, 55, 56, 57, 58, 59, 60, 61, 62, 63, 64, 65, 66, 67, 68, 69, 70, 71, 72, 73, 74, 75, 76, 77, 78, 79, 80, 81, 82, 83, 84, 85, 86, 87, 88, 89, 90, 91, 92, 93, 94, 95, 96, 97, 98, 99, 100]\n"
     ]
    }
   ],
   "source": [
    "n = []\n",
    "for i in range(1,101):\n",
    "    n.append(i)\n",
    "print(n)"
   ]
  },
  {
   "cell_type": "code",
   "execution_count": 76,
   "id": "46708aff-c578-4c16-96cc-74f716a3b817",
   "metadata": {},
   "outputs": [
    {
     "name": "stdout",
     "output_type": "stream",
     "text": [
      "[1, 2, 3, 4, 5, 6, 7, 8, 9, 10, 11, 12, 13, 14, 15, 16, 17, 18, 19, 20, 21, 22, 23, 24, 25, 26, 27, 28, 29, 30, 31, 32, 33, 34, 35, 36, 37, 38, 39, 40, 41, 42, 43, 44, 45, 46, 47, 48, 49, 50, 51, 52, 53, 54, 55, 56, 57, 58, 59, 60, 61, 62, 63, 64, 65, 66, 67, 68, 69, 70, 71, 72, 73, 74, 75, 76, 77, 78, 79, 80, 81, 82, 83, 84, 85, 86, 87, 88, 89, 90, 91, 92, 93, 94, 95, 96, 97, 98, 99, 100]\n"
     ]
    }
   ],
   "source": [
    "l = [i for i in range(1,101)]\n",
    "print(l)"
   ]
  },
  {
   "cell_type": "code",
   "execution_count": 77,
   "id": "5c5ddbd0-fa16-40c8-8230-93f117a9d306",
   "metadata": {},
   "outputs": [
    {
     "name": "stdout",
     "output_type": "stream",
     "text": [
      "[2, 4, 6, 8]\n"
     ]
    }
   ],
   "source": [
    "l = [i*2 for i in range(1,5)]\n",
    "print(l)"
   ]
  },
  {
   "cell_type": "code",
   "execution_count": 78,
   "id": "26818f9b-bce8-4b42-924a-ea3f0d269a03",
   "metadata": {},
   "outputs": [
    {
     "name": "stdout",
     "output_type": "stream",
     "text": [
      "[2, 4, 6, 8, 10]\n"
     ]
    }
   ],
   "source": [
    "n = []\n",
    "for i in range(1,11):\n",
    "    if i%2 == 0:\n",
    "        n.append(i)\n",
    "print(n)"
   ]
  },
  {
   "cell_type": "code",
   "execution_count": 79,
   "id": "bc5400e9-c6df-4f3c-a9a5-4c574c097be9",
   "metadata": {},
   "outputs": [
    {
     "name": "stdout",
     "output_type": "stream",
     "text": [
      "[2, 4, 6, 8, 10]\n"
     ]
    }
   ],
   "source": [
    "l = [i for i in range(1,11) if i%2==0]\n",
    "print(l)"
   ]
  },
  {
   "cell_type": "code",
   "execution_count": 80,
   "id": "f2d372b1-8cb2-4f61-ab61-b79bb4094efa",
   "metadata": {},
   "outputs": [
    {
     "ename": "SyntaxError",
     "evalue": "invalid syntax (1031434063.py, line 6)",
     "output_type": "error",
     "traceback": [
      "\u001b[1;36m  Cell \u001b[1;32mIn[80], line 6\u001b[1;36m\u001b[0m\n\u001b[1;33m    l = [i+5 for i in range(1,7) if i%2==0 else i+10]\u001b[0m\n\u001b[1;37m                                           ^\u001b[0m\n\u001b[1;31mSyntaxError\u001b[0m\u001b[1;31m:\u001b[0m invalid syntax\n"
     ]
    }
   ],
   "source": [
    "# if even numbers add 5 to it \n",
    "# else add 10 to it \n",
    "# [1,2,3,4,5,6]\n",
    "# [11,7,13,9,15,11]\n",
    "\n",
    "l = [i+5 for i in range(1,7) if i%2==0 else i+10]\n",
    "print(l)"
   ]
  },
  {
   "cell_type": "code",
   "execution_count": 81,
   "id": "dae448fb-ec82-4489-bf09-936964c447df",
   "metadata": {},
   "outputs": [
    {
     "name": "stdout",
     "output_type": "stream",
     "text": [
      "[11, 7, 13, 9, 15, 11, 17, 13, 19]\n"
     ]
    }
   ],
   "source": [
    "l = [i+5 if i%2==0 else i+10 for i in range(1,10)]\n",
    "print(l)"
   ]
  },
  {
   "cell_type": "code",
   "execution_count": 82,
   "id": "0e904762-6889-463a-b175-1a7b124beaa4",
   "metadata": {},
   "outputs": [
    {
     "name": "stdout",
     "output_type": "stream",
     "text": [
      "[(1, 3), (1, 4), (2, 2), (2, 3), (2, 4), (3, 2), (3, 3), (3, 4)]\n"
     ]
    }
   ],
   "source": [
    "l = [1,2,3]\n",
    "m = [2,3,4]\n",
    "n = []\n",
    "for i in l:\n",
    "    for j in m:\n",
    "        if i+j>3:\n",
    "            n.append((i,j))\n",
    "print(n)"
   ]
  },
  {
   "cell_type": "markdown",
   "id": "f1bc8914-556c-4cf0-933a-34662ec58311",
   "metadata": {},
   "source": [
    "### ***copy methods***\n",
    "#### - shallow copy\n",
    "#### - deep copy"
   ]
  },
  {
   "cell_type": "code",
   "execution_count": 83,
   "id": "222d2fe2-431f-4f6a-9227-e033bee3e0c1",
   "metadata": {},
   "outputs": [
    {
     "name": "stdout",
     "output_type": "stream",
     "text": [
      "[1, 2, 3, 4, 5]\n",
      "[1, 2, 3, 4, 5]\n",
      "1982879463616\n",
      "1982879463616\n"
     ]
    }
   ],
   "source": [
    "l = [1,2,3,4,5]\n",
    "m = l \n",
    "print(m)\n",
    "print(l)\n",
    "print(id(m))\n",
    "print(id(l))"
   ]
  },
  {
   "cell_type": "code",
   "execution_count": 84,
   "id": "a55f0e15-a80c-4a95-abab-72427c856922",
   "metadata": {},
   "outputs": [
    {
     "name": "stdout",
     "output_type": "stream",
     "text": [
      "[1000, 2, 3, 4, 5]\n",
      "[1000, 2, 3, 4, 5]\n"
     ]
    }
   ],
   "source": [
    "l[0] = 1000 \n",
    "print(m)\n",
    "print(l)"
   ]
  },
  {
   "cell_type": "code",
   "execution_count": 85,
   "id": "450609a9-0bc5-489a-a502-204234eddb0e",
   "metadata": {},
   "outputs": [
    {
     "name": "stdout",
     "output_type": "stream",
     "text": [
      "1982879453312\n",
      "1982879285440\n"
     ]
    }
   ],
   "source": [
    "a = [1,2,3]\n",
    "b = [1,2,3]\n",
    "print(id(a))\n",
    "print(id(b))"
   ]
  },
  {
   "cell_type": "markdown",
   "id": "01ed301a-9803-42b6-abcf-be6b8b0d64fd",
   "metadata": {},
   "source": [
    "### ***shallow copy***"
   ]
  },
  {
   "cell_type": "code",
   "execution_count": 86,
   "id": "4517a7c6-dc0c-410b-86f0-9c84dc056add",
   "metadata": {},
   "outputs": [
    {
     "name": "stdout",
     "output_type": "stream",
     "text": [
      "[1, 2, 3, 4, 5]\n",
      "[1, 2, 3, 4, 5]\n",
      "1982879506880\n",
      "1982879261312\n",
      "[1000, 2, 3, 4, 5]\n",
      "[1, 2, 3, 4, 5]\n"
     ]
    }
   ],
   "source": [
    "l = [1,2,3,4,5]\n",
    "m = l.copy()\n",
    "print(m)\n",
    "print(l)\n",
    "print(id(m))\n",
    "print(id(l))\n",
    "l[0] = 1000 \n",
    "print(l)\n",
    "print(m)"
   ]
  },
  {
   "cell_type": "code",
   "execution_count": 87,
   "id": "aa66bc89-f0db-4bbc-8f26-c7d0eaffe5c8",
   "metadata": {},
   "outputs": [
    {
     "name": "stdout",
     "output_type": "stream",
     "text": [
      "[1, 2, 3, ['a', 'b', 'c']]\n",
      "[1, 2, 3, ['a', 'b', 'c']]\n",
      "1982879429440\n",
      "1982879430528\n",
      "[1, 2, 3, ['a', 'Krishna', 'c']]\n",
      "[1, 2, 3, ['a', 'Krishna', 'c']]\n",
      "1982879429440\n",
      "1982879430528\n"
     ]
    }
   ],
   "source": [
    "sub_list = [\"a\",\"b\",\"c\"]\n",
    "l = [1,2,3,sub_list]\n",
    "m = l.copy()\n",
    "print(l)\n",
    "print(m)\n",
    "print(id(l))\n",
    "print(id(m))\n",
    "sub_list[1] = \"Krishna\"\n",
    "print(l)\n",
    "print(m)\n",
    "print(id(l))\n",
    "print(id(m))"
   ]
  },
  {
   "cell_type": "code",
   "execution_count": 5,
   "id": "d0e54f70-5dfc-4a9e-a671-9518f6681d3a",
   "metadata": {},
   "outputs": [
    {
     "name": "stdout",
     "output_type": "stream",
     "text": [
      "[1, 2, 3, ['a', 'b', 'c']]\n",
      "[1, 2, 3, ['a', 'b', 'c']]\n",
      "2643053839744\n",
      "2643053842432\n",
      "2643053839936\n",
      "2643053839936\n",
      "[1, 2, 3, ['a', 'Krishna', 'c']]\n",
      "[1, 2, 3, ['a', 'Krishna', 'c']]\n",
      "2643053839744\n",
      "2643053842432\n",
      "2643053839936\n",
      "2643053839936\n"
     ]
    }
   ],
   "source": [
    "sub_list = [\"a\",\"b\",\"c\"]\n",
    "l = [1,2,3,sub_list]\n",
    "m = l.copy()\n",
    "print(l)\n",
    "print(m)\n",
    "print(id(l))\n",
    "print(id(m))\n",
    "print(id(l[3]))\n",
    "print(id(m[3]))\n",
    "sub_list[1] = \"Krishna\"\n",
    "print(l)\n",
    "print(m)\n",
    "print(id(l))\n",
    "print(id(m))\n",
    "print(id(l[3]))\n",
    "print(id(m[3]))"
   ]
  },
  {
   "cell_type": "markdown",
   "id": "b39c8085-f448-4b9f-8be6-c3fba4557801",
   "metadata": {},
   "source": [
    "### ***deep copy***"
   ]
  },
  {
   "cell_type": "code",
   "execution_count": 6,
   "id": "723fd2d0-81b4-445c-9929-7c21e3c96603",
   "metadata": {},
   "outputs": [
    {
     "name": "stdout",
     "output_type": "stream",
     "text": [
      "[1, 2, 3, ['a', 'b', 'c']]\n",
      "[1, 2, 3, ['a', 'b', 'c']]\n",
      "2643053837376\n",
      "2643053842624\n",
      "2643053516352\n",
      "2643053642432\n",
      "[1, 'krishna', 3, ['a', 'b', 'c']]\n",
      "[1, 2, 3, ['a', 'b', 'c']]\n",
      "2643053837376\n",
      "2643053842624\n",
      "2643053516352\n",
      "2643053642432\n"
     ]
    }
   ],
   "source": [
    "import copy\n",
    "sub_list = [\"a\",\"b\",\"c\"]\n",
    "l = [1,2,3,sub_list]\n",
    "m = copy.deepcopy(l)\n",
    "print(l)\n",
    "print(m)\n",
    "print(id(l))\n",
    "print(id(m))\n",
    "print(id(l[3]))\n",
    "print(id(m[3]))\n",
    "l[1] = \"krishna\"\n",
    "print(l)\n",
    "print(m)\n",
    "print(id(l))\n",
    "print(id(m))\n",
    "print(id(l[3]))\n",
    "print(id(m[3]))"
   ]
  },
  {
   "cell_type": "code",
   "execution_count": 88,
   "id": "13515d4f-af82-4234-b67f-8a65a63d5b90",
   "metadata": {},
   "outputs": [
    {
     "name": "stdout",
     "output_type": "stream",
     "text": [
      "[1, 2, 3, ['a', 'b', 'c']]\n",
      "[1, 2, 3, ['a', 'b', 'c']]\n",
      "1982879430720\n",
      "1982879410368\n",
      "[1, 2, 3, ['a', 'krishna', 'c']]\n",
      "[1, 2, 3, ['a', 'b', 'c']]\n",
      "1982879430720\n",
      "1982879410368\n"
     ]
    }
   ],
   "source": [
    "import copy\n",
    "sub_list = [\"a\",\"b\",\"c\"]\n",
    "l = [1,2,3,sub_list]\n",
    "m = copy.deepcopy(l)\n",
    "print(l)\n",
    "print(m)\n",
    "print(id(l))\n",
    "print(id(m))\n",
    "sub_list[1] = \"krishna\"\n",
    "print(l)\n",
    "print(m)\n",
    "print(id(l))\n",
    "print(id(m))"
   ]
  }
 ],
 "metadata": {
  "kernelspec": {
   "display_name": "Python 3 (ipykernel)",
   "language": "python",
   "name": "python3"
  },
  "language_info": {
   "codemirror_mode": {
    "name": "ipython",
    "version": 3
   },
   "file_extension": ".py",
   "mimetype": "text/x-python",
   "name": "python",
   "nbconvert_exporter": "python",
   "pygments_lexer": "ipython3",
   "version": "3.11.7"
  }
 },
 "nbformat": 4,
 "nbformat_minor": 5
}
