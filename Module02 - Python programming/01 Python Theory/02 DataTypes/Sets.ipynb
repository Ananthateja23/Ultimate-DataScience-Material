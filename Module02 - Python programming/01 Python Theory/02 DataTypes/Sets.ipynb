{
 "cells": [
  {
   "cell_type": "markdown",
   "id": "53f20df1-7e15-4e17-8420-010ab0648944",
   "metadata": {},
   "source": [
    "### ***Sets***\n",
    "\n",
    "#### 1. Initialize a set\n",
    "#### 2. Accessing set items\n",
    "#### 3. Adding items to the set\n",
    "#### 4. Remove items from the set\n",
    "#### 5. Set operation \n",
    "#### - union\n",
    "#### - Intersection\n",
    "#### - difference\n",
    "#### - subset, superset, disjoint"
   ]
  },
  {
   "cell_type": "code",
   "execution_count": 1,
   "id": "d3e82205-2ae4-4a43-81ab-bce226108fb4",
   "metadata": {},
   "outputs": [
    {
     "name": "stdout",
     "output_type": "stream",
     "text": [
      "{}\n",
      "<class 'dict'>\n"
     ]
    }
   ],
   "source": [
    "# initializing a set \n",
    "s = {}\n",
    "print(s)\n",
    "print(type(s))"
   ]
  },
  {
   "cell_type": "code",
   "execution_count": 2,
   "id": "2a20257d-f978-437a-861b-91c75e616acf",
   "metadata": {},
   "outputs": [
    {
     "name": "stdout",
     "output_type": "stream",
     "text": [
      "{1}\n",
      "<class 'set'>\n"
     ]
    }
   ],
   "source": [
    "s = {1}\n",
    "print(s)\n",
    "print(type(s))"
   ]
  },
  {
   "cell_type": "code",
   "execution_count": 3,
   "id": "2c5561ca-f688-41da-80c5-319d5c0c501a",
   "metadata": {},
   "outputs": [
    {
     "name": "stdout",
     "output_type": "stream",
     "text": [
      "set()\n",
      "<class 'set'>\n"
     ]
    }
   ],
   "source": [
    "s = set()\n",
    "print(s)\n",
    "print(type(s))"
   ]
  },
  {
   "cell_type": "markdown",
   "id": "74a3200b-beeb-4daf-b849-2c3f2d93dce5",
   "metadata": {},
   "source": [
    "### ***Accessing set items***"
   ]
  },
  {
   "cell_type": "code",
   "execution_count": 14,
   "id": "6c829afb-bc76-4f30-b957-9a1d2620213a",
   "metadata": {},
   "outputs": [
    {
     "ename": "TypeError",
     "evalue": "'set' object is not subscriptable",
     "output_type": "error",
     "traceback": [
      "\u001b[1;31m---------------------------------------------------------------------------\u001b[0m",
      "\u001b[1;31mTypeError\u001b[0m                                 Traceback (most recent call last)",
      "Cell \u001b[1;32mIn[14], line 2\u001b[0m\n\u001b[0;32m      1\u001b[0m s \u001b[38;5;241m=\u001b[39m {\u001b[38;5;124m\"\u001b[39m\u001b[38;5;124mVenky\u001b[39m\u001b[38;5;124m\"\u001b[39m, \u001b[38;5;124m\"\u001b[39m\u001b[38;5;124mRajini\u001b[39m\u001b[38;5;124m\"\u001b[39m, \u001b[38;5;124m\"\u001b[39m\u001b[38;5;124mKamal\u001b[39m\u001b[38;5;124m\"\u001b[39m, \u001b[38;5;124m\"\u001b[39m\u001b[38;5;124mAllu Arjun\u001b[39m\u001b[38;5;124m\"\u001b[39m, \u001b[38;5;124m\"\u001b[39m\u001b[38;5;124mRamcharan\u001b[39m\u001b[38;5;124m\"\u001b[39m}\n\u001b[1;32m----> 2\u001b[0m s[\u001b[38;5;241m0\u001b[39m]\n",
      "\u001b[1;31mTypeError\u001b[0m: 'set' object is not subscriptable"
     ]
    }
   ],
   "source": [
    "s = {\"Venky\", \"Rajini\", \"Kamal\", \"Allu Arjun\", \"Ramcharan\"}\n",
    "s[0]"
   ]
  },
  {
   "cell_type": "code",
   "execution_count": 15,
   "id": "322299b5-32a9-416c-b5b1-ec9ba992de62",
   "metadata": {},
   "outputs": [
    {
     "data": {
      "text/plain": [
       "True"
      ]
     },
     "execution_count": 15,
     "metadata": {},
     "output_type": "execute_result"
    }
   ],
   "source": [
    "\"Venky\" in s"
   ]
  },
  {
   "cell_type": "markdown",
   "id": "a593ce15-29f1-4a57-bad1-69868e8c7c90",
   "metadata": {},
   "source": [
    "### ***Adding items into set***"
   ]
  },
  {
   "cell_type": "markdown",
   "id": "ce613b9f-ac25-4b91-8901-70d24dfc5f75",
   "metadata": {},
   "source": [
    "### ***add***\n",
    "#### syntax: add(value)\n",
    "#### - It is used to add one value at a time into set "
   ]
  },
  {
   "cell_type": "code",
   "execution_count": 4,
   "id": "3a731627-90d1-49d3-a34d-06989cf634da",
   "metadata": {},
   "outputs": [
    {
     "name": "stdout",
     "output_type": "stream",
     "text": [
      "{1, 2, 3, 4, 5}\n",
      "2272844632064\n",
      "{1, 2, 3, 4, 5, 8}\n",
      "2272844632064\n"
     ]
    }
   ],
   "source": [
    "s = {1,2,3,4,5}\n",
    "print(s)\n",
    "print(id(s))\n",
    "s.add(8)\n",
    "print(s)\n",
    "print(id(s))"
   ]
  },
  {
   "cell_type": "code",
   "execution_count": 5,
   "id": "f4cfb9d5-e52f-4881-9183-509b6bf1040c",
   "metadata": {},
   "outputs": [
    {
     "ename": "TypeError",
     "evalue": "unhashable type: 'list'",
     "output_type": "error",
     "traceback": [
      "\u001b[1;31m---------------------------------------------------------------------------\u001b[0m",
      "\u001b[1;31mTypeError\u001b[0m                                 Traceback (most recent call last)",
      "Cell \u001b[1;32mIn[5], line 1\u001b[0m\n\u001b[1;32m----> 1\u001b[0m s \u001b[38;5;241m=\u001b[39m {\u001b[38;5;241m1\u001b[39m,\u001b[38;5;241m2\u001b[39m,\u001b[38;5;241m3\u001b[39m,\u001b[38;5;241m4\u001b[39m,\u001b[38;5;241m5\u001b[39m,[\u001b[38;5;241m1\u001b[39m,\u001b[38;5;241m2\u001b[39m]}\n\u001b[0;32m      2\u001b[0m \u001b[38;5;28mprint\u001b[39m(s)\n",
      "\u001b[1;31mTypeError\u001b[0m: unhashable type: 'list'"
     ]
    }
   ],
   "source": [
    "s = {1,2,3,4,5,[1,2]}\n",
    "print(s)"
   ]
  },
  {
   "cell_type": "code",
   "execution_count": 6,
   "id": "2f71ddcc-47f7-40b2-94df-5a97a8055b72",
   "metadata": {},
   "outputs": [
    {
     "ename": "TypeError",
     "evalue": "unhashable type: 'set'",
     "output_type": "error",
     "traceback": [
      "\u001b[1;31m---------------------------------------------------------------------------\u001b[0m",
      "\u001b[1;31mTypeError\u001b[0m                                 Traceback (most recent call last)",
      "Cell \u001b[1;32mIn[6], line 1\u001b[0m\n\u001b[1;32m----> 1\u001b[0m s \u001b[38;5;241m=\u001b[39m {\u001b[38;5;241m1\u001b[39m,\u001b[38;5;241m2\u001b[39m,\u001b[38;5;241m3\u001b[39m,\u001b[38;5;241m4\u001b[39m,\u001b[38;5;241m5\u001b[39m,{\u001b[38;5;241m1\u001b[39m,\u001b[38;5;241m2\u001b[39m}}\n\u001b[0;32m      2\u001b[0m \u001b[38;5;28mprint\u001b[39m(s)\n",
      "\u001b[1;31mTypeError\u001b[0m: unhashable type: 'set'"
     ]
    }
   ],
   "source": [
    "s = {1,2,3,4,5,{1,2}}\n",
    "print(s)"
   ]
  },
  {
   "cell_type": "code",
   "execution_count": 7,
   "id": "d2467cb2-1e3f-44bb-9d18-aa3e392695d5",
   "metadata": {},
   "outputs": [
    {
     "ename": "TypeError",
     "evalue": "unhashable type: 'dict'",
     "output_type": "error",
     "traceback": [
      "\u001b[1;31m---------------------------------------------------------------------------\u001b[0m",
      "\u001b[1;31mTypeError\u001b[0m                                 Traceback (most recent call last)",
      "Cell \u001b[1;32mIn[7], line 1\u001b[0m\n\u001b[1;32m----> 1\u001b[0m s \u001b[38;5;241m=\u001b[39m {\u001b[38;5;241m1\u001b[39m,\u001b[38;5;241m2\u001b[39m,\u001b[38;5;241m3\u001b[39m,\u001b[38;5;241m4\u001b[39m,\u001b[38;5;241m5\u001b[39m,{\u001b[38;5;241m1\u001b[39m:\u001b[38;5;241m2\u001b[39m,\u001b[38;5;241m2\u001b[39m:\u001b[38;5;241m4\u001b[39m}}\n\u001b[0;32m      2\u001b[0m \u001b[38;5;28mprint\u001b[39m(s)\n",
      "\u001b[1;31mTypeError\u001b[0m: unhashable type: 'dict'"
     ]
    }
   ],
   "source": [
    "s = {1,2,3,4,5,{1:2,2:4}}\n",
    "print(s)"
   ]
  },
  {
   "cell_type": "code",
   "execution_count": 8,
   "id": "6696edfd-b9b5-4571-aab0-0314d46b6ff4",
   "metadata": {},
   "outputs": [
    {
     "name": "stdout",
     "output_type": "stream",
     "text": [
      "{2, 3, (2, 3, 5)}\n"
     ]
    }
   ],
   "source": [
    "s = {2,3,(2,3,5)}\n",
    "print(s)"
   ]
  },
  {
   "cell_type": "code",
   "execution_count": 9,
   "id": "a890007c-823e-4df3-8f00-bf433e9484ad",
   "metadata": {},
   "outputs": [
    {
     "ename": "TypeError",
     "evalue": "unhashable type: 'list'",
     "output_type": "error",
     "traceback": [
      "\u001b[1;31m---------------------------------------------------------------------------\u001b[0m",
      "\u001b[1;31mTypeError\u001b[0m                                 Traceback (most recent call last)",
      "Cell \u001b[1;32mIn[9], line 2\u001b[0m\n\u001b[0;32m      1\u001b[0m t \u001b[38;5;241m=\u001b[39m (\u001b[38;5;241m2\u001b[39m,\u001b[38;5;241m3\u001b[39m,\u001b[38;5;241m4\u001b[39m,[\u001b[38;5;241m3\u001b[39m,\u001b[38;5;241m5\u001b[39m])\n\u001b[1;32m----> 2\u001b[0m s \u001b[38;5;241m=\u001b[39m {\u001b[38;5;241m1\u001b[39m,\u001b[38;5;241m2\u001b[39m,t}\n\u001b[0;32m      3\u001b[0m \u001b[38;5;28mprint\u001b[39m(s)\n",
      "\u001b[1;31mTypeError\u001b[0m: unhashable type: 'list'"
     ]
    }
   ],
   "source": [
    "t = (2,3,4,[3,5])\n",
    "s = {1,2,t}\n",
    "print(s)"
   ]
  },
  {
   "cell_type": "code",
   "execution_count": 10,
   "id": "8df5a1b9-4cf5-4b15-9119-ca469d504a86",
   "metadata": {},
   "outputs": [
    {
     "name": "stdout",
     "output_type": "stream",
     "text": [
      "{1}\n"
     ]
    }
   ],
   "source": [
    "# 1 , 1.0, True \n",
    "# 0, 0.0, False \n",
    "# above ones are treated as same in set \n",
    "s = {1, True}\n",
    "print(s)"
   ]
  },
  {
   "cell_type": "code",
   "execution_count": 11,
   "id": "b999d5fe-3fc5-4e03-9337-90431a69dde0",
   "metadata": {},
   "outputs": [
    {
     "data": {
      "text/plain": [
       "1"
      ]
     },
     "execution_count": 11,
     "metadata": {},
     "output_type": "execute_result"
    }
   ],
   "source": [
    "hash(1)"
   ]
  },
  {
   "cell_type": "code",
   "execution_count": 12,
   "id": "fe7e846d-d0bb-41a1-af8a-fe415f5adb94",
   "metadata": {},
   "outputs": [
    {
     "data": {
      "text/plain": [
       "1"
      ]
     },
     "execution_count": 12,
     "metadata": {},
     "output_type": "execute_result"
    }
   ],
   "source": [
    "hash(True)"
   ]
  },
  {
   "cell_type": "code",
   "execution_count": 13,
   "id": "c184313e-c93c-4766-9c46-85c33ffd569a",
   "metadata": {},
   "outputs": [
    {
     "ename": "TypeError",
     "evalue": "unhashable type: 'list'",
     "output_type": "error",
     "traceback": [
      "\u001b[1;31m---------------------------------------------------------------------------\u001b[0m",
      "\u001b[1;31mTypeError\u001b[0m                                 Traceback (most recent call last)",
      "Cell \u001b[1;32mIn[13], line 1\u001b[0m\n\u001b[1;32m----> 1\u001b[0m \u001b[38;5;28mhash\u001b[39m((\u001b[38;5;241m1\u001b[39m,\u001b[38;5;241m2\u001b[39m,\u001b[38;5;241m3\u001b[39m,[\u001b[38;5;241m12\u001b[39m,\u001b[38;5;241m3\u001b[39m]))\n",
      "\u001b[1;31mTypeError\u001b[0m: unhashable type: 'list'"
     ]
    }
   ],
   "source": [
    "hash((1,2,3,[12,3]))"
   ]
  },
  {
   "cell_type": "code",
   "execution_count": 17,
   "id": "99ae81f3-150d-40d4-a039-5fd0b542257b",
   "metadata": {},
   "outputs": [
    {
     "name": "stdout",
     "output_type": "stream",
     "text": [
      "{40, 10, 20, 30}\n"
     ]
    }
   ],
   "source": [
    "# adding a element to set and updating a set \n",
    "s = {10,20,30}\n",
    "s.add(40)\n",
    "print(s)"
   ]
  },
  {
   "cell_type": "code",
   "execution_count": 18,
   "id": "76ffb2c4-7ed3-4abc-88ab-aa90c79a8993",
   "metadata": {},
   "outputs": [
    {
     "ename": "TypeError",
     "evalue": "set.add() takes exactly one argument (3 given)",
     "output_type": "error",
     "traceback": [
      "\u001b[1;31m---------------------------------------------------------------------------\u001b[0m",
      "\u001b[1;31mTypeError\u001b[0m                                 Traceback (most recent call last)",
      "Cell \u001b[1;32mIn[18], line 1\u001b[0m\n\u001b[1;32m----> 1\u001b[0m s\u001b[38;5;241m.\u001b[39madd(\u001b[38;5;241m70\u001b[39m,\u001b[38;5;241m50\u001b[39m,\u001b[38;5;241m60\u001b[39m)\n\u001b[0;32m      2\u001b[0m \u001b[38;5;28mprint\u001b[39m(s)\n",
      "\u001b[1;31mTypeError\u001b[0m: set.add() takes exactly one argument (3 given)"
     ]
    }
   ],
   "source": [
    "s.add(70,50,60)\n",
    "print(s)"
   ]
  },
  {
   "cell_type": "code",
   "execution_count": 19,
   "id": "ede8ecab-319b-461e-9c04-ae41156c3abe",
   "metadata": {},
   "outputs": [
    {
     "name": "stdout",
     "output_type": "stream",
     "text": [
      "{40, 10, 20, (70, 50, 60), 30}\n"
     ]
    }
   ],
   "source": [
    "s.add((70,50,60))\n",
    "print(s)"
   ]
  },
  {
   "cell_type": "code",
   "execution_count": 20,
   "id": "26ab36b8-91e5-46af-a78b-31f6dc9f9e4b",
   "metadata": {},
   "outputs": [
    {
     "name": "stdout",
     "output_type": "stream",
     "text": [
      "{40, 10, (10, 20, 30), 20, (70, 50, 60), 30}\n"
     ]
    }
   ],
   "source": [
    "s.add((10,20,30))\n",
    "print(s)"
   ]
  },
  {
   "cell_type": "markdown",
   "id": "7a5215f1-20dc-4749-950c-31fc5713a90f",
   "metadata": {},
   "source": [
    "### ***Update***\n",
    "#### update(iterable)\n",
    "#### - It is used to add multiple values at a time into set \n",
    "#### - It accepts only collection datatype as input"
   ]
  },
  {
   "cell_type": "code",
   "execution_count": 21,
   "id": "298be532-f6ea-46ff-af87-c34cf68a4ada",
   "metadata": {},
   "outputs": [
    {
     "name": "stdout",
     "output_type": "stream",
     "text": [
      "{50, 20, 40, 10, 60, 30}\n"
     ]
    }
   ],
   "source": [
    "s = {10,20,30}\n",
    "# update \n",
    "t = {40,50,60}\n",
    "s.update(t) # {10,20,30,40,50,60}\n",
    "print(s)"
   ]
  },
  {
   "cell_type": "code",
   "execution_count": 22,
   "id": "68e1e260-771b-46a8-afd1-6e3dc8239757",
   "metadata": {},
   "outputs": [
    {
     "data": {
      "text/plain": [
       "{10, 20, 30, 40, 50, 60}"
      ]
     },
     "execution_count": 22,
     "metadata": {},
     "output_type": "execute_result"
    }
   ],
   "source": [
    "s.union(t)"
   ]
  },
  {
   "cell_type": "code",
   "execution_count": 23,
   "id": "722e6f7b-f882-4075-ae5e-adf8e2765f6c",
   "metadata": {},
   "outputs": [
    {
     "data": {
      "text/plain": [
       "{1, 2, 3, 4, 5, 6}"
      ]
     },
     "execution_count": 23,
     "metadata": {},
     "output_type": "execute_result"
    }
   ],
   "source": [
    "s = {1,2,3}\n",
    "t = {4,5,6}\n",
    "s.union(t)"
   ]
  },
  {
   "cell_type": "code",
   "execution_count": 24,
   "id": "1db3d3c0-9396-45df-b84a-7ec2a51dea96",
   "metadata": {},
   "outputs": [
    {
     "name": "stdout",
     "output_type": "stream",
     "text": [
      "{1, 2, 3}\n",
      "{4, 5, 6}\n"
     ]
    }
   ],
   "source": [
    "print(s)\n",
    "print(t)"
   ]
  },
  {
   "cell_type": "code",
   "execution_count": 25,
   "id": "304f6e3d-1d53-409d-a139-13afb00c0935",
   "metadata": {},
   "outputs": [
    {
     "data": {
      "text/plain": [
       "{1, 2, 3, 4, 5, 6}"
      ]
     },
     "execution_count": 25,
     "metadata": {},
     "output_type": "execute_result"
    }
   ],
   "source": [
    "s = {1,2,3}\n",
    "t = {4,5,6}\n",
    "s.update(t)\n",
    "s"
   ]
  },
  {
   "cell_type": "code",
   "execution_count": 26,
   "id": "6223de4e-5061-4a71-9b2f-eea29e560a4d",
   "metadata": {},
   "outputs": [
    {
     "name": "stdout",
     "output_type": "stream",
     "text": [
      "{1, 2, 3, 4, 5, 6, 10, 20, 30}\n",
      "[10, 20, 30]\n"
     ]
    }
   ],
   "source": [
    "t2 = [10,20,30]\n",
    "s.update(t2)\n",
    "print(s)\n",
    "print(t2)"
   ]
  },
  {
   "cell_type": "code",
   "execution_count": 29,
   "id": "6648a557-ebc4-4081-a8ed-357b7a7923ef",
   "metadata": {},
   "outputs": [
    {
     "data": {
      "text/plain": [
       "{1, 2, 3, 4, 5, 6, 10, 20, 30}"
      ]
     },
     "execution_count": 29,
     "metadata": {},
     "output_type": "execute_result"
    }
   ],
   "source": [
    "s.union(t2)"
   ]
  },
  {
   "cell_type": "code",
   "execution_count": 30,
   "id": "02186283-b680-4618-a11a-4b538130c6f4",
   "metadata": {},
   "outputs": [
    {
     "ename": "AttributeError",
     "evalue": "'list' object has no attribute 'union'",
     "output_type": "error",
     "traceback": [
      "\u001b[1;31m---------------------------------------------------------------------------\u001b[0m",
      "\u001b[1;31mAttributeError\u001b[0m                            Traceback (most recent call last)",
      "Cell \u001b[1;32mIn[30], line 1\u001b[0m\n\u001b[1;32m----> 1\u001b[0m t2\u001b[38;5;241m.\u001b[39munion(s)\n",
      "\u001b[1;31mAttributeError\u001b[0m: 'list' object has no attribute 'union'"
     ]
    }
   ],
   "source": [
    "t2.union(s)"
   ]
  },
  {
   "cell_type": "code",
   "execution_count": 31,
   "id": "da073da8-13d8-4f9d-8162-988adc05e656",
   "metadata": {},
   "outputs": [
    {
     "data": {
      "text/plain": [
       "{1, 2, 3, 5, 7, 8}"
      ]
     },
     "execution_count": 31,
     "metadata": {},
     "output_type": "execute_result"
    }
   ],
   "source": [
    "a = {1,2,3}\n",
    "b = [5,7,8, 3]\n",
    "a.union(b)"
   ]
  },
  {
   "cell_type": "code",
   "execution_count": 32,
   "id": "b5f9c788-80de-44dc-8ccb-b6ef9de03cfa",
   "metadata": {},
   "outputs": [
    {
     "data": {
      "text/plain": [
       "{1, 2, 3, 4, 5, 6, 10, 20, 30}"
      ]
     },
     "execution_count": 32,
     "metadata": {},
     "output_type": "execute_result"
    }
   ],
   "source": [
    "s"
   ]
  },
  {
   "cell_type": "code",
   "execution_count": 33,
   "id": "6750cd51-2d02-49d3-b34a-f0b7d83a8b53",
   "metadata": {},
   "outputs": [
    {
     "name": "stdout",
     "output_type": "stream",
     "text": [
      "{1, 2, 3, 4, 5, 6, 10, 20, 30}\n"
     ]
    }
   ],
   "source": [
    "print(s)"
   ]
  },
  {
   "cell_type": "code",
   "execution_count": 34,
   "id": "d6d7e256-2105-481f-91c7-f4c9fe10f690",
   "metadata": {},
   "outputs": [
    {
     "name": "stdout",
     "output_type": "stream",
     "text": [
      "{1, 2, 3, 'B', 'R'}\n"
     ]
    }
   ],
   "source": [
    "s ={1,2,3}\n",
    "s.update(\"RBR\")\n",
    "print(s)"
   ]
  },
  {
   "cell_type": "code",
   "execution_count": 35,
   "id": "b54b45f2-7a85-482a-9fc8-9f327dc741aa",
   "metadata": {},
   "outputs": [
    {
     "name": "stdout",
     "output_type": "stream",
     "text": [
      "{1, 2, 3, 'RBR'}\n"
     ]
    }
   ],
   "source": [
    "s ={1,2,3}\n",
    "s.update([\"RBR\"])\n",
    "print(s)"
   ]
  },
  {
   "cell_type": "markdown",
   "id": "72f526e1-8118-4b51-bbdd-09d4900e2d89",
   "metadata": {},
   "source": [
    "### ****remove****\n",
    "#### remove(item)\n",
    "#### - It removes the value in set, If value is not available then it throws key error\n",
    "### ***discard***\n",
    "#### discard(item)\n",
    "#### - It is used to remove value in set, If value is not available in set then it will not throw key error"
   ]
  },
  {
   "cell_type": "code",
   "execution_count": 36,
   "id": "8cab3d2f-81c7-4c6f-ba63-9ae55ea678b0",
   "metadata": {},
   "outputs": [
    {
     "name": "stdout",
     "output_type": "stream",
     "text": [
      "{'Hardik', 'Rohit', 'Virat'}\n"
     ]
    }
   ],
   "source": [
    "s = {\"Virat\", \"Rohit\", \"Dube\", \"Hardik\"}\n",
    "s.remove(\"Dube\")\n",
    "print(s)"
   ]
  },
  {
   "cell_type": "code",
   "execution_count": 37,
   "id": "a99d9156-fd51-44b7-8118-2b5c712e6654",
   "metadata": {},
   "outputs": [
    {
     "ename": "KeyError",
     "evalue": "'Dhoni'",
     "output_type": "error",
     "traceback": [
      "\u001b[1;31m---------------------------------------------------------------------------\u001b[0m",
      "\u001b[1;31mKeyError\u001b[0m                                  Traceback (most recent call last)",
      "Cell \u001b[1;32mIn[37], line 1\u001b[0m\n\u001b[1;32m----> 1\u001b[0m s\u001b[38;5;241m.\u001b[39mremove(\u001b[38;5;124m\"\u001b[39m\u001b[38;5;124mDhoni\u001b[39m\u001b[38;5;124m\"\u001b[39m)\n",
      "\u001b[1;31mKeyError\u001b[0m: 'Dhoni'"
     ]
    }
   ],
   "source": [
    "s.remove(\"Dhoni\")"
   ]
  },
  {
   "cell_type": "code",
   "execution_count": 38,
   "id": "514d5f64-d091-400c-8a30-93b7171e74d8",
   "metadata": {},
   "outputs": [
    {
     "name": "stdout",
     "output_type": "stream",
     "text": [
      "{'Hardik', 'Virat', 'Rohit'}\n"
     ]
    }
   ],
   "source": [
    "# discard \n",
    "s = {\"Virat\", \"Rohit\", \"Dube\", \"Hardik\"}\n",
    "s.discard(\"Dube\")\n",
    "print(s)"
   ]
  },
  {
   "cell_type": "code",
   "execution_count": 39,
   "id": "a07d36ed-7fbf-41a2-80e5-603a6fa29c90",
   "metadata": {},
   "outputs": [
    {
     "name": "stdout",
     "output_type": "stream",
     "text": [
      "{'Hardik', 'Virat', 'Rohit'}\n"
     ]
    }
   ],
   "source": [
    "s.discard(\"Dhoni\")\n",
    "print(s)"
   ]
  },
  {
   "cell_type": "markdown",
   "id": "045e18b2-0b7b-4bab-844a-20037980fbe3",
   "metadata": {},
   "source": [
    "### ***pop***\n",
    "#### syntax: pop()\n",
    "#### - It returns the removed value and it will not accept any argument\n",
    "#### - It removes random value from the set\n",
    "\n",
    "### ***clear***\n",
    "#### syntax: clear()\n",
    "#### - It converts the set from non-empty set to an empty set\n",
    "\n",
    "### ***del***\n",
    "#### syntax: del variable\n",
    "#### - It is used to delete the set object"
   ]
  },
  {
   "cell_type": "code",
   "execution_count": 43,
   "id": "5de17d73-f04a-4f7f-b322-4275b565973b",
   "metadata": {},
   "outputs": [
    {
     "name": "stdout",
     "output_type": "stream",
     "text": [
      "1\n",
      "{2, 3, 4, 5, 'abc', 1.5, '12', 24}\n"
     ]
    }
   ],
   "source": [
    "# pop \n",
    "s = {1,2,3,4,5,\"abc\",\"12\",1.5,24}\n",
    "print(s.pop())\n",
    "print(s)"
   ]
  },
  {
   "cell_type": "code",
   "execution_count": 44,
   "id": "7d0e9583-079a-4d0c-9d5b-f670fb423377",
   "metadata": {},
   "outputs": [
    {
     "name": "stdout",
     "output_type": "stream",
     "text": [
      "2\n",
      "{3, 4, 5, 'abc', 1.5, '12', 24}\n"
     ]
    }
   ],
   "source": [
    "print(s.pop())\n",
    "print(s)"
   ]
  },
  {
   "cell_type": "code",
   "execution_count": 45,
   "id": "2e0d52e2-4f82-48d1-aff7-062881d9b72c",
   "metadata": {},
   "outputs": [
    {
     "ename": "TypeError",
     "evalue": "set.pop() takes no arguments (1 given)",
     "output_type": "error",
     "traceback": [
      "\u001b[1;31m---------------------------------------------------------------------------\u001b[0m",
      "\u001b[1;31mTypeError\u001b[0m                                 Traceback (most recent call last)",
      "Cell \u001b[1;32mIn[45], line 1\u001b[0m\n\u001b[1;32m----> 1\u001b[0m \u001b[38;5;28mprint\u001b[39m(s\u001b[38;5;241m.\u001b[39mpop(\u001b[38;5;241m0\u001b[39m))\n\u001b[0;32m      2\u001b[0m \u001b[38;5;28mprint\u001b[39m(s)\n",
      "\u001b[1;31mTypeError\u001b[0m: set.pop() takes no arguments (1 given)"
     ]
    }
   ],
   "source": [
    "print(s.pop(0))\n",
    "print(s)"
   ]
  },
  {
   "cell_type": "code",
   "execution_count": 46,
   "id": "c1d2655b-b832-486e-ac7c-b2ed624ae037",
   "metadata": {},
   "outputs": [
    {
     "name": "stdout",
     "output_type": "stream",
     "text": [
      "set()\n"
     ]
    }
   ],
   "source": [
    "# clear\n",
    "s = {1,2,3,4,5,\"abc\",\"12\",1.5,24}\n",
    "s.clear()\n",
    "print(s)"
   ]
  },
  {
   "cell_type": "code",
   "execution_count": 47,
   "id": "edd964fe-bb4e-4eee-a594-45eb840211de",
   "metadata": {},
   "outputs": [
    {
     "ename": "NameError",
     "evalue": "name 's' is not defined",
     "output_type": "error",
     "traceback": [
      "\u001b[1;31m---------------------------------------------------------------------------\u001b[0m",
      "\u001b[1;31mNameError\u001b[0m                                 Traceback (most recent call last)",
      "Cell \u001b[1;32mIn[47], line 4\u001b[0m\n\u001b[0;32m      2\u001b[0m s \u001b[38;5;241m=\u001b[39m {\u001b[38;5;241m1\u001b[39m,\u001b[38;5;241m2\u001b[39m,\u001b[38;5;241m3\u001b[39m,\u001b[38;5;241m4\u001b[39m,\u001b[38;5;241m5\u001b[39m,\u001b[38;5;124m\"\u001b[39m\u001b[38;5;124mabc\u001b[39m\u001b[38;5;124m\"\u001b[39m,\u001b[38;5;124m\"\u001b[39m\u001b[38;5;124m12\u001b[39m\u001b[38;5;124m\"\u001b[39m,\u001b[38;5;241m1.5\u001b[39m,\u001b[38;5;241m24\u001b[39m}\n\u001b[0;32m      3\u001b[0m \u001b[38;5;28;01mdel\u001b[39;00m s\n\u001b[1;32m----> 4\u001b[0m \u001b[38;5;28mprint\u001b[39m(s)\n",
      "\u001b[1;31mNameError\u001b[0m: name 's' is not defined"
     ]
    }
   ],
   "source": [
    "# del\n",
    "s = {1,2,3,4,5,\"abc\",\"12\",1.5,24}\n",
    "del s\n",
    "print(s)"
   ]
  },
  {
   "cell_type": "markdown",
   "id": "60b1c1f6-7237-48c5-908b-cfeef0b10815",
   "metadata": {},
   "source": [
    "### ***Set Operations***"
   ]
  },
  {
   "cell_type": "code",
   "execution_count": 48,
   "id": "2eac3ccd-3aa4-4e3b-abfd-2ac8cec71a99",
   "metadata": {},
   "outputs": [
    {
     "data": {
      "text/plain": [
       "{1, 2, 3, 4, 5, 6}"
      ]
     },
     "execution_count": 48,
     "metadata": {},
     "output_type": "execute_result"
    }
   ],
   "source": [
    "# UNION \n",
    "s = {1,2,3}\n",
    "t = {4,5,6}\n",
    "s.union(t)"
   ]
  },
  {
   "cell_type": "code",
   "execution_count": 49,
   "id": "8af155a3-342e-40b6-bfba-e41a3b0ac8f2",
   "metadata": {},
   "outputs": [
    {
     "data": {
      "text/plain": [
       "{10, 20, 30, 40, 50, 60}"
      ]
     },
     "execution_count": 49,
     "metadata": {},
     "output_type": "execute_result"
    }
   ],
   "source": [
    "# union ---> |\n",
    "\n",
    "a = {10,20,30}\n",
    "b = {40,50,60}\n",
    "a | b"
   ]
  },
  {
   "cell_type": "code",
   "execution_count": 50,
   "id": "ec5d310b-2ca1-4396-84e2-9fbbfca46c8b",
   "metadata": {},
   "outputs": [
    {
     "data": {
      "text/plain": [
       "{1,\n",
       " 10,\n",
       " 11,\n",
       " 12,\n",
       " 14,\n",
       " 15,\n",
       " 16,\n",
       " 17,\n",
       " 18,\n",
       " 19,\n",
       " 2,\n",
       " 3,\n",
       " 4,\n",
       " 5,\n",
       " 6,\n",
       " 7,\n",
       " 8,\n",
       " 9,\n",
       " 'V',\n",
       " 'e',\n",
       " 'k',\n",
       " 'n',\n",
       " 'y'}"
      ]
     },
     "execution_count": 50,
     "metadata": {},
     "output_type": "execute_result"
    }
   ],
   "source": [
    "a = {1,2,3}\n",
    "b = {4,5,6}\n",
    "c = {7,8,9}\n",
    "d = {10,11,12}\n",
    "e = (14,15,16)\n",
    "f = [17,18,19]\n",
    "g = \"Venky\"\n",
    "a.union(b,c,d,e,f,g)"
   ]
  },
  {
   "cell_type": "code",
   "execution_count": 51,
   "id": "29f8c9e2-69a2-4908-b0e0-0326caca3ea9",
   "metadata": {},
   "outputs": [
    {
     "data": {
      "text/plain": [
       "{1, 2, 3, 4, 5, 6, 7, 8, 9, 10, 11, 12}"
      ]
     },
     "execution_count": 51,
     "metadata": {},
     "output_type": "execute_result"
    }
   ],
   "source": [
    "a = {1,2,3}\n",
    "b = {4,5,6}\n",
    "c = {7,8,9}\n",
    "d = {10,11,12}\n",
    "e = (14,15,16)\n",
    "f = [17,18,19]\n",
    "g = \"Venky\"\n",
    "a | b | c | d"
   ]
  },
  {
   "cell_type": "code",
   "execution_count": 52,
   "id": "c63a55d0-f77a-4c2c-aeec-2eb573737de0",
   "metadata": {},
   "outputs": [
    {
     "ename": "TypeError",
     "evalue": "unsupported operand type(s) for |: 'set' and 'tuple'",
     "output_type": "error",
     "traceback": [
      "\u001b[1;31m---------------------------------------------------------------------------\u001b[0m",
      "\u001b[1;31mTypeError\u001b[0m                                 Traceback (most recent call last)",
      "Cell \u001b[1;32mIn[52], line 1\u001b[0m\n\u001b[1;32m----> 1\u001b[0m a \u001b[38;5;241m|\u001b[39m b \u001b[38;5;241m|\u001b[39m c\u001b[38;5;241m|\u001b[39m d \u001b[38;5;241m|\u001b[39m e \u001b[38;5;241m|\u001b[39m f \u001b[38;5;241m|\u001b[39m g\n",
      "\u001b[1;31mTypeError\u001b[0m: unsupported operand type(s) for |: 'set' and 'tuple'"
     ]
    }
   ],
   "source": [
    "a | b | c| d | e | f | g"
   ]
  },
  {
   "cell_type": "code",
   "execution_count": 53,
   "id": "8b6da604-0f35-41be-9332-90cd6071105d",
   "metadata": {},
   "outputs": [
    {
     "data": {
      "text/plain": [
       "{2, 3}"
      ]
     },
     "execution_count": 53,
     "metadata": {},
     "output_type": "execute_result"
    }
   ],
   "source": [
    "# intersection \n",
    "\n",
    "a = {1,2,3,4}\n",
    "b = {2,3,5,7}\n",
    "a.intersection(b)"
   ]
  },
  {
   "cell_type": "code",
   "execution_count": 54,
   "id": "8e993cdb-722d-4a61-9e33-c4898e451ab4",
   "metadata": {},
   "outputs": [
    {
     "name": "stdout",
     "output_type": "stream",
     "text": [
      "{1, 2, 3, 4}\n"
     ]
    }
   ],
   "source": [
    "print(a)"
   ]
  },
  {
   "cell_type": "code",
   "execution_count": 55,
   "id": "54a637c1-d216-4e26-a229-8767e1e6902a",
   "metadata": {},
   "outputs": [
    {
     "data": {
      "text/plain": [
       "{3}"
      ]
     },
     "execution_count": 55,
     "metadata": {},
     "output_type": "execute_result"
    }
   ],
   "source": [
    "a = {1,2,3,4}\n",
    "b = {2,3,5,7}\n",
    "c = {10,20,30,40,3}\n",
    "a.intersection(b,c)"
   ]
  },
  {
   "cell_type": "code",
   "execution_count": 56,
   "id": "4ed50780-a606-4cc9-b282-d5bb7694748f",
   "metadata": {},
   "outputs": [
    {
     "data": {
      "text/plain": [
       "{3}"
      ]
     },
     "execution_count": 56,
     "metadata": {},
     "output_type": "execute_result"
    }
   ],
   "source": [
    "# &\n",
    "a & b & c"
   ]
  },
  {
   "cell_type": "code",
   "execution_count": 57,
   "id": "67f6a7c8-dcdd-419f-b870-e1a3e134eab0",
   "metadata": {},
   "outputs": [
    {
     "data": {
      "text/plain": [
       "{2, 3}"
      ]
     },
     "execution_count": 57,
     "metadata": {},
     "output_type": "execute_result"
    }
   ],
   "source": [
    "a = {1,2,3}\n",
    "b = [2,3,4]\n",
    "a.intersection(b)"
   ]
  },
  {
   "cell_type": "code",
   "execution_count": 58,
   "id": "7f2f04d9-e9d2-4a33-a7d9-f0a577922ef8",
   "metadata": {},
   "outputs": [
    {
     "ename": "TypeError",
     "evalue": "unsupported operand type(s) for &: 'set' and 'list'",
     "output_type": "error",
     "traceback": [
      "\u001b[1;31m---------------------------------------------------------------------------\u001b[0m",
      "\u001b[1;31mTypeError\u001b[0m                                 Traceback (most recent call last)",
      "Cell \u001b[1;32mIn[58], line 1\u001b[0m\n\u001b[1;32m----> 1\u001b[0m a \u001b[38;5;241m&\u001b[39m b\n",
      "\u001b[1;31mTypeError\u001b[0m: unsupported operand type(s) for &: 'set' and 'list'"
     ]
    }
   ],
   "source": [
    "a & b"
   ]
  },
  {
   "cell_type": "code",
   "execution_count": 1,
   "id": "eb0b0d17-eaca-4c5b-9511-86c477253ade",
   "metadata": {},
   "outputs": [
    {
     "data": {
      "text/plain": [
       "{2, 3}"
      ]
     },
     "execution_count": 1,
     "metadata": {},
     "output_type": "execute_result"
    }
   ],
   "source": [
    "# update , union \n",
    "# intersection_update, intersection\n",
    "a = {1,2,3,4}\n",
    "b = {2,3,5,7}\n",
    "a.intersection(b)"
   ]
  },
  {
   "cell_type": "code",
   "execution_count": 60,
   "id": "035ef91f-e9c0-4237-b9e9-8d3f2133a203",
   "metadata": {},
   "outputs": [
    {
     "name": "stdout",
     "output_type": "stream",
     "text": [
      "{1, 2, 3, 4}\n"
     ]
    }
   ],
   "source": [
    "print(a)"
   ]
  },
  {
   "cell_type": "code",
   "execution_count": 61,
   "id": "a2b58e11-7443-49a3-a666-37c868e87426",
   "metadata": {},
   "outputs": [],
   "source": [
    "a.intersection_update(b)"
   ]
  },
  {
   "cell_type": "code",
   "execution_count": 62,
   "id": "9314905b-f013-43e8-97e5-9b849105ed11",
   "metadata": {},
   "outputs": [
    {
     "data": {
      "text/plain": [
       "{2, 3}"
      ]
     },
     "execution_count": 62,
     "metadata": {},
     "output_type": "execute_result"
    }
   ],
   "source": [
    "a"
   ]
  },
  {
   "cell_type": "markdown",
   "id": "36cf08db-fe78-418c-8b14-bdbf14cdfacc",
   "metadata": {},
   "source": [
    "#### & -> intersection \n",
    "#### &= -> intersection_update \n",
    "#### | -> union \n",
    "#### |= -> update "
   ]
  },
  {
   "cell_type": "code",
   "execution_count": 64,
   "id": "a447e5a4-7b97-4e89-8b50-937d7856a83e",
   "metadata": {},
   "outputs": [
    {
     "data": {
      "text/plain": [
       "{2, 3}"
      ]
     },
     "execution_count": 64,
     "metadata": {},
     "output_type": "execute_result"
    }
   ],
   "source": [
    "a = {1,2,3,4}\n",
    "b = {2,3,5,7}\n",
    "a &= b \n",
    "a"
   ]
  },
  {
   "cell_type": "code",
   "execution_count": 65,
   "id": "4219972e-a8e8-4f29-8b35-84898d1c78c3",
   "metadata": {},
   "outputs": [
    {
     "data": {
      "text/plain": [
       "{1, 2, 3, 4, 5, 7}"
      ]
     },
     "execution_count": 65,
     "metadata": {},
     "output_type": "execute_result"
    }
   ],
   "source": [
    "a = {1,2,3,4}\n",
    "b = {2,3,5,7}\n",
    "a |= b \n",
    "a"
   ]
  },
  {
   "cell_type": "code",
   "execution_count": 2,
   "id": "76a3959c-eaa8-465a-8669-cb6b3f5e64b6",
   "metadata": {},
   "outputs": [
    {
     "data": {
      "text/plain": [
       "{1, 4}"
      ]
     },
     "execution_count": 2,
     "metadata": {},
     "output_type": "execute_result"
    }
   ],
   "source": [
    "# difference \n",
    "a = {1,2,3,4}\n",
    "b = {2,3,5,7}\n",
    "a.difference(b)"
   ]
  },
  {
   "cell_type": "code",
   "execution_count": 67,
   "id": "aca4bcbe-2412-43be-adac-6eec8f994855",
   "metadata": {},
   "outputs": [
    {
     "data": {
      "text/plain": [
       "{1, 4}"
      ]
     },
     "execution_count": 67,
     "metadata": {},
     "output_type": "execute_result"
    }
   ],
   "source": [
    "a-b"
   ]
  },
  {
   "cell_type": "code",
   "execution_count": 68,
   "id": "0c39987f-bbd2-432d-8794-86cebea51195",
   "metadata": {},
   "outputs": [
    {
     "data": {
      "text/plain": [
       "{1, 2, 3, 4}"
      ]
     },
     "execution_count": 68,
     "metadata": {},
     "output_type": "execute_result"
    }
   ],
   "source": [
    "a"
   ]
  },
  {
   "cell_type": "code",
   "execution_count": 69,
   "id": "4b304ac2-5525-4adb-9ace-2a57dd0f0bd1",
   "metadata": {},
   "outputs": [
    {
     "data": {
      "text/plain": [
       "{1, 4}"
      ]
     },
     "execution_count": 69,
     "metadata": {},
     "output_type": "execute_result"
    }
   ],
   "source": [
    "a.difference_update(b)\n",
    "a"
   ]
  },
  {
   "cell_type": "code",
   "execution_count": 70,
   "id": "2908aea8-7165-45bd-919f-edbd4338c1b9",
   "metadata": {},
   "outputs": [
    {
     "name": "stdout",
     "output_type": "stream",
     "text": [
      "{1, 4}\n"
     ]
    }
   ],
   "source": [
    "# -=  ---> difference_update\n",
    "a = {1,2,3,4}\n",
    "b = {2,3,5,7}\n",
    "a-=b \n",
    "print(a)"
   ]
  },
  {
   "cell_type": "code",
   "execution_count": 71,
   "id": "110d9eb7-9e14-4eff-9a76-c9bcfc248da0",
   "metadata": {},
   "outputs": [
    {
     "data": {
      "text/plain": [
       "{'C++', 'ML', 'OS', 'Python'}"
      ]
     },
     "execution_count": 71,
     "metadata": {},
     "output_type": "execute_result"
    }
   ],
   "source": [
    "# symmetric_difference \n",
    "gate_da = {\"ML\", \"Python\", \"LA\", \"Calculus\", \"Aptitude\"}\n",
    "gate_cs = {\"OS\", \"C++\", \"LA\", \"Calculus\", \"Aptitude\"}\n",
    "gate_da.symmetric_difference(gate_cs)"
   ]
  },
  {
   "cell_type": "code",
   "execution_count": 72,
   "id": "faba34a8-d337-4235-b2c9-9e579becc2c5",
   "metadata": {},
   "outputs": [
    {
     "data": {
      "text/plain": [
       "{'C++', 'ML', 'OS', 'Python'}"
      ]
     },
     "execution_count": 72,
     "metadata": {},
     "output_type": "execute_result"
    }
   ],
   "source": [
    "# ^\n",
    "gate_da ^ gate_cs"
   ]
  },
  {
   "cell_type": "code",
   "execution_count": 74,
   "id": "4064d357-82e0-427c-a89f-bef220079ff3",
   "metadata": {},
   "outputs": [
    {
     "name": "stdout",
     "output_type": "stream",
     "text": [
      "{'ML', 'C++', 'OS', 'Python'}\n",
      "{'C++', 'Aptitude', 'OS', 'Calculus', 'LA'}\n"
     ]
    }
   ],
   "source": [
    "gate_da.symmetric_difference_update(gate_cs)\n",
    "print(gate_da)\n",
    "print(gate_cs)"
   ]
  },
  {
   "cell_type": "code",
   "execution_count": 75,
   "id": "b9db16b5-a8f1-42cd-8453-3ad46281acee",
   "metadata": {},
   "outputs": [
    {
     "data": {
      "text/plain": [
       "{'C++', 'ML', 'OS', 'Python'}"
      ]
     },
     "execution_count": 75,
     "metadata": {},
     "output_type": "execute_result"
    }
   ],
   "source": [
    "# ^= ---> symmetric_difference \n",
    "gate_da = {\"ML\", \"Python\", \"LA\", \"Calculus\", \"Aptitude\"}\n",
    "gate_cs = {\"OS\", \"C++\", \"LA\", \"Calculus\", \"Aptitude\"}\n",
    "gate_da ^= gate_cs\n",
    "gate_da"
   ]
  },
  {
   "cell_type": "code",
   "execution_count": 76,
   "id": "a1794d69-087b-48dc-8391-fcd67c066a13",
   "metadata": {},
   "outputs": [
    {
     "data": {
      "text/plain": [
       "False"
      ]
     },
     "execution_count": 76,
     "metadata": {},
     "output_type": "execute_result"
    }
   ],
   "source": [
    "# isdisjoint \n",
    "a = {1,2,3,4}\n",
    "b = {2,3,5,7}\n",
    "a.isdisjoint(b)"
   ]
  },
  {
   "cell_type": "code",
   "execution_count": 77,
   "id": "86f2fd2b-daa6-4d11-9bef-22ee5fb7384d",
   "metadata": {},
   "outputs": [
    {
     "data": {
      "text/plain": [
       "True"
      ]
     },
     "execution_count": 77,
     "metadata": {},
     "output_type": "execute_result"
    }
   ],
   "source": [
    "a = {1,2,3,4}\n",
    "b = {10,15,5,7}\n",
    "a.isdisjoint(b)"
   ]
  },
  {
   "cell_type": "code",
   "execution_count": 78,
   "id": "9606530a-8168-4ab4-9d24-879caeaf1a10",
   "metadata": {},
   "outputs": [
    {
     "data": {
      "text/plain": [
       "False"
      ]
     },
     "execution_count": 78,
     "metadata": {},
     "output_type": "execute_result"
    }
   ],
   "source": [
    "# issuperset \n",
    "a = {1,2,3,4}\n",
    "b = {2,3,5,7}\n",
    "a.issuperset(b)"
   ]
  },
  {
   "cell_type": "code",
   "execution_count": 79,
   "id": "b39a91a5-187b-444d-9d72-4a364f5578fb",
   "metadata": {},
   "outputs": [
    {
     "data": {
      "text/plain": [
       "True"
      ]
     },
     "execution_count": 79,
     "metadata": {},
     "output_type": "execute_result"
    }
   ],
   "source": [
    "a = {1,2,3,4,5,7,8}\n",
    "b ={2,3,5,7}\n",
    "a.issuperset(b)"
   ]
  },
  {
   "cell_type": "code",
   "execution_count": 80,
   "id": "61dbb92e-c4ab-4552-8849-f4b96d15caf5",
   "metadata": {},
   "outputs": [
    {
     "data": {
      "text/plain": [
       "False"
      ]
     },
     "execution_count": 80,
     "metadata": {},
     "output_type": "execute_result"
    }
   ],
   "source": [
    "b.issuperset(a)"
   ]
  },
  {
   "cell_type": "code",
   "execution_count": 81,
   "id": "64ee9064-7d8a-42d1-a984-92db7bf8d541",
   "metadata": {},
   "outputs": [
    {
     "data": {
      "text/plain": [
       "False"
      ]
     },
     "execution_count": 81,
     "metadata": {},
     "output_type": "execute_result"
    }
   ],
   "source": [
    "# subset \n",
    "a = {1,2,3,5}\n",
    "b = {1,2}\n",
    "a.issubset(b)"
   ]
  },
  {
   "cell_type": "code",
   "execution_count": 82,
   "id": "36913db6-7307-4bff-b3ef-b835dc1dab2e",
   "metadata": {},
   "outputs": [
    {
     "data": {
      "text/plain": [
       "True"
      ]
     },
     "execution_count": 82,
     "metadata": {},
     "output_type": "execute_result"
    }
   ],
   "source": [
    "a = {1,2,3,5}\n",
    "b = {1,2}\n",
    "b.issubset(a)"
   ]
  },
  {
   "cell_type": "code",
   "execution_count": null,
   "id": "cbb4e10c-21fb-4a04-9d10-ba1a948237d2",
   "metadata": {},
   "outputs": [],
   "source": []
  }
 ],
 "metadata": {
  "kernelspec": {
   "display_name": "Python 3 (ipykernel)",
   "language": "python",
   "name": "python3"
  },
  "language_info": {
   "codemirror_mode": {
    "name": "ipython",
    "version": 3
   },
   "file_extension": ".py",
   "mimetype": "text/x-python",
   "name": "python",
   "nbconvert_exporter": "python",
   "pygments_lexer": "ipython3",
   "version": "3.11.7"
  }
 },
 "nbformat": 4,
 "nbformat_minor": 5
}
