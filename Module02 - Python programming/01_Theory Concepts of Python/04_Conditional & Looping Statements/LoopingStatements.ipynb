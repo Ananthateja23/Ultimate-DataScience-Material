{
 "cells": [
  {
   "cell_type": "markdown",
   "id": "b7ddb29b-ab7d-42c5-b5d4-247c5b04c46e",
   "metadata": {},
   "source": [
    "### ***Loops***\n",
    "```\n",
    "==> Suppose we need to execute a block of code repeatedly till some finite iterations or condition gets satisfied there we use loops\n",
    "1. For loop\n",
    "2. while loop\n",
    "```"
   ]
  },
  {
   "cell_type": "markdown",
   "id": "57d59042-3b48-48b8-b825-5e21f110a449",
   "metadata": {},
   "source": [
    "### ***For loop***\n",
    "```\n",
    "==> If we know the number of iterations or if we need to iterate through a sequence then we use for loop\n",
    "==> Starting point of execution and ending point of execution both are same\n",
    "==> Number of iterations is same as length of sequence\n",
    "```"
   ]
  },
  {
   "cell_type": "code",
   "execution_count": 2,
   "id": "099620c1-d4a1-40a9-ac65-515812677a52",
   "metadata": {},
   "outputs": [
    {
     "name": "stdout",
     "output_type": "stream",
     "text": [
      "1\n",
      "2\n",
      "3\n",
      "4\n",
      "5\n",
      "6\n",
      "7\n",
      "8\n",
      "9\n",
      "10\n",
      "Outside for loop\n"
     ]
    }
   ],
   "source": [
    "for i in range(1,11):\n",
    "    print(i)\n",
    "print(\"Outside for loop\")"
   ]
  },
  {
   "cell_type": "code",
   "execution_count": 3,
   "id": "056df5ce-0d71-4067-9936-60dec1c46e53",
   "metadata": {},
   "outputs": [
    {
     "name": "stdout",
     "output_type": "stream",
     "text": [
      "10\n",
      "9\n",
      "8\n",
      "7\n",
      "6\n",
      "5\n",
      "4\n",
      "3\n",
      "2\n",
      "1\n",
      "Outside for loop\n"
     ]
    }
   ],
   "source": [
    "for i in range(10,0,-1):\n",
    "    print(i)\n",
    "print(\"Outside for loop\")"
   ]
  },
  {
   "cell_type": "code",
   "execution_count": 6,
   "id": "792bb0ba-8d0e-4ad9-a0c6-882be29455cf",
   "metadata": {},
   "outputs": [
    {
     "name": "stdout",
     "output_type": "stream",
     "text": [
      "-5\n",
      "-4\n",
      "-3\n",
      "-2\n",
      "-1\n",
      "0\n",
      "1\n",
      "2\n",
      "3\n",
      "4\n",
      "5\n",
      "Outside for loop\n"
     ]
    }
   ],
   "source": [
    "for i in range(-5,6):\n",
    "    print(i)\n",
    "print(\"Outside for loop\")"
   ]
  },
  {
   "cell_type": "code",
   "execution_count": 7,
   "id": "b35c37c7-e846-4d4b-a90b-9d5eac0abacd",
   "metadata": {},
   "outputs": [
    {
     "name": "stdout",
     "output_type": "stream",
     "text": [
      "5\n",
      "4\n",
      "3\n",
      "2\n",
      "1\n",
      "0\n",
      "-1\n",
      "-2\n",
      "-3\n",
      "-4\n",
      "-5\n",
      "Outside for loop\n"
     ]
    }
   ],
   "source": [
    "for i in range(5, -6, -1):\n",
    "    print(i)\n",
    "print(\"Outside for loop\")"
   ]
  },
  {
   "cell_type": "code",
   "execution_count": 8,
   "id": "4b29c7f6-8185-4513-9d11-8f6be0c03c14",
   "metadata": {},
   "outputs": [
    {
     "name": "stdout",
     "output_type": "stream",
     "text": [
      "10 20 30 \n",
      "Oustide for loop\n"
     ]
    }
   ],
   "source": [
    "l = [10, 20, 30]\n",
    "for i in l:\n",
    "    print(i, end=\" \")\n",
    "print()\n",
    "print(\"Oustide for loop\")"
   ]
  },
  {
   "cell_type": "code",
   "execution_count": 2,
   "id": "608acb37-8263-4029-b874-93063c6e55ab",
   "metadata": {},
   "outputs": [
    {
     "name": "stdout",
     "output_type": "stream",
     "text": [
      "10 20 30 \n",
      "Oustide for loop\n"
     ]
    }
   ],
   "source": [
    "t = (10, 20, 30)\n",
    "for i in t:\n",
    "    print(i, end=\" \")\n",
    "print()\n",
    "print(\"Oustide for loop\")"
   ]
  },
  {
   "cell_type": "code",
   "execution_count": 10,
   "id": "94027d7e-bb17-44b1-8ef9-0323e12480c2",
   "metadata": {},
   "outputs": [
    {
     "name": "stdout",
     "output_type": "stream",
     "text": [
      "10 20 30 \n",
      "Oustide for loop\n"
     ]
    }
   ],
   "source": [
    "s = {10, 20, 30}\n",
    "for i in s:\n",
    "    print(i, end=\" \")\n",
    "print()\n",
    "print(\"Oustide for loop\")"
   ]
  },
  {
   "cell_type": "code",
   "execution_count": 11,
   "id": "0d8cd308-d2ab-4eae-a73a-18eaf6a8b2d4",
   "metadata": {},
   "outputs": [
    {
     "name": "stdout",
     "output_type": "stream",
     "text": [
      "a b c \n",
      "Oustide for loop\n"
     ]
    }
   ],
   "source": [
    "d = {'a': 10, 'b': 20, 'c': 30}\n",
    "for i in d:\n",
    "    print(i, end=\" \")\n",
    "print()\n",
    "print(\"Oustide for loop\")"
   ]
  },
  {
   "cell_type": "code",
   "execution_count": 12,
   "id": "fc035423-ce68-4320-a39b-ef715f6dfa2f",
   "metadata": {},
   "outputs": [
    {
     "name": "stdout",
     "output_type": "stream",
     "text": [
      "a b c \n",
      "Oustide for loop\n"
     ]
    }
   ],
   "source": [
    "d = {'a': 10, 'b': 20, 'c': 30}\n",
    "for i in d.keys():\n",
    "    print(i, end=\" \")\n",
    "print()\n",
    "print(\"Oustide for loop\")"
   ]
  },
  {
   "cell_type": "code",
   "execution_count": 13,
   "id": "6d90d75e-a1eb-4729-b42d-ccaba8af9c9f",
   "metadata": {},
   "outputs": [
    {
     "name": "stdout",
     "output_type": "stream",
     "text": [
      "10 20 30 \n",
      "Oustide for loop\n"
     ]
    }
   ],
   "source": [
    "d = {'a': 10, 'b': 20, 'c': 30}\n",
    "for i in d.values():\n",
    "    print(i, end=\" \")\n",
    "print()\n",
    "print(\"Oustide for loop\")"
   ]
  },
  {
   "cell_type": "code",
   "execution_count": 14,
   "id": "c65764eb-2137-4ce0-a312-92cfe70db02f",
   "metadata": {},
   "outputs": [
    {
     "name": "stdout",
     "output_type": "stream",
     "text": [
      "('a', 10) ('b', 20) ('c', 30) \n",
      "Oustide for loop\n"
     ]
    }
   ],
   "source": [
    "d = {'a': 10, 'b': 20, 'c': 30}\n",
    "for i in d.items():\n",
    "    print(i, end=\" \")\n",
    "print()\n",
    "print(\"Oustide for loop\")"
   ]
  },
  {
   "cell_type": "code",
   "execution_count": 17,
   "id": "19ab9f50-9e78-4fcc-933c-a1e18909ef03",
   "metadata": {},
   "outputs": [
    {
     "name": "stdout",
     "output_type": "stream",
     "text": [
      "a: 10\n",
      "b: 20\n",
      "c: 30\n",
      "Oustide for loop\n"
     ]
    }
   ],
   "source": [
    "d = {'a': 10, 'b': 20, 'c': 30}\n",
    "for k,v in d.items():\n",
    "    print(k,v, sep=\": \")\n",
    "print(\"Oustide for loop\")"
   ]
  },
  {
   "cell_type": "markdown",
   "id": "0868bbfc-ff92-4228-9e9c-da67a24de65d",
   "metadata": {},
   "source": [
    "### ***While loop***\n",
    "```\n",
    "==> If number of iterations are unknown then we use while loop\n",
    "==> If given condition is true then control enters inside loop otherwise control goes outside loop\n",
    "```"
   ]
  },
  {
   "cell_type": "code",
   "execution_count": 20,
   "id": "bdeb4b4a-929f-44cf-b161-39850d2c2001",
   "metadata": {},
   "outputs": [
    {
     "name": "stdout",
     "output_type": "stream",
     "text": [
      "1 2 3 4 5 6 7 8 9 10 \n",
      "Outside while loop\n"
     ]
    }
   ],
   "source": [
    "i = 1\n",
    "while i<=10:\n",
    "    print(i, end=\" \")\n",
    "    i += 1\n",
    "print()\n",
    "print(\"Outside while loop\")"
   ]
  },
  {
   "cell_type": "code",
   "execution_count": 21,
   "id": "b7c323a1-a7a1-4745-adca-18de4de9357f",
   "metadata": {},
   "outputs": [
    {
     "name": "stdout",
     "output_type": "stream",
     "text": [
      "10 9 8 7 6 5 4 3 2 1 \n",
      "Outside while loop\n"
     ]
    }
   ],
   "source": [
    "i = 10\n",
    "while i>=1:\n",
    "    print(i, end=\" \")\n",
    "    i -= 1\n",
    "print()\n",
    "print(\"Outside while loop\")"
   ]
  },
  {
   "cell_type": "code",
   "execution_count": 25,
   "id": "b3ae84a2-c43f-4d1b-9f59-322d9f65f1d9",
   "metadata": {},
   "outputs": [
    {
     "name": "stdout",
     "output_type": "stream",
     "text": [
      "-10 -9 -8 -7 -6 -5 -4 -3 -2 -1 \n",
      "Outside while loop\n"
     ]
    }
   ],
   "source": [
    "i = -10\n",
    "while i<=-1:\n",
    "    print(i, end=\" \")\n",
    "    i += 1\n",
    "print()\n",
    "print(\"Outside while loop\")"
   ]
  },
  {
   "cell_type": "code",
   "execution_count": 24,
   "id": "ce582d2d-e2dd-465c-9a22-9250e4d46009",
   "metadata": {},
   "outputs": [
    {
     "name": "stdout",
     "output_type": "stream",
     "text": [
      "-1 -2 -3 -4 -5 -6 -7 -8 -9 -10 \n",
      "Outside while loop\n"
     ]
    }
   ],
   "source": [
    "i = -1\n",
    "while i>=-10:\n",
    "    print(i, end=\" \")\n",
    "    i -= 1\n",
    "print()\n",
    "print(\"Outside while loop\")"
   ]
  },
  {
   "cell_type": "markdown",
   "id": "22e5a1c6-9b14-431e-a603-5b3b78068744",
   "metadata": {},
   "source": [
    "### ***Control statements***\n",
    "```\n",
    "==> In python, we use control statements to terminate an iteration of loop or skip the current iteration of loop or to create an empty block inside loop\n",
    "==> We have three control statements:\n",
    "1. break\n",
    "2. continue\n",
    "3. pass\n",
    "```"
   ]
  },
  {
   "cell_type": "markdown",
   "id": "d37e67e2-77ed-4b6f-a78d-624c6d678588",
   "metadata": {},
   "source": [
    "### ***break***\n",
    "#### - It takes the control outside the loop when given condition is true"
   ]
  },
  {
   "cell_type": "code",
   "execution_count": 29,
   "id": "60b0db54-b7c0-4752-9045-b4b894b61f01",
   "metadata": {},
   "outputs": [
    {
     "name": "stdout",
     "output_type": "stream",
     "text": [
      "i : 1\n",
      "i : 2\n",
      "i : 3\n",
      "i : 4\n",
      "i : 5\n",
      "Outside of for loop\n"
     ]
    }
   ],
   "source": [
    "for i in range(1, 10):\n",
    "    print(\"i :\", i)\n",
    "    if i == 5:\n",
    "        break\n",
    "print(\"Outside of for loop\")"
   ]
  },
  {
   "cell_type": "code",
   "execution_count": 32,
   "id": "a75dca8b-e5b5-4506-aea5-4ad49f39ea72",
   "metadata": {},
   "outputs": [
    {
     "name": "stdout",
     "output_type": "stream",
     "text": [
      "i : 1\n",
      "i : 2\n",
      "i : 3\n",
      "i : 4\n",
      "i : 5\n",
      "i : 6\n",
      "i : 7\n",
      "i : 8\n",
      "i : 9\n",
      "Inside for else block\n",
      "Outside of for loop\n"
     ]
    }
   ],
   "source": [
    "for i in range(1, 10):\n",
    "    print(\"i :\", i)\n",
    "    if i%10 == 0:\n",
    "        break\n",
    "else:\n",
    "    print(\"Inside for else block\")\n",
    "print(\"Outside of for loop\")"
   ]
  },
  {
   "cell_type": "code",
   "execution_count": 34,
   "id": "dda85958-d9fd-4b38-93e4-e877fc09a5a6",
   "metadata": {},
   "outputs": [
    {
     "name": "stdout",
     "output_type": "stream",
     "text": [
      "i : 1\n",
      "i : 2\n",
      "i : 3\n",
      "i : 4\n",
      "i : 5\n",
      "Outside of for loop\n"
     ]
    }
   ],
   "source": [
    "for i in range(1, 10):\n",
    "    print(\"i :\", i)\n",
    "    if i%10 == 5:\n",
    "        break\n",
    "else:\n",
    "    print(\"Inside for else block\")\n",
    "print(\"Outside of for loop\")"
   ]
  },
  {
   "cell_type": "markdown",
   "id": "a86d5745-e86e-471f-a365-2ea76faee481",
   "metadata": {},
   "source": [
    "### ***continue***\n",
    "#### - if control reaches continue statement, it will skip the current iteration and control goes to next iteration"
   ]
  },
  {
   "cell_type": "code",
   "execution_count": 35,
   "id": "4736c66d-4bcc-4cd4-9ae8-c69c408719ee",
   "metadata": {},
   "outputs": [
    {
     "name": "stdout",
     "output_type": "stream",
     "text": [
      "i : 1\n",
      "i : 2\n",
      "i : 3\n",
      "i : 4\n",
      "i : 6\n",
      "i : 7\n",
      "i : 8\n",
      "i : 9\n",
      "Outside of for loop\n"
     ]
    }
   ],
   "source": [
    "for i in range(1, 10):\n",
    "    if i == 5:\n",
    "        continue\n",
    "    print(\"i :\", i)\n",
    "print(\"Outside of for loop\")"
   ]
  },
  {
   "cell_type": "code",
   "execution_count": 33,
   "id": "3b559322-e577-4e36-b335-9365bbaa694a",
   "metadata": {},
   "outputs": [
    {
     "name": "stdout",
     "output_type": "stream",
     "text": [
      "i : 1\n",
      "i : 2\n",
      "i : 3\n",
      "i : 4\n",
      "i : 6\n",
      "i : 7\n",
      "i : 8\n",
      "i : 9\n",
      "Inside for else block\n",
      "Outside of for loop\n"
     ]
    }
   ],
   "source": [
    "for i in range(1, 10):\n",
    "    if i == 5:\n",
    "        continue\n",
    "    print(\"i :\", i)\n",
    "else:\n",
    "    print(\"Inside for else block\")\n",
    "print(\"Outside of for loop\")"
   ]
  },
  {
   "cell_type": "markdown",
   "id": "5de059ed-ccc4-4943-bb37-7dd87fb6a07b",
   "metadata": {},
   "source": [
    "### ***pass***\n",
    "#### - pass will not affect the control flow of a program\n",
    "#### - It is used to create an empty block otherwise it throws syntax error"
   ]
  },
  {
   "cell_type": "code",
   "execution_count": 31,
   "id": "1810aa3c-832c-44da-a720-3d9477d87763",
   "metadata": {},
   "outputs": [
    {
     "name": "stdout",
     "output_type": "stream",
     "text": [
      "i : 1\n",
      "i : 2\n",
      "i : 3\n",
      "i : 4\n",
      "i : 5\n",
      "i : 6\n",
      "i : 7\n",
      "i : 8\n",
      "i : 9\n",
      "Outside of for loop\n"
     ]
    }
   ],
   "source": [
    "for i in range(1, 10):\n",
    "    if i == 5:\n",
    "        pass\n",
    "    print(\"i :\", i)\n",
    "print(\"Outside of for loop\")"
   ]
  },
  {
   "cell_type": "code",
   "execution_count": 36,
   "id": "c049bf67-dbc8-41c6-a28d-2022b6e0ee1e",
   "metadata": {},
   "outputs": [
    {
     "name": "stdout",
     "output_type": "stream",
     "text": [
      "i : 1\n",
      "i : 2\n",
      "i : 3\n",
      "i : 4\n",
      "i : 5\n",
      "i : 6\n",
      "i : 7\n",
      "i : 8\n",
      "i : 9\n",
      "Inside for else block\n",
      "Outside of for loop\n"
     ]
    }
   ],
   "source": [
    "for i in range(1, 10):\n",
    "    if i == 5:\n",
    "        pass\n",
    "    print(\"i :\", i)\n",
    "else:\n",
    "    print(\"Inside for else block\")\n",
    "print(\"Outside of for loop\")"
   ]
  },
  {
   "cell_type": "markdown",
   "id": "3ce8b531-54cd-4cd1-917f-fe014684532b",
   "metadata": {},
   "source": [
    "### ***Problem Solving on loops***"
   ]
  },
  {
   "cell_type": "code",
   "execution_count": 37,
   "id": "a9fc0fc2-55bf-4d52-8868-919c3911e146",
   "metadata": {},
   "outputs": [
    {
     "name": "stdout",
     "output_type": "stream",
     "text": [
      "value i:  9\n",
      "value j:  5\n",
      "value j:  6\n",
      "value j:  7\n",
      "value j:  8\n",
      "value j:  9\n",
      "Came outside while loop\n"
     ]
    }
   ],
   "source": [
    "n = 10 \n",
    "i = 9\n",
    "j = 5 \n",
    "\n",
    "while i<n:\n",
    "    print(\"value i: \", i)\n",
    "    while j<n:\n",
    "        print(\"value j: \", j)\n",
    "        j+=1 \n",
    "    i+=1 \n",
    "print(\"Came outside while loop\")"
   ]
  },
  {
   "cell_type": "code",
   "execution_count": 39,
   "id": "7e26d83e-5626-45c8-8b71-7d06ec8c744a",
   "metadata": {},
   "outputs": [
    {
     "name": "stdout",
     "output_type": "stream",
     "text": [
      "iteration:  0\n",
      "total score:  12\n",
      "iteration:  1\n",
      "total score:  35\n",
      "iteration:  2\n",
      "total score:  89\n",
      "iteration:  3\n",
      "total score:  115\n",
      "came out of loop\n"
     ]
    }
   ],
   "source": [
    "team_score = [12,23,54,26,76,31]\n",
    "i = 0 \n",
    "n = len(team_score)\n",
    "total_score = 0 \n",
    "while i<n:\n",
    " print(\"iteration: \", i)\n",
    " total_score += team_score[i]\n",
    " print(\"total score: \", total_score)\n",
    " if total_score>=100:\n",
    "     break\n",
    " i+=1 \n",
    "print(\"came out of loop\")"
   ]
  },
  {
   "cell_type": "code",
   "execution_count": 3,
   "id": "f3d93c21-3f03-43bd-b0da-ccab6dc27272",
   "metadata": {},
   "outputs": [
    {
     "name": "stdout",
     "output_type": "stream",
     "text": [
      "score: --> 12\n",
      "total_score: --> 12\n",
      "score: --> 23\n",
      "total_score: --> 35\n",
      "score: --> 54\n",
      "total_score: --> 89\n",
      "score: --> 26\n",
      "total_score: --> 115\n",
      "Came out of for loop\n"
     ]
    }
   ],
   "source": [
    "team_score = [12,23,54,26,76,31]\n",
    "total_score = 0 \n",
    "for score in team_score:\n",
    "    print(\"score: -->\", score)\n",
    "    total_score += score \n",
    "    print(\"total_score: -->\", total_score)\n",
    "    if total_score >= 100:\n",
    "        break\n",
    "print(\"Came out of for loop\")"
   ]
  },
  {
   "cell_type": "code",
   "execution_count": 4,
   "id": "8211fd9b-7152-4e3b-bd28-04ec13d5f47e",
   "metadata": {},
   "outputs": [
    {
     "name": "stdout",
     "output_type": "stream",
     "text": [
      "score: --> 12\n",
      "total_score: --> 12\n",
      "score: --> 23\n",
      "total_score: --> 35\n",
      "score: --> 54\n",
      "total_score: --> 89\n",
      "score: --> 26\n",
      "total_score: --> 115\n"
     ]
    }
   ],
   "source": [
    "team_score = [12,23,54,26,76,31]\n",
    "total_score = 0 \n",
    "for score in team_score:\n",
    "    print(\"score: -->\", score)\n",
    "    total_score += score \n",
    "    print(\"total_score: -->\", total_score)\n",
    "    if total_score >= 100:\n",
    "        break"
   ]
  },
  {
   "cell_type": "code",
   "execution_count": 44,
   "id": "65fbd5f8-e465-4dbc-8b4f-c4a1eb43df8d",
   "metadata": {},
   "outputs": [
    {
     "name": "stdout",
     "output_type": "stream",
     "text": [
      "curr team score: --> [12, 23, 54, 26, 76, 31]\n",
      "score:  12\n",
      "total_score : --> 12\n",
      "score:  23\n",
      "total_score : --> 35\n",
      "score:  54\n",
      "total_score : --> 89\n",
      "score:  26\n",
      "total_score : --> 115\n",
      "came out of for loop\n"
     ]
    }
   ],
   "source": [
    "team_scores = [[12,23,54,26,76,31], [12,34,54,23,53,23,53], [1,2,4,52,5]]\n",
    "for curr_team_score in team_scores:\n",
    "    total_score = 0\n",
    "    print(\"curr team score: -->\", curr_team_score)\n",
    "    for score in curr_team_score:\n",
    "        print(\"score: \", score)\n",
    "        total_score += score \n",
    "        print(\"total_score : -->\", total_score)\n",
    "        if total_score >= 100:\n",
    "          break\n",
    "    if len(curr_team_score) > 4:\n",
    "        break\n",
    "print(\"came out of for loop\")"
   ]
  },
  {
   "cell_type": "code",
   "execution_count": 45,
   "id": "8944546b-607a-44bb-b560-cbf64938f3b1",
   "metadata": {},
   "outputs": [
    {
     "name": "stdout",
     "output_type": "stream",
     "text": [
      "value:  12\n",
      "curr non negative value:  12\n",
      "value:  32\n",
      "curr non negative value:  44\n",
      "value:  0\n",
      "curr non negative value:  44\n",
      "value:  -10\n",
      "value:  -5\n",
      "value:  200\n",
      "curr non negative value:  244\n",
      "value:  100\n",
      "curr non negative value:  344\n",
      "final non_negative_value outside for loop:  344\n"
     ]
    }
   ],
   "source": [
    "l = [12,32,0,-10,-5,200,100]\n",
    "non_negative_value = 0\n",
    "for value in l:\n",
    "    print(\"value: \", value)\n",
    "    if value<0:\n",
    "        continue\n",
    "    non_negative_value += value\n",
    "    print(\"curr non negative value: \", non_negative_value)\n",
    "print(\"final non_negative_value outside for loop: \",non_negative_value)"
   ]
  },
  {
   "cell_type": "code",
   "execution_count": 46,
   "id": "2ad6aa92-6e9d-4b56-bec6-b16c9298bcfd",
   "metadata": {},
   "outputs": [
    {
     "name": "stdout",
     "output_type": "stream",
     "text": [
      "value: --> 1\n",
      "string\n",
      "list\n",
      "ANy value\n",
      "value: --> 2\n",
      "string\n",
      "list\n",
      "ANy value\n",
      "value: --> 3\n",
      "string\n",
      "list\n",
      "ANy value\n",
      "value: --> 4\n",
      "string\n",
      "list\n",
      "ANy value\n",
      "value: --> 5\n",
      "value: --> 6\n",
      "string\n",
      "list\n",
      "ANy value\n",
      "value: --> 5\n",
      "value: --> 4\n",
      "string\n",
      "list\n",
      "ANy value\n",
      "value: --> 2\n",
      "string\n",
      "list\n",
      "ANy value\n"
     ]
    }
   ],
   "source": [
    "l = [1,2,3,4,5,6,5,4,2]\n",
    "for value in l:\n",
    "    print(\"value: -->\",value)\n",
    "    if value==5:\n",
    "        continue \n",
    "    print(\"string\")\n",
    "    print(\"list\")\n",
    "    print(\"ANy value\")"
   ]
  },
  {
   "cell_type": "code",
   "execution_count": 47,
   "id": "f7f06160-5d11-4799-9238-805aafa62994",
   "metadata": {},
   "outputs": [
    {
     "name": "stdout",
     "output_type": "stream",
     "text": [
      "curr_cgpa:  9.5\n",
      "curr_cgpa:  8.2\n",
      "curr_cgpa:  7.3\n",
      "curr_cgpa:  5\n",
      "Award Ceremony\n",
      "Parties in college\n",
      "curr_cgpa:  5.6\n",
      "curr_cgpa:  9.8\n",
      "curr_cgpa:  10\n",
      "curr_cgpa:  7.1\n",
      "curr_cgpa:  6\n",
      "Award Ceremony\n",
      "Parties in college\n",
      "curr_cgpa:  6.2\n",
      "curr_cgpa:  7.5\n",
      "curr_cgpa:  9.3\n",
      "Award Ceremony\n",
      "Parties in college\n"
     ]
    }
   ],
   "source": [
    "l = [[9.5,8.2,7.3,5], [5.6,9.8,10,7.1,6], [6.2,7.5,9.3]]\n",
    "for cgpa_list in l:\n",
    "    for curr_cgpa in cgpa_list:\n",
    "        print(\"curr_cgpa: \", curr_cgpa)\n",
    "        if curr_cgpa>9:\n",
    "          pass\n",
    "    print(\"Award Ceremony\")\n",
    "    print(\"Parties in college\")"
   ]
  },
  {
   "cell_type": "code",
   "execution_count": 48,
   "id": "60ba80ce-caef-4988-b1b8-12ee2bbcb3e5",
   "metadata": {},
   "outputs": [
    {
     "name": "stdout",
     "output_type": "stream",
     "text": [
      "Value:  10\n",
      "Value:  20\n"
     ]
    }
   ],
   "source": [
    "l = [10,20,30,40]\n",
    "for value in l:\n",
    "    if value>20:\n",
    "        continue \n",
    "    print(\"Value: \", value)"
   ]
  },
  {
   "cell_type": "code",
   "execution_count": 49,
   "id": "6f1444b8-f346-45f6-985c-8a8be56baed7",
   "metadata": {},
   "outputs": [
    {
     "name": "stdout",
     "output_type": "stream",
     "text": [
      "Value:  10\n",
      "Value:  20\n",
      "Value:  30\n",
      "Value:  40\n"
     ]
    }
   ],
   "source": [
    "l = [10,20,30,40]\n",
    "for value in l:\n",
    "    if value>20:\n",
    "        pass \n",
    "    print(\"Value: \", value)"
   ]
  },
  {
   "cell_type": "code",
   "execution_count": 50,
   "id": "37f23e98-bbd7-4764-a3af-7f667cbd10fa",
   "metadata": {},
   "outputs": [
    {
     "ename": "IndentationError",
     "evalue": "expected an indented block after 'if' statement on line 3 (1790560638.py, line 5)",
     "output_type": "error",
     "traceback": [
      "\u001b[1;36m  Cell \u001b[1;32mIn[50], line 5\u001b[1;36m\u001b[0m\n\u001b[1;33m    print(\"Value: \", value)\u001b[0m\n\u001b[1;37m    ^\u001b[0m\n\u001b[1;31mIndentationError\u001b[0m\u001b[1;31m:\u001b[0m expected an indented block after 'if' statement on line 3\n"
     ]
    }
   ],
   "source": [
    " l = [10,20,30,40]\n",
    "for value in l:\n",
    "    if value>20:\n",
    "    # adding a line single comment\n",
    "    print(\"Value: \", value)"
   ]
  },
  {
   "cell_type": "code",
   "execution_count": 51,
   "id": "74c65865-16fe-48ae-86a7-c9be130fcc76",
   "metadata": {},
   "outputs": [
    {
     "name": "stdout",
     "output_type": "stream",
     "text": [
      "curr_total_value:  10\n",
      "curr_total_value:  30\n",
      "curr_total_value:  60\n",
      "curr_total_value:  100\n",
      "curr_total_value:  150\n",
      "curr_total_value:  210\n",
      "In Else Block of for loop\n",
      "Outside For loop\n"
     ]
    }
   ],
   "source": [
    "l = [10,20,30,40,50,60]\n",
    "total_value = 0 \n",
    "for value in l:\n",
    "    total_value += value \n",
    "    print(\"curr_total_value: \", total_value)\n",
    "else:\n",
    "    print(\"In Else Block of for loop\")\n",
    "print(\"Outside For loop\")"
   ]
  },
  {
   "cell_type": "code",
   "execution_count": 52,
   "id": "16f5e98e-9e57-4141-9f87-5795ee8af9ae",
   "metadata": {},
   "outputs": [
    {
     "name": "stdout",
     "output_type": "stream",
     "text": [
      "curr_value:  10\n",
      "curr_value:  20\n",
      "curr_value:  30\n",
      "curr_value:  40\n",
      "curr_value:  50\n",
      "curr_value:  60\n",
      "In Else Block of for loop\n",
      "Outside For loop\n"
     ]
    }
   ],
   "source": [
    "l = [10,20,30,40,50,60]\n",
    "for value in l:\n",
    "    print(\"curr_value: \", value)\n",
    "    if value == 45:\n",
    "        break\n",
    "else:\n",
    "    print(\"In Else Block of for loop\")\n",
    "print(\"Outside For loop\")"
   ]
  },
  {
   "cell_type": "code",
   "execution_count": 53,
   "id": "fbb9ecd8-be9f-431e-b85d-b11c2e4f7c07",
   "metadata": {},
   "outputs": [
    {
     "name": "stdout",
     "output_type": "stream",
     "text": [
      "curr_value:  10\n",
      "curr_value:  20\n",
      "curr_value:  30\n",
      "curr_value:  45\n",
      "Outside For loop\n"
     ]
    }
   ],
   "source": [
    "l = [10,20,30,45,50,60]\n",
    "for value in l:\n",
    "    print(\"curr_value: \", value)\n",
    "    if value == 45:\n",
    "        break\n",
    "else:\n",
    "    print(\"In Else Block of for loop\")\n",
    "print(\"Outside For loop\")"
   ]
  },
  {
   "cell_type": "code",
   "execution_count": 54,
   "id": "66de825f-f050-4b29-b9c5-c4f056f09be4",
   "metadata": {},
   "outputs": [
    {
     "name": "stdout",
     "output_type": "stream",
     "text": [
      "curr_value:  10\n",
      "curr_value:  20\n",
      "curr_value:  30\n",
      "curr_value:  45\n",
      "curr_value:  50\n",
      "curr_value:  60\n",
      "Outside For loop\n"
     ]
    }
   ],
   "source": [
    "l = [10,20,30,45,50,60]\n",
    "for value in l:\n",
    "    print(\"curr_value: \", value)\n",
    "    if value == 60:\n",
    "        break\n",
    "else:\n",
    "    print(\"In Else Block of for loop\")\n",
    "print(\"Outside For loop\")"
   ]
  },
  {
   "cell_type": "code",
   "execution_count": 5,
   "id": "2897bb49-59e6-464d-aa16-929e62b4b18e",
   "metadata": {},
   "outputs": [
    {
     "name": "stdout",
     "output_type": "stream",
     "text": [
      "curr_player:  virat\n",
      "curr_player:  faf\n",
      "curr_player:  maxi\n",
      "curr_player:  dhoni\n",
      "curr_player:  rohit\n",
      "In Else Block of for loop\n",
      "Outside For loop\n"
     ]
    }
   ],
   "source": [
    "players = [\"virat\", \"faf\", \"maxi\", \"dhoni\", \"rohit\"]\n",
    "for player in players:\n",
    "    print(\"curr_player: \", player)\n",
    "    if player == \"abd\":\n",
    "        break\n",
    "else:\n",
    "    print(\"In Else Block of for loop\")\n",
    "print(\"Outside For loop\")"
   ]
  },
  {
   "cell_type": "code",
   "execution_count": 6,
   "id": "87422cb6-7bb7-45d6-9c64-5bb1a0efa8e5",
   "metadata": {},
   "outputs": [
    {
     "name": "stdout",
     "output_type": "stream",
     "text": [
      "curr_player:  virat\n",
      "curr_player:  faf\n",
      "Outside For loop\n"
     ]
    }
   ],
   "source": [
    "players = [\"virat\", \"faf\", \"maxi\", \"dhoni\", \"rohit\"]\n",
    "for player in players:\n",
    "    print(\"curr_player: \", player)\n",
    "    if player == \"faf\":\n",
    "        break\n",
    "else:\n",
    "    print(\"In Else Block of for loop\")\n",
    "print(\"Outside For loop\")"
   ]
  },
  {
   "cell_type": "code",
   "execution_count": 57,
   "id": "3bfe394d-73d6-4a56-a437-012eb8837935",
   "metadata": {},
   "outputs": [
    {
     "name": "stdout",
     "output_type": "stream",
     "text": [
      "In else block of inner for loop\n",
      "In else block of inner for loop\n",
      "In else block of outer for loop\n",
      "Outside complete for loop\n"
     ]
    }
   ],
   "source": [
    "l = [[1,2,3,4], [6,7,9,11]]\n",
    "for curr_list in l:\n",
    "    for value in curr_list:\n",
    "        if value == 5:\n",
    "          break \n",
    "    else:\n",
    "        print(\"In else block of inner for loop\")\n",
    "else:\n",
    "    print(\"In else block of outer for loop\")\n",
    "print(\"Outside complete for loop\")"
   ]
  },
  {
   "cell_type": "code",
   "execution_count": 58,
   "id": "7912ca5a-74d5-47cc-afc7-62b91c199ea4",
   "metadata": {},
   "outputs": [
    {
     "name": "stdout",
     "output_type": "stream",
     "text": [
      "value i :  0\n",
      "value i :  1\n",
      "value i :  2\n",
      "value i :  3\n",
      "value i :  4\n",
      "value i :  5\n",
      "value i :  6\n",
      "value i :  7\n",
      "Outside while loop\n"
     ]
    }
   ],
   "source": [
    "i = 0 \n",
    "n = 10 \n",
    "while i<n:\n",
    "  print(\"value i : \", i)\n",
    "  if i==7:\n",
    "    break\n",
    "  i+=1 \n",
    "else:\n",
    "  print(\"This is while loop else\")\n",
    "print(\"Outside while loop\")"
   ]
  },
  {
   "cell_type": "code",
   "execution_count": 59,
   "id": "b37838e6-aedf-4930-938d-85ee9435330d",
   "metadata": {},
   "outputs": [
    {
     "name": "stdout",
     "output_type": "stream",
     "text": [
      "value i :  0\n",
      "value i :  1\n",
      "value i :  2\n",
      "value i :  3\n",
      "value i :  4\n",
      "value i :  5\n",
      "value i :  6\n",
      "value i :  7\n",
      "Hi nanna\n",
      "value i :  8\n",
      "value i :  9\n",
      "This is while loop else\n",
      "Outside while loop\n"
     ]
    }
   ],
   "source": [
    "i = 0 \n",
    "n = 10 \n",
    "while i<n:\n",
    "  print(\"value i : \", i)\n",
    "  if i==7:\n",
    "    print(\"Hi nanna\")\n",
    "  i+=1 \n",
    "else:\n",
    "  print(\"This is while loop else\")\n",
    "print(\"Outside while loop\")"
   ]
  },
  {
   "cell_type": "code",
   "execution_count": null,
   "id": "b6089068-7ca2-48f8-af83-f578f969a98d",
   "metadata": {},
   "outputs": [],
   "source": []
  }
 ],
 "metadata": {
  "kernelspec": {
   "display_name": "Python 3 (ipykernel)",
   "language": "python",
   "name": "python3"
  },
  "language_info": {
   "codemirror_mode": {
    "name": "ipython",
    "version": 3
   },
   "file_extension": ".py",
   "mimetype": "text/x-python",
   "name": "python",
   "nbconvert_exporter": "python",
   "pygments_lexer": "ipython3",
   "version": "3.11.7"
  }
 },
 "nbformat": 4,
 "nbformat_minor": 5
}
