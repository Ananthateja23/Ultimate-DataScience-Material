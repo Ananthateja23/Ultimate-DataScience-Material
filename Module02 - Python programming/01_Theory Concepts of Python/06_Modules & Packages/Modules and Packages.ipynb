{
 "cells": [
  {
   "cell_type": "markdown",
   "id": "eebe619e-673f-41d2-97dc-d47b857ba387",
   "metadata": {},
   "source": [
    "### ***Module:***\n",
    "#### - Module is a Python file that contains variables, functions, classes\n",
    "#### - We can import a module using the import keyword\n",
    "#### - After Imported a module we can use all the functions, classes, and variables of that module\n",
    "\n",
    "### ***Need of Module:***\n",
    "#### - To Effectively organize the code structure\n",
    "#### - Code reusability\n",
    "#### - It is helpful to debug the code easily and maintainable\n",
    "#### - It is more readable and understandable instead of put and write everything in a large file\n",
    "\n",
    "### ***Syntax:***\n",
    "#### 1. import `module_name`\n",
    "#### 2. import `module_name as alias_name`\n",
    "#### 3. from `module_name` import `function_name, variable_name, class_name`\n",
    "#### 4. from `module_name` import `function_name as alias_name, variable_name as alias_name, class_name as alias_name`\n",
    "#### 5. from `module_name` import `*`\n",
    "#### Here * denotes  we are importing all the functions, classes, and variables of the module\n",
    "\n",
    "\n",
    "### ***Types of Modules:***\n",
    "#### 1. builtin module\n",
    "#### 2. User-defined module\n",
    "\n",
    "### ***builtin module:***\n",
    "#### - These modules have already been written and published. \n",
    "#### - we cannot make any changes in the builtin module\n",
    "#### - we can only import and use it\n",
    "#### - examples: math, datetime, random, os\n",
    "\n",
    "### ***User-defined module:***\n",
    "#### - These modules need to be write from scratch according to the requirements\n",
    "#### - we can make changes in the User-defined module\n",
    "#### - we can import and use it like builtin module\n",
    "#### - We include the statement `if __name__ == \"__main__\":` in user-defined modules to prevent the script's code from executing when the module is imported into another module\n",
    "\n",
    "### ***`__name__`:***\n",
    "#### - It is a special built-in variable in Python that holds the module's name or the value `__main__` when the module is executed as a standalone script\n",
    "#### - If we import a module into another module, the value of `__name__` in the imported module will be its module name, while the value of `__name__` in the current module will be `__main__`\n",
    "#### - If we run the module as a standalone script, the value of `__name__` will be `__main__`\n"
   ]
  },
  {
   "cell_type": "markdown",
   "id": "1013b0ce-9be4-4c1e-aa37-8f90a59c9dd6",
   "metadata": {},
   "source": [
    "----"
   ]
  },
  {
   "cell_type": "code",
   "execution_count": 1,
   "id": "0d97e1d5-300c-4d65-b160-4d5de9ee29da",
   "metadata": {},
   "outputs": [
    {
     "name": "stdout",
     "output_type": "stream",
     "text": [
      "120\n",
      "10.0\n",
      "6\n",
      "7\n"
     ]
    }
   ],
   "source": [
    "import math\n",
    "print(math.factorial(5))\n",
    "print(math.sqrt(100))\n",
    "print(math.floor(6.9))\n",
    "print(math.ceil(6.9))"
   ]
  },
  {
   "cell_type": "code",
   "execution_count": 10,
   "id": "cce77022-f3a0-4e3f-af17-8e2b619f16f2",
   "metadata": {},
   "outputs": [
    {
     "name": "stdout",
     "output_type": "stream",
     "text": [
      "120\n",
      "10.0\n",
      "6\n",
      "7\n"
     ]
    }
   ],
   "source": [
    "import math as m\n",
    "print(m.factorial(5))\n",
    "print(m.sqrt(100))\n",
    "print(m.floor(6.9))\n",
    "print(m.ceil(6.9))"
   ]
  },
  {
   "cell_type": "code",
   "execution_count": 5,
   "id": "f76ebdd4-620e-4970-8541-8b846f40c534",
   "metadata": {},
   "outputs": [
    {
     "name": "stdout",
     "output_type": "stream",
     "text": [
      "120\n"
     ]
    }
   ],
   "source": [
    "from math import factorial\n",
    "print(factorial(5))"
   ]
  },
  {
   "cell_type": "code",
   "execution_count": 7,
   "id": "c37fe7f4-4436-4f3c-9bc4-4cabff6aa7c9",
   "metadata": {},
   "outputs": [
    {
     "name": "stdout",
     "output_type": "stream",
     "text": [
      "120\n",
      "10.0\n",
      "6\n",
      "7\n"
     ]
    }
   ],
   "source": [
    "from math import factorial, sqrt, floor, ceil\n",
    "print(factorial(5))\n",
    "print(sqrt(100))\n",
    "print(floor(6.9))\n",
    "print(ceil(6.9))"
   ]
  },
  {
   "cell_type": "code",
   "execution_count": 11,
   "id": "2ba95f7f-4f0f-4f58-ad47-604011889d50",
   "metadata": {},
   "outputs": [
    {
     "name": "stdout",
     "output_type": "stream",
     "text": [
      "120\n",
      "10.0\n",
      "6\n",
      "7\n"
     ]
    }
   ],
   "source": [
    "from math import *\n",
    "print(factorial(5))\n",
    "print(sqrt(100))\n",
    "print(floor(6.9))\n",
    "print(ceil(6.9))"
   ]
  },
  {
   "cell_type": "markdown",
   "id": "58ef9ee1-e715-4fab-b325-8368cac7e0e8",
   "metadata": {},
   "source": [
    "### ***Package:***\n",
    "#### - In Python, It is a directory that contains a file `__init__.py` and a collection of sub packages and modules together\n",
    "#### - We can import a package in the same way as module\n",
    "### ***syntax:***\n",
    "#### 1. import `package_name.module_name`\n",
    "#### 2. import `package_name.subpackage_name.module_name`\n",
    "#### 3. from `package_name` import `module_name`\n",
    "#### 4. from `package_name.subpackage_name` import `module_name`\n",
    "#### 5. from `package_name.module_name` import `function_name`\n",
    "#### 6. from `package_name` import *\n",
    "#### when we are using `*` related to package. Always make sure to add the subpackages and module inside of `__init__.py`\n",
    "#### i.e `__all__=['subpackage','module']`"
   ]
  },
  {
   "cell_type": "markdown",
   "id": "73986dd3-5730-41e6-a618-193edfeee9c1",
   "metadata": {},
   "source": [
    "### ***dir()***\n",
    "#### - It returns list of all the attributes and methods (including dunder methods) available for an object\n",
    "### ***help()***\n",
    "#### - The help function is used to get help documentation for an object, including descriptions of its attributes and methods"
   ]
  },
  {
   "cell_type": "code",
   "execution_count": 2,
   "id": "b8dc4905-50b3-4413-887d-f19e0c43177e",
   "metadata": {},
   "outputs": [],
   "source": [
    "import math"
   ]
  },
  {
   "cell_type": "code",
   "execution_count": 4,
   "id": "3b387e98-149c-4875-aa69-a99bbb4b427b",
   "metadata": {},
   "outputs": [
    {
     "name": "stdout",
     "output_type": "stream",
     "text": [
      "['__doc__', '__loader__', '__name__', '__package__', '__spec__', 'acos', 'acosh', 'asin', 'asinh', 'atan', 'atan2', 'atanh', 'cbrt', 'ceil', 'comb', 'copysign', 'cos', 'cosh', 'degrees', 'dist', 'e', 'erf', 'erfc', 'exp', 'exp2', 'expm1', 'fabs', 'factorial', 'floor', 'fmod', 'frexp', 'fsum', 'gamma', 'gcd', 'hypot', 'inf', 'isclose', 'isfinite', 'isinf', 'isnan', 'isqrt', 'lcm', 'ldexp', 'lgamma', 'log', 'log10', 'log1p', 'log2', 'modf', 'nan', 'nextafter', 'perm', 'pi', 'pow', 'prod', 'radians', 'remainder', 'sin', 'sinh', 'sqrt', 'tan', 'tanh', 'tau', 'trunc', 'ulp']\n"
     ]
    }
   ],
   "source": [
    "print(dir(math))"
   ]
  },
  {
   "cell_type": "code",
   "execution_count": 5,
   "id": "80bc9bb3-249e-487b-9fa2-0c04b559274e",
   "metadata": {},
   "outputs": [
    {
     "name": "stdout",
     "output_type": "stream",
     "text": [
      "Help on built-in module math:\n",
      "\n",
      "NAME\n",
      "    math\n",
      "\n",
      "DESCRIPTION\n",
      "    This module provides access to the mathematical functions\n",
      "    defined by the C standard.\n",
      "\n",
      "FUNCTIONS\n",
      "    acos(x, /)\n",
      "        Return the arc cosine (measured in radians) of x.\n",
      "        \n",
      "        The result is between 0 and pi.\n",
      "    \n",
      "    acosh(x, /)\n",
      "        Return the inverse hyperbolic cosine of x.\n",
      "    \n",
      "    asin(x, /)\n",
      "        Return the arc sine (measured in radians) of x.\n",
      "        \n",
      "        The result is between -pi/2 and pi/2.\n",
      "    \n",
      "    asinh(x, /)\n",
      "        Return the inverse hyperbolic sine of x.\n",
      "    \n",
      "    atan(x, /)\n",
      "        Return the arc tangent (measured in radians) of x.\n",
      "        \n",
      "        The result is between -pi/2 and pi/2.\n",
      "    \n",
      "    atan2(y, x, /)\n",
      "        Return the arc tangent (measured in radians) of y/x.\n",
      "        \n",
      "        Unlike atan(y/x), the signs of both x and y are considered.\n",
      "    \n",
      "    atanh(x, /)\n",
      "        Return the inverse hyperbolic tangent of x.\n",
      "    \n",
      "    cbrt(x, /)\n",
      "        Return the cube root of x.\n",
      "    \n",
      "    ceil(x, /)\n",
      "        Return the ceiling of x as an Integral.\n",
      "        \n",
      "        This is the smallest integer >= x.\n",
      "    \n",
      "    comb(n, k, /)\n",
      "        Number of ways to choose k items from n items without repetition and without order.\n",
      "        \n",
      "        Evaluates to n! / (k! * (n - k)!) when k <= n and evaluates\n",
      "        to zero when k > n.\n",
      "        \n",
      "        Also called the binomial coefficient because it is equivalent\n",
      "        to the coefficient of k-th term in polynomial expansion of the\n",
      "        expression (1 + x)**n.\n",
      "        \n",
      "        Raises TypeError if either of the arguments are not integers.\n",
      "        Raises ValueError if either of the arguments are negative.\n",
      "    \n",
      "    copysign(x, y, /)\n",
      "        Return a float with the magnitude (absolute value) of x but the sign of y.\n",
      "        \n",
      "        On platforms that support signed zeros, copysign(1.0, -0.0)\n",
      "        returns -1.0.\n",
      "    \n",
      "    cos(x, /)\n",
      "        Return the cosine of x (measured in radians).\n",
      "    \n",
      "    cosh(x, /)\n",
      "        Return the hyperbolic cosine of x.\n",
      "    \n",
      "    degrees(x, /)\n",
      "        Convert angle x from radians to degrees.\n",
      "    \n",
      "    dist(p, q, /)\n",
      "        Return the Euclidean distance between two points p and q.\n",
      "        \n",
      "        The points should be specified as sequences (or iterables) of\n",
      "        coordinates.  Both inputs must have the same dimension.\n",
      "        \n",
      "        Roughly equivalent to:\n",
      "            sqrt(sum((px - qx) ** 2.0 for px, qx in zip(p, q)))\n",
      "    \n",
      "    erf(x, /)\n",
      "        Error function at x.\n",
      "    \n",
      "    erfc(x, /)\n",
      "        Complementary error function at x.\n",
      "    \n",
      "    exp(x, /)\n",
      "        Return e raised to the power of x.\n",
      "    \n",
      "    exp2(x, /)\n",
      "        Return 2 raised to the power of x.\n",
      "    \n",
      "    expm1(x, /)\n",
      "        Return exp(x)-1.\n",
      "        \n",
      "        This function avoids the loss of precision involved in the direct evaluation of exp(x)-1 for small x.\n",
      "    \n",
      "    fabs(x, /)\n",
      "        Return the absolute value of the float x.\n",
      "    \n",
      "    factorial(n, /)\n",
      "        Find n!.\n",
      "        \n",
      "        Raise a ValueError if x is negative or non-integral.\n",
      "    \n",
      "    floor(x, /)\n",
      "        Return the floor of x as an Integral.\n",
      "        \n",
      "        This is the largest integer <= x.\n",
      "    \n",
      "    fmod(x, y, /)\n",
      "        Return fmod(x, y), according to platform C.\n",
      "        \n",
      "        x % y may differ.\n",
      "    \n",
      "    frexp(x, /)\n",
      "        Return the mantissa and exponent of x, as pair (m, e).\n",
      "        \n",
      "        m is a float and e is an int, such that x = m * 2.**e.\n",
      "        If x is 0, m and e are both 0.  Else 0.5 <= abs(m) < 1.0.\n",
      "    \n",
      "    fsum(seq, /)\n",
      "        Return an accurate floating point sum of values in the iterable seq.\n",
      "        \n",
      "        Assumes IEEE-754 floating point arithmetic.\n",
      "    \n",
      "    gamma(x, /)\n",
      "        Gamma function at x.\n",
      "    \n",
      "    gcd(*integers)\n",
      "        Greatest Common Divisor.\n",
      "    \n",
      "    hypot(...)\n",
      "        hypot(*coordinates) -> value\n",
      "        \n",
      "        Multidimensional Euclidean distance from the origin to a point.\n",
      "        \n",
      "        Roughly equivalent to:\n",
      "            sqrt(sum(x**2 for x in coordinates))\n",
      "        \n",
      "        For a two dimensional point (x, y), gives the hypotenuse\n",
      "        using the Pythagorean theorem:  sqrt(x*x + y*y).\n",
      "        \n",
      "        For example, the hypotenuse of a 3/4/5 right triangle is:\n",
      "        \n",
      "            >>> hypot(3.0, 4.0)\n",
      "            5.0\n",
      "    \n",
      "    isclose(a, b, *, rel_tol=1e-09, abs_tol=0.0)\n",
      "        Determine whether two floating point numbers are close in value.\n",
      "        \n",
      "          rel_tol\n",
      "            maximum difference for being considered \"close\", relative to the\n",
      "            magnitude of the input values\n",
      "          abs_tol\n",
      "            maximum difference for being considered \"close\", regardless of the\n",
      "            magnitude of the input values\n",
      "        \n",
      "        Return True if a is close in value to b, and False otherwise.\n",
      "        \n",
      "        For the values to be considered close, the difference between them\n",
      "        must be smaller than at least one of the tolerances.\n",
      "        \n",
      "        -inf, inf and NaN behave similarly to the IEEE 754 Standard.  That\n",
      "        is, NaN is not close to anything, even itself.  inf and -inf are\n",
      "        only close to themselves.\n",
      "    \n",
      "    isfinite(x, /)\n",
      "        Return True if x is neither an infinity nor a NaN, and False otherwise.\n",
      "    \n",
      "    isinf(x, /)\n",
      "        Return True if x is a positive or negative infinity, and False otherwise.\n",
      "    \n",
      "    isnan(x, /)\n",
      "        Return True if x is a NaN (not a number), and False otherwise.\n",
      "    \n",
      "    isqrt(n, /)\n",
      "        Return the integer part of the square root of the input.\n",
      "    \n",
      "    lcm(*integers)\n",
      "        Least Common Multiple.\n",
      "    \n",
      "    ldexp(x, i, /)\n",
      "        Return x * (2**i).\n",
      "        \n",
      "        This is essentially the inverse of frexp().\n",
      "    \n",
      "    lgamma(x, /)\n",
      "        Natural logarithm of absolute value of Gamma function at x.\n",
      "    \n",
      "    log(...)\n",
      "        log(x, [base=math.e])\n",
      "        Return the logarithm of x to the given base.\n",
      "        \n",
      "        If the base not specified, returns the natural logarithm (base e) of x.\n",
      "    \n",
      "    log10(x, /)\n",
      "        Return the base 10 logarithm of x.\n",
      "    \n",
      "    log1p(x, /)\n",
      "        Return the natural logarithm of 1+x (base e).\n",
      "        \n",
      "        The result is computed in a way which is accurate for x near zero.\n",
      "    \n",
      "    log2(x, /)\n",
      "        Return the base 2 logarithm of x.\n",
      "    \n",
      "    modf(x, /)\n",
      "        Return the fractional and integer parts of x.\n",
      "        \n",
      "        Both results carry the sign of x and are floats.\n",
      "    \n",
      "    nextafter(x, y, /)\n",
      "        Return the next floating-point value after x towards y.\n",
      "    \n",
      "    perm(n, k=None, /)\n",
      "        Number of ways to choose k items from n items without repetition and with order.\n",
      "        \n",
      "        Evaluates to n! / (n - k)! when k <= n and evaluates\n",
      "        to zero when k > n.\n",
      "        \n",
      "        If k is not specified or is None, then k defaults to n\n",
      "        and the function returns n!.\n",
      "        \n",
      "        Raises TypeError if either of the arguments are not integers.\n",
      "        Raises ValueError if either of the arguments are negative.\n",
      "    \n",
      "    pow(x, y, /)\n",
      "        Return x**y (x to the power of y).\n",
      "    \n",
      "    prod(iterable, /, *, start=1)\n",
      "        Calculate the product of all the elements in the input iterable.\n",
      "        \n",
      "        The default start value for the product is 1.\n",
      "        \n",
      "        When the iterable is empty, return the start value.  This function is\n",
      "        intended specifically for use with numeric values and may reject\n",
      "        non-numeric types.\n",
      "    \n",
      "    radians(x, /)\n",
      "        Convert angle x from degrees to radians.\n",
      "    \n",
      "    remainder(x, y, /)\n",
      "        Difference between x and the closest integer multiple of y.\n",
      "        \n",
      "        Return x - n*y where n*y is the closest integer multiple of y.\n",
      "        In the case where x is exactly halfway between two multiples of\n",
      "        y, the nearest even value of n is used. The result is always exact.\n",
      "    \n",
      "    sin(x, /)\n",
      "        Return the sine of x (measured in radians).\n",
      "    \n",
      "    sinh(x, /)\n",
      "        Return the hyperbolic sine of x.\n",
      "    \n",
      "    sqrt(x, /)\n",
      "        Return the square root of x.\n",
      "    \n",
      "    tan(x, /)\n",
      "        Return the tangent of x (measured in radians).\n",
      "    \n",
      "    tanh(x, /)\n",
      "        Return the hyperbolic tangent of x.\n",
      "    \n",
      "    trunc(x, /)\n",
      "        Truncates the Real x to the nearest Integral toward 0.\n",
      "        \n",
      "        Uses the __trunc__ magic method.\n",
      "    \n",
      "    ulp(x, /)\n",
      "        Return the value of the least significant bit of the float x.\n",
      "\n",
      "DATA\n",
      "    e = 2.718281828459045\n",
      "    inf = inf\n",
      "    nan = nan\n",
      "    pi = 3.141592653589793\n",
      "    tau = 6.283185307179586\n",
      "\n",
      "FILE\n",
      "    (built-in)\n",
      "\n",
      "\n",
      "None\n"
     ]
    }
   ],
   "source": [
    "print(help(math))"
   ]
  },
  {
   "cell_type": "markdown",
   "id": "6fa26477-d15f-4a7a-9e01-afa6c22518bf",
   "metadata": {},
   "source": [
    "### ***math Module***"
   ]
  },
  {
   "cell_type": "code",
   "execution_count": 7,
   "id": "48e7235c-bd6f-48ad-b2b1-499b63ba90ce",
   "metadata": {},
   "outputs": [],
   "source": [
    "import math"
   ]
  },
  {
   "cell_type": "code",
   "execution_count": 8,
   "id": "f32923d2-bc3d-416f-b639-aba5cf0fbd9b",
   "metadata": {},
   "outputs": [
    {
     "data": {
      "text/plain": [
       "10.0"
      ]
     },
     "execution_count": 8,
     "metadata": {},
     "output_type": "execute_result"
    }
   ],
   "source": [
    "math.sqrt(100)"
   ]
  },
  {
   "cell_type": "code",
   "execution_count": 9,
   "id": "dd7b87ce-5312-4c61-9aa4-92c6bdbec062",
   "metadata": {},
   "outputs": [
    {
     "data": {
      "text/plain": [
       "10"
      ]
     },
     "execution_count": 9,
     "metadata": {},
     "output_type": "execute_result"
    }
   ],
   "source": [
    "math.ceil(9.2)"
   ]
  },
  {
   "cell_type": "code",
   "execution_count": 10,
   "id": "f6ffde72-0c21-4fd7-ba60-755ab528a5f4",
   "metadata": {},
   "outputs": [
    {
     "data": {
      "text/plain": [
       "-9"
      ]
     },
     "execution_count": 10,
     "metadata": {},
     "output_type": "execute_result"
    }
   ],
   "source": [
    "math.ceil(-9.2)"
   ]
  },
  {
   "cell_type": "code",
   "execution_count": 11,
   "id": "38caa476-598e-4985-97b5-8fe764f6d797",
   "metadata": {},
   "outputs": [
    {
     "data": {
      "text/plain": [
       "-8"
      ]
     },
     "execution_count": 11,
     "metadata": {},
     "output_type": "execute_result"
    }
   ],
   "source": [
    "math.floor(-7.25)"
   ]
  },
  {
   "cell_type": "code",
   "execution_count": 13,
   "id": "9cbc52e8-f569-4fc2-b54c-fc14773479da",
   "metadata": {},
   "outputs": [
    {
     "data": {
      "text/plain": [
       "7"
      ]
     },
     "execution_count": 13,
     "metadata": {},
     "output_type": "execute_result"
    }
   ],
   "source": [
    "math.floor(7.25)"
   ]
  },
  {
   "cell_type": "code",
   "execution_count": 14,
   "id": "daceb34c-43e2-424c-a31a-4312be3d0f92",
   "metadata": {},
   "outputs": [
    {
     "data": {
      "text/plain": [
       "128.0"
      ]
     },
     "execution_count": 14,
     "metadata": {},
     "output_type": "execute_result"
    }
   ],
   "source": [
    "math.pow(2,7)"
   ]
  },
  {
   "cell_type": "code",
   "execution_count": 15,
   "id": "892f15e3-b06f-4a9e-882b-df595cfbe99a",
   "metadata": {},
   "outputs": [
    {
     "data": {
      "text/plain": [
       "125.0"
      ]
     },
     "execution_count": 15,
     "metadata": {},
     "output_type": "execute_result"
    }
   ],
   "source": [
    "math.pow(5,3)"
   ]
  },
  {
   "cell_type": "code",
   "execution_count": 16,
   "id": "aa270e70-4920-4483-8e95-3f5919aa0285",
   "metadata": {},
   "outputs": [
    {
     "data": {
      "text/plain": [
       "98.25"
      ]
     },
     "execution_count": 16,
     "metadata": {},
     "output_type": "execute_result"
    }
   ],
   "source": [
    "math.fabs(-98.25)"
   ]
  },
  {
   "cell_type": "code",
   "execution_count": 18,
   "id": "e6464d78-b056-4323-a964-23cf38a60281",
   "metadata": {},
   "outputs": [
    {
     "data": {
      "text/plain": [
       "87.98"
      ]
     },
     "execution_count": 18,
     "metadata": {},
     "output_type": "execute_result"
    }
   ],
   "source": [
    "# fabs: float absolute value\n",
    "math.fabs(-87.98)"
   ]
  },
  {
   "cell_type": "code",
   "execution_count": 19,
   "id": "520aeba0-605f-414c-b477-c1d2abbe7020",
   "metadata": {},
   "outputs": [
    {
     "data": {
      "text/plain": [
       "120"
      ]
     },
     "execution_count": 19,
     "metadata": {},
     "output_type": "execute_result"
    }
   ],
   "source": [
    "math.factorial(5)"
   ]
  },
  {
   "cell_type": "code",
   "execution_count": 20,
   "id": "68d9a340-df00-4756-9d36-a1f3b10d51ab",
   "metadata": {},
   "outputs": [
    {
     "data": {
      "text/plain": [
       "720"
      ]
     },
     "execution_count": 20,
     "metadata": {},
     "output_type": "execute_result"
    }
   ],
   "source": [
    "math.factorial(6)"
   ]
  },
  {
   "cell_type": "code",
   "execution_count": 21,
   "id": "be261617-f278-4f8c-adf6-cbbd1d4076d8",
   "metadata": {},
   "outputs": [
    {
     "data": {
      "text/plain": [
       "-0.5440211108893698"
      ]
     },
     "execution_count": 21,
     "metadata": {},
     "output_type": "execute_result"
    }
   ],
   "source": [
    "# sin(): it returns sin value of a number\n",
    "math.sin(10)"
   ]
  },
  {
   "cell_type": "code",
   "execution_count": 22,
   "id": "46df9eaf-5840-4309-8b18-56061c448d05",
   "metadata": {},
   "outputs": [
    {
     "data": {
      "text/plain": [
       "0.49999999999999994"
      ]
     },
     "execution_count": 22,
     "metadata": {},
     "output_type": "execute_result"
    }
   ],
   "source": [
    "math.sin(math.radians(30))"
   ]
  },
  {
   "cell_type": "code",
   "execution_count": 23,
   "id": "92de12b1-21f1-4984-b4a6-478810f00d41",
   "metadata": {},
   "outputs": [
    {
     "data": {
      "text/plain": [
       "-0.8390715290764524"
      ]
     },
     "execution_count": 23,
     "metadata": {},
     "output_type": "execute_result"
    }
   ],
   "source": [
    "# cos(): it returns cos value of a number\n",
    "math.cos(10)"
   ]
  },
  {
   "cell_type": "code",
   "execution_count": 24,
   "id": "b32ae936-2e60-4651-85e2-9cc6488e1fe9",
   "metadata": {},
   "outputs": [
    {
     "data": {
      "text/plain": [
       "0.8660254037844387"
      ]
     },
     "execution_count": 24,
     "metadata": {},
     "output_type": "execute_result"
    }
   ],
   "source": [
    "math.cos(math.radians(30))"
   ]
  },
  {
   "cell_type": "code",
   "execution_count": 26,
   "id": "202190a2-df8d-46b5-ba3d-f5874703a426",
   "metadata": {},
   "outputs": [
    {
     "data": {
      "text/plain": [
       "1.6197751905438615"
      ]
     },
     "execution_count": 26,
     "metadata": {},
     "output_type": "execute_result"
    }
   ],
   "source": [
    "# tan(): it returns tan value of a number\n",
    "math.tan(45)"
   ]
  },
  {
   "cell_type": "code",
   "execution_count": 27,
   "id": "4267e401-ffdc-4053-91e3-e67cb6a87522",
   "metadata": {},
   "outputs": [
    {
     "data": {
      "text/plain": [
       "0.9999999999999999"
      ]
     },
     "execution_count": 27,
     "metadata": {},
     "output_type": "execute_result"
    }
   ],
   "source": [
    "math.tan(math.radians(45))"
   ]
  },
  {
   "cell_type": "markdown",
   "id": "7585fcf2-90e1-4dc0-beb5-822cbdf8002c",
   "metadata": {},
   "source": [
    "### ***random Module***"
   ]
  },
  {
   "cell_type": "code",
   "execution_count": 1,
   "id": "66b00941-2894-462c-8a05-02f8f172d2dc",
   "metadata": {},
   "outputs": [],
   "source": [
    "import random"
   ]
  },
  {
   "cell_type": "code",
   "execution_count": 9,
   "id": "2cc38350-0888-4637-827d-2a259d0f467c",
   "metadata": {},
   "outputs": [
    {
     "name": "stdout",
     "output_type": "stream",
     "text": [
      "5\n"
     ]
    }
   ],
   "source": [
    "# randint(a,b) ==> a and b are include\n",
    "print(random.randint(1,5))"
   ]
  },
  {
   "cell_type": "code",
   "execution_count": 10,
   "id": "c259dd35-6f76-4e1c-aacb-a7759484ca39",
   "metadata": {},
   "outputs": [
    {
     "name": "stdout",
     "output_type": "stream",
     "text": [
      "4\n"
     ]
    }
   ],
   "source": [
    "# randrange(a,b) ==> a(included) b(not included)\n",
    "print(random.randrange(1,5))"
   ]
  },
  {
   "cell_type": "code",
   "execution_count": 11,
   "id": "e9a524c1-e2e8-4697-8f2b-150fc07df53b",
   "metadata": {},
   "outputs": [
    {
     "name": "stdout",
     "output_type": "stream",
     "text": [
      "0.11105396972563963\n"
     ]
    }
   ],
   "source": [
    "# random() ==> returns float value between 0.0<= X <1.0(0.9999...)\n",
    "print(random.random())"
   ]
  },
  {
   "cell_type": "code",
   "execution_count": 12,
   "id": "3d9c3799-3146-4124-9c9d-9b07e7111f4b",
   "metadata": {},
   "outputs": [
    {
     "name": "stdout",
     "output_type": "stream",
     "text": [
      "3.955854685821464\n"
     ]
    }
   ],
   "source": [
    "# uniform(a,b) : a<= X <=b\n",
    "print(random.uniform(1, 5))"
   ]
  },
  {
   "cell_type": "code",
   "execution_count": 13,
   "id": "e5d620a1-7fa4-408d-b89e-ea2b90fd2b4e",
   "metadata": {},
   "outputs": [
    {
     "name": "stdout",
     "output_type": "stream",
     "text": [
      "-10\n"
     ]
    }
   ],
   "source": [
    "l = [10, -10, 5, 3, 8, -4]\n",
    "print(random.choice(l))"
   ]
  },
  {
   "cell_type": "code",
   "execution_count": 14,
   "id": "7b239e95-4340-486f-9adb-94e3b483d0b5",
   "metadata": {},
   "outputs": [
    {
     "name": "stdout",
     "output_type": "stream",
     "text": [
      "5\n"
     ]
    }
   ],
   "source": [
    "print(random.choice(l))"
   ]
  },
  {
   "cell_type": "code",
   "execution_count": 15,
   "id": "9278fc91-ba04-45b0-be02-355b2988b606",
   "metadata": {},
   "outputs": [
    {
     "name": "stdout",
     "output_type": "stream",
     "text": [
      "None\n"
     ]
    }
   ],
   "source": [
    "l = [10, -10, 5, 3, 8, -4]\n",
    "print(random.shuffle(l))"
   ]
  },
  {
   "cell_type": "code",
   "execution_count": 40,
   "id": "3c83fa21-fde0-43ee-ba97-19b4518d1a6f",
   "metadata": {},
   "outputs": [
    {
     "data": {
      "text/plain": [
       "[-4, 8, -10, 5, 3, 10]"
      ]
     },
     "execution_count": 40,
     "metadata": {},
     "output_type": "execute_result"
    }
   ],
   "source": [
    "l"
   ]
  },
  {
   "cell_type": "markdown",
   "id": "6aa08fd5-68b8-4f83-871f-2153fdb558e4",
   "metadata": {},
   "source": [
    "### ***datetime Module***\n",
    "#### for more detailed information: [datetime](https://www.programiz.com/python-programming/datetime \"Explore datetime module\")\n",
    "\n",
    "# What is UTC?  \r\n",
    "Think of **UTC** as the \"master clock\" that shows the same time everywhere on Earth, like a giant clock in space. If UTC says it’s **12:00 noon**, it’s the same for everyone, no matter where you live.\r\n",
    "\r\n",
    "# What are time zones?  \r\n",
    "The Earth is divided into **24 slices (time zones)** because the Sun doesn’t shine on all parts of the Earth at the same time. So, every place adjusts its time (called an **offset**) to match the position of the Sun.\r\n",
    "\r\n",
    "## Example:  \r\n",
    "- **In London**, they use UTC without any changes, so if UTC is **12:00 noon**, it’s also **12:00 noon** in London.  \r\n",
    "- **In New York**, they are 5 hours behind UTC, so their time is **UTC - 5**. This means if UTC is **12:00 noon**, it’s **7:00 AM** in New York.  \r\n",
    "- **In India**, they are 5 hours and 30 minutes ahead of UTC, so their time is **UTC + 5:30**. This means if UTC is **12:00 noon**, it’s **5:30 PM** in India.\r\n",
    "\r\n",
    "# Why does this happen?  \r\n",
    "Because the Earth rotates, the Sun rises and sets at different times in different places. Time zones help people set their clocks to match their daytime and nighttime.\r\n",
    "\r\n",
    "# Summary  \r\n",
    "**UTC** is like the base time, and every country adjusts (**offsets**) it to suit their location.\r\n"
   ]
  },
  {
   "cell_type": "markdown",
   "id": "52302d36-893b-4208-a06b-ca33fa5c66d1",
   "metadata": {},
   "source": [
    "----"
   ]
  },
  {
   "cell_type": "code",
   "execution_count": 1,
   "id": "deaa65ed-2c23-481e-86b7-a1a09a506b7f",
   "metadata": {},
   "outputs": [],
   "source": [
    "import datetime as dt"
   ]
  },
  {
   "cell_type": "code",
   "execution_count": 17,
   "id": "2a7b16b8-e987-479f-ba17-185748db60f8",
   "metadata": {},
   "outputs": [
    {
     "name": "stdout",
     "output_type": "stream",
     "text": [
      "2024-12-15\n"
     ]
    }
   ],
   "source": [
    "current_date = dt.date.today()\n",
    "print(current_date)"
   ]
  },
  {
   "cell_type": "markdown",
   "id": "f1a33797-2cdf-432a-b2b0-d5330766afe8",
   "metadata": {},
   "source": [
    "#### In datetime module, we have popular classes to work with date and time:\n",
    "#### - date class to work with date\n",
    "#### - time class to work with time\n",
    "#### - datetime class to work with combination of date and time classes"
   ]
  },
  {
   "cell_type": "markdown",
   "id": "04886d4c-ced1-4a08-9918-caa3cab83cfb",
   "metadata": {},
   "source": [
    "### ***date class***\n",
    "#### - The date class of the datetime module is used to create a date objects that can store year, month, and day"
   ]
  },
  {
   "cell_type": "code",
   "execution_count": 20,
   "id": "7db93756-3100-44ab-9a00-7694c1ad80a4",
   "metadata": {},
   "outputs": [
    {
     "data": {
      "text/plain": [
       "datetime.date(2024, 12, 15)"
      ]
     },
     "execution_count": 20,
     "metadata": {},
     "output_type": "execute_result"
    }
   ],
   "source": [
    "dt.date(2024, 12, 15)"
   ]
  },
  {
   "cell_type": "code",
   "execution_count": 19,
   "id": "19b4d68d-6166-478e-af30-4a54c14230a9",
   "metadata": {},
   "outputs": [
    {
     "name": "stdout",
     "output_type": "stream",
     "text": [
      "Year  :  2024\n",
      "Month :  12\n",
      "Day   :  15\n"
     ]
    }
   ],
   "source": [
    "date1 = dt.date.today()\n",
    "print(\"Year  : \", date1.year)\n",
    "print(\"Month : \", date1.month)\n",
    "print(\"Day   : \", date1.day)"
   ]
  },
  {
   "cell_type": "markdown",
   "id": "eb232f81-e519-48dc-8a68-fce8da70426a",
   "metadata": {},
   "source": [
    "### ***time class***\n",
    "#### - The time class of the datetime module is used to create time objects that can store time of day like hours, minutes, seconds, microseconds"
   ]
  },
  {
   "cell_type": "code",
   "execution_count": 22,
   "id": "085e5e38-26ba-456d-a19c-481982a40f25",
   "metadata": {},
   "outputs": [
    {
     "name": "stdout",
     "output_type": "stream",
     "text": [
      "10:45:30.045667\n"
     ]
    }
   ],
   "source": [
    "time1 = dt.time(10, 45, 30, 45667)\n",
    "print(time1)"
   ]
  },
  {
   "cell_type": "code",
   "execution_count": 24,
   "id": "1ad81773-595c-410b-bc50-0d5aae5c8d55",
   "metadata": {},
   "outputs": [
    {
     "name": "stdout",
     "output_type": "stream",
     "text": [
      "Hour          :  10\n",
      "Minute        :  45\n",
      "Second        :  30\n",
      "Microsecond   :  45667\n"
     ]
    }
   ],
   "source": [
    "print(\"Hour          : \", time1.hour)\n",
    "print(\"Minute        : \", time1.minute)\n",
    "print(\"Second        : \", time1.second)\n",
    "print(\"Microsecond   : \", time1.microsecond)"
   ]
  },
  {
   "cell_type": "markdown",
   "id": "2b29a1b2-9b47-4af7-b842-7dcad16fbb7a",
   "metadata": {},
   "source": [
    "### ***datetime class***\n",
    "#### - The datetime class of the datetime module is used to create an objects that contain all the information from a date object as well as time object"
   ]
  },
  {
   "cell_type": "code",
   "execution_count": 25,
   "id": "3d743e5f-5aca-476f-a906-1de5ad690b09",
   "metadata": {},
   "outputs": [
    {
     "name": "stdout",
     "output_type": "stream",
     "text": [
      "2024-12-15 20:12:59\n",
      "<built-in method date of datetime.datetime object at 0x0000011F4EF639F0>\n",
      "<built-in method time of datetime.datetime object at 0x0000011F4EF639F0>\n"
     ]
    }
   ],
   "source": [
    "datetime_obj = dt.datetime(2024, 12, 15, 20, 12, 59)\n",
    "print(datetime_obj)\n",
    "print(datetime_obj.date)\n",
    "print(datetime_obj.time)"
   ]
  },
  {
   "cell_type": "code",
   "execution_count": 26,
   "id": "1584a7cd-abe0-4570-b128-4629fb3b9b23",
   "metadata": {},
   "outputs": [
    {
     "name": "stdout",
     "output_type": "stream",
     "text": [
      "2024-12-15\n",
      "20:12:59\n"
     ]
    }
   ],
   "source": [
    "print(datetime_obj.date())\n",
    "print(datetime_obj.time())"
   ]
  },
  {
   "cell_type": "markdown",
   "id": "a4c4eda5-0035-41a5-b114-6681be6146d7",
   "metadata": {},
   "source": [
    "### ***now()***\n",
    "#### - The now() method of the datetime object can be used to get the current local date and time"
   ]
  },
  {
   "cell_type": "code",
   "execution_count": 27,
   "id": "095e314c-b441-427e-b060-e39cf55e1e8a",
   "metadata": {},
   "outputs": [
    {
     "name": "stdout",
     "output_type": "stream",
     "text": [
      "2024-12-15 20:15:33.847502\n"
     ]
    }
   ],
   "source": [
    "current_datetime = dt.datetime.now()\n",
    "print(current_datetime)"
   ]
  },
  {
   "cell_type": "markdown",
   "id": "ede4cbcd-7dd8-4911-bc54-39085ffb96fd",
   "metadata": {},
   "source": [
    "### ***timedelta object***\n",
    "#### - timedelta object represents the difference between two dates or times\n",
    "#### - difference between two datetimes\n",
    "#### - timedelta object can be added to or subtracted from datetime objects to get new date time objects\n",
    "#### - `date (+/-) date = timedelta`\n",
    "#### - `date (+/-) timedelta = date`\n",
    "#### - `timedelta (+/-) timedelta = timedelta`"
   ]
  },
  {
   "cell_type": "code",
   "execution_count": 8,
   "id": "fc79a1fe-3cce-4991-97a4-bd89d0b10734",
   "metadata": {},
   "outputs": [
    {
     "name": "stdout",
     "output_type": "stream",
     "text": [
      "3 days, 9:04:02.264375\n"
     ]
    }
   ],
   "source": [
    "current_time = dt.datetime.now()\n",
    "next_new_year = dt.datetime(2025, 1, 1)\n",
    "time_left = next_new_year - current_time\n",
    "print(time_left)"
   ]
  },
  {
   "cell_type": "code",
   "execution_count": 9,
   "id": "e59737ae-169b-4611-90f8-d7e3cb80e0c4",
   "metadata": {},
   "outputs": [
    {
     "name": "stdout",
     "output_type": "stream",
     "text": [
      "<class 'datetime.timedelta'>\n"
     ]
    }
   ],
   "source": [
    "print(type(time_left))"
   ]
  },
  {
   "cell_type": "markdown",
   "id": "83ba9478-293b-4553-ac34-7118b087f52a",
   "metadata": {},
   "source": [
    "### ***strftime()***\n",
    "#### - The strftime() method returns a string representing date and time for the datetime object"
   ]
  },
  {
   "cell_type": "markdown",
   "id": "08538fc2-446b-4a36-9b53-350c69d8ac34",
   "metadata": {},
   "source": [
    "![](image1.png)"
   ]
  },
  {
   "cell_type": "markdown",
   "id": "709edeaa-3370-437f-906e-a1910e57c920",
   "metadata": {},
   "source": [
    "![](image2.png)"
   ]
  },
  {
   "cell_type": "code",
   "execution_count": 30,
   "id": "753cba41-0b45-4bdf-bdc6-b9e6faf8643f",
   "metadata": {},
   "outputs": [
    {
     "name": "stdout",
     "output_type": "stream",
     "text": [
      "2024-12-15 20:23:22.136175\n",
      "Sunday, December 15, 2024\n"
     ]
    }
   ],
   "source": [
    "current_datetime = dt.datetime.now()\n",
    "print(current_datetime)\n",
    "string_date = current_datetime.strftime(\"%A, %B %d, %Y\")\n",
    "print(string_date)"
   ]
  },
  {
   "cell_type": "code",
   "execution_count": 39,
   "id": "680c5380-85f3-4334-894b-2c40bdddbec7",
   "metadata": {},
   "outputs": [
    {
     "name": "stdout",
     "output_type": "stream",
     "text": [
      "<class 'str'>\n"
     ]
    }
   ],
   "source": [
    "print(type(string_date))"
   ]
  },
  {
   "cell_type": "code",
   "execution_count": 34,
   "id": "49ce8eff-be0d-4283-92c4-528759419184",
   "metadata": {},
   "outputs": [
    {
     "name": "stdout",
     "output_type": "stream",
     "text": [
      "2024-12-15 20:26:30.441543\n"
     ]
    },
    {
     "ename": "ValueError",
     "evalue": "Invalid format string",
     "output_type": "error",
     "traceback": [
      "\u001b[1;31m---------------------------------------------------------------------------\u001b[0m",
      "\u001b[1;31mValueError\u001b[0m                                Traceback (most recent call last)",
      "Cell \u001b[1;32mIn[34], line 3\u001b[0m\n\u001b[0;32m      1\u001b[0m current_datetime \u001b[38;5;241m=\u001b[39m dt\u001b[38;5;241m.\u001b[39mdatetime\u001b[38;5;241m.\u001b[39mnow()\n\u001b[0;32m      2\u001b[0m \u001b[38;5;28mprint\u001b[39m(current_datetime)\n\u001b[1;32m----> 3\u001b[0m string_date \u001b[38;5;241m=\u001b[39m current_datetime\u001b[38;5;241m.\u001b[39mstrftime(\u001b[38;5;124m\"\u001b[39m\u001b[38;5;124m%\u001b[39m\u001b[38;5;124mb \u001b[39m\u001b[38;5;132;01m%-d\u001b[39;00m\u001b[38;5;124m, \u001b[39m\u001b[38;5;124m%\u001b[39m\u001b[38;5;124mI\u001b[39m\u001b[38;5;124m%\u001b[39m\u001b[38;5;124mp\u001b[39m\u001b[38;5;124m\"\u001b[39m)\n\u001b[0;32m      4\u001b[0m \u001b[38;5;28mprint\u001b[39m(string_date)\n",
      "\u001b[1;31mValueError\u001b[0m: Invalid format string"
     ]
    }
   ],
   "source": [
    "current_datetime = dt.datetime.now()\n",
    "print(current_datetime)\n",
    "string_date = current_datetime.strftime(\"%b %-d, %I%p\")\n",
    "print(string_date)"
   ]
  },
  {
   "cell_type": "markdown",
   "id": "9d535fdc-9278-498b-a526-0db76a53b9a1",
   "metadata": {},
   "source": [
    "### ***strptime()***\n",
    "#### - The strptime() method converts strings to datetime objects"
   ]
  },
  {
   "cell_type": "code",
   "execution_count": 38,
   "id": "65a792c8-fe46-4ef6-b22a-a556b274407b",
   "metadata": {},
   "outputs": [
    {
     "name": "stdout",
     "output_type": "stream",
     "text": [
      "2024-12-15 00:00:00\n"
     ]
    }
   ],
   "source": [
    "date_string = \"15 December, 2024\"\n",
    "date_object = dt.datetime.strptime(date_string, \"%d %B, %Y\")\n",
    "print(date_object)"
   ]
  },
  {
   "cell_type": "code",
   "execution_count": 40,
   "id": "42fc63bb-566f-4d2d-8ccb-2d4a1024f55a",
   "metadata": {},
   "outputs": [
    {
     "name": "stdout",
     "output_type": "stream",
     "text": [
      "<class 'datetime.datetime'>\n"
     ]
    }
   ],
   "source": [
    "print(type(date_object))"
   ]
  },
  {
   "cell_type": "markdown",
   "id": "9931d41e-83a6-4399-a2b3-28105ad3fe54",
   "metadata": {},
   "source": [
    "### ***Conversion of datetime format***\n",
    "![](image3.png)"
   ]
  },
  {
   "cell_type": "markdown",
   "id": "076bc934-ace2-45c5-8c7a-60a48ad0ad20",
   "metadata": {},
   "source": [
    "### ***os Module***\n",
    "#### - for more detailed information: [os module](https://www.programiz.com/python-programming/directory \"Explore os module\")\n",
    "#### - A folder or directory is a location on computer to store and organize mutiple files and sub directories\n",
    "#### - python has module named os that makes it really easy to work with directories and file management tasks\n",
    "#### - we are performing directory operations like creating, renaming and removing directories."
   ]
  },
  {
   "cell_type": "markdown",
   "id": "de155750-5e86-49b0-b346-b87d930bd5b4",
   "metadata": {},
   "source": [
    "### ***Getting current directory***\n",
    "#### - getcwd(): It returns the current working directory as a string"
   ]
  },
  {
   "cell_type": "code",
   "execution_count": 1,
   "id": "7a956bf2-3c94-4949-a839-9b0acf32ace9",
   "metadata": {},
   "outputs": [],
   "source": [
    "import os"
   ]
  },
  {
   "cell_type": "code",
   "execution_count": 2,
   "id": "0096b082-b931-4cf8-bcf8-7de2c9da891e",
   "metadata": {},
   "outputs": [
    {
     "name": "stdout",
     "output_type": "stream",
     "text": [
      "D:\\DataScience\\Material\n"
     ]
    }
   ],
   "source": [
    "current_dir = os.getcwd()\n",
    "print(current_dir)"
   ]
  },
  {
   "cell_type": "markdown",
   "id": "702160b0-b453-41c2-beda-a592ed87adfd",
   "metadata": {},
   "source": [
    "### ***changing directory***\n",
    "#### - In python, we can change the current working directory by using the chdir() function of the os module"
   ]
  },
  {
   "cell_type": "code",
   "execution_count": 3,
   "id": "270b7a46-13f9-42a9-b482-14b1ac995598",
   "metadata": {},
   "outputs": [
    {
     "name": "stdout",
     "output_type": "stream",
     "text": [
      "D:\\DataScience\\Material\n",
      "D:\\DataScience\\exceptions\n"
     ]
    }
   ],
   "source": [
    "current_dir = os.getcwd()\n",
    "print(current_dir)\n",
    "\n",
    "os.chdir(\"D:\\DataScience\\exceptions\")\n",
    "\n",
    "print(os.getcwd())"
   ]
  },
  {
   "cell_type": "code",
   "execution_count": 4,
   "id": "fc1b34f1-cde9-427f-bfdd-08099006eb8a",
   "metadata": {},
   "outputs": [],
   "source": [
    "with open(\"test.txt\", \"w\") as f:\n",
    "    f.write(\"This is a test file\")"
   ]
  },
  {
   "cell_type": "markdown",
   "id": "ddf0e932-d822-45fe-909d-5cc99a957903",
   "metadata": {},
   "source": [
    "#### - test.txt file is created inside exception folder"
   ]
  },
  {
   "cell_type": "markdown",
   "id": "3291a358-e5e6-4d7d-b707-113ae2c25794",
   "metadata": {},
   "source": [
    "### ***listing all directories and files***\n",
    "#### - In python, all the files and sub-directories inside a directory can be retrieved using the listdir() function of the os module"
   ]
  },
  {
   "cell_type": "code",
   "execution_count": 5,
   "id": "dc58f20b-16ac-4035-8a2e-c24ebe7a7e8b",
   "metadata": {},
   "outputs": [
    {
     "data": {
      "text/plain": [
       "['.ipynb_checkpoints', 'test.txt']"
      ]
     },
     "execution_count": 5,
     "metadata": {},
     "output_type": "execute_result"
    }
   ],
   "source": [
    "os.listdir()"
   ]
  },
  {
   "cell_type": "code",
   "execution_count": 8,
   "id": "59a23e29-d390-4cc5-aedb-85e773b8941a",
   "metadata": {},
   "outputs": [
    {
     "data": {
      "text/plain": [
       "['.ipynb_checkpoints',\n",
       " 'AdvancedFunctions.ipynb',\n",
       " 'ConditionalStatements.ipynb',\n",
       " 'DataTypes.ipynb',\n",
       " 'Dictionary.ipynb',\n",
       " 'Functions.ipynb',\n",
       " 'image1.png',\n",
       " 'image2.png',\n",
       " 'image3.png',\n",
       " 'Lists.ipynb',\n",
       " 'LoopingStatements.ipynb',\n",
       " 'module1.ipynb',\n",
       " 'module2.ipynb',\n",
       " 'Modules and Packages.ipynb',\n",
       " 'OperatorPrecedence.png',\n",
       " 'Operators.ipynb',\n",
       " 'Python Introduction.ipynb',\n",
       " 'Recursion.ipynb',\n",
       " 'Sets.ipynb',\n",
       " 'Strings.ipynb',\n",
       " 'Tuples.ipynb',\n",
       " 'TypeCasting.ipynb']"
      ]
     },
     "execution_count": 8,
     "metadata": {},
     "output_type": "execute_result"
    }
   ],
   "source": [
    "os.listdir(\"D:\\DataScience\\Material\")"
   ]
  },
  {
   "cell_type": "markdown",
   "id": "047d3b1f-c5d8-43c1-a45e-5f795ec12e27",
   "metadata": {},
   "source": [
    "### ***Making a New directory***\n",
    "#### - we can create a new directory using the mkdir() function of the os module"
   ]
  },
  {
   "cell_type": "code",
   "execution_count": 9,
   "id": "fa877d60-af0a-4293-9102-fe6b5d72d47a",
   "metadata": {},
   "outputs": [],
   "source": [
    "os.mkdir(\"test\")"
   ]
  },
  {
   "cell_type": "code",
   "execution_count": 10,
   "id": "9bbab26f-6bab-44bc-9bf6-c56668b08d52",
   "metadata": {},
   "outputs": [
    {
     "data": {
      "text/plain": [
       "['.ipynb_checkpoints', 'test', 'test.txt']"
      ]
     },
     "execution_count": 10,
     "metadata": {},
     "output_type": "execute_result"
    }
   ],
   "source": [
    "os.listdir()"
   ]
  },
  {
   "cell_type": "code",
   "execution_count": 12,
   "id": "0960425a-0246-44a9-a357-f72304ef6bcc",
   "metadata": {},
   "outputs": [],
   "source": [
    "os.mkdir(\"D:\\\\DataScience\\\\Material\\\\test\")"
   ]
  },
  {
   "cell_type": "markdown",
   "id": "1654c133-6eab-4f84-a686-121ba65abe0c",
   "metadata": {},
   "source": [
    "### ***Renaming a directory or a file***\n",
    "#### - we can rename any directory or file using the os.rename() function which takes in two arguments: oldname and newname"
   ]
  },
  {
   "cell_type": "code",
   "execution_count": 13,
   "id": "3e511047-8c9e-4844-a9b6-26ff43245e9d",
   "metadata": {},
   "outputs": [],
   "source": [
    "os.rename(\"test\", \"test_new\")"
   ]
  },
  {
   "cell_type": "code",
   "execution_count": 14,
   "id": "5fd56361-a521-4cda-85ce-234b5f328611",
   "metadata": {},
   "outputs": [
    {
     "data": {
      "text/plain": [
       "['.ipynb_checkpoints', 'test.txt', 'test_new']"
      ]
     },
     "execution_count": 14,
     "metadata": {},
     "output_type": "execute_result"
    }
   ],
   "source": [
    "os.listdir()"
   ]
  },
  {
   "cell_type": "markdown",
   "id": "b6985f1d-029f-48e4-ba8e-f2b834a7189c",
   "metadata": {},
   "source": [
    "### ***Removing directory or file***\n",
    "#### - we can remove a file using the remove() function of the os module\n",
    "#### - we can remove an empty directory using the rmdir() function of the os module"
   ]
  },
  {
   "cell_type": "code",
   "execution_count": 15,
   "id": "3c0545b5-1363-4767-8544-32d5f339b191",
   "metadata": {},
   "outputs": [
    {
     "data": {
      "text/plain": [
       "['.ipynb_checkpoints', 'test.txt', 'test_new']"
      ]
     },
     "execution_count": 15,
     "metadata": {},
     "output_type": "execute_result"
    }
   ],
   "source": [
    "os.listdir()"
   ]
  },
  {
   "cell_type": "code",
   "execution_count": 16,
   "id": "6e87d531-6a57-4515-8297-0766a7824066",
   "metadata": {},
   "outputs": [],
   "source": [
    "os.remove(\"test.txt\")"
   ]
  },
  {
   "cell_type": "code",
   "execution_count": 17,
   "id": "ec1f0ce7-af3c-4a1e-b15f-cd2a2b1e3a83",
   "metadata": {},
   "outputs": [
    {
     "data": {
      "text/plain": [
       "['.ipynb_checkpoints', 'test_new']"
      ]
     },
     "execution_count": 17,
     "metadata": {},
     "output_type": "execute_result"
    }
   ],
   "source": [
    "os.listdir()"
   ]
  },
  {
   "cell_type": "code",
   "execution_count": 19,
   "id": "bad7a2ac-1452-4d88-a277-1e60136532f3",
   "metadata": {},
   "outputs": [],
   "source": [
    "os.rmdir(\"test_new\")"
   ]
  },
  {
   "cell_type": "code",
   "execution_count": 20,
   "id": "c8a48add-b642-40ee-b4fe-43de875bb0ae",
   "metadata": {},
   "outputs": [
    {
     "data": {
      "text/plain": [
       "['.ipynb_checkpoints']"
      ]
     },
     "execution_count": 20,
     "metadata": {},
     "output_type": "execute_result"
    }
   ],
   "source": [
    "os.listdir()"
   ]
  },
  {
   "cell_type": "code",
   "execution_count": null,
   "id": "48d7aa40-2a3e-45ed-989e-6b4606359d87",
   "metadata": {},
   "outputs": [],
   "source": []
  }
 ],
 "metadata": {
  "kernelspec": {
   "display_name": "Python 3 (ipykernel)",
   "language": "python",
   "name": "python3"
  },
  "language_info": {
   "codemirror_mode": {
    "name": "ipython",
    "version": 3
   },
   "file_extension": ".py",
   "mimetype": "text/x-python",
   "name": "python",
   "nbconvert_exporter": "python",
   "pygments_lexer": "ipython3",
   "version": "3.11.7"
  }
 },
 "nbformat": 4,
 "nbformat_minor": 5
}
