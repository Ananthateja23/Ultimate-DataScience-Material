{
 "cells": [
  {
   "cell_type": "code",
   "execution_count": 5,
   "id": "0d12cb41-8736-4405-b380-e2c836adfade",
   "metadata": {},
   "outputs": [
    {
     "name": "stdout",
     "output_type": "stream",
     "text": [
      "Welcome to module2\n",
      "value of __name__ : __main__\n"
     ]
    },
    {
     "name": "stdin",
     "output_type": "stream",
     "text": [
      "Enter your message:  Happy to learn modules concept today\n"
     ]
    },
    {
     "name": "stdout",
     "output_type": "stream",
     "text": [
      "Happy to learn modules concept today\n",
      "This function is doing something\n"
     ]
    }
   ],
   "source": [
    "# running as standalone script\n",
    "print(\"Welcome to module2\")\n",
    "print(\"value of __name__ :\", __name__)\n",
    "def greetings(message):\n",
    "    return message\n",
    "def do_something():\n",
    "    print(\"This function is doing something\")\n",
    "if __name__==\"__main__\":\n",
    "    message = input(\"Enter your message: \")\n",
    "    print(greetings(message))\n",
    "    do_something()"
   ]
  },
  {
   "cell_type": "code",
   "execution_count": null,
   "id": "efbe7716-2629-4c3e-ab3d-ca0dcd4490fd",
   "metadata": {},
   "outputs": [],
   "source": []
  }
 ],
 "metadata": {
  "kernelspec": {
   "display_name": "Python 3 (ipykernel)",
   "language": "python",
   "name": "python3"
  },
  "language_info": {
   "codemirror_mode": {
    "name": "ipython",
    "version": 3
   },
   "file_extension": ".py",
   "mimetype": "text/x-python",
   "name": "python",
   "nbconvert_exporter": "python",
   "pygments_lexer": "ipython3",
   "version": "3.11.7"
  }
 },
 "nbformat": 4,
 "nbformat_minor": 5
}
