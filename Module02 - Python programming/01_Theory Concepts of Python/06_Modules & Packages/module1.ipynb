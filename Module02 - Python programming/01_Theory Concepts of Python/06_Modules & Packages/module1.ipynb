{
 "cells": [
  {
   "cell_type": "markdown",
   "id": "31ea0376-2bee-4aa8-8430-bc2f0051cf6d",
   "metadata": {},
   "source": [
    "### ***nbimporter***\n",
    "#### - nbimporter allows you to import code from one Jupyter Notebook (.ipynb) into another, treating it like a regular Python module. \n",
    "#### - It enables sharing functions and variables between notebooks without converting them into Python files. \n",
    "#### - You can import a notebook by using import nbimporter and then importing the desired .ipynb file"
   ]
  },
  {
   "cell_type": "code",
   "execution_count": 1,
   "id": "02b2569f-568a-409e-bfe7-4963ef1be896",
   "metadata": {},
   "outputs": [
    {
     "name": "stdout",
     "output_type": "stream",
     "text": [
      "Collecting nbimporter\n",
      "  Downloading nbimporter-0.3.4-py3-none-any.whl.metadata (252 bytes)\n",
      "Downloading nbimporter-0.3.4-py3-none-any.whl (4.9 kB)\n",
      "Installing collected packages: nbimporter\n",
      "Successfully installed nbimporter-0.3.4\n"
     ]
    }
   ],
   "source": [
    "# !pip install nbimporter"
   ]
  },
  {
   "cell_type": "markdown",
   "id": "baba23c0-e630-4f76-9dcb-8079a3e9768b",
   "metadata": {},
   "source": [
    "### ***Note***\n",
    "#### - In Jupyter Notebooks, the ! is used to run system-level commands (like shell commands) directly from a notebook cell. \n",
    "#### - Without it, Jupyter would treat the command as Python code, leading to an error. \n",
    "#### - The ! allows seamless integration of Python code with terminal commands, such as installing packages or checking system status."
   ]
  },
  {
   "cell_type": "code",
   "execution_count": 2,
   "id": "762e6c96-c910-4bb0-9750-363a082d481e",
   "metadata": {},
   "outputs": [],
   "source": [
    "import nbimporter"
   ]
  },
  {
   "cell_type": "code",
   "execution_count": 7,
   "id": "94dbc33e-65c9-46e4-b66d-5a42b0cd349f",
   "metadata": {},
   "outputs": [
    {
     "name": "stdout",
     "output_type": "stream",
     "text": [
      "Welcome to module1\n",
      "value of __name__:  __main__\n",
      "We are calling greeting function from module1\n",
      "This function is doing something\n",
      "This is main function\n"
     ]
    }
   ],
   "source": [
    "import module2\n",
    "print(\"Welcome to module1\")\n",
    "print(\"value of __name__: \", __name__)\n",
    "\n",
    "# calling greetings and do_something function \n",
    "print(module2.greetings(\"We are calling greeting function from module1\"))\n",
    "module2.do_something()\n",
    "\n",
    "def main():\n",
    "    print(\"This is main function\")\n",
    "    \n",
    "if __name__ == \"__main__\":\n",
    "    main()"
   ]
  },
  {
   "cell_type": "code",
   "execution_count": null,
   "id": "ceb7f107-b037-4400-8745-5a0bc954e183",
   "metadata": {},
   "outputs": [],
   "source": []
  }
 ],
 "metadata": {
  "kernelspec": {
   "display_name": "Python 3 (ipykernel)",
   "language": "python",
   "name": "python3"
  },
  "language_info": {
   "codemirror_mode": {
    "name": "ipython",
    "version": 3
   },
   "file_extension": ".py",
   "mimetype": "text/x-python",
   "name": "python",
   "nbconvert_exporter": "python",
   "pygments_lexer": "ipython3",
   "version": "3.11.7"
  }
 },
 "nbformat": 4,
 "nbformat_minor": 5
}
