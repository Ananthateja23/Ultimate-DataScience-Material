{
 "cells": [
  {
   "cell_type": "markdown",
   "id": "fcb4e1ff-8094-40e7-b5d7-3652b40d7477",
   "metadata": {},
   "source": [
    "### In OOP, classes will have a relation between them\n",
    "### ***Aggregation (has a relation ship):***\n",
    "#### - one class owns other class and relationship between them is called aggregation\n",
    "#### - one class will be the owner of other class\n",
    "#### - customer class has a address class\n",
    "#### - restaurant class has a menu class\n",
    "### ***Example of Aggregation***\n",
    "#### - we are takeing the customer and address example\n",
    "### ***what about private attributes***\n",
    "#### - In aggregation, owner class cannot access the private attributes of owned class\n",
    "### ***Aggregation class diagram***\n",
    "#### - Ownerclass-rhombus---propertyclass(owned class)\n"
   ]
  },
  {
   "cell_type": "code",
   "execution_count": 1,
   "id": "c5e8110a-3efd-41a3-953c-31137b329616",
   "metadata": {},
   "outputs": [
    {
     "name": "stdout",
     "output_type": "stream",
     "text": [
      "guragam 122011 haryana\n"
     ]
    }
   ],
   "source": [
    "class Customer:\n",
    "    def __init__(self, name, gender, address):\n",
    "        self.name   = name\n",
    "        self.gender = gender\n",
    "        self.address= address\n",
    "    def print_address(self):\n",
    "        print(self.address.city, self.address.pincode, self.address.state)\n",
    "\n",
    "class Address:\n",
    "    def __init__(self, city, pincode, state):\n",
    "        self.city    = city\n",
    "        self.pincode = pincode\n",
    "        self.state   = state\n",
    "\n",
    "add1  = Address(\"guragam\", 122011, \"haryana\")\n",
    "cust1 = Customer(\"nitish\", \"male\", add1)\n",
    "\n",
    "cust1.print_address()"
   ]
  },
  {
   "cell_type": "code",
   "execution_count": 2,
   "id": "648e0712-2632-41fb-b51d-1e13dc0f0690",
   "metadata": {},
   "outputs": [
    {
     "ename": "AttributeError",
     "evalue": "'Address' object has no attribute '_Customer__city'",
     "output_type": "error",
     "traceback": [
      "\u001b[1;31m---------------------------------------------------------------------------\u001b[0m",
      "\u001b[1;31mAttributeError\u001b[0m                            Traceback (most recent call last)",
      "Cell \u001b[1;32mIn[2], line 18\u001b[0m\n\u001b[0;32m     15\u001b[0m add1  \u001b[38;5;241m=\u001b[39m Address(\u001b[38;5;124m\"\u001b[39m\u001b[38;5;124mguragam\u001b[39m\u001b[38;5;124m\"\u001b[39m, \u001b[38;5;241m122011\u001b[39m, \u001b[38;5;124m\"\u001b[39m\u001b[38;5;124mharyana\u001b[39m\u001b[38;5;124m\"\u001b[39m)\n\u001b[0;32m     16\u001b[0m cust1 \u001b[38;5;241m=\u001b[39m Customer(\u001b[38;5;124m\"\u001b[39m\u001b[38;5;124mnitish\u001b[39m\u001b[38;5;124m\"\u001b[39m, \u001b[38;5;124m\"\u001b[39m\u001b[38;5;124mmale\u001b[39m\u001b[38;5;124m\"\u001b[39m, add1)\n\u001b[1;32m---> 18\u001b[0m cust1\u001b[38;5;241m.\u001b[39mprint_address()\n",
      "Cell \u001b[1;32mIn[2], line 7\u001b[0m, in \u001b[0;36mCustomer.print_address\u001b[1;34m(self)\u001b[0m\n\u001b[0;32m      6\u001b[0m \u001b[38;5;28;01mdef\u001b[39;00m \u001b[38;5;21mprint_address\u001b[39m(\u001b[38;5;28mself\u001b[39m):\n\u001b[1;32m----> 7\u001b[0m     \u001b[38;5;28mprint\u001b[39m(\u001b[38;5;28mself\u001b[39m\u001b[38;5;241m.\u001b[39maddress\u001b[38;5;241m.\u001b[39m__city, \u001b[38;5;28mself\u001b[39m\u001b[38;5;241m.\u001b[39maddress\u001b[38;5;241m.\u001b[39mpincode, \u001b[38;5;28mself\u001b[39m\u001b[38;5;241m.\u001b[39maddress\u001b[38;5;241m.\u001b[39mstate)\n",
      "\u001b[1;31mAttributeError\u001b[0m: 'Address' object has no attribute '_Customer__city'"
     ]
    }
   ],
   "source": [
    "class Customer:\n",
    "    def __init__(self, name, gender, address):\n",
    "        self.name   = name\n",
    "        self.gender = gender\n",
    "        self.address= address\n",
    "    def print_address(self):\n",
    "        print(self.address.__city, self.address.pincode, self.address.state)\n",
    "\n",
    "class Address:\n",
    "    def __init__(self, city, pincode, state):\n",
    "        self.__city    = city\n",
    "        self.pincode = pincode\n",
    "        self.state   = state\n",
    "\n",
    "add1  = Address(\"guragam\", 122011, \"haryana\")\n",
    "cust1 = Customer(\"nitish\", \"male\", add1)\n",
    "\n",
    "cust1.print_address()"
   ]
  },
  {
   "cell_type": "code",
   "execution_count": 3,
   "id": "edecb535-3d2e-47ce-8b34-ae1fecf9e765",
   "metadata": {},
   "outputs": [
    {
     "name": "stdout",
     "output_type": "stream",
     "text": [
      "guragam 122011 haryana\n"
     ]
    }
   ],
   "source": [
    "class Customer:\n",
    "    def __init__(self, name, gender, address):\n",
    "        self.name   = name\n",
    "        self.gender = gender\n",
    "        self.address= address\n",
    "    def print_address(self):\n",
    "        print(self.address.get_city(), self.address.pincode, self.address.state)\n",
    "\n",
    "class Address:\n",
    "    def __init__(self, city, pincode, state):\n",
    "        self.__city    = city\n",
    "        self.pincode = pincode\n",
    "        self.state   = state\n",
    "    def get_city(self):\n",
    "        return self.__city\n",
    "\n",
    "add1  = Address(\"guragam\", 122011, \"haryana\")\n",
    "cust1 = Customer(\"nitish\", \"male\", add1)\n",
    "\n",
    "cust1.print_address()"
   ]
  },
  {
   "cell_type": "code",
   "execution_count": 4,
   "id": "4436cce9-1407-4cf7-9b9d-79351e0d3c43",
   "metadata": {},
   "outputs": [
    {
     "name": "stdout",
     "output_type": "stream",
     "text": [
      "guragam 122011 haryana\n"
     ]
    }
   ],
   "source": [
    "class Customer:\n",
    "    def __init__(self, name, gender, address):\n",
    "        self.name   = name\n",
    "        self.gender = gender\n",
    "        self.address= address\n",
    "    def print_address(self):\n",
    "        print(self.address._Address__city, self.address.pincode, self.address.state)\n",
    "\n",
    "class Address:\n",
    "    def __init__(self, city, pincode, state):\n",
    "        self.__city    = city\n",
    "        self.pincode = pincode\n",
    "        self.state   = state\n",
    "    def get_city(self):\n",
    "        return self.__city\n",
    "\n",
    "add1  = Address(\"guragam\", 122011, \"haryana\")\n",
    "cust1 = Customer(\"nitish\", \"male\", add1)\n",
    "\n",
    "cust1.print_address()"
   ]
  },
  {
   "cell_type": "markdown",
   "id": "ec4c092e-90a0-4c42-8b59-da620ac170a9",
   "metadata": {},
   "source": [
    "### ***point to remember***\n",
    "#### - After creating variable as private, we can access them using _classname__variablename\n",
    "#### - But we have to stop using access with  _classname__variablename\n",
    "#### - Instead we use getter and setter methods for private variables"
   ]
  },
  {
   "cell_type": "code",
   "execution_count": 7,
   "id": "e2b3f4b3-3b83-46d7-92a2-88dc8fda9de2",
   "metadata": {},
   "outputs": [
    {
     "name": "stdout",
     "output_type": "stream",
     "text": [
      "guragam 122011 haryana\n",
      "mumbai 111111 maharastra\n"
     ]
    }
   ],
   "source": [
    "class Customer:\n",
    "    def __init__(self, name, gender, address):\n",
    "        self.name   = name\n",
    "        self.gender = gender\n",
    "        self.address= address\n",
    "    def print_address(self):\n",
    "        print(self.address._Address__city, self.address.pincode, self.address.state)\n",
    "    def edit_profile(self, new_name, new_city, new_pincode, new_state):\n",
    "        self.name = new_name\n",
    "        self.address.edit_address(new_city, new_pincode, new_state)\n",
    "\n",
    "class Address:\n",
    "    def __init__(self, city, pincode, state):\n",
    "        self.__city    = city\n",
    "        self.pincode = pincode\n",
    "        self.state   = state\n",
    "    def get_city(self):\n",
    "        return self.__city\n",
    "    def edit_address(self, new_city, new_pincode, new_state):\n",
    "        self.__city = new_city\n",
    "        self.pincode= new_pincode\n",
    "        self.state  = new_state\n",
    "\n",
    "add1  = Address(\"guragam\", 122011, \"haryana\")\n",
    "cust1 = Customer(\"nitish\", \"male\", add1)\n",
    "\n",
    "cust1.print_address()\n",
    "cust1.edit_profile(\"ankit\", \"mumbai\", 111111, \"maharastra\")\n",
    "cust1.print_address()"
   ]
  },
  {
   "cell_type": "markdown",
   "id": "e6a4e9c5-4845-48f7-abae-6b1e612c8575",
   "metadata": {},
   "source": [
    "### ***Inheritance***\n",
    "#### - Inheriting properties from one class to other class is called Inheritance\n",
    "#### - Because of Inheritance, The child class can access the methods and attributes of parent class\n",
    "### ***what gets inherited***\n",
    "#### - constructor\n",
    "#### - non private attributes\n",
    "#### - non private mehtods"
   ]
  },
  {
   "cell_type": "code",
   "execution_count": 14,
   "id": "5e334287-5e7a-4808-9ec9-f7b980648552",
   "metadata": {},
   "outputs": [],
   "source": [
    "# parent class\n",
    "class User:\n",
    "    #name = \"ananth\"\n",
    "    def __init__(self):\n",
    "        self.name = \"nitish\"\n",
    "    def login(self):\n",
    "        print(\"login\")\n",
    "\n",
    "# child class\n",
    "class Student(User):\n",
    "    def __init__(self):\n",
    "        self.rollno = 1221\n",
    "    def enroll(self):\n",
    "        print(\"enroll\")"
   ]
  },
  {
   "cell_type": "code",
   "execution_count": 15,
   "id": "f09d7024-5186-47d5-aa0e-5ea346fdf3ff",
   "metadata": {},
   "outputs": [
    {
     "ename": "AttributeError",
     "evalue": "'Student' object has no attribute 'name'",
     "output_type": "error",
     "traceback": [
      "\u001b[1;31m---------------------------------------------------------------------------\u001b[0m",
      "\u001b[1;31mAttributeError\u001b[0m                            Traceback (most recent call last)",
      "Cell \u001b[1;32mIn[15], line 3\u001b[0m\n\u001b[0;32m      1\u001b[0m u \u001b[38;5;241m=\u001b[39m User()\n\u001b[0;32m      2\u001b[0m s \u001b[38;5;241m=\u001b[39m Student()\n\u001b[1;32m----> 3\u001b[0m \u001b[38;5;28mprint\u001b[39m(s\u001b[38;5;241m.\u001b[39mname)\n\u001b[0;32m      4\u001b[0m \u001b[38;5;28mprint\u001b[39m(s\u001b[38;5;241m.\u001b[39mrollno)\n\u001b[0;32m      5\u001b[0m s\u001b[38;5;241m.\u001b[39mlogin()\n",
      "\u001b[1;31mAttributeError\u001b[0m: 'Student' object has no attribute 'name'"
     ]
    }
   ],
   "source": [
    "u = User()\n",
    "s = Student()\n",
    "print(s.name)\n",
    "print(s.rollno)\n",
    "s.login()\n",
    "s.enroll()"
   ]
  },
  {
   "cell_type": "code",
   "execution_count": 17,
   "id": "fa1999e6-8e64-4848-9c52-5ee79197920a",
   "metadata": {},
   "outputs": [
    {
     "name": "stdout",
     "output_type": "stream",
     "text": [
      "Inside phone constructor\n",
      "Buying a phone\n"
     ]
    }
   ],
   "source": [
    "# constructor example\n",
    "class Phone:\n",
    "    def __init__(self, price, brand, camera):\n",
    "        print(\"Inside phone constructor\")\n",
    "        self.price = price\n",
    "        self.brand = brand\n",
    "        self.camera= camera\n",
    "    def buy(self):\n",
    "        print(\"Buying a phone\")\n",
    "class SmartPhone(Phone):\n",
    "    pass\n",
    "\n",
    "s = SmartPhone(20000, \"Apple\", 13)\n",
    "s.buy()"
   ]
  },
  {
   "cell_type": "code",
   "execution_count": 20,
   "id": "1c61d046-ab57-4346-978c-861065b8af90",
   "metadata": {},
   "outputs": [
    {
     "name": "stdout",
     "output_type": "stream",
     "text": [
      "Inside smart phone constructor\n",
      "Buying a SmartPhone\n"
     ]
    }
   ],
   "source": [
    "# constructor example\n",
    "class Phone:\n",
    "    def __init__(self, price, brand, camera):\n",
    "        print(\"Inside phone constructor\")\n",
    "        self.__price = price\n",
    "        self.brand = brand\n",
    "        self.camera= camera\n",
    "    def buy(self):\n",
    "        print(\"Buying a phone\")\n",
    "class SmartPhone(Phone):\n",
    "    def __init__(self, os, ram):\n",
    "        print(\"Inside smart phone constructor\")\n",
    "        self.os = os\n",
    "        self.ram = ram\n",
    "    def buy(self):\n",
    "        print(\"Buying a SmartPhone\")\n",
    "\n",
    "s = SmartPhone(\"Android\", 2)\n",
    "s.buy()"
   ]
  },
  {
   "cell_type": "code",
   "execution_count": 21,
   "id": "d20263d7-1bb1-4d74-8434-ac5f8cd2ce4b",
   "metadata": {},
   "outputs": [
    {
     "ename": "AttributeError",
     "evalue": "'SmartPhone' object has no attribute 'brand'",
     "output_type": "error",
     "traceback": [
      "\u001b[1;31m---------------------------------------------------------------------------\u001b[0m",
      "\u001b[1;31mAttributeError\u001b[0m                            Traceback (most recent call last)",
      "Cell \u001b[1;32mIn[21], line 1\u001b[0m\n\u001b[1;32m----> 1\u001b[0m s\u001b[38;5;241m.\u001b[39mbrand\n",
      "\u001b[1;31mAttributeError\u001b[0m: 'SmartPhone' object has no attribute 'brand'"
     ]
    }
   ],
   "source": [
    "s.brand"
   ]
  },
  {
   "cell_type": "code",
   "execution_count": 23,
   "id": "413a4232-e0e6-4d66-88f6-713dfd572a1b",
   "metadata": {},
   "outputs": [
    {
     "ename": "AttributeError",
     "evalue": "'SmartPhone' object has no attribute '_SmartPhone__price'",
     "output_type": "error",
     "traceback": [
      "\u001b[1;31m---------------------------------------------------------------------------\u001b[0m",
      "\u001b[1;31mAttributeError\u001b[0m                            Traceback (most recent call last)",
      "Cell \u001b[1;32mIn[23], line 15\u001b[0m\n\u001b[0;32m     12\u001b[0m         \u001b[38;5;28mprint\u001b[39m(\u001b[38;5;28mself\u001b[39m\u001b[38;5;241m.\u001b[39m__price)\n\u001b[0;32m     14\u001b[0m s \u001b[38;5;241m=\u001b[39m SmartPhone(\u001b[38;5;241m20000\u001b[39m, \u001b[38;5;124m\"\u001b[39m\u001b[38;5;124mApple\u001b[39m\u001b[38;5;124m\"\u001b[39m, \u001b[38;5;241m13\u001b[39m)\n\u001b[1;32m---> 15\u001b[0m s\u001b[38;5;241m.\u001b[39mcheck()\n",
      "Cell \u001b[1;32mIn[23], line 12\u001b[0m, in \u001b[0;36mSmartPhone.check\u001b[1;34m(self)\u001b[0m\n\u001b[0;32m     11\u001b[0m \u001b[38;5;28;01mdef\u001b[39;00m \u001b[38;5;21mcheck\u001b[39m(\u001b[38;5;28mself\u001b[39m):\n\u001b[1;32m---> 12\u001b[0m     \u001b[38;5;28mprint\u001b[39m(\u001b[38;5;28mself\u001b[39m\u001b[38;5;241m.\u001b[39m__price)\n",
      "\u001b[1;31mAttributeError\u001b[0m: 'SmartPhone' object has no attribute '_SmartPhone__price'"
     ]
    }
   ],
   "source": [
    "# child cannot access the private members of the class\n",
    "class Phone:\n",
    "    def __init__(self, price, brand, camera):\n",
    "        self.__price = price\n",
    "        self.brand   = brand\n",
    "        self.camera  = camera\n",
    "    def show(self):\n",
    "        print(self.__price)\n",
    "\n",
    "class SmartPhone(Phone):\n",
    "    def check(self):\n",
    "        print(self.__price)\n",
    "\n",
    "s = SmartPhone(20000, \"Apple\", 13)\n",
    "s.check()"
   ]
  },
  {
   "cell_type": "code",
   "execution_count": 24,
   "id": "da76c128-fedc-4d10-8a60-7944989fde6b",
   "metadata": {},
   "outputs": [
    {
     "name": "stdout",
     "output_type": "stream",
     "text": [
      "Inside Phone constructor\n",
      "Apple\n"
     ]
    },
    {
     "ename": "AttributeError",
     "evalue": "'SmartPhone' object has no attribute '_SmartPhone__price'",
     "output_type": "error",
     "traceback": [
      "\u001b[1;31m---------------------------------------------------------------------------\u001b[0m",
      "\u001b[1;31mAttributeError\u001b[0m                            Traceback (most recent call last)",
      "Cell \u001b[1;32mIn[24], line 17\u001b[0m\n\u001b[0;32m     15\u001b[0m s \u001b[38;5;241m=\u001b[39m SmartPhone(\u001b[38;5;241m20000\u001b[39m, \u001b[38;5;124m\"\u001b[39m\u001b[38;5;124mApple\u001b[39m\u001b[38;5;124m\"\u001b[39m, \u001b[38;5;241m13\u001b[39m)\n\u001b[0;32m     16\u001b[0m \u001b[38;5;28mprint\u001b[39m(s\u001b[38;5;241m.\u001b[39mbrand)\n\u001b[1;32m---> 17\u001b[0m s\u001b[38;5;241m.\u001b[39mcheck()\n",
      "Cell \u001b[1;32mIn[24], line 13\u001b[0m, in \u001b[0;36mSmartPhone.check\u001b[1;34m(self)\u001b[0m\n\u001b[0;32m     12\u001b[0m \u001b[38;5;28;01mdef\u001b[39;00m \u001b[38;5;21mcheck\u001b[39m(\u001b[38;5;28mself\u001b[39m):\n\u001b[1;32m---> 13\u001b[0m     \u001b[38;5;28mprint\u001b[39m(\u001b[38;5;28mself\u001b[39m\u001b[38;5;241m.\u001b[39m__price)\n",
      "\u001b[1;31mAttributeError\u001b[0m: 'SmartPhone' object has no attribute '_SmartPhone__price'"
     ]
    }
   ],
   "source": [
    "# child cannot access the private members of the class\n",
    "class Phone:\n",
    "    def __init__(self, price, brand, camera):\n",
    "        print(\"Inside Phone constructor\")\n",
    "        self.__price = price\n",
    "        self.brand   = brand\n",
    "        self.camera  = camera\n",
    "    def show(self):\n",
    "        print(self.__price)\n",
    "\n",
    "class SmartPhone(Phone):\n",
    "    def check(self):\n",
    "        print(self.__price)\n",
    "\n",
    "s = SmartPhone(20000, \"Apple\", 13)\n",
    "print(s.brand)\n",
    "s.check()"
   ]
  },
  {
   "cell_type": "code",
   "execution_count": 25,
   "id": "a12df49a-badb-4935-a084-1f141fe08055",
   "metadata": {},
   "outputs": [
    {
     "name": "stdout",
     "output_type": "stream",
     "text": [
      "Inside Phone constructor\n",
      "20000\n"
     ]
    }
   ],
   "source": [
    "# child cannot access the private members of the class\n",
    "class Phone:\n",
    "    def __init__(self, price, brand, camera):\n",
    "        print(\"Inside Phone constructor\")\n",
    "        self.__price = price\n",
    "        self.brand   = brand\n",
    "        self.camera  = camera\n",
    "    def show(self):\n",
    "        print(self.__price)\n",
    "\n",
    "class SmartPhone(Phone):\n",
    "    def check(self):\n",
    "        print(self.__price)\n",
    "\n",
    "s = SmartPhone(20000, \"Apple\", 13)\n",
    "s.show()"
   ]
  },
  {
   "cell_type": "code",
   "execution_count": 26,
   "id": "d9d01331-3af7-45c5-9c20-3a1b3c28ba5d",
   "metadata": {},
   "outputs": [
    {
     "name": "stdout",
     "output_type": "stream",
     "text": [
      "Inside Phone constructor\n"
     ]
    },
    {
     "ename": "AttributeError",
     "evalue": "'SmartPhone' object has no attribute '__show'",
     "output_type": "error",
     "traceback": [
      "\u001b[1;31m---------------------------------------------------------------------------\u001b[0m",
      "\u001b[1;31mAttributeError\u001b[0m                            Traceback (most recent call last)",
      "Cell \u001b[1;32mIn[26], line 16\u001b[0m\n\u001b[0;32m     13\u001b[0m         \u001b[38;5;28mprint\u001b[39m(\u001b[38;5;28mself\u001b[39m\u001b[38;5;241m.\u001b[39m__price)\n\u001b[0;32m     15\u001b[0m s \u001b[38;5;241m=\u001b[39m SmartPhone(\u001b[38;5;241m20000\u001b[39m, \u001b[38;5;124m\"\u001b[39m\u001b[38;5;124mApple\u001b[39m\u001b[38;5;124m\"\u001b[39m, \u001b[38;5;241m13\u001b[39m)\n\u001b[1;32m---> 16\u001b[0m s\u001b[38;5;241m.\u001b[39m__show()\n",
      "\u001b[1;31mAttributeError\u001b[0m: 'SmartPhone' object has no attribute '__show'"
     ]
    }
   ],
   "source": [
    "# child cannot access the private members of the class\n",
    "class Phone:\n",
    "    def __init__(self, price, brand, camera):\n",
    "        print(\"Inside Phone constructor\")\n",
    "        self.__price = price\n",
    "        self.brand   = brand\n",
    "        self.camera  = camera\n",
    "    def __show(self):\n",
    "        print(self.__price)\n",
    "\n",
    "class SmartPhone(Phone):\n",
    "    def check(self):\n",
    "        print(self.__price)\n",
    "\n",
    "s = SmartPhone(20000, \"Apple\", 13)\n",
    "s.__show()"
   ]
  },
  {
   "cell_type": "code",
   "execution_count": 27,
   "id": "b0d96251-acfa-4ba9-af2b-1ac53b3833c0",
   "metadata": {},
   "outputs": [
    {
     "name": "stdout",
     "output_type": "stream",
     "text": [
      "100\n",
      "This is in child class\n"
     ]
    }
   ],
   "source": [
    "class Parent:\n",
    "    def __init__(self, num):\n",
    "        self.__num = num\n",
    "    def get_num(self):\n",
    "        return self.__num\n",
    "\n",
    "class Child(Parent):\n",
    "    def show(self):\n",
    "        print(\"This is in child class\")\n",
    "\n",
    "\n",
    "son = Child(100)\n",
    "print(son.get_num())\n",
    "son.show()"
   ]
  },
  {
   "cell_type": "code",
   "execution_count": 28,
   "id": "7a2cd5ce-c148-48b5-9580-e7022b074ab9",
   "metadata": {},
   "outputs": [
    {
     "ename": "AttributeError",
     "evalue": "'Child' object has no attribute '_Parent__num'",
     "output_type": "error",
     "traceback": [
      "\u001b[1;31m---------------------------------------------------------------------------\u001b[0m",
      "\u001b[1;31mAttributeError\u001b[0m                            Traceback (most recent call last)",
      "Cell \u001b[1;32mIn[28], line 15\u001b[0m\n\u001b[0;32m     11\u001b[0m         \u001b[38;5;28;01mreturn\u001b[39;00m \u001b[38;5;28mself\u001b[39m\u001b[38;5;241m.\u001b[39m__val\n\u001b[0;32m     14\u001b[0m son \u001b[38;5;241m=\u001b[39m Child(\u001b[38;5;241m100\u001b[39m, \u001b[38;5;241m10\u001b[39m)\n\u001b[1;32m---> 15\u001b[0m \u001b[38;5;28mprint\u001b[39m(\u001b[38;5;124m\"\u001b[39m\u001b[38;5;124mParent Num: \u001b[39m\u001b[38;5;124m\"\u001b[39m, son\u001b[38;5;241m.\u001b[39mget_num())\n\u001b[0;32m     16\u001b[0m \u001b[38;5;28mprint\u001b[39m(\u001b[38;5;124m\"\u001b[39m\u001b[38;5;124mChild val:\u001b[39m\u001b[38;5;124m\"\u001b[39m, son\u001b[38;5;241m.\u001b[39mget_val())\n",
      "Cell \u001b[1;32mIn[28], line 5\u001b[0m, in \u001b[0;36mParent.get_num\u001b[1;34m(self)\u001b[0m\n\u001b[0;32m      4\u001b[0m \u001b[38;5;28;01mdef\u001b[39;00m \u001b[38;5;21mget_num\u001b[39m(\u001b[38;5;28mself\u001b[39m):\n\u001b[1;32m----> 5\u001b[0m     \u001b[38;5;28;01mreturn\u001b[39;00m \u001b[38;5;28mself\u001b[39m\u001b[38;5;241m.\u001b[39m__num\n",
      "\u001b[1;31mAttributeError\u001b[0m: 'Child' object has no attribute '_Parent__num'"
     ]
    }
   ],
   "source": [
    "class Parent:\n",
    "    def __init__(self, num):\n",
    "        self.__num = num\n",
    "    def get_num(self):\n",
    "        return self.__num\n",
    "\n",
    "class Child(Parent):\n",
    "    def __init__(self, val, num):\n",
    "        self.__val = val\n",
    "    def get_val(self):\n",
    "        return self.__val\n",
    "\n",
    "\n",
    "son = Child(100, 10)\n",
    "print(\"Parent Num: \", son.get_num())\n",
    "print(\"Child val:\", son.get_val())"
   ]
  },
  {
   "cell_type": "code",
   "execution_count": 29,
   "id": "477ead25-d490-4c60-8aa4-1b6dba5da8e2",
   "metadata": {},
   "outputs": [
    {
     "name": "stdout",
     "output_type": "stream",
     "text": [
      "class A: 100\n"
     ]
    }
   ],
   "source": [
    "class A:\n",
    "    def __init__(self):\n",
    "        self.var1 = 100\n",
    "    def display1(self,  var1):\n",
    "        print(\"class A:\", self.var1)\n",
    "\n",
    "class B(A):\n",
    "    def display2(self, var1):\n",
    "        print(\"class B :\", self.var1)\n",
    "\n",
    "obj = B()\n",
    "obj.display1(200)"
   ]
  },
  {
   "cell_type": "code",
   "execution_count": 30,
   "id": "3266356e-479c-4725-aca6-e27ec7089fde",
   "metadata": {},
   "outputs": [
    {
     "name": "stdout",
     "output_type": "stream",
     "text": [
      "class A: 200\n"
     ]
    }
   ],
   "source": [
    "class A:\n",
    "    def __init__(self):\n",
    "        self.var1 = 100\n",
    "    def display1(self,  var1):\n",
    "        self.var1 = var1\n",
    "        print(\"class A:\", self.var1)\n",
    "\n",
    "class B(A):\n",
    "    def display2(self, var1):\n",
    "        print(\"class B :\", self.var1)\n",
    "\n",
    "obj = B()\n",
    "obj.display1(200)"
   ]
  },
  {
   "cell_type": "code",
   "execution_count": 32,
   "id": "bc9bdac1-40fa-4da2-b942-139a1e9654d5",
   "metadata": {},
   "outputs": [
    {
     "name": "stdout",
     "output_type": "stream",
     "text": [
      "Inside Phone constructor\n",
      "Buying a SmartPhone\n"
     ]
    }
   ],
   "source": [
    "# method overriding\n",
    "class Phone:\n",
    "    def __init__(self, price, brand, camera):\n",
    "        print(\"Inside Phone constructor\")\n",
    "        self.__price = price\n",
    "        self.brand   = brand\n",
    "        self.camera  = camera\n",
    "    def buy(self):\n",
    "        print(\"Buying a Phone\")\n",
    "\n",
    "class SmartPhone(Phone):\n",
    "    def buy(self):\n",
    "        print(\"Buying a SmartPhone\")\n",
    "\n",
    "s = SmartPhone(20000, \"Apple\", 13)\n",
    "s.buy()"
   ]
  },
  {
   "cell_type": "code",
   "execution_count": 33,
   "id": "63e5ef8c-cba2-4540-a304-79c0a13d9e9e",
   "metadata": {},
   "outputs": [
    {
     "name": "stdout",
     "output_type": "stream",
     "text": [
      "Inside Phone constructor\n",
      "Buying a SmartPhone\n",
      "Buying a Phone\n"
     ]
    }
   ],
   "source": [
    "# use of super keyword\n",
    "class Phone:\n",
    "    def __init__(self, price, brand, camera):\n",
    "        print(\"Inside Phone constructor\")\n",
    "        self.__price = price\n",
    "        self.brand   = brand\n",
    "        self.camera  = camera\n",
    "    def buy(self):\n",
    "        print(\"Buying a Phone\")\n",
    "\n",
    "class SmartPhone(Phone):\n",
    "    def buy(self):\n",
    "        print(\"Buying a SmartPhone\")\n",
    "        # syntax to call parent buy method\n",
    "        super().buy()\n",
    "\n",
    "s = SmartPhone(20000, \"Apple\", 13)\n",
    "s.buy()"
   ]
  },
  {
   "cell_type": "code",
   "execution_count": 35,
   "id": "83603cab-0a49-4a52-a525-47ad5a5f7c0b",
   "metadata": {},
   "outputs": [
    {
     "name": "stdout",
     "output_type": "stream",
     "text": [
      "Inside samrtphone constructor\n",
      "Inside Phone constructor\n",
      "Inside samrtphone constructor\n",
      "Android\n",
      "samsung\n"
     ]
    }
   ],
   "source": [
    "# super -> constructor\n",
    "class Phone:\n",
    "    def __init__(self, price, brand, camera):\n",
    "        print(\"Inside Phone constructor\")\n",
    "        self.__price = price\n",
    "        self.brand   = brand\n",
    "        self.camera  = camera\n",
    "\n",
    "class SmartPhone(Phone):\n",
    "    def __init__(self, price, brand, camera, os, ram):\n",
    "        print(\"Inside samrtphone constructor\")\n",
    "        super().__init__(price, brand, camera)\n",
    "        print(\"Inside samrtphone constructor\")\n",
    "        self.os = os\n",
    "        self.ram = ram\n",
    "\n",
    "s = SmartPhone(20000, \"samsung\", 12, \"Android\", 2)\n",
    "print(s.os)\n",
    "print(s.brand)"
   ]
  },
  {
   "cell_type": "code",
   "execution_count": 36,
   "id": "3aa9a916-3b9d-450c-9a12-9872914f0d06",
   "metadata": {},
   "outputs": [
    {
     "name": "stdout",
     "output_type": "stream",
     "text": [
      "Inside Phone constructor\n"
     ]
    },
    {
     "ename": "AttributeError",
     "evalue": "'SmartPhone' object has no attribute 'super'",
     "output_type": "error",
     "traceback": [
      "\u001b[1;31m---------------------------------------------------------------------------\u001b[0m",
      "\u001b[1;31mAttributeError\u001b[0m                            Traceback (most recent call last)",
      "Cell \u001b[1;32mIn[36], line 18\u001b[0m\n\u001b[0;32m     15\u001b[0m         \u001b[38;5;28msuper\u001b[39m()\u001b[38;5;241m.\u001b[39mbuy()\n\u001b[0;32m     17\u001b[0m s \u001b[38;5;241m=\u001b[39m SmartPhone(\u001b[38;5;241m20000\u001b[39m, \u001b[38;5;124m\"\u001b[39m\u001b[38;5;124mApple\u001b[39m\u001b[38;5;124m\"\u001b[39m, \u001b[38;5;241m13\u001b[39m)\n\u001b[1;32m---> 18\u001b[0m s\u001b[38;5;241m.\u001b[39msuper()\u001b[38;5;241m.\u001b[39mbuy()\n",
      "\u001b[1;31mAttributeError\u001b[0m: 'SmartPhone' object has no attribute 'super'"
     ]
    }
   ],
   "source": [
    "# use of super outside the class\n",
    "class Phone:\n",
    "    def __init__(self, price, brand, camera):\n",
    "        print(\"Inside Phone constructor\")\n",
    "        self.__price = price\n",
    "        self.brand   = brand\n",
    "        self.camera  = camera\n",
    "    def buy(self):\n",
    "        print(\"Buying a Phone\")\n",
    "\n",
    "class SmartPhone(Phone):\n",
    "    def buy(self):\n",
    "        print(\"Buying a SmartPhone\")\n",
    "        # syntax to call parent buy method\n",
    "        super().buy()\n",
    "\n",
    "s = SmartPhone(20000, \"Apple\", 13)\n",
    "s.super().buy()"
   ]
  },
  {
   "cell_type": "code",
   "execution_count": 37,
   "id": "ddc64cdd-0a31-4069-b734-f2fcccd74da5",
   "metadata": {},
   "outputs": [
    {
     "name": "stdout",
     "output_type": "stream",
     "text": [
      "Inside Phone constructor\n"
     ]
    },
    {
     "ename": "RuntimeError",
     "evalue": "super(): no arguments",
     "output_type": "error",
     "traceback": [
      "\u001b[1;31m---------------------------------------------------------------------------\u001b[0m",
      "\u001b[1;31mRuntimeError\u001b[0m                              Traceback (most recent call last)",
      "Cell \u001b[1;32mIn[37], line 18\u001b[0m\n\u001b[0;32m     15\u001b[0m         \u001b[38;5;28msuper\u001b[39m()\u001b[38;5;241m.\u001b[39mbuy()\n\u001b[0;32m     17\u001b[0m s \u001b[38;5;241m=\u001b[39m SmartPhone(\u001b[38;5;241m20000\u001b[39m, \u001b[38;5;124m\"\u001b[39m\u001b[38;5;124mApple\u001b[39m\u001b[38;5;124m\"\u001b[39m, \u001b[38;5;241m13\u001b[39m)\n\u001b[1;32m---> 18\u001b[0m \u001b[38;5;28msuper\u001b[39m()\u001b[38;5;241m.\u001b[39mbuy()\n",
      "\u001b[1;31mRuntimeError\u001b[0m: super(): no arguments"
     ]
    }
   ],
   "source": [
    "# use of super keyword\n",
    "class Phone:\n",
    "    def __init__(self, price, brand, camera):\n",
    "        print(\"Inside Phone constructor\")\n",
    "        self.__price = price\n",
    "        self.brand   = brand\n",
    "        self.camera  = camera\n",
    "    def buy(self):\n",
    "        print(\"Buying a Phone\")\n",
    "\n",
    "class SmartPhone(Phone):\n",
    "    def buy(self):\n",
    "        print(\"Buying a SmartPhone\")\n",
    "        # syntax to call parent buy method\n",
    "        super().buy()\n",
    "\n",
    "s = SmartPhone(20000, \"Apple\", 13)\n",
    "super().buy()"
   ]
  },
  {
   "cell_type": "code",
   "execution_count": 38,
   "id": "fe8aedd0-0f4e-41e1-9535-da8310c20192",
   "metadata": {},
   "outputs": [
    {
     "name": "stdout",
     "output_type": "stream",
     "text": [
      "Inside Phone constructor\n"
     ]
    },
    {
     "ename": "RuntimeError",
     "evalue": "super(): no arguments",
     "output_type": "error",
     "traceback": [
      "\u001b[1;31m---------------------------------------------------------------------------\u001b[0m",
      "\u001b[1;31mRuntimeError\u001b[0m                              Traceback (most recent call last)",
      "Cell \u001b[1;32mIn[38], line 18\u001b[0m\n\u001b[0;32m     15\u001b[0m         \u001b[38;5;28mprint\u001b[39m(\u001b[38;5;28msuper\u001b[39m()\u001b[38;5;241m.\u001b[39mbrand)\n\u001b[0;32m     17\u001b[0m s \u001b[38;5;241m=\u001b[39m SmartPhone(\u001b[38;5;241m20000\u001b[39m, \u001b[38;5;124m\"\u001b[39m\u001b[38;5;124mApple\u001b[39m\u001b[38;5;124m\"\u001b[39m, \u001b[38;5;241m13\u001b[39m)\n\u001b[1;32m---> 18\u001b[0m \u001b[38;5;28msuper\u001b[39m()\u001b[38;5;241m.\u001b[39mbuy()\n",
      "\u001b[1;31mRuntimeError\u001b[0m: super(): no arguments"
     ]
    }
   ],
   "source": [
    "# use of super keyword\n",
    "class Phone:\n",
    "    def __init__(self, price, brand, camera):\n",
    "        print(\"Inside Phone constructor\")\n",
    "        self.__price = price\n",
    "        self.brand   = brand\n",
    "        self.camera  = camera\n",
    "    def buy(self):\n",
    "        print(\"Buying a Phone\")\n",
    "\n",
    "class SmartPhone(Phone):\n",
    "    def buy(self):\n",
    "        print(\"Buying a SmartPhone\")\n",
    "        # syntax to call parent buy method\n",
    "        print(super().brand)\n",
    "\n",
    "s = SmartPhone(20000, \"Apple\", 13)\n",
    "super().buy()"
   ]
  },
  {
   "cell_type": "markdown",
   "id": "7c3926d1-f31c-4263-b856-1b7a4da9958e",
   "metadata": {},
   "source": [
    "### ***Problem solving***"
   ]
  },
  {
   "cell_type": "code",
   "execution_count": 40,
   "id": "fb4c5a40-0bf5-428f-a895-de9fbef63778",
   "metadata": {},
   "outputs": [
    {
     "name": "stdout",
     "output_type": "stream",
     "text": [
      "100\n",
      "200\n"
     ]
    }
   ],
   "source": [
    "class Parent:\n",
    "    def __init__(self, num):\n",
    "        self.__num = num\n",
    "    def get_num(self):\n",
    "        return self.__num\n",
    "\n",
    "class Child(Parent):\n",
    "    def __init__(self, num, val):\n",
    "        super().__init__(num)\n",
    "        self.__val = val\n",
    "    def get_val(self):\n",
    "        return self.__val\n",
    "\n",
    "\n",
    "son = Child(100, 200)\n",
    "print(son.get_num())\n",
    "print(son.get_val())"
   ]
  },
  {
   "cell_type": "code",
   "execution_count": 41,
   "id": "41658dc8-087a-4c6d-a3e9-3c262620797c",
   "metadata": {},
   "outputs": [
    {
     "name": "stdout",
     "output_type": "stream",
     "text": [
      "100\n",
      "200\n"
     ]
    }
   ],
   "source": [
    "class Parent:\n",
    "    def __init__(self):\n",
    "        self.num = 100\n",
    "        \n",
    "class Child(Parent):\n",
    "    def __init__(self):\n",
    "        super().__init__()\n",
    "        self.var = 200\n",
    "    def show(self):\n",
    "        print(self.num)\n",
    "        print(self.var)\n",
    "\n",
    "son = Child()\n",
    "son.show()"
   ]
  },
  {
   "cell_type": "code",
   "execution_count": 43,
   "id": "e5e3c16f-5af8-4b30-8fe8-39b553044635",
   "metadata": {},
   "outputs": [
    {
     "name": "stdout",
     "output_type": "stream",
     "text": [
      "Child: 10\n"
     ]
    }
   ],
   "source": [
    "class Parent:\n",
    "    def __init__(self):\n",
    "        self.__num = 100\n",
    "    def show(self):\n",
    "        print(\"Parent:\", self.__num)\n",
    "        \n",
    "class Child(Parent):\n",
    "    def __init__(self):\n",
    "        super().__init__()\n",
    "        self.__var = 10\n",
    "    def show(self):\n",
    "        print(\"Child:\", self.__var)\n",
    "\n",
    "obj = Child()\n",
    "obj.show()"
   ]
  },
  {
   "cell_type": "markdown",
   "id": "fa053589-4e8e-4d49-abb2-253d6d74328e",
   "metadata": {},
   "source": [
    "### ***Types of Inheritance***\n",
    "### - single level inheritance\r",
    "### - multi level inheritance\n",
    "### - Hierarchial inheritanc\n",
    "### - multiple inheritan\n",
    "### - Hybrid inheritance\n"
   ]
  },
  {
   "cell_type": "code",
   "execution_count": 44,
   "id": "3615d1be-a51a-4597-b563-56bd90ea2f81",
   "metadata": {},
   "outputs": [
    {
     "name": "stdout",
     "output_type": "stream",
     "text": [
      "Inside Phone constructor\n",
      "Buying a Phone\n"
     ]
    }
   ],
   "source": [
    "# single inheritance\n",
    "class Phone:\n",
    "    def __init__(self, price, brand, camera):\n",
    "        print(\"Inside Phone constructor\")\n",
    "        self.__price = price\n",
    "        self.brand   = brand\n",
    "        self.camera  = camera\n",
    "    def buy(self):\n",
    "        print(\"Buying a Phone\")\n",
    "\n",
    "class SmartPhone(Phone):\n",
    "    pass\n",
    "\n",
    "SmartPhone(20000, \"Apple\", 13).buy()"
   ]
  },
  {
   "cell_type": "code",
   "execution_count": 45,
   "id": "857e9750-4deb-4f4b-b41f-eeee4e4bdb28",
   "metadata": {},
   "outputs": [
    {
     "name": "stdout",
     "output_type": "stream",
     "text": [
      "Inside Phone constructor\n",
      "Buying a Phone\n",
      "Product customer review\n"
     ]
    }
   ],
   "source": [
    "# multilevel inheritance\n",
    "class Product:\n",
    "    def review(self):\n",
    "        print(\"Product customer review\")\n",
    "class Phone(Product):\n",
    "    def __init__(self, price, brand, camera):\n",
    "        print(\"Inside Phone constructor\")\n",
    "        self.__price = price\n",
    "        self.brand   = brand\n",
    "        self.camera  = camera\n",
    "    def buy(self):\n",
    "        print(\"Buying a Phone\")\n",
    "\n",
    "class SmartPhone(Phone):\n",
    "    pass\n",
    "\n",
    "s = SmartPhone(20000, \"Apple\", 13)\n",
    "s.buy()\n",
    "s.review()"
   ]
  },
  {
   "cell_type": "code",
   "execution_count": 46,
   "id": "54ca7373-77fc-4c4f-bdf3-daa1ab5ab67d",
   "metadata": {},
   "outputs": [
    {
     "name": "stdout",
     "output_type": "stream",
     "text": [
      "Inside Phone constructor\n",
      "Buying a Phone\n",
      "Inside Phone constructor\n",
      "Buying a Phone\n"
     ]
    }
   ],
   "source": [
    "# hierarchial inheritance\n",
    "class Phone:\n",
    "    def __init__(self, price, brand, camera):\n",
    "        print(\"Inside Phone constructor\")\n",
    "        self.__price = price\n",
    "        self.brand   = brand\n",
    "        self.camera  = camera\n",
    "    def buy(self):\n",
    "        print(\"Buying a Phone\")\n",
    "\n",
    "class SmartPhone(Phone):\n",
    "    pass\n",
    "\n",
    "class FeaturePhone(Phone):\n",
    "    pass\n",
    "\n",
    "SmartPhone(20000, \"Apple\", 13).buy()\n",
    "FeaturePhone(10, \"lava\", 1).buy()"
   ]
  },
  {
   "cell_type": "code",
   "execution_count": 47,
   "id": "f524372f-198e-4bf1-95e0-b2c1c65944d9",
   "metadata": {},
   "outputs": [
    {
     "name": "stdout",
     "output_type": "stream",
     "text": [
      "Inside Phone constructor\n",
      "Buying a Phone\n",
      "Customer review\n"
     ]
    }
   ],
   "source": [
    "# multiple inheritance\n",
    "class Phone:\n",
    "    def __init__(self, price, brand, camera):\n",
    "        print(\"Inside Phone constructor\")\n",
    "        self.__price = price\n",
    "        self.brand   = brand\n",
    "        self.camera  = camera\n",
    "    def buy(self):\n",
    "        print(\"Buying a Phone\")\n",
    "\n",
    "class Product:\n",
    "    def review(self):\n",
    "        print(\"Customer review\")\n",
    "\n",
    "class SmartPhone(Phone, Product):\n",
    "    pass\n",
    "\n",
    "s = SmartPhone(20000, \"Apple\", 12)\n",
    "s.buy()\n",
    "s.review()"
   ]
  },
  {
   "cell_type": "code",
   "execution_count": 48,
   "id": "f20e66e8-9f7a-4a0c-92e4-65c33dab1db3",
   "metadata": {},
   "outputs": [
    {
     "name": "stdout",
     "output_type": "stream",
     "text": [
      "Inside Phone constructor\n",
      "Buying a Phone\n"
     ]
    }
   ],
   "source": [
    " # multiple inheritance\n",
    "class Phone:\n",
    "    def __init__(self, price, brand, camera):\n",
    "        print(\"Inside Phone constructor\")\n",
    "        self.__price = price\n",
    "        self.brand   = brand\n",
    "        self.camera  = camera\n",
    "    def buy(self):\n",
    "        print(\"Buying a Phone\")\n",
    "\n",
    "class Product:\n",
    "    def buy(self):\n",
    "        print(\"Product buy method\")\n",
    "\n",
    "class SmartPhone(Phone, Product):\n",
    "    pass\n",
    "\n",
    "s = SmartPhone(20000, \"Apple\", 12)\n",
    "s.buy()"
   ]
  },
  {
   "cell_type": "code",
   "execution_count": 49,
   "id": "4dfc2090-0063-430a-9522-71cc75348285",
   "metadata": {},
   "outputs": [
    {
     "name": "stdout",
     "output_type": "stream",
     "text": [
      "Inside Phone constructor\n",
      "Product buy method\n"
     ]
    }
   ],
   "source": [
    " # multiple inheritance\n",
    "class Phone:\n",
    "    def __init__(self, price, brand, camera):\n",
    "        print(\"Inside Phone constructor\")\n",
    "        self.__price = price\n",
    "        self.brand   = brand\n",
    "        self.camera  = camera\n",
    "    def buy(self):\n",
    "        print(\"Buying a Phone\")\n",
    "\n",
    "class Product:\n",
    "    def buy(self):\n",
    "        print(\"Product buy method\")\n",
    "\n",
    "class SmartPhone(Product, Phone):\n",
    "    pass\n",
    "\n",
    "s = SmartPhone(20000, \"Apple\", 12)\n",
    "s.buy()"
   ]
  },
  {
   "cell_type": "code",
   "execution_count": 50,
   "id": "6d9feeab-0f2a-4e0b-a515-4d3f906f5ac4",
   "metadata": {},
   "outputs": [
    {
     "name": "stdout",
     "output_type": "stream",
     "text": [
      "70\n"
     ]
    }
   ],
   "source": [
    "class A:\n",
    "    \n",
    "    def m1(self):\n",
    "        return 20\n",
    "\n",
    "class B(A):\n",
    "    \n",
    "    def m1(self):\n",
    "        return 30\n",
    "        \n",
    "    def m2(self):\n",
    "        return 40\n",
    "        \n",
    "class C(B):\n",
    "    \n",
    "    def m2(self):\n",
    "        return 20\n",
    "\n",
    "obj1 = A()\n",
    "obj2 = B()\n",
    "obj3 = C()\n",
    "print(obj1.m1() + obj3.m1() + obj3.m2())# 20 + 30 + 20"
   ]
  },
  {
   "cell_type": "code",
   "execution_count": 51,
   "id": "0684b1de-7e73-4bda-8f3e-68951a97cd77",
   "metadata": {},
   "outputs": [
    {
     "ename": "RecursionError",
     "evalue": "maximum recursion depth exceeded",
     "output_type": "error",
     "traceback": [
      "\u001b[1;31m---------------------------------------------------------------------------\u001b[0m",
      "\u001b[1;31mRecursionError\u001b[0m                            Traceback (most recent call last)",
      "Cell \u001b[1;32mIn[51], line 16\u001b[0m\n\u001b[0;32m     13\u001b[0m         \u001b[38;5;28;01mreturn\u001b[39;00m val\n\u001b[0;32m     15\u001b[0m obj \u001b[38;5;241m=\u001b[39m C()\n\u001b[1;32m---> 16\u001b[0m \u001b[38;5;28mprint\u001b[39m(obj\u001b[38;5;241m.\u001b[39mm1())\n",
      "Cell \u001b[1;32mIn[51], line 12\u001b[0m, in \u001b[0;36mC.m1\u001b[1;34m(self)\u001b[0m\n\u001b[0;32m     11\u001b[0m \u001b[38;5;28;01mdef\u001b[39;00m \u001b[38;5;21mm1\u001b[39m(\u001b[38;5;28mself\u001b[39m):\n\u001b[1;32m---> 12\u001b[0m     val \u001b[38;5;241m=\u001b[39m \u001b[38;5;28mself\u001b[39m\u001b[38;5;241m.\u001b[39mm1()\u001b[38;5;241m+\u001b[39m\u001b[38;5;241m20\u001b[39m\n\u001b[0;32m     13\u001b[0m     \u001b[38;5;28;01mreturn\u001b[39;00m val\n",
      "Cell \u001b[1;32mIn[51], line 12\u001b[0m, in \u001b[0;36mC.m1\u001b[1;34m(self)\u001b[0m\n\u001b[0;32m     11\u001b[0m \u001b[38;5;28;01mdef\u001b[39;00m \u001b[38;5;21mm1\u001b[39m(\u001b[38;5;28mself\u001b[39m):\n\u001b[1;32m---> 12\u001b[0m     val \u001b[38;5;241m=\u001b[39m \u001b[38;5;28mself\u001b[39m\u001b[38;5;241m.\u001b[39mm1()\u001b[38;5;241m+\u001b[39m\u001b[38;5;241m20\u001b[39m\n\u001b[0;32m     13\u001b[0m     \u001b[38;5;28;01mreturn\u001b[39;00m val\n",
      "    \u001b[1;31m[... skipping similar frames: C.m1 at line 12 (2970 times)]\u001b[0m\n",
      "Cell \u001b[1;32mIn[51], line 12\u001b[0m, in \u001b[0;36mC.m1\u001b[1;34m(self)\u001b[0m\n\u001b[0;32m     11\u001b[0m \u001b[38;5;28;01mdef\u001b[39;00m \u001b[38;5;21mm1\u001b[39m(\u001b[38;5;28mself\u001b[39m):\n\u001b[1;32m---> 12\u001b[0m     val \u001b[38;5;241m=\u001b[39m \u001b[38;5;28mself\u001b[39m\u001b[38;5;241m.\u001b[39mm1()\u001b[38;5;241m+\u001b[39m\u001b[38;5;241m20\u001b[39m\n\u001b[0;32m     13\u001b[0m     \u001b[38;5;28;01mreturn\u001b[39;00m val\n",
      "\u001b[1;31mRecursionError\u001b[0m: maximum recursion depth exceeded"
     ]
    }
   ],
   "source": [
    "class A:\n",
    "    def m1(self):\n",
    "        return 20\n",
    "\n",
    "class B(A):\n",
    "    def m1(self):\n",
    "        val = super().m1()+30\n",
    "        return val\n",
    "\n",
    "class C(B):\n",
    "    def m1(self):\n",
    "        val = self.m1()+20\n",
    "        return val\n",
    "\n",
    "obj = C()\n",
    "print(obj.m1())"
   ]
  },
  {
   "cell_type": "markdown",
   "id": "7f748179-9905-41b3-a608-9ec6b5f6a0da",
   "metadata": {},
   "source": [
    "### ***Polymorphism***\n",
    "#### - Method overriding\n",
    "#### - Method overloading\n",
    "#### - operator overloading"
   ]
  },
  {
   "cell_type": "code",
   "execution_count": 53,
   "id": "72663119-2d1a-494a-8013-9fc97d73f3fe",
   "metadata": {},
   "outputs": [
    {
     "ename": "TypeError",
     "evalue": "Shape.area() missing 1 required positional argument: 'b'",
     "output_type": "error",
     "traceback": [
      "\u001b[1;31m---------------------------------------------------------------------------\u001b[0m",
      "\u001b[1;31mTypeError\u001b[0m                                 Traceback (most recent call last)",
      "Cell \u001b[1;32mIn[53], line 9\u001b[0m\n\u001b[0;32m      6\u001b[0m         \u001b[38;5;28;01mreturn\u001b[39;00m l\u001b[38;5;241m*\u001b[39mb\n\u001b[0;32m      8\u001b[0m s \u001b[38;5;241m=\u001b[39m Shape()\n\u001b[1;32m----> 9\u001b[0m s\u001b[38;5;241m.\u001b[39marea(\u001b[38;5;241m2\u001b[39m)\n\u001b[0;32m     10\u001b[0m s\u001b[38;5;241m.\u001b[39marea(\u001b[38;5;241m3\u001b[39m, \u001b[38;5;241m4\u001b[39m)\n",
      "\u001b[1;31mTypeError\u001b[0m: Shape.area() missing 1 required positional argument: 'b'"
     ]
    }
   ],
   "source": [
    "class Shape:\n",
    "\n",
    "    def area(self, radius):\n",
    "        return 3.14*radius*radius\n",
    "    def area(self, l, b):\n",
    "        return l*b\n",
    "\n",
    "s = Shape()\n",
    "s.area(2)\n",
    "s.area(3, 4)\n"
   ]
  },
  {
   "cell_type": "code",
   "execution_count": 55,
   "id": "72f7f19a-4826-41c6-9f31-2f34454f9bb2",
   "metadata": {},
   "outputs": [
    {
     "data": {
      "text/plain": [
       "12.56"
      ]
     },
     "execution_count": 55,
     "metadata": {},
     "output_type": "execute_result"
    }
   ],
   "source": [
    "class Shape:\n",
    "\n",
    "    def area(self, a, b=0):\n",
    "        if b==0:\n",
    "            return 3.14*a*a\n",
    "        return a*b\n",
    "\n",
    "s = Shape()\n",
    "s.area(2)"
   ]
  },
  {
   "cell_type": "code",
   "execution_count": 56,
   "id": "981bbfa2-eda1-4679-a075-fc4db919157f",
   "metadata": {},
   "outputs": [
    {
     "data": {
      "text/plain": [
       "12"
      ]
     },
     "execution_count": 56,
     "metadata": {},
     "output_type": "execute_result"
    }
   ],
   "source": [
    "s.area(3, 4)"
   ]
  },
  {
   "cell_type": "code",
   "execution_count": null,
   "id": "37b11281-f751-44f3-929c-9f510e4ac618",
   "metadata": {},
   "outputs": [],
   "source": []
  }
 ],
 "metadata": {
  "kernelspec": {
   "display_name": "Python 3 (ipykernel)",
   "language": "python",
   "name": "python3"
  },
  "language_info": {
   "codemirror_mode": {
    "name": "ipython",
    "version": 3
   },
   "file_extension": ".py",
   "mimetype": "text/x-python",
   "name": "python",
   "nbconvert_exporter": "python",
   "pygments_lexer": "ipython3",
   "version": "3.11.7"
  }
 },
 "nbformat": 4,
 "nbformat_minor": 5
}
