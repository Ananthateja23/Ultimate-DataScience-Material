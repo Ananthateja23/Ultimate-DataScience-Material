{
 "cells": [
  {
   "cell_type": "code",
   "execution_count": 1,
   "id": "81ab4985-2095-497c-b733-092d532bf108",
   "metadata": {},
   "outputs": [
    {
     "ename": "AttributeError",
     "evalue": "'list' object has no attribute 'upper'",
     "output_type": "error",
     "traceback": [
      "\u001b[1;31m---------------------------------------------------------------------------\u001b[0m",
      "\u001b[1;31mAttributeError\u001b[0m                            Traceback (most recent call last)",
      "Cell \u001b[1;32mIn[1], line 2\u001b[0m\n\u001b[0;32m      1\u001b[0m l \u001b[38;5;241m=\u001b[39m [\u001b[38;5;241m1\u001b[39m, \u001b[38;5;241m2\u001b[39m, \u001b[38;5;241m3\u001b[39m]\n\u001b[1;32m----> 2\u001b[0m l\u001b[38;5;241m.\u001b[39mupper()\n",
      "\u001b[1;31mAttributeError\u001b[0m: 'list' object has no attribute 'upper'"
     ]
    }
   ],
   "source": [
    "l = [1, 2, 3]\n",
    "l.upper()"
   ]
  },
  {
   "cell_type": "code",
   "execution_count": 2,
   "id": "fa135b9e-a9ba-4f0e-9ba5-9b5d15b00be8",
   "metadata": {},
   "outputs": [
    {
     "ename": "AttributeError",
     "evalue": "'str' object has no attribute 'append'",
     "output_type": "error",
     "traceback": [
      "\u001b[1;31m---------------------------------------------------------------------------\u001b[0m",
      "\u001b[1;31mAttributeError\u001b[0m                            Traceback (most recent call last)",
      "Cell \u001b[1;32mIn[2], line 2\u001b[0m\n\u001b[0;32m      1\u001b[0m s \u001b[38;5;241m=\u001b[39m \u001b[38;5;124m\"\u001b[39m\u001b[38;5;124mhello\u001b[39m\u001b[38;5;124m\"\u001b[39m\n\u001b[1;32m----> 2\u001b[0m s\u001b[38;5;241m.\u001b[39mappend(\u001b[38;5;124m'\u001b[39m\u001b[38;5;124mx\u001b[39m\u001b[38;5;124m'\u001b[39m)\n",
      "\u001b[1;31mAttributeError\u001b[0m: 'str' object has no attribute 'append'"
     ]
    }
   ],
   "source": [
    "s = \"hello\"\n",
    "s.append('x')"
   ]
  },
  {
   "cell_type": "markdown",
   "id": "001375ce-6ac8-4e04-b1f5-94b89d5afd4f",
   "metadata": {},
   "source": [
    "### ***The Observation***\n",
    "#### - Everything in python is an object\n",
    "#### - In above examples, python is calling list as an object and string as an object"
   ]
  },
  {
   "cell_type": "markdown",
   "id": "9b3efd20-c169-4052-a647-5a9e9727ce20",
   "metadata": {},
   "source": [
    "### ***What is an object***\n",
    "### ***what is OOP***\n",
    "#### - OOP stands for object oriented programming.\n",
    "### ***The problem***\n",
    "### - To build an application like linkedin. But we write code in procedural program approach because of it leads to 10k lines.\n",
    "### - when I tried add a new feature it become a complex then I realized the I used a wrong approach to build real world application\n",
    "### ***The solution***\n",
    "#### - To build an real world application we have to use OOP. It solve the my code complexity and reduce the code lines to its half compared to earlier approach\n",
    "#### - Generality to specificity\n",
    "#### - depending on applications need we add things and datatypes\n",
    "#### - OOP is a programming paradigm. The main power of oop is that oop gives programmer to create his own datatype based on his application need"
   ]
  },
  {
   "cell_type": "markdown",
   "id": "5a47bdc6-7e1b-4090-b6e3-c1663f6c5568",
   "metadata": {},
   "source": [
    "----"
   ]
  },
  {
   "cell_type": "markdown",
   "id": "fa128fd9-7689-4be8-9c25-60345c2b2ab7",
   "metadata": {},
   "source": [
    "### ***Principles of OOP***\n",
    "#### There are six principles of OOP:\n",
    "#### - Class\n",
    "#### - Object\n",
    "#### - Polymorphism\n",
    "#### - Encapsulation\n",
    "#### - Inheritance\n",
    "#### - Abstraction"
   ]
  },
  {
   "cell_type": "code",
   "execution_count": 3,
   "id": "ba9c225d-b2d3-40e5-9cf3-b0f3a13b6786",
   "metadata": {},
   "outputs": [
    {
     "name": "stdout",
     "output_type": "stream",
     "text": [
      "<class 'list'>\n"
     ]
    }
   ],
   "source": [
    "l = [1, 2, 3]\n",
    "print(type(l))"
   ]
  },
  {
   "cell_type": "code",
   "execution_count": 4,
   "id": "98194d62-bcba-4538-8d26-5d089600496e",
   "metadata": {},
   "outputs": [
    {
     "ename": "AttributeError",
     "evalue": "'list' object has no attribute 'upper'",
     "output_type": "error",
     "traceback": [
      "\u001b[1;31m---------------------------------------------------------------------------\u001b[0m",
      "\u001b[1;31mAttributeError\u001b[0m                            Traceback (most recent call last)",
      "Cell \u001b[1;32mIn[4], line 1\u001b[0m\n\u001b[1;32m----> 1\u001b[0m l\u001b[38;5;241m.\u001b[39mupper()\n",
      "\u001b[1;31mAttributeError\u001b[0m: 'list' object has no attribute 'upper'"
     ]
    }
   ],
   "source": [
    "l.upper()"
   ]
  },
  {
   "cell_type": "markdown",
   "id": "a953da45-e754-4175-a315-f458d35e5d8f",
   "metadata": {},
   "source": [
    "### ***Concept Breakdown***\n",
    "#### - All builtin datatypes in python are classes\n",
    "#### -  In above example, [1, 2, 3] is a class where as l is an object of class"
   ]
  },
  {
   "cell_type": "markdown",
   "id": "7658f80c-f05d-4b85-abc7-5173ec232ada",
   "metadata": {},
   "source": [
    "### ***Class***\n",
    "#### - class is a blue print or set of rules that tells how an object can behave\n",
    "#### - class is a set of rules but how can we write a class\n",
    "#### - Here, class contains two things:\n",
    "#### 1. Attributes or Data or Property\n",
    "#### 2. Methods or Functions or behaviour\n",
    "```python\n",
    "class Car:\n",
    "    color = \"blue\" # data\n",
    "    model = \"sports\" # data\n",
    "    def calculate_avg_speed(km, time):\n",
    "        #some code\n",
    "```\n",
    "#### - use pascal case to write a class name. ex: MyTrip, BankApp"
   ]
  },
  {
   "cell_type": "markdown",
   "id": "224871d3-5efa-43df-8a0f-c1d11af989d9",
   "metadata": {},
   "source": [
    "### ***Object***\n",
    "#### - Object is an instance of class\n",
    "```python\n",
    " # syntax of object creation\n",
    " objectname = classname()\n",
    "```\n",
    "### ***Examples***\n",
    "#### 1. Car ==> Mahindrathar\n",
    "#### mahindrathar = Car()\n",
    "#### 2. Sports ==> cricket\n",
    "#### cricket = Sports()\n",
    "#### 3. Animals ==> Langoor\n",
    "#### langoor = Animals()"
   ]
  },
  {
   "cell_type": "markdown",
   "id": "dac132ec-931d-43d9-b538-97bd0d66ed68",
   "metadata": {},
   "source": [
    "### ***Bank Application:***"
   ]
  },
  {
   "cell_type": "code",
   "execution_count": null,
   "id": "855f5d80-eef1-48d4-9326-a570d4e26ce9",
   "metadata": {},
   "outputs": [],
   "source": [
    "### ***constructor***\n",
    "#### - constructor is a special method inside class that is called when object is created"
   ]
  },
  {
   "cell_type": "code",
   "execution_count": 1,
   "id": "5badfad3-5c76-430c-8460-10ce48947124",
   "metadata": {},
   "outputs": [],
   "source": [
    "class Atm:\n",
    "    # constructor(special function) ==> superpower\n",
    "    def __init__(self):\n",
    "        self.pin = \"\"\n",
    "        self.balance = 0\n",
    "        print(\"Inside constructor\")\n",
    "        self.menu()\n",
    "    def menu(self):\n",
    "        user_input = input(\n",
    "            \"\"\"\n",
    "            Hi how can I help you?\n",
    "            1. Press 1 to create pin\n",
    "            2. Press 2 to change pin\n",
    "            3. Press 3 to check balance\n",
    "            4. Press 4 to withdraw\n",
    "            5. Anything else to exit\n",
    "            \"\"\"\n",
    "        )\n",
    "        if user_input == \"1\":\n",
    "            # create pin\n",
    "            self.create_pin()\n",
    "        elif user_input == \"2\":\n",
    "            # change pin\n",
    "            self.change_pin()\n",
    "        elif user_input == \"3\":\n",
    "            # check balance\n",
    "            self.check_balance()\n",
    "        elif user_input == \"4\":\n",
    "            # withdraw\n",
    "            self.withdraw()\n",
    "        else:\n",
    "            # exit\n",
    "            exit()\n",
    "    def create_pin(self):\n",
    "        user_pin = input(\"Enter your pin : \")\n",
    "        self.pin = user_pin\n",
    "        \n",
    "        user_balance = int(input(\"Enter your balance : \"))\n",
    "        self.balance = user_balance\n",
    "        \n",
    "        print(\"pin created successfully!!!\")\n",
    "        self.menu()\n",
    "        \n",
    "    def change_pin(self):\n",
    "        old_pin = input(\"Enter old pin : \")\n",
    "        if old_pin == self.pin:\n",
    "            # let him change the pin\n",
    "            new_pin = input(\"Enter new pin : \")\n",
    "            self.pin = new_pin\n",
    "            print(\"Pin changed successfully\")\n",
    "            self.menu()\n",
    "        else:\n",
    "            print(\"Please Enter valid pin\")\n",
    "            self.menu()\n",
    "    def check_balance(self):\n",
    "        user_pin = input(\"enter your pin\")\n",
    "        if user_pin == self.pin:\n",
    "            print(\"your balance is\", self.balance)\n",
    "        else:\n",
    "            print(\"Please Enter valid pin\")\n",
    "    def withdraw(self):\n",
    "        user_pin = input(\"enter your pin\")\n",
    "        if user_pin == self.pin:\n",
    "            user_amount = int(input(\"enter amount to deduct : \"))\n",
    "            if self.balance >= user_amount:\n",
    "                self.balance -= user_amount\n",
    "                print(\"Amount debited successfully\", user_amount)\n",
    "            else:\n",
    "                print(\"Amount is Insufficient to withdraw\")\n",
    "        else:\n",
    "            print(\"Please Enter valid pin\")\n",
    "        self.menu()"
   ]
  },
  {
   "cell_type": "code",
   "execution_count": 2,
   "id": "25a7770d-e46a-412e-b7ed-f30fdc8913e8",
   "metadata": {},
   "outputs": [
    {
     "name": "stdout",
     "output_type": "stream",
     "text": [
      "Inside constructor\n"
     ]
    },
    {
     "name": "stdin",
     "output_type": "stream",
     "text": [
      "\n",
      "            Hi how can I help you?\n",
      "            1. Press 1 to create pin\n",
      "            2. Press 2 to change pin\n",
      "            3. Press 3 to check balance\n",
      "            4. Press 4 to withdraw\n",
      "            5. Anything else to exit\n",
      "             1\n",
      "Enter your pin :  1234\n",
      "Enter your balance :  10000\n"
     ]
    },
    {
     "name": "stdout",
     "output_type": "stream",
     "text": [
      "pin created successfully!!!\n"
     ]
    },
    {
     "name": "stdin",
     "output_type": "stream",
     "text": [
      "\n",
      "            Hi how can I help you?\n",
      "            1. Press 1 to create pin\n",
      "            2. Press 2 to change pin\n",
      "            3. Press 3 to check balance\n",
      "            4. Press 4 to withdraw\n",
      "            5. Anything else to exit\n",
      "             4\n",
      "enter your pin 1234\n",
      "enter amount to deduct :  10000\n"
     ]
    },
    {
     "name": "stdout",
     "output_type": "stream",
     "text": [
      "Amount debited successfully 10000\n"
     ]
    },
    {
     "name": "stdin",
     "output_type": "stream",
     "text": [
      "\n",
      "            Hi how can I help you?\n",
      "            1. Press 1 to create pin\n",
      "            2. Press 2 to change pin\n",
      "            3. Press 3 to check balance\n",
      "            4. Press 4 to withdraw\n",
      "            5. Anything else to exit\n",
      "             3\n",
      "enter your pin 1234\n"
     ]
    },
    {
     "name": "stdout",
     "output_type": "stream",
     "text": [
      "your balance is 0\n"
     ]
    }
   ],
   "source": [
    "obj = Atm()"
   ]
  },
  {
   "cell_type": "code",
   "execution_count": 9,
   "id": "29ae99a4-33b7-4a56-b765-be231830fd98",
   "metadata": {},
   "outputs": [
    {
     "name": "stdout",
     "output_type": "stream",
     "text": [
      "<class '__main__.Atm'>\n"
     ]
    }
   ],
   "source": [
    "print(type(obj))"
   ]
  },
  {
   "cell_type": "code",
   "execution_count": 13,
   "id": "1c688f35-9733-4abe-90b5-9ee9f3c47f56",
   "metadata": {},
   "outputs": [
    {
     "name": "stdout",
     "output_type": "stream",
     "text": [
      "Inside constructor\n"
     ]
    }
   ],
   "source": [
    "obj2 = Atm()"
   ]
  },
  {
   "cell_type": "markdown",
   "id": "bdae5398-f7b9-4e1b-b6cd-3eafb53454b0",
   "metadata": {},
   "source": [
    "### ***Methods Vs Functions***\n",
    "#### - function defined inside a class is called methods\n",
    "#### - function exist independently outside of class is called Functions\n",
    "```python\n",
    "l = [1, 2, 3]\n",
    "len(l) # function becoz it is outside the list class\n",
    "l.append(10) # method becoz it is inside the list class\n",
    "```"
   ]
  },
  {
   "cell_type": "markdown",
   "id": "ff622fbf-fc2d-4900-a5c2-2ce95b2b0e40",
   "metadata": {},
   "source": [
    "### ***Magic Method a.k.a Dunder Method***\n",
    "#### - Magic methods are special methods. It has a superpower by its own\n",
    "#### - every magic method will shown in the form `__methodname__`\n",
    "### ***Constructor***\n",
    "#### - Constructor is a special method and it got superpower that is called when object is created\n",
    "### ***Benifit of constructor***\n",
    "#### - It is used to write configuration related code. we write code that automatically executes without required user permission\n",
    "#### - Ex: Database connection, Internet connection"
   ]
  },
  {
   "cell_type": "markdown",
   "id": "5fc2d400-9c29-4144-be3e-f5536ec8c6a0",
   "metadata": {},
   "source": [
    "### ***self***\n",
    "#### - self is current object of class and it contain address of object"
   ]
  },
  {
   "cell_type": "code",
   "execution_count": 95,
   "id": "ba1dfea3-91f8-44d4-add4-2c478c831014",
   "metadata": {},
   "outputs": [],
   "source": [
    "class Fraction:\n",
    "    # parameterised constructor: needs input while object creation\n",
    "    def __init__(self, x, y):\n",
    "        self.num = x\n",
    "        self.den = y\n",
    "    def __str__(self):\n",
    "        return \"{}/{}\".format(self.num, self.den)\n",
    "    def __add__(self, other):\n",
    "        new_num = self.num*other.den+self.den*other.num\n",
    "        new_den = self.den*other.den\n",
    "        return \"{}/{}\".format(new_num, new_den)\n",
    "    def __sub__(self, other):\n",
    "        new_num = self.num*other.den-self.den*other.num\n",
    "        new_den = self.den*other.den\n",
    "        return \"{}/{}\".format(new_num, new_den)\n",
    "    def __mul__(self, other):\n",
    "        new_num = self.num*other.num\n",
    "        new_den = self.den*other.den\n",
    "        return \"{}/{}\".format(new_num, new_den)\n",
    "    def __truediv__(self, other):\n",
    "        new_num = self.num*other.den\n",
    "        new_den = self.den*other.num\n",
    "        return \"{}/{}\".format(new_num, new_den)\n",
    "    def convert_to_decimal(self):\n",
    "        return self.num/self.den"
   ]
  },
  {
   "cell_type": "code",
   "execution_count": 97,
   "id": "72e7d86d-58bf-4c48-99fb-fb13138a22e6",
   "metadata": {},
   "outputs": [
    {
     "ename": "TypeError",
     "evalue": "Fraction.__init__() missing 2 required positional arguments: 'x' and 'y'",
     "output_type": "error",
     "traceback": [
      "\u001b[1;31m---------------------------------------------------------------------------\u001b[0m",
      "\u001b[1;31mTypeError\u001b[0m                                 Traceback (most recent call last)",
      "Cell \u001b[1;32mIn[97], line 1\u001b[0m\n\u001b[1;32m----> 1\u001b[0m f1 \u001b[38;5;241m=\u001b[39m Fraction()\n",
      "\u001b[1;31mTypeError\u001b[0m: Fraction.__init__() missing 2 required positional arguments: 'x' and 'y'"
     ]
    }
   ],
   "source": [
    "f1 = Fraction()"
   ]
  },
  {
   "cell_type": "code",
   "execution_count": 98,
   "id": "0b57f371-da58-4078-82bd-ac94a34bc11f",
   "metadata": {},
   "outputs": [],
   "source": [
    "f1 = Fraction(3, 4)"
   ]
  },
  {
   "cell_type": "code",
   "execution_count": 99,
   "id": "a2311062-33a3-4359-b50a-c6e337165ae7",
   "metadata": {},
   "outputs": [
    {
     "data": {
      "text/plain": [
       "0.75"
      ]
     },
     "execution_count": 99,
     "metadata": {},
     "output_type": "execute_result"
    }
   ],
   "source": [
    "f1.convert_to_decimal()"
   ]
  },
  {
   "cell_type": "code",
   "execution_count": 86,
   "id": "88333151-5fd0-4b5c-a61a-93ace6f6dfef",
   "metadata": {},
   "outputs": [
    {
     "name": "stdout",
     "output_type": "stream",
     "text": [
      "3/4\n"
     ]
    }
   ],
   "source": [
    "print(f1)"
   ]
  },
  {
   "cell_type": "code",
   "execution_count": 87,
   "id": "658a762f-0f3e-4528-b2a1-e0accbda022a",
   "metadata": {},
   "outputs": [
    {
     "name": "stdout",
     "output_type": "stream",
     "text": [
      "<class '__main__.Fraction'>\n"
     ]
    }
   ],
   "source": [
    "print(type(f1))"
   ]
  },
  {
   "cell_type": "code",
   "execution_count": 88,
   "id": "a0310177-4011-4fa2-b0e7-1e21b7dea184",
   "metadata": {},
   "outputs": [],
   "source": [
    "f2 = Fraction(1, 2)"
   ]
  },
  {
   "cell_type": "code",
   "execution_count": 89,
   "id": "994aa96e-4fc3-4512-b6bd-7f3ae8880361",
   "metadata": {},
   "outputs": [
    {
     "name": "stdout",
     "output_type": "stream",
     "text": [
      "1/2\n"
     ]
    }
   ],
   "source": [
    "print(f2)"
   ]
  },
  {
   "cell_type": "code",
   "execution_count": 90,
   "id": "92e10196-d492-439d-aae2-4e22d96d3940",
   "metadata": {},
   "outputs": [
    {
     "name": "stdout",
     "output_type": "stream",
     "text": [
      "10/8\n"
     ]
    }
   ],
   "source": [
    "print(f1+f2)"
   ]
  },
  {
   "cell_type": "code",
   "execution_count": 91,
   "id": "30646a1e-8d56-49b9-a1d0-75291dc8cbd6",
   "metadata": {},
   "outputs": [
    {
     "ename": "TypeError",
     "evalue": "unsupported operand type(s) for +: 'set' and 'set'",
     "output_type": "error",
     "traceback": [
      "\u001b[1;31m---------------------------------------------------------------------------\u001b[0m",
      "\u001b[1;31mTypeError\u001b[0m                                 Traceback (most recent call last)",
      "Cell \u001b[1;32mIn[91], line 3\u001b[0m\n\u001b[0;32m      1\u001b[0m s1 \u001b[38;5;241m=\u001b[39m {\u001b[38;5;241m1\u001b[39m, \u001b[38;5;241m2\u001b[39m, \u001b[38;5;241m3\u001b[39m}\n\u001b[0;32m      2\u001b[0m s2 \u001b[38;5;241m=\u001b[39m {\u001b[38;5;241m3\u001b[39m, \u001b[38;5;241m4\u001b[39m, \u001b[38;5;241m5\u001b[39m}\n\u001b[1;32m----> 3\u001b[0m s1 \u001b[38;5;241m+\u001b[39m s2\n",
      "\u001b[1;31mTypeError\u001b[0m: unsupported operand type(s) for +: 'set' and 'set'"
     ]
    }
   ],
   "source": [
    "s1 = {1, 2, 3}\n",
    "s2 = {3, 4, 5}\n",
    "s1 + s2"
   ]
  },
  {
   "cell_type": "code",
   "execution_count": 92,
   "id": "b0e06535-ecae-4eea-a491-848d89642921",
   "metadata": {},
   "outputs": [
    {
     "name": "stdout",
     "output_type": "stream",
     "text": [
      "2/8\n"
     ]
    }
   ],
   "source": [
    "print(f1-f2)"
   ]
  },
  {
   "cell_type": "code",
   "execution_count": 93,
   "id": "70a102f0-5364-4bed-8abe-8f2037c53b59",
   "metadata": {},
   "outputs": [
    {
     "name": "stdout",
     "output_type": "stream",
     "text": [
      "2/8\n"
     ]
    }
   ],
   "source": [
    "print(f1-f2)"
   ]
  },
  {
   "cell_type": "code",
   "execution_count": 82,
   "id": "87f18ea3-7a7e-48ca-8b0c-37976aa7ab82",
   "metadata": {},
   "outputs": [
    {
     "name": "stdout",
     "output_type": "stream",
     "text": [
      "3/8\n"
     ]
    }
   ],
   "source": [
    "print(f1*f2)"
   ]
  },
  {
   "cell_type": "code",
   "execution_count": 94,
   "id": "2dd3e38f-bf8b-4ba9-92a3-2f1fe242badb",
   "metadata": {},
   "outputs": [
    {
     "name": "stdout",
     "output_type": "stream",
     "text": [
      "6/4\n"
     ]
    }
   ],
   "source": [
    "print(f1/f2)"
   ]
  },
  {
   "cell_type": "code",
   "execution_count": null,
   "id": "d581fc88-0773-47c4-ba38-e0a125f960ae",
   "metadata": {},
   "outputs": [],
   "source": []
  }
 ],
 "metadata": {
  "kernelspec": {
   "display_name": "Python 3 (ipykernel)",
   "language": "python",
   "name": "python3"
  },
  "language_info": {
   "codemirror_mode": {
    "name": "ipython",
    "version": 3
   },
   "file_extension": ".py",
   "mimetype": "text/x-python",
   "name": "python",
   "nbconvert_exporter": "python",
   "pygments_lexer": "ipython3",
   "version": "3.11.7"
  }
 },
 "nbformat": 4,
 "nbformat_minor": 5
}
