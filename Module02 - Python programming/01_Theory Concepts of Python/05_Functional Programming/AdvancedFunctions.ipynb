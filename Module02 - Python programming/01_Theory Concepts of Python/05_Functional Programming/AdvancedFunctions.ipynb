{
 "cells": [
  {
   "cell_type": "markdown",
   "id": "29700f56-b2ec-46c6-98cd-ebb77cf0371a",
   "metadata": {},
   "source": [
    "### ***lambda function***\n",
    "#### - lambda function is a function without name and it is also called as anonymous function\n",
    "#### - It takes more than one argument and returns only one value\n",
    "#### - It is used for executing simple operations"
   ]
  },
  {
   "cell_type": "code",
   "execution_count": 1,
   "id": "d55d424b-6690-40c5-bb7b-54c77c62c3b3",
   "metadata": {},
   "outputs": [
    {
     "data": {
      "text/plain": [
       "9"
      ]
     },
     "execution_count": 1,
     "metadata": {},
     "output_type": "execute_result"
    }
   ],
   "source": [
    "N = lambda x,y: x+y\n",
    "N(4,5)"
   ]
  },
  {
   "cell_type": "code",
   "execution_count": 2,
   "id": "4812d048-7fbf-4705-8629-c8a45788a41d",
   "metadata": {},
   "outputs": [
    {
     "data": {
      "text/plain": [
       "<function __main__.<lambda>(x, y)>"
      ]
     },
     "execution_count": 2,
     "metadata": {},
     "output_type": "execute_result"
    }
   ],
   "source": [
    "N"
   ]
  },
  {
   "cell_type": "code",
   "execution_count": 3,
   "id": "8efdf1b7-882b-45c1-9d7a-f8aba765beff",
   "metadata": {},
   "outputs": [
    {
     "data": {
      "text/plain": [
       "function"
      ]
     },
     "execution_count": 3,
     "metadata": {},
     "output_type": "execute_result"
    }
   ],
   "source": [
    "type(N)"
   ]
  },
  {
   "cell_type": "code",
   "execution_count": 4,
   "id": "8b5d2e8a-1b8a-4593-adca-7c268579be78",
   "metadata": {},
   "outputs": [
    {
     "data": {
      "text/plain": [
       "'Narendra Modi'"
      ]
     },
     "execution_count": 4,
     "metadata": {},
     "output_type": "execute_result"
    }
   ],
   "source": [
    "full_name = lambda fn,ln:f\"{fn} {ln}\"\n",
    "full_name(\"Narendra\", \"Modi\")"
   ]
  },
  {
   "cell_type": "code",
   "execution_count": 5,
   "id": "0bb7e50b-c0db-4a8a-a08c-50f464e1de1b",
   "metadata": {},
   "outputs": [
    {
     "data": {
      "text/plain": [
       "<function __main__.<lambda>(fn, ln)>"
      ]
     },
     "execution_count": 5,
     "metadata": {},
     "output_type": "execute_result"
    }
   ],
   "source": [
    "full_name"
   ]
  },
  {
   "cell_type": "code",
   "execution_count": 6,
   "id": "499e1c48-84ef-49f1-9333-117fa6a0bd81",
   "metadata": {},
   "outputs": [
    {
     "data": {
      "text/plain": [
       "function"
      ]
     },
     "execution_count": 6,
     "metadata": {},
     "output_type": "execute_result"
    }
   ],
   "source": [
    "type(full_name)"
   ]
  },
  {
   "cell_type": "markdown",
   "id": "a8967a68-f7ef-4c68-b443-0e5042070a20",
   "metadata": {},
   "source": [
    "### ***Map function***\n",
    "#### - map function is used to access and modify the values in sequence or iterable\n",
    "#### - map function always return map object\n",
    "#### - we can avoid loops by using map function\n",
    "#### - number of input values and output values both are same"
   ]
  },
  {
   "cell_type": "code",
   "execution_count": 7,
   "id": "45f6d5c3-398b-43af-8307-1bb2776ee555",
   "metadata": {},
   "outputs": [
    {
     "name": "stdout",
     "output_type": "stream",
     "text": [
      "[4, 9, 16, 25]\n"
     ]
    }
   ],
   "source": [
    "def square(num):\n",
    "    return num**2\n",
    "\n",
    "num_list = [2, 3, 4, 5]\n",
    "x = list(map(square, num_list))\n",
    "print(x)"
   ]
  },
  {
   "cell_type": "code",
   "execution_count": 8,
   "id": "2b7320d4-4160-4b53-a201-a99e163dbb96",
   "metadata": {},
   "outputs": [
    {
     "name": "stdout",
     "output_type": "stream",
     "text": [
      "[4, 9, 16, 25]\n"
     ]
    }
   ],
   "source": [
    "num_list = [2, 3, 4, 5]\n",
    "x = list(map(lambda num: num**2, num_list))\n",
    "print(x)"
   ]
  },
  {
   "cell_type": "markdown",
   "id": "c5cb5655-2c0e-488b-95ac-08a0572ea648",
   "metadata": {},
   "source": [
    "### ***filter function***\n",
    "#### - filter function is used to filter the values in sequence based on user requirements\n",
    "#### - filter function always return filter object\n",
    "#### - we can avoid loops by using filter function\n",
    "#### - number of input values and output values both are not same"
   ]
  },
  {
   "cell_type": "code",
   "execution_count": 9,
   "id": "324ddf19-7a96-4428-b8a7-7bb387a0fa62",
   "metadata": {},
   "outputs": [
    {
     "name": "stdout",
     "output_type": "stream",
     "text": [
      "[12, 20, 18]\n"
     ]
    }
   ],
   "source": [
    "def even(num):\n",
    "    return num%2==0\n",
    "\n",
    "num_list = [11, 12, 13, 17, 19, 20, 18]\n",
    "x = list(filter(even, num_list))\n",
    "print(x)"
   ]
  },
  {
   "cell_type": "code",
   "execution_count": 10,
   "id": "3921edab-4018-4f78-aa51-0ea392dc2577",
   "metadata": {},
   "outputs": [
    {
     "name": "stdout",
     "output_type": "stream",
     "text": [
      "[12, 20, 18]\n"
     ]
    }
   ],
   "source": [
    "num_list = [11, 12, 13, 17, 19, 20, 18]\n",
    "x = list(filter(lambda num: num%2==0, num_list))\n",
    "print(x)"
   ]
  },
  {
   "cell_type": "code",
   "execution_count": 11,
   "id": "02a8e859-1b9e-4a9e-949c-0133dd28a119",
   "metadata": {},
   "outputs": [
    {
     "name": "stdout",
     "output_type": "stream",
     "text": [
      "[False, True, False, False, False, True, True]\n"
     ]
    }
   ],
   "source": [
    "num_list = [11, 12, 13, 17, 19, 20, 18]\n",
    "x = list(map(lambda num: num%2==0, num_list))\n",
    "print(x)"
   ]
  },
  {
   "cell_type": "markdown",
   "id": "b494f766-9155-4e46-8c66-950c10237e27",
   "metadata": {},
   "source": [
    "### ***Note***\n",
    "#### - If lambda returns True then map function store it as value where as filter function store exact value"
   ]
  },
  {
   "cell_type": "code",
   "execution_count": 12,
   "id": "ffd1d27b-d207-4305-8ee2-c68d80e1240c",
   "metadata": {},
   "outputs": [
    {
     "name": "stdout",
     "output_type": "stream",
     "text": [
      "[11, 13, 17, 19]\n"
     ]
    }
   ],
   "source": [
    "def prime(num):\n",
    "    if num<=1:\n",
    "        return False\n",
    "    for i in range(2, num//2+1):\n",
    "        if num%i == 0:\n",
    "            return False\n",
    "    return True\n",
    "\n",
    "num_list = [11, 12, 13, 14, 15, 17, 19]\n",
    "x = list(filter(prime, num_list))\n",
    "print(x)"
   ]
  },
  {
   "cell_type": "code",
   "execution_count": 13,
   "id": "967efa03-653d-472c-883a-e439507532ce",
   "metadata": {},
   "outputs": [
    {
     "name": "stdout",
     "output_type": "stream",
     "text": [
      "[True, False, True, False, False, True, True, False]\n"
     ]
    }
   ],
   "source": [
    "num_list = [11, 12, 13, 14, 15, 17, 19, 1]\n",
    "x = list(map(prime, num_list))\n",
    "print(x)"
   ]
  },
  {
   "cell_type": "markdown",
   "id": "3442c40d-9329-43db-8394-8a20bb3866f9",
   "metadata": {},
   "source": [
    "### ***reduce***\n",
    "#### - reduce function is used to access the values and perform some specific operation on sequence or iterable\n",
    "#### - reduce function always return final answer of performed operation\n",
    "#### - we can avoid loops using reduce function\n",
    "#### - number of input values and output values both are not same"
   ]
  },
  {
   "cell_type": "code",
   "execution_count": 14,
   "id": "7337d7fb-b123-4780-af92-48c0775f2741",
   "metadata": {},
   "outputs": [
    {
     "name": "stdout",
     "output_type": "stream",
     "text": [
      "-30\n"
     ]
    }
   ],
   "source": [
    "from functools import reduce\n",
    "num_list = [10, 15, 20, -25, 30]\n",
    "num = reduce(lambda x,y: x-y, num_list)\n",
    "print(num)"
   ]
  },
  {
   "cell_type": "code",
   "execution_count": 15,
   "id": "b1e9ef88-ab5a-45e3-9b13-b2b7a3c00d36",
   "metadata": {},
   "outputs": [
    {
     "name": "stdout",
     "output_type": "stream",
     "text": [
      "24\n"
     ]
    }
   ],
   "source": [
    "from functools import reduce\n",
    "num = 4\n",
    "result = reduce(lambda x,y:x*y, range(1,num+1))\n",
    "print(result)"
   ]
  },
  {
   "cell_type": "code",
   "execution_count": 16,
   "id": "f69ee4cf-b882-4b33-a1fb-c94787964429",
   "metadata": {},
   "outputs": [
    {
     "name": "stdout",
     "output_type": "stream",
     "text": [
      "25\n"
     ]
    }
   ],
   "source": [
    "from functools import reduce\n",
    "num_list = [10, 20, 15, 18, 25, 19]\n",
    "greatest_num = reduce(lambda x,y: x if x>y else y, num_list)\n",
    "print(greatest_num)"
   ]
  },
  {
   "cell_type": "code",
   "execution_count": 17,
   "id": "d1be4975-2818-426f-83ae-c2b4b65b3ddb",
   "metadata": {},
   "outputs": [
    {
     "name": "stdout",
     "output_type": "stream",
     "text": [
      "10\n"
     ]
    }
   ],
   "source": [
    "smallest_num = reduce(lambda x,y: x if x<y else y, num_list)\n",
    "print(smallest_num)"
   ]
  },
  {
   "cell_type": "markdown",
   "id": "c87d1867-7cac-410f-ab0f-631f58f5fa3e",
   "metadata": {},
   "source": [
    "----"
   ]
  },
  {
   "cell_type": "markdown",
   "id": "609f9cda-d797-413b-9b83-ef87767d0d71",
   "metadata": {},
   "source": [
    "### ***Problem solving***"
   ]
  },
  {
   "cell_type": "code",
   "execution_count": 18,
   "id": "1427ce14-77c6-47fc-98e5-e48c58770b5f",
   "metadata": {},
   "outputs": [
    {
     "data": {
      "text/plain": [
       "144"
      ]
     },
     "execution_count": 18,
     "metadata": {},
     "output_type": "execute_result"
    }
   ],
   "source": [
    "def normalFunc(x):\n",
    "    # squaring the number \n",
    "    return x**2 \n",
    "normalFunc(12)"
   ]
  },
  {
   "cell_type": "code",
   "execution_count": 19,
   "id": "0ccb8671-f3d9-422f-97fe-4b093746c6af",
   "metadata": {},
   "outputs": [
    {
     "data": {
      "text/plain": [
       "function"
      ]
     },
     "execution_count": 19,
     "metadata": {},
     "output_type": "execute_result"
    }
   ],
   "source": [
    "type(normalFunc)"
   ]
  },
  {
   "cell_type": "code",
   "execution_count": 20,
   "id": "0f125e24-65c4-4023-8fdf-7a81ab29805c",
   "metadata": {},
   "outputs": [
    {
     "data": {
      "text/plain": [
       "<function __main__.<lambda>(x)>"
      ]
     },
     "execution_count": 20,
     "metadata": {},
     "output_type": "execute_result"
    }
   ],
   "source": [
    "lambda x: x**2"
   ]
  },
  {
   "cell_type": "code",
   "execution_count": 21,
   "id": "70d2a7ec-3c45-41ba-af3f-a1d66b59bbc6",
   "metadata": {},
   "outputs": [],
   "source": [
    "a = lambda x: x**2"
   ]
  },
  {
   "cell_type": "code",
   "execution_count": 22,
   "id": "96dcfd7f-6f7e-4874-95b3-c5ddcf44edb4",
   "metadata": {},
   "outputs": [
    {
     "data": {
      "text/plain": [
       "function"
      ]
     },
     "execution_count": 22,
     "metadata": {},
     "output_type": "execute_result"
    }
   ],
   "source": [
    "type(a)"
   ]
  },
  {
   "cell_type": "code",
   "execution_count": 23,
   "id": "dc7026dc-0188-4abd-bde4-a958c5b56785",
   "metadata": {},
   "outputs": [
    {
     "name": "stdout",
     "output_type": "stream",
     "text": [
      "<class 'function'>\n"
     ]
    }
   ],
   "source": [
    "print(type(a))"
   ]
  },
  {
   "cell_type": "code",
   "execution_count": 24,
   "id": "b8316708-010c-4dce-84ef-dc183044ba5b",
   "metadata": {},
   "outputs": [
    {
     "data": {
      "text/plain": [
       "144"
      ]
     },
     "execution_count": 24,
     "metadata": {},
     "output_type": "execute_result"
    }
   ],
   "source": [
    "a(12)"
   ]
  },
  {
   "cell_type": "code",
   "execution_count": 25,
   "id": "14508f14-d6f4-4e65-8a2c-7f83d95a04fb",
   "metadata": {},
   "outputs": [
    {
     "name": "stdout",
     "output_type": "stream",
     "text": [
      "144\n",
      "<class 'int'>\n",
      "<function <lambda> at 0x000002AE0FA05440>\n",
      "<class 'function'>\n"
     ]
    }
   ],
   "source": [
    "a = normalFunc(12)\n",
    "print(a)\n",
    "print(type(a))\n",
    "b = lambda x: x**2 \n",
    "print(b)\n",
    "print(type(b))"
   ]
  },
  {
   "cell_type": "code",
   "execution_count": 26,
   "id": "d9b478ae-b4cd-4cc2-943c-6746f6654671",
   "metadata": {},
   "outputs": [
    {
     "name": "stdout",
     "output_type": "stream",
     "text": [
      "<function normalFunc at 0x000002AE0F9D3D80>\n",
      "<class 'function'>\n"
     ]
    }
   ],
   "source": [
    "a = normalFunc \n",
    "print(a)\n",
    "print(type(a))"
   ]
  },
  {
   "cell_type": "code",
   "execution_count": 27,
   "id": "e3ef2ff8-f17b-4c91-b253-f06aebc9d001",
   "metadata": {},
   "outputs": [],
   "source": [
    "# lambda functions can take any number of arguments \n",
    "summing = lambda a,b: a+b\n",
    "sub = lambda a,b: a-b\n",
    "four_arg_func = lambda a,b,c,d: a+b-c*d"
   ]
  },
  {
   "cell_type": "code",
   "execution_count": 28,
   "id": "a15189df-f2c6-4883-b861-91ed0d8cb243",
   "metadata": {},
   "outputs": [
    {
     "data": {
      "text/plain": [
       "30"
      ]
     },
     "execution_count": 28,
     "metadata": {},
     "output_type": "execute_result"
    }
   ],
   "source": [
    "summing(10,20)"
   ]
  },
  {
   "cell_type": "code",
   "execution_count": 29,
   "id": "4bf55521-f6f3-4f5e-8148-eae88367e07e",
   "metadata": {},
   "outputs": [
    {
     "data": {
      "text/plain": [
       "-63"
      ]
     },
     "execution_count": 29,
     "metadata": {},
     "output_type": "execute_result"
    }
   ],
   "source": [
    "four_arg_func(12,5,8,10)"
   ]
  },
  {
   "cell_type": "code",
   "execution_count": 30,
   "id": "381f9776-6566-488a-8ae4-2c87e48489cd",
   "metadata": {},
   "outputs": [],
   "source": [
    "def add10(x):\n",
    "    return x+10 \n",
    "def sum(a):\n",
    "    return add10(a)"
   ]
  },
  {
   "cell_type": "code",
   "execution_count": 31,
   "id": "71725fcd-f484-4330-b6d7-4424364563d8",
   "metadata": {},
   "outputs": [
    {
     "data": {
      "text/plain": [
       "20"
      ]
     },
     "execution_count": 31,
     "metadata": {},
     "output_type": "execute_result"
    }
   ],
   "source": [
    "sum(10)"
   ]
  },
  {
   "cell_type": "code",
   "execution_count": 32,
   "id": "3939f03e-41cd-4567-a482-e71afa9a0d4d",
   "metadata": {},
   "outputs": [
    {
     "name": "stdout",
     "output_type": "stream",
     "text": [
      "10\n",
      "None\n",
      "<class 'NoneType'>\n"
     ]
    }
   ],
   "source": [
    "def f():\n",
    "    print(x)\n",
    "x = 10 \n",
    "\n",
    "a = f()\n",
    "print(a)\n",
    "print(type(a))"
   ]
  },
  {
   "cell_type": "code",
   "execution_count": 33,
   "id": "b28f201a-8c39-4f36-a18e-5b1f9a016313",
   "metadata": {},
   "outputs": [
    {
     "data": {
      "text/plain": [
       "function"
      ]
     },
     "execution_count": 33,
     "metadata": {},
     "output_type": "execute_result"
    }
   ],
   "source": [
    "f2 = lambda : x\n",
    "type(f2)"
   ]
  },
  {
   "cell_type": "code",
   "execution_count": 34,
   "id": "8f81370f-230f-4049-b950-2f83234c1472",
   "metadata": {},
   "outputs": [
    {
     "name": "stdout",
     "output_type": "stream",
     "text": [
      "10\n",
      "<class 'int'>\n"
     ]
    }
   ],
   "source": [
    "b = f2()\n",
    "print(b)\n",
    "print(type(b))"
   ]
  },
  {
   "cell_type": "code",
   "execution_count": 35,
   "id": "1a0f5094-36e2-42ae-ac39-c9ea68c32bb4",
   "metadata": {},
   "outputs": [
    {
     "data": {
      "text/plain": [
       "function"
      ]
     },
     "execution_count": 35,
     "metadata": {},
     "output_type": "execute_result"
    }
   ],
   "source": [
    "f3 = lambda : print(x)\n",
    "type(f3)"
   ]
  },
  {
   "cell_type": "code",
   "execution_count": 36,
   "id": "02e6da06-659d-4852-8aa4-048061cce864",
   "metadata": {},
   "outputs": [
    {
     "name": "stdout",
     "output_type": "stream",
     "text": [
      "10\n",
      "None\n",
      "<class 'NoneType'>\n"
     ]
    }
   ],
   "source": [
    "c = f3()\n",
    "print(c)\n",
    "print(type(c))"
   ]
  },
  {
   "cell_type": "code",
   "execution_count": 37,
   "id": "dd7361f2-3d29-4855-850e-265e47140fef",
   "metadata": {},
   "outputs": [],
   "source": [
    "lf1 = lambda : 10\n",
    "lf2 = lambda : print(10)"
   ]
  },
  {
   "cell_type": "code",
   "execution_count": 38,
   "id": "cc7e56ce-d3c6-4fd4-8ff4-52b44afb9f78",
   "metadata": {},
   "outputs": [
    {
     "name": "stdout",
     "output_type": "stream",
     "text": [
      "<class 'function'>\n",
      "<class 'function'>\n"
     ]
    }
   ],
   "source": [
    "def f1(): # lf1\n",
    "    return 10 \n",
    "def f2(): # lf2 \n",
    "    print(10)\n",
    "    \n",
    "print(type(lf1))\n",
    "print(type(lf2))"
   ]
  },
  {
   "cell_type": "code",
   "execution_count": 39,
   "id": "b773374f-cdc3-4063-8600-566fc4091b99",
   "metadata": {},
   "outputs": [
    {
     "name": "stdout",
     "output_type": "stream",
     "text": [
      "10\n",
      "<class 'int'>\n"
     ]
    }
   ],
   "source": [
    "a = lf1()\n",
    "print(a)\n",
    "print(type(a))"
   ]
  },
  {
   "cell_type": "code",
   "execution_count": 40,
   "id": "4b6d7c21-9c5e-4060-8d58-c2dbb6c841b8",
   "metadata": {},
   "outputs": [
    {
     "name": "stdout",
     "output_type": "stream",
     "text": [
      "10\n",
      "None\n",
      "<class 'NoneType'>\n"
     ]
    }
   ],
   "source": [
    "b = lf2()\n",
    "print(b)\n",
    "print(type(b))"
   ]
  },
  {
   "cell_type": "code",
   "execution_count": 41,
   "id": "ed7fb5a1-848f-40e0-b2ac-f1fdbdefdc89",
   "metadata": {},
   "outputs": [
    {
     "data": {
      "text/plain": [
       "60"
      ]
     },
     "execution_count": 41,
     "metadata": {},
     "output_type": "execute_result"
    }
   ],
   "source": [
    "def myFunc(n):\n",
    "    return lambda a: a*n\n",
    "myLambda1 = myFunc(2) \n",
    "myLambda2 = myFunc(3)\n",
    "myLambda2(20)"
   ]
  },
  {
   "cell_type": "code",
   "execution_count": 42,
   "id": "f0f6ac50-1b0f-4195-877d-a6bc1c353622",
   "metadata": {},
   "outputs": [
    {
     "data": {
      "text/plain": [
       "(<function __main__.myFunc.<locals>.<lambda>(a)>,\n",
       " <function __main__.myFunc.<locals>.<lambda>(a)>)"
      ]
     },
     "execution_count": 42,
     "metadata": {},
     "output_type": "execute_result"
    }
   ],
   "source": [
    "myLambda1, myLambda2"
   ]
  },
  {
   "cell_type": "code",
   "execution_count": 43,
   "id": "4e64fa14-957f-4b95-afe2-7b75db0fd6d7",
   "metadata": {},
   "outputs": [
    {
     "data": {
      "text/plain": [
       "[12, 20, 30, 12, 20, 30, 12, 20, 30]"
      ]
     },
     "execution_count": 43,
     "metadata": {},
     "output_type": "execute_result"
    }
   ],
   "source": [
    "myLambda2 = myFunc(3)\n",
    "myLambda2([12,20,30])"
   ]
  },
  {
   "cell_type": "code",
   "execution_count": 44,
   "id": "6b93664d-fa0b-4238-8227-89e832f0366f",
   "metadata": {},
   "outputs": [
    {
     "data": {
      "text/plain": [
       "function"
      ]
     },
     "execution_count": 44,
     "metadata": {},
     "output_type": "execute_result"
    }
   ],
   "source": [
    "type(myLambda1)"
   ]
  },
  {
   "cell_type": "code",
   "execution_count": 45,
   "id": "27198943-10d0-487c-a6ea-ea98c4690ce4",
   "metadata": {},
   "outputs": [
    {
     "data": {
      "text/plain": [
       "40"
      ]
     },
     "execution_count": 45,
     "metadata": {},
     "output_type": "execute_result"
    }
   ],
   "source": [
    "myLambda1(20)"
   ]
  },
  {
   "cell_type": "code",
   "execution_count": 46,
   "id": "2ca2d5fa-a9b4-449f-b636-48c9359d53ef",
   "metadata": {},
   "outputs": [
    {
     "data": {
      "text/plain": [
       "function"
      ]
     },
     "execution_count": 46,
     "metadata": {},
     "output_type": "execute_result"
    }
   ],
   "source": [
    "a = lambda x: lambda y: x+y\n",
    "type(a)"
   ]
  },
  {
   "cell_type": "code",
   "execution_count": 47,
   "id": "4fa4a909-e8bd-4862-9aad-1c1e8be39a6e",
   "metadata": {},
   "outputs": [
    {
     "data": {
      "text/plain": [
       "<function __main__.<lambda>.<locals>.<lambda>(y)>"
      ]
     },
     "execution_count": 47,
     "metadata": {},
     "output_type": "execute_result"
    }
   ],
   "source": [
    "a(10)"
   ]
  },
  {
   "cell_type": "code",
   "execution_count": 48,
   "id": "4f63cb87-aeb9-494e-af5b-ef959402d467",
   "metadata": {},
   "outputs": [
    {
     "data": {
      "text/plain": [
       "15"
      ]
     },
     "execution_count": 48,
     "metadata": {},
     "output_type": "execute_result"
    }
   ],
   "source": [
    "output = a(10)\n",
    "output(5)"
   ]
  },
  {
   "cell_type": "code",
   "execution_count": 49,
   "id": "0c90c3e5-c425-469a-8e57-287acc5eaeb7",
   "metadata": {},
   "outputs": [
    {
     "data": {
      "text/plain": [
       "15"
      ]
     },
     "execution_count": 49,
     "metadata": {},
     "output_type": "execute_result"
    }
   ],
   "source": [
    "a(10)(5)"
   ]
  },
  {
   "cell_type": "code",
   "execution_count": 50,
   "id": "50d603a4-6c48-42dd-bcd4-b828b9529269",
   "metadata": {},
   "outputs": [
    {
     "name": "stdout",
     "output_type": "stream",
     "text": [
      "<filter object at 0x000002AE0FA1E2F0>\n"
     ]
    }
   ],
   "source": [
    "scores = [50, 45, 10, 76, 100, 12, 5]\n",
    " # create a list which takes the score greater than 40 \n",
    "def func(x):\n",
    "  if x>40:\n",
    "    return True\n",
    "  else:\n",
    "    return False \n",
    "filtered_list = filter(func, scores)\n",
    "print(filtered_list)"
   ]
  },
  {
   "cell_type": "code",
   "execution_count": 51,
   "id": "0b7775c1-76f0-45d8-a705-d40ca4f9a11d",
   "metadata": {},
   "outputs": [
    {
     "name": "stdout",
     "output_type": "stream",
     "text": [
      "50\n",
      "45\n",
      "76\n",
      "100\n"
     ]
    }
   ],
   "source": [
    "for value in filtered_list:\n",
    "    print(value)"
   ]
  },
  {
   "cell_type": "code",
   "execution_count": 52,
   "id": "ab038bb7-484f-43e7-bdd1-4544beec1c03",
   "metadata": {},
   "outputs": [
    {
     "name": "stdout",
     "output_type": "stream",
     "text": [
      "[50, 45, 76, 100]\n"
     ]
    }
   ],
   "source": [
    "filtered_list = list(filter(func, scores))\n",
    "print(filtered_list)"
   ]
  },
  {
   "cell_type": "code",
   "execution_count": 53,
   "id": "9273a89f-7cc0-4f2f-b9ea-3bd5d0b704bf",
   "metadata": {},
   "outputs": [
    {
     "name": "stdout",
     "output_type": "stream",
     "text": [
      "[12, 42, 124, 2]\n",
      "[3, 75, 29, 71, 1, 47, 10001]\n"
     ]
    }
   ],
   "source": [
    "numbers = [12,42,3,75,124,29,71,1,2,47,10001]\n",
    "evenNumbers = list(filter(lambda x: x%2==0, numbers))\n",
    "oddNumbers = list(filter(lambda x: x%2==1, numbers))\n",
    "print(evenNumbers)\n",
    "print(oddNumbers)"
   ]
  },
  {
   "cell_type": "code",
   "execution_count": 54,
   "id": "672de445-e9fa-4e30-93f0-2e4fa064f6d3",
   "metadata": {},
   "outputs": [
    {
     "name": "stdout",
     "output_type": "stream",
     "text": [
      "[7, 17, 29, 199]\n"
     ]
    }
   ],
   "source": [
    "def isPrime(n):\n",
    "  if n<=1:\n",
    "    return False \n",
    "  for i in range(2,n):\n",
    "    if n%i == 0:\n",
    "      return False\n",
    "  return True \n",
    "numbers = [7,17,29,144,142,2001,199,176, 187]\n",
    "primeNumbers = list(filter(isPrime, numbers))\n",
    "print(primeNumbers)"
   ]
  },
  {
   "cell_type": "code",
   "execution_count": 55,
   "id": "b646f384-753b-48b7-b6c8-e739a1c31d71",
   "metadata": {},
   "outputs": [
    {
     "name": "stdout",
     "output_type": "stream",
     "text": [
      "[]\n"
     ]
    }
   ],
   "source": [
    "def myFun(a):\n",
    "  if a>18:\n",
    "    return False\n",
    "numbers = [1,2,9,12,18,20,25,40,50]\n",
    "filtered_numbers = list(filter(myFun, numbers))\n",
    "print(filtered_numbers)"
   ]
  },
  {
   "cell_type": "code",
   "execution_count": 56,
   "id": "2b88e5ef-bd8a-4027-b99a-69f6272dabc3",
   "metadata": {},
   "outputs": [
    {
     "name": "stdout",
     "output_type": "stream",
     "text": [
      "None\n"
     ]
    }
   ],
   "source": [
    "a = myFun(2)\n",
    "print(a)"
   ]
  },
  {
   "cell_type": "code",
   "execution_count": 57,
   "id": "7b983bd5-5d0b-4785-9b39-e5d2caa1028e",
   "metadata": {},
   "outputs": [
    {
     "data": {
      "text/plain": [
       "False"
      ]
     },
     "execution_count": 57,
     "metadata": {},
     "output_type": "execute_result"
    }
   ],
   "source": [
    "bool(None)"
   ]
  },
  {
   "cell_type": "code",
   "execution_count": 58,
   "id": "f4842f0e-a5fd-42a5-a510-2973f25160c8",
   "metadata": {},
   "outputs": [
    {
     "name": "stdout",
     "output_type": "stream",
     "text": [
      "[1, 2, 9, 12, 18]\n"
     ]
    }
   ],
   "source": [
    " def myFun(a):\n",
    "  if a>18:\n",
    "    return False\n",
    "  else:\n",
    "    return a+12\n",
    "numbers = [1,2,9,12,18,20,25,40,50]\n",
    "filtered_numbers = list(filter(myFun, numbers))\n",
    "print(filtered_numbers)"
   ]
  },
  {
   "cell_type": "code",
   "execution_count": 59,
   "id": "9ff4205d-f167-4779-949b-e361dc450976",
   "metadata": {},
   "outputs": [
    {
     "name": "stdout",
     "output_type": "stream",
     "text": [
      "[1, 2, 9, 18]\n"
     ]
    }
   ],
   "source": [
    "def myFun(a):\n",
    "  if a>18:\n",
    "    return False\n",
    "  else:\n",
    "    return a-12\n",
    "numbers = [1,2,9,12,18,20,25,40,50]\n",
    "filtered_numbers = list(filter(myFun, numbers))\n",
    "print(filtered_numbers)"
   ]
  },
  {
   "cell_type": "code",
   "execution_count": 60,
   "id": "928798f6-9f13-46f7-9dc4-cec0cf57f3db",
   "metadata": {},
   "outputs": [
    {
     "data": {
      "text/plain": [
       "True"
      ]
     },
     "execution_count": 60,
     "metadata": {},
     "output_type": "execute_result"
    }
   ],
   "source": [
    "bool(-2)"
   ]
  },
  {
   "cell_type": "code",
   "execution_count": 61,
   "id": "ebc1ac91-8ac5-42e9-8f9c-1bf89a5a6a77",
   "metadata": {},
   "outputs": [
    {
     "name": "stdout",
     "output_type": "stream",
     "text": [
      "[None, None, None, None, None, False, False, False, False]\n"
     ]
    }
   ],
   "source": [
    "def myFun(a):\n",
    "  if a>18:\n",
    "    return False\n",
    "      \n",
    "numbers = [1,2,9,12,18,20,25,40,50]\n",
    "map_numbers = list(map(myFun, numbers))\n",
    "print(map_numbers)"
   ]
  },
  {
   "cell_type": "code",
   "execution_count": 62,
   "id": "e31f511c-1ab9-4488-b8b6-cd0ae70caa8e",
   "metadata": {},
   "outputs": [
    {
     "name": "stdout",
     "output_type": "stream",
     "text": [
      "<map object at 0x000002AE0FA1E920>\n"
     ]
    }
   ],
   "source": [
    "scores = [55, 75, 45, 38, 58, 67, 81, 92]\n",
    "map_scores = map(lambda x: x+7, scores)\n",
    "print(map_scores)"
   ]
  },
  {
   "cell_type": "code",
   "execution_count": 63,
   "id": "16135662-ef77-4561-baa2-4fdd44d36390",
   "metadata": {},
   "outputs": [
    {
     "name": "stdout",
     "output_type": "stream",
     "text": [
      "62\n",
      "82\n",
      "52\n",
      "45\n",
      "65\n",
      "74\n",
      "88\n",
      "99\n"
     ]
    }
   ],
   "source": [
    "for value in map_scores:\n",
    "  print(value)"
   ]
  },
  {
   "cell_type": "code",
   "execution_count": 64,
   "id": "58a7c3c4-8d11-4d5a-8225-2fc097532b86",
   "metadata": {},
   "outputs": [
    {
     "name": "stdout",
     "output_type": "stream",
     "text": [
      "[62, 82, 52, 45, 65, 74, 88, 99]\n"
     ]
    }
   ],
   "source": [
    "scores = [55, 75, 45, 38, 58, 67, 81, 92]\n",
    "map_scores = list(map(lambda x: x+7, scores))\n",
    "print(map_scores)"
   ]
  },
  {
   "cell_type": "code",
   "execution_count": 65,
   "id": "76251b2c-0f50-4c66-8a78-f1180d13b1a3",
   "metadata": {},
   "outputs": [
    {
     "name": "stdout",
     "output_type": "stream",
     "text": [
      "[55, 82, 45, 38, 58, 67, 88, 99]\n"
     ]
    }
   ],
   "source": [
    "scores = [55, 75, 45, 38, 58, 67, 81, 92]\n",
    "# add 7 if score is >70 else leave as it is \n",
    "map_scores = list(map(lambda x: x+7 if x>70 else x, scores))\n",
    "print(map_scores)"
   ]
  },
  {
   "cell_type": "code",
   "execution_count": null,
   "id": "2890a398-8b84-41da-81d8-518c97d06b1b",
   "metadata": {},
   "outputs": [],
   "source": []
  }
 ],
 "metadata": {
  "kernelspec": {
   "display_name": "Python 3 (ipykernel)",
   "language": "python",
   "name": "python3"
  },
  "language_info": {
   "codemirror_mode": {
    "name": "ipython",
    "version": 3
   },
   "file_extension": ".py",
   "mimetype": "text/x-python",
   "name": "python",
   "nbconvert_exporter": "python",
   "pygments_lexer": "ipython3",
   "version": "3.11.7"
  }
 },
 "nbformat": 4,
 "nbformat_minor": 5
}
