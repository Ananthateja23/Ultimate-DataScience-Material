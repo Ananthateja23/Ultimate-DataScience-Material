{
 "cells": [
  {
   "cell_type": "markdown",
   "id": "2fd7a330-b39d-41f9-8d99-c4faa7a5231f",
   "metadata": {},
   "source": [
    "### ***Errors:***\n",
    "#### Basically errors of two types:\n",
    "#### 1. syntax errors:\n",
    "#### - missing paranthesis, wrong indentation etc. we can easily fix these error by fixing the syntax\n",
    "#### 2. Exceptions:\n",
    "#### - even if your code seems to be syntatically correct but it may sometimes it result in a error.\n",
    "#### - The errors that we encounter during the execution or runtime of the program are called Exceptions\n"
   ]
  },
  {
   "cell_type": "code",
   "execution_count": 1,
   "id": "69d72fe3-cd6b-4d06-9eab-3cc1a41bde8d",
   "metadata": {},
   "outputs": [
    {
     "ename": "ZeroDivisionError",
     "evalue": "division by zero",
     "output_type": "error",
     "traceback": [
      "\u001b[1;31m---------------------------------------------------------------------------\u001b[0m",
      "\u001b[1;31mZeroDivisionError\u001b[0m                         Traceback (most recent call last)",
      "Cell \u001b[1;32mIn[1], line 4\u001b[0m\n\u001b[0;32m      2\u001b[0m numerator   \u001b[38;5;241m=\u001b[39m \u001b[38;5;241m10\u001b[39m\n\u001b[0;32m      3\u001b[0m denominator \u001b[38;5;241m=\u001b[39m \u001b[38;5;241m0\u001b[39m\n\u001b[1;32m----> 4\u001b[0m \u001b[38;5;28mprint\u001b[39m(numerator\u001b[38;5;241m/\u001b[39mdenominator)\n",
      "\u001b[1;31mZeroDivisionError\u001b[0m: division by zero"
     ]
    }
   ],
   "source": [
    "# example of exception\n",
    "numerator   = 10\n",
    "denominator = 0\n",
    "print(numerator/denominator)"
   ]
  },
  {
   "cell_type": "markdown",
   "id": "8b40c70f-e4c5-49ca-82a9-c9432f40dd0d",
   "metadata": {},
   "source": [
    "### ***Some more information of exceptions***\n",
    "#### - The above example of exception throws zero division error exception\n",
    "#### - Depending upon the error, exceptions can be of different types\n",
    "#### - If we try to access the file that doesn't exist, we will get FileNotFoundError exception\n",
    "#### - If we try to access the element of a list out of range, we will get IndexError exception\n",
    "#### - we know when our program encounters an exception our code ends abruptly with an error message\n",
    "#### - Most of the time rather than showing the default message, we may want to show a custom message that's more helpful or run different set of code"
   ]
  },
  {
   "cell_type": "markdown",
   "id": "7e2ab2ee-6675-4bca-99f4-442399773a68",
   "metadata": {},
   "source": [
    "----"
   ]
  },
  {
   "cell_type": "markdown",
   "id": "9b652519-a563-4b48-a6e8-18a720ccae21",
   "metadata": {},
   "source": [
    "### ***ExceptionHandling***\n",
    "#### - It is the process of responding to exception in a custom way during the excecution of a program\n",
    "#### - In python, we use try and except block to handle exceptions"
   ]
  },
  {
   "cell_type": "markdown",
   "id": "ef286c89-bf59-4df3-84e2-bce171c6e5ac",
   "metadata": {},
   "source": [
    "### ***syntax:***\n",
    "```python\n",
    "try:\n",
    "    # code that may cause exception\n",
    "except:\n",
    "    # code to run when exception occurs\n",
    "else:\n",
    "    # code to run when exception doesn't occur\n",
    "finally:\n",
    "    # code to execute regardless of whether an exception occur or not\n",
    "```"
   ]
  },
  {
   "cell_type": "code",
   "execution_count": 7,
   "id": "bda6ba02-11ae-4579-905c-b23c398b408d",
   "metadata": {},
   "outputs": [
    {
     "name": "stdin",
     "output_type": "stream",
     "text": [
      "Enter the numerator: 10\n",
      "Enter the denominator: 5\n"
     ]
    },
    {
     "name": "stdout",
     "output_type": "stream",
     "text": [
      "2.0\n",
      "program ends\n"
     ]
    }
   ],
   "source": [
    "try:\n",
    "\tnumerator = int(input(\"Enter the numerator:\"))\n",
    "\tdenominator = int(input(\"Enter the denominator:\"))\n",
    "\tresult = numerator/denominator\n",
    "\tprint(result)\n",
    "except:\n",
    "\tprint(\"Denominator cannot be zero. please try again\")\n",
    "print(\"program ends\")"
   ]
  },
  {
   "cell_type": "markdown",
   "id": "1d013e80-64d7-42bf-8197-3a0ddb2d7a5a",
   "metadata": {},
   "source": [
    "### ***try:***\n",
    "#### - Inside the try block, We write the code that might throw an exception\n",
    "#### - Now, If an exception occurs the control of the program jumps immediately to except block and the program continues\n",
    "#### - If exception don't occured, the except block is completely skipped\n",
    "### ***try block usage:***\n",
    "#### - when you are connect to or open  external resources like file open, database connection, Bluetooth connection\n",
    "#### - when we are dealing with external resources always write inside try-except blocktion"
   ]
  },
  {
   "cell_type": "markdown",
   "id": "fff396b5-94ab-46ac-a1b2-4eb554bd01bb",
   "metadata": {},
   "source": [
    "### ***except***\n",
    "#### - except block is executed whenever an exception is thrown\n",
    "#### - It is also possible to handle different types of exceptions in different ways\n",
    "#### - we may want to print different error messages for zero division error and index error exceptions\n",
    "#### - we can do that by specifying the type of exception after except keyword\n",
    "#### - Handling specific type of exceptions in this way particularly useful if our try block may raise more than one type of exception"
   ]
  },
  {
   "cell_type": "code",
   "execution_count": 11,
   "id": "84438dd8-3961-4d1a-acdf-890b33638469",
   "metadata": {},
   "outputs": [
    {
     "name": "stdin",
     "output_type": "stream",
     "text": [
      "Enter the numerator: 5\n",
      "Enter the denominator: 0\n"
     ]
    },
    {
     "name": "stdout",
     "output_type": "stream",
     "text": [
      "Denominator cannot be zero. please try again\n",
      "program ends\n"
     ]
    }
   ],
   "source": [
    "try:\n",
    "\tnumerator = int(input(\"Enter the numerator:\"))\n",
    "\tdenominator = int(input(\"Enter the denominator:\"))\n",
    "\tresult = numerator/denominator\n",
    "\tprint(result)\n",
    "\n",
    "\tmy_list = [1, 2, 3]\n",
    "\ti = int(input(\"Enter index: \"))\n",
    "\tprint(my_list[i])\n",
    "except ZeroDivisionError:\n",
    "\tprint(\"Denominator cannot be zero. please try again\")\n",
    "except IndexError:\n",
    "\tprint(\"Index cannot be greater than size of list\")\n",
    "\n",
    "print(\"program ends\")"
   ]
  },
  {
   "cell_type": "code",
   "execution_count": 12,
   "id": "7b6e7d71-69e6-4e93-8d56-33b4d7a05218",
   "metadata": {},
   "outputs": [
    {
     "name": "stdin",
     "output_type": "stream",
     "text": [
      "Enter the numerator: 10\n",
      "Enter the denominator: 5\n"
     ]
    },
    {
     "name": "stdout",
     "output_type": "stream",
     "text": [
      "2.0\n"
     ]
    },
    {
     "name": "stdin",
     "output_type": "stream",
     "text": [
      "Enter index:  100\n"
     ]
    },
    {
     "name": "stdout",
     "output_type": "stream",
     "text": [
      "Index cannot be greater than size of list\n",
      "program ends\n"
     ]
    }
   ],
   "source": [
    "try:\n",
    "\tnumerator = int(input(\"Enter the numerator:\"))\n",
    "\tdenominator = int(input(\"Enter the denominator:\"))\n",
    "\tresult = numerator/denominator\n",
    "\tprint(result)\n",
    "\n",
    "\tmy_list = [1, 2, 3]\n",
    "\ti = int(input(\"Enter index: \"))\n",
    "\tprint(my_list[i])\n",
    "except ZeroDivisionError:\n",
    "\tprint(\"Denominator cannot be zero. please try again\")\n",
    "except IndexError:\n",
    "\tprint(\"Index cannot be greater than size of list\")\n",
    "\n",
    "print(\"program ends\")"
   ]
  },
  {
   "cell_type": "markdown",
   "id": "d8952eed-8889-4529-ace5-180149ac41da",
   "metadata": {},
   "source": [
    "### ***finally***\n",
    "#### - a try statement can also have an optional finally block which is executed regardless of whether an execption occurs or not\n",
    "#### - however, If an exception doesn't occur in the try block, except block is not executed. But finally block is still executed\n",
    "#### - The finally block is usually used to perform cleanup actions that need to be executed under all circumstances\n",
    "#### - suppose we are working with external file in our program. We need to close the file at the end even if there was error while writing to it\n",
    "#### - In this case, We put the close file function inside the finally block"
   ]
  },
  {
   "cell_type": "markdown",
   "id": "194c65c1-6e9d-493a-b417-96ad0a435488",
   "metadata": {},
   "source": [
    "### ***finally block usage:***\n",
    "#### - close database connection\n",
    "#### - close the file connection\n",
    "#### - close the Bluetooth connection\n",
    "#### - close the socket connection"
   ]
  },
  {
   "cell_type": "code",
   "execution_count": 13,
   "id": "7dfe1865-6a2e-4615-bba0-0129696bc9bf",
   "metadata": {},
   "outputs": [
    {
     "name": "stdout",
     "output_type": "stream",
     "text": [
      "Wrong denominator\n",
      "Always printed\n"
     ]
    }
   ],
   "source": [
    "try:\n",
    "\tprint(1/0)\n",
    "except:\n",
    "\tprint(\"Wrong denominator\")\n",
    "finally:\n",
    "\tprint(\"Always printed\")"
   ]
  },
  {
   "cell_type": "markdown",
   "id": "db909f55-5dab-4055-ab05-0a5f4d57a7c5",
   "metadata": {},
   "source": [
    "### ***difference between \"except\" and \"except Exception\"***\n",
    "\n",
    "#### - except: Catches any exception, including system-level ones like KeyboardInterrupt or SystemExit. It's a broad catch-all.\n",
    "#### Example:\n",
    "```python\n",
    "try:\n",
    "    print(1 / 0)\n",
    "except:\n",
    "    print(\"An error occurred.\")  # Catches all exceptions.\n",
    "```\n",
    "#### - except Exception: Specifically catches exceptions derived from the Exception class, excluding system-level exceptions. \n",
    "#### Example:\n",
    "```python\n",
    "try:\n",
    "    print(1 / 0)\n",
    "except Exception:\n",
    "    print(\"Handled an exception.\")  # Catches only standard exceptions.\n",
    "```\n",
    "#### Using except Exception is safer as it avoids unintentionally handling critical system exceptions, making debugging easier."
   ]
  },
  {
   "cell_type": "markdown",
   "id": "1dc98af4-3be5-4771-ac83-9b286e17d839",
   "metadata": {},
   "source": [
    "----"
   ]
  },
  {
   "cell_type": "markdown",
   "id": "b8bbff0a-acef-4f6b-bfe8-771349bffd02",
   "metadata": {},
   "source": [
    "### ***raise Exception***\n",
    "#### - In python programming, exceptions are raised when error occur at the run time\n",
    "#### - we can also manually raise an exception using raise keyword at any point of the program"
   ]
  },
  {
   "cell_type": "code",
   "execution_count": 6,
   "id": "9fe190f6-642f-44ac-b30c-6fb13fc1a6db",
   "metadata": {},
   "outputs": [
    {
     "ename": "FileNotFoundError",
     "evalue": "This is file not found error",
     "output_type": "error",
     "traceback": [
      "\u001b[1;31m---------------------------------------------------------------------------\u001b[0m",
      "\u001b[1;31mFileNotFoundError\u001b[0m                         Traceback (most recent call last)",
      "Cell \u001b[1;32mIn[6], line 1\u001b[0m\n\u001b[1;32m----> 1\u001b[0m \u001b[38;5;28;01mraise\u001b[39;00m \u001b[38;5;167;01mFileNotFoundError\u001b[39;00m(\u001b[38;5;124m\"\u001b[39m\u001b[38;5;124mThis is file not found error\u001b[39m\u001b[38;5;124m\"\u001b[39m)\n",
      "\u001b[1;31mFileNotFoundError\u001b[0m: This is file not found error"
     ]
    }
   ],
   "source": [
    "raise FileNotFoundError(\"This is file not found error\")"
   ]
  },
  {
   "cell_type": "code",
   "execution_count": 7,
   "id": "589c988d-cf6d-4bd1-9e72-79c85951593f",
   "metadata": {},
   "outputs": [
    {
     "ename": "Exception",
     "evalue": "This is exception error",
     "output_type": "error",
     "traceback": [
      "\u001b[1;31m---------------------------------------------------------------------------\u001b[0m",
      "\u001b[1;31mException\u001b[0m                                 Traceback (most recent call last)",
      "Cell \u001b[1;32mIn[7], line 1\u001b[0m\n\u001b[1;32m----> 1\u001b[0m \u001b[38;5;28;01mraise\u001b[39;00m \u001b[38;5;167;01mException\u001b[39;00m(\u001b[38;5;124m\"\u001b[39m\u001b[38;5;124mThis is exception error\u001b[39m\u001b[38;5;124m\"\u001b[39m)\n",
      "\u001b[1;31mException\u001b[0m: This is exception error"
     ]
    }
   ],
   "source": [
    "raise Exception(\"This is exception error\")"
   ]
  },
  {
   "cell_type": "code",
   "execution_count": 5,
   "id": "b6949add-a536-43ee-8ef2-8c028b96dc9b",
   "metadata": {},
   "outputs": [
    {
     "ename": "NameError",
     "evalue": "name 'SampleException' is not defined",
     "output_type": "error",
     "traceback": [
      "\u001b[1;31m---------------------------------------------------------------------------\u001b[0m",
      "\u001b[1;31mNameError\u001b[0m                                 Traceback (most recent call last)",
      "Cell \u001b[1;32mIn[5], line 1\u001b[0m\n\u001b[1;32m----> 1\u001b[0m \u001b[38;5;28;01mraise\u001b[39;00m SampleException(\u001b[38;5;124m\"\u001b[39m\u001b[38;5;124mThis is sample exception\u001b[39m\u001b[38;5;124m\"\u001b[39m)\n",
      "\u001b[1;31mNameError\u001b[0m: name 'SampleException' is not defined"
     ]
    }
   ],
   "source": [
    "raise SampleException(\"This is sample exception\")"
   ]
  },
  {
   "cell_type": "code",
   "execution_count": 4,
   "id": "6fb3bccf-5964-4714-8563-07b21ebbe199",
   "metadata": {},
   "outputs": [
    {
     "ename": "NameError",
     "evalue": "name 'NewException' is not defined",
     "output_type": "error",
     "traceback": [
      "\u001b[1;31m---------------------------------------------------------------------------\u001b[0m",
      "\u001b[1;31mNameError\u001b[0m                                 Traceback (most recent call last)",
      "Cell \u001b[1;32mIn[4], line 1\u001b[0m\n\u001b[1;32m----> 1\u001b[0m \u001b[38;5;28;01mraise\u001b[39;00m NewException(\u001b[38;5;124m\"\u001b[39m\u001b[38;5;124mThis is new exception\u001b[39m\u001b[38;5;124m\"\u001b[39m)\n",
      "\u001b[1;31mNameError\u001b[0m: name 'NewException' is not defined"
     ]
    }
   ],
   "source": [
    "raise NewException(\"This is new exception\")"
   ]
  },
  {
   "cell_type": "markdown",
   "id": "b1d47d12-d262-49f3-a2ef-5c9ded98a384",
   "metadata": {},
   "source": [
    "### ***Note***\n",
    "#### - we can only provide child classes of exception class.\n",
    "#### - exception class hierarchy in python"
   ]
  },
  {
   "cell_type": "code",
   "execution_count": 8,
   "id": "985e1973-3751-4da0-9080-646915106ab5",
   "metadata": {},
   "outputs": [
    {
     "name": "stdout",
     "output_type": "stream",
     "text": [
      "Amount cannot be negative\n"
     ]
    }
   ],
   "source": [
    "class Bank:\n",
    "    def __init__(self, balance):\n",
    "        self.balance = balance\n",
    "    def withdraw(self, amount):\n",
    "        if amount < 0:\n",
    "            raise Exception(\"Amount cannot be negative\")\n",
    "        if self.balance < amount:\n",
    "            raise Exception(\"Amount is insufficient\")\n",
    "        self.balance = self.balance-amount\n",
    "\n",
    "obj = Bank(10000)\n",
    "try:\n",
    "    obj.withdraw(-500)\n",
    "except Exception as e:\n",
    "    print(e)\n",
    "else:\n",
    "    print(obj.balance)"
   ]
  },
  {
   "cell_type": "code",
   "execution_count": 9,
   "id": "e460f586-14ff-4db5-892a-afae8a7884ee",
   "metadata": {},
   "outputs": [
    {
     "name": "stdout",
     "output_type": "stream",
     "text": [
      "Amount is insufficient\n"
     ]
    }
   ],
   "source": [
    "class Bank:\n",
    "    def __init__(self, balance):\n",
    "        self.balance = balance\n",
    "    def withdraw(self, amount):\n",
    "        if amount < 0:\n",
    "            raise Exception(\"Amount cannot be negative\")\n",
    "        if self.balance < amount:\n",
    "            raise Exception(\"Amount is insufficient\")\n",
    "        self.balance = self.balance-amount\n",
    "\n",
    "obj = Bank(10000)\n",
    "try:\n",
    "    obj.withdraw(15000)\n",
    "except Exception as e:\n",
    "    print(e)\n",
    "else:\n",
    "    print(obj.balance)"
   ]
  },
  {
   "cell_type": "code",
   "execution_count": 10,
   "id": "af97b71e-f5fe-4ade-8965-3f165ec33105",
   "metadata": {},
   "outputs": [
    {
     "name": "stdout",
     "output_type": "stream",
     "text": [
      "8500\n"
     ]
    }
   ],
   "source": [
    "class Bank:\n",
    "    def __init__(self, balance):\n",
    "        self.balance = balance\n",
    "    def withdraw(self, amount):\n",
    "        if amount < 0:\n",
    "            raise Exception(\"Amount cannot be negative\")\n",
    "        if self.balance < amount:\n",
    "            raise Exception(\"Amount is insufficient\")\n",
    "        self.balance = self.balance-amount\n",
    "\n",
    "obj = Bank(10000)\n",
    "try:\n",
    "    obj.withdraw(1500)\n",
    "except Exception as e:\n",
    "    print(e)\n",
    "else:\n",
    "    print(obj.balance)"
   ]
  },
  {
   "cell_type": "markdown",
   "id": "f34a4338-46fb-4185-875b-7590dcb6d024",
   "metadata": {},
   "source": [
    "### ***Custom Exception***\n",
    "#### - It handles application based errors \n",
    "#### -  we create custom exception class depends on our application logic we need to do something(perform functionality) apart from printing a message\n"
   ]
  },
  {
   "cell_type": "code",
   "execution_count": 1,
   "id": "4ce10505-e516-44c8-8e29-8ce580a05264",
   "metadata": {},
   "outputs": [
    {
     "name": "stdout",
     "output_type": "stream",
     "text": [
      "8500\n"
     ]
    }
   ],
   "source": [
    "class MyException(Exception):\n",
    "    def __init__(self, message):\n",
    "        print(message)\n",
    "class Bank:\n",
    "    def __init__(self, balance):\n",
    "        self.balance = balance\n",
    "    def withdraw(self, amount):\n",
    "        if amount < 0:\n",
    "            raise MyException(\"Amount cannot be negative\")\n",
    "        if self.balance < amount:\n",
    "            raise MyException(\"Amount is insufficient\")\n",
    "        self.balance = self.balance-amount\n",
    "\n",
    "obj = Bank(10000)\n",
    "try:\n",
    "    obj.withdraw(1500)\n",
    "except MyException as e:\n",
    "    pass\n",
    "else:\n",
    "    print(obj.balance)"
   ]
  },
  {
   "cell_type": "markdown",
   "id": "faae483c-dbf1-4c61-8b10-35a83477a297",
   "metadata": {},
   "source": [
    "### ***Multiple ways of calling `__str__(self)`***"
   ]
  },
  {
   "cell_type": "code",
   "execution_count": 2,
   "id": "6e6cf64e-852a-4f8f-baae-ec7d85a639c5",
   "metadata": {},
   "outputs": [
    {
     "name": "stdout",
     "output_type": "stream",
     "text": [
      "Amount cannot be negative\n"
     ]
    }
   ],
   "source": [
    "class MyException(Exception):\n",
    "    def __init__(self, message):\n",
    "        self.message = message\n",
    "    def __str__(self):\n",
    "        return self.message\n",
    "class Bank:\n",
    "    def __init__(self, balance):\n",
    "        self.balance = balance\n",
    "    def withdraw(self, amount):\n",
    "        if amount < 0:\n",
    "            raise MyException(\"Amount cannot be negative\")\n",
    "        if self.balance < amount:\n",
    "            raise MyException(\"Amount is insufficient\")\n",
    "        self.balance = self.balance-amount\n",
    "\n",
    "obj = Bank(10000)\n",
    "try:\n",
    "    obj.withdraw(-1500)\n",
    "except MyException as e:\n",
    "    print(e)\n",
    "else:\n",
    "    print(obj.balance)"
   ]
  },
  {
   "cell_type": "code",
   "execution_count": 3,
   "id": "6c88bab5-351a-4e87-a4dd-d843c339ed99",
   "metadata": {},
   "outputs": [
    {
     "name": "stdout",
     "output_type": "stream",
     "text": [
      "Amount cannot be negative\n"
     ]
    }
   ],
   "source": [
    "class MyException(Exception):\n",
    "    def __init__(self, message):\n",
    "        self.message = message\n",
    "    def __str__(self):\n",
    "        return self.message\n",
    "class Bank:\n",
    "    def __init__(self, balance):\n",
    "        self.balance = balance\n",
    "    def withdraw(self, amount):\n",
    "        if amount < 0:\n",
    "            raise MyException(\"Amount cannot be negative\")\n",
    "        if self.balance < amount:\n",
    "            raise MyException(\"Amount is insufficient\")\n",
    "        self.balance = self.balance-amount\n",
    "\n",
    "obj = Bank(10000)\n",
    "try:\n",
    "    obj.withdraw(-1500)\n",
    "except MyException as e:\n",
    "    print(e.__str__())\n",
    "else:\n",
    "    print(obj.balance)"
   ]
  },
  {
   "cell_type": "code",
   "execution_count": 4,
   "id": "e3b06a61-54ed-4072-96b2-776f8d6408eb",
   "metadata": {},
   "outputs": [
    {
     "name": "stdout",
     "output_type": "stream",
     "text": [
      "Amount cannot be negative\n"
     ]
    }
   ],
   "source": [
    "class MyException(Exception):\n",
    "    def __init__(self, message):\n",
    "        self.message = message\n",
    "    def __str__(self):\n",
    "        return self.message\n",
    "class Bank:\n",
    "    def __init__(self, balance):\n",
    "        self.balance = balance\n",
    "    def withdraw(self, amount):\n",
    "        if amount < 0:\n",
    "            raise MyException(\"Amount cannot be negative\")\n",
    "        if self.balance < amount:\n",
    "            raise MyException(\"Amount is insufficient\")\n",
    "        self.balance = self.balance-amount\n",
    "\n",
    "obj = Bank(10000)\n",
    "try:\n",
    "    obj.withdraw(-1500)\n",
    "except MyException as e:\n",
    "    print(str(e))\n",
    "else:\n",
    "    print(obj.balance)"
   ]
  },
  {
   "cell_type": "code",
   "execution_count": 23,
   "id": "fb220f3f-10e0-47da-b3fe-9bc7211464b7",
   "metadata": {},
   "outputs": [
    {
     "name": "stdout",
     "output_type": "stream",
     "text": [
      "Welcome\n",
      "abc\n",
      "database connection closed\n"
     ]
    }
   ],
   "source": [
    "class SecurityError(Exception):\n",
    "    def __init__(self, message):\n",
    "        self.message = message\n",
    "    def __str__(self):\n",
    "        return self.message\n",
    "    def logout(self):\n",
    "        print(\"logout\")\n",
    "class Google:\n",
    "    def __init__(self, name, email, password, device):\n",
    "        self.name = name\n",
    "        self.email = email\n",
    "        self.password = password\n",
    "        self.device = device\n",
    "    def login(self, email, password, device):\n",
    "        if device != self.device:\n",
    "            raise SecurityError(\"Please validate your login\")\n",
    "        if (email == self.email) and (password == self.password):\n",
    "            print(\"Welcome\")\n",
    "        else:\n",
    "            print(\"login error\")\n",
    "\n",
    "obj = Google(\"abc\", \"abc@gmail.com\", \"1234\", \"android\")\n",
    "try:\n",
    "    obj.login(\"abc@gmail.com\", \"1234\", \"android\")\n",
    "except SecurityError as e:\n",
    "    e.logout()\n",
    "else:\n",
    "    print(obj.name)\n",
    "finally:\n",
    "    print(\"database connection closed\")"
   ]
  },
  {
   "cell_type": "code",
   "execution_count": 25,
   "id": "92420b41-43f4-4415-9e4d-586a46289118",
   "metadata": {},
   "outputs": [
    {
     "name": "stdout",
     "output_type": "stream",
     "text": [
      "logout\n",
      "database connection closed\n"
     ]
    }
   ],
   "source": [
    "class SecurityError(Exception):\n",
    "    def __init__(self, message):\n",
    "        self.message = message\n",
    "    def __str__(self):\n",
    "        return self.message\n",
    "    def logout(self):\n",
    "        print(\"logout\")\n",
    "class Google:\n",
    "    def __init__(self, name, email, password, device):\n",
    "        self.name = name\n",
    "        self.email = email\n",
    "        self.password = password\n",
    "        self.device = device\n",
    "    def login(self, email, password, device):\n",
    "        if device != self.device:\n",
    "            raise SecurityError(\"Please validate your login\")\n",
    "        if (email == self.email) and (password == self.password):\n",
    "            print(\"Welcome\")\n",
    "        else:\n",
    "            print(\"login error\")\n",
    "\n",
    "obj = Google(\"abc\", \"abc@gmail.com\", \"1234\", \"android\")\n",
    "try:\n",
    "    obj.login(\"abc@gmail.com\", \"1234\", \"windows\")\n",
    "except SecurityError as e:\n",
    "    e.logout()\n",
    "else:\n",
    "    print(obj.name)\n",
    "finally:\n",
    "    print(\"database connection closed\")"
   ]
  },
  {
   "cell_type": "code",
   "execution_count": null,
   "id": "642a8d56-0a5f-40f2-b031-f6c4c1f85355",
   "metadata": {},
   "outputs": [],
   "source": []
  }
 ],
 "metadata": {
  "kernelspec": {
   "display_name": "Python 3 (ipykernel)",
   "language": "python",
   "name": "python3"
  },
  "language_info": {
   "codemirror_mode": {
    "name": "ipython",
    "version": 3
   },
   "file_extension": ".py",
   "mimetype": "text/x-python",
   "name": "python",
   "nbconvert_exporter": "python",
   "pygments_lexer": "ipython3",
   "version": "3.11.7"
  }
 },
 "nbformat": 4,
 "nbformat_minor": 5
}
