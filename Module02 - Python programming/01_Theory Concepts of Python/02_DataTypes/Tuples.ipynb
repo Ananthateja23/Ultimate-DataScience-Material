{
 "cells": [
  {
   "cell_type": "markdown",
   "id": "0c32b1de-0d1e-4290-88e6-c83bf5b5f9bb",
   "metadata": {},
   "source": [
    "### ***Tuples***\n",
    "\n",
    "#### 1. Initialize tuple\n",
    "#### 2. Tuple with single item\n",
    "#### 3. Packing and unpacking tuples\n",
    "#### 4. Accessing a Tuple & slicing a tuple\n",
    "#### 5. Update a tuple\n",
    "#### 6. del"
   ]
  },
  {
   "cell_type": "markdown",
   "id": "ef90dce5-3508-4b86-af2e-dbbbba472ccb",
   "metadata": {},
   "source": [
    "### ***Initialize a tuple***"
   ]
  },
  {
   "cell_type": "code",
   "execution_count": 1,
   "id": "01093a66-5e19-421d-aaef-1231e71c0f4d",
   "metadata": {},
   "outputs": [
    {
     "name": "stdout",
     "output_type": "stream",
     "text": [
      "()\n",
      "<class 'tuple'>\n"
     ]
    }
   ],
   "source": [
    "t = ()\n",
    "print(t)\n",
    "print(type(t))"
   ]
  },
  {
   "cell_type": "code",
   "execution_count": 2,
   "id": "2e38262b-bf64-43e6-b4f0-95738b0ac69a",
   "metadata": {},
   "outputs": [
    {
     "name": "stdout",
     "output_type": "stream",
     "text": [
      "()\n",
      "<class 'tuple'>\n"
     ]
    }
   ],
   "source": [
    "t = tuple()\n",
    "print(t)\n",
    "print(type(t))"
   ]
  },
  {
   "cell_type": "code",
   "execution_count": 3,
   "id": "a271ea81-ad5c-47f3-9933-a285c76f2736",
   "metadata": {},
   "outputs": [
    {
     "name": "stdout",
     "output_type": "stream",
     "text": [
      "()\n",
      "<class 'tuple'>\n"
     ]
    }
   ],
   "source": [
    "t = tuple([])\n",
    "print(t)\n",
    "print(type(t))"
   ]
  },
  {
   "cell_type": "code",
   "execution_count": 4,
   "id": "d858c8f5-5792-43a8-b95f-27a639b11d1d",
   "metadata": {},
   "outputs": [
    {
     "name": "stdout",
     "output_type": "stream",
     "text": [
      "()\n",
      "<class 'tuple'>\n"
     ]
    }
   ],
   "source": [
    "t = tuple(())\n",
    "print(t)\n",
    "print(type(t))"
   ]
  },
  {
   "cell_type": "code",
   "execution_count": 5,
   "id": "e195e46c-aa48-445a-847f-9572a7952955",
   "metadata": {},
   "outputs": [
    {
     "name": "stdout",
     "output_type": "stream",
     "text": [
      "()\n",
      "<class 'tuple'>\n"
     ]
    }
   ],
   "source": [
    "t = tuple(\"\")\n",
    "print(t)\n",
    "print(type(t))"
   ]
  },
  {
   "cell_type": "code",
   "execution_count": 6,
   "id": "ed86d1db-f02c-4256-82a3-57abc3d823a5",
   "metadata": {},
   "outputs": [
    {
     "name": "stdout",
     "output_type": "stream",
     "text": [
      "(' ',)\n",
      "<class 'tuple'>\n"
     ]
    }
   ],
   "source": [
    "t = tuple(\" \")\n",
    "print(t)\n",
    "print(type(t))"
   ]
  },
  {
   "cell_type": "markdown",
   "id": "0e0a8420-f49c-49fb-94ac-eeb851794ecd",
   "metadata": {},
   "source": [
    "### ***Tuple with single item***"
   ]
  },
  {
   "cell_type": "code",
   "execution_count": 7,
   "id": "4226d56e-7931-48eb-8dc9-2e38cc749c09",
   "metadata": {},
   "outputs": [
    {
     "name": "stdout",
     "output_type": "stream",
     "text": [
      "1\n",
      "<class 'int'>\n",
      "1\n",
      "<class 'int'>\n",
      "(1,)\n",
      "<class 'tuple'>\n",
      "(1,)\n",
      "<class 'tuple'>\n"
     ]
    }
   ],
   "source": [
    "t1= (1)\n",
    "t2 = 1\n",
    "t3 = 1, \n",
    "t4 = (1,)\n",
    "print(t1)\n",
    "print(type(t1))\n",
    "print(t2)\n",
    "print(type(t2))\n",
    "print(t3)\n",
    "print(type(t3))\n",
    "print(t4)\n",
    "print(type(t4))"
   ]
  },
  {
   "cell_type": "code",
   "execution_count": 8,
   "id": "a3bd1d76-fc2f-4338-950f-3bdbce9e9ea4",
   "metadata": {},
   "outputs": [
    {
     "name": "stdout",
     "output_type": "stream",
     "text": [
      "('a', 'b', 'c')\n",
      "('a', 'b', 'c')\n",
      "<class 'tuple'>\n",
      "<class 'tuple'>\n"
     ]
    }
   ],
   "source": [
    "t1 = \"a\",\"b\",\"c\"\n",
    "t2 = (\"a\",\"b\",\"c\")\n",
    "print(t1)\n",
    "print(t2)\n",
    "print(type(t1))\n",
    "print(type(t2))"
   ]
  },
  {
   "cell_type": "markdown",
   "id": "8412ef64-76ee-4382-8d68-cbb17f6295db",
   "metadata": {},
   "source": [
    "### ***Packing***\n",
    "#### - Combining multiple values into single tuple\n",
    "### ***Unpacking***\n",
    "#### - Extracting multiple values from tuple and assigning to multiple variables"
   ]
  },
  {
   "cell_type": "code",
   "execution_count": 9,
   "id": "539a23f3-fe12-4d15-9e71-7ab1778ff802",
   "metadata": {},
   "outputs": [
    {
     "name": "stdout",
     "output_type": "stream",
     "text": [
      "a\n",
      "b\n",
      "c\n"
     ]
    }
   ],
   "source": [
    "i,j,k = (\"a\",\"b\",\"c\")\n",
    "print(i)\n",
    "print(j)\n",
    "print(k)"
   ]
  },
  {
   "cell_type": "code",
   "execution_count": 10,
   "id": "bd03df75-a3eb-46cc-be56-dd3f3aeb50be",
   "metadata": {},
   "outputs": [
    {
     "ename": "ValueError",
     "evalue": "too many values to unpack (expected 2)",
     "output_type": "error",
     "traceback": [
      "\u001b[1;31m---------------------------------------------------------------------------\u001b[0m",
      "\u001b[1;31mValueError\u001b[0m                                Traceback (most recent call last)",
      "Cell \u001b[1;32mIn[10], line 1\u001b[0m\n\u001b[1;32m----> 1\u001b[0m a,b \u001b[38;5;241m=\u001b[39m (\u001b[38;5;241m1\u001b[39m,\u001b[38;5;241m2\u001b[39m,\u001b[38;5;241m3\u001b[39m,\u001b[38;5;241m4\u001b[39m,\u001b[38;5;241m5\u001b[39m,\u001b[38;5;241m6\u001b[39m,\u001b[38;5;241m7\u001b[39m)\n\u001b[0;32m      2\u001b[0m \u001b[38;5;28mprint\u001b[39m(a)\n\u001b[0;32m      3\u001b[0m \u001b[38;5;28mprint\u001b[39m(b)\n",
      "\u001b[1;31mValueError\u001b[0m: too many values to unpack (expected 2)"
     ]
    }
   ],
   "source": [
    "a,b = (1,2,3,4,5,6,7)\n",
    "print(a)\n",
    "print(b)"
   ]
  },
  {
   "cell_type": "code",
   "execution_count": 11,
   "id": "33970fb7-4d95-414a-b72f-e153191d8f54",
   "metadata": {},
   "outputs": [
    {
     "name": "stdout",
     "output_type": "stream",
     "text": [
      "1\n",
      "[2, 3, 4, 5, 6, 7]\n",
      "<class 'int'>\n",
      "<class 'list'>\n"
     ]
    }
   ],
   "source": [
    "a, *b = (1,2,3,4,5,6,7)\n",
    "print(a)\n",
    "print(b)\n",
    "print(type(a))\n",
    "print(type(b))"
   ]
  },
  {
   "cell_type": "code",
   "execution_count": 12,
   "id": "eb5f2e36-891e-482f-a07e-d14ff62448f0",
   "metadata": {},
   "outputs": [
    {
     "name": "stdout",
     "output_type": "stream",
     "text": [
      "1\n",
      "[2, 3, 4, 5]\n",
      "6\n",
      "7\n",
      "<class 'int'>\n",
      "<class 'list'>\n",
      "<class 'int'>\n",
      "<class 'int'>\n"
     ]
    }
   ],
   "source": [
    "a, *b, c, d = (1,2,3,4,5,6,7)\n",
    "print(a)\n",
    "print(b)\n",
    "print(c)\n",
    "print(d)\n",
    "print(type(a))\n",
    "print(type(b))\n",
    "print(type(c))\n",
    "print(type(d))"
   ]
  },
  {
   "cell_type": "code",
   "execution_count": 13,
   "id": "d34e8eb5-acea-4439-a8d4-ed641d6dc667",
   "metadata": {},
   "outputs": [
    {
     "ename": "SyntaxError",
     "evalue": "multiple starred expressions in assignment (1344957428.py, line 1)",
     "output_type": "error",
     "traceback": [
      "\u001b[1;36m  Cell \u001b[1;32mIn[13], line 1\u001b[1;36m\u001b[0m\n\u001b[1;33m    a, *b, c, *d = (1,2,3,4,5,6,7)\u001b[0m\n\u001b[1;37m    ^\u001b[0m\n\u001b[1;31mSyntaxError\u001b[0m\u001b[1;31m:\u001b[0m multiple starred expressions in assignment\n"
     ]
    }
   ],
   "source": [
    "a, *b, c, *d = (1,2,3,4,5,6,7)\n",
    "print(b)\n",
    "print(d)"
   ]
  },
  {
   "cell_type": "code",
   "execution_count": 14,
   "id": "8536b7d6-a353-4817-81f8-910c96147edf",
   "metadata": {},
   "outputs": [
    {
     "name": "stdout",
     "output_type": "stream",
     "text": [
      "1\n",
      "[2]\n",
      "1\n",
      "2\n",
      "<class 'int'>\n",
      "<class 'list'>\n",
      "<class 'int'>\n",
      "<class 'int'>\n"
     ]
    }
   ],
   "source": [
    "a, *b = (1,2)\n",
    "c,d = (1,2)\n",
    "print(a)\n",
    "print(b)\n",
    "print(c)\n",
    "print(d)\n",
    "print(type(a))\n",
    "print(type(b))\n",
    "print(type(c))\n",
    "print(type(d))"
   ]
  },
  {
   "cell_type": "code",
   "execution_count": 15,
   "id": "ee614d65-77ad-4676-b6a9-9e604ee0b4a3",
   "metadata": {},
   "outputs": [
    {
     "ename": "ValueError",
     "evalue": "not enough values to unpack (expected 4, got 2)",
     "output_type": "error",
     "traceback": [
      "\u001b[1;31m---------------------------------------------------------------------------\u001b[0m",
      "\u001b[1;31mValueError\u001b[0m                                Traceback (most recent call last)",
      "Cell \u001b[1;32mIn[15], line 1\u001b[0m\n\u001b[1;32m----> 1\u001b[0m a,b,c,d \u001b[38;5;241m=\u001b[39m (\u001b[38;5;241m1\u001b[39m,\u001b[38;5;241m2\u001b[39m)\n\u001b[0;32m      2\u001b[0m \u001b[38;5;28mprint\u001b[39m(a)\n\u001b[0;32m      3\u001b[0m \u001b[38;5;28mprint\u001b[39m(b)\n",
      "\u001b[1;31mValueError\u001b[0m: not enough values to unpack (expected 4, got 2)"
     ]
    }
   ],
   "source": [
    "a,b,c,d = (1,2)\n",
    "print(a)\n",
    "print(b)\n",
    "print(c)\n",
    "print(d)"
   ]
  },
  {
   "cell_type": "code",
   "execution_count": 16,
   "id": "91735cb7-f7c8-4fd6-8abf-570f305917fb",
   "metadata": {},
   "outputs": [
    {
     "ename": "ValueError",
     "evalue": "too many values to unpack (expected 2)",
     "output_type": "error",
     "traceback": [
      "\u001b[1;31m---------------------------------------------------------------------------\u001b[0m",
      "\u001b[1;31mValueError\u001b[0m                                Traceback (most recent call last)",
      "Cell \u001b[1;32mIn[16], line 1\u001b[0m\n\u001b[1;32m----> 1\u001b[0m a,b \u001b[38;5;241m=\u001b[39m [\u001b[38;5;241m1\u001b[39m,\u001b[38;5;241m2\u001b[39m,\u001b[38;5;241m3\u001b[39m]\n",
      "\u001b[1;31mValueError\u001b[0m: too many values to unpack (expected 2)"
     ]
    }
   ],
   "source": [
    "a,b = [1,2,3]"
   ]
  },
  {
   "cell_type": "code",
   "execution_count": 17,
   "id": "8210c5b2-4d2c-414d-b317-505d3a8daecc",
   "metadata": {},
   "outputs": [
    {
     "name": "stdout",
     "output_type": "stream",
     "text": [
      "1\n",
      "[2, 3]\n",
      "<class 'int'>\n",
      "<class 'list'>\n"
     ]
    }
   ],
   "source": [
    "a, *b = [1,2,3]\n",
    "print(a)\n",
    "print(b)\n",
    "print(type(a))\n",
    "print(type(b))"
   ]
  },
  {
   "cell_type": "markdown",
   "id": "e0b18bc3-5744-482a-be95-61594182139e",
   "metadata": {},
   "source": [
    "### ***Accessing tuples***"
   ]
  },
  {
   "cell_type": "code",
   "execution_count": 18,
   "id": "a63d2be2-2c5d-4bdb-933b-d24b5669c23a",
   "metadata": {},
   "outputs": [
    {
     "name": "stdout",
     "output_type": "stream",
     "text": [
      "('p', 'y', 't', 'h', 'o', 'n')\n",
      "<class 'tuple'>\n"
     ]
    }
   ],
   "source": [
    "t = tuple(\"python\")\n",
    "print(t)\n",
    "print(type(t))"
   ]
  },
  {
   "cell_type": "code",
   "execution_count": 19,
   "id": "592f1846-5c9d-4522-8871-a53958dbd907",
   "metadata": {},
   "outputs": [
    {
     "name": "stdout",
     "output_type": "stream",
     "text": [
      "p\n",
      "n\n",
      "n\n"
     ]
    }
   ],
   "source": [
    "print(t[0])\n",
    "print(t[-1])\n",
    "print(t[5])"
   ]
  },
  {
   "cell_type": "markdown",
   "id": "45d88449-9d8d-4d8d-ad23-d0096e31619e",
   "metadata": {},
   "source": [
    "### ***slicing a tuple***"
   ]
  },
  {
   "cell_type": "code",
   "execution_count": 20,
   "id": "5dcf2172-69e2-4b1a-b35d-a60362dbd1a9",
   "metadata": {},
   "outputs": [
    {
     "name": "stdout",
     "output_type": "stream",
     "text": [
      "('y', 't', 'h')\n",
      "('y', 't', 'h', 'o', 'n')\n"
     ]
    }
   ],
   "source": [
    "print(t[1:4])\n",
    "print(t[1:])"
   ]
  },
  {
   "cell_type": "markdown",
   "id": "f7201e84-9c3f-4f89-b85f-14e135d4c9ff",
   "metadata": {},
   "source": [
    "### ***Updating a tuple***"
   ]
  },
  {
   "cell_type": "code",
   "execution_count": 21,
   "id": "cad54537-cdd0-4fdf-a23d-15f0223a4328",
   "metadata": {},
   "outputs": [
    {
     "ename": "TypeError",
     "evalue": "'tuple' object does not support item assignment",
     "output_type": "error",
     "traceback": [
      "\u001b[1;31m---------------------------------------------------------------------------\u001b[0m",
      "\u001b[1;31mTypeError\u001b[0m                                 Traceback (most recent call last)",
      "Cell \u001b[1;32mIn[21], line 2\u001b[0m\n\u001b[0;32m      1\u001b[0m t \u001b[38;5;241m=\u001b[39m (\u001b[38;5;124m\"\u001b[39m\u001b[38;5;124mpython\u001b[39m\u001b[38;5;124m\"\u001b[39m, \u001b[38;5;124m\"\u001b[39m\u001b[38;5;124mc\u001b[39m\u001b[38;5;124m\"\u001b[39m, \u001b[38;5;124m\"\u001b[39m\u001b[38;5;124mc++\u001b[39m\u001b[38;5;124m\"\u001b[39m)\n\u001b[1;32m----> 2\u001b[0m t[\u001b[38;5;241m1\u001b[39m] \u001b[38;5;241m=\u001b[39m \u001b[38;5;124m\"\u001b[39m\u001b[38;5;124mJava\u001b[39m\u001b[38;5;124m\"\u001b[39m\n",
      "\u001b[1;31mTypeError\u001b[0m: 'tuple' object does not support item assignment"
     ]
    }
   ],
   "source": [
    "t = (\"python\", \"c\", \"c++\")\n",
    "t[1] = \"Java\""
   ]
  },
  {
   "cell_type": "code",
   "execution_count": 22,
   "id": "dae75527-9473-4618-b4ca-bae71990b6a6",
   "metadata": {},
   "outputs": [
    {
     "name": "stdout",
     "output_type": "stream",
     "text": [
      "['python', 'c', 'c++']\n"
     ]
    }
   ],
   "source": [
    "temp = list(t)\n",
    "print(temp)"
   ]
  },
  {
   "cell_type": "code",
   "execution_count": 23,
   "id": "9a392d11-8ad8-4059-b2cd-613dc31f177f",
   "metadata": {},
   "outputs": [
    {
     "name": "stdout",
     "output_type": "stream",
     "text": [
      "['python', 'Java', 'c++']\n"
     ]
    }
   ],
   "source": [
    "temp[1] = \"Java\"\n",
    "print(temp)"
   ]
  },
  {
   "cell_type": "code",
   "execution_count": 24,
   "id": "9015d196-a35b-4244-97f1-e1ca637fdd3f",
   "metadata": {},
   "outputs": [
    {
     "name": "stdout",
     "output_type": "stream",
     "text": [
      "('python', 'Java', 'c++')\n"
     ]
    }
   ],
   "source": [
    "t = tuple(temp)\n",
    "print(t)"
   ]
  },
  {
   "cell_type": "markdown",
   "id": "f485c041-7b95-4830-84a6-4f2790ccc404",
   "metadata": {},
   "source": [
    "### ***del***\n",
    "#### - It can delete a tuple object but it cannot delete an element of tuple"
   ]
  },
  {
   "cell_type": "code",
   "execution_count": 25,
   "id": "fb126f13-999a-4256-9b16-72837cf97e20",
   "metadata": {},
   "outputs": [
    {
     "name": "stdout",
     "output_type": "stream",
     "text": [
      "[1, 4, 5]\n"
     ]
    }
   ],
   "source": [
    "l = [1,2,3,4,5]\n",
    "del l[1:3]\n",
    "print(l)"
   ]
  },
  {
   "cell_type": "code",
   "execution_count": 28,
   "id": "55ef44fc-44e3-4c64-86e3-cc91475e609e",
   "metadata": {},
   "outputs": [
    {
     "ename": "TypeError",
     "evalue": "'tuple' object does not support item deletion",
     "output_type": "error",
     "traceback": [
      "\u001b[1;31m---------------------------------------------------------------------------\u001b[0m",
      "\u001b[1;31mTypeError\u001b[0m                                 Traceback (most recent call last)",
      "Cell \u001b[1;32mIn[28], line 2\u001b[0m\n\u001b[0;32m      1\u001b[0m t \u001b[38;5;241m=\u001b[39m (\u001b[38;5;241m1\u001b[39m,\u001b[38;5;241m2\u001b[39m,\u001b[38;5;241m3\u001b[39m,\u001b[38;5;241m4\u001b[39m,\u001b[38;5;241m5\u001b[39m)\n\u001b[1;32m----> 2\u001b[0m \u001b[38;5;28;01mdel\u001b[39;00m t[\u001b[38;5;241m1\u001b[39m:\u001b[38;5;241m3\u001b[39m]\n\u001b[0;32m      3\u001b[0m \u001b[38;5;28mprint\u001b[39m(t)\n",
      "\u001b[1;31mTypeError\u001b[0m: 'tuple' object does not support item deletion"
     ]
    }
   ],
   "source": [
    "t = (1,2,3,4,5)\n",
    "del t[1:3]\n",
    "print(t)"
   ]
  },
  {
   "cell_type": "code",
   "execution_count": 29,
   "id": "cb706905-71f8-4749-bd83-6316679bcd83",
   "metadata": {},
   "outputs": [
    {
     "ename": "NameError",
     "evalue": "name 't' is not defined",
     "output_type": "error",
     "traceback": [
      "\u001b[1;31m---------------------------------------------------------------------------\u001b[0m",
      "\u001b[1;31mNameError\u001b[0m                                 Traceback (most recent call last)",
      "Cell \u001b[1;32mIn[29], line 3\u001b[0m\n\u001b[0;32m      1\u001b[0m t \u001b[38;5;241m=\u001b[39m (\u001b[38;5;241m1\u001b[39m,\u001b[38;5;241m2\u001b[39m,\u001b[38;5;241m3\u001b[39m,\u001b[38;5;241m4\u001b[39m,\u001b[38;5;241m5\u001b[39m)\n\u001b[0;32m      2\u001b[0m \u001b[38;5;28;01mdel\u001b[39;00m t\n\u001b[1;32m----> 3\u001b[0m \u001b[38;5;28mprint\u001b[39m(t)\n",
      "\u001b[1;31mNameError\u001b[0m: name 't' is not defined"
     ]
    }
   ],
   "source": [
    "t = (1,2,3,4,5)\n",
    "del t\n",
    "print(t)"
   ]
  },
  {
   "cell_type": "markdown",
   "id": "2e5df53c-61d1-4e9a-ad0e-dfa53dd895c2",
   "metadata": {},
   "source": [
    "### ***sort***\n",
    "#### syntax: sort(reverse=False)\n",
    "#### - It arranges the items of list in ascending order. It performs inplace sorting \n",
    "#### - we can also arrange it in descending order by providing `reverse=True` as argument to sort function"
   ]
  },
  {
   "cell_type": "code",
   "execution_count": 1,
   "id": "f26d5555-c268-4036-af85-f201d4ee666f",
   "metadata": {},
   "outputs": [
    {
     "name": "stdout",
     "output_type": "stream",
     "text": [
      "[1, 10, 5, 8, 9, 12, 11]\n",
      "1698154143040\n",
      "[1, 5, 8, 9, 10, 11, 12]\n",
      "1698154143040\n"
     ]
    }
   ],
   "source": [
    "l = [1,10,5,8,9,12,11]\n",
    "print(l)\n",
    "print(id(l))\n",
    "l.sort() # inplace sorting \n",
    "print(l)\n",
    "print(id(l))"
   ]
  },
  {
   "cell_type": "code",
   "execution_count": 34,
   "id": "c91700c0-a242-4202-aba8-66796ba7f644",
   "metadata": {},
   "outputs": [
    {
     "name": "stdout",
     "output_type": "stream",
     "text": [
      "[1, 10, 5, 8, 9, 12, 11]\n",
      "2711444364928\n",
      "[12, 11, 10, 9, 8, 5, 1]\n",
      "2711444364928\n"
     ]
    }
   ],
   "source": [
    "l = [1,10,5,8,9,12,11]\n",
    "print(l)\n",
    "print(id(l))\n",
    "l.sort(reverse=True) # inplace sorting \n",
    "print(l)\n",
    "print(id(l))"
   ]
  },
  {
   "cell_type": "code",
   "execution_count": 35,
   "id": "60ce52b5-c8ec-4058-a3b2-8188ef2e1412",
   "metadata": {},
   "outputs": [
    {
     "name": "stdout",
     "output_type": "stream",
     "text": [
      "['a', 'b', 'd', 'f', 'z']\n"
     ]
    }
   ],
   "source": [
    "l = ['a','b','d','z','f']\n",
    "l.sort()\n",
    "print(l)"
   ]
  },
  {
   "cell_type": "code",
   "execution_count": 45,
   "id": "1a4809d8-daae-4e1a-8851-77523c52f261",
   "metadata": {},
   "outputs": [
    {
     "data": {
      "text/plain": [
       "102"
      ]
     },
     "execution_count": 45,
     "metadata": {},
     "output_type": "execute_result"
    }
   ],
   "source": [
    "ord('f')"
   ]
  },
  {
   "cell_type": "code",
   "execution_count": 46,
   "id": "58e8fe81-188c-4135-9864-35e279403788",
   "metadata": {},
   "outputs": [
    {
     "data": {
      "text/plain": [
       "122"
      ]
     },
     "execution_count": 46,
     "metadata": {},
     "output_type": "execute_result"
    }
   ],
   "source": [
    "ord('z')"
   ]
  },
  {
   "cell_type": "code",
   "execution_count": 36,
   "id": "b209f5da-8012-4f58-b58c-69b606933ae5",
   "metadata": {},
   "outputs": [
    {
     "name": "stdout",
     "output_type": "stream",
     "text": [
      "['aac', 'abc', 'aca', 'bca', 'cab']\n"
     ]
    }
   ],
   "source": [
    "l = ['abc', 'aac', 'aca', 'cab','bca']\n",
    "l.sort()\n",
    "print(l)"
   ]
  },
  {
   "cell_type": "code",
   "execution_count": 37,
   "id": "9ee24d03-d863-4076-85ec-88e68adbad44",
   "metadata": {},
   "outputs": [
    {
     "name": "stdout",
     "output_type": "stream",
     "text": [
      "['10', '9', 'aac', 'abc', 'aca', 'bca', 'cab']\n"
     ]
    }
   ],
   "source": [
    "l = ['abc', 'aac', 'aca', 'cab','bca', \"9\", \"10\"]\n",
    "l.sort()\n",
    "print(l)"
   ]
  },
  {
   "cell_type": "code",
   "execution_count": 38,
   "id": "91107de0-dc67-448b-bceb-d429f8d3834f",
   "metadata": {},
   "outputs": [
    {
     "data": {
      "text/plain": [
       "49"
      ]
     },
     "execution_count": 38,
     "metadata": {},
     "output_type": "execute_result"
    }
   ],
   "source": [
    "ord(\"1\")"
   ]
  },
  {
   "cell_type": "code",
   "execution_count": 39,
   "id": "f79ffee0-b9d0-4d69-abc9-10374e4a02ae",
   "metadata": {},
   "outputs": [
    {
     "data": {
      "text/plain": [
       "57"
      ]
     },
     "execution_count": 39,
     "metadata": {},
     "output_type": "execute_result"
    }
   ],
   "source": [
    "ord(\"9\")"
   ]
  },
  {
   "cell_type": "code",
   "execution_count": 40,
   "id": "64204b10-35e1-4719-9183-795385366f94",
   "metadata": {},
   "outputs": [
    {
     "name": "stdout",
     "output_type": "stream",
     "text": [
      "['8948279632687268', '9']\n"
     ]
    }
   ],
   "source": [
    "l = [\"8948279632687268\", \"9\"]\n",
    "l.sort()\n",
    "print(l)"
   ]
  },
  {
   "cell_type": "code",
   "execution_count": 41,
   "id": "f4d69cc4-ffd0-4a1c-a291-5bec8ab45ca1",
   "metadata": {},
   "outputs": [
    {
     "data": {
      "text/plain": [
       "['a', '1', ' ']"
      ]
     },
     "execution_count": 41,
     "metadata": {},
     "output_type": "execute_result"
    }
   ],
   "source": [
    "l = [\" \", \"1\", \"a\"]\n",
    "l.sort(reverse=True)\n",
    "l"
   ]
  },
  {
   "cell_type": "code",
   "execution_count": 42,
   "id": "16daad38-fdf2-4cb5-9890-1f26cf9675ba",
   "metadata": {},
   "outputs": [
    {
     "data": {
      "text/plain": [
       "32"
      ]
     },
     "execution_count": 42,
     "metadata": {},
     "output_type": "execute_result"
    }
   ],
   "source": [
    "ord(\" \")"
   ]
  },
  {
   "cell_type": "code",
   "execution_count": 43,
   "id": "5331fa67-4408-4ee7-8338-2d83c3b3f93c",
   "metadata": {},
   "outputs": [
    {
     "data": {
      "text/plain": [
       "48"
      ]
     },
     "execution_count": 43,
     "metadata": {},
     "output_type": "execute_result"
    }
   ],
   "source": [
    "ord(\"0\")"
   ]
  },
  {
   "cell_type": "code",
   "execution_count": 44,
   "id": "a0b9c184-aeb7-4e49-9b7c-f20d695397f8",
   "metadata": {},
   "outputs": [
    {
     "data": {
      "text/plain": [
       "97"
      ]
     },
     "execution_count": 44,
     "metadata": {},
     "output_type": "execute_result"
    }
   ],
   "source": [
    "ord(\"a\")"
   ]
  },
  {
   "cell_type": "code",
   "execution_count": 47,
   "id": "21a51bb9-2e9c-4b0d-b8d0-cfab61c98f71",
   "metadata": {},
   "outputs": [
    {
     "ename": "AttributeError",
     "evalue": "'tuple' object has no attribute 'sort'",
     "output_type": "error",
     "traceback": [
      "\u001b[1;31m---------------------------------------------------------------------------\u001b[0m",
      "\u001b[1;31mAttributeError\u001b[0m                            Traceback (most recent call last)",
      "Cell \u001b[1;32mIn[47], line 2\u001b[0m\n\u001b[0;32m      1\u001b[0m t \u001b[38;5;241m=\u001b[39m (\u001b[38;5;241m1\u001b[39m,\u001b[38;5;241m2\u001b[39m,\u001b[38;5;241m3\u001b[39m,\u001b[38;5;241m5\u001b[39m,\u001b[38;5;241m7\u001b[39m,\u001b[38;5;241m9\u001b[39m,\u001b[38;5;241m4\u001b[39m,\u001b[38;5;241m12\u001b[39m,\u001b[38;5;241m10\u001b[39m)\n\u001b[1;32m----> 2\u001b[0m t\u001b[38;5;241m.\u001b[39msort()\n",
      "\u001b[1;31mAttributeError\u001b[0m: 'tuple' object has no attribute 'sort'"
     ]
    }
   ],
   "source": [
    "t = (1,2,3,5,7,9,4,12,10)\n",
    "t.sort() # will fail "
   ]
  },
  {
   "cell_type": "markdown",
   "id": "d475e26d-ddd6-40b4-8eea-8fc45661cfe3",
   "metadata": {},
   "source": [
    "### ***sorted***\n",
    "#### - sorted(iterable, reverse=Fale)\n",
    "#### - It arranges the items of iterable in ascending order or descending order. It performs outplace sorting\n",
    "#### - It returns list as output\n",
    "#### - we can also arrange it in descending order by providing `reverse=True` as argument to sorted function"
   ]
  },
  {
   "cell_type": "code",
   "execution_count": 31,
   "id": "bf2d638a-0616-485b-b0cf-8ccdf64f16c9",
   "metadata": {},
   "outputs": [
    {
     "name": "stdout",
     "output_type": "stream",
     "text": [
      "[1, 10, 5, 8, 9, 12, 11]\n",
      "2711444519616\n",
      "[1, 5, 8, 9, 10, 11, 12]\n",
      "2711444421440\n",
      "[1, 10, 5, 8, 9, 12, 11]\n",
      "2711444519616\n"
     ]
    }
   ],
   "source": [
    "l = [1,10,5,8,9,12,11]\n",
    "print(l)\n",
    "print(id(l))\n",
    "print(sorted(l))\n",
    "print(id(sorted(l))) # out of place sorting \n",
    "print(l)\n",
    "print(id(l))"
   ]
  },
  {
   "cell_type": "code",
   "execution_count": 32,
   "id": "64483e1f-6b74-4a5e-8683-c6ed5a20becb",
   "metadata": {},
   "outputs": [
    {
     "data": {
      "text/plain": [
       "[9, 7, 5, 4, 3, 2, 1]"
      ]
     },
     "execution_count": 32,
     "metadata": {},
     "output_type": "execute_result"
    }
   ],
   "source": [
    "l = [1,2,3,5,7,9,4]\n",
    "sorted(l, reverse = True)"
   ]
  },
  {
   "cell_type": "code",
   "execution_count": 33,
   "id": "554af86d-018b-4515-8136-01ca537ffbc7",
   "metadata": {},
   "outputs": [
    {
     "name": "stdout",
     "output_type": "stream",
     "text": [
      "None\n",
      "<class 'NoneType'>\n"
     ]
    }
   ],
   "source": [
    "m = l.sort()\n",
    "print(m)\n",
    "print(type(m))"
   ]
  },
  {
   "cell_type": "code",
   "execution_count": 48,
   "id": "77d8ea90-cad6-4f94-b327-b98996e5bc01",
   "metadata": {},
   "outputs": [
    {
     "ename": "AttributeError",
     "evalue": "'tuple' object has no attribute 'sort'",
     "output_type": "error",
     "traceback": [
      "\u001b[1;31m---------------------------------------------------------------------------\u001b[0m",
      "\u001b[1;31mAttributeError\u001b[0m                            Traceback (most recent call last)",
      "Cell \u001b[1;32mIn[48], line 2\u001b[0m\n\u001b[0;32m      1\u001b[0m t \u001b[38;5;241m=\u001b[39m (\u001b[38;5;241m1\u001b[39m,\u001b[38;5;241m2\u001b[39m,\u001b[38;5;241m3\u001b[39m,\u001b[38;5;241m5\u001b[39m,\u001b[38;5;241m7\u001b[39m,\u001b[38;5;241m9\u001b[39m,\u001b[38;5;241m4\u001b[39m,\u001b[38;5;241m12\u001b[39m,\u001b[38;5;241m10\u001b[39m)\n\u001b[1;32m----> 2\u001b[0m t\u001b[38;5;241m.\u001b[39msort()\n",
      "\u001b[1;31mAttributeError\u001b[0m: 'tuple' object has no attribute 'sort'"
     ]
    }
   ],
   "source": [
    "t = (1,2,3,5,7,9,4,12,10)\n",
    "t.sort() # will fail "
   ]
  },
  {
   "cell_type": "code",
   "execution_count": 49,
   "id": "9042ec54-6474-499a-ba64-8cff60cd6c9e",
   "metadata": {},
   "outputs": [
    {
     "data": {
      "text/plain": [
       "[1, 2, 3, 4, 5, 7, 9, 10, 12]"
      ]
     },
     "execution_count": 49,
     "metadata": {},
     "output_type": "execute_result"
    }
   ],
   "source": [
    "sorted(t)"
   ]
  },
  {
   "cell_type": "code",
   "execution_count": 50,
   "id": "632fc5f0-7d24-42a6-af80-e51b9fa9ff0c",
   "metadata": {},
   "outputs": [
    {
     "data": {
      "text/plain": [
       "['e', 'k', 'n', 'v', 'y']"
      ]
     },
     "execution_count": 50,
     "metadata": {},
     "output_type": "execute_result"
    }
   ],
   "source": [
    "sorted(\"venky\")"
   ]
  },
  {
   "cell_type": "markdown",
   "id": "d2c3644a-f53e-4034-b6b2-a4346ccc6dc1",
   "metadata": {},
   "source": [
    "### ***reverse***\n",
    "#### syntax: reverse()\n",
    "#### - It reverse the items of list. It perform in place reverse operation"
   ]
  },
  {
   "cell_type": "code",
   "execution_count": 51,
   "id": "4367b481-a2a2-468e-bfad-184db5ff2f6d",
   "metadata": {},
   "outputs": [
    {
     "name": "stdout",
     "output_type": "stream",
     "text": [
      "['V', 'e', 'n', 'k', 'a', 't', 'e', 's', 'h']\n"
     ]
    }
   ],
   "source": [
    "# reverse\n",
    "l = list(\"Venkatesh\")\n",
    "print(l)"
   ]
  },
  {
   "cell_type": "code",
   "execution_count": 52,
   "id": "52be94df-01a5-4c4a-9668-5ba187763d8c",
   "metadata": {},
   "outputs": [
    {
     "name": "stdout",
     "output_type": "stream",
     "text": [
      "['h', 's', 'e', 't', 'a', 'k', 'n', 'e', 'V']\n"
     ]
    }
   ],
   "source": [
    "l.reverse() # equivalent to l[::-1] \n",
    "print(l)  # reverse in place "
   ]
  },
  {
   "cell_type": "code",
   "execution_count": 54,
   "id": "b50302b1-084c-4d53-8495-e75cb8602e3b",
   "metadata": {},
   "outputs": [
    {
     "ename": "AttributeError",
     "evalue": "'tuple' object has no attribute 'reverse'",
     "output_type": "error",
     "traceback": [
      "\u001b[1;31m---------------------------------------------------------------------------\u001b[0m",
      "\u001b[1;31mAttributeError\u001b[0m                            Traceback (most recent call last)",
      "Cell \u001b[1;32mIn[54], line 2\u001b[0m\n\u001b[0;32m      1\u001b[0m t \u001b[38;5;241m=\u001b[39m \u001b[38;5;28mtuple\u001b[39m(\u001b[38;5;124m\"\u001b[39m\u001b[38;5;124mVenkatesh\u001b[39m\u001b[38;5;124m\"\u001b[39m)\n\u001b[1;32m----> 2\u001b[0m t\u001b[38;5;241m.\u001b[39mreverse()\n",
      "\u001b[1;31mAttributeError\u001b[0m: 'tuple' object has no attribute 'reverse'"
     ]
    }
   ],
   "source": [
    "t = tuple(\"Venkatesh\")\n",
    "t.reverse()"
   ]
  },
  {
   "cell_type": "markdown",
   "id": "c393b851-17dc-4a2d-839f-e995ff462e3e",
   "metadata": {},
   "source": [
    "### ***reversed***\n",
    "#### syntax: reversed(iterable)\n",
    "#### - It reverse the items of iterable and returns iterable object"
   ]
  },
  {
   "cell_type": "code",
   "execution_count": 56,
   "id": "5e3d726b-fac1-4188-97e5-5598ca9533c0",
   "metadata": {},
   "outputs": [
    {
     "data": {
      "text/plain": [
       "['h', 's', 'e', 't', 'a', 'k', 'n', 'e', 'V']"
      ]
     },
     "execution_count": 56,
     "metadata": {},
     "output_type": "execute_result"
    }
   ],
   "source": [
    "l = list(\"Venkatesh\")\n",
    "list(reversed(l)) # out of place - creates new list"
   ]
  },
  {
   "cell_type": "code",
   "execution_count": 58,
   "id": "e4b95bd1-ab56-47ec-8e23-41a6cb318b8a",
   "metadata": {},
   "outputs": [
    {
     "data": {
      "text/plain": [
       "('h', 's', 'e', 't', 'a', 'k', 'n', 'e', 'V')"
      ]
     },
     "execution_count": 58,
     "metadata": {},
     "output_type": "execute_result"
    }
   ],
   "source": [
    "t = tuple(\"Venkatesh\")\n",
    "tuple(reversed(t)) # out of place - creates new list"
   ]
  },
  {
   "cell_type": "markdown",
   "id": "9c6fe7ee-d9d2-49b7-92a5-a3baf9ac5abb",
   "metadata": {},
   "source": [
    "### ***index***\n",
    "#### - It returns the index position of first occurrence of given value.\n",
    "#### - If value is not present in tuple then it throws value error"
   ]
  },
  {
   "cell_type": "code",
   "execution_count": 59,
   "id": "52416390-c426-4e81-8327-3b1bde985f6e",
   "metadata": {},
   "outputs": [
    {
     "name": "stdout",
     "output_type": "stream",
     "text": [
      "0\n",
      "1\n"
     ]
    }
   ],
   "source": [
    "t = (10, 20, 30, 10, 20)\n",
    "print(t.index(10))\n",
    "print(t.index(20))"
   ]
  },
  {
   "cell_type": "code",
   "execution_count": 60,
   "id": "a3384333-8681-4d1d-acad-b0fb4373d895",
   "metadata": {},
   "outputs": [
    {
     "ename": "ValueError",
     "evalue": "tuple.index(x): x not in tuple",
     "output_type": "error",
     "traceback": [
      "\u001b[1;31m---------------------------------------------------------------------------\u001b[0m",
      "\u001b[1;31mValueError\u001b[0m                                Traceback (most recent call last)",
      "Cell \u001b[1;32mIn[60], line 1\u001b[0m\n\u001b[1;32m----> 1\u001b[0m \u001b[38;5;28mprint\u001b[39m(t\u001b[38;5;241m.\u001b[39mindex(\u001b[38;5;241m70\u001b[39m))\n",
      "\u001b[1;31mValueError\u001b[0m: tuple.index(x): x not in tuple"
     ]
    }
   ],
   "source": [
    "print(t.index(70))"
   ]
  },
  {
   "cell_type": "code",
   "execution_count": 62,
   "id": "48c11eb8-1d1d-4471-ac33-909de953abb0",
   "metadata": {},
   "outputs": [
    {
     "name": "stdout",
     "output_type": "stream",
     "text": [
      "4\n"
     ]
    }
   ],
   "source": [
    "# index(value, start_index, end_index)\n",
    "print(t.index(20, 2, 5))"
   ]
  },
  {
   "cell_type": "markdown",
   "id": "1c024b19-0f82-4b76-8956-503702982f2e",
   "metadata": {},
   "source": [
    "### ***count***\n",
    "#### - It returns number of times value occurred in a tuple"
   ]
  },
  {
   "cell_type": "code",
   "execution_count": 64,
   "id": "f12e0f72-88cf-492f-ae84-d3c4a8543949",
   "metadata": {},
   "outputs": [
    {
     "name": "stdout",
     "output_type": "stream",
     "text": [
      "2\n",
      "2\n"
     ]
    }
   ],
   "source": [
    "t = (10, 20, 30, 10, 20)\n",
    "print(t.count(10))\n",
    "print(t.count(20))"
   ]
  },
  {
   "cell_type": "code",
   "execution_count": 65,
   "id": "79867680-20c9-4cda-afe1-e752baeee026",
   "metadata": {},
   "outputs": [
    {
     "name": "stdout",
     "output_type": "stream",
     "text": [
      "1\n"
     ]
    }
   ],
   "source": [
    "print(t.count(30))"
   ]
  },
  {
   "cell_type": "code",
   "execution_count": null,
   "id": "2a816c96-c243-4b50-af8c-ff2d32e9d015",
   "metadata": {},
   "outputs": [],
   "source": []
  }
 ],
 "metadata": {
  "kernelspec": {
   "display_name": "Python 3 (ipykernel)",
   "language": "python",
   "name": "python3"
  },
  "language_info": {
   "codemirror_mode": {
    "name": "ipython",
    "version": 3
   },
   "file_extension": ".py",
   "mimetype": "text/x-python",
   "name": "python",
   "nbconvert_exporter": "python",
   "pygments_lexer": "ipython3",
   "version": "3.11.7"
  }
 },
 "nbformat": 4,
 "nbformat_minor": 5
}
