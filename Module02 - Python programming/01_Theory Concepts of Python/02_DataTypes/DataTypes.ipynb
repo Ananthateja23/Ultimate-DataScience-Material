{
 "cells": [
  {
   "cell_type": "markdown",
   "id": "9d0b14ac-088d-45b5-926e-befe0bb1a65d",
   "metadata": {},
   "source": [
    "### ***Data Types***\n",
    "#### -In python data types are classified into two categories:\n",
    "#### 1. Single valued data types\n",
    "#### 2. Collection data types"
   ]
  },
  {
   "cell_type": "markdown",
   "id": "227e6deb-27e5-4c08-80b8-3b28c19a52ef",
   "metadata": {},
   "source": [
    "### ***Single valued data types***"
   ]
  },
  {
   "cell_type": "markdown",
   "id": "f5582026-7276-46f6-8f3c-b7c361d27092",
   "metadata": {},
   "source": [
    "### ***Integer***\n",
    "#### - Any value without floating point is consider as integer both positive and negative values"
   ]
  },
  {
   "cell_type": "code",
   "execution_count": 2,
   "id": "bac60756-ebc4-4a52-a0cd-0d8f653a62ac",
   "metadata": {},
   "outputs": [
    {
     "name": "stdout",
     "output_type": "stream",
     "text": [
      "num:  10\n",
      "type:  <class 'int'>\n"
     ]
    }
   ],
   "source": [
    "num = 10\n",
    "print(\"num: \", num)\n",
    "print(\"type: \", type(num))"
   ]
  },
  {
   "cell_type": "code",
   "execution_count": 3,
   "id": "261a14e1-194d-488a-95ae-8b9390759e06",
   "metadata": {},
   "outputs": [
    {
     "name": "stdout",
     "output_type": "stream",
     "text": [
      "num:  0\n",
      "type:  <class 'int'>\n"
     ]
    }
   ],
   "source": [
    "num = 0\n",
    "print(\"num: \", num)\n",
    "print(\"type: \", type(num))"
   ]
  },
  {
   "cell_type": "code",
   "execution_count": 4,
   "id": "6426553d-4fba-4e84-a16a-610a44372c68",
   "metadata": {},
   "outputs": [
    {
     "name": "stdout",
     "output_type": "stream",
     "text": [
      "num:  -5\n",
      "type:  <class 'int'>\n"
     ]
    }
   ],
   "source": [
    "num = -5\n",
    "print(\"num: \", num)\n",
    "print(\"type: \", type(num))"
   ]
  },
  {
   "cell_type": "markdown",
   "id": "d81452df-044e-4b38-807f-dd8acb7361a2",
   "metadata": {},
   "source": [
    "### ***Float***\n",
    "#### - Any value with floating point is considered as float  both positive and negative values"
   ]
  },
  {
   "cell_type": "code",
   "execution_count": 5,
   "id": "f48d42da-bbbb-42b2-99df-5351705aa081",
   "metadata": {},
   "outputs": [
    {
     "name": "stdout",
     "output_type": "stream",
     "text": [
      "num1:  12.02\n",
      "type:  <class 'float'>\n"
     ]
    }
   ],
   "source": [
    "num1 = 12.02\n",
    "print(\"num1: \", num1)\n",
    "print(\"type: \", type(num1))"
   ]
  },
  {
   "cell_type": "code",
   "execution_count": 6,
   "id": "21657f55-bc7f-4971-99ad-5de0fe89a412",
   "metadata": {},
   "outputs": [
    {
     "name": "stdout",
     "output_type": "stream",
     "text": [
      "num2:  0.0\n",
      "type:  <class 'float'>\n"
     ]
    }
   ],
   "source": [
    "num2 = 0.0\n",
    "print(\"num2: \", num2)\n",
    "print(\"type: \", type(num2))"
   ]
  },
  {
   "cell_type": "code",
   "execution_count": 7,
   "id": "cbda3391-c7ea-41ec-b9fd-5e09676b2f82",
   "metadata": {},
   "outputs": [
    {
     "name": "stdout",
     "output_type": "stream",
     "text": [
      "num3:  -1.22\n",
      "type:  <class 'float'>\n"
     ]
    }
   ],
   "source": [
    "num3 = -1.22\n",
    "print(\"num3: \", num3)\n",
    "print(\"type: \", type(num3))"
   ]
  },
  {
   "cell_type": "markdown",
   "id": "4750d3fa-70a3-468f-9844-ae91ba632111",
   "metadata": {},
   "source": [
    "### ***Boolean***\n",
    "#### - Boolean has only two values True and False\n",
    "#### - In python, True is considered as 1 and False is considered as 0"
   ]
  },
  {
   "cell_type": "code",
   "execution_count": 8,
   "id": "b4335e7c-f599-4a29-a589-f6c76252053b",
   "metadata": {},
   "outputs": [
    {
     "name": "stdout",
     "output_type": "stream",
     "text": [
      "num1:  True\n",
      "type:  <class 'bool'>\n"
     ]
    }
   ],
   "source": [
    "num1 = True\n",
    "print(\"num1: \", num1)\n",
    "print(\"type: \", type(num1))"
   ]
  },
  {
   "cell_type": "code",
   "execution_count": 9,
   "id": "890706b8-e54c-4df2-bb04-31573ce55d08",
   "metadata": {},
   "outputs": [
    {
     "name": "stdout",
     "output_type": "stream",
     "text": [
      "num2:  False\n",
      "type:  <class 'bool'>\n"
     ]
    }
   ],
   "source": [
    "num2 = False\n",
    "print(\"num2: \", num2)\n",
    "print(\"type: \", type(num2))"
   ]
  },
  {
   "cell_type": "code",
   "execution_count": 10,
   "id": "6c932185-25b4-4b11-96db-6f86c644cf4c",
   "metadata": {},
   "outputs": [
    {
     "name": "stdout",
     "output_type": "stream",
     "text": [
      "2\n"
     ]
    }
   ],
   "source": [
    "print(True+True)"
   ]
  },
  {
   "cell_type": "code",
   "execution_count": 11,
   "id": "7ea9fe73-9894-4bcb-9eb0-1f326b0a3433",
   "metadata": {},
   "outputs": [
    {
     "name": "stdout",
     "output_type": "stream",
     "text": [
      "2\n"
     ]
    }
   ],
   "source": [
    "print(True*2)"
   ]
  },
  {
   "cell_type": "code",
   "execution_count": 12,
   "id": "9f303fcb-9c09-43cd-9680-06da82554a30",
   "metadata": {},
   "outputs": [
    {
     "name": "stdout",
     "output_type": "stream",
     "text": [
      "1\n"
     ]
    }
   ],
   "source": [
    "print(True+False)"
   ]
  },
  {
   "cell_type": "code",
   "execution_count": 1,
   "id": "a9c80c2e-b720-4444-b86f-79e19b8f29c9",
   "metadata": {},
   "outputs": [
    {
     "name": "stdout",
     "output_type": "stream",
     "text": [
      "3\n"
     ]
    }
   ],
   "source": [
    "print(True+2)"
   ]
  },
  {
   "cell_type": "markdown",
   "id": "92b77789-4109-4d96-be2d-a92457c85421",
   "metadata": {},
   "source": [
    "### ***Complex***\n",
    "#### - Complex data type has two parts real and imaginary part\n",
    "#### - For complex data type imaginary part is mandatory"
   ]
  },
  {
   "cell_type": "code",
   "execution_count": 18,
   "id": "1f8ffb35-ff7a-4299-882f-34fa0a83cae7",
   "metadata": {},
   "outputs": [
    {
     "name": "stdout",
     "output_type": "stream",
     "text": [
      "num1:  (2+3j)\n",
      "type:  <class 'complex'>\n"
     ]
    }
   ],
   "source": [
    "num1 = 2+3j\n",
    "print(\"num1: \", num1)\n",
    "print(\"type: \", type(num1))"
   ]
  },
  {
   "cell_type": "code",
   "execution_count": 19,
   "id": "f8a70078-4181-4e59-9eab-263ece2f6e1d",
   "metadata": {},
   "outputs": [
    {
     "name": "stdout",
     "output_type": "stream",
     "text": [
      "num2:  (2+0j)\n",
      "type:  <class 'complex'>\n"
     ]
    }
   ],
   "source": [
    "num2 = 2+0j\n",
    "print(\"num2: \", num2)\n",
    "print(\"type: \", type(num2))"
   ]
  },
  {
   "cell_type": "code",
   "execution_count": 20,
   "id": "518f5444-9324-455a-bb31-529671771291",
   "metadata": {},
   "outputs": [
    {
     "name": "stdout",
     "output_type": "stream",
     "text": [
      "num3:  0j\n",
      "type:  <class 'complex'>\n"
     ]
    }
   ],
   "source": [
    "num3 = 0+0j\n",
    "print(\"num3: \", num3)\n",
    "print(\"type: \", type(num3))"
   ]
  },
  {
   "cell_type": "code",
   "execution_count": 21,
   "id": "4176946d-00cf-4623-8c96-979f73054b9f",
   "metadata": {},
   "outputs": [
    {
     "name": "stdout",
     "output_type": "stream",
     "text": [
      "num4:  2j\n",
      "type:  <class 'complex'>\n"
     ]
    }
   ],
   "source": [
    "num4 = 0+2j\n",
    "print(\"num4: \", num4)\n",
    "print(\"type: \", type(num4))"
   ]
  },
  {
   "cell_type": "code",
   "execution_count": 23,
   "id": "d20f0f6f-102d-4dc5-bffb-9341d7b44d50",
   "metadata": {},
   "outputs": [
    {
     "name": "stdout",
     "output_type": "stream",
     "text": [
      "num5:  (2-3j)\n",
      "type:  <class 'complex'>\n"
     ]
    }
   ],
   "source": [
    "num5 = 2-3j\n",
    "print(\"num5: \", num5)\n",
    "print(\"type: \", type(num5))"
   ]
  },
  {
   "cell_type": "code",
   "execution_count": 24,
   "id": "d2944a56-aed0-48e0-bf95-a12cbece3949",
   "metadata": {},
   "outputs": [
    {
     "name": "stdout",
     "output_type": "stream",
     "text": [
      "num5:  (-2-3j)\n",
      "type:  <class 'complex'>\n"
     ]
    }
   ],
   "source": [
    "num5 = -2-3j\n",
    "print(\"num5: \", num5)\n",
    "print(\"type: \", type(num5))"
   ]
  },
  {
   "cell_type": "markdown",
   "id": "e9cfb7a6-3cf0-43b8-a8bd-5faf90bc0635",
   "metadata": {},
   "source": [
    "### ***None***\n",
    "#### - In python, None is null data type. It's boolean value is False"
   ]
  },
  {
   "cell_type": "code",
   "execution_count": 25,
   "id": "6afbcf6c-d4ed-42e5-9e00-342611e913b9",
   "metadata": {},
   "outputs": [
    {
     "name": "stdout",
     "output_type": "stream",
     "text": [
      "num:  None\n",
      "boolean:  False\n"
     ]
    }
   ],
   "source": [
    "num = None\n",
    "print(\"num: \", num)\n",
    "print(\"boolean: \", bool(num))"
   ]
  },
  {
   "cell_type": "markdown",
   "id": "995c666b-10ac-4cdf-bdc4-ac59aada8cc4",
   "metadata": {},
   "source": [
    "### ***Collection DataTypes***"
   ]
  },
  {
   "cell_type": "markdown",
   "id": "5a52ad7d-0713-4552-93b8-da7a60371612",
   "metadata": {},
   "source": [
    "### ***String***\n",
    "#### - String is declared using single quotes, double quotes and triple quotes\n",
    "#### - To declare single line string we use single quotes, double quotes where as to declare multiline string we use triple quotes\n",
    "#### - It is ordered data type, supports indexing\n",
    "#### - String is a immutable data type. It cannot be modified"
   ]
  },
  {
   "cell_type": "code",
   "execution_count": 29,
   "id": "d1c4bf8d-6eae-415f-ba4e-0334f85f5f50",
   "metadata": {},
   "outputs": [
    {
     "name": "stdout",
     "output_type": "stream",
     "text": [
      "python\n",
      "<class 'str'>\n",
      "python\n",
      "<class 'str'>\n"
     ]
    }
   ],
   "source": [
    "# single line string\n",
    "program_lang1 = 'python'\n",
    "program_lang2 = \"python\"\n",
    "print(program_lang1)\n",
    "print(type(program_lang1))\n",
    "print(program_lang2)\n",
    "print(type(program_lang2))"
   ]
  },
  {
   "cell_type": "code",
   "execution_count": 28,
   "id": "b8c01f7c-14d7-448a-9bf8-883cc5edb731",
   "metadata": {},
   "outputs": [
    {
     "name": "stdout",
     "output_type": "stream",
     "text": [
      "\n",
      "Python supports functional programming language, scripting language, Object oriented programming language.\n",
      "It is both compiled and interpreted language\n",
      "\n",
      "<class 'str'>\n"
     ]
    }
   ],
   "source": [
    "# multiline string\n",
    "program_lang3 = \"\"\"\n",
    "Python supports functional programming language, scripting language, Object oriented programming language.\n",
    "It is both compiled and interpreted language\n",
    "\"\"\"\n",
    "print(program_lang3)\n",
    "print(type(program_lang3))"
   ]
  },
  {
   "cell_type": "code",
   "execution_count": 32,
   "id": "d4f4f191-2b84-4e66-b295-f0025c535154",
   "metadata": {},
   "outputs": [
    {
     "name": "stdout",
     "output_type": "stream",
     "text": [
      "index -4:  t\n",
      "index -1:  n\n",
      "index  0:  p\n",
      "index  1:  y\n"
     ]
    }
   ],
   "source": [
    "language = \"python\"\n",
    "print(\"index -4: \",language[-4])\n",
    "print(\"index -1: \",language[-1])\n",
    "print(\"index  0: \",language[0])\n",
    "print(\"index  1: \",language[1])"
   ]
  },
  {
   "cell_type": "code",
   "execution_count": 33,
   "id": "182de83b-d707-4417-be3f-6ab48a28a00e",
   "metadata": {},
   "outputs": [
    {
     "ename": "TypeError",
     "evalue": "'str' object does not support item assignment",
     "output_type": "error",
     "traceback": [
      "\u001b[1;31m---------------------------------------------------------------------------\u001b[0m",
      "\u001b[1;31mTypeError\u001b[0m                                 Traceback (most recent call last)",
      "Cell \u001b[1;32mIn[33], line 2\u001b[0m\n\u001b[0;32m      1\u001b[0m \u001b[38;5;66;03m# immutable \u001b[39;00m\n\u001b[1;32m----> 2\u001b[0m language[\u001b[38;5;241m2\u001b[39m] \u001b[38;5;241m=\u001b[39m \u001b[38;5;124m\"\u001b[39m\u001b[38;5;124mk\u001b[39m\u001b[38;5;124m\"\u001b[39m\n\u001b[0;32m      3\u001b[0m \u001b[38;5;28mprint\u001b[39m(language)\n",
      "\u001b[1;31mTypeError\u001b[0m: 'str' object does not support item assignment"
     ]
    }
   ],
   "source": [
    "# immutable \n",
    "language[2] = \"k\"\n",
    "print(language)"
   ]
  },
  {
   "cell_type": "markdown",
   "id": "7a35ce40-3df5-42f2-b8fb-90f6b09010c1",
   "metadata": {},
   "source": [
    "### ***List***\n",
    "#### - List is declared by using square brackets []\n",
    "#### - List is ordered data type. It supports indexing\n",
    "#### - List is mutable data type. It can be modified\n",
    "#### - It allows duplicate values\n",
    "#### - List is both homogenous and heterogenous"
   ]
  },
  {
   "cell_type": "code",
   "execution_count": 35,
   "id": "c70ef8e6-63b4-40f8-9b17-b75283728942",
   "metadata": {},
   "outputs": [
    {
     "name": "stdout",
     "output_type": "stream",
     "text": [
      "[90, 45.5, True, (2+3j)]\n",
      "index  2:  True\n",
      "index -3:  45.5\n",
      "index  0:  90\n",
      "[90, 45.5, 'python', (2+3j)]\n"
     ]
    }
   ],
   "source": [
    "num_list = [90, 45.5, True, 2+3j]\n",
    "print(num_list)\n",
    "print(\"index  2: \", num_list[2])\n",
    "print(\"index -3: \", num_list[-3])\n",
    "print(\"index  0: \", num_list[0])\n",
    "num_list[2] = \"python\"\n",
    "print(num_list)"
   ]
  },
  {
   "cell_type": "markdown",
   "id": "3ab23b33-79f0-4e4e-bc40-d4e0f1286e58",
   "metadata": {},
   "source": [
    "### ***Tuple***\n",
    "#### - It is declared by using round brackets ()\n",
    "#### - It is ordered data type. It supports indexing\n",
    "#### - Tuple is immutable data type. It cannot be modified\n",
    "#### - It allows duplicate values\n",
    "#### - Tuple is both homogenous and heterogenous"
   ]
  },
  {
   "cell_type": "code",
   "execution_count": 36,
   "id": "6f081bb2-03e6-43bb-b976-6729572e9438",
   "metadata": {},
   "outputs": [
    {
     "name": "stdout",
     "output_type": "stream",
     "text": [
      "((10, 20), 'ABCD', [11, 12, 13])\n"
     ]
    }
   ],
   "source": [
    "num_tuple = ((10,20), \"ABCD\", [11, 12, 13])\n",
    "print(num_tuple)"
   ]
  },
  {
   "cell_type": "code",
   "execution_count": 37,
   "id": "8bfdcb74-4167-491d-bcf3-4d39c35e46d4",
   "metadata": {},
   "outputs": [
    {
     "name": "stdout",
     "output_type": "stream",
     "text": [
      "index -1:  [11, 12, 13]\n",
      "index  0:  (10, 20)\n"
     ]
    }
   ],
   "source": [
    "print(\"index -1: \", num_tuple[-1])\n",
    "print(\"index  0: \", num_tuple[0])"
   ]
  },
  {
   "cell_type": "code",
   "execution_count": 38,
   "id": "a992b5f8-16bd-4fd2-a138-80afa7fe0e10",
   "metadata": {},
   "outputs": [
    {
     "ename": "TypeError",
     "evalue": "'tuple' object does not support item assignment",
     "output_type": "error",
     "traceback": [
      "\u001b[1;31m---------------------------------------------------------------------------\u001b[0m",
      "\u001b[1;31mTypeError\u001b[0m                                 Traceback (most recent call last)",
      "Cell \u001b[1;32mIn[38], line 1\u001b[0m\n\u001b[1;32m----> 1\u001b[0m num_tuple[\u001b[38;5;241m0\u001b[39m] \u001b[38;5;241m=\u001b[39m \u001b[38;5;241m10\u001b[39m\n\u001b[0;32m      2\u001b[0m \u001b[38;5;28mprint\u001b[39m(num_tuple)\n",
      "\u001b[1;31mTypeError\u001b[0m: 'tuple' object does not support item assignment"
     ]
    }
   ],
   "source": [
    "num_tuple[0] = 10\n",
    "print(num_tuple)"
   ]
  },
  {
   "cell_type": "markdown",
   "id": "cda8443d-cfb1-4d06-aa24-3c841677b913",
   "metadata": {},
   "source": [
    "### ***Note:***\n",
    "#### - Tuple is a immutable datatype, It cannot be modified. But mutable data type inside tuple can be modified"
   ]
  },
  {
   "cell_type": "code",
   "execution_count": 41,
   "id": "57abc429-b729-4f29-bf8f-b61a17c66492",
   "metadata": {},
   "outputs": [
    {
     "name": "stdout",
     "output_type": "stream",
     "text": [
      "((10, 20), 'ABCD', [11, 12, 13])\n",
      "11\n",
      "11\n",
      "11\n",
      "11\n"
     ]
    }
   ],
   "source": [
    "num_tuple = ((10,20), \"ABCD\", [11, 12, 13])\n",
    "print(num_tuple)\n",
    "print(num_tuple[2][0])\n",
    "print(num_tuple[2][-3])\n",
    "print(num_tuple[-1][0])\n",
    "print(num_tuple[-1][-3])"
   ]
  },
  {
   "cell_type": "code",
   "execution_count": 42,
   "id": "721fe7eb-7ae5-43b8-a086-c0520e6e0b6b",
   "metadata": {},
   "outputs": [
    {
     "name": "stdout",
     "output_type": "stream",
     "text": [
      "((10, 20), 'ABCD', [100, 12, 13])\n"
     ]
    }
   ],
   "source": [
    "num_tuple[2][0] = 100\n",
    "print(num_tuple)"
   ]
  },
  {
   "cell_type": "markdown",
   "id": "598f61a6-0f2d-47bb-b621-eb96319c5be5",
   "metadata": {},
   "source": [
    "### ***Set***\n",
    "#### - Elements inside of set are seperated by commas and surrounded by flower braces but empty set is defined using set()\n",
    "#### - It is unordered datatype. It does not supports indexing\n",
    "#### - It is mutable datatype. It can be modified\n",
    "#### - It doesnot allow duplicates\n",
    "#### - set is both homogenous and heterogenous but it allows only immutable data type"
   ]
  },
  {
   "cell_type": "code",
   "execution_count": 44,
   "id": "5dd9b537-866d-4668-89bc-cc0f910228a9",
   "metadata": {},
   "outputs": [
    {
     "name": "stdout",
     "output_type": "stream",
     "text": [
      "{False, 1, 'python', 10, 12}\n"
     ]
    }
   ],
   "source": [
    "num_set = {12, 12.0, 10, 10.0, 1, True, 1.0, \"python\", False, 0.0, 0}\n",
    "print(num_set)"
   ]
  },
  {
   "cell_type": "markdown",
   "id": "9778a822-5b78-4906-8277-4d069f138403",
   "metadata": {},
   "source": [
    "### ***Dictionary***\n",
    "#### - Dictionary is declared using curly brackets and elements in the form of key, value pair\n",
    "#### - Dictionary is ordered datatype. It does not supports indexing\n",
    "#### - It is mutable datatype. It can be modified.\n",
    "#### - Duplicates of keys are not allowed but if we try to add duplicate of key old value is replaced with new value where as duplicates of values are allowed\n",
    "#### - Only immutable keys are allowed but values can be both mutable and immutable"
   ]
  },
  {
   "cell_type": "code",
   "execution_count": 45,
   "id": "85dbbe1b-25a0-48ec-b204-66c3077aaa6e",
   "metadata": {},
   "outputs": [
    {
     "name": "stdout",
     "output_type": "stream",
     "text": [
      "{54: 'Sam', 55: 'Seeta', 56: 'Seeta'}\n"
     ]
    }
   ],
   "source": [
    "name_dict = {\n",
    "    54: \"Ram\",\n",
    "    55: \"Lava\",\n",
    "    54: \"Sam\",\n",
    "    55: \"Seeta\",\n",
    "    56: \"Seeta\"\n",
    "}\n",
    "print(name_dict)"
   ]
  },
  {
   "cell_type": "code",
   "execution_count": null,
   "id": "df4008d8-31dc-4cfc-b550-6d5c1e2b22da",
   "metadata": {},
   "outputs": [],
   "source": []
  }
 ],
 "metadata": {
  "kernelspec": {
   "display_name": "Python 3 (ipykernel)",
   "language": "python",
   "name": "python3"
  },
  "language_info": {
   "codemirror_mode": {
    "name": "ipython",
    "version": 3
   },
   "file_extension": ".py",
   "mimetype": "text/x-python",
   "name": "python",
   "nbconvert_exporter": "python",
   "pygments_lexer": "ipython3",
   "version": "3.11.7"
  }
 },
 "nbformat": 4,
 "nbformat_minor": 5
}
