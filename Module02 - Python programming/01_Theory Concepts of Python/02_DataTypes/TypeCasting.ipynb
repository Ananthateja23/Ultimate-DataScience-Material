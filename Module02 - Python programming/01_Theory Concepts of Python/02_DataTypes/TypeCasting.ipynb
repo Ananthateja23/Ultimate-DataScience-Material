{
 "cells": [
  {
   "cell_type": "markdown",
   "id": "88cf145b-fe47-4705-9732-3334d11c6d4b",
   "metadata": {},
   "source": [
    "### ***TypeCasting***\n",
    "#### - It is a process of converting python variable data type from one datatype to other.\n",
    "#### - Generally, TypeCasting are two types:\n",
    "#### 1. Implicit TypeCasting: No need of user involvment, Type casting happens automatically\n",
    "#### 2. Explicit TypeCasting: User involvment is needed, Type casting does not happens automatically"
   ]
  },
  {
   "cell_type": "markdown",
   "id": "f11200ed-a719-4607-ad8a-ba4180345c36",
   "metadata": {},
   "source": [
    "### ***Implicit TypeCasting***"
   ]
  },
  {
   "cell_type": "code",
   "execution_count": 1,
   "id": "97d2819b-dd60-4ab5-870e-df9b4a11fe06",
   "metadata": {},
   "outputs": [
    {
     "name": "stdout",
     "output_type": "stream",
     "text": [
      "<class 'int'>\n",
      "<class 'float'>\n",
      "10.0\n",
      "<class 'float'>\n"
     ]
    }
   ],
   "source": [
    "num1 = 7\n",
    "print(type(num1))\n",
    "num2 = 3.0\n",
    "print(type(num2))\n",
    "add = num1 + num2\n",
    "print(add)\n",
    "print(type(add))"
   ]
  },
  {
   "cell_type": "markdown",
   "id": "28a6a492-360f-4c4b-8a7e-70704a598bae",
   "metadata": {},
   "source": [
    "### ***Explicit TypeCasting***"
   ]
  },
  {
   "cell_type": "markdown",
   "id": "8a1fb1dd-a6ea-474a-b559-ab4c07cf7d05",
   "metadata": {},
   "source": [
    "#### ***Int(arg)***\n",
    "#### arg: float, boolean, string of number"
   ]
  },
  {
   "cell_type": "code",
   "execution_count": 9,
   "id": "a3dda524-a53c-4e0d-82f0-1955297941ab",
   "metadata": {},
   "outputs": [
    {
     "name": "stdout",
     "output_type": "stream",
     "text": [
      "15.5 :  15\n",
      "True :  1\n",
      "False:  0\n",
      "'10' :  10\n"
     ]
    }
   ],
   "source": [
    "print(\"15.5 : \", int(15.5))\n",
    "print(\"True : \", int(True))\n",
    "print(\"False: \", int(False))\n",
    "print(\"'10' : \", int('10'))"
   ]
  },
  {
   "cell_type": "code",
   "execution_count": 3,
   "id": "33389983-c36f-4e2b-a5d9-85718bfe438c",
   "metadata": {},
   "outputs": [
    {
     "ename": "ValueError",
     "evalue": "invalid literal for int() with base 10: '11.8'",
     "output_type": "error",
     "traceback": [
      "\u001b[1;31m---------------------------------------------------------------------------\u001b[0m",
      "\u001b[1;31mValueError\u001b[0m                                Traceback (most recent call last)",
      "Cell \u001b[1;32mIn[3], line 1\u001b[0m\n\u001b[1;32m----> 1\u001b[0m \u001b[38;5;28mprint\u001b[39m(\u001b[38;5;124m\"\u001b[39m\u001b[38;5;124m'\u001b[39m\u001b[38;5;124m11.8\u001b[39m\u001b[38;5;124m'\u001b[39m\u001b[38;5;124m: \u001b[39m\u001b[38;5;124m\"\u001b[39m, \u001b[38;5;28mint\u001b[39m(\u001b[38;5;124m'\u001b[39m\u001b[38;5;124m11.8\u001b[39m\u001b[38;5;124m'\u001b[39m))\n",
      "\u001b[1;31mValueError\u001b[0m: invalid literal for int() with base 10: '11.8'"
     ]
    }
   ],
   "source": [
    "print(\"'11.8': \", int('11.8'))"
   ]
  },
  {
   "cell_type": "code",
   "execution_count": 4,
   "id": "ce244132-c5d1-4cf1-acf2-b22e6479155b",
   "metadata": {},
   "outputs": [
    {
     "ename": "ValueError",
     "evalue": "invalid literal for int() with base 10: 'A'",
     "output_type": "error",
     "traceback": [
      "\u001b[1;31m---------------------------------------------------------------------------\u001b[0m",
      "\u001b[1;31mValueError\u001b[0m                                Traceback (most recent call last)",
      "Cell \u001b[1;32mIn[4], line 1\u001b[0m\n\u001b[1;32m----> 1\u001b[0m \u001b[38;5;28mprint\u001b[39m(\u001b[38;5;124m\"\u001b[39m\u001b[38;5;124mA: \u001b[39m\u001b[38;5;124m\"\u001b[39m, \u001b[38;5;28mint\u001b[39m(\u001b[38;5;124m'\u001b[39m\u001b[38;5;124mA\u001b[39m\u001b[38;5;124m'\u001b[39m))\n",
      "\u001b[1;31mValueError\u001b[0m: invalid literal for int() with base 10: 'A'"
     ]
    }
   ],
   "source": [
    "print(\"A: \", int('A'))"
   ]
  },
  {
   "cell_type": "code",
   "execution_count": 5,
   "id": "fc801325-ef52-4de8-8eee-70790af1821c",
   "metadata": {},
   "outputs": [
    {
     "ename": "TypeError",
     "evalue": "int() argument must be a string, a bytes-like object or a real number, not 'complex'",
     "output_type": "error",
     "traceback": [
      "\u001b[1;31m---------------------------------------------------------------------------\u001b[0m",
      "\u001b[1;31mTypeError\u001b[0m                                 Traceback (most recent call last)",
      "Cell \u001b[1;32mIn[5], line 1\u001b[0m\n\u001b[1;32m----> 1\u001b[0m \u001b[38;5;28mprint\u001b[39m(\u001b[38;5;124m\"\u001b[39m\u001b[38;5;124m(3+2j): \u001b[39m\u001b[38;5;124m\"\u001b[39m, \u001b[38;5;28mint\u001b[39m(\u001b[38;5;241m3\u001b[39m\u001b[38;5;241m+\u001b[39m\u001b[38;5;241m2\u001b[39mj))\n",
      "\u001b[1;31mTypeError\u001b[0m: int() argument must be a string, a bytes-like object or a real number, not 'complex'"
     ]
    }
   ],
   "source": [
    "print(\"(3+2j): \", int(3+2j))"
   ]
  },
  {
   "cell_type": "markdown",
   "id": "bf8f8946-41c1-4e56-a943-a5fcb68a31bc",
   "metadata": {},
   "source": [
    "#### ***Float(arg)***\n",
    "#### arg: integer, boolean, string of number"
   ]
  },
  {
   "cell_type": "code",
   "execution_count": 8,
   "id": "730b2394-0fce-4c37-8f81-68087c104251",
   "metadata": {},
   "outputs": [
    {
     "name": "stdout",
     "output_type": "stream",
     "text": [
      "11    :  11.0\n",
      "True  :  1.0\n",
      "'12.5':  12.5\n",
      "'12'  :  12.0\n"
     ]
    }
   ],
   "source": [
    "print(\"11    : \", float(11))\n",
    "print(\"True  : \", float(True))\n",
    "print(\"'12.5': \", float('12.5'))\n",
    "print(\"'12'  : \", float('12'))"
   ]
  },
  {
   "cell_type": "code",
   "execution_count": 1,
   "id": "807010c2-6483-449c-845f-11dfcafbf634",
   "metadata": {},
   "outputs": [
    {
     "ename": "ValueError",
     "evalue": "could not convert string to float: 'A'",
     "output_type": "error",
     "traceback": [
      "\u001b[1;31m---------------------------------------------------------------------------\u001b[0m",
      "\u001b[1;31mValueError\u001b[0m                                Traceback (most recent call last)",
      "Cell \u001b[1;32mIn[1], line 1\u001b[0m\n\u001b[1;32m----> 1\u001b[0m \u001b[38;5;28mprint\u001b[39m(\u001b[38;5;124m\"\u001b[39m\u001b[38;5;124mA: \u001b[39m\u001b[38;5;124m\"\u001b[39m, \u001b[38;5;28mfloat\u001b[39m(\u001b[38;5;124m'\u001b[39m\u001b[38;5;124mA\u001b[39m\u001b[38;5;124m'\u001b[39m))\n",
      "\u001b[1;31mValueError\u001b[0m: could not convert string to float: 'A'"
     ]
    }
   ],
   "source": [
    "print(\"A: \", float('A'))"
   ]
  },
  {
   "cell_type": "code",
   "execution_count": 2,
   "id": "4bc8d8b5-5cbd-4df9-a038-75725005c020",
   "metadata": {},
   "outputs": [
    {
     "ename": "TypeError",
     "evalue": "float() argument must be a string or a real number, not 'complex'",
     "output_type": "error",
     "traceback": [
      "\u001b[1;31m---------------------------------------------------------------------------\u001b[0m",
      "\u001b[1;31mTypeError\u001b[0m                                 Traceback (most recent call last)",
      "Cell \u001b[1;32mIn[2], line 1\u001b[0m\n\u001b[1;32m----> 1\u001b[0m \u001b[38;5;28mprint\u001b[39m(\u001b[38;5;124m\"\u001b[39m\u001b[38;5;124m(3+2j): \u001b[39m\u001b[38;5;124m\"\u001b[39m, \u001b[38;5;28mfloat\u001b[39m(\u001b[38;5;241m3\u001b[39m\u001b[38;5;241m+\u001b[39m\u001b[38;5;241m2\u001b[39mj))\n",
      "\u001b[1;31mTypeError\u001b[0m: float() argument must be a string or a real number, not 'complex'"
     ]
    }
   ],
   "source": [
    "print(\"(3+2j): \", float(3+2j))"
   ]
  },
  {
   "cell_type": "markdown",
   "id": "1e4f116a-5553-435a-a21b-71894df99b6e",
   "metadata": {},
   "source": [
    "#### ***Complex(arg1, arg2)***\n",
    "#### It takes two arguments. If first argument is string then no need of second argument otherwise throws an error\n",
    "#### arg1: integer, float, boolean\n",
    "#### arg2: integer, float, boolean"
   ]
  },
  {
   "cell_type": "code",
   "execution_count": 11,
   "id": "d190f6d4-1da6-476a-82fe-c6c841c14fe4",
   "metadata": {},
   "outputs": [
    {
     "name": "stdout",
     "output_type": "stream",
     "text": [
      "(2.5, 5.7)   : (2.5+5.7j)\n",
      "(True, True) : (1+1j)\n",
      "(6)          : (6+0j)\n",
      "('2')        : (2+0j)\n"
     ]
    }
   ],
   "source": [
    "print(\"(2.5, 5.7)   :\", complex(2.5,5.7))\n",
    "print(\"(True, True) :\", complex(True,True))\n",
    "print(\"(6)          :\", complex(6))\n",
    "print(\"('2')        :\", complex('2'))"
   ]
  },
  {
   "cell_type": "code",
   "execution_count": 13,
   "id": "0125242a-77a5-4d5b-bed2-b40aa635346f",
   "metadata": {},
   "outputs": [
    {
     "ename": "TypeError",
     "evalue": "complex() can't take second arg if first is a string",
     "output_type": "error",
     "traceback": [
      "\u001b[1;31m---------------------------------------------------------------------------\u001b[0m",
      "\u001b[1;31mTypeError\u001b[0m                                 Traceback (most recent call last)",
      "Cell \u001b[1;32mIn[13], line 1\u001b[0m\n\u001b[1;32m----> 1\u001b[0m \u001b[38;5;28mprint\u001b[39m(\u001b[38;5;124m\"\u001b[39m\u001b[38;5;124m(\u001b[39m\u001b[38;5;124m'\u001b[39m\u001b[38;5;124m2\u001b[39m\u001b[38;5;124m'\u001b[39m\u001b[38;5;124m, \u001b[39m\u001b[38;5;124m'\u001b[39m\u001b[38;5;124m5\u001b[39m\u001b[38;5;124m'\u001b[39m\u001b[38;5;124m)        :\u001b[39m\u001b[38;5;124m\"\u001b[39m, \u001b[38;5;28mcomplex\u001b[39m(\u001b[38;5;124m'\u001b[39m\u001b[38;5;124m2\u001b[39m\u001b[38;5;124m'\u001b[39m, \u001b[38;5;124m'\u001b[39m\u001b[38;5;124m5\u001b[39m\u001b[38;5;124m'\u001b[39m))\n",
      "\u001b[1;31mTypeError\u001b[0m: complex() can't take second arg if first is a string"
     ]
    }
   ],
   "source": [
    "print(\"('2', '5')        :\", complex('2', '5'))"
   ]
  },
  {
   "cell_type": "code",
   "execution_count": 14,
   "id": "8336ce17-b7f4-4cb3-b53f-e31ba095a54b",
   "metadata": {},
   "outputs": [
    {
     "ename": "TypeError",
     "evalue": "complex() can't take second arg if first is a string",
     "output_type": "error",
     "traceback": [
      "\u001b[1;31m---------------------------------------------------------------------------\u001b[0m",
      "\u001b[1;31mTypeError\u001b[0m                                 Traceback (most recent call last)",
      "Cell \u001b[1;32mIn[14], line 1\u001b[0m\n\u001b[1;32m----> 1\u001b[0m \u001b[38;5;28mprint\u001b[39m(\u001b[38;5;124m\"\u001b[39m\u001b[38;5;124m(\u001b[39m\u001b[38;5;124m'\u001b[39m\u001b[38;5;124m2\u001b[39m\u001b[38;5;124m'\u001b[39m\u001b[38;5;124m, 5)        :\u001b[39m\u001b[38;5;124m\"\u001b[39m, \u001b[38;5;28mcomplex\u001b[39m(\u001b[38;5;124m'\u001b[39m\u001b[38;5;124m2\u001b[39m\u001b[38;5;124m'\u001b[39m, \u001b[38;5;241m5\u001b[39m))\n",
      "\u001b[1;31mTypeError\u001b[0m: complex() can't take second arg if first is a string"
     ]
    }
   ],
   "source": [
    "print(\"('2', 5)        :\", complex('2', 5))"
   ]
  },
  {
   "cell_type": "code",
   "execution_count": 3,
   "id": "714fcc53-a81a-4dbc-9eec-aaaca0e548b7",
   "metadata": {},
   "outputs": [
    {
     "ename": "TypeError",
     "evalue": "complex() second arg can't be a string",
     "output_type": "error",
     "traceback": [
      "\u001b[1;31m---------------------------------------------------------------------------\u001b[0m",
      "\u001b[1;31mTypeError\u001b[0m                                 Traceback (most recent call last)",
      "Cell \u001b[1;32mIn[3], line 1\u001b[0m\n\u001b[1;32m----> 1\u001b[0m \u001b[38;5;28mprint\u001b[39m(\u001b[38;5;124m\"\u001b[39m\u001b[38;5;124m(2, \u001b[39m\u001b[38;5;124m'\u001b[39m\u001b[38;5;124m5\u001b[39m\u001b[38;5;124m'\u001b[39m\u001b[38;5;124m)        :\u001b[39m\u001b[38;5;124m\"\u001b[39m, \u001b[38;5;28mcomplex\u001b[39m(\u001b[38;5;241m2\u001b[39m, \u001b[38;5;124m'\u001b[39m\u001b[38;5;124m5\u001b[39m\u001b[38;5;124m'\u001b[39m))\n",
      "\u001b[1;31mTypeError\u001b[0m: complex() second arg can't be a string"
     ]
    }
   ],
   "source": [
    "print(\"(2, '5')        :\", complex(2, '5'))"
   ]
  },
  {
   "cell_type": "code",
   "execution_count": 15,
   "id": "a092471a-e1a6-4716-b990-cb29dc2f6b76",
   "metadata": {},
   "outputs": [
    {
     "ename": "TypeError",
     "evalue": "complex() can't take second arg if first is a string",
     "output_type": "error",
     "traceback": [
      "\u001b[1;31m---------------------------------------------------------------------------\u001b[0m",
      "\u001b[1;31mTypeError\u001b[0m                                 Traceback (most recent call last)",
      "Cell \u001b[1;32mIn[15], line 1\u001b[0m\n\u001b[1;32m----> 1\u001b[0m \u001b[38;5;28mprint\u001b[39m(\u001b[38;5;124m\"\u001b[39m\u001b[38;5;124m(\u001b[39m\u001b[38;5;124m'\u001b[39m\u001b[38;5;124m2.0\u001b[39m\u001b[38;5;124m'\u001b[39m\u001b[38;5;124m, \u001b[39m\u001b[38;5;124m'\u001b[39m\u001b[38;5;124m5.0\u001b[39m\u001b[38;5;124m'\u001b[39m\u001b[38;5;124m)        :\u001b[39m\u001b[38;5;124m\"\u001b[39m, \u001b[38;5;28mcomplex\u001b[39m(\u001b[38;5;124m'\u001b[39m\u001b[38;5;124m2.0\u001b[39m\u001b[38;5;124m'\u001b[39m, \u001b[38;5;124m'\u001b[39m\u001b[38;5;124m5.0\u001b[39m\u001b[38;5;124m'\u001b[39m))\n",
      "\u001b[1;31mTypeError\u001b[0m: complex() can't take second arg if first is a string"
     ]
    }
   ],
   "source": [
    "print(\"('2.0', '5.0')        :\", complex('2.0', '5.0'))"
   ]
  },
  {
   "cell_type": "markdown",
   "id": "70497f41-4c17-49f5-8e8b-888d3876ddf3",
   "metadata": {},
   "source": [
    "### ***bool(arg)***\n",
    "#### arg: single valued datatypes, collection datatypes"
   ]
  },
  {
   "cell_type": "code",
   "execution_count": 39,
   "id": "02c9f3d6-6eac-49e1-9f49-e8b2db4d51f1",
   "metadata": {},
   "outputs": [
    {
     "name": "stdout",
     "output_type": "stream",
     "text": [
      "a          :  None\n",
      "type(a)    :  <class 'NoneType'>\n",
      "bool value :  False\n"
     ]
    }
   ],
   "source": [
    "a = None\n",
    "print(\"a          : \", a)\n",
    "print(\"type(a)    : \", type(a))\n",
    "print(\"bool value : \", bool(a))"
   ]
  },
  {
   "cell_type": "code",
   "execution_count": 40,
   "id": "fca27563-8f04-450b-b65f-a8aa6dd8e2f0",
   "metadata": {},
   "outputs": [
    {
     "name": "stdout",
     "output_type": "stream",
     "text": [
      "a          :  10\n",
      "type(a)    :  <class 'int'>\n",
      "bool value :  True\n"
     ]
    }
   ],
   "source": [
    "a = 10\n",
    "print(\"a          : \", a)\n",
    "print(\"type(a)    : \", type(a))\n",
    "print(\"bool value : \", bool(a))"
   ]
  },
  {
   "cell_type": "code",
   "execution_count": 41,
   "id": "e6b34555-612e-43a0-bde8-54beb6b33618",
   "metadata": {},
   "outputs": [
    {
     "name": "stdout",
     "output_type": "stream",
     "text": [
      "a          :  0\n",
      "type(a)    :  <class 'int'>\n",
      "bool value :  False\n"
     ]
    }
   ],
   "source": [
    "a = 0\n",
    "print(\"a          : \", a)\n",
    "print(\"type(a)    : \", type(a))\n",
    "print(\"bool value : \", bool(a))"
   ]
  },
  {
   "cell_type": "code",
   "execution_count": 42,
   "id": "9d50c0b0-c830-4df6-9f6c-3049339b6175",
   "metadata": {},
   "outputs": [
    {
     "name": "stdout",
     "output_type": "stream",
     "text": [
      "a          :  -10\n",
      "type(a)    :  <class 'int'>\n",
      "bool value :  True\n"
     ]
    }
   ],
   "source": [
    "a = -10\n",
    "print(\"a          : \", a)\n",
    "print(\"type(a)    : \", type(a))\n",
    "print(\"bool value : \", bool(a))"
   ]
  },
  {
   "cell_type": "code",
   "execution_count": 43,
   "id": "c0a1601f-9310-46d7-ab71-41f621b136b8",
   "metadata": {},
   "outputs": [
    {
     "name": "stdout",
     "output_type": "stream",
     "text": [
      "a          :  10.25\n",
      "type(a)    :  <class 'float'>\n",
      "bool value :  True\n"
     ]
    }
   ],
   "source": [
    "a = 10.25\n",
    "print(\"a          : \", a)\n",
    "print(\"type(a)    : \", type(a))\n",
    "print(\"bool value : \", bool(a))"
   ]
  },
  {
   "cell_type": "code",
   "execution_count": 44,
   "id": "346156bf-6288-42e2-afa6-075c9ac7f56c",
   "metadata": {},
   "outputs": [
    {
     "name": "stdout",
     "output_type": "stream",
     "text": [
      "a          :  -10.25\n",
      "type(a)    :  <class 'float'>\n",
      "bool value :  True\n"
     ]
    }
   ],
   "source": [
    "a = -10.25\n",
    "print(\"a          : \", a)\n",
    "print(\"type(a)    : \", type(a))\n",
    "print(\"bool value : \", bool(a))"
   ]
  },
  {
   "cell_type": "code",
   "execution_count": 45,
   "id": "8f6dfea2-c32b-4901-b1ff-6d90b60f3e70",
   "metadata": {},
   "outputs": [
    {
     "name": "stdout",
     "output_type": "stream",
     "text": [
      "a          :  0.0\n",
      "type(a)    :  <class 'float'>\n",
      "bool value :  False\n"
     ]
    }
   ],
   "source": [
    "a = 0.00\n",
    "print(\"a          : \", a)\n",
    "print(\"type(a)    : \", type(a))\n",
    "print(\"bool value : \", bool(a))"
   ]
  },
  {
   "cell_type": "code",
   "execution_count": 46,
   "id": "b4ad55cb-39e8-4907-89a7-26643f2c303d",
   "metadata": {},
   "outputs": [
    {
     "name": "stdout",
     "output_type": "stream",
     "text": [
      "a          :  0.0001\n",
      "type(a)    :  <class 'float'>\n",
      "bool value :  True\n"
     ]
    }
   ],
   "source": [
    "a = 0.0001\n",
    "print(\"a          : \", a)\n",
    "print(\"type(a)    : \", type(a))\n",
    "print(\"bool value : \", bool(a))"
   ]
  },
  {
   "cell_type": "code",
   "execution_count": 47,
   "id": "6001cc45-e536-470b-91f2-8c1bf617ff35",
   "metadata": {},
   "outputs": [
    {
     "name": "stdout",
     "output_type": "stream",
     "text": [
      "a          :  -0.0001\n",
      "type(a)    :  <class 'float'>\n",
      "bool value :  True\n"
     ]
    }
   ],
   "source": [
    "a = -0.0001\n",
    "print(\"a          : \", a)\n",
    "print(\"type(a)    : \", type(a))\n",
    "print(\"bool value : \", bool(a))"
   ]
  },
  {
   "cell_type": "code",
   "execution_count": 48,
   "id": "550aab7a-85a7-4dae-af56-36421709c002",
   "metadata": {},
   "outputs": [
    {
     "name": "stdout",
     "output_type": "stream",
     "text": [
      "a          :  (2+3j)\n",
      "type(a)    :  <class 'complex'>\n",
      "bool value :  True\n"
     ]
    }
   ],
   "source": [
    "a = 2+3j\n",
    "print(\"a          : \", a)\n",
    "print(\"type(a)    : \", type(a))\n",
    "print(\"bool value : \", bool(a))"
   ]
  },
  {
   "cell_type": "code",
   "execution_count": 49,
   "id": "a74af8bf-1d39-46ba-beed-646e704df6f9",
   "metadata": {},
   "outputs": [
    {
     "name": "stdout",
     "output_type": "stream",
     "text": [
      "a          :  (2+0j)\n",
      "type(a)    :  <class 'complex'>\n",
      "bool value :  True\n"
     ]
    }
   ],
   "source": [
    "a = 2+0j\n",
    "print(\"a          : \", a)\n",
    "print(\"type(a)    : \", type(a))\n",
    "print(\"bool value : \", bool(a))"
   ]
  },
  {
   "cell_type": "code",
   "execution_count": 50,
   "id": "291b5182-d38f-44d6-85bd-8a31c434a2e8",
   "metadata": {},
   "outputs": [
    {
     "name": "stdout",
     "output_type": "stream",
     "text": [
      "a          :  0j\n",
      "type(a)    :  <class 'complex'>\n",
      "bool value :  False\n"
     ]
    }
   ],
   "source": [
    "a = 0+0j\n",
    "print(\"a          : \", a)\n",
    "print(\"type(a)    : \", type(a))\n",
    "print(\"bool value : \", bool(a))"
   ]
  },
  {
   "cell_type": "code",
   "execution_count": 51,
   "id": "967648d2-f171-46c9-8b03-b54b6a9a8b36",
   "metadata": {},
   "outputs": [
    {
     "name": "stdout",
     "output_type": "stream",
     "text": [
      "a          :  (2+0j)\n",
      "type(a)    :  <class 'complex'>\n",
      "bool value :  True\n"
     ]
    }
   ],
   "source": [
    "a = 2-0j\n",
    "print(\"a          : \", a)\n",
    "print(\"type(a)    : \", type(a))\n",
    "print(\"bool value : \", bool(a))"
   ]
  },
  {
   "cell_type": "code",
   "execution_count": 52,
   "id": "1b2f7654-c2cb-40a5-a860-05a8b1016d5d",
   "metadata": {},
   "outputs": [
    {
     "name": "stdout",
     "output_type": "stream",
     "text": [
      "a          :  (-2+0j)\n",
      "type(a)    :  <class 'complex'>\n",
      "bool value :  True\n"
     ]
    }
   ],
   "source": [
    "a = -2-0j\n",
    "print(\"a          : \", a)\n",
    "print(\"type(a)    : \", type(a))\n",
    "print(\"bool value : \", bool(a))"
   ]
  },
  {
   "cell_type": "code",
   "execution_count": 53,
   "id": "cd667ec5-a4c2-40c6-899e-8f119ba22fb6",
   "metadata": {},
   "outputs": [
    {
     "name": "stdout",
     "output_type": "stream",
     "text": [
      "a          :  \n",
      "type(a)    :  <class 'str'>\n",
      "bool value :  False\n"
     ]
    }
   ],
   "source": [
    "a = \"\"\n",
    "print(\"a          : \", a)\n",
    "print(\"type(a)    : \", type(a))\n",
    "print(\"bool value : \", bool(a))"
   ]
  },
  {
   "cell_type": "code",
   "execution_count": 54,
   "id": "9ccd06da-27eb-4367-8268-4487d6460b22",
   "metadata": {},
   "outputs": [
    {
     "name": "stdout",
     "output_type": "stream",
     "text": [
      "a          :   \n",
      "type(a)    :  <class 'str'>\n",
      "bool value :  True\n"
     ]
    }
   ],
   "source": [
    "a = \" \"\n",
    "print(\"a          : \", a)\n",
    "print(\"type(a)    : \", type(a))\n",
    "print(\"bool value : \", bool(a))"
   ]
  },
  {
   "cell_type": "code",
   "execution_count": 55,
   "id": "18f22e7f-cc5e-4873-b5fb-26eebbf32dc6",
   "metadata": {},
   "outputs": [
    {
     "name": "stdout",
     "output_type": "stream",
     "text": [
      "a          :  []\n",
      "type(a)    :  <class 'list'>\n",
      "bool value :  False\n"
     ]
    }
   ],
   "source": [
    "a = []\n",
    "print(\"a          : \", a)\n",
    "print(\"type(a)    : \", type(a))\n",
    "print(\"bool value : \", bool(a))"
   ]
  },
  {
   "cell_type": "code",
   "execution_count": 56,
   "id": "14e021fd-847a-4435-9779-12a4bca83c13",
   "metadata": {},
   "outputs": [
    {
     "name": "stdout",
     "output_type": "stream",
     "text": [
      "a          :  [1, 2, 3]\n",
      "type(a)    :  <class 'list'>\n",
      "bool value :  True\n"
     ]
    }
   ],
   "source": [
    "a = [1, 2, 3]\n",
    "print(\"a          : \", a)\n",
    "print(\"type(a)    : \", type(a))\n",
    "print(\"bool value : \", bool(a))"
   ]
  },
  {
   "cell_type": "code",
   "execution_count": 57,
   "id": "715da7d3-db38-461b-a543-c73d929d4709",
   "metadata": {},
   "outputs": [
    {
     "name": "stdout",
     "output_type": "stream",
     "text": [
      "a          :  1\n",
      "type(a)    :  <class 'int'>\n",
      "bool value :  True\n"
     ]
    }
   ],
   "source": [
    "a = (1)\n",
    "print(\"a          : \", a)\n",
    "print(\"type(a)    : \", type(a))\n",
    "print(\"bool value : \", bool(a))"
   ]
  },
  {
   "cell_type": "code",
   "execution_count": 58,
   "id": "0993243f-02ba-42b2-8dd5-59edf229c63d",
   "metadata": {},
   "outputs": [
    {
     "name": "stdout",
     "output_type": "stream",
     "text": [
      "a          :  (1,)\n",
      "type(a)    :  <class 'tuple'>\n",
      "bool value :  True\n"
     ]
    }
   ],
   "source": [
    "a = (1,)\n",
    "print(\"a          : \", a)\n",
    "print(\"type(a)    : \", type(a))\n",
    "print(\"bool value : \", bool(a))"
   ]
  },
  {
   "cell_type": "code",
   "execution_count": 59,
   "id": "e25dba34-6e5e-4904-b91c-0f38e2af6505",
   "metadata": {},
   "outputs": [
    {
     "name": "stdout",
     "output_type": "stream",
     "text": [
      "a          :  (1, 2, 3)\n",
      "type(a)    :  <class 'tuple'>\n",
      "bool value :  True\n"
     ]
    }
   ],
   "source": [
    "a = (1, 2, 3)\n",
    "print(\"a          : \", a)\n",
    "print(\"type(a)    : \", type(a))\n",
    "print(\"bool value : \", bool(a))"
   ]
  },
  {
   "cell_type": "code",
   "execution_count": 60,
   "id": "f1812002-eeeb-4c15-97ed-b239de6641dc",
   "metadata": {},
   "outputs": [
    {
     "name": "stdout",
     "output_type": "stream",
     "text": [
      "a          :  set()\n",
      "type(a)    :  <class 'set'>\n",
      "bool value :  False\n"
     ]
    }
   ],
   "source": [
    "a = set()\n",
    "print(\"a          : \", a)\n",
    "print(\"type(a)    : \", type(a))\n",
    "print(\"bool value : \", bool(a))"
   ]
  },
  {
   "cell_type": "code",
   "execution_count": 2,
   "id": "0a0905ce-1a3f-43fa-977b-aed99cd8608a",
   "metadata": {},
   "outputs": [
    {
     "name": "stdout",
     "output_type": "stream",
     "text": [
      "a          :  {1, 2, 3}\n",
      "type(a)    :  <class 'set'>\n",
      "bool value :  True\n"
     ]
    }
   ],
   "source": [
    "a = {1,2,3}\n",
    "print(\"a          : \", a)\n",
    "print(\"type(a)    : \", type(a))\n",
    "print(\"bool value : \", bool(a))"
   ]
  },
  {
   "cell_type": "code",
   "execution_count": 61,
   "id": "56bdc6f1-ce83-49a4-9342-3d64a4a603cd",
   "metadata": {},
   "outputs": [
    {
     "name": "stdout",
     "output_type": "stream",
     "text": [
      "a          :  {}\n",
      "type(a)    :  <class 'dict'>\n",
      "bool value :  False\n"
     ]
    }
   ],
   "source": [
    "a = {}\n",
    "print(\"a          : \", a)\n",
    "print(\"type(a)    : \", type(a))\n",
    "print(\"bool value : \", bool(a))"
   ]
  },
  {
   "cell_type": "code",
   "execution_count": 62,
   "id": "1fa38bf4-4d20-495e-844a-67692970b9c6",
   "metadata": {},
   "outputs": [
    {
     "name": "stdout",
     "output_type": "stream",
     "text": [
      "a          :  {'a': 10, 'b': 20}\n",
      "type(a)    :  <class 'dict'>\n",
      "bool value :  True\n"
     ]
    }
   ],
   "source": [
    "a = {\"a\": 10, \"b\": 20}\n",
    "print(\"a          : \", a)\n",
    "print(\"type(a)    : \", type(a))\n",
    "print(\"bool value : \", bool(a))"
   ]
  },
  {
   "cell_type": "markdown",
   "id": "f1761eec-a707-4366-8b51-a24727bb0bcf",
   "metadata": {},
   "source": [
    "### ***str(arg)***\n",
    "#### arg: single valued and collection data types"
   ]
  },
  {
   "cell_type": "code",
   "execution_count": 4,
   "id": "251d5db0-4551-4ce1-a24c-a5f1752ff414",
   "metadata": {},
   "outputs": [
    {
     "name": "stdout",
     "output_type": "stream",
     "text": [
      "a          :  None\n",
      "type(a)    :  <class 'NoneType'>\n",
      "str value  :  None\n",
      "str len    :  4\n"
     ]
    }
   ],
   "source": [
    "a = None\n",
    "print(\"a          : \", a)\n",
    "print(\"type(a)    : \", type(a))\n",
    "print(\"str value  : \", str(a))\n",
    "print(\"str len    : \", len(str(a)))"
   ]
  },
  {
   "cell_type": "code",
   "execution_count": 63,
   "id": "f2325f22-c4d0-4d61-93b9-9a7bd27e78ab",
   "metadata": {},
   "outputs": [
    {
     "name": "stdout",
     "output_type": "stream",
     "text": [
      "a          :  10\n",
      "type(a)    :  <class 'int'>\n",
      "str value  :  10\n",
      "str len    :  2\n"
     ]
    }
   ],
   "source": [
    "a = 10\n",
    "print(\"a          : \", a)\n",
    "print(\"type(a)    : \", type(a))\n",
    "print(\"str value  : \", str(a))\n",
    "print(\"str len    : \", len(str(a)))"
   ]
  },
  {
   "cell_type": "code",
   "execution_count": 64,
   "id": "f2bb360f-3424-4343-81c3-44a5a1f2c117",
   "metadata": {},
   "outputs": [
    {
     "name": "stdout",
     "output_type": "stream",
     "text": [
      "a          :  10.05\n",
      "type(a)    :  <class 'float'>\n",
      "str value  :  10.05\n",
      "str len    :  5\n"
     ]
    }
   ],
   "source": [
    "a = 10.05\n",
    "print(\"a          : \", a)\n",
    "print(\"type(a)    : \", type(a))\n",
    "print(\"str value  : \", str(a))\n",
    "print(\"str len    : \", len(str(a)))"
   ]
  },
  {
   "cell_type": "code",
   "execution_count": 65,
   "id": "3463b814-d443-4e0f-b2c0-b7993ec8698a",
   "metadata": {},
   "outputs": [
    {
     "name": "stdout",
     "output_type": "stream",
     "text": [
      "a          :  True\n",
      "type(a)    :  <class 'bool'>\n",
      "str value  :  True\n",
      "str len    :  4\n"
     ]
    }
   ],
   "source": [
    "a = True\n",
    "print(\"a          : \", a)\n",
    "print(\"type(a)    : \", type(a))\n",
    "print(\"str value  : \", str(a))\n",
    "print(\"str len    : \", len(str(a)))"
   ]
  },
  {
   "cell_type": "code",
   "execution_count": 66,
   "id": "d9a8b87a-5694-46fd-9098-70dc6bed2892",
   "metadata": {},
   "outputs": [
    {
     "name": "stdout",
     "output_type": "stream",
     "text": [
      "a          :  False\n",
      "type(a)    :  <class 'bool'>\n",
      "str value  :  False\n",
      "str len    :  5\n"
     ]
    }
   ],
   "source": [
    "a = False\n",
    "print(\"a          : \", a)\n",
    "print(\"type(a)    : \", type(a))\n",
    "print(\"str value  : \", str(a))\n",
    "print(\"str len    : \", len(str(a)))"
   ]
  },
  {
   "cell_type": "code",
   "execution_count": 67,
   "id": "c30ac84d-027e-45ea-8475-563d2f7fd002",
   "metadata": {},
   "outputs": [
    {
     "name": "stdout",
     "output_type": "stream",
     "text": [
      "a          :  (3+4j)\n",
      "type(a)    :  <class 'complex'>\n",
      "str value  :  (3+4j)\n",
      "str len    :  6\n"
     ]
    }
   ],
   "source": [
    "a = 3+4j\n",
    "print(\"a          : \", a)\n",
    "print(\"type(a)    : \", type(a))\n",
    "print(\"str value  : \", str(a))\n",
    "print(\"str len    : \", len(str(a)))"
   ]
  },
  {
   "cell_type": "code",
   "execution_count": 68,
   "id": "87054a28-b248-439b-a567-4a9a6501c16c",
   "metadata": {},
   "outputs": [
    {
     "name": "stdout",
     "output_type": "stream",
     "text": [
      "a          :  0j\n",
      "type(a)    :  <class 'complex'>\n",
      "str value  :  0j\n",
      "str len    :  2\n"
     ]
    }
   ],
   "source": [
    "a = 0j\n",
    "print(\"a          : \", a)\n",
    "print(\"type(a)    : \", type(a))\n",
    "print(\"str value  : \", str(a))\n",
    "print(\"str len    : \", len(str(a)))"
   ]
  },
  {
   "cell_type": "code",
   "execution_count": 71,
   "id": "90d8b13b-0b65-471f-85ea-fdf0accbea48",
   "metadata": {},
   "outputs": [
    {
     "name": "stdout",
     "output_type": "stream",
     "text": [
      "a          :  [11, 12, 13]\n",
      "type(a)    :  <class 'list'>\n",
      "str value  :  [11, 12, 13]\n",
      "str len    :  12\n"
     ]
    }
   ],
   "source": [
    "a = [11, 12, 13]\n",
    "print(\"a          : \", a)\n",
    "print(\"type(a)    : \", type(a))\n",
    "print(\"str value  : \", str(a))\n",
    "print(\"str len    : \", len(str(a)))"
   ]
  },
  {
   "cell_type": "code",
   "execution_count": 72,
   "id": "c7b5230e-c1ef-4b28-af61-c3f8fd8803bb",
   "metadata": {},
   "outputs": [
    {
     "name": "stdout",
     "output_type": "stream",
     "text": [
      "a          :  (11, 12, 13)\n",
      "type(a)    :  <class 'tuple'>\n",
      "str value  :  (11, 12, 13)\n",
      "str len    :  12\n"
     ]
    }
   ],
   "source": [
    "a = (11, 12, 13)\n",
    "print(\"a          : \", a)\n",
    "print(\"type(a)    : \", type(a))\n",
    "print(\"str value  : \", str(a))\n",
    "print(\"str len    : \", len(str(a)))"
   ]
  },
  {
   "cell_type": "code",
   "execution_count": 73,
   "id": "28ac0853-0867-4e04-ab16-ec4284c0af20",
   "metadata": {},
   "outputs": [
    {
     "name": "stdout",
     "output_type": "stream",
     "text": [
      "a          :  {11, 12, 13}\n",
      "type(a)    :  <class 'set'>\n",
      "str value  :  {11, 12, 13}\n",
      "str len    :  12\n"
     ]
    }
   ],
   "source": [
    "a = {11, 12, 13}\n",
    "print(\"a          : \", a)\n",
    "print(\"type(a)    : \", type(a))\n",
    "print(\"str value  : \", str(a))\n",
    "print(\"str len    : \", len(str(a)))"
   ]
  },
  {
   "cell_type": "code",
   "execution_count": 74,
   "id": "c8d730e4-d05c-4e38-99ee-4ebea0d8471b",
   "metadata": {},
   "outputs": [
    {
     "name": "stdout",
     "output_type": "stream",
     "text": [
      "a          :  {'a': 10, 'b': 20}\n",
      "type(a)    :  <class 'dict'>\n",
      "str value  :  {'a': 10, 'b': 20}\n",
      "str len    :  18\n"
     ]
    }
   ],
   "source": [
    "a = {'a': 10, 'b': 20}\n",
    "print(\"a          : \", a)\n",
    "print(\"type(a)    : \", type(a))\n",
    "print(\"str value  : \", str(a))\n",
    "print(\"str len    : \", len(str(a)))"
   ]
  },
  {
   "cell_type": "markdown",
   "id": "276aefd9-e400-4d8c-8161-352f5bcc91dc",
   "metadata": {},
   "source": [
    "### ***list(arg)***\n",
    "#### arg: string, tuple, set, dictionary"
   ]
  },
  {
   "cell_type": "code",
   "execution_count": 77,
   "id": "ee691d2e-5413-49f1-ae0c-1264d6c1c0cd",
   "metadata": {},
   "outputs": [
    {
     "name": "stdout",
     "output_type": "stream",
     "text": [
      "a           :  python\n",
      "type(a)     :  <class 'str'>\n",
      "list value  :  ['p', 'y', 't', 'h', 'o', 'n']\n",
      "list length :  6\n"
     ]
    }
   ],
   "source": [
    "a = \"python\"\n",
    "print(\"a           : \", a)\n",
    "print(\"type(a)     : \", type(a))\n",
    "print(\"list value  : \", list(a))\n",
    "print(\"list length : \", len(list(a)))"
   ]
  },
  {
   "cell_type": "code",
   "execution_count": 78,
   "id": "dad43d8f-7be3-439a-ba43-a7c8b669f245",
   "metadata": {},
   "outputs": [
    {
     "name": "stdout",
     "output_type": "stream",
     "text": [
      "a           :  (11, 12, 13)\n",
      "type(a)     :  <class 'tuple'>\n",
      "list value  :  [11, 12, 13]\n",
      "list length :  3\n"
     ]
    }
   ],
   "source": [
    "a = (11, 12, 13)\n",
    "print(\"a           : \", a)\n",
    "print(\"type(a)     : \", type(a))\n",
    "print(\"list value  : \", list(a))\n",
    "print(\"list length : \", len(list(a)))"
   ]
  },
  {
   "cell_type": "code",
   "execution_count": 79,
   "id": "e0675c20-19d0-4c7f-8eb9-4bb24d1ddad6",
   "metadata": {},
   "outputs": [
    {
     "name": "stdout",
     "output_type": "stream",
     "text": [
      "a           :  {24, True, 12, 15}\n",
      "type(a)     :  <class 'set'>\n",
      "list value  :  [24, True, 12, 15]\n",
      "list length :  4\n"
     ]
    }
   ],
   "source": [
    "a = {True, 24, 12, 24, 1, 15}\n",
    "print(\"a           : \", a)\n",
    "print(\"type(a)     : \", type(a))\n",
    "print(\"list value  : \", list(a))\n",
    "print(\"list length : \", len(list(a)))"
   ]
  },
  {
   "cell_type": "code",
   "execution_count": 80,
   "id": "7b812551-e98f-4b19-b5e0-2870a9ef7a3d",
   "metadata": {},
   "outputs": [
    {
     "name": "stdout",
     "output_type": "stream",
     "text": [
      "a           :  {'a': 10, 'b': 20, 'c': 30}\n",
      "type(a)     :  <class 'dict'>\n",
      "list value  :  ['a', 'b', 'c']\n",
      "list length :  3\n"
     ]
    }
   ],
   "source": [
    "a = {'a': 10, 'b': 20, 'c': 30}\n",
    "print(\"a           : \", a)\n",
    "print(\"type(a)     : \", type(a))\n",
    "print(\"list value  : \", list(a))\n",
    "print(\"list length : \", len(list(a)))"
   ]
  },
  {
   "cell_type": "markdown",
   "id": "005ea187-0a8b-4bd2-829f-11d36da69bb5",
   "metadata": {},
   "source": [
    "### ***tuple(arg)***\n",
    "#### arg: string, list, set, dictionary"
   ]
  },
  {
   "cell_type": "code",
   "execution_count": 82,
   "id": "e3fd427f-3876-4ef8-b5a4-75ff4a75e7df",
   "metadata": {},
   "outputs": [
    {
     "name": "stdout",
     "output_type": "stream",
     "text": [
      "a           :  python\n",
      "type(a)     :  <class 'str'>\n",
      "tuple value  :  ('p', 'y', 't', 'h', 'o', 'n')\n",
      "tuple length :  6\n"
     ]
    }
   ],
   "source": [
    "a = \"python\"\n",
    "print(\"a           : \", a)\n",
    "print(\"type(a)     : \", type(a))\n",
    "print(\"tuple value  : \", tuple(a))\n",
    "print(\"tuple length : \", len(tuple(a)))"
   ]
  },
  {
   "cell_type": "code",
   "execution_count": 83,
   "id": "b09277b1-8171-4def-86a2-6a4da33c3929",
   "metadata": {},
   "outputs": [
    {
     "name": "stdout",
     "output_type": "stream",
     "text": [
      "a           :  [10, 20, 30]\n",
      "type(a)     :  <class 'list'>\n",
      "tuple value  :  (10, 20, 30)\n",
      "tuple length :  3\n"
     ]
    }
   ],
   "source": [
    "a = [10, 20, 30]\n",
    "print(\"a           : \", a)\n",
    "print(\"type(a)     : \", type(a))\n",
    "print(\"tuple value  : \", tuple(a))\n",
    "print(\"tuple length : \", len(tuple(a)))"
   ]
  },
  {
   "cell_type": "code",
   "execution_count": 84,
   "id": "dd42e93a-c05b-42ed-9321-7d3e451fbb86",
   "metadata": {},
   "outputs": [
    {
     "name": "stdout",
     "output_type": "stream",
     "text": [
      "a           :  {False, True, 24, 12, 15}\n",
      "type(a)     :  <class 'set'>\n",
      "tuple value  :  (False, True, 24, 12, 15)\n",
      "tuple length :  5\n"
     ]
    }
   ],
   "source": [
    "a = {True, 1, 1.0, False, 0, 0.0, 12, 24, 15}\n",
    "print(\"a           : \", a)\n",
    "print(\"type(a)     : \", type(a))\n",
    "print(\"tuple value  : \", tuple(a))\n",
    "print(\"tuple length : \", len(tuple(a)))"
   ]
  },
  {
   "cell_type": "code",
   "execution_count": 85,
   "id": "be9cad49-9d59-4dca-aa61-04350dd7ee6d",
   "metadata": {},
   "outputs": [
    {
     "name": "stdout",
     "output_type": "stream",
     "text": [
      "a           :  {'a': 10, 'b': 20, 'c': 30}\n",
      "type(a)     :  <class 'dict'>\n",
      "tuple value  :  ('a', 'b', 'c')\n",
      "tuple length :  3\n"
     ]
    }
   ],
   "source": [
    "a = {'a': 10, 'b': 20, 'c': 30}\n",
    "print(\"a           : \", a)\n",
    "print(\"type(a)     : \", type(a))\n",
    "print(\"tuple value  : \", tuple(a))\n",
    "print(\"tuple length : \", len(tuple(a)))"
   ]
  },
  {
   "cell_type": "markdown",
   "id": "eafa4e4d-c867-46a6-8889-1d9255bb294a",
   "metadata": {},
   "source": [
    "### ***set(arg)***\n",
    "#### arg: string, list, tuple, dictionary"
   ]
  },
  {
   "cell_type": "code",
   "execution_count": 86,
   "id": "e6bf2800-0cda-468c-9854-e7e3ef8eb571",
   "metadata": {},
   "outputs": [
    {
     "name": "stdout",
     "output_type": "stream",
     "text": [
      "a           :  python\n",
      "type(a)     :  <class 'str'>\n",
      "set value   :  {'n', 'p', 't', 'y', 'h', 'o'}\n",
      "set length  :  6\n"
     ]
    }
   ],
   "source": [
    "a = \"python\"\n",
    "print(\"a           : \", a)\n",
    "print(\"type(a)     : \", type(a))\n",
    "print(\"set value   : \", set(a))\n",
    "print(\"set length  : \", len(set(a)))"
   ]
  },
  {
   "cell_type": "code",
   "execution_count": 87,
   "id": "cbf8b583-a987-4c9b-a47c-8090b11e273c",
   "metadata": {},
   "outputs": [
    {
     "name": "stdout",
     "output_type": "stream",
     "text": [
      "a           :  malayalam\n",
      "type(a)     :  <class 'str'>\n",
      "set value   :  {'m', 'y', 'a', 'l'}\n",
      "set length  :  4\n"
     ]
    }
   ],
   "source": [
    "a = \"malayalam\"\n",
    "print(\"a           : \", a)\n",
    "print(\"type(a)     : \", type(a))\n",
    "print(\"set value   : \", set(a))\n",
    "print(\"set length  : \", len(set(a)))"
   ]
  },
  {
   "cell_type": "code",
   "execution_count": 88,
   "id": "62068e76-d309-4d2f-beb4-4ebb58340b82",
   "metadata": {},
   "outputs": [
    {
     "name": "stdout",
     "output_type": "stream",
     "text": [
      "a           :  [11, 12, 13, 11, 12]\n",
      "type(a)     :  <class 'list'>\n",
      "set value   :  {11, 12, 13}\n",
      "set length  :  3\n"
     ]
    }
   ],
   "source": [
    "a = [11, 12, 13, 11, 12]\n",
    "print(\"a           : \", a)\n",
    "print(\"type(a)     : \", type(a))\n",
    "print(\"set value   : \", set(a))\n",
    "print(\"set length  : \", len(set(a)))"
   ]
  },
  {
   "cell_type": "code",
   "execution_count": 92,
   "id": "1fcdc8fe-b6c7-458c-81ab-8753b04f3f6f",
   "metadata": {},
   "outputs": [
    {
     "name": "stdout",
     "output_type": "stream",
     "text": [
      "a           :  [11, 12, 13, [11, 12]]\n",
      "type(a)     :  <class 'list'>\n"
     ]
    },
    {
     "ename": "TypeError",
     "evalue": "unhashable type: 'list'",
     "output_type": "error",
     "traceback": [
      "\u001b[1;31m---------------------------------------------------------------------------\u001b[0m",
      "\u001b[1;31mTypeError\u001b[0m                                 Traceback (most recent call last)",
      "Cell \u001b[1;32mIn[92], line 4\u001b[0m\n\u001b[0;32m      2\u001b[0m \u001b[38;5;28mprint\u001b[39m(\u001b[38;5;124m\"\u001b[39m\u001b[38;5;124ma           : \u001b[39m\u001b[38;5;124m\"\u001b[39m, a)\n\u001b[0;32m      3\u001b[0m \u001b[38;5;28mprint\u001b[39m(\u001b[38;5;124m\"\u001b[39m\u001b[38;5;124mtype(a)     : \u001b[39m\u001b[38;5;124m\"\u001b[39m, \u001b[38;5;28mtype\u001b[39m(a))\n\u001b[1;32m----> 4\u001b[0m \u001b[38;5;28mprint\u001b[39m(\u001b[38;5;124m\"\u001b[39m\u001b[38;5;124mset value   : \u001b[39m\u001b[38;5;124m\"\u001b[39m, \u001b[38;5;28mset\u001b[39m(a))\u001b[38;5;66;03m# not allows mutable datatypes of list\u001b[39;00m\n\u001b[0;32m      5\u001b[0m \u001b[38;5;28mprint\u001b[39m(\u001b[38;5;124m\"\u001b[39m\u001b[38;5;124mset length  : \u001b[39m\u001b[38;5;124m\"\u001b[39m, \u001b[38;5;28mlen\u001b[39m(\u001b[38;5;28mset\u001b[39m(a)))\n",
      "\u001b[1;31mTypeError\u001b[0m: unhashable type: 'list'"
     ]
    }
   ],
   "source": [
    "a = [11, 12, 13, [11, 12]]\n",
    "print(\"a           : \", a)\n",
    "print(\"type(a)     : \", type(a))\n",
    "print(\"set value   : \", set(a))# not allows mutable datatypes inside list\n",
    "print(\"set length  : \", len(set(a)))"
   ]
  },
  {
   "cell_type": "code",
   "execution_count": 94,
   "id": "efde7b65-c474-4f3e-ae2c-6cec85eace95",
   "metadata": {},
   "outputs": [
    {
     "name": "stdout",
     "output_type": "stream",
     "text": [
      "a           :  [11, 12, 13, (11, 12)]\n",
      "type(a)     :  <class 'list'>\n",
      "set value   :  {(11, 12), 11, 12, 13}\n",
      "set length  :  4\n"
     ]
    }
   ],
   "source": [
    "a = [11, 12, 13, (11, 12)]\n",
    "print(\"a           : \", a)\n",
    "print(\"type(a)     : \", type(a))\n",
    "print(\"set value   : \", set(a))# allows immutable datatypes inside list\n",
    "print(\"set length  : \", len(set(a)))"
   ]
  },
  {
   "cell_type": "code",
   "execution_count": 95,
   "id": "9ebb36ed-d9e2-4247-aa29-312cd8e62edd",
   "metadata": {},
   "outputs": [
    {
     "name": "stdout",
     "output_type": "stream",
     "text": [
      "a           :  (11, 12, 13, 11, 12)\n",
      "type(a)     :  <class 'tuple'>\n",
      "set value   :  {11, 12, 13}\n",
      "set length  :  3\n"
     ]
    }
   ],
   "source": [
    "a = (11, 12, 13, 11, 12)\n",
    "print(\"a           : \", a)\n",
    "print(\"type(a)     : \", type(a))\n",
    "print(\"set value   : \", set(a))\n",
    "print(\"set length  : \", len(set(a)))"
   ]
  },
  {
   "cell_type": "markdown",
   "id": "f94465b9-a08d-4c63-97c1-ac4670819b5f",
   "metadata": {},
   "source": [
    "### ***dict(arg)***\n",
    "#### arg: \n",
    "#### - list of tuples [(),()],\n",
    "#### - list of lists [[],[]],\n",
    "#### - tuple of tuples ((),()),\n",
    "#### - tuple of lists ([],[])\n",
    "#### - Each element of list or tuple should have length 2"
   ]
  },
  {
   "cell_type": "code",
   "execution_count": 96,
   "id": "e775d5ec-fae8-43fc-9cb1-78d65b18eb66",
   "metadata": {},
   "outputs": [
    {
     "name": "stdout",
     "output_type": "stream",
     "text": [
      "a           :  [('a', 'b'), ('a', 'c'), 'be', [10, 20]]\n",
      "type(a)     :  <class 'list'>\n",
      "set value   :  {'a': 'c', 'b': 'e', 10: 20}\n",
      "set length  :  3\n"
     ]
    }
   ],
   "source": [
    "a = [('a', 'b'), ('a', 'c'), 'be',[10, 20]]\n",
    "print(\"a           : \", a)\n",
    "print(\"type(a)     : \", type(a))\n",
    "print(\"set value   : \", dict(a))\n",
    "print(\"set length  : \", len(dict(a)))"
   ]
  },
  {
   "cell_type": "code",
   "execution_count": 97,
   "id": "0194a9e7-1484-47e2-abf9-722745f5090f",
   "metadata": {},
   "outputs": [
    {
     "name": "stdout",
     "output_type": "stream",
     "text": [
      "a           :  [('name', 'robert'), ('age', 25), ('position', 'AI Engineer')]\n",
      "type(a)     :  <class 'list'>\n",
      "set value   :  {'name': 'robert', 'age': 25, 'position': 'AI Engineer'}\n",
      "set length  :  3\n"
     ]
    }
   ],
   "source": [
    "a = [('name', 'robert'), ('age', 25), ('position', 'AI Engineer')]\n",
    "print(\"a           : \", a)\n",
    "print(\"type(a)     : \", type(a))\n",
    "print(\"set value   : \", dict(a))\n",
    "print(\"set length  : \", len(dict(a)))"
   ]
  },
  {
   "cell_type": "code",
   "execution_count": 99,
   "id": "7a8da512-cea1-442c-9136-e2789eeb9867",
   "metadata": {},
   "outputs": [
    {
     "name": "stdout",
     "output_type": "stream",
     "text": [
      "a           :  [['name', 'robert'], ['age', 25], ['position', 'AI Engineer']]\n",
      "type(a)     :  <class 'list'>\n",
      "set value   :  {'name': 'robert', 'age': 25, 'position': 'AI Engineer'}\n",
      "set length  :  3\n"
     ]
    }
   ],
   "source": [
    "a = [['name', 'robert'], ['age', 25], ['position', 'AI Engineer']]\n",
    "print(\"a           : \", a)\n",
    "print(\"type(a)     : \", type(a))\n",
    "print(\"set value   : \", dict(a))\n",
    "print(\"set length  : \", len(dict(a)))"
   ]
  },
  {
   "cell_type": "code",
   "execution_count": 98,
   "id": "a217dd0a-00dd-45c0-a772-b20ad0d50e10",
   "metadata": {},
   "outputs": [
    {
     "name": "stdout",
     "output_type": "stream",
     "text": [
      "a           :  (('name', 'robert'), ('age', 25), ('position', 'AI Engineer'))\n",
      "type(a)     :  <class 'tuple'>\n",
      "set value   :  {'name': 'robert', 'age': 25, 'position': 'AI Engineer'}\n",
      "set length  :  3\n"
     ]
    }
   ],
   "source": [
    "a = (('name', 'robert'), ('age', 25), ('position', 'AI Engineer'))\n",
    "print(\"a           : \", a)\n",
    "print(\"type(a)     : \", type(a))\n",
    "print(\"set value   : \", dict(a))\n",
    "print(\"set length  : \", len(dict(a)))"
   ]
  },
  {
   "cell_type": "code",
   "execution_count": 100,
   "id": "ad1d707a-ba63-4ed3-8d33-e08df766f50d",
   "metadata": {},
   "outputs": [
    {
     "name": "stdout",
     "output_type": "stream",
     "text": [
      "a           :  (['name', 'robert'], ['age', 25], ['position', 'AI Engineer'])\n",
      "type(a)     :  <class 'tuple'>\n",
      "set value   :  {'name': 'robert', 'age': 25, 'position': 'AI Engineer'}\n",
      "set length  :  3\n"
     ]
    }
   ],
   "source": [
    "a = (['name', 'robert'], ['age', 25], ['position', 'AI Engineer'])\n",
    "print(\"a           : \", a)\n",
    "print(\"type(a)     : \", type(a))\n",
    "print(\"set value   : \", dict(a))\n",
    "print(\"set length  : \", len(dict(a)))"
   ]
  },
  {
   "cell_type": "code",
   "execution_count": null,
   "id": "818e2046-bc06-4666-bf9c-39d4d0178f14",
   "metadata": {},
   "outputs": [],
   "source": []
  }
 ],
 "metadata": {
  "kernelspec": {
   "display_name": "Python 3 (ipykernel)",
   "language": "python",
   "name": "python3"
  },
  "language_info": {
   "codemirror_mode": {
    "name": "ipython",
    "version": 3
   },
   "file_extension": ".py",
   "mimetype": "text/x-python",
   "name": "python",
   "nbconvert_exporter": "python",
   "pygments_lexer": "ipython3",
   "version": "3.11.7"
  }
 },
 "nbformat": 4,
 "nbformat_minor": 5
}
