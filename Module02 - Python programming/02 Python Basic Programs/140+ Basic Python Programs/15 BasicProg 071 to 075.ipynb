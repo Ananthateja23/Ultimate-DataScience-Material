{
 "cells": [
  {
   "cell_type": "markdown",
   "id": "cfb70e52-d4da-47c4-a1d2-96fbbe5a34c5",
   "metadata": {},
   "source": [
    "### ***71 WAP to insertion at the beginning in OrderedDict***"
   ]
  },
  {
   "cell_type": "code",
   "execution_count": 1,
   "id": "b8087c3d-2cea-4115-82ed-f1898be66ce6",
   "metadata": {},
   "outputs": [
    {
     "name": "stdout",
     "output_type": "stream",
     "text": [
      "Updated OrderedDict : OrderedDict([('a', 1), ('b', 2), ('c', 3), ('d', 4)])\n"
     ]
    }
   ],
   "source": [
    "from collections import OrderedDict\n",
    "\n",
    "ordered_dict = OrderedDict([('b', 2), ('c', 3), ('d', 4)])\n",
    "\n",
    "new_item = ('a', 1)\n",
    "\n",
    "new_ordered_dict = OrderedDict([new_item])\n",
    "\n",
    "new_ordered_dict.update(ordered_dict)\n",
    "\n",
    "print(\"Updated OrderedDict : {}\".format(new_ordered_dict))"
   ]
  },
  {
   "cell_type": "markdown",
   "id": "343fe155-5123-4496-9879-be6eec5fbae4",
   "metadata": {},
   "source": [
    "### ***72 WAP to check order of character in string using OrderedDict()***"
   ]
  },
  {
   "cell_type": "code",
   "execution_count": 3,
   "id": "c8cd7b22-f9a1-4f46-b281-7fa27bb02396",
   "metadata": {},
   "outputs": [
    {
     "name": "stdout",
     "output_type": "stream",
     "text": [
      "The order of characters in the input string matches the reference string\n"
     ]
    }
   ],
   "source": [
    "from collections import OrderedDict\n",
    "\n",
    "def check_order(string, reference):\n",
    "    string_dict = OrderedDict.fromkeys(string)\n",
    "    reference_dict = OrderedDict.fromkeys(reference)\n",
    "    return string_dict == reference_dict\n",
    "\n",
    "\n",
    "input_string = \"hello world\"\n",
    "reference_string = \"helo wrd\"\n",
    "\n",
    "if check_order(input_string, reference_string):\n",
    "    print(\"The order of characters in the input string matches the reference string\")\n",
    "else:\n",
    "    print(\"The order of characters in the input string does not matches the reference string\")"
   ]
  },
  {
   "cell_type": "markdown",
   "id": "480d8b7b-c15d-424c-ad36-75fd4f6875e8",
   "metadata": {},
   "source": [
    "### ***73 WAP to sort python dictionaries by key or value***"
   ]
  },
  {
   "cell_type": "code",
   "execution_count": 4,
   "id": "3e034eb4-eb9a-45f2-83e2-9625271d11e0",
   "metadata": {},
   "outputs": [
    {
     "name": "stdout",
     "output_type": "stream",
     "text": [
      "Sorted by keys : \n",
      "apple : 3\n",
      "banana : 1\n",
      "cherry : 2\n",
      "date : 4\n"
     ]
    }
   ],
   "source": [
    "sample_dict = {'apple': 3, 'banana': 1, 'cherry': 2, 'date': 4}\n",
    "\n",
    "sorted_dict_by_keys = dict(sorted(sample_dict.items()))\n",
    "\n",
    "print(\"Sorted by keys : \")\n",
    "\n",
    "for key, value  in sorted_dict_by_keys.items():\n",
    "    print(f\"{key} : {value}\")"
   ]
  },
  {
   "cell_type": "code",
   "execution_count": 5,
   "id": "885f3035-9bf4-4cdb-862a-578e84f957d3",
   "metadata": {},
   "outputs": [
    {
     "name": "stdout",
     "output_type": "stream",
     "text": [
      "Sorted by values : \n",
      "banana = 1\n",
      "cherry = 2\n",
      "apple = 3\n",
      "date = 4\n"
     ]
    }
   ],
   "source": [
    "sample_dict = {\"apple\": 3, \"banana\": 1, \"cherry\": 2, \"date\": 4}\n",
    "\n",
    "sorted_dict_by_values = dict(sorted(sample_dict.items(), key = lambda item: item[1]))\n",
    "\n",
    "print(\"Sorted by values : \")\n",
    "\n",
    "for key, value in sorted_dict_by_values.items():\n",
    "    print(f\"{key} = {value}\")"
   ]
  },
  {
   "cell_type": "markdown",
   "id": "10fab39b-0efb-41ff-8a02-64b81ca9ec9d",
   "metadata": {},
   "source": [
    "### ***74 WAP that calculates and prints the value according to the given formula***\n",
    "\n",
    "```\n",
    "\n",
    "Q = Square root of (2*C*D)/H\n",
    "\n",
    "Following are the fixed values of C and H:\n",
    "\n",
    "C is 50 and H is 30\n",
    "\n",
    "==> D is the variable whose values should be input to your program in a comma seperated sequence\n",
    "\n",
    "Example:\n",
    "\n",
    "Let us assume the following comma seperated input sequence is given to the program:\n",
    "\n",
    "100, 150, 180\n",
    "\n",
    "The output of the program should be:\n",
    "\n",
    "18, 22, 24\n",
    "```"
   ]
  },
  {
   "cell_type": "code",
   "execution_count": 7,
   "id": "2adcbe8d-9af6-41ae-8299-44d1fc40f603",
   "metadata": {},
   "outputs": [
    {
     "name": "stdin",
     "output_type": "stream",
     "text": [
      "Enter comma seperated values of D :  100,150,180\n"
     ]
    },
    {
     "name": "stdout",
     "output_type": "stream",
     "text": [
      "18,22,24\n"
     ]
    }
   ],
   "source": [
    "import math\n",
    "\n",
    "C, H = 50, 30\n",
    "\n",
    "def calculate_Q(D):\n",
    "    return int(math.sqrt((2 * C * D) / H))\n",
    "\n",
    "input_sequence = input(\"Enter comma seperated values of D : \")\n",
    "D_values = input_sequence.split(\",\")\n",
    "\n",
    "\n",
    "result = [calculate_Q(int(D)) for D in D_values]\n",
    "print(\",\".join(map(str, result)))"
   ]
  },
  {
   "cell_type": "markdown",
   "id": "cdb7a691-d244-46a4-8bb3-0e0c6bf7df9c",
   "metadata": {},
   "source": [
    "### ***75 WAP which takes 2 digits X,Y as input and generates a 2-dimensional array***\n",
    "```\n",
    "==> The element value in the i-th row and j-th column of the array should be i*j\n",
    "\n",
    "Note: \n",
    "\n",
    "i --> 0, 1, 2 .... X-1\n",
    "\n",
    "j --> 0, 1, 2 .... Y-1\n",
    "\n",
    "Example:\n",
    "\n",
    "suppose the following inputs are given to the program\n",
    "\n",
    "3, 5\n",
    "\n",
    "Then the output of the program should be:\n",
    "\n",
    "[[0, 0, 0, 0, 0], [0, 1, 2, 3, 4], [0, 2, 4, 6, 8]]\n",
    "\n",
    "```"
   ]
  },
  {
   "cell_type": "code",
   "execution_count": 11,
   "id": "cd3e4704-d661-432a-9fc6-f0083d5abd5d",
   "metadata": {},
   "outputs": [
    {
     "name": "stdin",
     "output_type": "stream",
     "text": [
      "Enter two digits (X, Y):  3,5\n"
     ]
    },
    {
     "name": "stdout",
     "output_type": "stream",
     "text": [
      "[0, 0, 0, 0, 0]\n",
      "[0, 1, 2, 3, 4]\n",
      "[0, 2, 4, 6, 8]\n"
     ]
    }
   ],
   "source": [
    "X, Y = map(int, input(\"Enter two digits (X, Y): \").split(\",\"))\n",
    "\n",
    "\n",
    "array = [[0 for j in range(Y)] for i in range(X)]\n",
    "\n",
    "for i in range(X):\n",
    "    for j in range(Y):\n",
    "        array[i][j] = i * j\n",
    "\n",
    "for row in array:\n",
    "    print(row)"
   ]
  },
  {
   "cell_type": "code",
   "execution_count": null,
   "id": "911a7a92-f672-4a15-8477-e337e6288c18",
   "metadata": {},
   "outputs": [],
   "source": []
  }
 ],
 "metadata": {
  "kernelspec": {
   "display_name": "Python 3 (ipykernel)",
   "language": "python",
   "name": "python3"
  },
  "language_info": {
   "codemirror_mode": {
    "name": "ipython",
    "version": 3
   },
   "file_extension": ".py",
   "mimetype": "text/x-python",
   "name": "python",
   "nbconvert_exporter": "python",
   "pygments_lexer": "ipython3",
   "version": "3.11.7"
  }
 },
 "nbformat": 4,
 "nbformat_minor": 5
}
