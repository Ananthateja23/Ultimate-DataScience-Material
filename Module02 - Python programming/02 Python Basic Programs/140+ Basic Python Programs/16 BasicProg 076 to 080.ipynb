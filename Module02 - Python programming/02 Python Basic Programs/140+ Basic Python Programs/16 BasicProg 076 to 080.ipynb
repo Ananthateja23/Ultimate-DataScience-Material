{
 "cells": [
  {
   "cell_type": "markdown",
   "id": "6466460b-cbcf-4f7d-ac95-0306e85ab191",
   "metadata": {},
   "source": [
    "### ***76 WAP that accepts a comma seperated sequence of words as input and prints the words in a comma seperated sequence after sorting them alphabetically***\n",
    "```\n",
    "Suppose the following input is supplied to the program:\n",
    "\n",
    "==> without, hello, bag, world\n",
    "\n",
    "Then, the output should be:\n",
    "\n",
    "==> beg, hello, without, world\n",
    "\n",
    "```"
   ]
  },
  {
   "cell_type": "code",
   "execution_count": 1,
   "id": "9333e991-7607-4a9f-ba87-aefa716ef352",
   "metadata": {},
   "outputs": [
    {
     "name": "stdout",
     "output_type": "stream",
     "text": [
      "Enter a comma-seperated sequence of words:  without, hello, bag, world\n"
     ]
    },
    {
     "name": "stdout",
     "output_type": "stream",
     "text": [
      "Sorted Words:   bag, hello, world,without\n"
     ]
    }
   ],
   "source": [
    "input_sequence = input(\"Enter a comma-seperated sequence of words: \")\n",
    "\n",
    "words = input_sequence.split(\",\")\n",
    "\n",
    "sorted_words = sorted(words)\n",
    "\n",
    "sorted_sequence = \",\".join(sorted_words)\n",
    "\n",
    "print(\"Sorted Words: \", sorted_sequence)"
   ]
  },
  {
   "cell_type": "markdown",
   "id": "52ce4ad4-3c97-4597-87a9-74bd7a6b1b13",
   "metadata": {},
   "source": [
    "### ***77 WAP that accepts a sequence of whitespace seperated words as input and prints the words after removing all duplicate words and sorting them alphanumerically***\n",
    "\n",
    "```\n",
    "Suppose the following input is supplied to the program:\n",
    "\n",
    "==> hello world and practice makes perfect and hello world again\n",
    "\n",
    "The, the output should be:\n",
    "\n",
    "==> again and hello makes perfect practice world\n",
    "```"
   ]
  },
  {
   "cell_type": "code",
   "execution_count": 2,
   "id": "4017e1e7-7d2f-4754-9a35-a0928104c15f",
   "metadata": {},
   "outputs": [
    {
     "name": "stdout",
     "output_type": "stream",
     "text": [
      "Enter a whitespace seperated sequence of words:  hello world and practice makes perfect and hello world again\n"
     ]
    },
    {
     "name": "stdout",
     "output_type": "stream",
     "text": [
      "Sorted words after removal of duplicates :  again and hello makes perfect practice world\n"
     ]
    }
   ],
   "source": [
    "input_sequence = input(\"Enter a whitespace seperated sequence of words: \")\n",
    "\n",
    "words = set(input_sequence.split())\n",
    "\n",
    "sorted_words = sorted(words)\n",
    "\n",
    "sorted_sequence = \" \".join(sorted_words)\n",
    "\n",
    "print(\"Sorted words after removal of duplicates : \", sorted_sequence)"
   ]
  },
  {
   "cell_type": "markdown",
   "id": "fddf9ed9-3b51-46b5-90a1-ef382915c58e",
   "metadata": {},
   "source": [
    "### ***79 WAP that accepts a sentence and calculate the number of letters and digits***\n",
    "```\n",
    "Suppose the following input is supplied to the program:\n",
    "\n",
    "==> hello world! 123\n",
    "\n",
    "Then, the output should be\n",
    "\n",
    "==> LETTERS = 10\n",
    "\n",
    "==> DIGITS  = 3\n",
    "\n",
    "```"
   ]
  },
  {
   "cell_type": "code",
   "execution_count": 3,
   "id": "c78dd970-6b4b-48a7-8175-0eafe01cf847",
   "metadata": {},
   "outputs": [
    {
     "name": "stdout",
     "output_type": "stream",
     "text": [
      "Enter a sentence:  hello world! 123\n"
     ]
    },
    {
     "name": "stdout",
     "output_type": "stream",
     "text": [
      "LETTERS : 10\n",
      "DIGITS  : 3\n"
     ]
    }
   ],
   "source": [
    "sentence = input(\"Enter a sentence: \")\n",
    "\n",
    "letter_count = 0\n",
    "digit_count = 0\n",
    "\n",
    "for char in sentence:\n",
    "    if ('a' <= char <= 'z') or ('A' <= char <= 'Z'):\n",
    "        letter_count += 1\n",
    "    elif ('0' <= char <= '9'):\n",
    "        digit_count += 1\n",
    "\n",
    "print(\"LETTERS : {}\".format(letter_count))\n",
    "print(\"DIGITS  : {}\".format(digit_count))"
   ]
  },
  {
   "cell_type": "markdown",
   "id": "897776fe-4fb6-4ce4-802b-b6d1b23170f4",
   "metadata": {},
   "source": [
    "### ***80 A Website requires the users to input username and password to register. WAP to check the validity of password input by users.***\n",
    "```\n",
    "Following are the criteria for checking the password:\n",
    "\n",
    "(1) Atleast 1 letter between a to z\n",
    "\n",
    "(2) Atleast 1 number between 0 to 9\n",
    "\n",
    "(3) Atleast 1 letter between A to Z\n",
    "\n",
    "(4) Atleast 1 character from $, #, @\n",
    "\n",
    "(5) Minimum length of transaction password : 6\n",
    "\n",
    "(6) Maximum length of transaction password : 12\n",
    "\n",
    "\n",
    "Your program should accept a sequence of comma seperated passwords and will check them according to the above criteria. \n",
    "Passwords that match the criteria are to be printed, each seperated by a comma\n",
    "\n",
    "Example\n",
    "\n",
    "If the following passwords are given as input to the program:\n",
    "\n",
    "==> ABd1234@1,a F1#,2w3E*,2We3345\n",
    "\n",
    "Then, the output of the program should be:\n",
    "\n",
    "==> ABd1234@1\n",
    "```"
   ]
  },
  {
   "cell_type": "code",
   "execution_count": 4,
   "id": "434b66e4-ea6d-403b-83a1-94f596db9930",
   "metadata": {},
   "outputs": [
    {
     "name": "stdout",
     "output_type": "stream",
     "text": [
      "Enter passwords seperated by commas:  ABd1234@1,a F1#,2w3E*,2We3345\n"
     ]
    },
    {
     "name": "stdout",
     "output_type": "stream",
     "text": [
      "ABd1234@1\n"
     ]
    }
   ],
   "source": [
    "import re\n",
    "\n",
    "def is_valid_password(password):\n",
    "    if 6 <= len(password) <= 12:\n",
    "        if re.match(r\"^(?=.*[a-z])(?=.*[A-Z])(?=.*[0-9])(?=.*[$#@])\", password):\n",
    "            return True\n",
    "    return False\n",
    "    \n",
    "passwords = input(\"Enter passwords seperated by commas: \").split(\",\")\n",
    "\n",
    "valid_passwords = []\n",
    "\n",
    "for psw in passwords:\n",
    "    if is_valid_password(psw):\n",
    "        valid_passwords.append(psw)\n",
    "\n",
    "print(\",\".join(valid_passwords))"
   ]
  },
  {
   "cell_type": "code",
   "execution_count": null,
   "id": "5259e790-6aff-477c-9185-a10c586d5796",
   "metadata": {},
   "outputs": [],
   "source": []
  }
 ],
 "metadata": {
  "kernelspec": {
   "display_name": "Python 3 (ipykernel)",
   "language": "python",
   "name": "python3"
  },
  "language_info": {
   "codemirror_mode": {
    "name": "ipython",
    "version": 3
   },
   "file_extension": ".py",
   "mimetype": "text/x-python",
   "name": "python",
   "nbconvert_exporter": "python",
   "pygments_lexer": "ipython3",
   "version": "3.11.7"
  }
 },
 "nbformat": 4,
 "nbformat_minor": 5
}
