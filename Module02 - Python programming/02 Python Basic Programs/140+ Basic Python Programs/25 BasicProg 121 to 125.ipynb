{
 "cells": [
  {
   "cell_type": "markdown",
   "id": "679169cc-5a17-4da2-bba9-440413bff637",
   "metadata": {},
   "source": [
    "### ***121 Write a function that takes a list of elements and returns only the integers***\n",
    "```\n",
    "Examples:\n",
    "---------\n",
    "\n",
    "return_only_integers([9, 2, \"space\", \"car\", \"lion\", 16]) ==> [9, 2, 16]\n",
    "\n",
    "return_only_integers([\"hello\", 81, \"basketball\", 123, \"fox\"]) ==> [81, 123]\n",
    "\n",
    "return_only_integers([10,  \"121\", 56, 20, \"car\", 3, \"lion\"]) ==> [10, 56, 20, 3]\n",
    "\n",
    "return_only_integers([\"string\", True, 3.3, 1]) ==> [1]\n",
    "```"
   ]
  },
  {
   "cell_type": "code",
   "execution_count": 1,
   "id": "37cd1709-b34b-4a94-8c2b-18cb84770fc5",
   "metadata": {},
   "outputs": [],
   "source": [
    "def return_only_integers(lst):\n",
    "    return [item for item in lst if isinstance(item, int) and not isinstance(item, bool)]"
   ]
  },
  {
   "cell_type": "code",
   "execution_count": 2,
   "id": "bde9b7bd-6efa-4dfb-ab0b-fefd69ef7452",
   "metadata": {},
   "outputs": [
    {
     "name": "stdout",
     "output_type": "stream",
     "text": [
      "[9, 2, 16]\n",
      "[81, 123]\n",
      "[10, 56, 20, 3]\n",
      "[1]\n"
     ]
    }
   ],
   "source": [
    "print(return_only_integers([9, 2, \"space\", \"car\", \"lion\", 16]))\n",
    "print(return_only_integers([\"hello\", 81, \"basketball\", 123, \"fox\"]))\n",
    "print(return_only_integers([10,  \"121\", 56, 20, \"car\", 3, \"lion\"]))\n",
    "print(return_only_integers([\"string\", True, 3.3, 1]))"
   ]
  },
  {
   "cell_type": "markdown",
   "id": "94dc36fa-599f-4867-973a-379d9e97bcf2",
   "metadata": {},
   "source": [
    "### ***122 Create a funtion that takes three parameters where***\n",
    "```\n",
    "x is the start of the range(inclusive)\n",
    "\n",
    "y is the end of the range(inclusive)\n",
    "\n",
    "n is the divisor to be checked against\n",
    "\n",
    "Return an ordered list with numbers in the range that are divisible by the third parameter n\n",
    "\n",
    "Return an empty list if there are no numbers that are divisible by n\n",
    "\n",
    "Examples:\n",
    "---------\n",
    "\n",
    "list_operation(1, 10, 3)   ==> [3, 6, 9]\n",
    "\n",
    "list_operation(7, 9, 2)    ==> [8]\n",
    "\n",
    "list_operation(15, 20, 7)  ==> []\n",
    "```"
   ]
  },
  {
   "cell_type": "code",
   "execution_count": 3,
   "id": "9ff0b388-ae02-4cd8-85a2-23ff06c4bc6f",
   "metadata": {},
   "outputs": [],
   "source": [
    "def list_operation(x, y, n):\n",
    "    return [num for num in range(x, y+1) if (num % n == 0)]"
   ]
  },
  {
   "cell_type": "code",
   "execution_count": 4,
   "id": "c4a253a9-a979-4060-94c0-87397ba9fcb4",
   "metadata": {},
   "outputs": [
    {
     "name": "stdout",
     "output_type": "stream",
     "text": [
      "[3, 6, 9]\n",
      "[8]\n",
      "[]\n"
     ]
    }
   ],
   "source": [
    "print(list_operation(1, 10, 3))\n",
    "print(list_operation(7, 9, 2))\n",
    "print(list_operation(15, 20, 7))"
   ]
  },
  {
   "cell_type": "markdown",
   "id": "e9c95519-07f8-4c3d-bc02-592ae559b6e8",
   "metadata": {},
   "source": [
    "### ***123 Create a function that takes two lists and returns True if the second list follows the first list by one element, and False otherwise. In other words, determine if the second list is the first list shifted to the right by 1***\n",
    "```\n",
    "Examples:\n",
    "---------\n",
    "\n",
    "simon_says([1, 2], [5, 1])  ==> True\n",
    "\n",
    "simon_says([1, 2], [5, 5])  ==> False\n",
    "\n",
    "simon_says([1, 2, 3, 4, 5], [0, 1, 2, 3, 4]) ==> True\n",
    "\n",
    "simon_says([1, 2, 3, 4, 5], [5, 5, 1, 2, 3]) ==> False\n",
    "\n",
    "Note:\n",
    "-----\n",
    "\n",
    "==> Both input lists will be of the same length, and will have a minimum length of 2\n",
    "\n",
    "==> The values of the 0-indexed element in the second list and the (n-1)th indexed element in the first list do not matter\n",
    "```"
   ]
  },
  {
   "cell_type": "code",
   "execution_count": 5,
   "id": "7dce54d0-20bc-4660-8a8e-b38c8345c9c4",
   "metadata": {},
   "outputs": [],
   "source": [
    "def simon_says(lst1, lst2):\n",
    "    return lst1[:-1] == lst2[1:]"
   ]
  },
  {
   "cell_type": "code",
   "execution_count": 6,
   "id": "df806e68-fd25-4c52-b3f0-9313cebf0154",
   "metadata": {},
   "outputs": [
    {
     "name": "stdout",
     "output_type": "stream",
     "text": [
      "True\n",
      "False\n",
      "True\n",
      "False\n"
     ]
    }
   ],
   "source": [
    "print(simon_says([1, 2], [5, 1]))\n",
    "print(simon_says([1, 2], [5, 5]))\n",
    "print(simon_says([1, 2, 3, 4, 5], [0, 1, 2, 3, 4]))\n",
    "print(simon_says([1, 2, 3, 4, 5], [5, 5, 1, 2, 3]))"
   ]
  },
  {
   "cell_type": "markdown",
   "id": "9fc0be9a-9b52-49d6-accb-0308c2a1bea8",
   "metadata": {},
   "source": [
    "### ***124 A group of friends have decided to start a secret society. The name will be the first letter of each of their names, sorted in alphabetical order. Create a function that takes in a list of names and returns the name of the society***\n",
    "```\n",
    "Examples:\n",
    "---------\n",
    "\n",
    "society_name([\"Adam\", \"Sarah\", \"Malcolm\"])     ==> \"AMS\"\n",
    "\n",
    "society_name([\"Harry\", \"Newt\", \"Luna\", \"Cho\"]) ==> \"CHLN\"\n",
    "\n",
    "society_name([\"Phoebe\", \"Chandler\", \"Rachel\", \"Ross\", \"Monica\", \"Joey\"]) ==> \"CJMPRR\"\n",
    "```"
   ]
  },
  {
   "cell_type": "code",
   "execution_count": 7,
   "id": "ea674ade-4fd8-4669-a89f-5f402611f63e",
   "metadata": {},
   "outputs": [],
   "source": [
    "def society_name(names):\n",
    "    soc_name = \"\".join(sorted([name[0] for name in names]))\n",
    "    return soc_name"
   ]
  },
  {
   "cell_type": "code",
   "execution_count": 8,
   "id": "527b17e4-3a15-48b2-a03a-83229a91f92b",
   "metadata": {},
   "outputs": [
    {
     "name": "stdout",
     "output_type": "stream",
     "text": [
      "AMS\n",
      "CHLN\n",
      "CJMPRR\n"
     ]
    }
   ],
   "source": [
    "print(society_name([\"Adam\", \"Sarah\", \"Malcolm\"]))\n",
    "print(society_name([\"Harry\", \"Newt\", \"Luna\", \"Cho\"]))\n",
    "print(society_name([\"Phoebe\", \"Chandler\", \"Rachel\", \"Ross\", \"Monica\", \"Joey\"]))"
   ]
  },
  {
   "cell_type": "markdown",
   "id": "62e4f737-bf68-4992-b50c-a4b75cf44ae0",
   "metadata": {},
   "source": [
    "### ***125 An isogram is a word that has no duplicate letters. Create a function that takes a String and returns either True or False depending on whether or not its an \"isogram\"***\n",
    "```\n",
    "Examples:\n",
    "---------\n",
    "\n",
    "is_isogram(\"Algorism\")    ==> True\n",
    "\n",
    "is_isogram(\"PasSword\")    ==> False\n",
    "\n",
    "is_isogram(\"Consecutive\") ==> False\n",
    "\n",
    "Note:\n",
    "-----\n",
    "\n",
    "==> ignore letter case (should not be case sensitive)\n",
    "\n",
    "==> All test cases contain valid one word strings\n",
    "```"
   ]
  },
  {
   "cell_type": "code",
   "execution_count": 9,
   "id": "8b472fd5-4755-45fd-b27c-4f7a0f068407",
   "metadata": {},
   "outputs": [],
   "source": [
    "def is_isogram(word):\n",
    "    word = word.lower()\n",
    "    unique_letters = set()\n",
    "    for letter in word:\n",
    "        if letter in unique_letters:\n",
    "            return False\n",
    "        unique_letters.add(letter)\n",
    "    return True"
   ]
  },
  {
   "cell_type": "code",
   "execution_count": 10,
   "id": "f5a82b90-d323-4395-85f6-832b4d466595",
   "metadata": {},
   "outputs": [
    {
     "name": "stdout",
     "output_type": "stream",
     "text": [
      "True\n",
      "False\n",
      "False\n"
     ]
    }
   ],
   "source": [
    "print(is_isogram(\"Algorism\"))\n",
    "print(is_isogram(\"PasSword\"))\n",
    "print(is_isogram(\"Consecutive\"))"
   ]
  },
  {
   "cell_type": "code",
   "execution_count": null,
   "id": "af437ea8-a301-4c02-98b4-c6ec4c0219f6",
   "metadata": {},
   "outputs": [],
   "source": []
  }
 ],
 "metadata": {
  "kernelspec": {
   "display_name": "Python 3 (ipykernel)",
   "language": "python",
   "name": "python3"
  },
  "language_info": {
   "codemirror_mode": {
    "name": "ipython",
    "version": 3
   },
   "file_extension": ".py",
   "mimetype": "text/x-python",
   "name": "python",
   "nbconvert_exporter": "python",
   "pygments_lexer": "ipython3",
   "version": "3.11.7"
  }
 },
 "nbformat": 4,
 "nbformat_minor": 5
}
