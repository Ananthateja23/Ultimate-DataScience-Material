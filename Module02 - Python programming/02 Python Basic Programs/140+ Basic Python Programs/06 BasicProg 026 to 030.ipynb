{
 "cells": [
  {
   "cell_type": "markdown",
   "id": "872e8278-287c-43ef-bf72-d3da0b659bc9",
   "metadata": {},
   "source": [
    "### ***26 WAP to make simple calculator with 4 basic mathematical operations***"
   ]
  },
  {
   "cell_type": "code",
   "execution_count": 4,
   "id": "cb9d8a48-e6c3-4a3e-a6c3-4c597b248f7a",
   "metadata": {},
   "outputs": [
    {
     "name": "stdout",
     "output_type": "stream",
     "text": [
      "Select operation\n",
      "1. Add\n",
      "2. Subtract\n",
      "3. Multiply\n",
      "4. Divide\n"
     ]
    },
    {
     "name": "stdout",
     "output_type": "stream",
     "text": [
      "Enter choice(1/2/3/4):  1\n",
      "Enter first number  :  5\n",
      "Enter second number :  6\n"
     ]
    },
    {
     "name": "stdout",
     "output_type": "stream",
     "text": [
      "5.0 + 6.0 = 11.0\n"
     ]
    },
    {
     "name": "stdout",
     "output_type": "stream",
     "text": [
      "Let's do calculation? (yes/no):  yes\n",
      "Enter choice(1/2/3/4):  2\n",
      "Enter first number  :  50\n",
      "Enter second number :  5\n"
     ]
    },
    {
     "name": "stdout",
     "output_type": "stream",
     "text": [
      "50.0 - 5.0 = 45.0\n"
     ]
    },
    {
     "name": "stdout",
     "output_type": "stream",
     "text": [
      "Let's do calculation? (yes/no):  yes\n",
      "Enter choice(1/2/3/4):  3\n",
      "Enter first number  :  22\n",
      "Enter second number :  2\n"
     ]
    },
    {
     "name": "stdout",
     "output_type": "stream",
     "text": [
      "22.0 * 2.0 = 44.0\n"
     ]
    },
    {
     "name": "stdout",
     "output_type": "stream",
     "text": [
      "Let's do calculation? (yes/no):  yes\n",
      "Enter choice(1/2/3/4):  4\n",
      "Enter first number  :  99\n",
      "Enter second number :  9\n"
     ]
    },
    {
     "name": "stdout",
     "output_type": "stream",
     "text": [
      "99.0 / 9.0 = 11.0\n"
     ]
    },
    {
     "name": "stdout",
     "output_type": "stream",
     "text": [
      "Let's do calculation? (yes/no):  no\n"
     ]
    }
   ],
   "source": [
    "def add(x, y):\n",
    "    return x + y\n",
    "\n",
    "def subtract(x, y):\n",
    "    return x - y\n",
    "\n",
    "def multiply(x, y):\n",
    "    return x * y\n",
    "\n",
    "def divide(x, y):\n",
    "    return x / y\n",
    "\n",
    "\n",
    "print(\"Select operation\")\n",
    "print(\"1. Add\")\n",
    "print(\"2. Subtract\")\n",
    "print(\"3. Multiply\")\n",
    "print(\"4. Divide\")\n",
    "\n",
    "while True:\n",
    "\n",
    "    choice = input(\"Enter choice(1/2/3/4): \")\n",
    "\n",
    "    if choice in ('1', '2', '3', '4'):\n",
    "        try:\n",
    "            num1 = float(input(\"Enter first number  : \"))\n",
    "            num2 = float(input(\"Enter second number : \"))\n",
    "        except ValueError:\n",
    "            print(\"Invalid input. please enter a number\")\n",
    "            continue\n",
    "\n",
    "        if choice == '1':\n",
    "            print(f\"{num1} + {num2} = {add(num1, num2)}\")\n",
    "        elif choice == '2':\n",
    "            print(f\"{num1} - {num2} = {subtract(num1, num2)}\")\n",
    "        elif choice == '3':\n",
    "            print(f\"{num1} * {num2} = {multiply(num1, num2)}\")\n",
    "        elif choice == '4':\n",
    "            print(f\"{num1} / {num2} = {divide(num1, num2)}\")\n",
    "\n",
    "        next_calculation = input(\"Let's do calculation? (yes/no): \")\n",
    "        if next_calculation == \"no\":\n",
    "            break\n",
    "    else:\n",
    "        print(\"Invalid Input\")"
   ]
  },
  {
   "cell_type": "markdown",
   "id": "12e6cdf5-d6e9-468e-93ce-329b8796d3eb",
   "metadata": {},
   "source": [
    "### ***27 WAP to Display fibonacci sequence using recursion***"
   ]
  },
  {
   "cell_type": "code",
   "execution_count": 5,
   "id": "75351b3a-6c8c-420f-8b21-83a627f0bc06",
   "metadata": {},
   "outputs": [
    {
     "name": "stdout",
     "output_type": "stream",
     "text": [
      "Enter the number of terms (greater than 0):  8\n"
     ]
    },
    {
     "name": "stdout",
     "output_type": "stream",
     "text": [
      "Fibonacci sequence:\n",
      "0\n",
      "1\n",
      "1\n",
      "2\n",
      "3\n",
      "5\n",
      "8\n",
      "13\n"
     ]
    }
   ],
   "source": [
    "def rec_fibo(n):\n",
    "    if n <= 1:\n",
    "        return n\n",
    "    else:\n",
    "        return (rec_fibo(n-1) + rec_fibo(n-2))\n",
    "\n",
    "nterms = int(input(\"Enter the number of terms (greater than 0): \"))\n",
    "\n",
    "if nterms <= 0:\n",
    "    print(\"Please enter a positive integer\")\n",
    "else:\n",
    "    print(\"Fibonacci sequence:\")\n",
    "    for i in range(nterms):\n",
    "        print(rec_fibo(i))"
   ]
  },
  {
   "cell_type": "markdown",
   "id": "45dbcab4-1fa1-46bb-ba7a-00b88943c5ee",
   "metadata": {},
   "source": [
    "### ***28 WAP to find factorial of number using recursion***"
   ]
  },
  {
   "cell_type": "code",
   "execution_count": 6,
   "id": "283ad615-15b1-4a9b-9fd8-f8e6fba35716",
   "metadata": {},
   "outputs": [
    {
     "name": "stdout",
     "output_type": "stream",
     "text": [
      "Enter the number :  7\n"
     ]
    },
    {
     "name": "stdout",
     "output_type": "stream",
     "text": [
      "The factorial of 7 is 5040\n"
     ]
    }
   ],
   "source": [
    "def rec_factorial(n):\n",
    "    if n == 1:\n",
    "        return n\n",
    "    else:\n",
    "        return n * rec_factorial(n-1)\n",
    "\n",
    "num = int(input(\"Enter the number : \"))\n",
    "\n",
    "\n",
    "if  num < 0:\n",
    "    print(\"Sorry, factorial does not exist for negative numbers\")\n",
    "elif num == 0:\n",
    "    print(\"The factorial of 0 is 1\")\n",
    "else:\n",
    "    print(f\"The factorial of {num} is {rec_factorial(num)}\")"
   ]
  },
  {
   "cell_type": "markdown",
   "id": "e249ff43-cc01-4fa5-8724-5e9a71e698e8",
   "metadata": {},
   "source": [
    "### ***29 WAP to calculate your Body Mass Index***"
   ]
  },
  {
   "cell_type": "markdown",
   "id": "19a27e6c-6a51-4af7-a1c5-5804921ac948",
   "metadata": {},
   "source": [
    "```\n",
    "Body Mass Index:\n",
    "----------------\n",
    "\n",
    "Body Mass Index (BMI) is a measure of body fat based on an individual's weight and\n",
    "height. It is commonly used as a screening tool to categorize individuals into different weight\n",
    "status categories, such as underweight, normal weight, overweight, and obesity.\n",
    "\n",
    "The BMI is calculated using the following formula:\n",
    "\n",
    "                BMI = (Weight(kg) / Height(m)^2)\n",
    "\n",
    "                BMI = (Weight(lb) / Height(in)^2) X 703\n",
    "\n",
    "BMI provides a general indication of body fatness but does not directly measure body fat or\n",
    "distribution. It is widely used in public health and clinical settings as a quick and simple tool\n",
    "to assess potential health risks associated with weight. Different BMI ranges are associated\n",
    "with different health categories, but it's important to note that BMI has limitations and does\n",
    "not account for factors such as muscle mass or distribution of at.\n",
    "```"
   ]
  },
  {
   "cell_type": "code",
   "execution_count": null,
   "id": "ac17c600-d46a-4d5e-932b-e6a4bf033f65",
   "metadata": {},
   "outputs": [
    {
     "name": "stdout",
     "output_type": "stream",
     "text": [
      "Enter your height in meters:  1.8\n",
      "Enter your weight in kg:  70\n"
     ]
    },
    {
     "name": "stdout",
     "output_type": "stream",
     "text": [
      "Welcome to the BMI calculator\n",
      "Your BMI is 21.6\n",
      "Your weight is normal\n"
     ]
    }
   ],
   "source": [
    "def bodymassindex(height, weight):\n",
    "    return round((weight / height**2), 2)\n",
    "\n",
    "h = float(input(\"Enter your height in meters: \"))\n",
    "w = float(input(\"Enter your weight in kg: \"))\n",
    "\n",
    "print(\"Welcome to the BMI calculator\")\n",
    "\n",
    "bmi = bodymassindex(h, w)\n",
    "print(\"Your BMI is {}\".format(bmi))\n",
    "\n",
    "\n",
    "if bmi <= 18.5:\n",
    "    print(\"You are underweight\")\n",
    "elif 18.5 < bmi <= 24.9:\n",
    "    print(\"Your weight is normal\")\n",
    "elif 25 < bmi <= 29.29:\n",
    "    print(\"You are overweight\")\n",
    "else:\n",
    "    print(\"You are obese\")"
   ]
  },
  {
   "cell_type": "markdown",
   "id": "6715cb5b-6e31-4385-96ce-7deedbb2ef57",
   "metadata": {},
   "source": [
    "### ***30 WAP to calculate the natural logarithm of any number***"
   ]
  },
  {
   "cell_type": "code",
   "execution_count": 8,
   "id": "dc976d4d-6750-40ac-83a9-5d574b525d7d",
   "metadata": {},
   "outputs": [
    {
     "name": "stdout",
     "output_type": "stream",
     "text": [
      "Enter a number:  1.4\n"
     ]
    },
    {
     "name": "stdout",
     "output_type": "stream",
     "text": [
      "The natural logarithm of 1.4 is 0.3364722366212129\n"
     ]
    }
   ],
   "source": [
    "import math\n",
    "\n",
    "num = float(input(\"Enter a number: \"))\n",
    "\n",
    "if num <= 0:\n",
    "    print(\"Please enter a positive number\")\n",
    "else:\n",
    "    result = math.log(num)\n",
    "    print(\"The natural logarithm of {} is {}\".format(num, result))"
   ]
  },
  {
   "cell_type": "code",
   "execution_count": null,
   "id": "f97d7fe2-3f9d-4adf-ad52-b15ca7d2e3b6",
   "metadata": {},
   "outputs": [],
   "source": []
  }
 ],
 "metadata": {
  "kernelspec": {
   "display_name": "Python 3 (ipykernel)",
   "language": "python",
   "name": "python3"
  },
  "language_info": {
   "codemirror_mode": {
    "name": "ipython",
    "version": 3
   },
   "file_extension": ".py",
   "mimetype": "text/x-python",
   "name": "python",
   "nbconvert_exporter": "python",
   "pygments_lexer": "ipython3",
   "version": "3.11.7"
  }
 },
 "nbformat": 4,
 "nbformat_minor": 5
}
