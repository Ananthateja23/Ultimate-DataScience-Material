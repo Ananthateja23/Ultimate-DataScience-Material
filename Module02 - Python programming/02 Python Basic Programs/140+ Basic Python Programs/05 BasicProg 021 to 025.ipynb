{
 "cells": [
  {
   "cell_type": "markdown",
   "id": "3529b013-d3d5-4ff6-9129-df1e0d96e81f",
   "metadata": {},
   "source": [
    "### ***21 WAP to find the sum of natural numbers***"
   ]
  },
  {
   "cell_type": "markdown",
   "id": "4764399d-c84b-472c-b9d9-58c255af0d5f",
   "metadata": {},
   "source": [
    "```\n",
    "Natural numbers:\n",
    "----------------\n",
    "\n",
    "Natural numbers are a set of positive integers that are used to count and order objects.\n",
    "They are the numbers that typically start from 1 and continue indefinitely, including all the\n",
    "whole numbers greater than 0. In mathematical notation, the set of natural numbers is often\n",
    "denoted as \"N\" and can be expressed as:\n",
    "\n",
    "𝑁 = 1, 2, 3, 4, 5, 6, 7, 8, . . .\n",
    "```"
   ]
  },
  {
   "cell_type": "code",
   "execution_count": 1,
   "id": "b28e0020-f489-4b65-9663-3dfac868071d",
   "metadata": {},
   "outputs": [
    {
     "name": "stdin",
     "output_type": "stream",
     "text": [
      "Enter a number :  10\n"
     ]
    },
    {
     "name": "stdout",
     "output_type": "stream",
     "text": [
      "The sum of natural numbers upto 10 is 55\n"
     ]
    }
   ],
   "source": [
    "num = int(input(\"Enter a number : \"))\n",
    "total = 0\n",
    "\n",
    "for val in range(1, num+1):\n",
    "    total += val\n",
    "\n",
    "print(f\"The sum of natural numbers upto {num} is {total}\")"
   ]
  },
  {
   "cell_type": "markdown",
   "id": "8e0a1e41-8bad-49f0-bc60-23a90e55c98c",
   "metadata": {},
   "source": [
    "### ***22 WAP to find LCM***"
   ]
  },
  {
   "cell_type": "markdown",
   "id": "ea4741a6-a8bd-4b00-b953-491e1a03b4df",
   "metadata": {},
   "source": [
    "```\n",
    "Least Common Multiple (LCM):\n",
    "----------------------------\n",
    "\n",
    "LCM, or Least Common Multiple, is the smallest multiple that is exactly divisible by two or\n",
    "more numbers.\n",
    "    \n",
    "Formula:\n",
    "    \n",
    "==> For two numbers a and b, the LCM can be found using the formula:\n",
    "    \n",
    "    LCM(a,b) * GCD(a,b) = |a * b|\n",
    "    \n",
    "==> For more than two numbers, you can find the LCM step by step, taking the LCM of pairs of\n",
    "numbers at a time until you reach the last pair.\n",
    "    \n",
    "Note: GCD stands for Greatest Common Divisor.\n",
    "```"
   ]
  },
  {
   "cell_type": "code",
   "execution_count": 5,
   "id": "400d2779-e609-43ac-8fee-6a63f1e79c91",
   "metadata": {},
   "outputs": [
    {
     "name": "stdin",
     "output_type": "stream",
     "text": [
      "Enter a number :  54\n",
      "Enter a number :  24\n"
     ]
    },
    {
     "name": "stdout",
     "output_type": "stream",
     "text": [
      "The L.C.M is 216\n"
     ]
    }
   ],
   "source": [
    "def compute_lcm(x, y):\n",
    "    if (x > y):\n",
    "        greater = x\n",
    "    else:\n",
    "        greater = y\n",
    "\n",
    "    while True:\n",
    "        if ((greater % x == 0) and (greater % y == 0)):\n",
    "            lcm = greater\n",
    "            break\n",
    "        greater += 1\n",
    "    return lcm\n",
    "\n",
    "num1 = int(input(\"Enter a number : \"))\n",
    "num2 = int(input(\"Enter a number : \"))\n",
    "print(f\"The L.C.M is {compute_lcm(num1, num2)}\")"
   ]
  },
  {
   "cell_type": "markdown",
   "id": "c55a6e52-3931-4a1a-a2c3-254b8754ab5d",
   "metadata": {},
   "source": [
    "### ***23 WAP to find HCF***"
   ]
  },
  {
   "cell_type": "markdown",
   "id": "afc2da8c-0e3c-42ca-9993-de7271865f55",
   "metadata": {},
   "source": [
    "```\n",
    "Highest Common Factor(HCF):\n",
    "---------------------------\n",
    "\n",
    "HCF, or Highest Common Factor, is the largest positive integer that divides two or more\n",
    "numbers without leaving a remainder.\n",
    "\n",
    "Formula: \n",
    "\n",
    "==> For two numbers a and b, the HCF can be found using the formula:\n",
    "\n",
    "    LCM(a,b) * GCD(a,b) = a * b \n",
    "\n",
    "==> For more than two numbers, you can find the HCF by taking the GCD of pairs of numbers at\n",
    "a time until you reach the last pair.\n",
    "\n",
    "Note: GCD stands for Greatest Common Divisor.\n",
    "```"
   ]
  },
  {
   "cell_type": "code",
   "execution_count": 6,
   "id": "e44266f7-4e0d-4bc0-ac2d-72e60f249aee",
   "metadata": {},
   "outputs": [
    {
     "name": "stdin",
     "output_type": "stream",
     "text": [
      "Enter a number :  54\n",
      "Enter a number :  24\n"
     ]
    },
    {
     "name": "stdout",
     "output_type": "stream",
     "text": [
      "The H.C.F is 6\n"
     ]
    }
   ],
   "source": [
    "def compute_hcf(x, y):\n",
    "    if x > y:\n",
    "        smaller = y\n",
    "    else:\n",
    "        smaller = x\n",
    "\n",
    "    for i in range(1, smaller+1):\n",
    "        if ((x % i == 0) and (y % i == 0)):\n",
    "            hcf = i\n",
    "    return hcf\n",
    "\n",
    "\n",
    "num1 = int(input(\"Enter a number : \"))\n",
    "num2 = int(input(\"Enter a number : \"))\n",
    "\n",
    "print(f\"The H.C.F is {compute_hcf(num1, num2)}\")"
   ]
  },
  {
   "cell_type": "markdown",
   "id": "563941a6-d196-4f97-b2a3-48a13734a340",
   "metadata": {},
   "source": [
    "### ***24 WAP to convert decimal to binary, octal and hexadecimal***"
   ]
  },
  {
   "cell_type": "code",
   "execution_count": 7,
   "id": "fec9ec57-d1e5-4c2c-893b-42009d3783fd",
   "metadata": {},
   "outputs": [
    {
     "name": "stdin",
     "output_type": "stream",
     "text": [
      "Enter a decimal number :  27\n"
     ]
    },
    {
     "name": "stdout",
     "output_type": "stream",
     "text": [
      "The decimal value of 27 is :\n",
      "0b11011 in binary\n",
      "0o33 in octal\n",
      "0x1b in hexadecimal\n"
     ]
    }
   ],
   "source": [
    "dec_num = int(input(\"Enter a decimal number : \"))\n",
    "\n",
    "print(\"The decimal value of\", dec_num, \"is :\")\n",
    "print(bin(dec_num), \"in binary\")\n",
    "print(oct(dec_num), \"in octal\")\n",
    "print(hex(dec_num), \"in hexadecimal\")"
   ]
  },
  {
   "cell_type": "markdown",
   "id": "7bd90ad2-f1ce-4a68-b407-d59c3dfbbc7c",
   "metadata": {},
   "source": [
    "### ***25 WAP to find ASCII value of a character***\n",
    "```\n",
    "ASCII value:\n",
    "------------\n",
    "\n",
    "ASCII, or American Standard Code for Information Interchange, is a character encoding\n",
    "standard that uses numeric values to represent characters. Each ASCII character is\n",
    "assigned a unique 7-bit or 8-bit binary number, allowing computers to exchange information\n",
    "and display text in a consistent way. The ASCII values range from 0 to 127 (for 7-bit ASCII)\n",
    "or 0 to 255 (for 8-bit ASCII), with each value corresponding to a specific character, such as\n",
    "letters, digits, punctuation marks, and control characters.\n",
    "```"
   ]
  },
  {
   "cell_type": "code",
   "execution_count": 8,
   "id": "e1358c1c-9a33-4d82-b0a7-8612c57a30a3",
   "metadata": {},
   "outputs": [
    {
     "name": "stdin",
     "output_type": "stream",
     "text": [
      "Enter the character :  P\n"
     ]
    },
    {
     "name": "stdout",
     "output_type": "stream",
     "text": [
      "The ASCII value of P is 80\n"
     ]
    }
   ],
   "source": [
    "char = input(\"Enter the character : \")\n",
    "print(f\"The ASCII value of {char} is {ord(char)}\")"
   ]
  },
  {
   "cell_type": "code",
   "execution_count": null,
   "id": "89a6d1f7-cecf-431a-8e53-83deacf121be",
   "metadata": {},
   "outputs": [],
   "source": []
  }
 ],
 "metadata": {
  "kernelspec": {
   "display_name": "Python 3 (ipykernel)",
   "language": "python",
   "name": "python3"
  },
  "language_info": {
   "codemirror_mode": {
    "name": "ipython",
    "version": 3
   },
   "file_extension": ".py",
   "mimetype": "text/x-python",
   "name": "python",
   "nbconvert_exporter": "python",
   "pygments_lexer": "ipython3",
   "version": "3.11.7"
  }
 },
 "nbformat": 4,
 "nbformat_minor": 5
}
