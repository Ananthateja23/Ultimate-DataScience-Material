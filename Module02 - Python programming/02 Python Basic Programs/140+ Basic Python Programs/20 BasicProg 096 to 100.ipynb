{
 "cells": [
  {
   "cell_type": "markdown",
   "id": "0432bc54-79c3-4a45-a5e9-a2222e030bb4",
   "metadata": {},
   "source": [
    "### ***96 Create a function that returns a base-2 (binary) representation of a base-10 (decimal) string number***\n",
    "```\n",
    "To convert is simple: ((2) means base-2 and (10) means base-10)\n",
    "\n",
    "==> 010101001(2) = 1 + 8 + 32 + 128\n",
    "\n",
    "Going from right to left, the value of the most right bit is 1, now from that every bit to the left will be X2 the value, value of an 8 bit binary numbers are(256, 128, 64, 32, 16, 8, 4, 2, 1)\n",
    "\n",
    "Examples:\n",
    "---------\n",
    "\n",
    "binary(1) ==> '1'\n",
    "\n",
    "i.e 1 * 1 = 1\n",
    "\n",
    "binary(5) ==> '101'\n",
    "\n",
    "i.e 1*1 + 1*4 = 5\n",
    "\n",
    "binary(10) ==> '1010'\n",
    "\n",
    "i.e 1*2 + 1*8 = 10\n",
    "```"
   ]
  },
  {
   "cell_type": "code",
   "execution_count": 1,
   "id": "300e721d-c509-4804-b890-41504fdadabb",
   "metadata": {},
   "outputs": [],
   "source": [
    "def binary(decimal):\n",
    "    binary_str = \"\"\n",
    "    while decimal > 0:\n",
    "        remainder = decimal % 2\n",
    "        binary_str = str(remainder) + binary_str\n",
    "        decimal = decimal // 2\n",
    "    return binary_str if binary_str else \"0\""
   ]
  },
  {
   "cell_type": "code",
   "execution_count": 2,
   "id": "16af9ec8-214c-48d6-922f-d94435638b3f",
   "metadata": {},
   "outputs": [
    {
     "name": "stdout",
     "output_type": "stream",
     "text": [
      "1\n",
      "101\n",
      "1010\n"
     ]
    }
   ],
   "source": [
    "print(binary(1))\n",
    "print(binary(5))\n",
    "print(binary(10))"
   ]
  },
  {
   "cell_type": "markdown",
   "id": "e9bce316-d3c8-4b4b-99d6-3dee13292234",
   "metadata": {},
   "source": [
    "### ***97 Create a function that takes three arguments a, b, c and returns the sum of the numbers that are evenly divided by c from the range a,b inclusive***\n",
    "```\n",
    "\n",
    "Examples:\n",
    "---------\n",
    "\n",
    "evenly_divisible(1, 10, 20) ==> 0\n",
    "\n",
    "==> No number between 1 and 10 can be evenly divided by 20\n",
    "\n",
    "evenly_divisible(1, 10, 2) ==> 30\n",
    "\n",
    "==> 2 + 4 + 6 + 8 + 10 = 30\n",
    "\n",
    "evenly_divisible(1, 10, 3) ==> 18\n",
    "\n",
    "==> 3 + 6 + 9 = 18\n",
    "```"
   ]
  },
  {
   "cell_type": "code",
   "execution_count": 3,
   "id": "d69b7f45-0264-4dd6-b23e-d4c684908dd6",
   "metadata": {},
   "outputs": [],
   "source": [
    "def evenly_divisible(a, b, c):\n",
    "    total = 0\n",
    "    for num in range(a, b+1):\n",
    "        if num % c == 0:\n",
    "            total += num\n",
    "    return total"
   ]
  },
  {
   "cell_type": "code",
   "execution_count": 4,
   "id": "f84bb6a1-6ff1-4721-879c-64a95e3af3b5",
   "metadata": {},
   "outputs": [
    {
     "name": "stdout",
     "output_type": "stream",
     "text": [
      "0\n",
      "30\n",
      "18\n"
     ]
    }
   ],
   "source": [
    "print(evenly_divisible(1, 10, 20))\n",
    "print(evenly_divisible(1, 10, 2))\n",
    "print(evenly_divisible(1, 10, 3))"
   ]
  },
  {
   "cell_type": "markdown",
   "id": "b8182d86-0215-4b4a-84ba-cb4104115281",
   "metadata": {},
   "source": [
    "### ***98 Create a function that returns True if a given inequality expression is correct and False otherwise***\n",
    "```\n",
    "Examples:\n",
    "---------\n",
    "\n",
    "correct_signs(\"3 < 7 < 11\")        ==> True\n",
    "\n",
    "correct_signs(\"13 > 44 > 33 < 1\")  ==> False\n",
    "\n",
    "correct_signs(\"1 < 2 < 6 < 9 > 3\") ==> True\n",
    "```"
   ]
  },
  {
   "cell_type": "code",
   "execution_count": 5,
   "id": "373cd3d4-0be3-4fd8-a904-b60a8b380b71",
   "metadata": {},
   "outputs": [],
   "source": [
    "def correct_signs(expression):\n",
    "    try:\n",
    "        return eval(expression)\n",
    "    except:\n",
    "        return False"
   ]
  },
  {
   "cell_type": "code",
   "execution_count": 6,
   "id": "5cb522ae-0b63-4572-b1c6-a3c2fc398596",
   "metadata": {},
   "outputs": [
    {
     "name": "stdout",
     "output_type": "stream",
     "text": [
      "True\n",
      "False\n",
      "True\n"
     ]
    }
   ],
   "source": [
    "print(correct_signs(\"3 < 7 < 11\"))\n",
    "print(correct_signs(\"13 > 44 > 33 < 1\"))\n",
    "print(correct_signs(\"1 < 2 < 6 < 9 > 3\"))"
   ]
  },
  {
   "cell_type": "markdown",
   "id": "b8cf5a56-8ece-47db-a542-8b62cdf44097",
   "metadata": {},
   "source": [
    "### ***99 Create a function that replaces all the vowels in a string with a specified character***\n",
    "```\n",
    "Examples:\n",
    "---------\n",
    "\n",
    "replace_vowels(\"the aardvark\", \"#\")  ==> \"th# ##rdv#rk\"\n",
    "\n",
    "replace_vowels(\"minnie mouse\", \"?\")  ==> \"m?nn?? m??s?\"\n",
    "\n",
    "replace_vowels(\"shakespeare\", \"*\")   ==> \"sh*k*sp**r*\"\n",
    "```"
   ]
  },
  {
   "cell_type": "code",
   "execution_count": 7,
   "id": "92ba5e92-e457-4d95-84c7-0e884dbb32ff",
   "metadata": {},
   "outputs": [],
   "source": [
    "def replace_vowels(string, char):\n",
    "    vowels = \"AEIOUaeiou\"\n",
    "    for vowel in vowels:\n",
    "        string = string.replace(vowel, char)\n",
    "    return string"
   ]
  },
  {
   "cell_type": "code",
   "execution_count": 8,
   "id": "f399b6fb-5fe9-4f90-83a5-7d1d60b373ae",
   "metadata": {},
   "outputs": [
    {
     "name": "stdout",
     "output_type": "stream",
     "text": [
      "th# ##rdv#rk\n",
      "m?nn?? m??s?\n",
      "sh*k*sp**r*\n"
     ]
    }
   ],
   "source": [
    "print(replace_vowels(\"the aardvark\", \"#\"))\n",
    "print(replace_vowels(\"minnie mouse\", \"?\"))\n",
    "print(replace_vowels(\"shakespeare\", \"*\"))"
   ]
  },
  {
   "cell_type": "markdown",
   "id": "11c7f8c3-f279-4b95-8a01-74ccd678b8ff",
   "metadata": {},
   "source": [
    "### ***100 WAP for a function that calculates the factorial of a number recursively***\n",
    "```\n",
    "Examples:\n",
    "---------\n",
    "\n",
    "factorial(5)  ==> 120\n",
    "\n",
    "factorial(3)  ==> 6\n",
    "\n",
    "factorial(1)  ==> 1\n",
    "\n",
    "factorial(0)  ==> 1\n",
    "```"
   ]
  },
  {
   "cell_type": "code",
   "execution_count": 9,
   "id": "91717b03-27d6-4787-9a14-2eb24c28000c",
   "metadata": {},
   "outputs": [],
   "source": [
    "def factorial(n):\n",
    "    if n == 0:\n",
    "        return 1\n",
    "    else:\n",
    "        return n * factorial(n - 1)"
   ]
  },
  {
   "cell_type": "code",
   "execution_count": 10,
   "id": "bcc15770-dba3-4541-8fec-6b9f22ea8c8f",
   "metadata": {},
   "outputs": [
    {
     "name": "stdout",
     "output_type": "stream",
     "text": [
      "120\n",
      "6\n",
      "1\n",
      "1\n"
     ]
    }
   ],
   "source": [
    "print(factorial(5))\n",
    "print(factorial(3))\n",
    "print(factorial(1))\n",
    "print(factorial(0))"
   ]
  },
  {
   "cell_type": "code",
   "execution_count": null,
   "id": "1b48e164-804c-41e4-9e34-2d9971ddd168",
   "metadata": {},
   "outputs": [],
   "source": []
  }
 ],
 "metadata": {
  "kernelspec": {
   "display_name": "Python 3 (ipykernel)",
   "language": "python",
   "name": "python3"
  },
  "language_info": {
   "codemirror_mode": {
    "name": "ipython",
    "version": 3
   },
   "file_extension": ".py",
   "mimetype": "text/x-python",
   "name": "python",
   "nbconvert_exporter": "python",
   "pygments_lexer": "ipython3",
   "version": "3.11.7"
  }
 },
 "nbformat": 4,
 "nbformat_minor": 5
}
