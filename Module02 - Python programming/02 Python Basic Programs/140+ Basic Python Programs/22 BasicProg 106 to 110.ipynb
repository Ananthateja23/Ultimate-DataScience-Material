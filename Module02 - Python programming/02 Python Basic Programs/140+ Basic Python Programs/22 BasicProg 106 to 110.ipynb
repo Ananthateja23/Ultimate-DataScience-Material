{
 "cells": [
  {
   "cell_type": "markdown",
   "id": "4cc40537-a193-4f0f-b214-3737e1dd0bb2",
   "metadata": {},
   "source": [
    "### ***106 Write a function that moves all elements of one type to the end of the list***\n",
    "```\n",
    "Examples:\n",
    "---------\n",
    "\n",
    "move_to_end([1, 2, 3, 4, 4, 1], 1)  ==> [3, 2, 4, 4, 1, 1]\n",
    "\n",
    "Move all the 1s to the end of the array\n",
    "\n",
    "move_to_end([7, 8, 9, 1, 2, 3, 4], 9) ==> [7, 8, 1, 2, 3, 4, 9]\n",
    "\n",
    "move_to_end([\"a\", \"a\", \"a\", \"b\"], \"a\") ==> [\"b\", \"a\", \"a\", \"a\"]\n",
    "```"
   ]
  },
  {
   "cell_type": "code",
   "execution_count": 1,
   "id": "9168b747-4383-409e-86ba-e443c9191fa8",
   "metadata": {},
   "outputs": [],
   "source": [
    "def move_to_end(lst, element):\n",
    "    count = lst.count(element)\n",
    "\n",
    "    lst = [x for x in lst if x!= element]\n",
    "\n",
    "    lst.extend([element] * count)\n",
    "\n",
    "    return lst"
   ]
  },
  {
   "cell_type": "code",
   "execution_count": 2,
   "id": "e83226ae-0c84-4278-9674-5f928a4203b4",
   "metadata": {},
   "outputs": [
    {
     "name": "stdout",
     "output_type": "stream",
     "text": [
      "[3, 2, 4, 4, 1, 1]\n",
      "[7, 8, 1, 2, 3, 4, 9]\n",
      "['b', 'a', 'a', 'a']\n"
     ]
    }
   ],
   "source": [
    "print(move_to_end([1, 3, 2, 4, 4, 1], 1))\n",
    "print(move_to_end([7, 8, 9, 1, 2, 3, 4], 9))\n",
    "print(move_to_end(['a', 'a', 'a', 'b'], 'a'))"
   ]
  },
  {
   "cell_type": "markdown",
   "id": "7c70119b-c4f4-413b-8978-ebfed0ac46bf",
   "metadata": {},
   "source": [
    "### ***107 Create a function that takes a string and returns a string in which each character is repeated once***\n",
    "```\n",
    "Examples:\n",
    "---------\n",
    "\n",
    "double_string(\"String\")        ==> \"SSttrriinngg\"\n",
    "\n",
    "double_string(\"Hello World!\")  ==> \"HHeelllloo WWoorrlldd!!\"\n",
    "\n",
    "double_string(\"1234!\")         ==> \"11223344!!\"\n",
    "```"
   ]
  },
  {
   "cell_type": "code",
   "execution_count": 5,
   "id": "ac83d6ae-37bf-4ceb-b7c0-b1f6fc4b1e93",
   "metadata": {},
   "outputs": [],
   "source": [
    "def double_char(input_str):\n",
    "    doubled_str = \"\"\n",
    "\n",
    "    for char in input_str:\n",
    "        doubled_str += (char * 2)\n",
    "        \n",
    "    return doubled_str"
   ]
  },
  {
   "cell_type": "code",
   "execution_count": 7,
   "id": "ea2992a4-562c-4db5-89fa-02450bfdce39",
   "metadata": {},
   "outputs": [
    {
     "name": "stdout",
     "output_type": "stream",
     "text": [
      "SSttrriinngg\n",
      "HHeelllloo  WWoorrlldd!!\n",
      "11223344!!\n"
     ]
    }
   ],
   "source": [
    "print(double_char(\"String\"))\n",
    "print(double_char(\"Hello World!\"))\n",
    "print(double_char(\"1234!\"))"
   ]
  },
  {
   "cell_type": "markdown",
   "id": "b0643055-095e-4bb3-8258-1235c8a70214",
   "metadata": {},
   "source": [
    "### ***108 Create a function that reverses a boolean value and returns the string \"boolean expected\" if another variable type is given***\n",
    "```\n",
    "Examples:\n",
    "---------\n",
    "\n",
    "reverse(True)  ==> False\n",
    "\n",
    "reverse(False) ==> True\n",
    "\n",
    "reverse(0)     ==> \"boolean expected\"\n",
    "\n",
    "reverse(None)  ==> \"boolean expected\"\n",
    "```"
   ]
  },
  {
   "cell_type": "code",
   "execution_count": 8,
   "id": "a8bd545f-67b2-4278-9fc9-75ed58d7b6b5",
   "metadata": {},
   "outputs": [],
   "source": [
    "def reverse(value):\n",
    "    if isinstance(value, bool):\n",
    "        return not value\n",
    "    else:\n",
    "        return \"boolean expected\""
   ]
  },
  {
   "cell_type": "code",
   "execution_count": 9,
   "id": "45322e2d-16e7-4ad9-b320-9a093de2cced",
   "metadata": {},
   "outputs": [
    {
     "name": "stdout",
     "output_type": "stream",
     "text": [
      "False\n",
      "True\n",
      "boolean expected\n",
      "boolean expected\n"
     ]
    }
   ],
   "source": [
    "print(reverse(True))\n",
    "print(reverse(False))\n",
    "print(reverse(0))\n",
    "print(reverse(None))"
   ]
  },
  {
   "cell_type": "markdown",
   "id": "9e8f71a7-a742-423e-9471-d7f64ee90550",
   "metadata": {},
   "source": [
    "### ***109 Create a function that returns the thickness(in meters) of a piece of paper after folding it n number of times. The paper starts off with a thickness of 0.5mm***\n",
    "```\n",
    "Examples:\n",
    "---------\n",
    "\n",
    "num_layers(1)  ==> \"0.001m\"\n",
    "\n",
    "- paper folded once is 1mm (equal to 0.001)\n",
    "\n",
    "num_layers(4)  ==> \"0.008m\"\n",
    "\n",
    "- paper folded 4 times is 8mm (equal to 0.008m)\n",
    "\n",
    "num_layers(21)  ==> \"1048.576m\"\n",
    "\n",
    "- paper folded 21 times is 1mm (equal to 1048.576m)\n",
    "```"
   ]
  },
  {
   "cell_type": "code",
   "execution_count": 10,
   "id": "7822979b-69c0-4652-a256-4558b5df6fae",
   "metadata": {},
   "outputs": [],
   "source": [
    "def num_layers(n):\n",
    "    initial_thickness_mm = 0.5\n",
    "    final_thickness_mm = initial_thickness_mm * (2 ** n)\n",
    "    final_thickness_m = final_thickness_mm / 1000\n",
    "    return f\"{final_thickness_m:.3f}m\""
   ]
  },
  {
   "cell_type": "code",
   "execution_count": 11,
   "id": "86d873db-2bc3-4d49-bd03-8febefc8a309",
   "metadata": {},
   "outputs": [
    {
     "name": "stdout",
     "output_type": "stream",
     "text": [
      "0.001m\n",
      "0.008m\n",
      "1048.576m\n"
     ]
    }
   ],
   "source": [
    "print(num_layers(1))\n",
    "print(num_layers(4))\n",
    "print(num_layers(21))"
   ]
  },
  {
   "cell_type": "markdown",
   "id": "323d869a-f407-4b81-9e4d-22afa5ff9604",
   "metadata": {},
   "source": [
    "### ***110 Create a function that takes a single string as argument and returns an ordered list containing the indices of all capital letters in the string***\n",
    "```\n",
    "Examples:\n",
    "---------\n",
    "\n",
    "index_of_caps(\"eDaBiT\") ==> [1, 3, 5]\n",
    "\n",
    "index_of_caps(\"eQuINOX\") ==> [1, 3, 4, 6]\n",
    "\n",
    "index_of_caps(\"determine\") ==> []\n",
    "\n",
    "index_of_caps(\"sUn\") ==> [1]\n",
    "```"
   ]
  },
  {
   "cell_type": "code",
   "execution_count": 12,
   "id": "dca01067-990e-4675-bca1-55f0220abe00",
   "metadata": {},
   "outputs": [],
   "source": [
    "def index_of_caps(word):\n",
    "    return [i for i, char in enumerate(word) if char.isupper()]"
   ]
  },
  {
   "cell_type": "code",
   "execution_count": 13,
   "id": "3eb04c78-e60e-4c68-bc11-d9eb0a7099db",
   "metadata": {},
   "outputs": [
    {
     "name": "stdout",
     "output_type": "stream",
     "text": [
      "[1, 3, 5]\n",
      "[1, 3, 4, 6]\n",
      "[]\n",
      "[1]\n"
     ]
    }
   ],
   "source": [
    "print(index_of_caps(\"eDaBiT\"))\n",
    "print(index_of_caps(\"eQuINoX\"))\n",
    "print(index_of_caps(\"determine\"))\n",
    "print(index_of_caps(\"sUn\"))"
   ]
  },
  {
   "cell_type": "code",
   "execution_count": null,
   "id": "fe1456c7-57c7-4a85-814d-0213dd07c382",
   "metadata": {},
   "outputs": [],
   "source": []
  }
 ],
 "metadata": {
  "kernelspec": {
   "display_name": "Python 3 (ipykernel)",
   "language": "python",
   "name": "python3"
  },
  "language_info": {
   "codemirror_mode": {
    "name": "ipython",
    "version": 3
   },
   "file_extension": ".py",
   "mimetype": "text/x-python",
   "name": "python",
   "nbconvert_exporter": "python",
   "pygments_lexer": "ipython3",
   "version": "3.11.7"
  }
 },
 "nbformat": 4,
 "nbformat_minor": 5
}
