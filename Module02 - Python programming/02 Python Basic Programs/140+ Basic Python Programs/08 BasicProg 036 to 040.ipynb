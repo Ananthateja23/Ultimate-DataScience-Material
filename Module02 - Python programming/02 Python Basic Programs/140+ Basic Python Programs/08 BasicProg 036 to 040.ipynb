{
 "cells": [
  {
   "cell_type": "markdown",
   "id": "befbd56c-50bb-4d5c-8101-63370cb6b89d",
   "metadata": {},
   "source": [
    "### ***36 WAP to check if given array is monotonic*** \n",
    "```\n",
    "==> A monotonic array is one that is entirely non-increasing or non-decreasing.\n",
    "```"
   ]
  },
  {
   "cell_type": "code",
   "execution_count": 6,
   "id": "b9b56e33-2a10-46c2-9d67-284c526ce581",
   "metadata": {},
   "outputs": [
    {
     "name": "stdout",
     "output_type": "stream",
     "text": [
      "arr1 is monotonic: True\n",
      "arr2 is monotonic: True\n",
      "arr3 is monotonic: False\n"
     ]
    }
   ],
   "source": [
    "def is_monotonic(arr):\n",
    "    increasing = decreasing = True\n",
    "\n",
    "    for i in range(1, len(arr)):\n",
    "        if arr[i] > arr[i-1]:\n",
    "            decreasing = False\n",
    "        elif arr[i] < arr[i-1]:\n",
    "            increasing = False\n",
    "    return increasing or decreasing\n",
    "\n",
    "\n",
    "arr1 = [1, 2, 2, 3]\n",
    "arr2 = [3, 2, 1]\n",
    "arr3 = [1, 3, 2, 4]\n",
    "\n",
    "print(\"arr1 is monotonic:\", is_monotonic(arr1))\n",
    "print(\"arr2 is monotonic:\", is_monotonic(arr2))\n",
    "print(\"arr3 is monotonic:\", is_monotonic(arr3))"
   ]
  },
  {
   "cell_type": "markdown",
   "id": "50cb5150-19e7-426e-8f11-a4bd6d21d444",
   "metadata": {},
   "source": [
    "### ***37 WAP to add two matrices*** "
   ]
  },
  {
   "cell_type": "code",
   "execution_count": 2,
   "id": "24c671bd-627b-401b-a987-b7f1bd7a9c4d",
   "metadata": {},
   "outputs": [
    {
     "name": "stdout",
     "output_type": "stream",
     "text": [
      "Sum of matrices\n",
      "[10, 10, 10]\n",
      "[10, 10, 10]\n",
      "[10, 10, 10]\n"
     ]
    }
   ],
   "source": [
    "def add_matrices(mat1, mat2):\n",
    "    if (len(mat1) != len(mat2)) or (len(mat1[0]) != len(mat2[0])):\n",
    "        return \"Matrices must have the same dimensions for addition\"\n",
    "\n",
    "    result = []\n",
    "    for i in range(len(mat1)):\n",
    "        row = []\n",
    "        for j in range(len(mat1[0])):\n",
    "            row.append(mat1[i][j]+mat2[i][j])\n",
    "        result.append(row)\n",
    "    return result\n",
    "\n",
    "matrix1 = [\n",
    "    [1, 2, 3],\n",
    "    [4, 5, 6],\n",
    "    [7, 8, 9]\n",
    "]\n",
    "\n",
    "matrix2 = [\n",
    "    [9, 8, 7],\n",
    "    [6, 5, 4],\n",
    "    [3, 2, 1]\n",
    "]\n",
    "\n",
    "result_matrix = add_matrices(matrix1, matrix2)\n",
    "\n",
    "\n",
    "if isinstance(result_matrix, str):\n",
    "    print(result_matrix)\n",
    "else:\n",
    "    print(\"Sum of matrices\")\n",
    "    for row in result_matrix:\n",
    "        print(row)"
   ]
  },
  {
   "cell_type": "markdown",
   "id": "09cc1119-3722-42e8-a89e-509db222a32e",
   "metadata": {},
   "source": [
    "### ***38 WAP to multiply two matrices*** "
   ]
  },
  {
   "cell_type": "code",
   "execution_count": 3,
   "id": "017522ad-0698-491a-a7d9-451d54ceff1c",
   "metadata": {},
   "outputs": [
    {
     "name": "stdout",
     "output_type": "stream",
     "text": [
      "Result of matrix multiplication: \n",
      "[58, 64]\n",
      "[139, 154]\n"
     ]
    }
   ],
   "source": [
    "def multiply_matrices(mat1, mat2):\n",
    "    rows1 = len(mat1)\n",
    "    cols1 = len(mat1[0])\n",
    "    rows2 = len(mat2)\n",
    "    cols2 = len(mat2[0])\n",
    "\n",
    "    if cols1 != rows2:\n",
    "        return \"Matrix multiplication is not possible\"\n",
    "\n",
    "    result = [[0 for _ in range(cols2)] for _ in range(rows1)]\n",
    "\n",
    "    for i in range(rows1):\n",
    "        for j in range(cols2):\n",
    "            for k in range(cols1):\n",
    "                result[i][j] += mat1[i][k] * mat2[k][j]\n",
    "\n",
    "    return result\n",
    "\n",
    "matrix1 = [\n",
    "    [1, 2, 3],\n",
    "    [4, 5, 6]\n",
    "]\n",
    "\n",
    "matrix2 = [\n",
    "    [7, 8],\n",
    "    [9, 10],\n",
    "    [11, 12]\n",
    "]\n",
    "\n",
    "result_matrix = multiply_matrices(matrix1, matrix2)\n",
    "\n",
    "if isinstance(result_matrix, str):\n",
    "    print(result_matrix)\n",
    "else:\n",
    "    print(\"Result of matrix multiplication: \")\n",
    "    for row in result_matrix:\n",
    "        print(row)"
   ]
  },
  {
   "cell_type": "markdown",
   "id": "092830f5-d21f-4796-b47c-7bba1ca377b9",
   "metadata": {},
   "source": [
    "### ***39 WAP to Transpose a matrix*** "
   ]
  },
  {
   "cell_type": "code",
   "execution_count": 4,
   "id": "351ee57c-2dc7-4ee1-adcc-324b8e1be259",
   "metadata": {},
   "outputs": [
    {
     "name": "stdout",
     "output_type": "stream",
     "text": [
      "[1, 4]\n",
      "[2, 5]\n",
      "[3, 6]\n"
     ]
    }
   ],
   "source": [
    "def transpose_matrix(matrix):\n",
    "    rows, cols = len(matrix), len(matrix[0])\n",
    "    result = [[0 for _ in range(rows)] for _ in range(cols)]\n",
    "\n",
    "    for i in range(rows):\n",
    "        for j in range(cols):\n",
    "            result[j][i] = matrix[i][j]\n",
    "\n",
    "    return result\n",
    "\n",
    "matrix = [\n",
    "    [1, 2, 3],\n",
    "    [4, 5, 6]\n",
    "]\n",
    "\n",
    "transposed_matrix = transpose_matrix(matrix)\n",
    "\n",
    "for row in transposed_matrix:\n",
    "    print(row)"
   ]
  },
  {
   "cell_type": "markdown",
   "id": "c65e10ae-3c50-4f2a-a5a3-e75fff3b422a",
   "metadata": {},
   "source": [
    "### ***40 WAP to sort words in alphabetic order*** "
   ]
  },
  {
   "cell_type": "code",
   "execution_count": 5,
   "id": "a60f2ecd-7829-4ff0-8a34-08f69e355bbb",
   "metadata": {},
   "outputs": [
    {
     "name": "stdin",
     "output_type": "stream",
     "text": [
      "Enter a string :  suresh ramesh vibhuti gulgule raji ram shyam ajay\n"
     ]
    },
    {
     "name": "stdout",
     "output_type": "stream",
     "text": [
      "The sorted words are:\n",
      "Ajay\n",
      "Gulgule\n",
      "Raji\n",
      "Ram\n",
      "Ramesh\n",
      "Shyam\n",
      "Suresh\n",
      "Vibhuti\n"
     ]
    }
   ],
   "source": [
    "my_str = input(\"Enter a string : \")\n",
    "\n",
    "words = [word.capitalize() for word in my_str.split()]\n",
    "\n",
    "words.sort()\n",
    "\n",
    "print(\"The sorted words are:\")\n",
    "for word in words:\n",
    "    print(word)"
   ]
  },
  {
   "cell_type": "code",
   "execution_count": null,
   "id": "9de60681-e445-4576-89b0-5d1b99b06b37",
   "metadata": {},
   "outputs": [],
   "source": []
  }
 ],
 "metadata": {
  "kernelspec": {
   "display_name": "Python 3 (ipykernel)",
   "language": "python",
   "name": "python3"
  },
  "language_info": {
   "codemirror_mode": {
    "name": "ipython",
    "version": 3
   },
   "file_extension": ".py",
   "mimetype": "text/x-python",
   "name": "python",
   "nbconvert_exporter": "python",
   "pygments_lexer": "ipython3",
   "version": "3.11.7"
  }
 },
 "nbformat": 4,
 "nbformat_minor": 5
}
