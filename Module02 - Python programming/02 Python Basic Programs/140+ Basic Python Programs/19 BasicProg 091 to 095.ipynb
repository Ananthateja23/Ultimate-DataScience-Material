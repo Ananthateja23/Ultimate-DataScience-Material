{
 "cells": [
  {
   "cell_type": "markdown",
   "id": "04af1116-1b9d-4ead-9d75-38e091937ed3",
   "metadata": {},
   "source": [
    "### ***91 Define a class named shape and its subclass Square. The Square class has an init function which takes a length as argument. Both classes have an area function which can print the area of the shape where Shape's area is 0 by default***"
   ]
  },
  {
   "cell_type": "code",
   "execution_count": 1,
   "id": "50b98af8-af65-4584-a37b-cbef06d47885",
   "metadata": {},
   "outputs": [],
   "source": [
    "class Shape:\n",
    "    def __init__(self):\n",
    "        pass\n",
    "    def area(self):\n",
    "        return 0\n",
    "\n",
    "class Square(Shape):\n",
    "    def __init__(self, length):\n",
    "        super().__init__()\n",
    "        self.length = length\n",
    "\n",
    "    def area(self):\n",
    "        return self.length ** 2"
   ]
  },
  {
   "cell_type": "code",
   "execution_count": 2,
   "id": "845ce37d-6880-419c-9cd0-fed14372b027",
   "metadata": {},
   "outputs": [
    {
     "name": "stdin",
     "output_type": "stream",
     "text": [
      "Enter the shape of the square :  5\n"
     ]
    },
    {
     "name": "stdout",
     "output_type": "stream",
     "text": [
      "Shape's area by default :  0\n",
      "Area of the square :  25.0\n"
     ]
    }
   ],
   "source": [
    "shape = Shape()\n",
    "square = Square(float(input(\"Enter the shape of the square : \")))\n",
    "\n",
    "print(\"Shape's area by default : \", shape.area())\n",
    "print(\"Area of the square : \", square.area())"
   ]
  },
  {
   "cell_type": "markdown",
   "id": "8c496ade-eb02-418d-a6ee-03a67ce5656d",
   "metadata": {},
   "source": [
    "### ***92 WAP for a function that stutters a word as if someone is struggling to read it. The first two letters are repeated twice with an ellipsis ... and space after each, and then the word is pronounced with a question mark ?***\n",
    "```\n",
    "Examples:\n",
    "\n",
    "stutter(\"incredible\")    ==> \"in... in... incredible?\"\n",
    "\n",
    "stutter(\"enthusiastic\")  ==> \"en... en... enthusiastic?\"\n",
    "\n",
    "stutter(\"outstanding\")   ==> \"ou... ou... outstanding?\"\n",
    "\n",
    "Hint:- Assume all input is in lower case and at least two characters long\n",
    "```"
   ]
  },
  {
   "cell_type": "code",
   "execution_count": 3,
   "id": "e8636631-da11-456f-a34a-1d54a5c204c0",
   "metadata": {},
   "outputs": [
    {
     "name": "stdout",
     "output_type": "stream",
     "text": [
      "in... in... incredible?\n",
      "en... en... enthusiastic?\n",
      "ou... ou... outstanding?\n"
     ]
    }
   ],
   "source": [
    "def stutter(word):\n",
    "    if len(word) < 2:\n",
    "        return \"Word must be atleast two characters long.\"\n",
    "\n",
    "    stuttered_word = f\"{word[:2]}... {word[:2]}... {word}?\"\n",
    "    return stuttered_word\n",
    "\n",
    "print(stutter(\"incredible\"))\n",
    "print(stutter(\"enthusiastic\"))\n",
    "print(stutter(\"outstanding\"))"
   ]
  },
  {
   "cell_type": "markdown",
   "id": "a6c7ada5-afdf-484e-ad2b-2448afd20646",
   "metadata": {},
   "source": [
    "### ***93 Create a function that takes an angle in radians and returns the corresponding angle in degrees rounded to one decimal place***\n",
    "```\n",
    "Examples:\n",
    "\n",
    "radians_to_degress(1)   ==> 57.3\n",
    "\n",
    "radians_to_degrees(20)  ==> 1145.9\n",
    "\n",
    "radians_to_degrees(50)  ==> 2864.8\n",
    "```"
   ]
  },
  {
   "cell_type": "code",
   "execution_count": 4,
   "id": "df73c005-66d0-4d76-85b0-215e55253255",
   "metadata": {},
   "outputs": [],
   "source": [
    "import math\n",
    "\n",
    "def radians_to_degrees(radians):\n",
    "    degrees = radians * (180 / math.pi)\n",
    "    return round(degrees, 1)"
   ]
  },
  {
   "cell_type": "code",
   "execution_count": 5,
   "id": "c1249ae8-3415-4f11-8824-adcb897a36a3",
   "metadata": {},
   "outputs": [
    {
     "name": "stdout",
     "output_type": "stream",
     "text": [
      "57.3\n",
      "1145.9\n",
      "2864.8\n"
     ]
    }
   ],
   "source": [
    "print(radians_to_degrees(1))\n",
    "print(radians_to_degrees(20))\n",
    "print(radians_to_degrees(50))"
   ]
  },
  {
   "cell_type": "markdown",
   "id": "7dc05c13-b9c7-48b4-8f26-d19388329509",
   "metadata": {},
   "source": [
    "### ***94 In this challenge, establish if a given integer num is a Curzon number. If 1 plus 2 elevated to num is exactly divisible by 1 plus 2 multiplied by num, then num is a Curzon number***\n",
    "```\n",
    "\n",
    "Given a non-negative integer num, implement a function that returns True if num is a Curzon number or False otherwise\n",
    "\n",
    "Examples:\n",
    "\n",
    "is_curzon(5) ==> True\n",
    "\n",
    "2 ** 5 + 1 = 33\n",
    "2 * 5 + 1  = 11\n",
    "\n",
    "==> 33 is a multiple of 11\n",
    "\n",
    "is_curzon(10) ==> False\n",
    "\n",
    "2 ** 10 + 1 = 1025\n",
    "2 * 10 + 1  = 21\n",
    "\n",
    "==> 1025 is not a multiple of 21\n",
    "\n",
    "is_curzon(14) ==> True\n",
    "\n",
    "2 ** 14 + 1 = 16385\n",
    "2 * 14 + 1  = 29\n",
    "\n",
    "==> 16385 is a multiple of 29\n",
    "\n",
    "Curzon number:\n",
    "--------------\n",
    "\n",
    "==> It is defined based on a specific mathematical relationship involving powers of 2. An integer \"n\" is considered a Curzon number if it satisfies the following condition\n",
    "\n",
    "==> if (2 ^ n + 1) is divisible by (2n + 1) then \"n\" is a Curzon number\n",
    "\n",
    "For example:\n",
    "\n",
    "==> If n = 5: 2 ^ 5 + 1 = 33 and 2 * 5 + 1 = 11. Since 33 is divisible by 11 (33 % 11 == 0), 5 is a Curzon number\n",
    "\n",
    "==> If n = 10: 2 ^ 10 + 1 = 1025 and 2 * 10 + 1 = 21. 1025 is not divisible by 21, So 10 is not a Curzon number\n",
    "\n",
    "\n",
    "Curzon numbers are a specific subset of integers with this unique mathematical property\n",
    "```"
   ]
  },
  {
   "cell_type": "code",
   "execution_count": 6,
   "id": "65c6d861-564e-4986-ace4-9a558ce62e10",
   "metadata": {},
   "outputs": [],
   "source": [
    "def is_curzon(num):\n",
    "    numerator = 2 ** num + 1\n",
    "    denominator = 2 * num + 1\n",
    "    return numerator % denominator == 0"
   ]
  },
  {
   "cell_type": "code",
   "execution_count": 7,
   "id": "fe444d21-36c1-4989-befc-4fcc40a89eb3",
   "metadata": {},
   "outputs": [
    {
     "name": "stdout",
     "output_type": "stream",
     "text": [
      "True\n",
      "False\n",
      "True\n"
     ]
    }
   ],
   "source": [
    "print(is_curzon(5))\n",
    "print(is_curzon(10))\n",
    "print(is_curzon(14))"
   ]
  },
  {
   "cell_type": "markdown",
   "id": "b9cce5ef-aa16-4705-a61b-332e89317e83",
   "metadata": {},
   "source": [
    "### ***95 WAP to find the area of a hexagon with given side***\n",
    "```\n",
    "Examples:\n",
    "\n",
    "area_of_hexagon(1)  ==> 2.6\n",
    "\n",
    "area_of_hexagon(2)  ==> 10.4\n",
    "\n",
    "area_of_hexagon(3)  ==> 23.4\n",
    "```"
   ]
  },
  {
   "cell_type": "code",
   "execution_count": 8,
   "id": "8d4e261b-2a45-4595-85b6-aa70f7b4e5fa",
   "metadata": {},
   "outputs": [],
   "source": [
    "import math\n",
    "\n",
    "def area_of_hexagon(x):\n",
    "    area = (3 * math.sqrt(3) * x ** 2) / 2\n",
    "    return round(area, 1)"
   ]
  },
  {
   "cell_type": "code",
   "execution_count": 9,
   "id": "7e456085-9e70-4c19-a786-9c7b7210dd6f",
   "metadata": {},
   "outputs": [
    {
     "name": "stdout",
     "output_type": "stream",
     "text": [
      "2.6\n",
      "10.4\n",
      "23.4\n"
     ]
    }
   ],
   "source": [
    "print(area_of_hexagon(1))\n",
    "print(area_of_hexagon(2))\n",
    "print(area_of_hexagon(3))"
   ]
  },
  {
   "cell_type": "code",
   "execution_count": null,
   "id": "e6627b76-fede-4c2e-a349-ebbf300bc651",
   "metadata": {},
   "outputs": [],
   "source": []
  }
 ],
 "metadata": {
  "kernelspec": {
   "display_name": "Python 3 (ipykernel)",
   "language": "python",
   "name": "python3"
  },
  "language_info": {
   "codemirror_mode": {
    "name": "ipython",
    "version": 3
   },
   "file_extension": ".py",
   "mimetype": "text/x-python",
   "name": "python",
   "nbconvert_exporter": "python",
   "pygments_lexer": "ipython3",
   "version": "3.11.7"
  }
 },
 "nbformat": 4,
 "nbformat_minor": 5
}
