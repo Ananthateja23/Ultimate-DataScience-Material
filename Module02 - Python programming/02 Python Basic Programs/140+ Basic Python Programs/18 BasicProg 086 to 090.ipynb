{
 "cells": [
  {
   "cell_type": "markdown",
   "id": "36ba7c4b-65a4-4262-9cb8-24b3032647eb",
   "metadata": {},
   "source": [
    "### ***86 WAP to binary search function which searches an item in a sorted list. The function should return the index of element to be searched in the list***"
   ]
  },
  {
   "cell_type": "code",
   "execution_count": 1,
   "id": "db0af5af-2050-4766-82c6-5cfadbd3c9d5",
   "metadata": {},
   "outputs": [
    {
     "name": "stdout",
     "output_type": "stream",
     "text": [
      "Element 4 found at index 3\n"
     ]
    }
   ],
   "source": [
    "def binary_search(arr, target):\n",
    "    left, right = 0, len(arr)-1\n",
    "    while (left <= right):\n",
    "        mid = (left + right) // 2\n",
    "        if arr[mid] == target:\n",
    "            return mid\n",
    "        elif arr[mid] < target:\n",
    "            left = mid + 1\n",
    "        else:\n",
    "            right = mid - 1\n",
    "    return -1\n",
    "\n",
    "sorted_list = [1, 2, 3, 4, 5, 6, 7, 8, 9]\n",
    "target_element = 4\n",
    "\n",
    "result = binary_search(sorted_list, target_element)\n",
    "\n",
    "if result != -1:\n",
    "    print(f\"Element {target_element} found at index {result}\")\n",
    "else:\n",
    "    print(f\"Element {target_element} not found in the list\")"
   ]
  },
  {
   "cell_type": "markdown",
   "id": "32cbf720-0573-49cb-8056-93987de8c660",
   "metadata": {},
   "source": [
    "### ***87 WAP using generator to print the numbers which can be divisible by 5 and 7 between 0 and n in comma seperated form while n is input by console***\n",
    "```\n",
    "\n",
    "Example:\n",
    "--------\n",
    "\n",
    "If the following n is given as input to the program:\n",
    "\n",
    "==> 100\n",
    "\n",
    "Then, the output of the program should be:\n",
    "\n",
    "==> 0,35,70\n",
    "\n",
    "```"
   ]
  },
  {
   "cell_type": "code",
   "execution_count": 2,
   "id": "7737bb3e-0415-432e-9b61-73f1fb8e6352",
   "metadata": {},
   "outputs": [
    {
     "name": "stdin",
     "output_type": "stream",
     "text": [
      "Enter a value for n:  100\n"
     ]
    },
    {
     "name": "stdout",
     "output_type": "stream",
     "text": [
      "0,35,70\n"
     ]
    }
   ],
   "source": [
    "def divisible_by_5_and_7(n):\n",
    "    for num in range(n+1):\n",
    "        if (num % 5 == 0) and (num % 7 == 0):\n",
    "            yield num\n",
    "\n",
    "try:\n",
    "    n = int(input(\"Enter a value for n: \"))\n",
    "    result = divisible_by_5_and_7(n)\n",
    "    print(\",\".join(map(str, result)))\n",
    "except ValueError:\n",
    "    print(\"Invalid input. Please enter a valid integer for n\")"
   ]
  },
  {
   "cell_type": "markdown",
   "id": "75b220c4-a55c-4c3b-91e6-fdeacbd2e940",
   "metadata": {},
   "source": [
    "### ***88 WAP using generator to print the even numbers between 0 and n in comma seperated form while n is input by console***\n",
    "\n",
    "```\n",
    "\n",
    "Example:\n",
    "--------\n",
    "\n",
    "If the following n is given as input to the program\n",
    "\n",
    "==> 10\n",
    "\n",
    "Then, the output of the program should be:\n",
    "\n",
    "==> 0,2,4,6,8\n",
    "```"
   ]
  },
  {
   "cell_type": "code",
   "execution_count": 3,
   "id": "6784db2d-2aea-409a-83ca-63dd09fe3327",
   "metadata": {},
   "outputs": [
    {
     "name": "stdin",
     "output_type": "stream",
     "text": [
      "Enter a value for n :  10\n"
     ]
    },
    {
     "name": "stdout",
     "output_type": "stream",
     "text": [
      "0,2,4,6,8,10\n"
     ]
    }
   ],
   "source": [
    "def even_numbers(n):\n",
    "    for num in range(n+1):\n",
    "        if (num % 2 == 0):\n",
    "            yield num\n",
    "\n",
    "try:\n",
    "    n = int(input(\"Enter a value for n : \"))\n",
    "    result = even_numbers(n)\n",
    "    print(\",\".join(map(str, result)))\n",
    "except ValueError:\n",
    "    print(\"Invalid input. Please enter a valid integer for n\")"
   ]
  },
  {
   "cell_type": "markdown",
   "id": "e78a4592-c742-4182-8003-dcd77de0fb06",
   "metadata": {},
   "source": [
    "### ***89 WAP using list comprehension to print the fibonacci sequence in comma seperated form with a given n input by console***\n",
    "```\n",
    "The Fibonacci Sequence is computed based on the following formula:\n",
    "\n",
    "f(n) = 0 if n = 0\n",
    "\n",
    "f(n) = 1 if n = 1\n",
    "\n",
    "f(n) = f(n-1) + f(n-2) if n > 1\n",
    "\n",
    "Example:\n",
    "--------\n",
    "\n",
    "If the following n is given as input to the program\n",
    "\n",
    "==> 8\n",
    "\n",
    "Then, the output of the program should be:\n",
    "\n",
    "==> 0,1,1,2,3,5,8,13\n",
    "```"
   ]
  },
  {
   "cell_type": "code",
   "execution_count": 4,
   "id": "379b873b-890a-4f9f-aa66-f1156c80a4b8",
   "metadata": {},
   "outputs": [
    {
     "name": "stdin",
     "output_type": "stream",
     "text": [
      "Enter a value for n :  8\n"
     ]
    },
    {
     "name": "stdout",
     "output_type": "stream",
     "text": [
      "0,1,1,2,3,5,8,13\n"
     ]
    }
   ],
   "source": [
    "def fibonacci(n):\n",
    "    sequence = [0, 1]\n",
    "    [sequence.append(sequence[-1] + sequence[-2]) for _ in range(2, n)]\n",
    "    return sequence\n",
    "\n",
    "try:\n",
    "    n = int(input(\"Enter a value for n : \"))\n",
    "    result = fibonacci(n)\n",
    "    print(\",\".join(map(str, result)))\n",
    "except ValueError:\n",
    "    print(\"Invalid input. Please enter a valid integer for n\")"
   ]
  },
  {
   "cell_type": "markdown",
   "id": "55ec3f50-a07f-40cc-b2f2-6aa463a38327",
   "metadata": {},
   "source": [
    "### ***90 WAP to print the user name of a given email address. Both user names and company names are composed of letters only***\n",
    "```\n",
    "\n",
    "Assuming that we have some email address in the \"username@companyname.com(mailto:username@companyname.com)\" format\n",
    "\n",
    "If the following email address is given as input to the program:\n",
    "\n",
    "==> john@google.com(mailto:john@google.com)\n",
    "\n",
    "Then, the output of the program should be:\n",
    "\n",
    "==> john\n",
    "```"
   ]
  },
  {
   "cell_type": "code",
   "execution_count": 5,
   "id": "c9b06436-2779-4471-8d6d-e37772eedf18",
   "metadata": {},
   "outputs": [
    {
     "name": "stdin",
     "output_type": "stream",
     "text": [
      "Enter an email address :  john@google.com\n"
     ]
    },
    {
     "name": "stdout",
     "output_type": "stream",
     "text": [
      "john\n"
     ]
    }
   ],
   "source": [
    "def extract_username(email):\n",
    "    parts = email.split(\"@\")\n",
    "\n",
    "    if len(parts) == 2:\n",
    "        return parts[0]\n",
    "    else:\n",
    "        return \"Invalid email format\"\n",
    "\n",
    "\n",
    "try:\n",
    "    email = input(\"Enter an email address : \")\n",
    "    username = extract_username(email)\n",
    "    print(username)\n",
    "except ValueError:\n",
    "    print(\"Invalid input. Please enter a valid email address\")"
   ]
  },
  {
   "cell_type": "code",
   "execution_count": null,
   "id": "ad2c2705-cdb6-4857-8848-101edfd92742",
   "metadata": {},
   "outputs": [],
   "source": []
  }
 ],
 "metadata": {
  "kernelspec": {
   "display_name": "Python 3 (ipykernel)",
   "language": "python",
   "name": "python3"
  },
  "language_info": {
   "codemirror_mode": {
    "name": "ipython",
    "version": 3
   },
   "file_extension": ".py",
   "mimetype": "text/x-python",
   "name": "python",
   "nbconvert_exporter": "python",
   "pygments_lexer": "ipython3",
   "version": "3.11.7"
  }
 },
 "nbformat": 4,
 "nbformat_minor": 5
}
