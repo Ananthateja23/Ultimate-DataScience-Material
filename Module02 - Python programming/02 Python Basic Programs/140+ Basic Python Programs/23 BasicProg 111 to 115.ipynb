{
 "cells": [
  {
   "cell_type": "markdown",
   "id": "054b9e0b-8609-42ab-a367-c0dcd2572e04",
   "metadata": {},
   "source": [
    "### ***111 Using list comprehensions, create a function that finds all even numbers from 1 to the given number***\n",
    "```\n",
    "Examples:\n",
    "---------\n",
    "\n",
    "find_even_number(8) ==> [2, 4, 6, 8]\n",
    "\n",
    "find_even_number(4) ==> [2, 4]\n",
    "\n",
    "find_even_number(2) ==> [2]\n",
    "```"
   ]
  },
  {
   "cell_type": "code",
   "execution_count": 1,
   "id": "bc6ccda0-d5ac-48ba-aa71-fadd2974cc3d",
   "metadata": {},
   "outputs": [],
   "source": [
    "def find_even_nums(num):\n",
    "    return [x for x in range(1, num+1) if (x % 2 == 0)]"
   ]
  },
  {
   "cell_type": "code",
   "execution_count": 2,
   "id": "99ca3e4f-3745-400f-8371-a5cc07682376",
   "metadata": {},
   "outputs": [
    {
     "name": "stdout",
     "output_type": "stream",
     "text": [
      "[2, 4, 6, 8]\n",
      "[2, 4]\n",
      "[2]\n"
     ]
    }
   ],
   "source": [
    "print(find_even_nums(8))\n",
    "print(find_even_nums(4))\n",
    "print(find_even_nums(2))"
   ]
  },
  {
   "cell_type": "markdown",
   "id": "df84bc32-afd0-4b13-b891-23b29c259dea",
   "metadata": {},
   "source": [
    "### ***112 Create a function that takes a list of strings and integers, and filters out the list so that it returns a list of integers only***\n",
    "```\n",
    "Examples:\n",
    "---------\n",
    "\n",
    "filter_list([1, 2, 3, \"a\", \"b\", 4])  ==> [1, 2, 3, 4]\n",
    "\n",
    "filter_list([\"A\", 0, \"Edabit\", 1729, \"python\", 1729]) ==> [0, 1729, 1729]\n",
    "\n",
    "filter_list([\"Nothing\", \"here\"]) ==> []\n",
    "```"
   ]
  },
  {
   "cell_type": "code",
   "execution_count": 3,
   "id": "4b18f299-64fb-499b-966e-069d8b652a5a",
   "metadata": {},
   "outputs": [],
   "source": [
    "def filter_list(lst):\n",
    "    return [x for x in lst if isinstance(x, int)]"
   ]
  },
  {
   "cell_type": "code",
   "execution_count": 4,
   "id": "3434b09f-69e6-4243-8df8-1e84937659ac",
   "metadata": {},
   "outputs": [
    {
     "name": "stdout",
     "output_type": "stream",
     "text": [
      "[1, 2, 3, 4]\n",
      "[0, 1729, 1729]\n",
      "[]\n"
     ]
    }
   ],
   "source": [
    "print(filter_list([1, 2, 3, \"a\", \"b\", 4]))\n",
    "print(filter_list([\"A\", 0, \"Edabit\", 1729, \"python\", 1729]))\n",
    "print(filter_list([\"Nothing\", \"here\"]))"
   ]
  },
  {
   "cell_type": "markdown",
   "id": "f4d307d8-a58a-480a-a5cb-dc9bc40b8a3f",
   "metadata": {},
   "source": [
    "### ***113 Given a list of numbers, create a function which returns the list but with each element's index in the list added to itself. This means you add 0 to the number at index 0, add 1 to the number at index 1 etc...***\n",
    "```\n",
    "Examples:\n",
    "---------\n",
    "\n",
    "add_indexes([0, 0, 0, 0, 0])  ==> [0, 1, 2, 3, 4]\n",
    "\n",
    "add_indexes([1, 2, 3, 4, 5])  ==> [1, 3, 5, 7, 9]\n",
    "\n",
    "add_indexes([5, 4, 3, 2, 1])  ==> [5, 5, 5, 5, 5]\n",
    "```"
   ]
  },
  {
   "cell_type": "code",
   "execution_count": 5,
   "id": "9239221c-dda7-46e3-85d7-52aa814760a1",
   "metadata": {},
   "outputs": [],
   "source": [
    "def add_indexes(lst):\n",
    "    return [(i + val) for i, val in enumerate(lst)]"
   ]
  },
  {
   "cell_type": "code",
   "execution_count": 6,
   "id": "b966f71c-d290-4153-bbf0-4afffc1a93a1",
   "metadata": {},
   "outputs": [
    {
     "name": "stdout",
     "output_type": "stream",
     "text": [
      "[0, 1, 2, 3, 4]\n",
      "[1, 3, 5, 7, 9]\n",
      "[5, 5, 5, 5, 5]\n"
     ]
    }
   ],
   "source": [
    "print(add_indexes([0, 0, 0, 0, 0]))\n",
    "print(add_indexes([1, 2, 3, 4, 5]))\n",
    "print(add_indexes([5, 4, 3, 2, 1]))"
   ]
  },
  {
   "cell_type": "markdown",
   "id": "2e34f1dc-213f-412e-bc39-499b5d9a0306",
   "metadata": {},
   "source": [
    "### ***114 Create a function that takes the height and radius of a cone as arguments and returns the volume of the cone rounded to the nearest hundredth. See the resources tab for the formula***\n",
    "```\n",
    "Examples:\n",
    "---------\n",
    "\n",
    "cone_volume(3, 2) ==> 12.57\n",
    "\n",
    "cone_volume(15, 6) ==> 565.49\n",
    "\n",
    "cone_volume(18, 0) ==> 0\n",
    "```"
   ]
  },
  {
   "cell_type": "code",
   "execution_count": 7,
   "id": "bf9792ae-c1c0-4491-9691-ddf7d5a726ee",
   "metadata": {},
   "outputs": [],
   "source": [
    "import math\n",
    "\n",
    "def cone_volume(height, radius):\n",
    "    if radius == 0:\n",
    "        return 0\n",
    "    volume = (1/3) * math.pi * (radius ** 2) * height\n",
    "    return round(volume, 2)"
   ]
  },
  {
   "cell_type": "code",
   "execution_count": 8,
   "id": "fc31aa2f-0ef3-42aa-85ae-a563a8134d5a",
   "metadata": {},
   "outputs": [
    {
     "name": "stdout",
     "output_type": "stream",
     "text": [
      "12.57\n",
      "565.49\n",
      "0\n"
     ]
    }
   ],
   "source": [
    "print(cone_volume(3, 2))\n",
    "print(cone_volume(15, 6))\n",
    "print(cone_volume(18, 0))"
   ]
  },
  {
   "cell_type": "markdown",
   "id": "c203b47a-6bd9-4bbe-a9db-1cad51a30601",
   "metadata": {},
   "source": [
    "### ***115 This Triangular number sequence is generated from a pattern of dots that form a triangle. The first 5 numbers of the sequence, or dots are: 1, 3, 6, 10, 15***\n",
    "```\n",
    "This means that the first triangle has just one dot, the second one has three dots, the third one has 6 dots and so on...\n",
    "\n",
    "Write a function that gives the number of dots with its corresponding triangle number of the sequence\n",
    "\n",
    "Examples:\n",
    "---------\n",
    "\n",
    "triangle(1) ==> 1\n",
    "\n",
    "triangle(6) ==> 21\n",
    "\n",
    "triangle(215) ==> 23220\n",
    "```"
   ]
  },
  {
   "cell_type": "code",
   "execution_count": 9,
   "id": "44d38279-87e2-4e98-9c7d-c162672009a7",
   "metadata": {},
   "outputs": [],
   "source": [
    "def triangle(n):\n",
    "    if (n < 1):\n",
    "        return 0\n",
    "    return n * (n + 1) // 2"
   ]
  },
  {
   "cell_type": "code",
   "execution_count": 10,
   "id": "3480c41e-bd14-4824-9dd3-23d27bf89a71",
   "metadata": {},
   "outputs": [
    {
     "name": "stdout",
     "output_type": "stream",
     "text": [
      "1\n",
      "21\n",
      "23220\n"
     ]
    }
   ],
   "source": [
    "print(triangle(1))\n",
    "print(triangle(6))\n",
    "print(triangle(215))"
   ]
  },
  {
   "cell_type": "code",
   "execution_count": null,
   "id": "913202f7-5b68-47bf-9910-0c1f7264aa52",
   "metadata": {},
   "outputs": [],
   "source": []
  }
 ],
 "metadata": {
  "kernelspec": {
   "display_name": "Python 3 (ipykernel)",
   "language": "python",
   "name": "python3"
  },
  "language_info": {
   "codemirror_mode": {
    "name": "ipython",
    "version": 3
   },
   "file_extension": ".py",
   "mimetype": "text/x-python",
   "name": "python",
   "nbconvert_exporter": "python",
   "pygments_lexer": "ipython3",
   "version": "3.11.7"
  }
 },
 "nbformat": 4,
 "nbformat_minor": 5
}
