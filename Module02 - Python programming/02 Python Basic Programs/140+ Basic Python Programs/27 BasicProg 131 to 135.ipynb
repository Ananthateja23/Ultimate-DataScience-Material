{
 "cells": [
  {
   "cell_type": "markdown",
   "id": "cc4dc588-2c54-4cd9-8c12-bb24e29d92d0",
   "metadata": {},
   "source": [
    "### ***131 Create a function that returns the mean of all digits***\n",
    "```\n",
    "Examples:\n",
    "---------\n",
    "\n",
    "mean(42)    ==> 6\n",
    "\n",
    "mean(12345) ==> 3\n",
    "\n",
    "mean(666)   ==> 6\n",
    "\n",
    "Notes:\n",
    "\n",
    "- The mean of all digits is the sum of digits / how many digits there are(eg mean of digits in 512 is (5+1+2)/3(number of digits) = 8/3 = 2)\n",
    "\n",
    "- The mean will always be an integer\n",
    "```"
   ]
  },
  {
   "cell_type": "code",
   "execution_count": 2,
   "id": "8e968613-de5b-478e-994b-ddbc88a87710",
   "metadata": {},
   "outputs": [],
   "source": [
    "def mean(n):\n",
    "    n_str = str(n)\n",
    "    digit_sum = sum(int(digit) for digit in n_str)\n",
    "    digit_count = len(n_str)\n",
    "    digit_mean = digit_sum / digit_count\n",
    "    return int(digit_mean)"
   ]
  },
  {
   "cell_type": "code",
   "execution_count": 3,
   "id": "22bdebf2-d4b5-4f1e-aacc-a979135bd932",
   "metadata": {},
   "outputs": [
    {
     "name": "stdout",
     "output_type": "stream",
     "text": [
      "3\n",
      "3\n",
      "6\n"
     ]
    }
   ],
   "source": [
    "print(mean(42))\n",
    "print(mean(12345))\n",
    "print(mean(666))"
   ]
  },
  {
   "cell_type": "markdown",
   "id": "b074ef2b-1b8a-4645-b84f-4322cb80323b",
   "metadata": {},
   "source": [
    "### ***132 Create a function that takes an integer and returns a list from 1 to the given number, where:***\n",
    "```\n",
    "1. If the number can be divided evenly by 4, amplify it by 10(i.e return 10 times the number)\n",
    "\n",
    "2. If the number cannot be divided evenly by 4, simply return the number\n",
    "\n",
    "Examples:\n",
    "---------\n",
    "\n",
    "amplify(4) ==> [1, 2, 3, 40]\n",
    "\n",
    "amplify(3) ==> [1, 2, 3]\n",
    "\n",
    "amplify(25) ==> [1, 2, 3, 40, 5, 6, 7, 80, 9, 10, 11, 120, 13, 14, 15, 160, 17, 18, 19, 200, 21, 22, 23, 240, 25]\n",
    "\n",
    "Notes:\n",
    "\n",
    "- The given integer will always be equal to or greater than 1\n",
    "\n",
    "- Include the number(see examples above)\n",
    "\n",
    "- To perform this problem with its intended purpose, try doing it with list comprehensions. If that's too difficult, just solve the challenge any way you can.\n",
    "```"
   ]
  },
  {
   "cell_type": "code",
   "execution_count": 4,
   "id": "b49144f9-4353-4ba8-879e-4654322ae5ae",
   "metadata": {},
   "outputs": [],
   "source": [
    "def amplify(num):\n",
    "    return [n*10 if (n % 4 == 0) else n for n in range(1, num+1)]"
   ]
  },
  {
   "cell_type": "code",
   "execution_count": 5,
   "id": "a6ff4920-ae94-4658-9ea0-227441c03036",
   "metadata": {},
   "outputs": [
    {
     "name": "stdout",
     "output_type": "stream",
     "text": [
      "[1, 2, 3, 40]\n",
      "[1, 2, 3]\n",
      "[1, 2, 3, 40, 5, 6, 7, 80, 9, 10, 11, 120, 13, 14, 15, 160, 17, 18, 19, 200, 21, 22, 23, 240, 25]\n"
     ]
    }
   ],
   "source": [
    "print(amplify(4))\n",
    "print(amplify(3))\n",
    "print(amplify(25))"
   ]
  },
  {
   "cell_type": "markdown",
   "id": "4baeb628-614b-4767-9265-6e4173e855d8",
   "metadata": {},
   "source": [
    "### ***133 Create a function that takes a list of numbers and return the number that's unique***\n",
    "```\n",
    "Examples:\n",
    "---------\n",
    "\n",
    "unique([3, 3, 3, 7, 3, 3])  ==> 7\n",
    "\n",
    "unique([0, 0, 0.77, 0, 0])  ==> 0.77\n",
    "\n",
    "unique([0, 1, 1, 1, 1, 1, 1, 1])  ==> 0\n",
    "\n",
    "Notes:\n",
    "\n",
    "- Test cases will always have exactly one unique number while all others are the same\n",
    "```"
   ]
  },
  {
   "cell_type": "code",
   "execution_count": 6,
   "id": "6e5379e9-dd9f-4e73-ac68-391af6ae0b75",
   "metadata": {},
   "outputs": [],
   "source": [
    "def unique(numbers):\n",
    "    count_dict = {}\n",
    "    for num in numbers:\n",
    "        if num not in count_dict:\n",
    "            count_dict[num] = 1\n",
    "        else:\n",
    "            count_dict[num] += 1\n",
    "    for num, count in count_dict.items():\n",
    "        if count == 1:\n",
    "            return num"
   ]
  },
  {
   "cell_type": "code",
   "execution_count": 7,
   "id": "ab03d578-c8ed-472a-bee5-ff8b00bd5977",
   "metadata": {},
   "outputs": [
    {
     "name": "stdout",
     "output_type": "stream",
     "text": [
      "7\n",
      "0.77\n",
      "0\n"
     ]
    }
   ],
   "source": [
    "print(unique([3, 3, 3, 7, 3, 3]))\n",
    "print(unique([0, 0, 0.77, 0, 0]))\n",
    "print(unique([0, 1, 1, 1, 1, 1, 1, 1]))"
   ]
  },
  {
   "cell_type": "markdown",
   "id": "6e45471b-8596-4519-b832-4fb4a27bd8c5",
   "metadata": {},
   "source": [
    "### ***134 Your task is to create a Circle constructor that creates a circle with a radius provided by an argument. The circles constructed must have two getters getArea()(plr^2) and getPerimeter()(2pl\\*r) which give both respective areas and perimeter(circumference)***\n",
    "```\n",
    "For help with this class, I have provided you with a Rectangle constructor which you can use as a base example\n",
    "\n",
    "Examples:\n",
    "---------\n",
    "\n",
    "circy = Circle(11)\n",
    "\n",
    "circy.getArea()\n",
    "\n",
    "- Should return 380.132711084365\n",
    "\n",
    "circy = Circle(4.44)\n",
    "\n",
    "circy.getPerimeter()\n",
    "\n",
    "- Should return 27.897342763877365\n",
    "\n",
    "Notes:\n",
    "\n",
    "- Round results up to the nearest integer\n",
    "```"
   ]
  },
  {
   "cell_type": "code",
   "execution_count": 8,
   "id": "b2a42300-afed-45c3-bdf9-ad5fb1da2721",
   "metadata": {},
   "outputs": [],
   "source": [
    "import math\n",
    "\n",
    "class Circle:\n",
    "    def __init__(self, radius):\n",
    "        self.radius = radius\n",
    "        \n",
    "    def getArea(self):\n",
    "        return round(math.pi * self.radius**2)\n",
    "        \n",
    "    def getPerimeter(self):\n",
    "        return round(2 * math.pi * self.radius)"
   ]
  },
  {
   "cell_type": "code",
   "execution_count": 11,
   "id": "98c46e2d-7baa-49ae-8cef-4858ce38c267",
   "metadata": {},
   "outputs": [
    {
     "name": "stdout",
     "output_type": "stream",
     "text": [
      "380\n",
      "69\n"
     ]
    }
   ],
   "source": [
    "circy = Circle(11)\n",
    "print(circy.getArea())\n",
    "print(circy.getPerimeter())"
   ]
  },
  {
   "cell_type": "code",
   "execution_count": 12,
   "id": "0e29a561-d9ce-4876-9ce9-e3ac5d4e6de3",
   "metadata": {},
   "outputs": [
    {
     "name": "stdout",
     "output_type": "stream",
     "text": [
      "62\n",
      "28\n"
     ]
    }
   ],
   "source": [
    "circy = Circle(4.44)\n",
    "print(circy.getArea())\n",
    "print(circy.getPerimeter())"
   ]
  },
  {
   "cell_type": "markdown",
   "id": "7870e959-ed3c-4dbe-9885-c7c73341d6df",
   "metadata": {},
   "source": [
    "### ***135 Create a function that takes a list of strings and return a list, sorted from shortest to longest***\n",
    "```\n",
    "Examples:\n",
    "---------\n",
    "\n",
    "sort_by_length([\"Google\", \"Apple\", \"Microsoft\"]) ==> [\"Apple\", \"Google\", \"Microsoft\"]\n",
    "\n",
    "sort_by_length([\"Leonardo\", \"Michelangelo\", \"Raphael\", \"Donatello\"]) ==> [\"Raphael\", \"Leonardo\", \"Donatello\", \"Michelangelo\"]\n",
    "\n",
    "sort_by_length([\"Turing\", \"Einstein\", \"Jung\"]) ==> [\"Jung\", \"Turing\", \"Einstein\"]\n",
    "\n",
    "Notes:\n",
    "\n",
    "- All test cases contain lists with strings of different lengths, so you won't have to deal\n",
    "```"
   ]
  },
  {
   "cell_type": "code",
   "execution_count": 13,
   "id": "13e70e62-5d54-494f-bf22-ddd1f4bc018a",
   "metadata": {},
   "outputs": [],
   "source": [
    "def sort_by_length(lst):\n",
    "    return sorted(lst, key=len)"
   ]
  },
  {
   "cell_type": "code",
   "execution_count": 14,
   "id": "4e07a74c-4ce1-4b0a-9705-fea36b101a38",
   "metadata": {},
   "outputs": [
    {
     "name": "stdout",
     "output_type": "stream",
     "text": [
      "['Apple', 'Google', 'Microsoft']\n",
      "['Raphael', 'Leonardo', 'Donatello', 'Michelangelo']\n",
      "['Jung', 'Turing', 'Einstein']\n"
     ]
    }
   ],
   "source": [
    "print(sort_by_length([\"Google\", \"Apple\", \"Microsoft\"]))\n",
    "print(sort_by_length([\"Leonardo\", \"Michelangelo\", \"Raphael\", \"Donatello\"]))\n",
    "print(sort_by_length([\"Turing\", \"Einstein\", \"Jung\"]))"
   ]
  },
  {
   "cell_type": "code",
   "execution_count": null,
   "id": "6f0f4d7a-19f1-4a7f-a741-9ce1cb0f2d21",
   "metadata": {},
   "outputs": [],
   "source": []
  }
 ],
 "metadata": {
  "kernelspec": {
   "display_name": "Python 3 (ipykernel)",
   "language": "python",
   "name": "python3"
  },
  "language_info": {
   "codemirror_mode": {
    "name": "ipython",
    "version": 3
   },
   "file_extension": ".py",
   "mimetype": "text/x-python",
   "name": "python",
   "nbconvert_exporter": "python",
   "pygments_lexer": "ipython3",
   "version": "3.11.7"
  }
 },
 "nbformat": 4,
 "nbformat_minor": 5
}
