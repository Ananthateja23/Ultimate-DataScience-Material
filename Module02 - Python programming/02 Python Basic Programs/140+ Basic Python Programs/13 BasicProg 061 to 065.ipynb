{
 "cells": [
  {
   "cell_type": "markdown",
   "id": "a6bd01e5-2b48-4dc4-9c05-0da53c05c2d9",
   "metadata": {},
   "source": [
    "### ***61 WAP to remove i th character from a string***"
   ]
  },
  {
   "cell_type": "code",
   "execution_count": 1,
   "id": "41155029-6fa1-4820-92a6-90aed668f53a",
   "metadata": {},
   "outputs": [
    {
     "name": "stdout",
     "output_type": "stream",
     "text": [
      "Original String : Hello, wWorld!\n",
      "String after removing 7 th character : Hello, World!\n"
     ]
    }
   ],
   "source": [
    "def remove_char(input_str, i):\n",
    "    if i < 0 or i >= len(input_str):\n",
    "        print(f\"Invalid index {i}. The string remains unchanged\")\n",
    "        return input_str\n",
    "\n",
    "    result_str = input_str[ : i] + input_str[i+1: ]\n",
    "    return result_str\n",
    "\n",
    "input_str = \"Hello, wWorld!\"\n",
    "i = 7\n",
    "new_str = remove_char(input_str, i)\n",
    "\n",
    "print(f\"Original String : {input_str}\")\n",
    "print(f\"String after removing {i} th character : {new_str}\")"
   ]
  },
  {
   "cell_type": "markdown",
   "id": "e419ecb6-372f-4390-8a7f-5ab01db146fb",
   "metadata": {},
   "source": [
    "### ***62 WAP to split and join a string***"
   ]
  },
  {
   "cell_type": "code",
   "execution_count": 2,
   "id": "d87e1133-3312-4033-8619-3c0d1a53f67d",
   "metadata": {},
   "outputs": [
    {
     "name": "stdout",
     "output_type": "stream",
     "text": [
      "Original String :  Python program to split and join a string\n",
      "List of split words :  ['Python', 'program', 'to', 'split', 'and', 'join', 'a', 'string']\n",
      "Joined String :  Python program to split and join a string\n"
     ]
    }
   ],
   "source": [
    "input_str = \"Python program to split and join a string\"\n",
    "word_list = input_str.split()\n",
    "\n",
    "seperator  = \" \"\n",
    "output_str = seperator.join(word_list)\n",
    "\n",
    "print(\"Original String : \", input_str)\n",
    "print(\"List of split words : \", word_list)\n",
    "print(\"Joined String : \", output_str)"
   ]
  },
  {
   "cell_type": "markdown",
   "id": "f477e137-df7a-4e5d-9401-00e93608be2f",
   "metadata": {},
   "source": [
    "### ***63 WAP to check if a given string is binary string or not***"
   ]
  },
  {
   "cell_type": "code",
   "execution_count": 3,
   "id": "6a30ea03-fd27-4161-9e40-e30403a47cbc",
   "metadata": {},
   "outputs": [
    {
     "name": "stdout",
     "output_type": "stream",
     "text": [
      "1001110 is a binary string\n"
     ]
    }
   ],
   "source": [
    "def is_binary_str(input_str):\n",
    "    for i in input_str:\n",
    "        if i not in '01':\n",
    "            return False\n",
    "    return True\n",
    "\n",
    "input_str = \"1001110\"\n",
    "\n",
    "if is_binary_str(input_str):\n",
    "    print(\"{} is a binary string\".format(input_str))\n",
    "else:\n",
    "    print(\"{} is not a binary string\".format(input_str))"
   ]
  },
  {
   "cell_type": "markdown",
   "id": "814c4526-8299-4659-b91c-464196c92bc9",
   "metadata": {},
   "source": [
    "### ***64 WAP to find uncommon words from two strings***"
   ]
  },
  {
   "cell_type": "code",
   "execution_count": 4,
   "id": "7a7660ff-d2a4-4580-a475-754378ecf727",
   "metadata": {},
   "outputs": [
    {
     "name": "stdout",
     "output_type": "stream",
     "text": [
      "Uncommon Words : ['first', 'second']\n"
     ]
    }
   ],
   "source": [
    "def uncommon_words(str1, str2):\n",
    "    words1 = set(str1.split())\n",
    "    words2 = set(str2.split())\n",
    "\n",
    "    uncommon_words_set  = words1.symmetric_difference(words2)\n",
    "    uncommon_words_list = list(uncommon_words_set)\n",
    "    return uncommon_words_list\n",
    "\n",
    "\n",
    "string1 = \"This is first string\"\n",
    "string2 = \"This is second string\"\n",
    "\n",
    "uncommon = uncommon_words(string1, string2)\n",
    "\n",
    "print(f\"Uncommon Words : {uncommon}\")"
   ]
  },
  {
   "cell_type": "markdown",
   "id": "0e7d7c2b-f0b0-44b7-a4f5-327e2aad2111",
   "metadata": {},
   "source": [
    "### ***65 WAP to find all duplicate characters in string***"
   ]
  },
  {
   "cell_type": "code",
   "execution_count": 5,
   "id": "890f11c9-ce8a-4a79-900f-c2610ed38c5b",
   "metadata": {},
   "outputs": [
    {
     "name": "stdout",
     "output_type": "stream",
     "text": [
      "Duplicate characters :  ['n', 'a']\n"
     ]
    }
   ],
   "source": [
    "def find_duplicates(input_str):\n",
    "    duplicates = []\n",
    "\n",
    "    char_count = {}\n",
    "    \n",
    "    for i in input_str:\n",
    "        if i in char_count:\n",
    "            char_count[i] += 1\n",
    "        else:\n",
    "            char_count[i] = 1\n",
    "\n",
    "    for key, value in char_count.items():\n",
    "        if value > 1:\n",
    "            duplicates.append(key)\n",
    "\n",
    "    return duplicates\n",
    "\n",
    "input_string = \"Anantha Teja\"\n",
    "\n",
    "duplicate_chars = find_duplicates(input_string)\n",
    "\n",
    "print(\"Duplicate characters : \", duplicate_chars)"
   ]
  },
  {
   "cell_type": "code",
   "execution_count": null,
   "id": "59779710-285a-470d-8c03-8debf307c332",
   "metadata": {},
   "outputs": [],
   "source": []
  }
 ],
 "metadata": {
  "kernelspec": {
   "display_name": "Python 3 (ipykernel)",
   "language": "python",
   "name": "python3"
  },
  "language_info": {
   "codemirror_mode": {
    "name": "ipython",
    "version": 3
   },
   "file_extension": ".py",
   "mimetype": "text/x-python",
   "name": "python",
   "nbconvert_exporter": "python",
   "pygments_lexer": "ipython3",
   "version": "3.11.7"
  }
 },
 "nbformat": 4,
 "nbformat_minor": 5
}
