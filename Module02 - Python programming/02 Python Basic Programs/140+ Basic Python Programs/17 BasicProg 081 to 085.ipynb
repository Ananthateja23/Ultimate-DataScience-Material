{
 "cells": [
  {
   "cell_type": "markdown",
   "id": "9e19d1eb-c1b7-40a3-ac92-2f6c59cf40b4",
   "metadata": {},
   "source": [
    "### ***81 Define a class with a generator which can iterate the numbers, which are divisible by 7, between a given range 0 and n***"
   ]
  },
  {
   "cell_type": "code",
   "execution_count": 1,
   "id": "fd95d957-602e-4fef-bdf6-99e82d0342ff",
   "metadata": {},
   "outputs": [],
   "source": [
    "class DivisibleBySeven:\n",
    "    def __init__(self, n):\n",
    "        self.n = n\n",
    "    def generate_divisible_by_seven(self):\n",
    "        for num in range(self.n+1):\n",
    "            if (num % 7 == 0):\n",
    "                yield num"
   ]
  },
  {
   "cell_type": "code",
   "execution_count": 2,
   "id": "5e7bb858-c5c8-4c25-a952-1280204bc2c0",
   "metadata": {},
   "outputs": [
    {
     "name": "stdout",
     "output_type": "stream",
     "text": [
      "Enter your desired range :  50\n"
     ]
    },
    {
     "name": "stdout",
     "output_type": "stream",
     "text": [
      "0\n",
      "7\n",
      "14\n",
      "21\n",
      "28\n",
      "35\n",
      "42\n",
      "49\n"
     ]
    }
   ],
   "source": [
    "n = int(input(\"Enter your desired range : \"))\n",
    "\n",
    "divisible_by_seven_generator = DivisibleBySeven(n).generate_divisible_by_seven()\n",
    "\n",
    "for num in divisible_by_seven_generator:\n",
    "    print(num)"
   ]
  },
  {
   "cell_type": "markdown",
   "id": "af6cd367-58f1-40e4-bbe5-8725044dffa4",
   "metadata": {},
   "source": [
    "### ***82 WAP to compute the frequency of the words from the input. The output should output after sorting the key alphanumerically***\n",
    "```\n",
    "\n",
    "Suppose the following input is supplied to the program:\n",
    "\n",
    "==> New to Python or choosing between Python 2 and Python 3? Read Python 2 or Python 3\n",
    "\n",
    "Then, the output should be:\n",
    "\n",
    "==> 2 : 2\n",
    "\n",
    "==> 3 : 2\n",
    "\n",
    "==> and : 1\n",
    "\n",
    "==> between : 1\n",
    "\n",
    "==> choosing : 1\n",
    "\n",
    "==> new : 1\n",
    "\n",
    "==> or : 2\n",
    "\n",
    "==> python : 5\n",
    "\n",
    "==> read : 1\n",
    "\n",
    "==> to : 1\n",
    "```"
   ]
  },
  {
   "cell_type": "code",
   "execution_count": 3,
   "id": "d9eec366-3108-413e-97a1-5b6f78ee6522",
   "metadata": {},
   "outputs": [
    {
     "name": "stdout",
     "output_type": "stream",
     "text": [
      "Enter a sentence :  New to Python or choosing between Python 2 and Python 3? Read Python 2 or Python 3\n"
     ]
    },
    {
     "name": "stdout",
     "output_type": "stream",
     "text": [
      "2 : 2\n",
      "3 : 2\n",
      "and : 1\n",
      "between : 1\n",
      "choosing : 1\n",
      "new : 1\n",
      "or : 2\n",
      "python : 5\n",
      "read : 1\n",
      "to : 1\n"
     ]
    }
   ],
   "source": [
    "input_sentence = input(\"Enter a sentence : \")\n",
    "\n",
    "words = input_sentence.split()\n",
    "\n",
    "word_freq = {}\n",
    "\n",
    "for word in words:\n",
    "    word = word.strip(\".,?\")\n",
    "    word = word.lower()\n",
    "    if word not in word_freq:\n",
    "        word_freq[word] = 1\n",
    "    else:\n",
    "        word_freq[word] += 1\n",
    "\n",
    "sorted_words = sorted(word_freq.items())\n",
    "\n",
    "for word, frequency in sorted_words:\n",
    "    print(\"{} : {}\".format(word, frequency))"
   ]
  },
  {
   "cell_type": "markdown",
   "id": "6c9165ef-cdf6-467e-86de-9c66d494a3e2",
   "metadata": {},
   "source": [
    "### ***83 Define a class Person and its two child classes: Male and Female. All classes have a method \"get Gender\" which can print \"Male\" for Male class and \"Female\" for Female class***"
   ]
  },
  {
   "cell_type": "code",
   "execution_count": 4,
   "id": "7548a581-5ec2-4482-9cc3-cfaf8afbb476",
   "metadata": {},
   "outputs": [],
   "source": [
    "class Person:\n",
    "    def getGender(self):\n",
    "        return \"Unknown\"\n",
    "\n",
    "class Male(Person):\n",
    "    def getGender(self):\n",
    "        return \"Male\"\n",
    "\n",
    "class Female(Person):\n",
    "    def getGender(self):\n",
    "        return \"Female\""
   ]
  },
  {
   "cell_type": "code",
   "execution_count": 5,
   "id": "a18d03a3-826a-4adf-b6f7-1a12669c46de",
   "metadata": {},
   "outputs": [
    {
     "name": "stdout",
     "output_type": "stream",
     "text": [
      "Unknown\n",
      "Male\n",
      "Female\n"
     ]
    }
   ],
   "source": [
    "person = Person()\n",
    "male = Male()\n",
    "female = Female()\n",
    "\n",
    "print(person.getGender())\n",
    "print(male.getGender())\n",
    "print(female.getGender())"
   ]
  },
  {
   "cell_type": "markdown",
   "id": "299f9920-8ab7-4325-9b3d-db383084694c",
   "metadata": {},
   "source": [
    "### ***84 WAP to generate all sentences where subject is in [\"I\", \"You\"] and verb is in [\"Play\", \"Love\"] and the object is in [\"Hockey\", \"Football\"]***"
   ]
  },
  {
   "cell_type": "code",
   "execution_count": 6,
   "id": "f28627ef-fdf9-424c-9005-3b5537f227c8",
   "metadata": {},
   "outputs": [
    {
     "name": "stdout",
     "output_type": "stream",
     "text": [
      "I Play Hockey\n",
      "I Play Football\n",
      "I Love Hockey\n",
      "I Love Football\n",
      "You Play Hockey\n",
      "You Play Football\n",
      "You Love Hockey\n",
      "You Love Football\n"
     ]
    }
   ],
   "source": [
    "subjects = [\"I\", \"You\"]\n",
    "verbs = [\"Play\", \"Love\"]\n",
    "objects = [\"Hockey\", \"Football\"]\n",
    "\n",
    "sentences = []\n",
    "\n",
    "for subject in subjects:\n",
    "    for verb in verbs:\n",
    "        for object in objects:\n",
    "            sentences.append(f\"{subject} {verb} {object}\")\n",
    "\n",
    "for sentence in sentences:\n",
    "    print(sentence)"
   ]
  },
  {
   "cell_type": "markdown",
   "id": "3a54d546-01e6-4204-904a-531ec0cafa43",
   "metadata": {},
   "source": [
    "### ***85 WAP to compress and decompress the string \"hello world!hello world!hello world!hello world!\"***"
   ]
  },
  {
   "cell_type": "code",
   "execution_count": 7,
   "id": "c35faffc-8e1b-46c3-8bc3-07650b527889",
   "metadata": {},
   "outputs": [
    {
     "name": "stdout",
     "output_type": "stream",
     "text": [
      "Original String : hello world!hello world!hello world!hello world!\n",
      "Compressed String : b'x\\x9c\\xcbH\\xcd\\xc9\\xc9W(\\xcf/\\xcaIQ\\xcc \\x82\\r\\x00\\xbd[\\x11\\xf5'\n",
      "Decompressed String : hello world!hello world!hello world!hello world!\n"
     ]
    }
   ],
   "source": [
    "import zlib\n",
    "\n",
    "string = \"hello world!hello world!hello world!hello world!\"\n",
    "\n",
    "compressed_string = zlib.compress(string.encode())\n",
    "\n",
    "decompressed_string = zlib.decompress(compressed_string).decode()\n",
    "\n",
    "\n",
    "print(\"Original String : {}\".format(string))\n",
    "\n",
    "print(\"Compressed String : {}\".format(compressed_string))\n",
    "\n",
    "print(\"Decompressed String : {}\".format(decompressed_string))"
   ]
  },
  {
   "cell_type": "code",
   "execution_count": null,
   "id": "b2d40ea6-8e12-42e0-b49c-efea4b1af270",
   "metadata": {},
   "outputs": [],
   "source": []
  }
 ],
 "metadata": {
  "kernelspec": {
   "display_name": "Python 3 (ipykernel)",
   "language": "python",
   "name": "python3"
  },
  "language_info": {
   "codemirror_mode": {
    "name": "ipython",
    "version": 3
   },
   "file_extension": ".py",
   "mimetype": "text/x-python",
   "name": "python",
   "nbconvert_exporter": "python",
   "pygments_lexer": "ipython3",
   "version": "3.11.7"
  }
 },
 "nbformat": 4,
 "nbformat_minor": 5
}
