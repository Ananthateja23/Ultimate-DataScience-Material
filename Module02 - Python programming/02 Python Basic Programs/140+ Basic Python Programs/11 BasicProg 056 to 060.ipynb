{
 "cells": [
  {
   "cell_type": "markdown",
   "id": "c4a6dfe5-f140-4a6c-a7cf-d202eaac2cf4",
   "metadata": {},
   "source": [
    "### ***56 WAP to print odd numbers in a list***"
   ]
  },
  {
   "cell_type": "code",
   "execution_count": 1,
   "id": "802d2f45-190d-4eee-ac67-a33435a222dd",
   "metadata": {},
   "outputs": [
    {
     "name": "stdout",
     "output_type": "stream",
     "text": [
      "Odd numbers in a list :  [1, 3, 5, 7, 9]\n"
     ]
    }
   ],
   "source": [
    "numbers = [1, 2, 3, 4, 5, 6, 7, 8, 9, 10]\n",
    "\n",
    "odd_numbers = [num for num in numbers if (num % 2 != 0)]\n",
    "\n",
    "print(\"Odd numbers in a list : \", odd_numbers)"
   ]
  },
  {
   "cell_type": "markdown",
   "id": "3fa63614-83f7-407e-b835-c7d44678a392",
   "metadata": {},
   "source": [
    "### ***57 WAP to remove empty list from list***"
   ]
  },
  {
   "cell_type": "code",
   "execution_count": 2,
   "id": "097fffbe-cfdd-4061-8d85-44ebbf750c40",
   "metadata": {},
   "outputs": [
    {
     "name": "stdout",
     "output_type": "stream",
     "text": [
      "List after removing empty lists :  [[1, 2, 3], [4, 5], [6, 7, 8]]\n"
     ]
    }
   ],
   "source": [
    "list_of_lists = [[1, 2, 3], [], [4, 5], [], [6, 7, 8], []]\n",
    "\n",
    "filtered_list = [item for item in list_of_lists if item]\n",
    "\n",
    "print(\"List after removing empty lists : \", filtered_list)"
   ]
  },
  {
   "cell_type": "markdown",
   "id": "07ac2724-c9f8-42d9-be21-fe9279317869",
   "metadata": {},
   "source": [
    "### ***58 WAP to cloning or copying a list***"
   ]
  },
  {
   "cell_type": "code",
   "execution_count": 3,
   "id": "8a0e14c1-bf57-4a97-a3be-1040aafd4a7a",
   "metadata": {},
   "outputs": [
    {
     "name": "stdout",
     "output_type": "stream",
     "text": [
      "[1, 2, 3, 4, 5]\n"
     ]
    }
   ],
   "source": [
    "# using the slice operator\n",
    "original_list = [1, 2, 3, 4, 5]\n",
    "cloned_list = original_list[:]\n",
    "print(cloned_list)"
   ]
  },
  {
   "cell_type": "code",
   "execution_count": 4,
   "id": "1fedd6f9-7981-4e7b-b563-2e2ce5d25aeb",
   "metadata": {},
   "outputs": [
    {
     "name": "stdout",
     "output_type": "stream",
     "text": [
      "[1, 2, 3, 4, 5]\n"
     ]
    }
   ],
   "source": [
    "# using list() constructor\n",
    "original_list = [1, 2, 3, 4, 5]\n",
    "cloned_list = list(original_list)\n",
    "print(cloned_list)"
   ]
  },
  {
   "cell_type": "code",
   "execution_count": 5,
   "id": "deeab447-2dcd-4185-949b-8df662f9bb53",
   "metadata": {},
   "outputs": [
    {
     "name": "stdout",
     "output_type": "stream",
     "text": [
      "[1, 2, 3, 4, 5]\n"
     ]
    }
   ],
   "source": [
    "# using list comprehension\n",
    "original_list = [1, 2, 3, 4, 5]\n",
    "cloned_list = [item for item in original_list]\n",
    "print(cloned_list)"
   ]
  },
  {
   "cell_type": "markdown",
   "id": "070112c3-2b1b-4102-bcae-f3a814d413c5",
   "metadata": {},
   "source": [
    "### ***59 WAP to count occurrences of an element in a list***"
   ]
  },
  {
   "cell_type": "code",
   "execution_count": 6,
   "id": "79d3ed65-b1d6-401f-af73-f2fede2181f9",
   "metadata": {},
   "outputs": [
    {
     "name": "stdout",
     "output_type": "stream",
     "text": [
      "The element 2 appears 3 times in the list\n"
     ]
    }
   ],
   "source": [
    "def count_occurrences(l, element):\n",
    "    count = l.count(element)\n",
    "    return count\n",
    "\n",
    "my_list = [1, 2, 3, 4, 2, 5, 2, 3, 4, 6, 5]\n",
    "element_to_count = 2\n",
    "\n",
    "occurrences = count_occurrences(my_list, element_to_count)\n",
    "print(f\"The element {element_to_count} appears {occurrences} times in the list\")"
   ]
  },
  {
   "cell_type": "markdown",
   "id": "203ae357-9110-4bd1-a236-b603e80317a6",
   "metadata": {},
   "source": [
    "### ***60 WAP to find words which are greater than length k***"
   ]
  },
  {
   "cell_type": "code",
   "execution_count": 7,
   "id": "a576cf92-d9a4-47f5-b736-fa858c65658c",
   "metadata": {},
   "outputs": [
    {
     "name": "stdout",
     "output_type": "stream",
     "text": [
      "words longer than 5 characters: ['banana', 'cherry', 'elderberry', 'dragon fruit']\n"
     ]
    }
   ],
   "source": [
    "def find_words(words, k):\n",
    "    result = []\n",
    "\n",
    "    for word in words:\n",
    "        if len(word) > k:\n",
    "            result.append(word)\n",
    "\n",
    "    return result\n",
    "\n",
    "word_list = [\"apple\", \"banana\", \"cherry\", \"date\", \"elderberry\", \"dragon fruit\"]\n",
    "k = 5\n",
    "long_words = find_words(word_list, k)\n",
    "\n",
    "print(f\"words longer than {k} characters: {long_words}\")"
   ]
  },
  {
   "cell_type": "code",
   "execution_count": null,
   "id": "1565d73d-7455-4269-938c-7f7dfef37f06",
   "metadata": {},
   "outputs": [],
   "source": []
  }
 ],
 "metadata": {
  "kernelspec": {
   "display_name": "Python 3 (ipykernel)",
   "language": "python",
   "name": "python3"
  },
  "language_info": {
   "codemirror_mode": {
    "name": "ipython",
    "version": 3
   },
   "file_extension": ".py",
   "mimetype": "text/x-python",
   "name": "python",
   "nbconvert_exporter": "python",
   "pygments_lexer": "ipython3",
   "version": "3.11.7"
  }
 },
 "nbformat": 4,
 "nbformat_minor": 5
}
