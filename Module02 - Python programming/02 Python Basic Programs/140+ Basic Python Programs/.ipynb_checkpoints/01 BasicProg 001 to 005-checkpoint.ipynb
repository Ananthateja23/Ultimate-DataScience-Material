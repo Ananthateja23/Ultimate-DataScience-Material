{
 "cells": [
  {
   "cell_type": "markdown",
   "id": "0466fec8-c44b-4e1f-9ec4-ae1e1757fbbf",
   "metadata": {},
   "source": [
    "### ***01 WAP to print \"Hello Python\"***"
   ]
  },
  {
   "cell_type": "code",
   "execution_count": 1,
   "id": "6af073ef-5c62-4dc0-9664-82e4aaee83b4",
   "metadata": {},
   "outputs": [
    {
     "name": "stdout",
     "output_type": "stream",
     "text": [
      "Hello Python\n"
     ]
    }
   ],
   "source": [
    "print(\"Hello Python\")"
   ]
  },
  {
   "cell_type": "markdown",
   "id": "274a4781-7435-4c19-a724-a777e9aa256a",
   "metadata": {},
   "source": [
    "### ***02 WAP to do arithmetical operations addition and division***"
   ]
  },
  {
   "cell_type": "code",
   "execution_count": 2,
   "id": "2a3c2e95-fb19-44b4-81d3-23c1eb344da4",
   "metadata": {},
   "outputs": [
    {
     "name": "stdin",
     "output_type": "stream",
     "text": [
      "Enter the first number for addition:  10\n",
      "Enter the second number for addition:  20\n"
     ]
    },
    {
     "name": "stdout",
     "output_type": "stream",
     "text": [
      "10.0 + 20.0 = 30.0\n"
     ]
    }
   ],
   "source": [
    "num1 = float(input(\"Enter the first number for addition: \"))\n",
    "num2 = float(input(\"Enter the second number for addition: \"))\n",
    "\n",
    "sum_result = num1 + num2\n",
    "\n",
    "print(f\"{num1} + {num2} = {sum_result}\")"
   ]
  },
  {
   "cell_type": "code",
   "execution_count": 3,
   "id": "53a8b808-6768-4e81-8b2d-ec7e758fc5ee",
   "metadata": {},
   "outputs": [
    {
     "name": "stdin",
     "output_type": "stream",
     "text": [
      "Enter the dividend for division :  10\n",
      "Enter the divisor for division  :  2\n"
     ]
    },
    {
     "name": "stdout",
     "output_type": "stream",
     "text": [
      "10.0 / 2.0 = 5.0\n"
     ]
    }
   ],
   "source": [
    "num3 = float(input(\"Enter the dividend for division : \"))\n",
    "num4 = float(input(\"Enter the divisor for division  : \"))\n",
    "\n",
    "if num4 == 0:\n",
    "    print(\"Division by zero is not possible\")\n",
    "else:\n",
    "    div_result = num3 / num4\n",
    "    print(f\"{num3} / {num4} = {div_result}\")"
   ]
  },
  {
   "cell_type": "markdown",
   "id": "8c01c7e0-6e39-42d0-8b38-3a9b7e1dcf80",
   "metadata": {},
   "source": [
    "### ***03 WAP to find the area of a triangle***"
   ]
  },
  {
   "cell_type": "code",
   "execution_count": 4,
   "id": "9b0f1aa3-4992-4398-92c1-abe4b1a06e73",
   "metadata": {},
   "outputs": [
    {
     "name": "stdin",
     "output_type": "stream",
     "text": [
      "Enter the length of the base of the triangle :  10\n",
      "Enter the height of the triangle :  15\n"
     ]
    },
    {
     "name": "stdout",
     "output_type": "stream",
     "text": [
      "The area of the triangle: 75.0\n"
     ]
    }
   ],
   "source": [
    "base = float(input(\"Enter the length of the base of the triangle : \"))\n",
    "height = float(input(\"Enter the height of the triangle : \"))\n",
    "\n",
    "area = 0.5 * base * height\n",
    "\n",
    "print(\"The area of the triangle: {}\".format(area))"
   ]
  },
  {
   "cell_type": "markdown",
   "id": "ac064a92-b5a3-4448-a42b-06734373d9da",
   "metadata": {},
   "source": [
    "### ***04 WAP to swap two variables***"
   ]
  },
  {
   "cell_type": "code",
   "execution_count": 6,
   "id": "f9467123-8d7b-4e91-abb5-73924584a59a",
   "metadata": {},
   "outputs": [
    {
     "name": "stdin",
     "output_type": "stream",
     "text": [
      "Enter the first variable value 10\n",
      "Enter the second variable value 20\n"
     ]
    },
    {
     "name": "stdout",
     "output_type": "stream",
     "text": [
      "Before swapping: a = 10.0 and b = 20.0\n",
      "After swapping:  a = 20.0 and b = 10.0\n"
     ]
    }
   ],
   "source": [
    "a = float(input(\"Enter the first variable value\"))\n",
    "b = float(input(\"Enter the second variable value\"))\n",
    "print(f\"Before swapping: a = {a} and b = {b}\")\n",
    "\n",
    "temp = a\n",
    "a = b\n",
    "b = temp\n",
    "\n",
    "print(f\"After swapping:  a = {a} and b = {b}\")"
   ]
  },
  {
   "cell_type": "markdown",
   "id": "d32eda07-9ed0-4605-b94b-a35de1e9e8cf",
   "metadata": {},
   "source": [
    "### ***05 WAP to generate a random number***"
   ]
  },
  {
   "cell_type": "code",
   "execution_count": 7,
   "id": "46b3eb18-1fb1-4c2a-9b06-ccc756d42f9e",
   "metadata": {},
   "outputs": [
    {
     "name": "stdout",
     "output_type": "stream",
     "text": [
      "Random number 90\n"
     ]
    }
   ],
   "source": [
    "import random\n",
    "print(\"Random number\", random.randint(1, 100))"
   ]
  },
  {
   "cell_type": "code",
   "execution_count": null,
   "id": "9c3c04ee-b65f-4227-aeda-65ddba527a25",
   "metadata": {},
   "outputs": [],
   "source": []
  }
 ],
 "metadata": {
  "kernelspec": {
   "display_name": "Python 3 (ipykernel)",
   "language": "python",
   "name": "python3"
  },
  "language_info": {
   "codemirror_mode": {
    "name": "ipython",
    "version": 3
   },
   "file_extension": ".py",
   "mimetype": "text/x-python",
   "name": "python",
   "nbconvert_exporter": "python",
   "pygments_lexer": "ipython3",
   "version": "3.11.7"
  }
 },
 "nbformat": 4,
 "nbformat_minor": 5
}
