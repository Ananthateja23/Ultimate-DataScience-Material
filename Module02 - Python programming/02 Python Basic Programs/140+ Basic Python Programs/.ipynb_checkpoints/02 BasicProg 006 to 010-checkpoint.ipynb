{
 "cells": [
  {
   "cell_type": "markdown",
   "id": "f414b0d1-afb2-41b4-bf0d-fecfe0559271",
   "metadata": {},
   "source": [
    "### ***06 WAP to convert kilometers to miles***"
   ]
  },
  {
   "cell_type": "code",
   "execution_count": 1,
   "id": "3731a3a0-a24b-4849-9362-ce4b4b4657df",
   "metadata": {},
   "outputs": [
    {
     "name": "stdin",
     "output_type": "stream",
     "text": [
      "Enter the distance in kilometers :  100\n"
     ]
    },
    {
     "name": "stdout",
     "output_type": "stream",
     "text": [
      "100.0 kilometers is equal to 62.137100000000004 miles\n"
     ]
    }
   ],
   "source": [
    "kilometers = float(input(\"Enter the distance in kilometers : \"))\n",
    "\n",
    "conversion_factor = 0.621371\n",
    "\n",
    "miles = kilometers * conversion_factor\n",
    "\n",
    "print(f\"{kilometers} kilometers is equal to {miles} miles\")"
   ]
  },
  {
   "cell_type": "markdown",
   "id": "8306126c-daaa-4813-942e-10e2ddbd67d3",
   "metadata": {},
   "source": [
    "### ***07 WAP to convert celsius to Farenheit***"
   ]
  },
  {
   "cell_type": "code",
   "execution_count": 2,
   "id": "d4c4ac3b-52f9-473c-a695-6dc94600a740",
   "metadata": {},
   "outputs": [
    {
     "name": "stdin",
     "output_type": "stream",
     "text": [
      "Enter the temperature in celsius :  37\n"
     ]
    },
    {
     "name": "stdout",
     "output_type": "stream",
     "text": [
      "37.0 degrees in celsius is equal to 98.6 degrees farenheit\n"
     ]
    }
   ],
   "source": [
    "celsius = float(input(\"Enter the temperature in celsius : \"))\n",
    "\n",
    "farenheit = (celsius * 9/5) + 32\n",
    "\n",
    "print(f\"{celsius} degrees in celsius is equal to {farenheit} degrees farenheit\")"
   ]
  },
  {
   "cell_type": "markdown",
   "id": "dbc83d5b-ad46-48b0-9353-e9e2902d03f8",
   "metadata": {},
   "source": [
    "### ***08 WAP to display calendar***"
   ]
  },
  {
   "cell_type": "code",
   "execution_count": 3,
   "id": "0bce41c8-388b-4a08-8193-c8bdb9e706f2",
   "metadata": {},
   "outputs": [
    {
     "name": "stdin",
     "output_type": "stream",
     "text": [
      "Enter year :  2025\n",
      "Enter month :  5\n"
     ]
    },
    {
     "name": "stdout",
     "output_type": "stream",
     "text": [
      "      May 2025\n",
      "Mo Tu We Th Fr Sa Su\n",
      "          1  2  3  4\n",
      " 5  6  7  8  9 10 11\n",
      "12 13 14 15 16 17 18\n",
      "19 20 21 22 23 24 25\n",
      "26 27 28 29 30 31\n",
      "\n"
     ]
    }
   ],
   "source": [
    "import calendar\n",
    "\n",
    "year = int(input(\"Enter year : \"))\n",
    "month = int(input(\"Enter month : \"))\n",
    "\n",
    "cal = calendar.month(year, month)\n",
    "\n",
    "print(cal)"
   ]
  },
  {
   "cell_type": "markdown",
   "id": "4d894c2f-cfa8-447a-8bd9-a70c009579e5",
   "metadata": {},
   "source": [
    "### ***09 WAP to solve quadratic equation***"
   ]
  },
  {
   "cell_type": "code",
   "execution_count": 5,
   "id": "95eb5156-1830-45ee-aed9-68a7cd3e91c2",
   "metadata": {},
   "outputs": [
    {
     "name": "stdin",
     "output_type": "stream",
     "text": [
      "Enter coefficient a:  1\n",
      "Enter coefficient b:  4\n",
      "Enter coefficient c:  8\n"
     ]
    },
    {
     "name": "stdout",
     "output_type": "stream",
     "text": [
      "root1: -2.0 + 2.0i\n",
      "root2: -2.0 - 2.0i\n"
     ]
    }
   ],
   "source": [
    "import math\n",
    "\n",
    "a = float(input(\"Enter coefficient a: \"))\n",
    "b = float(input(\"Enter coefficient b: \"))\n",
    "c = float(input(\"Enter coefficient c: \"))\n",
    "\n",
    "discriminant = b**2 - 4*a*c\n",
    "\n",
    "if discriminant > 0:\n",
    "    root1 = (-b+math.sqrt(discriminant))/(2*a)\n",
    "    root2 = (-b-math.sqrt(discriminant))/(2*a)\n",
    "    print(f\"root1: {root1}\")\n",
    "    print(f\"root2: {root2}\")\n",
    "elif discriminant == 0:\n",
    "    root = -b / (2*a)\n",
    "    print(f\"root: {root}\")\n",
    "else:\n",
    "    real_part = -b/(2*a)\n",
    "    imaginary_part = math.sqrt(abs(discriminant))/(2*a)\n",
    "    print(f\"root1: {real_part} + {imaginary_part}i\")\n",
    "    print(f\"root2: {real_part} - {imaginary_part}i\")"
   ]
  },
  {
   "cell_type": "markdown",
   "id": "ec3ddbde-aeaa-4334-9171-0203062da5a7",
   "metadata": {},
   "source": [
    "### ***10 WAP to swap two variables without temp variable***"
   ]
  },
  {
   "cell_type": "code",
   "execution_count": 6,
   "id": "69541c79-5f7d-4283-8381-c399be590f84",
   "metadata": {},
   "outputs": [
    {
     "name": "stdout",
     "output_type": "stream",
     "text": [
      "After swapping: a = 10, b = 5\n"
     ]
    }
   ],
   "source": [
    "a = 5\n",
    "b = 10\n",
    "\n",
    "a, b = b, a\n",
    "\n",
    "print(f\"After swapping: a = {a}, b = {b}\")"
   ]
  },
  {
   "cell_type": "code",
   "execution_count": null,
   "id": "32abe01c-6360-48f2-b191-19081554697a",
   "metadata": {},
   "outputs": [],
   "source": []
  }
 ],
 "metadata": {
  "kernelspec": {
   "display_name": "Python 3 (ipykernel)",
   "language": "python",
   "name": "python3"
  },
  "language_info": {
   "codemirror_mode": {
    "name": "ipython",
    "version": 3
   },
   "file_extension": ".py",
   "mimetype": "text/x-python",
   "name": "python",
   "nbconvert_exporter": "python",
   "pygments_lexer": "ipython3",
   "version": "3.11.7"
  }
 },
 "nbformat": 4,
 "nbformat_minor": 5
}
