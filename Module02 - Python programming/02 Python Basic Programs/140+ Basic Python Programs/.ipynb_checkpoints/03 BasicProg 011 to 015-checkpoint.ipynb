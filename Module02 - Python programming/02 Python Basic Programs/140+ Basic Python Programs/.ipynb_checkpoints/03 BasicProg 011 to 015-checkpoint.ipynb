{
 "cells": [
  {
   "cell_type": "markdown",
   "id": "00e743c6-6c7a-4b00-8936-e10282e3d8f0",
   "metadata": {},
   "source": [
    "### ***11 WAP to check if a Number is Positive, Negative or Zero***"
   ]
  },
  {
   "cell_type": "code",
   "execution_count": 1,
   "id": "dd57445f-1a48-42c9-bb42-3e38db096fa4",
   "metadata": {},
   "outputs": [
    {
     "name": "stdin",
     "output_type": "stream",
     "text": [
      "Enter a number :  6.4\n"
     ]
    },
    {
     "name": "stdout",
     "output_type": "stream",
     "text": [
      "Positive Number\n"
     ]
    }
   ],
   "source": [
    "num = float(input(\"Enter a number : \"))\n",
    "\n",
    "if num > 0:\n",
    "    print(\"Positive Number\")\n",
    "elif num == 0:\n",
    "    print(\"Zero\")\n",
    "else:\n",
    "    print(\"Negative\")"
   ]
  },
  {
   "cell_type": "markdown",
   "id": "443956d0-a7d4-43fc-aa7b-993c1843194d",
   "metadata": {},
   "source": [
    "### ***12 WAP to check if a Number is Odd or Even***"
   ]
  },
  {
   "cell_type": "code",
   "execution_count": 2,
   "id": "6d032dfc-ab00-4c41-84b2-4d93f22d31ff",
   "metadata": {},
   "outputs": [
    {
     "name": "stdin",
     "output_type": "stream",
     "text": [
      "Enter a number :  3\n"
     ]
    },
    {
     "name": "stdout",
     "output_type": "stream",
     "text": [
      "Odd Number\n"
     ]
    }
   ],
   "source": [
    "num = int(input(\"Enter a number : \"))\n",
    "\n",
    "if (num % 2 == 0):\n",
    "    print(\"Even Number\")\n",
    "else:\n",
    "    print(\"Odd Number\")"
   ]
  },
  {
   "cell_type": "markdown",
   "id": "5e1ac6ec-70e2-4ac5-96ee-4f21d4b7d362",
   "metadata": {},
   "source": [
    "### ***13 WAP to check Leap Year***"
   ]
  },
  {
   "cell_type": "code",
   "execution_count": 4,
   "id": "4122f4ed-233d-4c77-adb4-446b4431bb06",
   "metadata": {},
   "outputs": [
    {
     "name": "stdin",
     "output_type": "stream",
     "text": [
      "Enter a year :  2025\n"
     ]
    },
    {
     "name": "stdout",
     "output_type": "stream",
     "text": [
      "2025 is not a leap year\n"
     ]
    }
   ],
   "source": [
    "year = int(input(\"Enter a year : \"))\n",
    "\n",
    "if (year % 100 == 0) and (year % 400 == 0):\n",
    "    print(f\"{year} is a leap year\")\n",
    "elif (year % 100 != 0) and (year % 4 == 0):\n",
    "    print(f\"{year} is a leap year\")\n",
    "else:\n",
    "    print(f\"{year} is not a leap year\")"
   ]
  },
  {
   "cell_type": "markdown",
   "id": "2c2309ba-14b0-44aa-99a3-7d3a6aed4de2",
   "metadata": {},
   "source": [
    "### ***14 WAP to check Prime Number***"
   ]
  },
  {
   "cell_type": "markdown",
   "id": "fefce23a-9ef0-4ff4-b5d5-73de68321a91",
   "metadata": {},
   "source": [
    "```\n",
    "Prime Numbers:\n",
    "--------------\n",
    "\n",
    "A prime number is a whole number that cannot be evenly divided by any other number\n",
    "except for 1 and itself. For example, 2, 3, 5, 7, 11, and 13 are prime numbers because they cannot be divided by any other positive integer except for 1 and their own value\n",
    "```"
   ]
  },
  {
   "cell_type": "code",
   "execution_count": 5,
   "id": "eadb4484-21e1-4566-92e3-4dd6ac2fb2ac",
   "metadata": {},
   "outputs": [
    {
     "name": "stdin",
     "output_type": "stream",
     "text": [
      "Enter a number :  27\n"
     ]
    },
    {
     "name": "stdout",
     "output_type": "stream",
     "text": [
      "27 is not prime number\n"
     ]
    }
   ],
   "source": [
    "num = int(input(\"Enter a number : \"))\n",
    "\n",
    "flag = False\n",
    "\n",
    "if num == 1:\n",
    "    print(f\"{num} is not a prime number\")\n",
    "elif num > 1:\n",
    "    for i in range(2, num//2+1):\n",
    "        if (num % i == 0):\n",
    "            flag = True\n",
    "            break\n",
    "\n",
    "if flag:\n",
    "    print(f\"{num} is not prime number\")\n",
    "else:\n",
    "    print(f\"{num} is prime number\")"
   ]
  },
  {
   "cell_type": "markdown",
   "id": "a2fc8493-536c-4af6-83a6-6cc7fa29a9a2",
   "metadata": {},
   "source": [
    "### ***15 WAP to print all Prime Numbers in an interval of 1-10***"
   ]
  },
  {
   "cell_type": "code",
   "execution_count": 6,
   "id": "63cc7ddb-8a01-48b3-a696-8db43b0cc0ef",
   "metadata": {},
   "outputs": [
    {
     "name": "stdout",
     "output_type": "stream",
     "text": [
      "Prime number between 1 and 10 are :\n",
      "2\n",
      "3\n",
      "5\n",
      "7\n"
     ]
    }
   ],
   "source": [
    "lower = 1\n",
    "upper = 10\n",
    "\n",
    "print(\"Prime number between\", lower, \"and\", upper, \"are :\")\n",
    "\n",
    "for num in range(lower, upper+1):\n",
    "    if num > 1:\n",
    "        for i in range(2, num//2+1):\n",
    "            if num % i == 0:\n",
    "                break\n",
    "        else:\n",
    "            print(num)        "
   ]
  },
  {
   "cell_type": "code",
   "execution_count": null,
   "id": "ddac8a5b-5cf2-4ac1-9409-f05b0939ea93",
   "metadata": {},
   "outputs": [],
   "source": []
  }
 ],
 "metadata": {
  "kernelspec": {
   "display_name": "Python 3 (ipykernel)",
   "language": "python",
   "name": "python3"
  },
  "language_info": {
   "codemirror_mode": {
    "name": "ipython",
    "version": 3
   },
   "file_extension": ".py",
   "mimetype": "text/x-python",
   "name": "python",
   "nbconvert_exporter": "python",
   "pygments_lexer": "ipython3",
   "version": "3.11.7"
  }
 },
 "nbformat": 4,
 "nbformat_minor": 5
}
