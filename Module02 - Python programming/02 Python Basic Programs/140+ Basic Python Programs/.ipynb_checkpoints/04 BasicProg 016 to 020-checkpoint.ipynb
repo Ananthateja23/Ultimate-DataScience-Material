{
 "cells": [
  {
   "cell_type": "markdown",
   "id": "fc4d6035-374c-4ac6-8005-dac889aa8eca",
   "metadata": {},
   "source": [
    "### ***16 WAP to find the factorial of a number***"
   ]
  },
  {
   "cell_type": "code",
   "execution_count": 1,
   "id": "2f5d20e2-92cc-4c3d-8ad1-8b2b036b0b3a",
   "metadata": {},
   "outputs": [
    {
     "name": "stdout",
     "output_type": "stream",
     "text": [
      "Enter a number :  5\n"
     ]
    },
    {
     "name": "stdout",
     "output_type": "stream",
     "text": [
      "The factorial of 5 is 120\n"
     ]
    }
   ],
   "source": [
    "num = int(input(\"Enter a number : \"))\n",
    "\n",
    "factorial = 1\n",
    "\n",
    "if num < 0:\n",
    "    print(\"Factorial doesn't exist for negative number\")\n",
    "elif num == 0:\n",
    "    print(\"Factorial of 0 is 1\")\n",
    "else:\n",
    "    for i in range(1, num+1):\n",
    "        factorial *= i\n",
    "    print(f\"The factorial of {num} is {factorial}\")"
   ]
  },
  {
   "cell_type": "markdown",
   "id": "3cc86083-4007-4062-a225-dad877035925",
   "metadata": {},
   "source": [
    "### ***17 WAP to display the multiplication Table***"
   ]
  },
  {
   "cell_type": "code",
   "execution_count": 2,
   "id": "9af773d7-defa-4a77-9385-1013bcc4fedb",
   "metadata": {},
   "outputs": [
    {
     "name": "stdout",
     "output_type": "stream",
     "text": [
      "Display Multiplication table of :  2\n"
     ]
    },
    {
     "name": "stdout",
     "output_type": "stream",
     "text": [
      "2 X 1 = 2\n",
      "2 X 2 = 4\n",
      "2 X 3 = 6\n",
      "2 X 4 = 8\n",
      "2 X 5 = 10\n",
      "2 X 6 = 12\n",
      "2 X 7 = 14\n",
      "2 X 8 = 16\n",
      "2 X 9 = 18\n",
      "2 X 10 = 20\n"
     ]
    }
   ],
   "source": [
    "num = int(input(\"Display Multiplication table of : \"))\n",
    "\n",
    "for i in range(1, 11):\n",
    "    print(f\"{num} X {i} = {num*i}\")"
   ]
  },
  {
   "cell_type": "markdown",
   "id": "c412c681-91e2-4949-a86c-4000305e0ca6",
   "metadata": {},
   "source": [
    "### ***18 WAP to print the fibonacci sequence***"
   ]
  },
  {
   "cell_type": "markdown",
   "id": "8586b4f5-9aa2-4596-9878-f025d330b3ca",
   "metadata": {},
   "source": [
    "```\n",
    "Fibonacci sequence:\n",
    "-------------------\n",
    "\n",
    "The Fibonacci sequence is a series of numbers where each number is the sum of the two\n",
    "preceding ones, typically starting with 0 and 1. So, the sequence begins with 0 and 1, and\n",
    "the next number is obtained by adding the previous two numbers. This pattern continues\n",
    "indefinitely, generating a sequence that looks like this:\n",
    "0, 1, 1, 2, 3, 5, 8, 13, 21, 34, 55, 89, 144, and so on.\n",
    "    \n",
    "Mathematically, the Fibonacci sequence can be defined using the following recurrence\n",
    "relation:\n",
    "\n",
    "𝐹(0) = 0 𝐹(1) = 1 𝐹(𝑛) = 𝐹(𝑛 − 1) + 𝐹(𝑛 − 2)𝑓𝑜𝑟𝑛 > 1\n",
    "```"
   ]
  },
  {
   "cell_type": "code",
   "execution_count": 5,
   "id": "98995e61-05b7-451b-aacf-0b2be82d70b4",
   "metadata": {},
   "outputs": [
    {
     "name": "stdout",
     "output_type": "stream",
     "text": [
      "How many terms?  10\n"
     ]
    },
    {
     "name": "stdout",
     "output_type": "stream",
     "text": [
      "Fibonacci sequence:\n",
      "0 1 1 2 3 5 8 13 21 34 "
     ]
    }
   ],
   "source": [
    "nterms = int(input(\"How many terms? \"))\n",
    "\n",
    "# first two terms\n",
    "n1, n2 = 0, 1\n",
    "count = 0\n",
    "\n",
    "# check if the number of terms is valid\n",
    "if nterms <= 0:\n",
    "    print(\"Please enter a positive integer\")\n",
    "# if there is only one term return n1\n",
    "elif nterms == 1:\n",
    "    print(\"Fibonacci sequence upto\", nterms, \":\")\n",
    "    print(n1)\n",
    "# generate fibonacci sequence\n",
    "else:\n",
    "    print(\"Fibonacci sequence:\")\n",
    "    while count < nterms:\n",
    "        print(n1, end=\" \")\n",
    "        nth = n1 + n2\n",
    "        # update values\n",
    "        n1 = n2\n",
    "        n2 = nth\n",
    "        count += 1\n"
   ]
  },
  {
   "cell_type": "markdown",
   "id": "73ecd8bb-43a6-494d-82ad-2cab8f11827d",
   "metadata": {},
   "source": [
    "### ***19 WAP to check Armstrong number***"
   ]
  },
  {
   "cell_type": "markdown",
   "id": "7eb08819-824f-4bbd-afc3-5e72ce32f266",
   "metadata": {},
   "source": [
    "```\n",
    "Armstrong Number:\n",
    "-----------------\n",
    "\n",
    "It is a number that is equal to the sum of its own digits, each raised to a power equal to the\n",
    "number of digits in the number.\n",
    "\n",
    "For example, let's consider the number 153:\n",
    "\n",
    "==> It has three digits (1, 5, and 3).\n",
    "==> If we calculate 1^3 + 5^3 + 3^3, we get 1 + 125 + 127, which is equal to 153.\n",
    "    \n",
    "So, 153 is an Armstrong number because it equals the sum of its digits raised to the power\n",
    "of the number of digits in the number.\n",
    "```"
   ]
  },
  {
   "cell_type": "code",
   "execution_count": 7,
   "id": "f74ce7c9-4b7e-46d2-a0f5-b3e1e46c930a",
   "metadata": {},
   "outputs": [
    {
     "name": "stdout",
     "output_type": "stream",
     "text": [
      "Enter a number :  9474\n"
     ]
    },
    {
     "name": "stdout",
     "output_type": "stream",
     "text": [
      "9474 is an Armstrong number\n"
     ]
    }
   ],
   "source": [
    "num = int(input(\"Enter a number : \"))\n",
    "\n",
    "# calculate the number of digits in num\n",
    "num_str = str(num)\n",
    "num_digits = len(num_str)\n",
    "\n",
    "# initialize variables\n",
    "sum_of_powers = 0\n",
    "temp_num = num\n",
    "\n",
    "# calculate the sum of digits raised to power of num_digits\n",
    "\n",
    "while temp_num > 0:\n",
    "    digit = temp_num % 10\n",
    "    sum_of_powers += (digit ** num_digits)\n",
    "    temp_num //= 10\n",
    "\n",
    "# check if its armstrong number\n",
    "if sum_of_powers == num:\n",
    "    print(f\"{num} is an Armstrong number\")\n",
    "else:\n",
    "    print(f\"{num} is not an Armstrong number\")"
   ]
  },
  {
   "cell_type": "markdown",
   "id": "1d8439a9-3f87-4f3b-9d30-f5636b0b7665",
   "metadata": {},
   "source": [
    "### ***20 WAP to find Armstrong number in an interval***"
   ]
  },
  {
   "cell_type": "code",
   "execution_count": 8,
   "id": "324d8dec-ae90-4e61-8022-824cd19ce116",
   "metadata": {},
   "outputs": [
    {
     "name": "stdout",
     "output_type": "stream",
     "text": [
      "Enter the lower limit of the interval : 10\n",
      "Enter the upper limit of the interval : 1000\n"
     ]
    },
    {
     "name": "stdout",
     "output_type": "stream",
     "text": [
      "153\n",
      "370\n",
      "371\n",
      "407\n"
     ]
    }
   ],
   "source": [
    "# input interval from the user\n",
    "lower = int(input(\"Enter the lower limit of the interval :\"))\n",
    "upper = int(input(\"Enter the upper limit of the interval :\"))\n",
    "\n",
    "for num in range(lower, upper+1):\n",
    "    order = len(str(num))\n",
    "    temp_num = num\n",
    "    sum_pow = 0\n",
    "    while temp_num > 0:\n",
    "        digit = temp_num % 10\n",
    "        sum_pow += (digit ** order)\n",
    "        temp_num //= 10\n",
    "\n",
    "    # check if num is an Armstrong number\n",
    "    if sum_pow ==  num:\n",
    "        print(num)"
   ]
  },
  {
   "cell_type": "code",
   "execution_count": null,
   "id": "ac6c264d-98d2-48cb-8293-030de081c066",
   "metadata": {},
   "outputs": [],
   "source": []
  }
 ],
 "metadata": {
  "kernelspec": {
   "display_name": "Python 3 (ipykernel)",
   "language": "python",
   "name": "python3"
  },
  "language_info": {
   "codemirror_mode": {
    "name": "ipython",
    "version": 3
   },
   "file_extension": ".py",
   "mimetype": "text/x-python",
   "name": "python",
   "nbconvert_exporter": "python",
   "pygments_lexer": "ipython3",
   "version": "3.11.7"
  }
 },
 "nbformat": 4,
 "nbformat_minor": 5
}
