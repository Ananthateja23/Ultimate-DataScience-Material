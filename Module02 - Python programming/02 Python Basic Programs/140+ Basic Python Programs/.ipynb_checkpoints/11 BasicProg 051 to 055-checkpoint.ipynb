{
 "cells": [
  {
   "cell_type": "markdown",
   "id": "54f66707-cc41-40d1-995d-dea045c732cc",
   "metadata": {},
   "source": [
    "### ***51 WAP to find smallest number in a list***"
   ]
  },
  {
   "cell_type": "code",
   "execution_count": 1,
   "id": "5c4557b1-9063-4737-950a-ca42d9fc629f",
   "metadata": {},
   "outputs": [
    {
     "name": "stdout",
     "output_type": "stream",
     "text": [
      "The smallest number in the list is : -45\n"
     ]
    }
   ],
   "source": [
    "numbers = [30, 10, -45, 5, 20]\n",
    "\n",
    "minimum = numbers[0]\n",
    "\n",
    "for i in numbers:\n",
    "    if i < minimum:\n",
    "        minimum = i\n",
    "\n",
    "print(\"The smallest number in the list is : {}\".format(minimum))"
   ]
  },
  {
   "cell_type": "markdown",
   "id": "413f7764-3c8d-49c0-a8f0-ed20226aaf1d",
   "metadata": {},
   "source": [
    "### ***52 WAP to find largest number in a list***"
   ]
  },
  {
   "cell_type": "code",
   "execution_count": 2,
   "id": "caa7f9b3-49eb-4bed-868b-31945bf34286",
   "metadata": {},
   "outputs": [
    {
     "name": "stdout",
     "output_type": "stream",
     "text": [
      "The largest number in the list is : 30\n"
     ]
    }
   ],
   "source": [
    "numbers = [30, 10, -45, 5, 20]\n",
    "\n",
    "maximum = numbers[0]\n",
    "\n",
    "for i in numbers:\n",
    "    if i > maximum:\n",
    "        maximum = i\n",
    "\n",
    "print(\"The largest number in the list is : {}\".format(maximum))"
   ]
  },
  {
   "cell_type": "markdown",
   "id": "83f0f2f1-ef4a-475f-84ff-08358dcf940b",
   "metadata": {},
   "source": [
    "### ***53 WAP to find second largest number in a list***"
   ]
  },
  {
   "cell_type": "code",
   "execution_count": 3,
   "id": "0b6b55cb-27e8-4b4f-9b91-36c023a914d2",
   "metadata": {},
   "outputs": [
    {
     "name": "stdout",
     "output_type": "stream",
     "text": [
      "The second largest number in the list is : 30\n"
     ]
    }
   ],
   "source": [
    "numbers = [30, 10, 45, 5, 20]\n",
    "\n",
    "numbers.sort(reverse=True)\n",
    "\n",
    "if len(numbers) >= 2:\n",
    "    second_largest = numbers[1]\n",
    "    print(\"The second largest number in the list is : {}\".format(second_largest))\n",
    "else:\n",
    "    print(\"The list doesn't contain a second largest number\")"
   ]
  },
  {
   "cell_type": "markdown",
   "id": "dd5b7c98-0d74-411b-a2bf-8910126084e6",
   "metadata": {},
   "source": [
    "### ***54 WAP to find N largest elements from a list***"
   ]
  },
  {
   "cell_type": "code",
   "execution_count": 4,
   "id": "dd9a0535-ba97-4aba-af2e-aed012e071db",
   "metadata": {},
   "outputs": [
    {
     "name": "stdout",
     "output_type": "stream",
     "text": [
      "N =  3\n"
     ]
    },
    {
     "name": "stdout",
     "output_type": "stream",
     "text": [
      "The 3 largest elements in the list are : [345, 100, 98]\n"
     ]
    }
   ],
   "source": [
    "def find_n_largest_elements(lst, n):\n",
    "    sorted_lst = sorted(lst, reverse=True)\n",
    "    largest_elements = sorted_lst[:n]\n",
    "    return largest_elements\n",
    "\n",
    "numbers = [30, 10, 45, 5, 20, 50, 15, 3, 345, 54, 67, 87, 98, 100, 34]\n",
    "\n",
    "N = int(input(\"N = \"))\n",
    "\n",
    "result = find_n_largest_elements(numbers, N)\n",
    "\n",
    "print(f\"The {N} largest elements in the list are : {result}\")"
   ]
  },
  {
   "cell_type": "markdown",
   "id": "ab9763be-5713-43ee-8af4-2498e8faf0ec",
   "metadata": {},
   "source": [
    "### ***55 WAP to print even numbers in a list***"
   ]
  },
  {
   "cell_type": "code",
   "execution_count": 5,
   "id": "4f0466e5-b17a-4c8e-9345-2ee251e9fd01",
   "metadata": {},
   "outputs": [
    {
     "name": "stdout",
     "output_type": "stream",
     "text": [
      "Even numbers in the list : [2, 4, 6, 8, 10]\n"
     ]
    }
   ],
   "source": [
    "numbers = [1, 2, 3, 4, 5, 6, 7, 8, 9, 10]\n",
    "\n",
    "even_numbers = [num for num in numbers if (num % 2 == 0)]\n",
    "\n",
    "print(f\"Even numbers in the list : {even_numbers}\")"
   ]
  },
  {
   "cell_type": "code",
   "execution_count": null,
   "id": "5e72306d-6863-489c-a836-b212638df0de",
   "metadata": {},
   "outputs": [],
   "source": []
  }
 ],
 "metadata": {
  "kernelspec": {
   "display_name": "Python 3 (ipykernel)",
   "language": "python",
   "name": "python3"
  },
  "language_info": {
   "codemirror_mode": {
    "name": "ipython",
    "version": 3
   },
   "file_extension": ".py",
   "mimetype": "text/x-python",
   "name": "python",
   "nbconvert_exporter": "python",
   "pygments_lexer": "ipython3",
   "version": "3.11.7"
  }
 },
 "nbformat": 4,
 "nbformat_minor": 5
}
