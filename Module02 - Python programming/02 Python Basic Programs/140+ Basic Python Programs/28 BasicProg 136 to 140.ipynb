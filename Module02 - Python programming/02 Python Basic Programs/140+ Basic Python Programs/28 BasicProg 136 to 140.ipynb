{
 "cells": [
  {
   "cell_type": "markdown",
   "id": "356ba972-b564-45a5-b869-24572051d1b5",
   "metadata": {},
   "source": [
    "### ***136 Create a function that validates whether three given integers form a pythagorean triplet. The sum of the squares of the two smallest integers must equal the square of the largest number to be validated***\n",
    "```\n",
    "Examples:\n",
    "---------\n",
    "\n",
    "is_triplet(3, 4, 5)    ==> True\n",
    "\n",
    "- 3**2 + 4**2 = 25\n",
    "- 5**2 = 25\n",
    "\n",
    "is_triplet(13, 5, 12)  ==> True\n",
    "\n",
    "- 5**2 + 12**2 = 169\n",
    "- 13**2 = 169\n",
    "\n",
    "is_triplet(1, 2, 3)     ==> False\n",
    "\n",
    "- 1**2 + 2**2 = 5\n",
    "- 3**2 = 9\n",
    "\n",
    "Notes:\n",
    "\n",
    "- Numbers may not be given in a sorted order\n",
    "```"
   ]
  },
  {
   "cell_type": "code",
   "execution_count": 3,
   "id": "bad69a3b-23b5-4a69-aea7-f4c96af5aeee",
   "metadata": {},
   "outputs": [],
   "source": [
    "def is_triplet(a, b, c):\n",
    "    sorted_numbers = sorted([a, b, c])\n",
    "    return (sorted_numbers[0]**2 + sorted_numbers[1]**2 == sorted_numbers[2]**2)"
   ]
  },
  {
   "cell_type": "code",
   "execution_count": 5,
   "id": "cae6b541-f4b1-4a24-b71f-895696ebdd82",
   "metadata": {},
   "outputs": [
    {
     "name": "stdout",
     "output_type": "stream",
     "text": [
      "True\n",
      "True\n",
      "False\n"
     ]
    }
   ],
   "source": [
    "print(is_triplet(3, 4, 5))\n",
    "print(is_triplet(13, 5, 12))\n",
    "print(is_triplet(1, 2, 3))"
   ]
  },
  {
   "cell_type": "markdown",
   "id": "b4d50880-781c-4a72-8edd-855e50e7fbef",
   "metadata": {},
   "source": [
    "### ***137 Create a function that takes three integer arguments(a, b, c) and returns the amount of integers which are of equal value.***\n",
    "```\n",
    "Examples:\n",
    "---------\n",
    "\n",
    "equal(3, 4, 3) ==> 2\n",
    "\n",
    "equal(1, 1, 1) ==> 3\n",
    "\n",
    "equal(3, 4, 1) ==> 0\n",
    "\n",
    "Notes:\n",
    "\n",
    "- Your function must return 0, 2 or 3\n",
    "```"
   ]
  },
  {
   "cell_type": "code",
   "execution_count": 6,
   "id": "8c161998-b1ef-4bfb-b77b-00ac2b9caed9",
   "metadata": {},
   "outputs": [],
   "source": [
    "def equal(a, b, c):\n",
    "    if a == b == c:\n",
    "        return 3\n",
    "    elif a == b or b == c or a == c:\n",
    "        return 2\n",
    "    else:\n",
    "        return 0"
   ]
  },
  {
   "cell_type": "code",
   "execution_count": 7,
   "id": "7787e5f5-10d0-49df-8a34-70ec9aca9ffb",
   "metadata": {},
   "outputs": [
    {
     "name": "stdout",
     "output_type": "stream",
     "text": [
      "2\n",
      "3\n",
      "0\n"
     ]
    }
   ],
   "source": [
    "print(equal(3, 4, 3))\n",
    "print(equal(1, 1, 1))\n",
    "print(equal(3, 4, 1))"
   ]
  },
  {
   "cell_type": "markdown",
   "id": "66f9ef67-aac0-4ebb-a610-7c72ee52b211",
   "metadata": {},
   "source": [
    "### ***138 Write a function that converts a dictionary into a list of keys-values tuples***\n",
    "```\n",
    "Examples:\n",
    "---------\n",
    "\n",
    "dict_to_list({\n",
    "    \"D\": 1,\n",
    "    \"B\": 2,\n",
    "    \"C\": 3\n",
    "})  ==> [(\"B\", 2), (\"C\", 3), (\"D\", 1)]\n",
    "\n",
    "dict_to_list({\n",
    "    \"likes\": 2,\n",
    "    \"dislikes\": 3,\n",
    "    \"followers\": 10\n",
    "})  ==> [(\"dislikes\", 3), (\"followers\", 10), (\"likes\", 2)]\n",
    "\n",
    "Notes:\n",
    "\n",
    "- Return the elements in the list in alphabetical order\n",
    "```"
   ]
  },
  {
   "cell_type": "code",
   "execution_count": 8,
   "id": "c17c77ba-40dc-40d1-a032-503af58b2d09",
   "metadata": {},
   "outputs": [],
   "source": [
    "def dict_to_list(input_dict):\n",
    "    sorted_dict = sorted(input_dict.items())\n",
    "    result = [(key, value) for key, value in sorted_dict]\n",
    "    return result"
   ]
  },
  {
   "cell_type": "code",
   "execution_count": 9,
   "id": "dfa2baea-c13e-4723-87e7-855d9dc611c2",
   "metadata": {},
   "outputs": [
    {
     "name": "stdout",
     "output_type": "stream",
     "text": [
      "[('B', 2), ('C', 3), ('D', 1)]\n",
      "[('dislikes', 3), ('followers', 10), ('likes', 2)]\n"
     ]
    }
   ],
   "source": [
    "print(dict_to_list({\n",
    "    \"D\": 1,\n",
    "    \"B\": 2,\n",
    "    \"C\": 3\n",
    "}))\n",
    "print(dict_to_list({\n",
    "    \"likes\": 2,\n",
    "    \"dislikes\": 3,\n",
    "    \"followers\": 10\n",
    "}))"
   ]
  },
  {
   "cell_type": "markdown",
   "id": "577dc767-02f3-4e0d-8d0a-a7b8aa4f2e9a",
   "metadata": {},
   "source": [
    "### ***139 Write a function that creates a dictionary with each (key, value) pair being the(lower case, upper case) version of a letter, respectively***\n",
    "```\n",
    "Examples:\n",
    "---------\n",
    "\n",
    "mapping([\"p\", \"s\"]) ==> {\"p\": \"P\", \"s\": \"S\"}\n",
    "\n",
    "mapping([\"a\", \"b\", \"c\"]) ==> {\"a\": \"A\", \"b\": \"B\", \"c\": \"C\"}\n",
    "\n",
    "mapping([\"a\", \"v\", \"y\", \"z\"]) ==> {\"a\": \"A\", \"v\": \"V\", \"y\": \"Y\", \"z\": \"Z\"}\n",
    "\n",
    "Notes:\n",
    "\n",
    "- All of the letter in the input list will always be lowercase\n",
    "```"
   ]
  },
  {
   "cell_type": "code",
   "execution_count": 12,
   "id": "46088853-d474-4f96-b961-8130979a8d3b",
   "metadata": {},
   "outputs": [],
   "source": [
    "def mapping(letters):\n",
    "    result = {}\n",
    "    for letter in letters:\n",
    "        result[letter] = letter.upper()\n",
    "    return result"
   ]
  },
  {
   "cell_type": "code",
   "execution_count": 13,
   "id": "c93a3658-1dd5-4a59-9d0f-8e9f9d490834",
   "metadata": {},
   "outputs": [
    {
     "name": "stdout",
     "output_type": "stream",
     "text": [
      "{'p': 'P', 's': 'S'}\n",
      "{'a': 'A', 'b': 'B', 'c': 'C'}\n",
      "{'a': 'A', 'v': 'V', 'y': 'Y', 'z': 'Z'}\n"
     ]
    }
   ],
   "source": [
    "print(mapping([\"p\", \"s\"]))\n",
    "print(mapping([\"a\", \"b\", \"c\"]))\n",
    "print(mapping([\"a\", \"v\", \"y\", \"z\"]))"
   ]
  },
  {
   "cell_type": "markdown",
   "id": "1e9814e7-0f31-4204-98c2-dea80c94348b",
   "metadata": {},
   "source": [
    "### ***140 Write a function that replaces all vowels in a string with a specified vowel***\n",
    "```\n",
    "Examples:\n",
    "---------\n",
    "\n",
    "vow_replace(\"apples and bananas\", \"u\") ==> \"uppulus und bununus\"\n",
    "\n",
    "vow_replace(\"cheese casserole\", \"o\")   ==> \"chooso cossorolo\"\n",
    "\n",
    "vow_replace(\"stuffed jalapeno poppers\", \"e\") ==> \"steffed jelepene peppers\"\n",
    "\n",
    "Notes:\n",
    "\n",
    "- All words will be lowercase. Y is not cosidered a vowel\n",
    "```"
   ]
  },
  {
   "cell_type": "code",
   "execution_count": 14,
   "id": "ef0678c5-c176-4bca-8502-9e27875242f3",
   "metadata": {},
   "outputs": [],
   "source": [
    "def vow_replace(string, vowel):\n",
    "    vowels = \"aeiou\"\n",
    "    result = \"\"\n",
    "    for char in string:\n",
    "        if char in vowels:\n",
    "            result += vowel\n",
    "        else:\n",
    "            result += char\n",
    "    return result"
   ]
  },
  {
   "cell_type": "code",
   "execution_count": 15,
   "id": "3a9b04c4-25ce-46ca-993f-63d106b55068",
   "metadata": {},
   "outputs": [
    {
     "name": "stdout",
     "output_type": "stream",
     "text": [
      "upplus und bununus\n",
      "chooso cossorolo\n",
      "steffed jelepene peppers\n"
     ]
    }
   ],
   "source": [
    "print(vow_replace(\"apples and bananas\", \"u\"))\n",
    "print(vow_replace(\"cheese casserole\", \"o\"))\n",
    "print(vow_replace(\"stuffed jalapeno poppers\", \"e\"))"
   ]
  },
  {
   "cell_type": "markdown",
   "id": "0ce243e6-eb5f-48c2-ab2f-933ae392d97b",
   "metadata": {},
   "source": [
    "### ***141 Create a function that takes a string as input and capitalizes a letter if its ASCII code is even and returns its lower case version if its ASCII code is odd.***\n",
    "```\n",
    "Examples:\n",
    "---------\n",
    "\n",
    "ascii_capitalize(\"to be or not to be!\")  ==> \"To Be oR NoT To Be!\"\n",
    "\n",
    "ascii_capitalize(\"THE LITTLE MERMAID\") ==> \"THe LiTTLe meRmaiD\"\n",
    "\n",
    "ascii_capitalize(\"Oh what a beautiful morning.\") ==> \"oH wHaT a BeauTiFuL moRNiNg\"\n",
    "```"
   ]
  },
  {
   "cell_type": "code",
   "execution_count": 16,
   "id": "25a96d47-9b7a-43d5-9100-a8d631615f4f",
   "metadata": {},
   "outputs": [],
   "source": [
    "def ascii_capitalize(input_str):\n",
    "    result = \"\"\n",
    "    for char in input_str:\n",
    "        if (ord(char) % 2 == 0):\n",
    "            result += char.upper()\n",
    "        else:\n",
    "            result += char.lower()\n",
    "    return result"
   ]
  },
  {
   "cell_type": "code",
   "execution_count": 17,
   "id": "a33b96c5-382f-4414-9e90-643c8e311312",
   "metadata": {},
   "outputs": [
    {
     "name": "stdout",
     "output_type": "stream",
     "text": [
      "To Be oR NoT To Be!\n",
      "THe LiTTLe meRmaiD\n",
      "oH wHaT a BeauTiFuL moRNiNg.\n"
     ]
    }
   ],
   "source": [
    "print(ascii_capitalize(\"to be or not to be!\"))\n",
    "print(ascii_capitalize(\"THE LITTLE MERMAID\"))\n",
    "print(ascii_capitalize(\"Oh what a beautiful morning.\"))"
   ]
  },
  {
   "cell_type": "code",
   "execution_count": null,
   "id": "4c718aaa-3619-4de6-a776-f468ee7d6238",
   "metadata": {},
   "outputs": [],
   "source": []
  }
 ],
 "metadata": {
  "kernelspec": {
   "display_name": "Python 3 (ipykernel)",
   "language": "python",
   "name": "python3"
  },
  "language_info": {
   "codemirror_mode": {
    "name": "ipython",
    "version": 3
   },
   "file_extension": ".py",
   "mimetype": "text/x-python",
   "name": "python",
   "nbconvert_exporter": "python",
   "pygments_lexer": "ipython3",
   "version": "3.11.7"
  }
 },
 "nbformat": 4,
 "nbformat_minor": 5
}
