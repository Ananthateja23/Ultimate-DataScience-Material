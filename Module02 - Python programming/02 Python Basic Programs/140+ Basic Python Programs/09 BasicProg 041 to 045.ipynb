{
 "cells": [
  {
   "cell_type": "markdown",
   "id": "33b9a167-8c83-4302-bad5-caf3322991d5",
   "metadata": {},
   "source": [
    "### ***41 WAP to remove punctuation from a string*** "
   ]
  },
  {
   "cell_type": "code",
   "execution_count": 1,
   "id": "a03ba39c-f3c9-41c1-80c8-2232d36d7670",
   "metadata": {},
   "outputs": [
    {
     "name": "stdin",
     "output_type": "stream",
     "text": [
      "Enter a string :  Hello!!!, he said ---and went\n"
     ]
    },
    {
     "name": "stdout",
     "output_type": "stream",
     "text": [
      "Hello he said and went\n"
     ]
    }
   ],
   "source": [
    "punctuations = '''!()-[]{};:'\"\\,<>./?@#$%^&*_~'''\n",
    "\n",
    "my_str = input(\"Enter a string : \")\n",
    "\n",
    "no_punct = \"\"\n",
    "\n",
    "for char in my_str:\n",
    "    if char not in punctuations:\n",
    "        no_punct += char\n",
    "\n",
    "print(no_punct)"
   ]
  },
  {
   "cell_type": "markdown",
   "id": "e1268d67-7729-4184-b879-df4323248e36",
   "metadata": {},
   "source": [
    "### ***43 WAP to check given number is disarum number***\n",
    "```\n",
    "A Disarium number is a number that is equal to the sum of its digits each raised to the\n",
    "power of its respective position. For example, 89 is a Disarium number because\n",
    "\n",
    "==> 8^1 + 9^2 = 8 + 81 = 89\n",
    "```"
   ]
  },
  {
   "cell_type": "code",
   "execution_count": 2,
   "id": "968d3ddd-8793-4f2e-8c3e-457091b1d1de",
   "metadata": {},
   "outputs": [
    {
     "name": "stdin",
     "output_type": "stream",
     "text": [
      "Enter a number :  89\n"
     ]
    },
    {
     "name": "stdout",
     "output_type": "stream",
     "text": [
      "89 is a Disarium number\n"
     ]
    }
   ],
   "source": [
    "def is_disarium(number):\n",
    "    num_str = str(number)\n",
    "\n",
    "    digit_sum = sum(int(i)**(index+1) for index, i in enumerate(num_str))\n",
    "    return digit_sum == number\n",
    "\n",
    "\n",
    "try:\n",
    "    num = int(input(\"Enter a number : \"))\n",
    "\n",
    "    if is_disarium(num):\n",
    "        print(f\"{num} is a Disarium number\")\n",
    "    else:\n",
    "        print(f\"{num} is not a disarium number\")\n",
    "\n",
    "except ValueError:\n",
    "    print(\"Invalid input. Please enter a valid number\")"
   ]
  },
  {
   "cell_type": "markdown",
   "id": "d31596eb-c776-4cc7-ba20-bccb05b28f2c",
   "metadata": {},
   "source": [
    "### ***44 WAP to print all disarium numbers between 1 to 100***"
   ]
  },
  {
   "cell_type": "code",
   "execution_count": 3,
   "id": "f86e12c7-e3f5-408d-8f5d-0c5c23e61541",
   "metadata": {},
   "outputs": [
    {
     "name": "stdout",
     "output_type": "stream",
     "text": [
      "Disarium numbers between 1 and 100 : \n",
      "1 | 2 | 3 | 4 | 5 | 6 | 7 | 8 | 9 | 89 | "
     ]
    }
   ],
   "source": [
    "def is_disarium(num):\n",
    "    num_str = str(num)\n",
    "    digit_sum = sum(int(i)**(index+1) for index, i in enumerate(num_str))\n",
    "    return digit_sum == num\n",
    "\n",
    "disarium_numbers = [num for num in range(1, 101) if is_disarium(num)]\n",
    "\n",
    "print(\"Disarium numbers between 1 and 100 : \")\n",
    "for num in disarium_numbers:\n",
    "    print(num, end=\" | \")"
   ]
  },
  {
   "cell_type": "markdown",
   "id": "a3441c50-080f-42d6-b189-83b7bff4f7ce",
   "metadata": {},
   "source": [
    "### ***45 WAP to check if the given number is Happy number***"
   ]
  },
  {
   "cell_type": "markdown",
   "id": "55d66af5-4ad6-4c81-85d7-4c00ccf77006",
   "metadata": {},
   "source": [
    "```\n",
    "Happy Number:\n",
    "-------------\n",
    "A Happy Number is a positive integer that, when you repeatedly replace\n",
    " the number by the sum of the squares of its digits and continue the process, eventually\n",
    " reaches 1. If the process never reaches 1 but instead loops endlessly in a cycle, the numb \n",
    " is not a Happy Number\n",
    "\n",
    "For example:\n",
    "\n",
    "19 is a Happy Number because:\n",
    "\n",
    "1^2 + 9^2 = 82\n",
    "\n",
    "8^2 + 2^2 = 68\n",
    "\n",
    "6^2 + 8^2 = 100\n",
    "\n",
    "1^2 + 0^2 + 0^2 = 1\n",
    "\n",
    "The process reaches 1, so 19 is a Happy Number\n",
    "```"
   ]
  },
  {
   "cell_type": "code",
   "execution_count": 4,
   "id": "2457164e-cae4-49b3-82bb-0e063fa483bd",
   "metadata": {},
   "outputs": [
    {
     "name": "stdin",
     "output_type": "stream",
     "text": [
      "Enter a number :  23\n"
     ]
    },
    {
     "name": "stdout",
     "output_type": "stream",
     "text": [
      "23 is a Happy number\n"
     ]
    }
   ],
   "source": [
    "def is_happy_number(num):\n",
    "    seen = set()\n",
    "\n",
    "    while (num != 1) and (num not in seen):\n",
    "        seen.add(num)\n",
    "        num = sum(int(i)**2 for i in str(num))\n",
    "        \n",
    "    return num == 1\n",
    "\n",
    "\n",
    "num = int(input(\"Enter a number : \"))\n",
    "\n",
    "if is_happy_number(num):\n",
    "    print(f\"{num} is a Happy number\")\n",
    "else:\n",
    "    print(f\"{num} is not a Happy number\")"
   ]
  },
  {
   "cell_type": "code",
   "execution_count": null,
   "id": "7319da86-4590-4cb7-b30b-ac40b0aad76d",
   "metadata": {},
   "outputs": [],
   "source": []
  }
 ],
 "metadata": {
  "kernelspec": {
   "display_name": "Python 3 (ipykernel)",
   "language": "python",
   "name": "python3"
  },
  "language_info": {
   "codemirror_mode": {
    "name": "ipython",
    "version": 3
   },
   "file_extension": ".py",
   "mimetype": "text/x-python",
   "name": "python",
   "nbconvert_exporter": "python",
   "pygments_lexer": "ipython3",
   "version": "3.11.7"
  }
 },
 "nbformat": 4,
 "nbformat_minor": 5
}
