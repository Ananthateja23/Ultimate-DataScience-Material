{
 "cells": [
  {
   "cell_type": "markdown",
   "id": "973ce679-d828-4913-b5c7-0e61cbf53519",
   "metadata": {},
   "source": [
    "### ***126 Create a function that takes a string and returns True or False, depending on whether the characters are in order or not***\n",
    "```\n",
    "Examples:\n",
    "---------\n",
    "\n",
    "is_in_order(\"abc\")     ==> True\n",
    "is_in_order(\"edabit\")  ==> False\n",
    "is_in_order(\"123\")     ==> True\n",
    "is_in_order(\"xyzz\")    ==> True\n",
    "\n",
    "Notes:\n",
    "------\n",
    "\n",
    "==> You don't have to handle empty string\n",
    "```"
   ]
  },
  {
   "cell_type": "code",
   "execution_count": 1,
   "id": "5d03fe94-933a-4647-8662-264c4dbe74fb",
   "metadata": {},
   "outputs": [],
   "source": [
    "def is_in_order(s):\n",
    "    return s == \"\".join(sorted(s))"
   ]
  },
  {
   "cell_type": "code",
   "execution_count": 2,
   "id": "80300615-3780-4df3-ae6a-a7da21a2c6ed",
   "metadata": {},
   "outputs": [
    {
     "name": "stdout",
     "output_type": "stream",
     "text": [
      "True\n",
      "False\n",
      "True\n",
      "True\n"
     ]
    }
   ],
   "source": [
    "print(is_in_order(\"abc\"))\n",
    "print(is_in_order(\"edabit\"))\n",
    "print(is_in_order(\"123\"))\n",
    "print(is_in_order(\"xyzz\"))"
   ]
  },
  {
   "cell_type": "markdown",
   "id": "99a32d05-6911-4271-bb77-fda747e0bbb1",
   "metadata": {},
   "source": [
    "### ***127 Create a function that takes a number as an argument and returns True or False depending on whether the number is symmetric or not. A number is symmetrical or not. A number is symmetrical when it is the same as its reverse***\n",
    "```\n",
    "Examples:\n",
    "---------\n",
    "\n",
    "is_symmetrical(7227)     ==> True\n",
    "is_symmetrical(12567)    ==> False\n",
    "is_symmetrical(44444444) ==> True\n",
    "is_symmetrical(9939)     ==> False\n",
    "is_symmetrical(1112111)  ==> True\n",
    "```"
   ]
  },
  {
   "cell_type": "code",
   "execution_count": 3,
   "id": "0b73b82c-597b-4766-959a-0373a018c3a4",
   "metadata": {},
   "outputs": [],
   "source": [
    "def is_symmetrical(num):\n",
    "    num_str = str(num)\n",
    "    return num_str == num_str[::-1]"
   ]
  },
  {
   "cell_type": "code",
   "execution_count": 4,
   "id": "94d41296-0e30-4934-88d0-14a123d6c9c7",
   "metadata": {},
   "outputs": [
    {
     "name": "stdout",
     "output_type": "stream",
     "text": [
      "True\n",
      "False\n",
      "True\n",
      "False\n",
      "True\n"
     ]
    }
   ],
   "source": [
    "print(is_symmetrical(7227))\n",
    "print(is_symmetrical(12567))\n",
    "print(is_symmetrical(44444444))\n",
    "print(is_symmetrical(9939))\n",
    "print(is_symmetrical(1112111))"
   ]
  },
  {
   "cell_type": "markdown",
   "id": "9d0403a9-f8d6-4171-b544-cf9d245c9e8a",
   "metadata": {},
   "source": [
    "### ***128 Given a string of numbers seperated by a comma and space, return the product of the numbers***\n",
    "```\n",
    "Examples:\n",
    "---------\n",
    "\n",
    "multiply_nums(\"2, 3\")           ==> 6\n",
    "multiply_nums(\"1, 2, 3, 4\")     ==> 24\n",
    "multiply_nums(\"54, 75, 453, 0\") ==> 0 \n",
    "multiply_nums(\"10, -2\")         ==> -20\n",
    "```"
   ]
  },
  {
   "cell_type": "code",
   "execution_count": 5,
   "id": "ed35761e-14eb-4b11-afc8-9b4c0d5cda25",
   "metadata": {},
   "outputs": [],
   "source": [
    "def multiply_nums(nums_str):\n",
    "    nums = [int(num) for num in nums_str.split(\", \")]\n",
    "    result = 1\n",
    "    for num in nums:\n",
    "        result *= num\n",
    "    return result"
   ]
  },
  {
   "cell_type": "code",
   "execution_count": 6,
   "id": "f73a8333-1974-4ed9-bd96-ab44f1b5e192",
   "metadata": {},
   "outputs": [
    {
     "name": "stdout",
     "output_type": "stream",
     "text": [
      "6\n",
      "24\n",
      "0\n",
      "-20\n"
     ]
    }
   ],
   "source": [
    "print(multiply_nums(\"2, 3\"))\n",
    "print(multiply_nums(\"1, 2, 3, 4\"))\n",
    "print(multiply_nums(\"54, 75, 453, 0\"))\n",
    "print(multiply_nums(\"10, -2\"))"
   ]
  },
  {
   "cell_type": "markdown",
   "id": "5e57e321-1f72-45a7-b3c0-669d9ec00bb5",
   "metadata": {},
   "source": [
    "### ***129 Create a function that squares every digit of a number***\n",
    "```\n",
    "Examples:\n",
    "---------\n",
    "\n",
    "square_digits(9119)  ==> 811181\n",
    "square_digits(2483)  ==> 416649\n",
    "square_digits(3212)  ==> 9414\n",
    "\n",
    "Notes:\n",
    "------\n",
    "\n",
    "==> The function receives an integer and must return an integer\n",
    "```"
   ]
  },
  {
   "cell_type": "code",
   "execution_count": 7,
   "id": "5bb8c2db-3415-4667-a290-0d6c427e80d8",
   "metadata": {},
   "outputs": [],
   "source": [
    "def square_digits(n):\n",
    "    num_str = str(n)\n",
    "    result_str = \"\"\n",
    "    for digit in num_str:\n",
    "        squared_digit = int(digit) ** 2\n",
    "        result_str += str(squared_digit)\n",
    "    return int(result_str) "
   ]
  },
  {
   "cell_type": "code",
   "execution_count": 8,
   "id": "dffe79b6-a3ee-468b-885d-d03d3111c377",
   "metadata": {},
   "outputs": [
    {
     "name": "stdout",
     "output_type": "stream",
     "text": [
      "811181\n",
      "416649\n",
      "9414\n"
     ]
    }
   ],
   "source": [
    "print(square_digits(9119))\n",
    "print(square_digits(2483))\n",
    "print(square_digits(3212))"
   ]
  },
  {
   "cell_type": "markdown",
   "id": "2504bb15-b6a9-4cbd-a725-fd37bd6690b9",
   "metadata": {},
   "source": [
    "### ***130 Create a function that sorts a list and removes all duplicates items from it***\n",
    "```\n",
    "Examples:\n",
    "---------\n",
    "\n",
    "setify([1, 3, 3, 5, 5])      ==> [1, 3, 5]\n",
    "setify([4, 4, 4, 4])         ==> [4]\n",
    "setify([5, 7, 8, 9, 10, 15]) ==> [5, 7, 8, 9, 10, 15]\n",
    "setify([3, 3, 3, 2, 1])      ==> [1, 2, 3]\n",
    "```"
   ]
  },
  {
   "cell_type": "code",
   "execution_count": 9,
   "id": "4da69c6a-f2d1-41e6-a680-74bbb18658f5",
   "metadata": {},
   "outputs": [],
   "source": [
    "def setify(lst):\n",
    "    unique_set = set(sorted(lst))\n",
    "    return list(unique_set)"
   ]
  },
  {
   "cell_type": "code",
   "execution_count": 10,
   "id": "58c54a7b-e594-4d8e-bb3e-72848ddc331a",
   "metadata": {},
   "outputs": [
    {
     "name": "stdout",
     "output_type": "stream",
     "text": [
      "[1, 3, 5]\n",
      "[4]\n",
      "[5, 7, 8, 9, 10, 15]\n",
      "[1, 2, 3]\n"
     ]
    }
   ],
   "source": [
    "print(setify([1, 3, 3, 5, 5]))\n",
    "print(setify([4, 4, 4, 4]))\n",
    "print(setify([5, 7, 8, 9, 10, 15]))\n",
    "print(setify([3, 3, 3, 2, 1]))"
   ]
  },
  {
   "cell_type": "code",
   "execution_count": null,
   "id": "3c35d6b6-c8d0-4bf2-8d02-0d27813e09ed",
   "metadata": {},
   "outputs": [],
   "source": []
  }
 ],
 "metadata": {
  "kernelspec": {
   "display_name": "Python 3 (ipykernel)",
   "language": "python",
   "name": "python3"
  },
  "language_info": {
   "codemirror_mode": {
    "name": "ipython",
    "version": 3
   },
   "file_extension": ".py",
   "mimetype": "text/x-python",
   "name": "python",
   "nbconvert_exporter": "python",
   "pygments_lexer": "ipython3",
   "version": "3.11.7"
  }
 },
 "nbformat": 4,
 "nbformat_minor": 5
}
