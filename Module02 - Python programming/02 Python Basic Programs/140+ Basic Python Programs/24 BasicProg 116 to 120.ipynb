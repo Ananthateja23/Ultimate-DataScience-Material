{
 "cells": [
  {
   "cell_type": "markdown",
   "id": "0bdd78cd-50d1-41d2-8cd9-4f8a858dce4d",
   "metadata": {},
   "source": [
    "### ***116 Create a function that takes a list of numbers between 1 and 10(excluding one umber) and returns the missing number***\n",
    "```\n",
    "Examples:\n",
    "---------\n",
    "\n",
    "missing_num([1, 2, 3, 4, 6, 7, 8, 9, 10]) ==> 5\n",
    "\n",
    "missing_num([7, 2, 3, 6, 5, 9, 1, 4, 8])  ==> 10\n",
    "\n",
    "missing_num([10, 5, 1, 2, 4, 6, 8, 3, 9]) ==> 7\n",
    "```"
   ]
  },
  {
   "cell_type": "code",
   "execution_count": 1,
   "id": "4d948dc2-6859-4d69-af1d-dc2d2e637c3b",
   "metadata": {},
   "outputs": [],
   "source": [
    "def missing_num(lst):\n",
    "    total_sum = sum(range(1, 11))\n",
    "    given_sum = sum(lst)\n",
    "    missing = total_sum - given_sum\n",
    "    return missing"
   ]
  },
  {
   "cell_type": "code",
   "execution_count": 2,
   "id": "4e617af4-73eb-40d9-adbe-d9ab67302993",
   "metadata": {},
   "outputs": [
    {
     "name": "stdout",
     "output_type": "stream",
     "text": [
      "5\n",
      "10\n",
      "7\n"
     ]
    }
   ],
   "source": [
    "print(missing_num([1, 2, 3, 4, 6, 7, 8, 9, 10]))\n",
    "print(missing_num([7, 2, 3, 6, 5, 9, 1, 4, 8]))\n",
    "print(missing_num([10, 5, 1, 2, 4, 6, 8, 3, 9]))"
   ]
  },
  {
   "cell_type": "markdown",
   "id": "95cc344a-0feb-43d3-8b3b-10392e4f4e05",
   "metadata": {},
   "source": [
    "### ***117 Write a function that takes a list and a number as arguments. Add the number to the end of the list, then remove the first element of the list. The function should then return the updated list***\n",
    "```\n",
    "Examples:\n",
    "---------\n",
    "\n",
    "next_in_line([5, 6, 7, 8, 9], 1) ==> [6, 7, 8, 9, 1]\n",
    "\n",
    "next_in_line([7, 6, 3, 23, 17], 10) ==> [6, 3, 23, 17, 10]\n",
    "\n",
    "next_in_line([1, 10, 20, 42], 6) ==> [10, 20, 42, 6]\n",
    "\n",
    "next_in_line([], 6) ==> \"No list has been selected\"\n",
    "```"
   ]
  },
  {
   "cell_type": "code",
   "execution_count": 3,
   "id": "c97f8788-7848-45dc-8715-92b64aed962f",
   "metadata": {},
   "outputs": [],
   "source": [
    "def next_in_line(lst, num):\n",
    "    if lst:\n",
    "        lst.pop(0)\n",
    "        lst.append(num)\n",
    "        return lst\n",
    "    else:\n",
    "        return \"No list has been selected\""
   ]
  },
  {
   "cell_type": "code",
   "execution_count": 4,
   "id": "c9b124c8-603e-4909-91eb-f165572ffda9",
   "metadata": {},
   "outputs": [
    {
     "name": "stdout",
     "output_type": "stream",
     "text": [
      "[6, 7, 8, 9, 1]\n",
      "[6, 3, 23, 17, 10]\n",
      "[10, 20, 42, 6]\n",
      "No list has been selected\n"
     ]
    }
   ],
   "source": [
    "print(next_in_line([5, 6, 7, 8, 9], 1))\n",
    "print(next_in_line([7, 6, 3, 23, 17], 10))\n",
    "print(next_in_line([1, 10, 20, 42], 6))\n",
    "print(next_in_line([], 6))"
   ]
  },
  {
   "cell_type": "markdown",
   "id": "46954038-bcd8-49bc-8c25-c43c2024b6dd",
   "metadata": {},
   "source": [
    "### ***118 Create the function that takes a list of dictionaries and returns the sum of people's budget***\n",
    "```\n",
    "Examples:\n",
    "---------\n",
    "\n",
    "get_budgets([\n",
    "    {\"name\": \"John\", \"age\": 21, \"budget\": 23000},\n",
    "    {\"name\": \"Steve\", \"age\": 32, \"budget\": 40000},\n",
    "    {\"name\": \"Martin\", \"age\": 16, \"budget\": 2700}\n",
    "]) ==> 65700\n",
    "\n",
    "get_budgets([\n",
    "    {\"name\": \"John\", \"age\": 21, \"budget\": 29000},\n",
    "    {\"name\": \"Steve\", \"age\": 32, \"budget\": 32000},\n",
    "    {\"name\": \"Martin\", \"age\": 16, \"budget\": 1600}\n",
    "]) ==> 65700\n",
    "```"
   ]
  },
  {
   "cell_type": "code",
   "execution_count": 5,
   "id": "4aaa45af-8996-46c5-bf93-cb4cdd79a686",
   "metadata": {},
   "outputs": [],
   "source": [
    "def get_budgets(lst):\n",
    "    total_budget = 0\n",
    "    for item_dict in lst:\n",
    "        total_budget += item_dict[\"budget\"]\n",
    "    return total_budget"
   ]
  },
  {
   "cell_type": "code",
   "execution_count": 6,
   "id": "c2f307a0-ec82-4319-8c65-0efdff882cb3",
   "metadata": {},
   "outputs": [
    {
     "name": "stdout",
     "output_type": "stream",
     "text": [
      "65700\n",
      "62600\n"
     ]
    }
   ],
   "source": [
    "budget1 = [\n",
    "    {\"name\": \"John\", \"age\": 21, \"budget\": 23000},\n",
    "    {\"name\": \"Steve\", \"age\": 32, \"budget\": 40000},\n",
    "    {\"name\": \"Martin\", \"age\": 16, \"budget\": 2700}\n",
    "]\n",
    "\n",
    "budget2 = [\n",
    "    {\"name\": \"John\", \"age\": 21, \"budget\": 29000},\n",
    "    {\"name\": \"Steve\", \"age\": 32, \"budget\": 32000},\n",
    "    {\"name\": \"Martin\", \"age\": 16, \"budget\": 1600}\n",
    "]\n",
    "\n",
    "print(get_budgets(budget1))\n",
    "print(get_budgets(budget2))"
   ]
  },
  {
   "cell_type": "markdown",
   "id": "a8f76236-e967-4594-9702-845e8adf6ade",
   "metadata": {},
   "source": [
    "### ***119 Create a function that takes a string and returns a string with its letters in alphabetical order***\n",
    "```\n",
    "Examples:\n",
    "---------\n",
    "\n",
    "alphabet_soup(\"hello\")   ==> \"ehllo\"\n",
    "\n",
    "alphabet_soup(\"edabit\")   ==> \"abdeit\"\n",
    "\n",
    "alphabet_soup(\"hacker\")   ==> \"acehkr\"\n",
    "\n",
    "alphabet_soup(\"geek\")   ==> \"eegk\"\n",
    "\n",
    "alphabet_soup(\"javascript\")   ==> \"aacijprstv\"\n",
    "```"
   ]
  },
  {
   "cell_type": "code",
   "execution_count": 7,
   "id": "a7de3e2e-f301-4e2c-8920-2276a67cf525",
   "metadata": {},
   "outputs": [],
   "source": [
    "def alphabet_soup(text):\n",
    "    var = list(text)\n",
    "    var.sort()\n",
    "    return \"\".join(var)"
   ]
  },
  {
   "cell_type": "code",
   "execution_count": 8,
   "id": "d846b84c-ec06-4621-bfa1-0a798ced9082",
   "metadata": {},
   "outputs": [
    {
     "name": "stdout",
     "output_type": "stream",
     "text": [
      "ehllo\n",
      "abdeit\n",
      "acehkr\n",
      "eegk\n",
      "aacijprstv\n"
     ]
    }
   ],
   "source": [
    "print(alphabet_soup(\"hello\"))\n",
    "print(alphabet_soup(\"edabit\"))\n",
    "print(alphabet_soup(\"hacker\"))\n",
    "print(alphabet_soup(\"geek\"))\n",
    "print(alphabet_soup(\"javascript\"))"
   ]
  },
  {
   "cell_type": "markdown",
   "id": "9814f79d-d997-4ab3-8f92-ee314dabf10d",
   "metadata": {},
   "source": [
    "### ***120 Suppose that you invest $ 10,000 for 10 years at an interest rate of 6% compounded monthly. what will be the value of your investment at the end of the 10 year period?***\n",
    "\n",
    "```\n",
    "Create a function that accepts the principal(p), the term in years(t), the interest rate(r), and the number of compounding periods per year n. The function returns the value at the end of term rounded to the nearest cent.\n",
    "\n",
    "For the example:\n",
    "----------------\n",
    "\n",
    "compound_interest(10000, 10, 0.06, 12) ==> 18193.97\n",
    "\n",
    "Note that the interest rate is given as a decimal and n = 12 because with monthly compounding there are 12 periods per year. Compounding can also be done annually, quaterly, weekly, or daily\n",
    "\n",
    "\n",
    "Examples:\n",
    "---------\n",
    "\n",
    "compound_interest(100, 1, 0.05, 1) ==> 105.0\n",
    "\n",
    "compound_interest(3500, 15, 0.1, 4) ==> 15399.26\n",
    "\n",
    "compound_interest(100000, 20, 0.15, 365) ==> 2007316.26\n",
    "```"
   ]
  },
  {
   "cell_type": "code",
   "execution_count": 9,
   "id": "bea48e98-02e8-42a9-b878-46cb05f7352e",
   "metadata": {},
   "outputs": [],
   "source": [
    "def compound_interest(p, t, r, n):\n",
    "    a = p * (1 + (r / n)) ** (n * t)\n",
    "    return round(a, 2)"
   ]
  },
  {
   "cell_type": "code",
   "execution_count": 10,
   "id": "73c74f8e-3f8f-45d3-b85f-5f5b7f21ce2f",
   "metadata": {},
   "outputs": [
    {
     "name": "stdout",
     "output_type": "stream",
     "text": [
      "18193.97\n",
      "105.0\n",
      "15399.26\n",
      "2007316.26\n"
     ]
    }
   ],
   "source": [
    "print(compound_interest(10000, 10, 0.06, 12))\n",
    "print(compound_interest(100, 1, 0.05, 1))\n",
    "print(compound_interest(3500, 15, 0.1, 4))\n",
    "print(compound_interest(100000, 20, 0.15, 365))"
   ]
  },
  {
   "cell_type": "code",
   "execution_count": null,
   "id": "c416e42b-4d09-40ef-89c2-b9f9a94878db",
   "metadata": {},
   "outputs": [],
   "source": []
  }
 ],
 "metadata": {
  "kernelspec": {
   "display_name": "Python 3 (ipykernel)",
   "language": "python",
   "name": "python3"
  },
  "language_info": {
   "codemirror_mode": {
    "name": "ipython",
    "version": 3
   },
   "file_extension": ".py",
   "mimetype": "text/x-python",
   "name": "python",
   "nbconvert_exporter": "python",
   "pygments_lexer": "ipython3",
   "version": "3.11.7"
  }
 },
 "nbformat": 4,
 "nbformat_minor": 5
}
