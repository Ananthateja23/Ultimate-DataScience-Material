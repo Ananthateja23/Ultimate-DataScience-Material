{
 "cells": [
  {
   "cell_type": "markdown",
   "id": "b5622d2f-adc0-488b-b84e-6c8c5891f5ca",
   "metadata": {},
   "source": [
    "### ***46 WAP to print all happy numbers between 1 and 100***"
   ]
  },
  {
   "cell_type": "code",
   "execution_count": 1,
   "id": "1fbcdc60-a33f-428c-b265-83a9a8dbba90",
   "metadata": {},
   "outputs": [
    {
     "name": "stdout",
     "output_type": "stream",
     "text": [
      "Happy Numbers between 1 and 100 :\n",
      "[1, 7, 10, 13, 19, 23, 28, 31, 32, 44, 49, 68, 70, 79, 82, 86, 91, 94, 97, 100]\n"
     ]
    }
   ],
   "source": [
    "def is_happy_number(num):\n",
    "    seen = set()\n",
    "    while (num != 1) and (num not in seen):\n",
    "        seen.add(num)\n",
    "        num = sum(int(i)**2 for i in str(num))\n",
    "    return num == 1\n",
    "\n",
    "happy_numbers = []\n",
    "\n",
    "for num in range(1, 101):\n",
    "    if is_happy_number(num):\n",
    "        happy_numbers.append(num)\n",
    "\n",
    "print(\"Happy Numbers between 1 and 100 :\")\n",
    "print(happy_numbers)"
   ]
  },
  {
   "cell_type": "markdown",
   "id": "64200697-c6e1-40cb-a8b6-05bdb5f38c99",
   "metadata": {},
   "source": [
    "### ***47 WAP to determine whether the given number is harshad number***\n",
    "```\n",
    "A Harshad number (or Niven number) is an integer that is divisible by the sum of its digits.\n",
    "In other words, a number is considered a Harshad number if it can be evenly divided by the\n",
    "sum of its own digits\n",
    "\n",
    "For example:\n",
    "\n",
    "==> 18 is a harshad number because 1 + 8 = 9 and 18 is divisible by 9\n",
    "\n",
    "==> 43 is not a harshad number because 4 + 3 = 7 and 43 is not divisible by 7\n",
    "``` "
   ]
  },
  {
   "cell_type": "code",
   "execution_count": 2,
   "id": "ac48138c-43e2-4575-adbf-8134e362f6cb",
   "metadata": {},
   "outputs": [
    {
     "name": "stdout",
     "output_type": "stream",
     "text": [
      "Enter a number :  18\n"
     ]
    },
    {
     "name": "stdout",
     "output_type": "stream",
     "text": [
      "18 is a Harshad number\n"
     ]
    }
   ],
   "source": [
    "def is_harshad_number(num):\n",
    "    digit_sum = sum(int(i) for i in str(num))\n",
    "    return num % digit_sum == 0\n",
    "\n",
    "num = int(input(\"Enter a number : \"))\n",
    "\n",
    "if is_harshad_number(num):\n",
    "    print(\"{} is a Harshad number\".format(num))\n",
    "else:\n",
    "    print(\"{} is not a Harshad number\".format(num))"
   ]
  },
  {
   "cell_type": "markdown",
   "id": "fcd85010-b640-40bf-9505-066f5074900c",
   "metadata": {},
   "source": [
    "### ***48 WAP to print all pronic numbers between 1 and 100***\n",
    "```\n",
    "A pronic number, also known as an oblong number or rectangular number, is a type of\n",
    "figurate number that represents a rectangle. It is the product of two consecutive integers, n\n",
    "and (n + 1). Mathematically, a pronic number can be expressed as:\n",
    "\n",
    "Pn = n * (n + 1)\n",
    "\n",
    "For example, the first few pronic numbers are:\n",
    "\n",
    "P1 = 1 * (1 + 1) = 2\n",
    "\n",
    "P2 = 2 * (2 + 1) = 6\n",
    "\n",
    "P3 = 3 * (3 + 1) = 12\n",
    "\n",
    "P4 = 4 * (4 + 1) = 20\n",
    "```"
   ]
  },
  {
   "cell_type": "code",
   "execution_count": 3,
   "id": "dcdd38d7-865f-4fbe-b241-3e57b6462656",
   "metadata": {},
   "outputs": [
    {
     "name": "stdout",
     "output_type": "stream",
     "text": [
      "Pronic numbers between 1 and 100 are : \n",
      "2 | 6 | 12 | 20 | 30 | 42 | 56 | 72 | 90 | "
     ]
    }
   ],
   "source": [
    "def is_pronic_number(num):\n",
    "    for n in range(1, int(num**0.5)+1):\n",
    "        if n * (n + 1) == num:\n",
    "            return True\n",
    "    return False\n",
    "\n",
    "\n",
    "print(\"Pronic numbers between 1 and 100 are : \")\n",
    "for i in range(1, 101):\n",
    "    if is_pronic_number(i):\n",
    "        print(i, end=\" | \")"
   ]
  },
  {
   "cell_type": "markdown",
   "id": "3b9391c8-4a1a-4ddb-b6b4-bb52a5c882b9",
   "metadata": {},
   "source": [
    "### ***49 WAP to find sum of elements in list***"
   ]
  },
  {
   "cell_type": "code",
   "execution_count": 4,
   "id": "9befb1bd-7ac2-4c4d-8f05-5a7bbec80c63",
   "metadata": {},
   "outputs": [
    {
     "name": "stdout",
     "output_type": "stream",
     "text": [
      "Sum of elements in the list :  150\n"
     ]
    }
   ],
   "source": [
    "numbers = [10, 20, 30, 40, 50]\n",
    "\n",
    "sum_of_numbers = 0\n",
    "\n",
    "for num in numbers:\n",
    "    sum_of_numbers += num\n",
    "\n",
    "\n",
    "print(\"Sum of elements in the list : \", sum_of_numbers)"
   ]
  },
  {
   "cell_type": "markdown",
   "id": "2001a6cf-d39e-46c2-bb51-19e879aff853",
   "metadata": {},
   "source": [
    "### ***50 WAP to multiply all numbers in the list*** "
   ]
  },
  {
   "cell_type": "code",
   "execution_count": 5,
   "id": "41d29a57-b865-4cf7-81a5-5d7d94e45f56",
   "metadata": {},
   "outputs": [
    {
     "name": "stdout",
     "output_type": "stream",
     "text": [
      "Product of elements in the list :  12000000\n"
     ]
    }
   ],
   "source": [
    "numbers = [10, 20, 30, 40, 50]\n",
    "\n",
    "product_of_numbers = 1\n",
    "\n",
    "for num in numbers:\n",
    "    product_of_numbers *= num\n",
    "\n",
    "\n",
    "print(\"Product of elements in the list : \", product_of_numbers)"
   ]
  },
  {
   "cell_type": "code",
   "execution_count": null,
   "id": "1909418a-06c6-44dc-886b-b5ccd019ed87",
   "metadata": {},
   "outputs": [],
   "source": []
  }
 ],
 "metadata": {
  "kernelspec": {
   "display_name": "Python 3 (ipykernel)",
   "language": "python",
   "name": "python3"
  },
  "language_info": {
   "codemirror_mode": {
    "name": "ipython",
    "version": 3
   },
   "file_extension": ".py",
   "mimetype": "text/x-python",
   "name": "python",
   "nbconvert_exporter": "python",
   "pygments_lexer": "ipython3",
   "version": "3.11.7"
  }
 },
 "nbformat": 4,
 "nbformat_minor": 5
}
