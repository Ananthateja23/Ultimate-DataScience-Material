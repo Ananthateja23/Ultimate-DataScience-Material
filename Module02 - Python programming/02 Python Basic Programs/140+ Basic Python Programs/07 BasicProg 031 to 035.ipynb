{
 "cells": [
  {
   "cell_type": "markdown",
   "id": "dbc5c37c-6a2e-4242-8dee-214006c2e444",
   "metadata": {},
   "source": [
    "### ***31 WAP for cube sum of first natural numbers***"
   ]
  },
  {
   "cell_type": "code",
   "execution_count": 2,
   "id": "cef6e561-3003-4514-91b6-3af5c7ccfa51",
   "metadata": {},
   "outputs": [
    {
     "name": "stdin",
     "output_type": "stream",
     "text": [
      "Enter a number :  7\n"
     ]
    },
    {
     "name": "stdout",
     "output_type": "stream",
     "text": [
      "The cube sum of first 7 natural numbers is 784\n"
     ]
    }
   ],
   "source": [
    "def cube_sum_of_natural_numbers(n):\n",
    "    if (n <= 0):\n",
    "        return 0\n",
    "    else:\n",
    "        total = sum([i**3 for i in range(1, n+1)])\n",
    "        return total\n",
    "\n",
    "num = int(input(\"Enter a number : \"))\n",
    "\n",
    "if num <= 0:\n",
    "    print(\"Please enter a positive integer\")\n",
    "else:\n",
    "    result = cube_sum_of_natural_numbers(num)\n",
    "    print(\"The cube sum of first {} natural numbers is {}\".format(num, result))"
   ]
  },
  {
   "cell_type": "markdown",
   "id": "10c468eb-9d0f-4b81-8394-be5262fae5dd",
   "metadata": {},
   "source": [
    "### ***32 WAP to find sum of array***"
   ]
  },
  {
   "cell_type": "code",
   "execution_count": 3,
   "id": "507ce73d-2867-42fb-be00-3842bfe5aad9",
   "metadata": {},
   "outputs": [
    {
     "name": "stdout",
     "output_type": "stream",
     "text": [
      "sum of the array is 6\n"
     ]
    }
   ],
   "source": [
    "arr = [1, 2, 3]\n",
    "\n",
    "ans = sum(arr)\n",
    "\n",
    "print(f\"sum of the array is {ans}\")"
   ]
  },
  {
   "cell_type": "code",
   "execution_count": 4,
   "id": "615d50d0-85b5-46d6-82ca-1cf026f17be8",
   "metadata": {},
   "outputs": [
    {
     "name": "stdout",
     "output_type": "stream",
     "text": [
      "sum of the array 6\n"
     ]
    }
   ],
   "source": [
    "def sum_of_array(arr):\n",
    "    total = 0\n",
    "\n",
    "    for element in arr:\n",
    "        total += element\n",
    "    return total\n",
    "\n",
    "array = [1, 2, 3]\n",
    "print(\"sum of the array\", sum_of_array(array))"
   ]
  },
  {
   "cell_type": "markdown",
   "id": "6192d0f7-32e1-4dd8-92fc-4d007b228dd1",
   "metadata": {},
   "source": [
    "### ***33 WAP to find largest element in an array***"
   ]
  },
  {
   "cell_type": "code",
   "execution_count": 5,
   "id": "c784ecb4-e5b8-4f5d-89e0-e4dbcbd11393",
   "metadata": {},
   "outputs": [
    {
     "name": "stdout",
     "output_type": "stream",
     "text": [
      "The largest element in the array is 99\n"
     ]
    }
   ],
   "source": [
    "def find_largest_element(arr):\n",
    "    if not arr:\n",
    "        return \"Array is empty\"\n",
    "\n",
    "    largest_element = arr[0]\n",
    "\n",
    "    for element in arr:\n",
    "        if element > largest_element:\n",
    "            largest_element = element\n",
    "\n",
    "    return largest_element\n",
    "\n",
    "\n",
    "my_array = [10, 20, 30, 99]\n",
    "result = find_largest_element(my_array)\n",
    "print(f\"The largest element in the array is {result}\")"
   ]
  },
  {
   "cell_type": "markdown",
   "id": "29f6e7bd-ede0-49ae-9cbe-12f6a40e45a8",
   "metadata": {},
   "source": [
    "### ***34 WAP for array rotation***"
   ]
  },
  {
   "cell_type": "code",
   "execution_count": 7,
   "id": "fc5af723-fc52-4f67-aef3-3760f234c6f4",
   "metadata": {},
   "outputs": [
    {
     "name": "stdout",
     "output_type": "stream",
     "text": [
      "original array [1, 2, 3, 4, 5]\n",
      "Rotated array [3, 4, 5, 1, 2]\n"
     ]
    }
   ],
   "source": [
    "def rotate_array(arr, d):\n",
    "    n = len(arr)\n",
    "\n",
    "    if d < 0 or d >= n:\n",
    "        return \"Invalid rotation value\"\n",
    "\n",
    "    rotated_arr = [0]*n\n",
    "\n",
    "    for i in range(n):\n",
    "        rotated_arr[i] = arr[(i + d) % n]\n",
    "        \n",
    "    return rotated_arr\n",
    "\n",
    "arr = [1, 2, 3, 4, 5]\n",
    "\n",
    "# number of positions to rotate\n",
    "d = 2\n",
    "\n",
    "# rotate_array function call\n",
    "result = rotate_array(arr, d)\n",
    "\n",
    "print(\"original array\", arr)\n",
    "print(\"Rotated array\", result)"
   ]
  },
  {
   "cell_type": "markdown",
   "id": "0e9aac7d-84a8-4e30-b68a-61389cb4e7bc",
   "metadata": {},
   "source": [
    "### ***35 WAP to split the array and add the first part to the end***"
   ]
  },
  {
   "cell_type": "code",
   "execution_count": 8,
   "id": "151d30b2-e267-4d96-b151-371e8691f5c5",
   "metadata": {},
   "outputs": [
    {
     "name": "stdout",
     "output_type": "stream",
     "text": [
      "Original array:  [1, 2, 3, 4, 5]\n",
      "Array after splitting and adding: [4, 5, 1, 2, 3]\n"
     ]
    }
   ],
   "source": [
    "def split_and_add(arr, k):\n",
    "    if k <= 0 or k >= len(arr):\n",
    "        return arr\n",
    "\n",
    "    first_part = arr[:k]\n",
    "    second_part= arr[k:]\n",
    "\n",
    "    result = second_part + first_part\n",
    "\n",
    "    return result\n",
    "\n",
    "arr = [1, 2, 3, 4, 5]\n",
    "k = 3\n",
    "result = split_and_add(arr, k)\n",
    "print(\"Original array: \", arr)\n",
    "print(\"Array after splitting and adding:\", result)"
   ]
  },
  {
   "cell_type": "code",
   "execution_count": null,
   "id": "bb6885e1-be4d-43e3-bd8a-600bff5893dc",
   "metadata": {},
   "outputs": [],
   "source": []
  }
 ],
 "metadata": {
  "kernelspec": {
   "display_name": "Python 3 (ipykernel)",
   "language": "python",
   "name": "python3"
  },
  "language_info": {
   "codemirror_mode": {
    "name": "ipython",
    "version": 3
   },
   "file_extension": ".py",
   "mimetype": "text/x-python",
   "name": "python",
   "nbconvert_exporter": "python",
   "pygments_lexer": "ipython3",
   "version": "3.11.7"
  }
 },
 "nbformat": 4,
 "nbformat_minor": 5
}
