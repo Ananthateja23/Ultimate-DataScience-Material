{
 "cells": [
  {
   "cell_type": "markdown",
   "id": "ad7e8dec-c81d-46bb-b153-642615bbe005",
   "metadata": {},
   "source": [
    "### ***66 WAP to check if a string contain any special character***"
   ]
  },
  {
   "cell_type": "code",
   "execution_count": 1,
   "id": "7c59e72f-decf-43ae-8088-41a45c49539a",
   "metadata": {},
   "outputs": [
    {
     "name": "stdout",
     "output_type": "stream",
     "text": [
      "Enter a string :  \"Hello, World!\"\n"
     ]
    },
    {
     "name": "stdout",
     "output_type": "stream",
     "text": [
      "The string contains special characters\n"
     ]
    }
   ],
   "source": [
    "import re\n",
    "\n",
    "def check_special_char(input_str):\n",
    "    pattern = r'[!@#$%^&*()_+{}\\[\\]:;<>,.?~\\\\\\/\\'\"\\-=]'\n",
    "    if re.search(pattern, input_str):\n",
    "        return True\n",
    "    else:\n",
    "        return False\n",
    "\n",
    "input_string = input(\"Enter a string : \")\n",
    "\n",
    "contains_special = check_special_char(input_string)\n",
    "\n",
    "\n",
    "if contains_special:\n",
    "    print(\"The string contains special characters\")\n",
    "else:\n",
    "    print(\"The string does not contain special characters\")"
   ]
  },
  {
   "cell_type": "markdown",
   "id": "f1775820-d1be-4497-b774-ee2cb4abdb35",
   "metadata": {},
   "source": [
    "### ***67 WAP to extract unique dictionary values***"
   ]
  },
  {
   "cell_type": "code",
   "execution_count": 2,
   "id": "c28e3b33-271a-46a5-be0e-157019ea4487",
   "metadata": {},
   "outputs": [
    {
     "name": "stdout",
     "output_type": "stream",
     "text": [
      "Unique values in the dictionary:  [10, 20, 30]\n"
     ]
    }
   ],
   "source": [
    "my_dict = {\n",
    "    'a': 10,\n",
    "    'b': 20,\n",
    "    'c': 10,\n",
    "    'd': 30,\n",
    "    'e': 20\n",
    "}\n",
    "\n",
    "uni_val = set()\n",
    "\n",
    "\n",
    "for i in my_dict.values():\n",
    "    uni_val.add(i)\n",
    "\n",
    "\n",
    "unique_values_list = list(uni_val)\n",
    "\n",
    "print(\"Unique values in the dictionary: \", unique_values_list)"
   ]
  },
  {
   "cell_type": "markdown",
   "id": "bb09433d-fd08-43e4-86a9-0c34b6729ef4",
   "metadata": {},
   "source": [
    "### ***68 WAP to find the sum of all items in a dictionary***"
   ]
  },
  {
   "cell_type": "code",
   "execution_count": 3,
   "id": "4a6833d4-1164-45c7-9def-c76ff4187c65",
   "metadata": {},
   "outputs": [
    {
     "name": "stdout",
     "output_type": "stream",
     "text": [
      "Sum of all items in the dictionary 150\n"
     ]
    }
   ],
   "source": [
    "my_dict = {\n",
    "    'a': 10,\n",
    "    'b': 20,\n",
    "    'c': 30,\n",
    "    'd': 40,\n",
    "    'e': 50\n",
    "}\n",
    "\n",
    "total_sum = 0\n",
    "\n",
    "for i in my_dict.values():\n",
    "    total_sum += i\n",
    "\n",
    "\n",
    "print(\"Sum of all items in the dictionary\", total_sum)"
   ]
  },
  {
   "cell_type": "markdown",
   "id": "8c5b9e4a-fcc8-469c-b3ee-a30ab437b076",
   "metadata": {},
   "source": [
    "### ***69 WAP to merging two dictionaries***"
   ]
  },
  {
   "cell_type": "code",
   "execution_count": 4,
   "id": "9e4665ba-7bb7-4b31-8534-e9974ddc517c",
   "metadata": {},
   "outputs": [
    {
     "name": "stdout",
     "output_type": "stream",
     "text": [
      "Merged Dictionary (using update()) :  {'a': 1, 'b': 2, 'c': 3, 'd': 4}\n"
     ]
    }
   ],
   "source": [
    "dict1 = {'a': 1, 'b': 2}\n",
    "dict2 = {'c': 3, 'd': 4}\n",
    "\n",
    "\n",
    "dict1.update(dict2)\n",
    "\n",
    "print(\"Merged Dictionary (using update()) : \", dict1)"
   ]
  },
  {
   "cell_type": "code",
   "execution_count": 5,
   "id": "6ba81033-52dd-4899-aa16-b80f0fa23f0b",
   "metadata": {},
   "outputs": [
    {
     "name": "stdout",
     "output_type": "stream",
     "text": [
      "Merged Dictionary (using dictionary unpacking) :  {'a': 1, 'b': 2, 'c': 3, 'd': 4}\n"
     ]
    }
   ],
   "source": [
    "dict1 = {'a': 1, 'b': 2}\n",
    "dict2 = {'c': 3, 'd': 4}\n",
    "\n",
    "\n",
    "merged_dict = {**dict1, **dict2}\n",
    "\n",
    "print(\"Merged Dictionary (using dictionary unpacking) : \", merged_dict)"
   ]
  },
  {
   "cell_type": "markdown",
   "id": "e1bef990-2542-4a8f-ac23-7bcb3e14ab23",
   "metadata": {},
   "source": [
    "### ***70 WAP to convert key-values list to flat dictionary***"
   ]
  },
  {
   "cell_type": "code",
   "execution_count": 6,
   "id": "66d689c7-91c4-4eea-81df-3e36b5f4ca3a",
   "metadata": {},
   "outputs": [
    {
     "name": "stdout",
     "output_type": "stream",
     "text": [
      "Flat Dictionary :  {'a': 1, 'b': 2, 'c': 3, 'd': 4}\n"
     ]
    }
   ],
   "source": [
    "key_values_list = [('a', 1), ('b', 2), ('c', 3), ('d', 4)]\n",
    "\n",
    "flat_dict = {}\n",
    "\n",
    "for key, value in key_values_list:\n",
    "    flat_dict[key] = value\n",
    "\n",
    "print(\"Flat Dictionary : \", flat_dict)"
   ]
  },
  {
   "cell_type": "code",
   "execution_count": null,
   "id": "99811260-fc96-4fc8-b53a-60b71ef71e15",
   "metadata": {},
   "outputs": [],
   "source": []
  }
 ],
 "metadata": {
  "kernelspec": {
   "display_name": "Python 3 (ipykernel)",
   "language": "python",
   "name": "python3"
  },
  "language_info": {
   "codemirror_mode": {
    "name": "ipython",
    "version": 3
   },
   "file_extension": ".py",
   "mimetype": "text/x-python",
   "name": "python",
   "nbconvert_exporter": "python",
   "pygments_lexer": "ipython3",
   "version": "3.11.7"
  }
 },
 "nbformat": 4,
 "nbformat_minor": 5
}
