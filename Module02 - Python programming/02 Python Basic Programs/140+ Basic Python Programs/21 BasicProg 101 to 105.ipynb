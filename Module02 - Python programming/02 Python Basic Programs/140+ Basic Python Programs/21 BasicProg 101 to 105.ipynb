{
 "cells": [
  {
   "cell_type": "markdown",
   "id": "18b86237-dd08-4891-9b5c-fe6526567bb7",
   "metadata": {},
   "source": [
    "### ***101 Hamming distance is the number of characters that differ between two strings***\n",
    "```\n",
    "To illustrate:\n",
    "\n",
    "==> String1 : \"abcbba\"\n",
    "\n",
    "==> String2 : \"abcbda\"\n",
    "\n",
    "Hamming Distance : 1 - \"b\" vs \"d\" is the only difference\n",
    "\n",
    "Create a function that computes the hamming distance between two strings\n",
    "\n",
    "Examples:\n",
    "---------\n",
    "\n",
    "==> hamming_distance(\"abcde\", \"bcdef\") = 5\n",
    "\n",
    "==> hamming_distance(\"abcde\", \"abcde\") = 0\n",
    "\n",
    "==> hamming_distance(\"strong\", \"strung\") = 1\n",
    "```"
   ]
  },
  {
   "cell_type": "code",
   "execution_count": 1,
   "id": "f429cc6c-ec27-42d7-94e5-bd43335f1f5a",
   "metadata": {},
   "outputs": [],
   "source": [
    "def hamming_distance(str1, str2):\n",
    "    if len(str1) != len(str2):\n",
    "        raise ValueError(\"Input strings must have the same length\")\n",
    "\n",
    "    distance = 0\n",
    "    for i in range(len(str1)):\n",
    "        if str1[i] != str2[i]:\n",
    "            distance += 1\n",
    "    return distance"
   ]
  },
  {
   "cell_type": "code",
   "execution_count": 2,
   "id": "df395c3d-c39f-4777-9177-25bfa57be450",
   "metadata": {},
   "outputs": [
    {
     "name": "stdout",
     "output_type": "stream",
     "text": [
      "5\n",
      "0\n",
      "1\n"
     ]
    }
   ],
   "source": [
    "print(hamming_distance(\"abcde\", \"bcdef\"))\n",
    "print(hamming_distance(\"abcde\", \"abcde\"))\n",
    "print(hamming_distance(\"strong\", \"strung\"))"
   ]
  },
  {
   "cell_type": "markdown",
   "id": "bb0e1396-e1dd-4e67-bd84-478a78b19e4b",
   "metadata": {},
   "source": [
    "### ***102 Create a function that takes a list of non-negative integers and strings and return as new list without the strings***\n",
    "```\n",
    "Examples:\n",
    "---------\n",
    "\n",
    "==> filter_list([1, 2, \"a\", \"b\"])                = [1, 2]\n",
    "\n",
    "==> filter_list([1, \"a\", \"b\", 0, 15])            = [1, 0, 15]\n",
    "\n",
    "==> filter_list([1, 2, \"aasf\", \"1\", \"123\", 123]) = [1, 2, 123]\n",
    "```"
   ]
  },
  {
   "cell_type": "code",
   "execution_count": 3,
   "id": "a63e3193-cb28-452b-be97-63ea7b292061",
   "metadata": {},
   "outputs": [],
   "source": [
    "def filter_list(lst):\n",
    "    result = []\n",
    "    for element in lst:\n",
    "        if isinstance(element, int) and element >= 0:\n",
    "            result.append(element)\n",
    "    return result"
   ]
  },
  {
   "cell_type": "code",
   "execution_count": 4,
   "id": "5569691e-9f6e-46c7-980c-0f98211f976d",
   "metadata": {},
   "outputs": [
    {
     "name": "stdout",
     "output_type": "stream",
     "text": [
      "[1, 2]\n",
      "[1, 0, 15]\n",
      "[1, 2, 123]\n"
     ]
    }
   ],
   "source": [
    "print(filter_list([1, 2, \"a\", \"b\"]))\n",
    "print(filter_list([1, \"a\", \"b\", 0, 15]))\n",
    "print(filter_list([1, 2, \"aasf\", \"1\", \"123\", 123]))"
   ]
  },
  {
   "cell_type": "markdown",
   "id": "404aca51-246e-4839-8a4e-086877ca5b5a",
   "metadata": {},
   "source": [
    "### ***103 The \"Reverser\" takes a string as input and returns that string in reverse order, with the opposite case***\n",
    "```\n",
    "Examples:\n",
    "---------\n",
    "\n",
    "==> reverse(\"Hello World\")  == \"DLROw OLLEh\"\n",
    "\n",
    "==> reverse(\"ReVeRsE\")      == \"eSrEvEr\"\n",
    " \n",
    "==> reverse(\"Radar\")        == \"RADAr\"\n",
    "```"
   ]
  },
  {
   "cell_type": "code",
   "execution_count": 5,
   "id": "3f8c6bb8-03d9-414e-ba77-d042c9c9b3aa",
   "metadata": {},
   "outputs": [],
   "source": [
    "def reverse(string):\n",
    "    reversed_str = string[::-1].swapcase()\n",
    "    return reversed_str"
   ]
  },
  {
   "cell_type": "code",
   "execution_count": 6,
   "id": "26e3c170-8805-4b64-9937-771f02ece9cd",
   "metadata": {},
   "outputs": [
    {
     "name": "stdout",
     "output_type": "stream",
     "text": [
      "DLROw OLLEh\n",
      "eSrEvEr\n",
      "RADAr\n"
     ]
    }
   ],
   "source": [
    "print(reverse(\"Hello World\"))\n",
    "print(reverse(\"ReVeRsE\"))\n",
    "print(reverse(\"Radar\"))"
   ]
  },
  {
   "cell_type": "markdown",
   "id": "e5b086e5-c91c-4877-af95-e18dfb44b9b3",
   "metadata": {},
   "source": [
    "### ***104 You can assign variables like this:***\n",
    "```python\n",
    "lst = [1, 2, 3, 4, 5, 6]\n",
    "\n",
    "first = lst[0]\n",
    "\n",
    "middle = lst[1:-1]\n",
    "\n",
    "last = lst[-1]\n",
    "\n",
    "print(first)  ==> outputs 1\n",
    "\n",
    "print(middle) ==> outputs [2, 3, 4, 5]\n",
    "\n",
    "print(last)   ==> outputs 6\n",
    "```\n",
    "```\n",
    "With Python3, you can assign variables from lists in a much more succinct way. \n",
    "Create variables first, middle, and last from the given list using destructing assignment where:\n",
    "\n",
    "first  ==> 1\n",
    "\n",
    "middle ==> [2, 3, 4, 5]\n",
    "\n",
    "last   ==> 6\n",
    "\n",
    "Your task is to unpack the list writeyourcodehere into three variables and each should have the above result\n",
    "```"
   ]
  },
  {
   "cell_type": "code",
   "execution_count": 7,
   "id": "c048bb20-6e06-489b-b6cb-76b98f72c2ec",
   "metadata": {},
   "outputs": [
    {
     "name": "stdout",
     "output_type": "stream",
     "text": [
      "1\n",
      "[2, 3, 4, 5]\n",
      "6\n"
     ]
    }
   ],
   "source": [
    "write_your_code_here = [1, 2, 3, 4, 5, 6]\n",
    "\n",
    "first, *middle, last = write_your_code_here\n",
    "\n",
    "print(first)\n",
    "print(middle)\n",
    "print(last)"
   ]
  },
  {
   "cell_type": "markdown",
   "id": "8201b523-fada-4632-b6df-a3af62fdb65b",
   "metadata": {},
   "source": [
    "### ***105 Write a function that calculates the factorial of a number recursively***\n",
    "```\n",
    "Examples:\n",
    "---------\n",
    "\n",
    "factorial(5)  ==> 120\n",
    "\n",
    "factorial(3)  ==> 6\n",
    "\n",
    "factorial(1)  ==> 1\n",
    "\n",
    "factorial(0)  ==> 1\n",
    "```"
   ]
  },
  {
   "cell_type": "code",
   "execution_count": 8,
   "id": "a5584735-b0cd-4735-8612-169ca17f62d2",
   "metadata": {},
   "outputs": [],
   "source": [
    "def factorial(n):\n",
    "    if n == 0:\n",
    "        return 1\n",
    "    else:\n",
    "        return n * factorial(n - 1)"
   ]
  },
  {
   "cell_type": "code",
   "execution_count": 9,
   "id": "a9a4037f-6163-4676-a28c-41061ca4455c",
   "metadata": {},
   "outputs": [
    {
     "name": "stdout",
     "output_type": "stream",
     "text": [
      "120\n",
      "6\n",
      "1\n",
      "1\n"
     ]
    }
   ],
   "source": [
    "print(factorial(5))\n",
    "print(factorial(3))\n",
    "print(factorial(1))\n",
    "print(factorial(0))"
   ]
  },
  {
   "cell_type": "code",
   "execution_count": null,
   "id": "76287adf-d253-4373-a70f-431455de76a4",
   "metadata": {},
   "outputs": [],
   "source": []
  }
 ],
 "metadata": {
  "kernelspec": {
   "display_name": "Python 3 (ipykernel)",
   "language": "python",
   "name": "python3"
  },
  "language_info": {
   "codemirror_mode": {
    "name": "ipython",
    "version": 3
   },
   "file_extension": ".py",
   "mimetype": "text/x-python",
   "name": "python",
   "nbconvert_exporter": "python",
   "pygments_lexer": "ipython3",
   "version": "3.11.7"
  }
 },
 "nbformat": 4,
 "nbformat_minor": 5
}
