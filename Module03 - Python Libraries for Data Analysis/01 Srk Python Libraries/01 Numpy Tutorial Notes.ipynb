{
 "cells": [
  {
   "cell_type": "markdown",
   "id": "e203b3e5-51eb-41a6-aa91-2152135058c1",
   "metadata": {},
   "source": [
    "# Numpy\n",
    "    (1) Numpy is numerical python library. It is used to work with arrays\n",
    "    (2) we can perform mathematical operations on array and get results in fraction of sec\n",
    "    (3) we can import a numpy module by using \"import numpy\" keyword\n",
    "    (4) syntax: import numpy as np"
   ]
  },
  {
   "cell_type": "code",
   "execution_count": 1,
   "id": "b85446f2-8eed-4930-a18a-1904b1d749c9",
   "metadata": {},
   "outputs": [],
   "source": [
    "import numpy as np"
   ]
  },
  {
   "cell_type": "markdown",
   "id": "874c4a6e-f239-4b4e-8795-0420bf54d280",
   "metadata": {},
   "source": [
    "# Converting list into array:"
   ]
  },
  {
   "cell_type": "code",
   "execution_count": 1,
   "id": "67cf2534-92ab-4ccf-aee1-ba0b47a4183c",
   "metadata": {},
   "outputs": [
    {
     "data": {
      "text/plain": [
       "array([1, 2, 3, 4, 5])"
      ]
     },
     "execution_count": 1,
     "metadata": {},
     "output_type": "execute_result"
    }
   ],
   "source": [
    "import numpy as np\n",
    "a = [1, 2, 3, 4, 5]\n",
    "b = np.array(a)\n",
    "b"
   ]
  },
  {
   "cell_type": "code",
   "execution_count": 2,
   "id": "a22d57f6-e40f-4900-a58e-dfd1480df9ea",
   "metadata": {},
   "outputs": [
    {
     "name": "stdout",
     "output_type": "stream",
     "text": [
      "[1 2 3 4 5]\n",
      "[11 12 13 14 15]\n",
      "[0.         0.69314718 1.09861229 1.38629436 1.60943791]\n",
      "[0.         0.69314718 1.09861229 1.38629436 1.60943791]\n"
     ]
    }
   ],
   "source": [
    "print(b)\n",
    "print(b+10)\n",
    "print(np.log(b))\n",
    "print(np.log(a))"
   ]
  },
  {
   "cell_type": "markdown",
   "id": "39be35e2-9832-4ce2-828c-d196d9ccd441",
   "metadata": {},
   "source": [
    "# converting array to list:"
   ]
  },
  {
   "cell_type": "code",
   "execution_count": 3,
   "id": "45d032fb-2b61-42fe-b87c-6cded449beca",
   "metadata": {},
   "outputs": [
    {
     "data": {
      "text/plain": [
       "[1, 2, 3, 4, 5]"
      ]
     },
     "execution_count": 3,
     "metadata": {},
     "output_type": "execute_result"
    }
   ],
   "source": [
    "b.tolist()"
   ]
  },
  {
   "cell_type": "code",
   "execution_count": 4,
   "id": "6fe3d8a3-5490-43e6-bf3c-f485c568dd26",
   "metadata": {},
   "outputs": [
    {
     "name": "stdout",
     "output_type": "stream",
     "text": [
      "[1, 2, 3, 4, 5]\n"
     ]
    }
   ],
   "source": [
    "print(b.tolist())"
   ]
  },
  {
   "cell_type": "markdown",
   "id": "82d74eda-0c10-4b28-9ef8-c781c3415490",
   "metadata": {},
   "source": [
    "# Addition of two arrays:"
   ]
  },
  {
   "cell_type": "code",
   "execution_count": 5,
   "id": "c19fcb85-8988-4bea-9638-51fb8e09006b",
   "metadata": {},
   "outputs": [
    {
     "name": "stdout",
     "output_type": "stream",
     "text": [
      "[ 6  8 10 12]\n"
     ]
    }
   ],
   "source": [
    "a = np.array([1, 2, 3, 4])\n",
    "b = np.array([5, 6, 7, 8])\n",
    "print(a+b)"
   ]
  },
  {
   "cell_type": "markdown",
   "id": "df24dcc7-726e-4270-8e55-6474c9a7904c",
   "metadata": {},
   "source": [
    "# Types of numpy arrays:\n",
    "    Numpy arrays are classified into 3 types:\n",
    "        (1) 0-Dimensional array\n",
    "        (2) 1-Dimensional array\n",
    "        (3) 2-Dimensional array"
   ]
  },
  {
   "cell_type": "markdown",
   "id": "5c145800-0788-4b26-b68a-9aae2cd9aa9e",
   "metadata": {},
   "source": [
    "# 0-Dimensional array:\n",
    "    All the fundamental data type holds single value, if we convert them to numpy then they become 0-Dimensional array"
   ]
  },
  {
   "cell_type": "code",
   "execution_count": 6,
   "id": "9607cb26-123c-438c-bea1-9d0854d93773",
   "metadata": {},
   "outputs": [
    {
     "name": "stdout",
     "output_type": "stream",
     "text": [
      "10\n",
      "<class 'int'>\n"
     ]
    }
   ],
   "source": [
    "a = 10\n",
    "print(a)\n",
    "print(type(a))"
   ]
  },
  {
   "cell_type": "code",
   "execution_count": 7,
   "id": "635ac46f-bbec-4e41-b5d8-47dd77f0776a",
   "metadata": {},
   "outputs": [
    {
     "name": "stdout",
     "output_type": "stream",
     "text": [
      "10\n",
      "<class 'numpy.ndarray'>\n"
     ]
    }
   ],
   "source": [
    "a = 10\n",
    "b = np.array(a)\n",
    "print(b)\n",
    "print(type(b))"
   ]
  },
  {
   "cell_type": "code",
   "execution_count": 8,
   "id": "a2c08e18-33ba-44e3-913d-6563e26dd47d",
   "metadata": {},
   "outputs": [
    {
     "name": "stdout",
     "output_type": "stream",
     "text": [
      "dim :0\n",
      "shape:()\n"
     ]
    }
   ],
   "source": [
    "print(f\"dim :{b.ndim}\")\n",
    "print(f\"shape:{b.shape}\")"
   ]
  },
  {
   "cell_type": "markdown",
   "id": "ac5d69ca-2a97-4986-90b8-30a60a8cc574",
   "metadata": {},
   "source": [
    "# 1-Dimensional array:\n",
    "    All the collection data type holds multiple values, if we convert them to numpy then they become 1-Dimensional array"
   ]
  },
  {
   "cell_type": "code",
   "execution_count": 9,
   "id": "25b52e19-f6f9-4662-abd2-73e90e3738e0",
   "metadata": {},
   "outputs": [
    {
     "name": "stdout",
     "output_type": "stream",
     "text": [
      "[1 2 3 4]\n",
      "<class 'numpy.ndarray'>\n"
     ]
    }
   ],
   "source": [
    "a = [1, 2, 3, 4]\n",
    "b = np.array(a)\n",
    "print(b)\n",
    "print(type(b))"
   ]
  },
  {
   "cell_type": "code",
   "execution_count": 10,
   "id": "23c76f03-0e9f-466c-840f-0d1a37cd77e4",
   "metadata": {},
   "outputs": [
    {
     "name": "stdout",
     "output_type": "stream",
     "text": [
      "dim :1\n",
      "shape:(4,)\n"
     ]
    }
   ],
   "source": [
    "print(f\"dim :{b.ndim}\")\n",
    "print(f\"shape:{b.shape}\")"
   ]
  },
  {
   "cell_type": "markdown",
   "id": "33fdb954-6e46-4169-a33e-25050321b4d8",
   "metadata": {},
   "source": [
    "# 2-Dimensional array:\n",
    "    All the collection data types with nested CDT of same length, then if we convert them to numpy then they become 2-Dimensional array"
   ]
  },
  {
   "cell_type": "code",
   "execution_count": 11,
   "id": "8928853c-f2b7-42c6-b170-4046354cc873",
   "metadata": {},
   "outputs": [
    {
     "name": "stdout",
     "output_type": "stream",
     "text": [
      "[[1 2]\n",
      " [3 4]\n",
      " [5 6]]\n",
      "<class 'numpy.ndarray'>\n"
     ]
    }
   ],
   "source": [
    "a = [[1, 2], [3, 4], [5, 6]]\n",
    "b = np.array(a)\n",
    "print(b)\n",
    "print(type(b))"
   ]
  },
  {
   "cell_type": "code",
   "execution_count": 12,
   "id": "b9627262-e57b-495d-9cc1-dddae63c2254",
   "metadata": {},
   "outputs": [
    {
     "name": "stdout",
     "output_type": "stream",
     "text": [
      "dim :2\n",
      "shape:(3, 2)\n"
     ]
    }
   ],
   "source": [
    "print(f\"dim :{b.ndim}\")\n",
    "print(f\"shape:{b.shape}\")"
   ]
  },
  {
   "cell_type": "markdown",
   "id": "4f65ab4e-6c6f-48b3-80ab-12b2da4d6d40",
   "metadata": {},
   "source": [
    "# 1-Dimensional array:\n",
    "    we can create 1-Dimensional array by mulitple ways:\n",
    "    (1) arrange(start,end,step)                 : It is array-valued version of built-in python range function\n",
    "    (2) linspace(start,end, numberofsample)     : It returns evenly spaced numbers over a interval\n",
    "    (3) zeros(shape of array,dtype=float)       : It returns array of zeros of different dimension based on given shape\n",
    "    (4) ones(shape of array,dtype=float)        : It returns array of ones of different dimension based on given shape\n",
    "    (5) random.randint(start,end,numberofsample): It returns array of random numbers with the given number of samples"
   ]
  },
  {
   "cell_type": "code",
   "execution_count": 14,
   "id": "4f39df8a-2e42-4f38-8c38-f5edd8886ac4",
   "metadata": {},
   "outputs": [
    {
     "data": {
      "text/plain": [
       "array([1, 2, 3, 4, 5, 6, 7, 8, 9])"
      ]
     },
     "execution_count": 14,
     "metadata": {},
     "output_type": "execute_result"
    }
   ],
   "source": [
    "arr_1 = np.arange(1,10,1)\n",
    "arr_1"
   ]
  },
  {
   "cell_type": "code",
   "execution_count": 16,
   "id": "bff4e604-ffc7-4d8b-8b28-1b349b976a8c",
   "metadata": {},
   "outputs": [
    {
     "data": {
      "text/plain": [
       "array([ 1.  ,  3.25,  5.5 ,  7.75, 10.  ])"
      ]
     },
     "execution_count": 16,
     "metadata": {},
     "output_type": "execute_result"
    }
   ],
   "source": [
    "arr_1 = np.linspace(1,10,5)\n",
    "arr_1"
   ]
  },
  {
   "cell_type": "markdown",
   "id": "a304c8f1-8738-4c30-be77-622c04f14057",
   "metadata": {},
   "source": [
    "# point to remember:\n",
    "    sample = (end - start)/(no of samples - 1)"
   ]
  },
  {
   "cell_type": "code",
   "execution_count": 17,
   "id": "5e0053b1-46b3-4661-9419-a567eff05c77",
   "metadata": {},
   "outputs": [
    {
     "data": {
      "text/plain": [
       "array([0, 0, 0, 0, 0])"
      ]
     },
     "execution_count": 17,
     "metadata": {},
     "output_type": "execute_result"
    }
   ],
   "source": [
    "arr_1 = np.zeros((5,), dtype = int)\n",
    "arr_1"
   ]
  },
  {
   "cell_type": "code",
   "execution_count": 18,
   "id": "e9450b69-c0b5-4fb1-b56f-8df70fa29843",
   "metadata": {},
   "outputs": [
    {
     "data": {
      "text/plain": [
       "array([1, 1, 1, 1, 1])"
      ]
     },
     "execution_count": 18,
     "metadata": {},
     "output_type": "execute_result"
    }
   ],
   "source": [
    "arr_1 = np.ones((5,), dtype = 'int')\n",
    "arr_1"
   ]
  },
  {
   "cell_type": "code",
   "execution_count": 19,
   "id": "7b980c21-5943-4a3b-8626-3c4b522710f3",
   "metadata": {},
   "outputs": [
    {
     "data": {
      "text/plain": [
       "array([9, 2, 7, 8, 5])"
      ]
     },
     "execution_count": 19,
     "metadata": {},
     "output_type": "execute_result"
    }
   ],
   "source": [
    "arr_1 = np.random.randint(1,10,5)\n",
    "arr_1"
   ]
  },
  {
   "cell_type": "markdown",
   "id": "2d0b7a4e-b85b-4b93-bd77-b43b2ed4e2a8",
   "metadata": {},
   "source": [
    "# Accessing the elements of array:\n",
    "    We can access the elements of the array by four ways:\n",
    "    (1) Accessing the single element by indexing  \n",
    "    (2) Accessing the multiple element by slicing    \r",
    "    (3) Accessing the multiple element by indexing    \r",
    "    (4) Accessing the multiple elements by condition(fancy indexing or mask indexing)"
   ]
  },
  {
   "cell_type": "code",
   "execution_count": 20,
   "id": "7714a388-e280-4f4d-aee1-2674791a8634",
   "metadata": {},
   "outputs": [
    {
     "name": "stdout",
     "output_type": "stream",
     "text": [
      "[100 120 130 190 200  14  18  26]\n",
      "120\n",
      "26\n"
     ]
    }
   ],
   "source": [
    "a = np.array([100, 120, 130, 190, 200, 14, 18, 26])\n",
    "print(a)\n",
    "print(a[1])\n",
    "print(a[-1])"
   ]
  },
  {
   "cell_type": "code",
   "execution_count": 21,
   "id": "15efe340-58f5-4f45-a2d6-500f268a4a7f",
   "metadata": {},
   "outputs": [
    {
     "name": "stdout",
     "output_type": "stream",
     "text": [
      "[100 130 200]\n"
     ]
    }
   ],
   "source": [
    "print(a[0:5:2])"
   ]
  },
  {
   "cell_type": "code",
   "execution_count": 23,
   "id": "a73cf9d7-eb5b-4dd8-914e-e72d849205d4",
   "metadata": {},
   "outputs": [
    {
     "name": "stdout",
     "output_type": "stream",
     "text": [
      "[120 130 190]\n"
     ]
    }
   ],
   "source": [
    "# array[list of index number]\n",
    "print(a[[1, 2, 3]])"
   ]
  },
  {
   "cell_type": "code",
   "execution_count": 24,
   "id": "0d400e1a-5788-4e55-882f-5c5b90eca0c3",
   "metadata": {},
   "outputs": [
    {
     "name": "stdout",
     "output_type": "stream",
     "text": [
      "[45 46 47]\n"
     ]
    }
   ],
   "source": [
    "# array[condition]\n",
    "a = np.array([45, 46, 47])\n",
    "print(a)"
   ]
  },
  {
   "cell_type": "code",
   "execution_count": 25,
   "id": "a33b53ee-6fcd-4e89-9628-d70b87920a79",
   "metadata": {},
   "outputs": [
    {
     "data": {
      "text/plain": [
       "array([False,  True,  True])"
      ]
     },
     "execution_count": 25,
     "metadata": {},
     "output_type": "execute_result"
    }
   ],
   "source": [
    "a>=46"
   ]
  },
  {
   "cell_type": "code",
   "execution_count": 26,
   "id": "d95448a5-05cd-409f-8e26-69742e8807c2",
   "metadata": {},
   "outputs": [
    {
     "name": "stdout",
     "output_type": "stream",
     "text": [
      "[46 47]\n"
     ]
    }
   ],
   "source": [
    "print(a[a>=46])"
   ]
  },
  {
   "cell_type": "markdown",
   "id": "db63be39-f647-446e-a871-d1406d602ced",
   "metadata": {},
   "source": [
    "# Modifying an array:"
   ]
  },
  {
   "cell_type": "markdown",
   "id": "6b8ff76e-dd84-4e6a-938f-9374da7025d5",
   "metadata": {},
   "source": [
    "# Adding elements into array:\n",
    "    syntax(1): np.append(array, element)\n",
    "    syntax(2): np.append(array, [elements])"
   ]
  },
  {
   "cell_type": "code",
   "execution_count": 27,
   "id": "9d16ab47-f3d6-4a4b-bdec-f1c85eb2e0b9",
   "metadata": {},
   "outputs": [
    {
     "name": "stdout",
     "output_type": "stream",
     "text": [
      "[ 45  46  47 110]\n"
     ]
    }
   ],
   "source": [
    "a = np.array([45, 46,47])\n",
    "b =np.append(a,110)\n",
    "print(b)"
   ]
  },
  {
   "cell_type": "code",
   "execution_count": 28,
   "id": "ff529c74-f522-45fe-a1ce-acd298ebe4d7",
   "metadata": {},
   "outputs": [
    {
     "name": "stdout",
     "output_type": "stream",
     "text": [
      "[ 45  46  47 140 120 130]\n"
     ]
    }
   ],
   "source": [
    "a = np.array([45, 46,47])\n",
    "b =np.append(a,[140,120,130])\n",
    "print(b)"
   ]
  },
  {
   "cell_type": "markdown",
   "id": "9d74d7ee-c7b3-42b5-8ca4-b6925a6e16bf",
   "metadata": {},
   "source": [
    "# Replacing elements of array\n",
    "    syntax(1): array[index] = value\n",
    "    syntax(2): array[[index numbers]] = value\n",
    "    syntax(3): array[[index numbers]] = [values]"
   ]
  },
  {
   "cell_type": "code",
   "execution_count": 29,
   "id": "f04fb759-5642-41a3-8c67-3aba97d1c7ff",
   "metadata": {},
   "outputs": [
    {
     "data": {
      "text/plain": [
       "array([ 45, 100,  47])"
      ]
     },
     "execution_count": 29,
     "metadata": {},
     "output_type": "execute_result"
    }
   ],
   "source": [
    "arr_1    = np.array([45, 46, 47])\n",
    "arr_1[1] = 100\n",
    "arr_1"
   ]
  },
  {
   "cell_type": "code",
   "execution_count": 30,
   "id": "3b35c266-e42d-4aee-b7ff-0c55d0015ed2",
   "metadata": {},
   "outputs": [
    {
     "data": {
      "text/plain": [
       "array([45, 15, 15])"
      ]
     },
     "execution_count": 30,
     "metadata": {},
     "output_type": "execute_result"
    }
   ],
   "source": [
    "arr_1    = np.array([45, 46, 47])\n",
    "arr_1[[1, 2]] = 15\n",
    "arr_1"
   ]
  },
  {
   "cell_type": "code",
   "execution_count": 31,
   "id": "a27577d4-2857-46c6-9c74-04d701e9eb51",
   "metadata": {},
   "outputs": [
    {
     "data": {
      "text/plain": [
       "array([ 45, 150, 200])"
      ]
     },
     "execution_count": 31,
     "metadata": {},
     "output_type": "execute_result"
    }
   ],
   "source": [
    "arr_1    = np.array([45, 46, 47])\n",
    "arr_1[[1, 2]] = [150, 200]\n",
    "arr_1"
   ]
  },
  {
   "cell_type": "markdown",
   "id": "4af1ec38-26d6-4dfc-b5ec-14819bcd5c3f",
   "metadata": {},
   "source": [
    "# Deleting element of array:\n",
    "    syntax(1): np.delete(array, index number)\n",
    "    syntax(2): np.delete(array, [index numbers])"
   ]
  },
  {
   "cell_type": "code",
   "execution_count": 32,
   "id": "8fcc0600-95c8-4994-ac11-cd7649855dd1",
   "metadata": {},
   "outputs": [
    {
     "data": {
      "text/plain": [
       "array([1, 3, 4])"
      ]
     },
     "execution_count": 32,
     "metadata": {},
     "output_type": "execute_result"
    }
   ],
   "source": [
    "arr_1 = np.array([1, 2, 3, 4])\n",
    "arr   = np.delete(arr_1, 1)\n",
    "arr"
   ]
  },
  {
   "cell_type": "code",
   "execution_count": 33,
   "id": "13a4724c-8e51-4c4b-9a7c-5a1477c48333",
   "metadata": {},
   "outputs": [
    {
     "data": {
      "text/plain": [
       "array([1, 4])"
      ]
     },
     "execution_count": 33,
     "metadata": {},
     "output_type": "execute_result"
    }
   ],
   "source": [
    "arr_1 = np.array([1, 2, 3, 4])\n",
    "arr   = np.delete(arr_1, [1, 2])\n",
    "arr"
   ]
  },
  {
   "cell_type": "markdown",
   "id": "79c85ad7-66df-4482-adca-caf0ec17a437",
   "metadata": {},
   "source": [
    "# copying an array:"
   ]
  },
  {
   "cell_type": "code",
   "execution_count": 35,
   "id": "3fc74b7f-882c-42cc-bbe4-578dbf8bd28f",
   "metadata": {},
   "outputs": [
    {
     "name": "stdout",
     "output_type": "stream",
     "text": [
      "[1 2 3]\n",
      "[100   2   3]\n"
     ]
    }
   ],
   "source": [
    "arr    = np.array([1, 2, 3])\n",
    "brr    = arr.copy()\n",
    "brr[0] = 100\n",
    "print(arr)\n",
    "print(brr)"
   ]
  },
  {
   "cell_type": "markdown",
   "id": "8b78c956-04a3-4256-b48f-fbb84c85cd3b",
   "metadata": {},
   "source": [
    "# Sorting an array:"
   ]
  },
  {
   "cell_type": "code",
   "execution_count": 36,
   "id": "81c747d1-7571-42bd-ba4f-9085ea2de5cc",
   "metadata": {},
   "outputs": [
    {
     "name": "stdout",
     "output_type": "stream",
     "text": [
      "[4 6 8 2 1]\n",
      "[1 2 4 6 8]\n"
     ]
    }
   ],
   "source": [
    "arr = np.array([4, 6, 8, 2, 1])\n",
    "brr = np.sort(arr)\n",
    "print(arr)\n",
    "print(brr)"
   ]
  },
  {
   "cell_type": "markdown",
   "id": "67aa863c-1b53-46d0-8cfe-bf17941b61fe",
   "metadata": {},
   "source": [
    "# Operation on array:"
   ]
  },
  {
   "cell_type": "code",
   "execution_count": 37,
   "id": "0573a6f6-997c-4051-9b4c-2c284d419189",
   "metadata": {},
   "outputs": [
    {
     "name": "stdout",
     "output_type": "stream",
     "text": [
      "[2 3 4 5]\n",
      "[1 2 3 4]\n",
      "[ 1  4  9 16]\n",
      "[3 5 7 9]\n",
      "[-1 -1 -1 -1]\n"
     ]
    }
   ],
   "source": [
    "arr = np.array([1, 2, 3, 4])\n",
    "brr = arr+1\n",
    "print(brr)\n",
    "crr = arr+0\n",
    "print(crr)\n",
    "drr = arr**2\n",
    "print(drr)\n",
    "print(arr+brr)\n",
    "print(arr-brr)"
   ]
  },
  {
   "cell_type": "markdown",
   "id": "51f3570e-95c2-4a08-b5ca-011dcd85cf13",
   "metadata": {},
   "source": [
    "# comparision operator:"
   ]
  },
  {
   "cell_type": "code",
   "execution_count": 38,
   "id": "45bceb56-b8dc-447e-b5d1-cd8d45039235",
   "metadata": {},
   "outputs": [
    {
     "name": "stdout",
     "output_type": "stream",
     "text": [
      "[False False False False]\n",
      "[ True  True  True  True]\n",
      "False\n",
      "True\n"
     ]
    }
   ],
   "source": [
    "print(arr == brr)\n",
    "print(brr >= arr)\n",
    "print(np.array_equal(arr,brr))\n",
    "print(np.array_equal(arr,crr))"
   ]
  },
  {
   "cell_type": "markdown",
   "id": "88cd33fe-df11-44b8-8749-df5ff19aa834",
   "metadata": {},
   "source": [
    "# mathematical operations:"
   ]
  },
  {
   "cell_type": "code",
   "execution_count": 39,
   "id": "b54e04d9-237c-4e2b-901f-23a95a1a0d29",
   "metadata": {},
   "outputs": [
    {
     "name": "stdout",
     "output_type": "stream",
     "text": [
      "[      -inf 0.         0.69314718 1.09861229 1.38629436]\n",
      "[ 0.          0.84147098  0.90929743  0.14112001 -0.7568025 ]\n"
     ]
    },
    {
     "name": "stderr",
     "output_type": "stream",
     "text": [
      "C:\\Users\\ANANTH\\AppData\\Local\\Temp\\ipykernel_4144\\1510414748.py:2: RuntimeWarning: divide by zero encountered in log\n",
      "  print(np.log(arr))\n"
     ]
    }
   ],
   "source": [
    "arr = np.array([0, 1, 2, 3, 4])\n",
    "print(np.log(arr))\n",
    "print(np.sin(arr))"
   ]
  },
  {
   "cell_type": "code",
   "execution_count": 40,
   "id": "a1014bc3-c357-441b-9cc1-50a6da547ad5",
   "metadata": {},
   "outputs": [],
   "source": [
    "import warnings\n",
    "warnings.simplefilter(\"ignore\")"
   ]
  },
  {
   "cell_type": "code",
   "execution_count": 41,
   "id": "8083f0ab-636b-4b81-8a73-4b6d2be09d65",
   "metadata": {},
   "outputs": [
    {
     "name": "stdout",
     "output_type": "stream",
     "text": [
      "[      -inf 0.         0.69314718 1.09861229 1.38629436]\n",
      "[ 0.          0.84147098  0.90929743  0.14112001 -0.7568025 ]\n"
     ]
    }
   ],
   "source": [
    "arr = np.array([0, 1, 2, 3, 4])\n",
    "print(np.log(arr))\n",
    "print(np.sin(arr))"
   ]
  },
  {
   "cell_type": "markdown",
   "id": "99b69a22-fef8-463a-a2b3-f4b0672c7413",
   "metadata": {},
   "source": [
    "# 2-Dimensional array:\n",
    "    we can create 2-Dimensional array by multiple ways:\n",
    "    (1) np.zeros(shape of array, dtype)\n",
    "    (2) np.ones(shape of array, dtype)\n",
    "    (3) np.eye(row, column)\n",
    "    (4) np.diag(1d array)\n",
    "    (5) np.diag(2d array)"
   ]
  },
  {
   "cell_type": "code",
   "execution_count": 42,
   "id": "0064535d-e271-46ee-8a7b-8dff46e6e0a9",
   "metadata": {},
   "outputs": [
    {
     "data": {
      "text/plain": [
       "array([[ 1,  2],\n",
       "       [10, 20],\n",
       "       [34, 45],\n",
       "       [ 1,  9]])"
      ]
     },
     "execution_count": 42,
     "metadata": {},
     "output_type": "execute_result"
    }
   ],
   "source": [
    "l = [[1,2], [10,20], [34,45], [1,9]]\n",
    "a = np.array(l)\n",
    "a"
   ]
  },
  {
   "cell_type": "code",
   "execution_count": 43,
   "id": "de623ca9-db05-4140-94c6-66c57ccbb8f5",
   "metadata": {},
   "outputs": [
    {
     "name": "stdout",
     "output_type": "stream",
     "text": [
      "[[ 1  2]\n",
      " [10 20]\n",
      " [34 45]\n",
      " [ 1  9]]\n"
     ]
    }
   ],
   "source": [
    "print(a)"
   ]
  },
  {
   "cell_type": "code",
   "execution_count": 44,
   "id": "86449c7e-d08a-47be-aedf-58e3bf83f791",
   "metadata": {},
   "outputs": [
    {
     "data": {
      "text/plain": [
       "array([[0, 1, 2, 5],\n",
       "       [2, 3, 4, 5]])"
      ]
     },
     "execution_count": 44,
     "metadata": {},
     "output_type": "execute_result"
    }
   ],
   "source": [
    "l = [[0,1,2,5],[2,3,4,5]]\n",
    "b = np.array(l)\n",
    "b"
   ]
  },
  {
   "cell_type": "code",
   "execution_count": 45,
   "id": "eb74c1bf-accc-4af4-bf7f-0b8ff5e7af6c",
   "metadata": {},
   "outputs": [
    {
     "name": "stdout",
     "output_type": "stream",
     "text": [
      "4\n",
      "2\n",
      "(2, 4)\n"
     ]
    }
   ],
   "source": [
    "print(len(b[0]))\n",
    "print(b.ndim)\n",
    "print(b.shape)"
   ]
  },
  {
   "cell_type": "code",
   "execution_count": 46,
   "id": "06dfc6cc-745a-43f8-8670-2e222aa5c47b",
   "metadata": {},
   "outputs": [
    {
     "name": "stdout",
     "output_type": "stream",
     "text": [
      "[[0. 0. 0.]\n",
      " [0. 0. 0.]\n",
      " [0. 0. 0.]]\n"
     ]
    }
   ],
   "source": [
    "print(np.zeros((3,3)))"
   ]
  },
  {
   "cell_type": "code",
   "execution_count": 47,
   "id": "fee7975d-b439-4476-a3be-912ed0c35cad",
   "metadata": {},
   "outputs": [
    {
     "name": "stdout",
     "output_type": "stream",
     "text": [
      "[[0 0 0]\n",
      " [0 0 0]\n",
      " [0 0 0]]\n"
     ]
    }
   ],
   "source": [
    "print(np.zeros((3,3), dtype=int))"
   ]
  },
  {
   "cell_type": "code",
   "execution_count": 48,
   "id": "a3d83a1b-a1d5-4f8f-b19a-7657b17866a7",
   "metadata": {},
   "outputs": [
    {
     "name": "stdout",
     "output_type": "stream",
     "text": [
      "[[1. 1. 1.]\n",
      " [1. 1. 1.]\n",
      " [1. 1. 1.]]\n"
     ]
    }
   ],
   "source": [
    "print(np.ones((3,3)))"
   ]
  },
  {
   "cell_type": "code",
   "execution_count": 49,
   "id": "4eec2198-c411-4816-80ce-a8c8052acd0b",
   "metadata": {},
   "outputs": [
    {
     "name": "stdout",
     "output_type": "stream",
     "text": [
      "[[1 1 1]\n",
      " [1 1 1]\n",
      " [1 1 1]]\n"
     ]
    }
   ],
   "source": [
    "print(np.ones((3,3), dtype=int))"
   ]
  },
  {
   "cell_type": "code",
   "execution_count": 50,
   "id": "8cfce508-1510-4f58-808d-ebdd1bd6d524",
   "metadata": {},
   "outputs": [
    {
     "name": "stdout",
     "output_type": "stream",
     "text": [
      "[[1. 0.]\n",
      " [0. 1.]]\n"
     ]
    }
   ],
   "source": [
    "print(np.eye(2,2))"
   ]
  },
  {
   "cell_type": "code",
   "execution_count": 51,
   "id": "4feb4a1e-08cd-4a98-a76b-e6ec12bfa286",
   "metadata": {},
   "outputs": [
    {
     "name": "stdout",
     "output_type": "stream",
     "text": [
      "[[1. 0. 0.]\n",
      " [0. 1. 0.]\n",
      " [0. 0. 1.]]\n"
     ]
    }
   ],
   "source": [
    "print(np.eye(3,3))"
   ]
  },
  {
   "cell_type": "code",
   "execution_count": 53,
   "id": "dff840ee-75e6-472a-81bc-01e7bacdb2ea",
   "metadata": {},
   "outputs": [
    {
     "name": "stdout",
     "output_type": "stream",
     "text": [
      "[[1 0]\n",
      " [0 2]]\n"
     ]
    }
   ],
   "source": [
    "print(np.diag([1, 2]))"
   ]
  },
  {
   "cell_type": "code",
   "execution_count": 54,
   "id": "2078223c-2366-434a-9a7a-4b97913b523f",
   "metadata": {},
   "outputs": [
    {
     "name": "stdout",
     "output_type": "stream",
     "text": [
      "[[1 0 0 0 0]\n",
      " [0 2 0 0 0]\n",
      " [0 0 3 0 0]\n",
      " [0 0 0 4 0]\n",
      " [0 0 0 0 5]]\n"
     ]
    }
   ],
   "source": [
    "print(np.diag([1, 2, 3, 4, 5]))"
   ]
  },
  {
   "cell_type": "code",
   "execution_count": 55,
   "id": "10e23a05-8415-4d7e-a94b-e48563a396ab",
   "metadata": {},
   "outputs": [
    {
     "name": "stdout",
     "output_type": "stream",
     "text": [
      "[1 5 9]\n"
     ]
    }
   ],
   "source": [
    "print(np.diag([[1, 2, 3], [4, 5, 6], [7, 8, 9]]))"
   ]
  },
  {
   "cell_type": "markdown",
   "id": "3a378777-99c5-4135-82a5-a9972210202f",
   "metadata": {},
   "source": [
    "# Accessing the elements of 2-Dimension array:\n",
    "    we can access the element of array by multiple ways:\n",
    "    syntax(1): array[row index, column index]\n",
    "    synatx(2): array[row index]\n",
    "    syntax(3): array[start row index : end row index]"
   ]
  },
  {
   "cell_type": "code",
   "execution_count": 56,
   "id": "6431aea3-a98f-4d66-bbb8-566a356df7d8",
   "metadata": {},
   "outputs": [
    {
     "name": "stdout",
     "output_type": "stream",
     "text": [
      "[[10 20 50]\n",
      " [30 40 60]\n",
      " [70 80 90]]\n"
     ]
    }
   ],
   "source": [
    "arr = np.array([[10,20,50],[30,40,60],[70,80,90]])\n",
    "print(arr)"
   ]
  },
  {
   "cell_type": "code",
   "execution_count": 57,
   "id": "21e46e8d-1f95-4f99-958c-26a55db7224a",
   "metadata": {},
   "outputs": [
    {
     "data": {
      "text/plain": [
       "10"
      ]
     },
     "execution_count": 57,
     "metadata": {},
     "output_type": "execute_result"
    }
   ],
   "source": [
    "arr[0,0]"
   ]
  },
  {
   "cell_type": "code",
   "execution_count": 58,
   "id": "c3d7d836-6b6b-4d3f-822f-704247f874d2",
   "metadata": {},
   "outputs": [
    {
     "data": {
      "text/plain": [
       "60"
      ]
     },
     "execution_count": 58,
     "metadata": {},
     "output_type": "execute_result"
    }
   ],
   "source": [
    "arr[1, 2]"
   ]
  },
  {
   "cell_type": "code",
   "execution_count": 59,
   "id": "33e691ea-aa07-4389-aade-9f0acac3df7c",
   "metadata": {},
   "outputs": [
    {
     "data": {
      "text/plain": [
       "array([30, 40, 60])"
      ]
     },
     "execution_count": 59,
     "metadata": {},
     "output_type": "execute_result"
    }
   ],
   "source": [
    "arr[1]"
   ]
  },
  {
   "cell_type": "code",
   "execution_count": 60,
   "id": "4c1b8d1a-394b-4941-8f57-f92e638b515e",
   "metadata": {},
   "outputs": [
    {
     "data": {
      "text/plain": [
       "array([[30, 40, 60],\n",
       "       [70, 80, 90]])"
      ]
     },
     "execution_count": 60,
     "metadata": {},
     "output_type": "execute_result"
    }
   ],
   "source": [
    "arr[1:3]"
   ]
  },
  {
   "cell_type": "markdown",
   "id": "d71cf185-13e4-4fc2-9684-9a5a746f96ae",
   "metadata": {},
   "source": [
    "# Modifying the elements of 2D-array:\n",
    "    we can modify the value of array by multiple ways:\n",
    "    syntax(1): array[row index, column index] = value\n",
    "    syntax(2): array[row index] = list of elements depend on the row"
   ]
  },
  {
   "cell_type": "code",
   "execution_count": 61,
   "id": "6ef50e6a-b934-4754-a1fd-d212f96e21b3",
   "metadata": {},
   "outputs": [
    {
     "name": "stdout",
     "output_type": "stream",
     "text": [
      "[[10 20 50]\n",
      " [30 40 60]\n",
      " [70 80 90]]\n"
     ]
    }
   ],
   "source": [
    "arr = np.array([[10,20,50],[30,40,60],[70,80,90]])\n",
    "print(arr)"
   ]
  },
  {
   "cell_type": "code",
   "execution_count": 62,
   "id": "b7d7cb7b-b440-42fb-9b25-98442a356a04",
   "metadata": {},
   "outputs": [
    {
     "data": {
      "text/plain": [
       "array([[10, 20, 50],\n",
       "       [95, 40, 60],\n",
       "       [70, 80, 90]])"
      ]
     },
     "execution_count": 62,
     "metadata": {},
     "output_type": "execute_result"
    }
   ],
   "source": [
    "arr[1,0] = 95\n",
    "arr"
   ]
  },
  {
   "cell_type": "code",
   "execution_count": 63,
   "id": "8e1b702c-74b2-4654-96af-608f87a1f9ce",
   "metadata": {},
   "outputs": [
    {
     "data": {
      "text/plain": [
       "array([[10, 20, 50],\n",
       "       [25, 35, 55],\n",
       "       [70, 80, 90]])"
      ]
     },
     "execution_count": 63,
     "metadata": {},
     "output_type": "execute_result"
    }
   ],
   "source": [
    "arr[1] = [25, 35, 55]\n",
    "arr"
   ]
  },
  {
   "cell_type": "markdown",
   "id": "f5debd76-8877-473a-9e2e-a5c367c2f2ff",
   "metadata": {},
   "source": [
    "# Flattening: \n",
    "    converting a nd array to 1D array.\n",
    "    syntax: array.ravel()"
   ]
  },
  {
   "cell_type": "code",
   "execution_count": 65,
   "id": "045dd1a7-cfbc-45b4-8b34-f19e2adf4c8b",
   "metadata": {},
   "outputs": [
    {
     "name": "stdout",
     "output_type": "stream",
     "text": [
      "[0 1 2 3 4 5]\n"
     ]
    }
   ],
   "source": [
    "arr = np.array([[0,1,2],[3,4,5]])\n",
    "print(arr.ravel())"
   ]
  },
  {
   "cell_type": "code",
   "execution_count": 2,
   "id": "86d4f537-4f4d-4c45-88bd-af827a0a1133",
   "metadata": {},
   "outputs": [
    {
     "name": "stdout",
     "output_type": "stream",
     "text": [
      "(2, 3)\n",
      "(6,)\n"
     ]
    }
   ],
   "source": [
    "import numpy as np\n",
    "arr = np.array([[0,1,2],[3,4,5]])\n",
    "print(arr.shape)\n",
    "print(arr.ravel().shape)"
   ]
  },
  {
   "cell_type": "markdown",
   "id": "6f4351f7-7d79-4d85-98e6-b10de5b56bda",
   "metadata": {},
   "source": [
    "# Reshape of array:\n",
    "    (1) It will convert one shape of array into other\n",
    "    (2) firstly, It will convert any shape into 1D then converts to other shape depends on fesability"
   ]
  },
  {
   "cell_type": "code",
   "execution_count": 66,
   "id": "4339294f-3218-427d-8633-42d3814f530e",
   "metadata": {},
   "outputs": [
    {
     "name": "stdout",
     "output_type": "stream",
     "text": [
      "[0 1 2 3 4 5]\n",
      "(6,)\n"
     ]
    }
   ],
   "source": [
    "arr = np.arange(6)\n",
    "print(arr)\n",
    "print(arr.shape)"
   ]
  },
  {
   "cell_type": "code",
   "execution_count": 67,
   "id": "5e3cab0c-2faf-4ce4-b161-dbd6a0282184",
   "metadata": {},
   "outputs": [
    {
     "name": "stdout",
     "output_type": "stream",
     "text": [
      "[[0]\n",
      " [1]\n",
      " [2]\n",
      " [3]\n",
      " [4]\n",
      " [5]]\n"
     ]
    }
   ],
   "source": [
    "brr = arr.reshape(6,1)\n",
    "print(brr)"
   ]
  },
  {
   "cell_type": "code",
   "execution_count": 69,
   "id": "4a575745-0ad1-4b83-b792-8b40da436a3b",
   "metadata": {},
   "outputs": [
    {
     "name": "stdout",
     "output_type": "stream",
     "text": [
      "[[ 0  1  5]\n",
      " [10 50  8]]\n"
     ]
    }
   ],
   "source": [
    "arr = np.array([[0,1,5],[10,50,8]])\n",
    "print(arr)"
   ]
  },
  {
   "cell_type": "code",
   "execution_count": 70,
   "id": "2c7dc583-86ab-4876-aef8-ebc7a440b95c",
   "metadata": {},
   "outputs": [
    {
     "name": "stdout",
     "output_type": "stream",
     "text": [
      "(2, 3)\n"
     ]
    }
   ],
   "source": [
    "print(arr.shape)"
   ]
  },
  {
   "cell_type": "code",
   "execution_count": 71,
   "id": "1c715b5d-bdf1-423f-931c-af406841ab85",
   "metadata": {},
   "outputs": [
    {
     "name": "stdout",
     "output_type": "stream",
     "text": [
      "[[ 0  1]\n",
      " [ 5 10]\n",
      " [50  8]]\n"
     ]
    }
   ],
   "source": [
    "print(arr.reshape(3,2))"
   ]
  },
  {
   "cell_type": "markdown",
   "id": "c5ab5090-9bb2-4579-913a-3924df06b719",
   "metadata": {},
   "source": [
    "# Transpose of array:"
   ]
  },
  {
   "cell_type": "code",
   "execution_count": 72,
   "id": "6612f51d-f89b-41cd-b350-9abdf0f1f11a",
   "metadata": {},
   "outputs": [
    {
     "name": "stdout",
     "output_type": "stream",
     "text": [
      "[[ 0 10]\n",
      " [ 1 50]\n",
      " [ 5  8]]\n"
     ]
    }
   ],
   "source": [
    "crr = arr.T\n",
    "print(crr)"
   ]
  },
  {
   "cell_type": "markdown",
   "id": "ae623eb7-4ac9-4971-97dc-1a5527dc3b1a",
   "metadata": {},
   "source": [
    "# Sorting 2D array:\n",
    "    Here, axis=0(column wise) and axis=1(row wise)"
   ]
  },
  {
   "cell_type": "code",
   "execution_count": 73,
   "id": "deb9f611-ff5e-4d8c-89cf-a2e403853a06",
   "metadata": {},
   "outputs": [
    {
     "name": "stdout",
     "output_type": "stream",
     "text": [
      "[1 2 3 4 5 8 9]\n"
     ]
    }
   ],
   "source": [
    "arr = np.array([1,4,2,8,3,5,9])\n",
    "brr = np.sort(arr)\n",
    "print(brr)"
   ]
  },
  {
   "cell_type": "code",
   "execution_count": 75,
   "id": "5c29a5aa-21d1-436e-b06e-6e67171b6419",
   "metadata": {},
   "outputs": [
    {
     "name": "stdout",
     "output_type": "stream",
     "text": [
      "[[ 2  4  2]\n",
      " [ 5  8  6]\n",
      " [ 8  9 20]]\n"
     ]
    }
   ],
   "source": [
    "arr = np.array([[5, 4, 6], [2, 8, 2],[8, 9, 20]])\n",
    "print(np.sort(arr, axis=0))"
   ]
  },
  {
   "cell_type": "code",
   "execution_count": 76,
   "id": "c475a807-5f10-4fb3-8c2d-81044196bcd7",
   "metadata": {},
   "outputs": [
    {
     "name": "stdout",
     "output_type": "stream",
     "text": [
      "[[ 4  5  6]\n",
      " [ 2  2  8]\n",
      " [ 8  9 20]]\n"
     ]
    }
   ],
   "source": [
    "print(np.sort(arr, axis=1))"
   ]
  },
  {
   "cell_type": "markdown",
   "id": "128b0800-c082-41d4-a5e0-33c9f4935af2",
   "metadata": {},
   "source": [
    "# operation on 2D array:\n",
    "    To perform any kind of operation both the shapes of array should be same"
   ]
  },
  {
   "cell_type": "code",
   "execution_count": 78,
   "id": "f5629773-e6fb-4c3e-b2c1-e897736bcd13",
   "metadata": {},
   "outputs": [
    {
     "name": "stdout",
     "output_type": "stream",
     "text": [
      "[[41  6]\n",
      " [17 28]\n",
      " [39 50]]\n"
     ]
    }
   ],
   "source": [
    "arr = np.array([[1,2],[3,4],[5,6]])\n",
    "brr = np.array([[40,4],[14,24],[34,44]])\n",
    "print(arr+brr)"
   ]
  },
  {
   "cell_type": "code",
   "execution_count": 80,
   "id": "f3186765-9853-4228-979c-aa7326eea15a",
   "metadata": {},
   "outputs": [
    {
     "name": "stdout",
     "output_type": "stream",
     "text": [
      "[[ 5 12]\n",
      " [21 32]]\n"
     ]
    }
   ],
   "source": [
    "arr = np.array([[1,2],[3,4]])\n",
    "brr = np.array([[5,6],[7,8]])\n",
    "print(arr*brr)"
   ]
  },
  {
   "cell_type": "code",
   "execution_count": 81,
   "id": "f5d77864-537c-4c4b-a262-ee57ce3e1c3a",
   "metadata": {},
   "outputs": [
    {
     "name": "stdout",
     "output_type": "stream",
     "text": [
      "[[19 22]\n",
      " [43 50]]\n"
     ]
    }
   ],
   "source": [
    "arr = np.array([[1,2],[3,4]])\n",
    "brr = np.array([[5,6],[7,8]])\n",
    "crr = np.matmul(arr, brr)\n",
    "print(crr)"
   ]
  },
  {
   "cell_type": "markdown",
   "id": "968ee9b4-4fde-45da-9c09-34a4a772c420",
   "metadata": {},
   "source": [
    "# concatenate 2D array:"
   ]
  },
  {
   "cell_type": "code",
   "execution_count": 82,
   "id": "2f0f03cb-1240-49f9-ab19-64873a92c48b",
   "metadata": {},
   "outputs": [],
   "source": [
    "arr = np.array([[1,2],[3,4]])\n",
    "brr = np.array([[5,6],[7,8]])"
   ]
  },
  {
   "cell_type": "code",
   "execution_count": 83,
   "id": "fb4badf6-6f35-4331-bcab-a15523a54369",
   "metadata": {},
   "outputs": [
    {
     "name": "stdout",
     "output_type": "stream",
     "text": [
      "[[1 2]\n",
      " [3 4]\n",
      " [5 6]\n",
      " [7 8]]\n"
     ]
    }
   ],
   "source": [
    "print(np.concatenate((arr,brr), axis=0))"
   ]
  },
  {
   "cell_type": "code",
   "execution_count": 84,
   "id": "2af86b9d-f489-4e39-b400-fc4581966b4f",
   "metadata": {},
   "outputs": [
    {
     "name": "stdout",
     "output_type": "stream",
     "text": [
      "[[1 2]\n",
      " [3 4]\n",
      " [5 6]\n",
      " [7 8]]\n"
     ]
    }
   ],
   "source": [
    "print(np.vstack((arr,brr)))"
   ]
  },
  {
   "cell_type": "code",
   "execution_count": 85,
   "id": "471ba9c3-8b88-4280-b004-848a38773e57",
   "metadata": {},
   "outputs": [
    {
     "name": "stdout",
     "output_type": "stream",
     "text": [
      "[[1 2 5 6]\n",
      " [3 4 7 8]]\n"
     ]
    }
   ],
   "source": [
    "print(np.concatenate((arr,brr), axis=1))"
   ]
  },
  {
   "cell_type": "code",
   "execution_count": 86,
   "id": "90dd3fc8-e7da-4b29-910c-c128a02bdb53",
   "metadata": {},
   "outputs": [
    {
     "name": "stdout",
     "output_type": "stream",
     "text": [
      "[[1 2 5 6]\n",
      " [3 4 7 8]]\n"
     ]
    }
   ],
   "source": [
    "print(np.hstack((arr,brr)))"
   ]
  },
  {
   "cell_type": "code",
   "execution_count": null,
   "id": "7ed04f35-fec8-426e-831e-037bf53df999",
   "metadata": {},
   "outputs": [],
   "source": []
  }
 ],
 "metadata": {
  "kernelspec": {
   "display_name": "Python 3 (ipykernel)",
   "language": "python",
   "name": "python3"
  },
  "language_info": {
   "codemirror_mode": {
    "name": "ipython",
    "version": 3
   },
   "file_extension": ".py",
   "mimetype": "text/x-python",
   "name": "python",
   "nbconvert_exporter": "python",
   "pygments_lexer": "ipython3",
   "version": "3.11.7"
  }
 },
 "nbformat": 4,
 "nbformat_minor": 5
}
