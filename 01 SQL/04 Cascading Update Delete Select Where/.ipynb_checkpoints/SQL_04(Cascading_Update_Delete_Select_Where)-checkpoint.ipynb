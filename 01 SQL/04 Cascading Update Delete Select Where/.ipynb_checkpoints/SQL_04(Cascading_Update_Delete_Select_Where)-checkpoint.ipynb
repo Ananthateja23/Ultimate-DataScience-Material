{
 "cells": [
  {
   "cell_type": "markdown",
   "id": "db1d3cfa-30d3-4db4-a11f-0bf651d28120",
   "metadata": {},
   "source": [
    "### ***Foreign key:***\n",
    "\n",
    "#### - Foreign key helps to perform operations related to the parent table, such as joining tables or ensuring referential integrity\n",
    "```\n",
    "QUERY:\n",
    "\n",
    "    CREATE TABLE childtableName(\n",
    "    childId INT PRIMARY KEY,\n",
    "    baseId INT,\n",
    "    FOREIGN KEY (baseId) REFERENCES basetableName(basedId)\n",
    "    );\n",
    "```\n",
    "![](Images/Image_01(video11).png)\n",
    "![](Images/Image_02(video11).png)\n",
    "![](Images/Image_03(video11).png)"
   ]
  },
  {
   "cell_type": "markdown",
   "id": "b4bc835e-8953-4f48-b844-c9633827623e",
   "metadata": {},
   "source": [
    "### ***Cascading in Foreign Key:***\n",
    "#### Cascading are set of rules which dictate what actions should be taken automatically when a referenced row in the parent table is modified or deleted\n",
    "\n",
    "### (1) CASCADE: \n",
    "#### - If a row in the parent table is updated or deleted, all related rows in the child table will be automatically updated or deleted\n",
    "\n",
    "### (2) SET NULL: \n",
    "#### - If a row in the parent table is updated or deleted, all corresponding foreign key values in the child table will be set to NULL\n",
    "\n",
    "### (3) RESTRICT or NO ACTION: \n",
    "#### - Blocks the modification or deletion of referenced row in the parent table if related rows exist in the child table thus maintaining referential integrity\n",
    "\n",
    "### These cascading actions help maintain the integrity of the data across related tables in the database\n",
    "#### (1) ON DELETE CASCADE\n",
    "#### (2) ON UPDATE CASCADE\n",
    "\n",
    "\n",
    "### ***ON DELETE CASCADE:***\n",
    "\n",
    "#### - The `ON DELETE CASCADE` clause indicates that if a row in the parent table(parent_table) is deleted,\n",
    "#### - all corresponding rows in the child table(child_table) will be automatically deleted as well\n",
    "```\n",
    "QUERY:\n",
    "    CREATE TABLE childtableName(\n",
    "    childId INT PRIMARY KEY,\n",
    "    baseId INT\n",
    "    FOREIGN KEY (baseId) REFERENCES basetableName(basedId)\n",
    "    ON DELETE CASCADE\n",
    "    );\n",
    "```\n",
    "\n",
    "### ***ON UPDATE CASCADE:***\n",
    "\n",
    "#### - The `ON UPDATE CASCADE` clause indicates that if a row in the parent table(parent_table) is updated, \n",
    "#### - all corresponding rows in the child table(child_table) will be automatically updated as well\n",
    "```\n",
    "QUERY:\n",
    "\n",
    "    CREATE TABLE childtableName(\n",
    "    childId INT PRIMARY KEY,\n",
    "    baseId INT\n",
    "    FOREIGN KEY (baseId) REFERENCES basetableName(basedId)\n",
    "    ON UPDATE CASCADE\n",
    "    );\n",
    "```"
   ]
  },
  {
   "cell_type": "markdown",
   "id": "c3fe088c-ec03-41e1-bc72-81d8285b5dd3",
   "metadata": {},
   "source": [
    "----"
   ]
  },
  {
   "cell_type": "markdown",
   "id": "f81a14ba-0ff5-46f6-b463-eb372c2a3318",
   "metadata": {},
   "source": [
    "### Let's make a database for all SQL commands\n",
    "\n",
    "#### Let's make a Database for a company\n",
    "#### Requirements:\n",
    "\n",
    "#### 1. Make a database for a company xyz\n",
    "```\n",
    "command: \n",
    "\n",
    "CREATE DATABASE xyz;\n",
    "USE xyz;\n",
    "```\n",
    "![](Images/Image_04(video12).png)"
   ]
  },
  {
   "cell_type": "markdown",
   "id": "cb5d0614-335a-4971-915b-915fdfe6ee56",
   "metadata": {},
   "source": [
    "#### 2. Make an employee table in the xyz database\n",
    "```\n",
    "command:\n",
    "\n",
    "CREATE TABLE employee(\n",
    "id INT PRIMARY KEY,\n",
    "name VARCHAR(50),\n",
    "age INT,\n",
    "department VARCHAR(50),\n",
    "city VARCHAR(50),\n",
    "salary INT\n",
    ");\n",
    "```\n",
    "![](Images/Image_05(video12).png)"
   ]
  },
  {
   "cell_type": "markdown",
   "id": "4e8274c7-5214-4afb-850c-16a524f2923a",
   "metadata": {},
   "source": [
    "### 3. Fill details in the table\n",
    "```\n",
    "command:\n",
    "\n",
    "INSERT INTO employee(id, name, age, department, city, salary)\n",
    "VALUES\n",
    "(1, \"rahul\", 25, \"IT\", \"Mumbai\", 1500),\n",
    "(2, \"afsara\", 26, \"HR\", \"Pune\", 2000),\n",
    "(3, \"abhimanyu\", 27, \"IT\", \"Mumbai\", 2500),\n",
    "(4, \"aditya\", 25, \"Marketing\", \"Surat\", 2400),\n",
    "(5, \"raj\", 24, \"Finance\", \"Indore\", 1500);\n",
    "```\n",
    "![](Images/Image_06(video12).png)"
   ]
  },
  {
   "cell_type": "markdown",
   "id": "3142c027-f836-4190-9a72-d09aabf32c67",
   "metadata": {},
   "source": [
    "#### 4. See all the data in the table\n",
    "```\n",
    "command: SELECT * FROM employee;\n",
    "```\n",
    "![](Images/Image_07(video12).png)"
   ]
  },
  {
   "cell_type": "markdown",
   "id": "2322b86f-c920-4e3e-9844-f7ce6150ca9e",
   "metadata": {},
   "source": [
    "### ***UPDATE Command:***\n",
    "\n",
    "#### - The UPDATE command in SQL is used to modify existing records in a table.\n",
    "#### - If you get a safe mode error while executing queries run this query\n",
    "```\n",
    "QUERY:\n",
    "\n",
    "    SET SQL_SAFE_UPDATES = 0;\n",
    "```\n",
    "```\n",
    "QUERY:\n",
    "\n",
    "    UPDATE table_name\n",
    "    SET columnName1 = value1(to be set), columnName2 = value2(to be set)\n",
    "    WHERE condition;\n",
    "```"
   ]
  },
  {
   "cell_type": "markdown",
   "id": "e1c9c698-e413-41af-8494-334fa6c140e9",
   "metadata": {},
   "source": [
    "### ***UPDATE Command(Practice Question):***\n",
    "#### (1) Write a query to update the salary for all employees in the \"HR\" department to 50000\n",
    "```\n",
    "QUERY:\n",
    "\n",
    "    UPDATE employee\n",
    "    SET salary = 50000\n",
    "    WHERE department = \"HR\";\n",
    "```\n",
    "![](Images/Image_08(video12).png)\n",
    "![](Images/Image_09(video12).png)"
   ]
  },
  {
   "cell_type": "markdown",
   "id": "9e61e06e-e122-48ac-a80a-302b24824d6e",
   "metadata": {},
   "source": [
    "----"
   ]
  },
  {
   "cell_type": "markdown",
   "id": "f4b42526-6473-4956-8332-9486107e5101",
   "metadata": {},
   "source": [
    "### ***DELETE Command:***\n",
    "\n",
    "#### - The DELETE command in SQL is used to remove records from a table\n",
    "```\n",
    "QUERY:\n",
    "\n",
    "    DELETE FROM table_name\n",
    "    WHERE condition;\n",
    "```"
   ]
  },
  {
   "cell_type": "markdown",
   "id": "fa2120f4-026b-48d3-83d6-bc5a9e260045",
   "metadata": {},
   "source": [
    "### ***DELETE Command(Practice Question):***\n",
    "\n",
    "#### (1) Write a query to DELETE all records from the employee table where the department is \"IT\"\n",
    "```\n",
    "QUERY:\n",
    "\n",
    "    DELETE FROM employee\n",
    "    WHERE department=\"IT\";\n",
    "```\n",
    "![](Images/Image_10(video13).png)\n",
    "![](Images/Image_11(video13).png)"
   ]
  },
  {
   "cell_type": "markdown",
   "id": "60b82b1f-5147-46d3-a886-478d11ea596e",
   "metadata": {},
   "source": [
    "#### (2) Write a query to DELETE the record of an employee having name \"raj\"\n",
    "```\n",
    "QUERY:\n",
    "\n",
    "    DELETE FROM employee\n",
    "    WHERE name=\"raj\";\n",
    "```\n",
    "![](Images/Image_12(video13).png)\n",
    "![](Images/Image_13(video13).png)\n",
    "![](Images/Image_14(video13).png)"
   ]
  },
  {
   "cell_type": "markdown",
   "id": "cb5bffa6-2150-41cf-ac40-e18ace541779",
   "metadata": {},
   "source": [
    "----"
   ]
  },
  {
   "cell_type": "markdown",
   "id": "e0561f05-6a50-4764-980d-bcc3b3688e64",
   "metadata": {},
   "source": [
    "### ***Retrieving data from table:***\n",
    "\n",
    "### ***SELECT command:***\n",
    "\n",
    "#### - SELECT is a DQL(DataQueryLanguage) command. It is used to retrieve data from a database\n",
    "#### - We can provide specific columns from which we can retrive data\n",
    "\n",
    "#### - To retrive data present in specific column in a table\n",
    "```\n",
    "command: \n",
    "\n",
    "    SELECT column1, column2 FROM tableName;\n",
    "```\n",
    "![](Images/Image_15(video14).png)\n",
    "\n",
    "#### - To retrive all the data present in table\n",
    "```\n",
    "command:\n",
    "    \n",
    "    SELECT * FROM tableName;\n",
    "```\n",
    "![](Images/Image_16(video14).png)"
   ]
  },
  {
   "cell_type": "markdown",
   "id": "ec46a60b-c459-4de1-b374-4bc0fd4805cc",
   "metadata": {},
   "source": [
    "### ***Filtering data using the WHERE clause:***\n",
    "\n",
    "### WHERE clause:\n",
    "#### - It filters the rows based on specified condition\n",
    "```\n",
    "QUERY:\n",
    "\n",
    "    SELECT col1, col2 FROM tableName WHERE condition;\n",
    "```\n",
    "```\n",
    "QUERY:\n",
    "\n",
    "    SELECT * FROM employee WHERE age>20;\n",
    "```\n",
    "![](Images/Image_17(video15).png)\n",
    "![](Images/Image_18(video15).png)"
   ]
  },
  {
   "cell_type": "code",
   "execution_count": null,
   "id": "15a6d1cb-21e1-44e5-a4f6-84c88192d8ba",
   "metadata": {},
   "outputs": [],
   "source": []
  }
 ],
 "metadata": {
  "kernelspec": {
   "display_name": "Python 3 (ipykernel)",
   "language": "python",
   "name": "python3"
  },
  "language_info": {
   "codemirror_mode": {
    "name": "ipython",
    "version": 3
   },
   "file_extension": ".py",
   "mimetype": "text/x-python",
   "name": "python",
   "nbconvert_exporter": "python",
   "pygments_lexer": "ipython3",
   "version": "3.11.7"
  }
 },
 "nbformat": 4,
 "nbformat_minor": 5
}
