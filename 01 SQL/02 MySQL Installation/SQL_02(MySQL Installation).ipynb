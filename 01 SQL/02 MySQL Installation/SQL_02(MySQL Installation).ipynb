{
 "cells": [
  {
   "cell_type": "markdown",
   "id": "30b2f699-d03b-4c50-8305-ecaade064afb",
   "metadata": {},
   "source": [
    "### ***Installation of MySQL:***\n",
    "\n",
    "\n",
    "### (1) `MySQL Server:`\n",
    "#### - Database server where data is stored, managed and accessed\n",
    "\n",
    "### (2) `MySQL Workbench:`\n",
    "#### - It is a visual tool which is used for database design, development, administration and management\n",
    "#### -  It provides a user interface(UI) to interact with MySQL Server\n"
   ]
  },
  {
   "cell_type": "markdown",
   "id": "10989b59-a677-4f56-b42c-96f50233427e",
   "metadata": {},
   "source": [
    "----"
   ]
  },
  {
   "cell_type": "markdown",
   "id": "a7004fb4-2fa3-4445-aec2-a4e307368cc7",
   "metadata": {},
   "source": [
    "### ***Install the MySQL Installer:***\n",
    "\n",
    "#### - Go to the MySQL Official website: [MySQL](https://www.mysql.com/ \"Official site of MySQL\")\n",
    "\n",
    "#### - Go to Downloads\n",
    "\n",
    "#### - Select MySQL Community (GPL) Download at the bottom of the page\n",
    "\n",
    "#### - Choose MySQL Installer for windows, select the version and click on download\n",
    "\n",
    "#### - Follow the instructions and set the password. This password would be asked while creating a new connection"
   ]
  },
  {
   "cell_type": "markdown",
   "id": "3fac22c4-9fc0-420f-8b80-c583c2e32784",
   "metadata": {},
   "source": [
    "----"
   ]
  },
  {
   "cell_type": "markdown",
   "id": "6cf09701-0568-4277-b24d-cea3d27d0f94",
   "metadata": {},
   "source": [
    "## ***Follow the instruction to download and Install MySQL:***"
   ]
  },
  {
   "cell_type": "markdown",
   "id": "b02a6dea-9c8d-41b4-b494-87da9978a302",
   "metadata": {},
   "source": [
    "### ***- Click on download page***\n",
    "![](Installation_Images/Image_01.png)"
   ]
  },
  {
   "cell_type": "markdown",
   "id": "691b6f49-c159-41ac-8161-7da6648ef281",
   "metadata": {},
   "source": [
    "### ***- Click on MySQL Community (GPL) Downloads***\n",
    "![](Installation_Images/Image_02.png)"
   ]
  },
  {
   "cell_type": "markdown",
   "id": "0b6b05ba-8338-4df2-a4a2-61be05caf7f4",
   "metadata": {},
   "source": [
    "### ***- Click on MySQL Installer for windows***\n",
    "![](Installation_Images/Image_03.png)"
   ]
  },
  {
   "cell_type": "markdown",
   "id": "af810615-4366-4097-bded-c18b4d254d16",
   "metadata": {},
   "source": [
    "### ***- Select mysql-Installer-community-8.0.40.0.msi then click download button***\n",
    "![](Installation_Images/Image_04.png)"
   ]
  },
  {
   "cell_type": "markdown",
   "id": "0d87757f-b1af-4728-8d71-195cb1f56b51",
   "metadata": {},
   "source": [
    "### ***- Click on \"No thanks, just start my download\"***\n",
    "![](Installation_Images/Image_05.png)"
   ]
  },
  {
   "cell_type": "markdown",
   "id": "bf5056c6-c000-4878-b6fb-9352a4912800",
   "metadata": {},
   "source": [
    "### ***- Select the Custom checkbox and hit next button***\n",
    "![](Installation_Images/Image_06.png)"
   ]
  },
  {
   "cell_type": "markdown",
   "id": "2cb67072-b7a6-4a67-8c3e-6725e4c48739",
   "metadata": {},
   "source": [
    "### ***- Select the Products MySQL Server 8.0.40, MySQL Workbench 8.0.40, MySQL Shell 8.0.40***\n",
    "![](Installation_Images/Image_07.png)"
   ]
  },
  {
   "cell_type": "markdown",
   "id": "d1fc8db9-88ac-4a64-b840-36c66e5d7e75",
   "metadata": {},
   "source": [
    "### ***- Once all the Products appeared in Products to be installed then hit the next button***\n",
    "![](Installation_Images/Image_08.png)"
   ]
  },
  {
   "cell_type": "markdown",
   "id": "e088f939-efa4-43a1-9be5-3acbf598686a",
   "metadata": {},
   "source": [
    "### ***- Under Installation section, click on execute button and wait till all the products gets installed then hit next***\n",
    "![](Installation_Images/Image_11.png)"
   ]
  },
  {
   "cell_type": "markdown",
   "id": "07219768-9e61-475d-bea0-73c7b46a8d29",
   "metadata": {},
   "source": [
    "### ***- In Product Configuration section, follow the below images to setup the configuration***\n",
    "![](Installation_Images/Image_12.png)\n",
    "![](Installation_Images/Image_13.png)\n",
    "![](Installation_Images/Image_14.png)\n",
    "![](Installation_Images/Image_15.png)\n",
    "![](Installation_Images/Image_16.png)\n",
    "![](Installation_Images/Image_17.png)\n",
    "![](Installation_Images/Image_18.png)\n",
    "![](Installation_Images/Image_19.png)\n",
    "![](Installation_Images/Image_20.png)"
   ]
  },
  {
   "cell_type": "markdown",
   "id": "d0884e7f-adf9-4c00-b29b-3b395eb00930",
   "metadata": {},
   "source": [
    "### ***- Finally hit the finish button to complete the installation***\n",
    "![](Installation_Images/Image_21.png)"
   ]
  },
  {
   "cell_type": "code",
   "execution_count": null,
   "id": "f91e65bf-b7b2-4fb5-ae64-aeea6cf8bc4f",
   "metadata": {},
   "outputs": [],
   "source": []
  }
 ],
 "metadata": {
  "kernelspec": {
   "display_name": "Python 3 (ipykernel)",
   "language": "python",
   "name": "python3"
  },
  "language_info": {
   "codemirror_mode": {
    "name": "ipython",
    "version": 3
   },
   "file_extension": ".py",
   "mimetype": "text/x-python",
   "name": "python",
   "nbconvert_exporter": "python",
   "pygments_lexer": "ipython3",
   "version": "3.11.7"
  }
 },
 "nbformat": 4,
 "nbformat_minor": 5
}
