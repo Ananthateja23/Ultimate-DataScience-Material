{
 "cells": [
  {
   "cell_type": "markdown",
   "id": "bb52584b-a698-4a23-a60e-50fe686d620e",
   "metadata": {},
   "source": [
    "### ***Database:***\n",
    "#### - collection of data is called `database`\n",
    "#### ex: student database contains the data of students\n",
    "\n",
    "### ***DBMS:***\n",
    "#### - A software application used to manage our data"
   ]
  },
  {
   "cell_type": "markdown",
   "id": "0bd587d2-8916-4896-b8d8-2b138df8e7d1",
   "metadata": {},
   "source": [
    "### ***Understanding how user interact with database:***\n",
    "\n",
    "#### - user cannot interact with database directly\n",
    "#### - user uses a software application to write queries\n",
    "#### - later the software application decodes the query and perform required operation or actions on database"
   ]
  },
  {
   "cell_type": "markdown",
   "id": "2a4ddef2-cafa-4c55-9a0c-d972e545ef19",
   "metadata": {},
   "source": [
    "### ***Types of database:***\n",
    "\n",
    "#### (1) `Relational database :` database in which data is stored in table form\n",
    "#### ex: oracle, MySQL, mariadb\n",
    "#### (2) `Non Relational database :` database in which data is not stored in table form\n",
    "#### ex: mongo db"
   ]
  },
  {
   "cell_type": "markdown",
   "id": "4c72d7f3-bfed-479c-a3cf-b62bcc9bc733",
   "metadata": {},
   "source": [
    "### ***why SQL?***\n",
    "#### - we need a language to interact with database\n",
    "#### - so we use SQL to interact with database, do some CRUD operation on data\n",
    "\n",
    "### ***what is MYSQL?***\n",
    "#### - It is a Specific Relational database management system(RDBMS) that uses SQL as its query language"
   ]
  },
  {
   "cell_type": "markdown",
   "id": "5230309e-5d3f-4b42-95b4-de93fa31151a",
   "metadata": {},
   "source": [
    "----"
   ]
  },
  {
   "cell_type": "markdown",
   "id": "fd548b1b-979d-4719-a1b9-980be0f045e9",
   "metadata": {},
   "source": [
    "### ***History of SQL:***\n",
    "#### - SQL originated in the 1970 from IBM's research on relational database.\n",
    "#### - It started as SEQUEL(structured english query language), later renamed sql due to trademark issues"
   ]
  },
  {
   "cell_type": "markdown",
   "id": "f3298589-8991-45b9-9299-c8988312e271",
   "metadata": {},
   "source": [
    "### ***what is SQL?***\n",
    "\n",
    "#### - SQL is a programming language that is used to communicate and manipulate data in databases\n",
    "#### -  It helps user in performing CRUD(create, read, update, delete) operations in DB"
   ]
  },
  {
   "cell_type": "markdown",
   "id": "0ef6e6e7-86ea-449f-98f5-660bbac8e9c6",
   "metadata": {},
   "source": [
    "### ***HOW SQL helps us?***\n",
    "\n",
    "#### - SQL allows users to perform a variety of tasks related to database\n",
    "\n",
    "#### (1) `Retrieving data  :` Extracting precise information from a database through queries\n",
    "\n",
    "#### (2) `Manipulating data:` Adding, modifying or removing records within a database\n",
    "\n",
    "#### (3) `Defining data    :` Creating and adjusting the structure of a database including tables, views and indexes\n",
    "\n",
    "#### (4) `Controlling data :` managing database access by granting or revoking the permissions"
   ]
  },
  {
   "cell_type": "markdown",
   "id": "e227f1e8-d0a6-44d5-ab45-b117733377b7",
   "metadata": {},
   "source": [
    "### ***Types of SQL Commands:***\n",
    "\n",
    "#### - SQL commands are divided into different categories based on their functionalities\n",
    "\n",
    "### (1) Data Query Language(DQL Commands)\n",
    "#### - DQL is used to retrieve data from the database\n",
    "#### `command: SELECT`\n",
    "\n",
    "### (2) Data Manipulation Language(DML Commands)\n",
    "#### - DML is used to manipulate data stored in the database\n",
    "#### `commands: INSERT, UPDATE, DELETE`\n",
    "\n",
    "### (3) Data Definition Language(DDL Commands)\n",
    "#### - DDL is used to define the structure and schema of the database\n",
    "#### `commands: CREATE, ALTER, DROP, TRUNCATE, RENAME`\n",
    "\n",
    "### (4) Data Control Language(DCL Commands)\n",
    "#### - DCL deals with the control and security of data within the database\n",
    "#### `commands: GRANT, REVOKE`\n",
    "\n",
    "### (5) Transaction Control Language(TCL Commands)\n",
    "#### - TCL is used to manage transactions within a database\n",
    "#### `commands: COMMIT, ROLLBACK, SAVEPOINT`"
   ]
  },
  {
   "cell_type": "markdown",
   "id": "5c89a36d-039c-4fbd-8d38-9ef0c70f5ea1",
   "metadata": {},
   "source": [
    "----"
   ]
  },
  {
   "cell_type": "markdown",
   "id": "79f5f09a-fd61-4e58-8fbb-bca7b5f6c45d",
   "metadata": {},
   "source": [
    "### ***Important***\n",
    "#### - Follow the MySQL installation jupyter notebook to complete the Installation setup"
   ]
  },
  {
   "cell_type": "markdown",
   "id": "6f6d6bef-a4bf-454a-adc1-dc00343c8385",
   "metadata": {},
   "source": [
    "### ***Creation of Database:***\n",
    "#### - Lets understand database design from an example, consider a college database\n",
    "\n",
    "#### - database: School\n",
    "#### - table1: Student(Sname, Rollno)\n",
    "#### - table2: Teacher(Tname, Tid)\n",
    "#### - Sname, Rollno, Tname, Tid are `attributes or characteristics`"
   ]
  },
  {
   "cell_type": "markdown",
   "id": "fa0b57bb-b0fe-4867-9c46-47fbf2cea8a2",
   "metadata": {},
   "source": [
    "### ***schema:***\n",
    "#### - all the information of tables and their attributes is known as `schema`\n",
    "### ***points important:***\n",
    "#### - establish a server connection to create a database\n",
    "#### - we can create multiple databases with different names in single server\n",
    "#### - we can create multiple tables in single database"
   ]
  },
  {
   "cell_type": "markdown",
   "id": "e554d94c-3bd1-4d72-a484-195f9d476ae3",
   "metadata": {},
   "source": [
    "### ***Steps to create a Database:***\n",
    "\n",
    "#### - Choose a DBMS(Database Management System)\n",
    "#### - Connect to the server using command line tool or a graphical user interface\n",
    "#### - Create a new Database\n",
    "#### - Once the database is created, you can use the USE statement to create tables in the database\n",
    "#### - Create Tables and insert data"
   ]
  },
  {
   "cell_type": "markdown",
   "id": "39ab043f-8bc2-4948-af10-eeee7f82512d",
   "metadata": {},
   "source": [
    "### ***Creating a new Database:***\n",
    "\n",
    "\n",
    "#### - we use the CREATE DATABASE statement to create a new database\n",
    "#### - These commands are not case-sensitive\n",
    "```\n",
    "command:  CREATE DATABASE databaseName;\n",
    "```\n",
    "#### - Also to avoid errors we can use:\n",
    "```\n",
    "command: CREATE DATABASE IF NOT EXISTS databaseName;\n",
    "```\n",
    "#### - IF NOT EXISTS and IF EXISTS clauses are commonly used in conjunction with the CREATE TABLE and DROP TABLE statements to avoid errors\n",
    "### ***Example_01:***\n",
    "![](Database_Command_Images/Image_01.png)\n",
    "### ***Example_02:***\n",
    "![](Database_Command_Images/Image_02.png)\n",
    "### ***Example_03:***\n",
    "![](Database_Command_Images/Image_03.png)"
   ]
  },
  {
   "cell_type": "markdown",
   "id": "ee9fe05b-b5f7-4ef2-bb81-b95281f81593",
   "metadata": {},
   "source": [
    "### ***Deletion of Database:***\n",
    "\n",
    "#### - we use the DROP DATABASE statement to delete a database\n",
    "#### - Dropping a database means deleting the entire database, including all tables, data and other objects within it. DROP is a DDL Command\n",
    "#### - These commands are not case-sensitive\n",
    "```\n",
    "command: DROP DATABASE databaseName;\n",
    "```\n",
    "#### - Also to avoid errors we can use:\n",
    "```\n",
    "command: DROP DATABASE IF EXISTS databaseName;\n",
    "```\n",
    "### ***Example_01:***\n",
    "![](Database_Command_Images/Image_04.png)\n",
    "### ***Example_02:***\n",
    "![](Database_Command_Images/Image_05.png)\n",
    "### ***Example_03:***\n",
    "![](Database_Command_Images/Image_06.png)"
   ]
  },
  {
   "cell_type": "markdown",
   "id": "976b3c89-9db1-4d37-8147-4678c3c2b40f",
   "metadata": {},
   "source": [
    "### ***Using a Database:***\n",
    "\n",
    "#### - we use the USE DATABASE statement to use a database\n",
    "#### - These commands are not case-sensitive\n",
    "```\n",
    "command: USE databaseName;\n",
    "```\n",
    "### ***Example_01:***\n",
    "![](Database_Command_Images/Image_07.png)\n",
    "### ***Example_02:***\n",
    "![](Database_Command_Images/Image_08.png)"
   ]
  },
  {
   "cell_type": "markdown",
   "id": "16fdaf7a-c6a7-4f74-8d8e-2597e4cd7b21",
   "metadata": {},
   "source": [
    "### ***Showing a Database:***\n",
    "\n",
    "#### - We use the SHOW DATABASE statement to see all the databases present in a server\n",
    "```\n",
    "command: SHOW DATABASES;\n",
    "```\n",
    "### ***Example_01:***\n",
    "![](Database_Command_Images/Image_09.png)"
   ]
  },
  {
   "cell_type": "code",
   "execution_count": null,
   "id": "6a4a2413-efa7-4e3c-b5ec-2f4606064dde",
   "metadata": {},
   "outputs": [],
   "source": []
  }
 ],
 "metadata": {
  "kernelspec": {
   "display_name": "Python 3 (ipykernel)",
   "language": "python",
   "name": "python3"
  },
  "language_info": {
   "codemirror_mode": {
    "name": "ipython",
    "version": 3
   },
   "file_extension": ".py",
   "mimetype": "text/x-python",
   "name": "python",
   "nbconvert_exporter": "python",
   "pygments_lexer": "ipython3",
   "version": "3.11.7"
  }
 },
 "nbformat": 4,
 "nbformat_minor": 5
}
